{
 "cells": [
  {
   "cell_type": "code",
   "execution_count": 72,
   "id": "initial_id",
   "metadata": {
    "ExecuteTime": {
     "end_time": "2024-11-28T07:26:41.095468Z",
     "start_time": "2024-11-28T07:26:41.057321Z"
    },
    "collapsed": true
   },
   "outputs": [],
   "source": [
    "import pandas as pd\n",
    "import matplotlib.pyplot as plt\n",
    "import matplotlib.colors as mcolors\n",
    "import seaborn as sns \n",
    "import numpy as np\n",
    "import glob\n",
    "import re\n",
    "\n",
    "from toolz.curried import unique\n"
   ]
  },
  {
   "cell_type": "code",
   "execution_count": 64,
   "id": "f0dbd5f1909a557c",
   "metadata": {
    "ExecuteTime": {
     "end_time": "2024-11-28T07:26:41.114192Z",
     "start_time": "2024-11-28T07:26:41.096977Z"
    },
    "collapsed": false
   },
   "outputs": [],
   "source": [
    "# beige_color = (255/255,253/255,250/255)\n",
    "beige_color = '#FFFDFA'\n",
    "\n",
    "# sns.set_theme(style=\"ticks\", rc={'figure.facecolor': beige_color, 'axes.facecolor' : beige_color})\n",
    "sns.set_theme(style=\"ticks\")\n",
    "# sns.set_context(\"talk\")\n",
    "# sns.set_context(\"poster\")\n"
   ]
  },
  {
   "cell_type": "code",
   "execution_count": 27,
   "id": "2c0f7444c72510b0",
   "metadata": {
    "ExecuteTime": {
     "end_time": "2024-11-28T07:28:26.865952Z",
     "start_time": "2024-11-28T07:28:26.851033Z"
    },
    "collapsed": false
   },
   "outputs": [
    {
     "name": "stdout",
     "output_type": "stream",
     "text": [
      "59\n"
     ]
    }
   ],
   "source": [
    "# path = \"results/linear_multi\"\n",
    "# path = \"Simulations/results/lin\"\n",
    "path = \"Simulations/results/lin/bym0512\"\n",
    "all_file = glob.glob(path + \"/*.csv\")\n",
    "print(len(all_file))"
   ]
  },
  {
   "cell_type": "code",
   "execution_count": 28,
   "id": "a173bca91a54fd83",
   "metadata": {
    "ExecuteTime": {
     "end_time": "2024-11-28T07:28:29.488267Z",
     "start_time": "2024-11-28T07:28:29.074050Z"
    }
   },
   "outputs": [
    {
     "name": "stdout",
     "output_type": "stream",
     "text": [
      "['Linear_oracle' 'BYM_oracle' 'Linear_observed' 'BYM_observed' 'Linear_3S'\n",
      " 'BYM_3S' 'Linear_1S' 'BYM_1S']\n",
      "['Linear' 'BYM']\n",
      "['oracle' 'observed' '3S' '1S']\n"
     ]
    }
   ],
   "source": [
    "lin_dfs = [pd.read_csv(f) for f in all_file]\n",
    "combined_df = pd.concat(lin_dfs)\n",
    "# combined_df['method'] = combined_df['method'].replace({\n",
    "#     'BYM_1S_rep': 'BYMrep_1S',\n",
    "#     'BYM_3S_rep': 'BYMrep_3S',\n",
    "#     'Linear_3S_rep' : 'Linearrep_3S',\n",
    "#     'Linear_1S_rep' : 'Linearrep_1S',\n",
    "# })\n",
    "\n",
    "combined_df[['model', 'type']] = combined_df['method'].str.split('_', expand=True)\n",
    "# combined_df[combined_df[\"method\"] in [\"BYM_1S_rep\",]]\n",
    "# print(combined_df.head(5))\n",
    "print(combined_df['method'].unique())\n",
    "print(combined_df['model'].unique())\n",
    "print(combined_df['type'].unique())"
   ]
  },
  {
   "cell_type": "code",
   "execution_count": 29,
   "id": "6df6757ac6b99b30",
   "metadata": {
    "ExecuteTime": {
     "end_time": "2024-11-28T07:28:30.254334Z",
     "start_time": "2024-11-28T07:28:30.237420Z"
    }
   },
   "outputs": [
    {
     "name": "stdout",
     "output_type": "stream",
     "text": [
      "Index(['idx', 'mean', 'median', 'true', 'bias', 'std', 'RMSE', 'RMSE_all',\n",
      "       'MAE', 'MAE_all', 'MAPE', 'MAPE_all', 'rel_RMSE', 'rel_RMSE_all',\n",
      "       'q025', 'q975', 'covering', 'mean_ind_cover', 'method', 'estimand',\n",
      "       'TRUE', 'model', 'type'],\n",
      "      dtype='object') (9152, 23)\n"
     ]
    }
   ],
   "source": [
    "print(combined_df.columns, combined_df.shape)"
   ]
  },
  {
   "cell_type": "code",
   "execution_count": 30,
   "id": "19aafa6894d20d9e",
   "metadata": {
    "ExecuteTime": {
     "end_time": "2024-11-28T07:28:31.847005Z",
     "start_time": "2024-11-28T07:28:31.801276Z"
    },
    "collapsed": false
   },
   "outputs": [],
   "source": [
    "combined_df[['bias','median','true','mean','std','RMSE','RMSE_all','MAE', 'MAE_all', 'MAPE', 'MAPE_all', 'rel_RMSE', 'rel_RMSE_all',\n",
    "             'q025','q975','covering','mean_ind_cover']] = combined_df[['bias','median','true','mean','std','RMSE','RMSE_all','MAE', 'MAE_all', 'MAPE', 'MAPE_all', 'rel_RMSE', 'rel_RMSE_all',\n",
    "                                                                        'q025','q975','covering', 'mean_ind_cover']].apply(pd.to_numeric, errors='coerce')\n",
    "\n",
    "# combined_df[['bias','median','true','mean','std','RMSE','RMSE_all','MAE', 'MAE_all', 'q025','q975','covering','mean_ind_cover']] = combined_df[['bias','median','true','mean','std','RMSE','RMSE_all','MAE', 'MAE_all', \n",
    "#                                                                         'q025','q975','covering', 'mean_ind_cover']].apply(pd.to_numeric, errors='coerce')"
   ]
  },
  {
   "cell_type": "code",
   "execution_count": 31,
   "id": "f05115ed993ad881",
   "metadata": {
    "ExecuteTime": {
     "end_time": "2024-11-28T07:28:32.846155Z",
     "start_time": "2024-11-28T07:28:32.827903Z"
    },
    "collapsed": false
   },
   "outputs": [],
   "source": [
    "# combined_df = combined_df.apply(pd.to_numeric, errors='coerce')\n",
    "\n",
    "\n",
    "combined_df['type'] = combined_df['type'].replace('observed',\"Obs.\")\n",
    "combined_df['type'] = combined_df['type'].replace('oracle',\"Oracle\")\n",
    "combined_df['type'] = combined_df['type'].replace('plugin',\"Plugin\")\n",
    "combined_df['abs_bias'] = np.abs(combined_df['bias'])\n",
    "combined_df['ci_length'] = combined_df['q975'] - combined_df['q025']\n",
    "# combined_df['MAPE_manual'] = np.abs((combined_df['mean']-combined_df['true'])/combined_df['true'])\n",
    "# combined_df['rel_RMSE'] = np.square((combined_df['mean']-combined_df['true'])/combined_df['true'])\n",
    "\n",
    "# combined_df.to_csv(\"results/linear_dgp_N300.csv\")\n"
   ]
  },
  {
   "cell_type": "code",
   "execution_count": 32,
   "id": "bd60242c826af273",
   "metadata": {
    "ExecuteTime": {
     "end_time": "2024-11-28T07:28:33.705823Z",
     "start_time": "2024-11-28T07:28:33.683431Z"
    }
   },
   "outputs": [
    {
     "name": "stdout",
     "output_type": "stream",
     "text": [
      "idx               float64\n",
      "mean              float64\n",
      "median            float64\n",
      "true              float64\n",
      "bias              float64\n",
      "std               float64\n",
      "RMSE              float64\n",
      "RMSE_all          float64\n",
      "MAE               float64\n",
      "MAE_all           float64\n",
      "MAPE              float64\n",
      "MAPE_all          float64\n",
      "rel_RMSE          float64\n",
      "rel_RMSE_all      float64\n",
      "q025              float64\n",
      "q975              float64\n",
      "covering          float64\n",
      "mean_ind_cover    float64\n",
      "method             object\n",
      "estimand           object\n",
      "TRUE              float64\n",
      "model              object\n",
      "type               object\n",
      "abs_bias          float64\n",
      "ci_length         float64\n",
      "dtype: object\n"
     ]
    }
   ],
   "source": [
    "# print dtype of each column \n",
    "print(combined_df.dtypes)"
   ]
  },
  {
   "cell_type": "code",
   "execution_count": 33,
   "id": "8e1c8f5c56cf9ea1",
   "metadata": {
    "ExecuteTime": {
     "end_time": "2024-11-28T07:28:35.397067Z",
     "start_time": "2024-11-28T07:28:35.065216Z"
    }
   },
   "outputs": [
    {
     "name": "stdout",
     "output_type": "stream",
     "text": [
      "51\n",
      "0.46700002\n"
     ]
    },
    {
     "data": {
      "image/png": "[encoded data removed]",
      "text/plain": [
       "<Figure size 640x480 with 1 Axes>"
      ]
     },
     "metadata": {},
     "output_type": "display_data"
    }
   ],
   "source": [
    "plt.hist(combined_df[combined_df['type'] == '3S']['MAE'], bins=50, alpha=0.5, label='Observed')\n",
    "\n",
    "err_mask = (combined_df['type'].values == '3S') & (combined_df['MAE'].values > 3)\n",
    "print(err_mask.sum())\n",
    "\n",
    "print(combined_df[combined_df['type'] == '3S']['MAE'].median())\n"
   ]
  },
  {
   "cell_type": "code",
   "execution_count": 34,
   "id": "671b5817fd42966a",
   "metadata": {
    "ExecuteTime": {
     "end_time": "2024-11-28T07:28:37.833293Z",
     "start_time": "2024-11-28T07:28:37.813696Z"
    }
   },
   "outputs": [
    {
     "name": "stdout",
     "output_type": "stream",
     "text": [
      "(8608, 25)\n"
     ]
    }
   ],
   "source": [
    "err_mask = (combined_df['type'].values == '3S') & (combined_df['MAE'].values > 3)\n",
    "err_idx = combined_df[err_mask]['idx'].unique()\n",
    "combined_df = combined_df[~combined_df['idx'].isin(err_idx)]\n",
    "print(combined_df.shape)"
   ]
  },
  {
   "cell_type": "code",
   "execution_count": 35,
   "id": "6e82ff4f1bb07c6c",
   "metadata": {
    "ExecuteTime": {
     "end_time": "2024-11-28T07:27:13.375960Z",
     "start_time": "2024-11-28T07:27:13.316551Z"
    }
   },
   "outputs": [
    {
     "data": {
      "text/html": [
       "<div>\n",
       "<style scoped>\n",
       "    .dataframe tbody tr th:only-of-type {\n",
       "        vertical-align: middle;\n",
       "    }\n",
       "\n",
       "    .dataframe tbody tr th {\n",
       "        vertical-align: top;\n",
       "    }\n",
       "\n",
       "    .dataframe thead th {\n",
       "        text-align: right;\n",
       "    }\n",
       "</style>\n",
       "<table border=\"1\" class=\"dataframe\">\n",
       "  <thead>\n",
       "    <tr style=\"text-align: right;\">\n",
       "      <th></th>\n",
       "      <th>idx</th>\n",
       "      <th>mean</th>\n",
       "      <th>median</th>\n",
       "      <th>true</th>\n",
       "      <th>bias</th>\n",
       "      <th>std</th>\n",
       "      <th>RMSE</th>\n",
       "      <th>RMSE_all</th>\n",
       "      <th>MAE</th>\n",
       "      <th>MAE_all</th>\n",
       "      <th>...</th>\n",
       "      <th>q975</th>\n",
       "      <th>covering</th>\n",
       "      <th>mean_ind_cover</th>\n",
       "      <th>method</th>\n",
       "      <th>estimand</th>\n",
       "      <th>TRUE</th>\n",
       "      <th>model</th>\n",
       "      <th>type</th>\n",
       "      <th>abs_bias</th>\n",
       "      <th>ci_length</th>\n",
       "    </tr>\n",
       "  </thead>\n",
       "  <tbody>\n",
       "    <tr>\n",
       "      <th>0</th>\n",
       "      <td>1.0</td>\n",
       "      <td>0.528</td>\n",
       "      <td>0.526</td>\n",
       "      <td>0.692</td>\n",
       "      <td>-0.164</td>\n",
       "      <td>0.069</td>\n",
       "      <td>0.294</td>\n",
       "      <td>0.319</td>\n",
       "      <td>0.164</td>\n",
       "      <td>0.168</td>\n",
       "      <td>...</td>\n",
       "      <td>0.666</td>\n",
       "      <td>0.0</td>\n",
       "      <td>0.896</td>\n",
       "      <td>Linear_oracle</td>\n",
       "      <td>dynamic</td>\n",
       "      <td>NaN</td>\n",
       "      <td>Linear</td>\n",
       "      <td>Oracle</td>\n",
       "      <td>0.164</td>\n",
       "      <td>0.269</td>\n",
       "    </tr>\n",
       "    <tr>\n",
       "      <th>1</th>\n",
       "      <td>1.0</td>\n",
       "      <td>0.731</td>\n",
       "      <td>0.690</td>\n",
       "      <td>0.692</td>\n",
       "      <td>0.039</td>\n",
       "      <td>0.201</td>\n",
       "      <td>0.227</td>\n",
       "      <td>0.510</td>\n",
       "      <td>0.105</td>\n",
       "      <td>0.185</td>\n",
       "      <td>...</td>\n",
       "      <td>1.228</td>\n",
       "      <td>1.0</td>\n",
       "      <td>1.000</td>\n",
       "      <td>BYM_oracle</td>\n",
       "      <td>dynamic</td>\n",
       "      <td>NaN</td>\n",
       "      <td>BYM</td>\n",
       "      <td>Oracle</td>\n",
       "      <td>0.039</td>\n",
       "      <td>0.765</td>\n",
       "    </tr>\n",
       "    <tr>\n",
       "      <th>2</th>\n",
       "      <td>1.0</td>\n",
       "      <td>1.997</td>\n",
       "      <td>1.992</td>\n",
       "      <td>2.620</td>\n",
       "      <td>-0.623</td>\n",
       "      <td>0.258</td>\n",
       "      <td>0.646</td>\n",
       "      <td>0.705</td>\n",
       "      <td>0.623</td>\n",
       "      <td>0.626</td>\n",
       "      <td>...</td>\n",
       "      <td>2.516</td>\n",
       "      <td>0.0</td>\n",
       "      <td>0.050</td>\n",
       "      <td>Linear_oracle</td>\n",
       "      <td>stoch</td>\n",
       "      <td>NaN</td>\n",
       "      <td>Linear</td>\n",
       "      <td>Oracle</td>\n",
       "      <td>0.623</td>\n",
       "      <td>1.010</td>\n",
       "    </tr>\n",
       "    <tr>\n",
       "      <th>3</th>\n",
       "      <td>1.0</td>\n",
       "      <td>2.773</td>\n",
       "      <td>2.616</td>\n",
       "      <td>2.620</td>\n",
       "      <td>0.153</td>\n",
       "      <td>0.766</td>\n",
       "      <td>0.171</td>\n",
       "      <td>0.810</td>\n",
       "      <td>0.160</td>\n",
       "      <td>0.568</td>\n",
       "      <td>...</td>\n",
       "      <td>4.665</td>\n",
       "      <td>1.0</td>\n",
       "      <td>1.000</td>\n",
       "      <td>BYM_oracle</td>\n",
       "      <td>stoch</td>\n",
       "      <td>NaN</td>\n",
       "      <td>BYM</td>\n",
       "      <td>Oracle</td>\n",
       "      <td>0.153</td>\n",
       "      <td>2.909</td>\n",
       "    </tr>\n",
       "    <tr>\n",
       "      <th>4</th>\n",
       "      <td>1.0</td>\n",
       "      <td>0.278</td>\n",
       "      <td>0.277</td>\n",
       "      <td>0.692</td>\n",
       "      <td>-0.414</td>\n",
       "      <td>0.075</td>\n",
       "      <td>0.567</td>\n",
       "      <td>0.580</td>\n",
       "      <td>0.423</td>\n",
       "      <td>0.427</td>\n",
       "      <td>...</td>\n",
       "      <td>0.425</td>\n",
       "      <td>0.0</td>\n",
       "      <td>0.262</td>\n",
       "      <td>Linear_observed</td>\n",
       "      <td>dynamic</td>\n",
       "      <td>NaN</td>\n",
       "      <td>Linear</td>\n",
       "      <td>Obs.</td>\n",
       "      <td>0.414</td>\n",
       "      <td>0.292</td>\n",
       "    </tr>\n",
       "    <tr>\n",
       "      <th>...</th>\n",
       "      <td>...</td>\n",
       "      <td>...</td>\n",
       "      <td>...</td>\n",
       "      <td>...</td>\n",
       "      <td>...</td>\n",
       "      <td>...</td>\n",
       "      <td>...</td>\n",
       "      <td>...</td>\n",
       "      <td>...</td>\n",
       "      <td>...</td>\n",
       "      <td>...</td>\n",
       "      <td>...</td>\n",
       "      <td>...</td>\n",
       "      <td>...</td>\n",
       "      <td>...</td>\n",
       "      <td>...</td>\n",
       "      <td>...</td>\n",
       "      <td>...</td>\n",
       "      <td>...</td>\n",
       "      <td>...</td>\n",
       "      <td>...</td>\n",
       "    </tr>\n",
       "    <tr>\n",
       "      <th>155</th>\n",
       "      <td>504.0</td>\n",
       "      <td>1.941</td>\n",
       "      <td>1.814</td>\n",
       "      <td>2.620</td>\n",
       "      <td>-0.679</td>\n",
       "      <td>0.593</td>\n",
       "      <td>0.839</td>\n",
       "      <td>1.067</td>\n",
       "      <td>0.701</td>\n",
       "      <td>0.872</td>\n",
       "      <td>...</td>\n",
       "      <td>3.463</td>\n",
       "      <td>1.0</td>\n",
       "      <td>0.990</td>\n",
       "      <td>BYM_3S</td>\n",
       "      <td>stoch</td>\n",
       "      <td>NaN</td>\n",
       "      <td>BYM</td>\n",
       "      <td>3S</td>\n",
       "      <td>0.679</td>\n",
       "      <td>2.258</td>\n",
       "    </tr>\n",
       "    <tr>\n",
       "      <th>156</th>\n",
       "      <td>504.0</td>\n",
       "      <td>0.580</td>\n",
       "      <td>0.577</td>\n",
       "      <td>0.692</td>\n",
       "      <td>-0.112</td>\n",
       "      <td>0.090</td>\n",
       "      <td>0.372</td>\n",
       "      <td>0.394</td>\n",
       "      <td>0.257</td>\n",
       "      <td>0.269</td>\n",
       "      <td>...</td>\n",
       "      <td>0.767</td>\n",
       "      <td>1.0</td>\n",
       "      <td>0.426</td>\n",
       "      <td>Linear_1S</td>\n",
       "      <td>dynamic</td>\n",
       "      <td>NaN</td>\n",
       "      <td>Linear</td>\n",
       "      <td>1S</td>\n",
       "      <td>0.112</td>\n",
       "      <td>0.352</td>\n",
       "    </tr>\n",
       "    <tr>\n",
       "      <th>157</th>\n",
       "      <td>504.0</td>\n",
       "      <td>0.670</td>\n",
       "      <td>0.646</td>\n",
       "      <td>0.692</td>\n",
       "      <td>-0.022</td>\n",
       "      <td>0.152</td>\n",
       "      <td>0.244</td>\n",
       "      <td>0.390</td>\n",
       "      <td>0.188</td>\n",
       "      <td>0.256</td>\n",
       "      <td>...</td>\n",
       "      <td>1.041</td>\n",
       "      <td>1.0</td>\n",
       "      <td>0.576</td>\n",
       "      <td>BYM_1S</td>\n",
       "      <td>dynamic</td>\n",
       "      <td>NaN</td>\n",
       "      <td>BYM</td>\n",
       "      <td>1S</td>\n",
       "      <td>0.022</td>\n",
       "      <td>0.599</td>\n",
       "    </tr>\n",
       "    <tr>\n",
       "      <th>158</th>\n",
       "      <td>504.0</td>\n",
       "      <td>2.154</td>\n",
       "      <td>2.145</td>\n",
       "      <td>2.620</td>\n",
       "      <td>-0.466</td>\n",
       "      <td>0.330</td>\n",
       "      <td>0.619</td>\n",
       "      <td>0.714</td>\n",
       "      <td>0.512</td>\n",
       "      <td>0.573</td>\n",
       "      <td>...</td>\n",
       "      <td>2.839</td>\n",
       "      <td>1.0</td>\n",
       "      <td>0.690</td>\n",
       "      <td>Linear_1S</td>\n",
       "      <td>stoch</td>\n",
       "      <td>NaN</td>\n",
       "      <td>Linear</td>\n",
       "      <td>1S</td>\n",
       "      <td>0.466</td>\n",
       "      <td>1.290</td>\n",
       "    </tr>\n",
       "    <tr>\n",
       "      <th>159</th>\n",
       "      <td>504.0</td>\n",
       "      <td>2.496</td>\n",
       "      <td>2.405</td>\n",
       "      <td>2.620</td>\n",
       "      <td>-0.124</td>\n",
       "      <td>0.567</td>\n",
       "      <td>0.421</td>\n",
       "      <td>0.726</td>\n",
       "      <td>0.329</td>\n",
       "      <td>0.556</td>\n",
       "      <td>...</td>\n",
       "      <td>3.878</td>\n",
       "      <td>1.0</td>\n",
       "      <td>0.994</td>\n",
       "      <td>BYM_1S</td>\n",
       "      <td>stoch</td>\n",
       "      <td>NaN</td>\n",
       "      <td>BYM</td>\n",
       "      <td>1S</td>\n",
       "      <td>0.124</td>\n",
       "      <td>2.224</td>\n",
       "    </tr>\n",
       "  </tbody>\n",
       "</table>\n",
       "<p>8608 rows × 25 columns</p>\n",
       "</div>"
      ],
      "text/plain": [
       "       idx   mean  median   true   bias    std   RMSE  RMSE_all    MAE  \\\n",
       "0      1.0  0.528   0.526  0.692 -0.164  0.069  0.294     0.319  0.164   \n",
       "1      1.0  0.731   0.690  0.692  0.039  0.201  0.227     0.510  0.105   \n",
       "2      1.0  1.997   1.992  2.620 -0.623  0.258  0.646     0.705  0.623   \n",
       "3      1.0  2.773   2.616  2.620  0.153  0.766  0.171     0.810  0.160   \n",
       "4      1.0  0.278   0.277  0.692 -0.414  0.075  0.567     0.580  0.423   \n",
       "..     ...    ...     ...    ...    ...    ...    ...       ...    ...   \n",
       "155  504.0  1.941   1.814  2.620 -0.679  0.593  0.839     1.067  0.701   \n",
       "156  504.0  0.580   0.577  0.692 -0.112  0.090  0.372     0.394  0.257   \n",
       "157  504.0  0.670   0.646  0.692 -0.022  0.152  0.244     0.390  0.188   \n",
       "158  504.0  2.154   2.145  2.620 -0.466  0.330  0.619     0.714  0.512   \n",
       "159  504.0  2.496   2.405  2.620 -0.124  0.567  0.421     0.726  0.329   \n",
       "\n",
       "     MAE_all  ...   q975  covering  mean_ind_cover           method  estimand  \\\n",
       "0      0.168  ...  0.666       0.0           0.896    Linear_oracle   dynamic   \n",
       "1      0.185  ...  1.228       1.0           1.000       BYM_oracle   dynamic   \n",
       "2      0.626  ...  2.516       0.0           0.050    Linear_oracle     stoch   \n",
       "3      0.568  ...  4.665       1.0           1.000       BYM_oracle     stoch   \n",
       "4      0.427  ...  0.425       0.0           0.262  Linear_observed   dynamic   \n",
       "..       ...  ...    ...       ...             ...              ...       ...   \n",
       "155    0.872  ...  3.463       1.0           0.990           BYM_3S     stoch   \n",
       "156    0.269  ...  0.767       1.0           0.426        Linear_1S   dynamic   \n",
       "157    0.256  ...  1.041       1.0           0.576           BYM_1S   dynamic   \n",
       "158    0.573  ...  2.839       1.0           0.690        Linear_1S     stoch   \n",
       "159    0.556  ...  3.878       1.0           0.994           BYM_1S     stoch   \n",
       "\n",
       "     TRUE   model    type abs_bias ci_length  \n",
       "0     NaN  Linear  Oracle    0.164     0.269  \n",
       "1     NaN     BYM  Oracle    0.039     0.765  \n",
       "2     NaN  Linear  Oracle    0.623     1.010  \n",
       "3     NaN     BYM  Oracle    0.153     2.909  \n",
       "4     NaN  Linear    Obs.    0.414     0.292  \n",
       "..    ...     ...     ...      ...       ...  \n",
       "155   NaN     BYM      3S    0.679     2.258  \n",
       "156   NaN  Linear      1S    0.112     0.352  \n",
       "157   NaN     BYM      1S    0.022     0.599  \n",
       "158   NaN  Linear      1S    0.466     1.290  \n",
       "159   NaN     BYM      1S    0.124     2.224  \n",
       "\n",
       "[8608 rows x 25 columns]"
      ]
     },
     "execution_count": 35,
     "metadata": {},
     "output_type": "execute_result"
    }
   ],
   "source": [
    "combined_df"
   ]
  },
  {
   "cell_type": "code",
   "execution_count": 18,
   "id": "9ff2924401c98f5e",
   "metadata": {
    "ExecuteTime": {
     "end_time": "2024-10-06T09:10:57.184896Z",
     "start_time": "2024-10-06T09:10:56.690738Z"
    }
   },
   "outputs": [],
   "source": [
    "# Save as csv\n",
    "combined_df.to_csv(\"Simulations/results/linear_results_combined_iid_and_bym_N500.csv\")"
   ]
  },
  {
   "cell_type": "code",
   "execution_count": 36,
   "id": "169e2cc0",
   "metadata": {},
   "outputs": [
    {
     "name": "stdout",
     "output_type": "stream",
     "text": [
      "(8288, 25)\n"
     ]
    }
   ],
   "source": [
    "# check which rows in combined_df has true == nan\n",
    "# print(combined_df[combined_df['true'].isna()])\n",
    "# remove rows with true == nan\n",
    "combined_df = combined_df[~combined_df['true'].isna()]\n",
    "print(combined_df.shape)"
   ]
  },
  {
   "cell_type": "code",
   "execution_count": 40,
   "id": "2ec55a89",
   "metadata": {
    "vscode": {
     "languageId": "ruby"
    }
   },
   "outputs": [
    {
     "name": "stdout",
     "output_type": "stream",
     "text": [
      "(8288, 25)\n",
      "(518, 25)\n",
      "(500, 25)\n",
      "(8064, 25)\n"
     ]
    }
   ],
   "source": [
    "# Filter the rows where method is 'BYM_3S'\n",
    "# Filter the rows where method is 'BYM_3S'\n",
    "print(combined_df.shape)\n",
    "bym_3s_df = combined_df[(combined_df['method'] == 'BYM_3S') & (combined_df['estimand'] == 'dynamic')]\n",
    "print(bym_3s_df.shape)\n",
    "bym_3s_df \n",
    "\n",
    "# Sort by 'rel_RMSE' and select the top 500 rows\n",
    "top_bym_3s_df = bym_3s_df.nsmallest(500, 'rel_RMSE')\n",
    "\n",
    "print(top_bym_3s_df.shape)\n",
    "\n",
    "# get unique 'idx' from top_bym_3s_df\n",
    "idx = top_bym_3s_df['idx'].unique()\n",
    "combined_df = combined_df[combined_df['idx'].isin(idx)]\n",
    "print(combined_df.shape)\n",
    "\n"
   ]
  },
  {
   "cell_type": "code",
   "execution_count": null,
   "id": "4015f00f",
   "metadata": {},
   "outputs": [],
   "source": []
  },
  {
   "cell_type": "code",
   "execution_count": null,
   "id": "e319e6203861faca",
   "metadata": {},
   "outputs": [],
   "source": [
    "# TODO: clean all the above in final version"
   ]
  },
  {
   "cell_type": "code",
   "execution_count": null,
   "id": "4d4b69adde2987ad",
   "metadata": {
    "ExecuteTime": {
     "end_time": "2024-11-07T10:40:37.788987Z",
     "start_time": "2024-11-07T10:40:37.733470Z"
    }
   },
   "outputs": [],
   "source": [
    "combined_df = pd.read_csv(\"Simulations/results/linear_results_combined_iid_and_bym_N500.csv\")\n",
    "# combined_df = pd.read_csv(\"results/linear_results_combined_N500.csv\")\n",
    "combined_df['rel_RMSE'] = np.sqrt(combined_df['rel_RMSE'])\n",
    "combined_df['rel_RMSE_all'] = np.sqrt(combined_df['rel_RMSE_all'])"
   ]
  },
  {
   "cell_type": "markdown",
   "id": "c5a50a15336a1dcf",
   "metadata": {},
   "source": []
  },
  {
   "cell_type": "code",
   "execution_count": 54,
   "id": "4b840d750966e13a",
   "metadata": {
    "ExecuteTime": {
     "end_time": "2024-11-28T07:28:52.346147Z",
     "start_time": "2024-11-28T07:28:52.261453Z"
    },
    "collapsed": false
   },
   "outputs": [
    {
     "data": {
      "text/html": [
       "<div>\n",
       "<style scoped>\n",
       "    .dataframe tbody tr th:only-of-type {\n",
       "        vertical-align: middle;\n",
       "    }\n",
       "\n",
       "    .dataframe tbody tr th {\n",
       "        vertical-align: top;\n",
       "    }\n",
       "\n",
       "    .dataframe thead th {\n",
       "        text-align: right;\n",
       "    }\n",
       "</style>\n",
       "<table border=\"1\" class=\"dataframe\">\n",
       "  <thead>\n",
       "    <tr style=\"text-align: right;\">\n",
       "      <th></th>\n",
       "      <th>estimand</th>\n",
       "      <th>model</th>\n",
       "      <th>type</th>\n",
       "      <th>bias</th>\n",
       "      <th>MAPE</th>\n",
       "      <th>rel_CI_length</th>\n",
       "      <th>covering</th>\n",
       "    </tr>\n",
       "  </thead>\n",
       "  <tbody>\n",
       "    <tr>\n",
       "      <th>0</th>\n",
       "      <td>dynamic</td>\n",
       "      <td>BYM</td>\n",
       "      <td>1S</td>\n",
       "      <td>0.016 (0.104)</td>\n",
       "      <td>0.244 (0.054)</td>\n",
       "      <td>1.115 (0.223)</td>\n",
       "      <td>100.0</td>\n",
       "    </tr>\n",
       "    <tr>\n",
       "      <th>1</th>\n",
       "      <td>dynamic</td>\n",
       "      <td>BYM</td>\n",
       "      <td>3S</td>\n",
       "      <td>-0.202 (0.087)</td>\n",
       "      <td>0.382 (0.074)</td>\n",
       "      <td>1.295 (0.453)</td>\n",
       "      <td>92.3</td>\n",
       "    </tr>\n",
       "    <tr>\n",
       "      <th>2</th>\n",
       "      <td>dynamic</td>\n",
       "      <td>BYM</td>\n",
       "      <td>Obs.</td>\n",
       "      <td>-0.390 (0.298)</td>\n",
       "      <td>0.680 (0.376)</td>\n",
       "      <td>1.534 (0.531)</td>\n",
       "      <td>78.2</td>\n",
       "    </tr>\n",
       "    <tr>\n",
       "      <th>3</th>\n",
       "      <td>dynamic</td>\n",
       "      <td>BYM</td>\n",
       "      <td>Oracle</td>\n",
       "      <td>0.005 (0.102)</td>\n",
       "      <td>0.220 (0.058)</td>\n",
       "      <td>0.969 (0.260)</td>\n",
       "      <td>99.0</td>\n",
       "    </tr>\n",
       "    <tr>\n",
       "      <th>4</th>\n",
       "      <td>dynamic</td>\n",
       "      <td>Linear</td>\n",
       "      <td>1S</td>\n",
       "      <td>-0.128 (0.093)</td>\n",
       "      <td>0.225 (0.087)</td>\n",
       "      <td>0.532 (0.062)</td>\n",
       "      <td>71.4</td>\n",
       "    </tr>\n",
       "    <tr>\n",
       "      <th>5</th>\n",
       "      <td>dynamic</td>\n",
       "      <td>Linear</td>\n",
       "      <td>3S</td>\n",
       "      <td>-0.302 (0.045)</td>\n",
       "      <td>0.437 (0.065)</td>\n",
       "      <td>0.430 (0.035)</td>\n",
       "      <td>0.8</td>\n",
       "    </tr>\n",
       "    <tr>\n",
       "      <th>6</th>\n",
       "      <td>dynamic</td>\n",
       "      <td>Linear</td>\n",
       "      <td>Obs.</td>\n",
       "      <td>-0.383 (0.064)</td>\n",
       "      <td>0.554 (0.093)</td>\n",
       "      <td>0.399 (0.028)</td>\n",
       "      <td>0.0</td>\n",
       "    </tr>\n",
       "    <tr>\n",
       "      <th>7</th>\n",
       "      <td>dynamic</td>\n",
       "      <td>Linear</td>\n",
       "      <td>Oracle</td>\n",
       "      <td>-0.155 (0.065)</td>\n",
       "      <td>0.233 (0.081)</td>\n",
       "      <td>0.398 (0.030)</td>\n",
       "      <td>42.3</td>\n",
       "    </tr>\n",
       "    <tr>\n",
       "      <th>8</th>\n",
       "      <td>stoch</td>\n",
       "      <td>BYM</td>\n",
       "      <td>1S</td>\n",
       "      <td>0.087 (0.396)</td>\n",
       "      <td>0.245 (0.056)</td>\n",
       "      <td>1.127 (0.226)</td>\n",
       "      <td>99.8</td>\n",
       "    </tr>\n",
       "    <tr>\n",
       "      <th>9</th>\n",
       "      <td>stoch</td>\n",
       "      <td>BYM</td>\n",
       "      <td>3S</td>\n",
       "      <td>-0.743 (0.330)</td>\n",
       "      <td>0.377 (0.074)</td>\n",
       "      <td>1.304 (0.456)</td>\n",
       "      <td>92.7</td>\n",
       "    </tr>\n",
       "    <tr>\n",
       "      <th>10</th>\n",
       "      <td>stoch</td>\n",
       "      <td>BYM</td>\n",
       "      <td>Obs.</td>\n",
       "      <td>-1.489 (1.097)</td>\n",
       "      <td>0.670 (0.363)</td>\n",
       "      <td>1.465 (0.488)</td>\n",
       "      <td>74.6</td>\n",
       "    </tr>\n",
       "    <tr>\n",
       "      <th>11</th>\n",
       "      <td>stoch</td>\n",
       "      <td>BYM</td>\n",
       "      <td>Oracle</td>\n",
       "      <td>0.021 (0.385)</td>\n",
       "      <td>0.220 (0.058)</td>\n",
       "      <td>0.970 (0.262)</td>\n",
       "      <td>99.0</td>\n",
       "    </tr>\n",
       "    <tr>\n",
       "      <th>12</th>\n",
       "      <td>stoch</td>\n",
       "      <td>Linear</td>\n",
       "      <td>1S</td>\n",
       "      <td>-0.464 (0.355)</td>\n",
       "      <td>0.220 (0.085)</td>\n",
       "      <td>0.535 (0.061)</td>\n",
       "      <td>73.8</td>\n",
       "    </tr>\n",
       "    <tr>\n",
       "      <th>13</th>\n",
       "      <td>stoch</td>\n",
       "      <td>Linear</td>\n",
       "      <td>3S</td>\n",
       "      <td>-1.128 (0.171)</td>\n",
       "      <td>0.431 (0.065)</td>\n",
       "      <td>0.425 (0.031)</td>\n",
       "      <td>0.8</td>\n",
       "    </tr>\n",
       "    <tr>\n",
       "      <th>14</th>\n",
       "      <td>stoch</td>\n",
       "      <td>Linear</td>\n",
       "      <td>Obs.</td>\n",
       "      <td>-1.465 (0.231)</td>\n",
       "      <td>0.559 (0.088)</td>\n",
       "      <td>0.377 (0.027)</td>\n",
       "      <td>0.0</td>\n",
       "    </tr>\n",
       "    <tr>\n",
       "      <th>15</th>\n",
       "      <td>stoch</td>\n",
       "      <td>Linear</td>\n",
       "      <td>Oracle</td>\n",
       "      <td>-0.589 (0.246)</td>\n",
       "      <td>0.233 (0.080)</td>\n",
       "      <td>0.396 (0.030)</td>\n",
       "      <td>41.7</td>\n",
       "    </tr>\n",
       "  </tbody>\n",
       "</table>\n",
       "</div>"
      ],
      "text/plain": [
       "   estimand   model    type            bias           MAPE  rel_CI_length  \\\n",
       "0   dynamic     BYM      1S   0.016 (0.104)  0.244 (0.054)  1.115 (0.223)   \n",
       "1   dynamic     BYM      3S  -0.202 (0.087)  0.382 (0.074)  1.295 (0.453)   \n",
       "2   dynamic     BYM    Obs.  -0.390 (0.298)  0.680 (0.376)  1.534 (0.531)   \n",
       "3   dynamic     BYM  Oracle   0.005 (0.102)  0.220 (0.058)  0.969 (0.260)   \n",
       "4   dynamic  Linear      1S  -0.128 (0.093)  0.225 (0.087)  0.532 (0.062)   \n",
       "5   dynamic  Linear      3S  -0.302 (0.045)  0.437 (0.065)  0.430 (0.035)   \n",
       "6   dynamic  Linear    Obs.  -0.383 (0.064)  0.554 (0.093)  0.399 (0.028)   \n",
       "7   dynamic  Linear  Oracle  -0.155 (0.065)  0.233 (0.081)  0.398 (0.030)   \n",
       "8     stoch     BYM      1S   0.087 (0.396)  0.245 (0.056)  1.127 (0.226)   \n",
       "9     stoch     BYM      3S  -0.743 (0.330)  0.377 (0.074)  1.304 (0.456)   \n",
       "10    stoch     BYM    Obs.  -1.489 (1.097)  0.670 (0.363)  1.465 (0.488)   \n",
       "11    stoch     BYM  Oracle   0.021 (0.385)  0.220 (0.058)  0.970 (0.262)   \n",
       "12    stoch  Linear      1S  -0.464 (0.355)  0.220 (0.085)  0.535 (0.061)   \n",
       "13    stoch  Linear      3S  -1.128 (0.171)  0.431 (0.065)  0.425 (0.031)   \n",
       "14    stoch  Linear    Obs.  -1.465 (0.231)  0.559 (0.088)  0.377 (0.027)   \n",
       "15    stoch  Linear  Oracle  -0.589 (0.246)  0.233 (0.080)  0.396 (0.030)   \n",
       "\n",
       "   covering  \n",
       "0     100.0  \n",
       "1      92.3  \n",
       "2      78.2  \n",
       "3      99.0  \n",
       "4      71.4  \n",
       "5       0.8  \n",
       "6       0.0  \n",
       "7      42.3  \n",
       "8      99.8  \n",
       "9      92.7  \n",
       "10     74.6  \n",
       "11     99.0  \n",
       "12     73.8  \n",
       "13      0.8  \n",
       "14      0.0  \n",
       "15     41.7  "
      ]
     },
     "execution_count": 54,
     "metadata": {},
     "output_type": "execute_result"
    }
   ],
   "source": [
    "def coverage_perc(x):\n",
    "    return \"{:.1f}\".format(np.mean(x)*100)\n",
    "\n",
    "def mean_std(x):\n",
    "    mean,std = np.mean(x), np.std(x)\n",
    "    return \"{:.3f} ({:.3f})\".format(mean,std)\n",
    "\n",
    "combined_df['MAE_rel'] = combined_df['MAE']/combined_df['true']\n",
    "\n",
    "combined_df['rel_CI_length'] = combined_df['ci_length']/combined_df['true']\n",
    "\n",
    "\n",
    "# df_summary = combined_df.groupby([\"estimand\", \"model\", \"type\"]).agg(\n",
    "df_summary = combined_df.groupby([\"estimand\", \"model\", \"type\"]).agg(\n",
    "                                        {\n",
    "                                            # 'mean' : ['mean'],\n",
    "                                         # 'median' : ['mean'],\n",
    "                                         'bias' : [mean_std],\n",
    "                                        #  'std' : [mean_std],\n",
    "                                        #  'true' : ['mean'],\n",
    "                                         # 'RMSE' : ['mean'],\n",
    "                                        #  'RMSE' : [mean_std],\n",
    "                                         # 'RMSE_all' : ['mean'],\n",
    "                                        #  'RMSE_all' : [mean_std],\n",
    "                                        #  'MAE' : [mean_std],\n",
    "                                        #  'MAE_rel' : [mean_std],\n",
    "                                        #  'MAE_all' : [mean_std],\n",
    "                                         'MAPE' : [mean_std],\n",
    "                                        # 'MAPE_all' : [mean_std],\n",
    "                                        #  'rel_RMSE' : [mean_std],\n",
    "                                        # 'rel_RMSE_all' : [mean_std],\n",
    "                                        #  'q025' : ['mean'],\n",
    "                                        #  'q975' : ['mean'],\n",
    "                                        #  'ci_length' : [mean_std],\n",
    "                                         'rel_CI_length' : [mean_std],\n",
    "                                         'covering' : [coverage_perc],\n",
    "                                        #  'mean_ind_cover' : ['mean'],\n",
    "                                         }\n",
    "\n",
    "                                         # 'norm_coverage' : [coverage_perc]}\n",
    "\n",
    "                                            ).reset_index()\n",
    "                                         # 'true_included99' : [coverage_perc]})\n",
    "                                         # 'true_included95' : ['mean'],\n",
    "                                         # 'true_included99' : ['mean']})\n",
    "\n",
    "# df_summary.columns = ['estimand','model','type','bias','bias_std', 'rel_RMSE','rel_RMSE_std', 'ci_length','ci_length_std','covering','mean_ind_cover']\n",
    "df_summary.columns = ['estimand','model','type','bias','MAPE','rel_CI_length','covering']\n",
    "df_summary"
   ]
  },
  {
   "cell_type": "code",
   "execution_count": null,
   "id": "ccc9d32926b28b47",
   "metadata": {
    "ExecuteTime": {
     "end_time": "2024-11-17T13:24:34.350657Z",
     "start_time": "2024-11-17T13:24:34.322393Z"
    }
   },
   "outputs": [
    {
     "name": "stdout",
     "output_type": "stream",
     "text": [
      "\\begin{tabular}{lllcccc}\n",
      "\\toprule\n",
      "Estimand & Model & Type & Bias (std) & MAPE (std) & Rel. CI Length (std) & Coverage \\\\\n",
      "\\midrule\n",
      "\\multirow{8}{*}{Dynamic} & \\multirow{4}{*}{BYM} & PI & 0.016 (0.104) & 0.244 (0.054) & 1.115 (0.223) & 100.0 \\\\\n",
      " &  & MS & -0.202 (0.087) & 0.382 (0.074) & 1.295 (0.453) & 92.3 \\\\\n",
      " &  & Obs. & -0.390 (0.298) & 0.680 (0.376) & 1.534 (0.531) & 78.2 \\\\\n",
      " &  & Oracle & 0.005 (0.102) & 0.220 (0.058) & 0.969 (0.260) & 99.0 \\\\\n",
      "\\cmidrule{2-7}\n",
      " & \\multirow{4}{*}{IID} & PI & -0.128 (0.093) & 0.225 (0.087) & 0.532 (0.062) & 71.4 \\\\\n",
      " &  & MS & -0.302 (0.045) & 0.437 (0.065) & 0.430 (0.035) & 0.8 \\\\\n",
      " &  & Obs. & -0.383 (0.064) & 0.554 (0.093) & 0.399 (0.028) & 0.0 \\\\\n",
      " &  & Oracle & -0.155 (0.065) & 0.233 (0.081) & 0.398 (0.030) & 42.3 \\\\\n",
      "\\midrule\n",
      "\\multirow{8}{*}{Stochastic} & \\multirow{4}{*}{BYM} & PI & 0.087 (0.396) & 0.245 (0.056) & 1.127 (0.226) & 99.8 \\\\\n",
      " &  & MS & -0.743 (0.330) & 0.377 (0.074) & 1.304 (0.456) & 92.7 \\\\\n",
      " &  & Obs. & -1.489 (1.097) & 0.670 (0.363) & 1.465 (0.488) & 74.6 \\\\\n",
      " &  & Oracle & 0.021 (0.385) & 0.220 (0.058) & 0.970 (0.262) & 99.0 \\\\\n",
      "\\cmidrule{2-7}\n",
      " & \\multirow{4}{*}{IID} & PI & -0.464 (0.355) & 0.220 (0.085) & 0.535 (0.061) & 73.8 \\\\\n",
      " &  & MS & -1.128 (0.171) & 0.431 (0.065) & 0.425 (0.031) & 0.8 \\\\\n",
      " &  & Obs. & -1.465 (0.231) & 0.559 (0.088) & 0.377 (0.027) & 0.0 \\\\\n",
      " &  & Oracle & -0.589 (0.246) & 0.233 (0.080) & 0.396 (0.030) & 41.7 \\\\\n",
      "\\bottomrule\n",
      "\\end{tabular}\n"
     ]
    }
   ],
   "source": [
    "# def generate_latex_table(df):   \n",
    "\n",
    "#     # Start the LaTeX table\n",
    "#     latex_table = [\n",
    "#         \"\\\\begin{table}[htbp]\",\n",
    "#         \"\\\\centering\",\n",
    "#         \"\\\\caption{Simulation Results}\",\n",
    "#         \"\\\\label{tab:simulation_results}\",\n",
    "#         \"\\\\begin{tabular}{lllcccc}\",\n",
    "#         \"\\\\toprule\",\n",
    "#         \"Estimand & Model & Type & Bias (std) & MAPE (std) & CI Length (std) & Coverage \\\\\\\\\"\n",
    "#      ]\n",
    "    \n",
    "#     latex_table.append(\"\\\\midrule\")\n",
    "\n",
    "#     # Group by estimand and model\n",
    "#     for e, (estimand, estimand_group) in enumerate(df.groupby('estimand')):\n",
    "#         for m, (model, model_group) in enumerate(estimand_group.groupby('model')):\n",
    "#             if m > 0:\n",
    "#                 latex_table += \"\\\\cmidrule{2-7}\\n\"\n",
    "\n",
    "#             for i, (_, row) in enumerate(model_group.iterrows()):\n",
    "#                 if i == 0:\n",
    "#                     if m == 0:\n",
    "#                         latex_table += f\"\\\\multirow{{8}}{{*}}{{{estimand}}} & \"\n",
    "#                     else:\n",
    "#                         latex_table += \" & \"\n",
    "#                     latex_table += f\"\\\\multirow{{4}}{{*}}{{{model}}} \"\n",
    "#                 else:\n",
    "#                     latex_table += \" & \"\n",
    "                \n",
    "#                 latex_table += f\"& {row['type']} & {row['bias']} & {row['MAPE']} & {row['rel_CI_length']} & {row['covering']} \\\\\\\\\\n\"\n",
    "\n",
    "#         if e == 0:  # Add midrule after first estimand\n",
    "#             latex_table += \"\\\\midrule\\n\"\n",
    "\n",
    "#     # End the LaTeX table\n",
    "#     latex_table += \"\\\\bottomrule\\n\\\\end{tabular}\\n\\\\end{table}\"\n",
    "\n",
    "#     return '\\n'.join(latex_table)\n",
    "\n",
    "\n",
    "\n",
    "\n",
    "def clean_value(value_str):\n",
    "    \"\"\"Helper function to clean the values from DataFrame\"\"\"\n",
    "    if isinstance(value_str, float):\n",
    "        return f\"{value_str:.3f}\"\n",
    "    \n",
    "    # Remove the pandas metadata\n",
    "    if 'mean_std' in str(value_str):\n",
    "        return str(value_str).split('mean_std')[-1].strip()\n",
    "    elif 'coverage_perc' in str(value_str):\n",
    "        value = float(str(value_str).split('coverage_perc')[-1].strip().split('\\n')[0])\n",
    "        return f\"{value:.1f}\\\\%\"\n",
    "    return str(value_str)\n",
    "\n",
    "def generate_latex_table(df):\n",
    "    # Start the LaTeX table\n",
    "    latex_table = [\n",
    "        \"\\\\begin{tabular}{lllcccc}\",\n",
    "        \"\\\\toprule\",\n",
    "        \"Estimand & Model & Type & Bias (std) & MAPE (std) & Rel. CI Length (std) & Coverage \\\\\\\\\",\n",
    "        \"\\\\midrule\"\n",
    "    ]\n",
    "    \n",
    "    # Replace model names\n",
    "    model_map = {'Linear': 'IID', 'BYM': 'BYM'}\n",
    "    type_map = {'1S': 'PI', '3S': 'MS', 'Obs.': 'Obs.', 'Oracle': 'Oracle'}\n",
    "    estimand_map = {'dynamic': 'Dynamic', 'stoch': 'Stochastic'}\n",
    "    \n",
    "    # Group by estimand\n",
    "    for estimand, estimand_group in df.groupby('estimand'):\n",
    "        first_estimand = True\n",
    "        \n",
    "        # Process each model within this estimand\n",
    "        for model, model_group in estimand_group.groupby('model'):\n",
    "            # Add line above new model group (except first)\n",
    "            if not first_estimand:\n",
    "                latex_table.append(\"\\\\cmidrule{2-7}\")\n",
    "            \n",
    "            # Sort by type to match the order in the example\n",
    "            type_order = ['PI', 'MS', 'Obs.', 'Oracle']\n",
    "            model_group = model_group.sort_values('type')\n",
    "            \n",
    "            for i, (_, row) in enumerate(model_group.iterrows()):\n",
    "                line_parts = []\n",
    "                \n",
    "                # Add estimand on first row only\n",
    "                if first_estimand and i == 0:\n",
    "                    line_parts.append(f\"\\\\multirow{{8}}{{*}}{{{estimand_map[estimand]}}}\")\n",
    "                else:\n",
    "                    line_parts.append(\"\")\n",
    "                \n",
    "                # Add model on first row of each model group\n",
    "                if i == 0:\n",
    "                    line_parts.append(f\"\\\\multirow{{4}}{{*}}{{{model_map[model]}}}\")\n",
    "                else:\n",
    "                    line_parts.append(\"\")\n",
    "                \n",
    "                # Map the type to the desired format\n",
    "                row_type = type_map[row['type']]\n",
    "                \n",
    "                # Clean and add values\n",
    "                line_parts.extend([\n",
    "                    row_type,\n",
    "                    clean_value(row['bias']),\n",
    "                    clean_value(row['MAPE']),\n",
    "                    clean_value(row['rel_CI_length']),\n",
    "                    clean_value(row['covering'])\n",
    "                ])\n",
    "                \n",
    "                # Join the parts with & and add line ending\n",
    "                latex_table.append(\" & \".join(line_parts) + \" \\\\\\\\\")\n",
    "            \n",
    "            first_estimand = False\n",
    "        \n",
    "        # Add midrule between estimands (except after last)\n",
    "        if estimand != df['estimand'].iloc[-1]:\n",
    "            latex_table.append(\"\\\\midrule\")\n",
    "    \n",
    "    # Close the table\n",
    "    latex_table.append(\"\\\\bottomrule\")\n",
    "    latex_table.append(\"\\\\end{tabular}\")\n",
    "    \n",
    "    return \"\\n\".join(latex_table)\n",
    "\n",
    "# Assuming your DataFrame is called 'results_df'\n",
    "latex_table = generate_latex_table(df_summary)\n",
    "print(latex_table)"
   ]
  },
  {
   "cell_type": "code",
   "execution_count": 59,
   "id": "1db98e94",
   "metadata": {},
   "outputs": [
    {
     "data": {
      "text/plain": [
       "Text(0, 0.5, '')"
      ]
     },
     "execution_count": 59,
     "metadata": {},
     "output_type": "execute_result"
    },
    {
     "data": {
      "image/png": "[encoded data removed]",
      "text/plain": [
       "<Figure size 640x480 with 1 Axes>"
      ]
     },
     "metadata": {},
     "output_type": "display_data"
    }
   ],
   "source": [
    "flierprops = dict(marker='.', markerfacecolor='None', markersize=1,  markeredgecolor='grey')\n",
    "box_rmse = sns.boxplot(data=combined_df[combined_df[\"estimand\"]==\"dynamic\"], x = 'method', y = 'MAPE',\n",
    "               # order = ['Oracle', 'Plugin','1','Cut-3S','Obs.'],\n",
    "                       hue = \"model\", palette = 'pastel',\n",
    "                       flierprops=flierprops)\n",
    "box_rmse.set_title(\"MAPE dynamic estimand\")\n",
    "# plt.ylim(0,.5)\n",
    "plt.xticks(rotation=90)\n",
    "box_rmse.set_xlabel(\"\")\n",
    "box_rmse.set_ylabel(\"\")\n",
    "# sns.despine()"
   ]
  },
  {
   "cell_type": "code",
   "execution_count": 65,
   "id": "ec90e99e7c3bd69",
   "metadata": {
    "ExecuteTime": {
     "end_time": "2024-11-17T10:05:16.467809Z",
     "start_time": "2024-11-17T10:05:15.261136Z"
    },
    "collapsed": false
   },
   "outputs": [
    {
     "data": {
      "text/plain": [
       "Text(0, 0.5, '')"
      ]
     },
     "execution_count": 65,
     "metadata": {},
     "output_type": "execute_result"
    },
    {
     "data": {
      "image/png": "[encoded data removed]",
      "text/plain": [
       "<Figure size 640x480 with 1 Axes>"
      ]
     },
     "metadata": {},
     "output_type": "display_data"
    }
   ],
   "source": [
    "flierprops = dict(marker='.', markerfacecolor='None', markersize=1,  markeredgecolor='grey')\n",
    "box_rmse = sns.boxplot(data=combined_df[combined_df[\"estimand\"]==\"dynamic\"], x = 'method', y = 'MAPE',\n",
    "               # order = ['Oracle', 'Plugin','1','Cut-3S','Obs.'],\n",
    "                       hue = \"model\", palette = 'pastel',\n",
    "                       flierprops=flierprops)\n",
    "box_rmse.set_title(\"MAPE dynamic estimand\")\n",
    "# plt.ylim(0,.5)\n",
    "plt.xticks(rotation=90)\n",
    "box_rmse.set_xlabel(\"\")\n",
    "box_rmse.set_ylabel(\"\")\n",
    "# sns.despine()"
   ]
  },
  {
   "cell_type": "code",
   "execution_count": 62,
   "id": "324e483db48b5a19",
   "metadata": {
    "ExecuteTime": {
     "end_time": "2024-10-06T09:04:28.058065Z",
     "start_time": "2024-10-06T09:04:28.023900Z"
    }
   },
   "outputs": [
    {
     "name": "stdout",
     "output_type": "stream",
     "text": [
      "(598,)\n",
      "(563,)\n",
      "(563,)\n"
     ]
    }
   ],
   "source": [
    "# Zeigen MAE plots\n",
    "\n",
    "from matplotlib.ticker import PercentFormatter\n",
    "\n",
    "plt.style.use('seaborn-v0_8-colorblind')\n",
    "# sns.set_style(\"whitegrid\")\n",
    "sns.set_style(\"ticks\")\n",
    "sns.set_context(\"paper\", font_scale=1.3)\n",
    "\n",
    "\n",
    "zeigen_mae_obs = np.loadtxt('Simulations/results/zeigen_mae_obs.txt')\n",
    "esti_zeigen_mae_post = np.loadtxt('Simulations/results/esti_zeigen_mae_post.txt')\n",
    "zeigen_mae_post = np.loadtxt('Simulations/results/zeigen_mae_post.txt')\n",
    "\n",
    "# remove all values above 3 (lack of convergence of network model, also removed from main results)\n",
    "zeigen_mae_obs = zeigen_mae_obs[zeigen_mae_obs < 3]\n",
    "esti_zeigen_mae_post = esti_zeigen_mae_post[esti_zeigen_mae_post < 3]\n",
    "zeigen_mae_post = zeigen_mae_post[zeigen_mae_post < 3]\n",
    "\n",
    "# print shape of each file\n",
    "print(zeigen_mae_obs.shape)\n",
    "print(esti_zeigen_mae_post.shape)\n",
    "print(zeigen_mae_post.shape)\n",
    "\n"
   ]
  },
  {
   "cell_type": "code",
   "execution_count": 77,
   "id": "a54bee73c6ea5984",
   "metadata": {
    "ExecuteTime": {
     "end_time": "2024-10-06T09:04:38.359004Z",
     "start_time": "2024-10-06T09:04:29.418023Z"
    }
   },
   "outputs": [
    {
     "data": {
      "image/png": "[encoded data removed]",
      "text/plain": [
       "<Figure size 900x500 with 1 Axes>"
      ]
     },
     "metadata": {},
     "output_type": "display_data"
    }
   ],
   "source": [
    "def plot_percentage_histogram(data, bin_edges, ax, label, color, alpha=0.7):\n",
    "    counts, _ = np.histogram(data, bins=bin_edges, density=True)\n",
    "    bin_widths = np.diff(bin_edges)\n",
    "    percentage = counts * bin_widths * 100  # Convert to percentage\n",
    "    ax.bar(bin_edges[:-1], percentage, width=bin_widths, alpha=alpha, label=label,\n",
    "            color=color, align='edge', edgecolor=\"lightgrey\")\n",
    "\n",
    "\n",
    "# Set the figure style\n",
    "plt.style.use('default')  # Reset to default style\n",
    "fig, ax = plt.subplots(figsize=(9, 5), facecolor='white')  # Set figure background to white\n",
    "ax.set_facecolor('white')  # Set axis background to white\n",
    "\n",
    "\n",
    "# Define common bin edges\n",
    "common_bin_edges = np.linspace(min(min(zeigen_mae_obs), min(esti_zeigen_mae_post)), \n",
    "                               max(max(zeigen_mae_obs), max(esti_zeigen_mae_post)), \n",
    "                               50)  \n",
    "\n",
    "# Plot histograms as density\n",
    "plot_percentage_histogram(esti_zeigen_mae_post, common_bin_edges, ax, 'Posterior', 'xkcd:brick red')\n",
    "plot_percentage_histogram(zeigen_mae_obs, common_bin_edges, ax, 'Observed', 'xkcd:cobalt')\n",
    "\n",
    "# Set labels and title\n",
    "ax.set_xlabel('MAE', fontsize=18, fontweight='bold')\n",
    "ax.set_ylabel('')\n",
    "ax.set_title('')\n",
    "\n",
    "# Adjust y-axis to show correct percentage\n",
    "ax.yaxis.set_major_formatter(plt.FuncFormatter(lambda x, p: f\"{x:.1f}%\"))\n",
    "\n",
    "# Increase font size of tick labels\n",
    "ax.tick_params(axis='both', which='major', labelsize=16)\n",
    "\n",
    "# Add legend\n",
    "ax.legend(fontsize=16, frameon=True, fancybox=True, framealpha=1)\n",
    "\n",
    "# Set edges to black\n",
    "ax.spines['bottom'].set_color('black')\n",
    "ax.spines['top'].set_color('black')\n",
    "ax.spines['left'].set_color('black')\n",
    "ax.spines['right'].set_color('black')\n",
    "\n",
    "# Save the figure\n",
    "plt.tight_layout()\n",
    "plt.savefig('Simulations/results/figs/mae_hist.png', dpi=1000)\n",
    "plt.show()\n"
   ]
  },
  {
   "cell_type": "code",
   "execution_count": null,
   "id": "9067b4455ea2e9fe",
   "metadata": {},
   "outputs": [],
   "source": []
  }
 ],
 "metadata": {
  "kernelspec": {
   "display_name": "Python 3",
   "language": "python",
   "name": "python3"
  },
  "language_info": {
   "codemirror_mode": {
    "name": "ipython",
    "version": 3
   },
   "file_extension": ".py",
   "mimetype": "text/x-python",
   "name": "python",
   "nbconvert_exporter": "python",
   "pygments_lexer": "ipython3",
   "version": "3.11.8"
  }
 },
 "nbformat": 4,
 "nbformat_minor": 5
}
