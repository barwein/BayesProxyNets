{
 "cells": [
  {
   "cell_type": "code",
   "id": "initial_id",
   "metadata": {
    "collapsed": true,
    "ExecuteTime": {
     "end_time": "2024-09-16T06:59:49.942810Z",
     "start_time": "2024-09-16T06:59:49.936665Z"
    }
   },
   "source": [
    "import pandas as pd\n",
    "import matplotlib.pyplot as plt\n",
    "import seaborn as sns \n",
    "import numpy as np\n",
    "import glob\n",
    "import re\n"
   ],
   "outputs": [],
   "execution_count": 1
  },
  {
   "cell_type": "code",
   "source": [
    "# beige_color = (255/255,253/255,250/255)\n",
    "beige_color = '#FFFDFA'\n",
    "\n",
    "# sns.set_theme(style=\"ticks\", rc={'figure.facecolor': beige_color, 'axes.facecolor' : beige_color})\n",
    "sns.set_theme(style=\"ticks\")\n",
    "# sns.set_context(\"talk\")\n",
    "# sns.set_context(\"poster\")\n"
   ],
   "metadata": {
    "collapsed": false,
    "ExecuteTime": {
     "end_time": "2024-09-16T06:59:49.971564Z",
     "start_time": "2024-09-16T06:59:49.960441Z"
    }
   },
   "id": "f0dbd5f1909a557c",
   "outputs": [],
   "execution_count": 2
  },
  {
   "cell_type": "code",
   "source": [
    "path = \"results/linear_multi\"\n",
    "# path = \"results/linear_multi/N500\"\n",
    "# path = \"results/nonlinear_multi\"\n",
    "# path = \"results/nonlinear_multi/trunc_parab\"\n",
    "all_file = glob.glob(path + \"/*.csv\")\n",
    "print(all_file)"
   ],
   "metadata": {
    "collapsed": false,
    "ExecuteTime": {
     "end_time": "2024-09-16T06:59:50.013946Z",
     "start_time": "2024-09-16T06:59:49.998845Z"
    }
   },
   "id": "2c0f7444c72510b0",
   "outputs": [
    {
     "name": "stdout",
     "output_type": "stream",
     "text": [
      "['results/linear_multi\\\\linear_dgp_svi_diff_1.csv', 'results/linear_multi\\\\linear_dgp_svi_diff_10.csv', 'results/linear_multi\\\\linear_dgp_svi_diff_11.csv', 'results/linear_multi\\\\linear_dgp_svi_diff_12.csv', 'results/linear_multi\\\\linear_dgp_svi_diff_13.csv', 'results/linear_multi\\\\linear_dgp_svi_diff_14.csv', 'results/linear_multi\\\\linear_dgp_svi_diff_15.csv', 'results/linear_multi\\\\linear_dgp_svi_diff_16.csv', 'results/linear_multi\\\\linear_dgp_svi_diff_17.csv', 'results/linear_multi\\\\linear_dgp_svi_diff_18.csv', 'results/linear_multi\\\\linear_dgp_svi_diff_19.csv', 'results/linear_multi\\\\linear_dgp_svi_diff_2.csv', 'results/linear_multi\\\\linear_dgp_svi_diff_20.csv', 'results/linear_multi\\\\linear_dgp_svi_diff_21.csv', 'results/linear_multi\\\\linear_dgp_svi_diff_22.csv', 'results/linear_multi\\\\linear_dgp_svi_diff_23.csv', 'results/linear_multi\\\\linear_dgp_svi_diff_24.csv', 'results/linear_multi\\\\linear_dgp_svi_diff_25.csv', 'results/linear_multi\\\\linear_dgp_svi_diff_26.csv', 'results/linear_multi\\\\linear_dgp_svi_diff_27.csv', 'results/linear_multi\\\\linear_dgp_svi_diff_28.csv', 'results/linear_multi\\\\linear_dgp_svi_diff_29.csv', 'results/linear_multi\\\\linear_dgp_svi_diff_3.csv', 'results/linear_multi\\\\linear_dgp_svi_diff_30.csv', 'results/linear_multi\\\\linear_dgp_svi_diff_31.csv', 'results/linear_multi\\\\linear_dgp_svi_diff_32.csv', 'results/linear_multi\\\\linear_dgp_svi_diff_33.csv', 'results/linear_multi\\\\linear_dgp_svi_diff_34.csv', 'results/linear_multi\\\\linear_dgp_svi_diff_35.csv', 'results/linear_multi\\\\linear_dgp_svi_diff_4.csv', 'results/linear_multi\\\\linear_dgp_svi_diff_5.csv', 'results/linear_multi\\\\linear_dgp_svi_diff_6.csv', 'results/linear_multi\\\\linear_dgp_svi_diff_7.csv', 'results/linear_multi\\\\linear_dgp_svi_diff_8.csv', 'results/linear_multi\\\\linear_dgp_svi_diff_9.csv']\n"
     ]
    }
   ],
   "execution_count": 3
  },
  {
   "cell_type": "code",
   "source": [
    "extracted_numbers = [re.findall(r'\\d+', s) for s in all_file]\n",
    "first_numbers = [int(numbers[0]) if numbers else None for numbers in extracted_numbers]\n",
    "first_numbers.sort()\n",
    "first_numbers"
   ],
   "metadata": {
    "collapsed": false,
    "ExecuteTime": {
     "end_time": "2024-09-12T06:09:02.759515Z",
     "start_time": "2024-09-12T06:09:02.733961Z"
    }
   },
   "id": "ef21fc4acf6b1c75",
   "outputs": [
    {
     "data": {
      "text/plain": [
       "[1,\n",
       " 2,\n",
       " 3,\n",
       " 4,\n",
       " 5,\n",
       " 6,\n",
       " 7,\n",
       " 8,\n",
       " 9,\n",
       " 10,\n",
       " 11,\n",
       " 12,\n",
       " 13,\n",
       " 14,\n",
       " 15,\n",
       " 16,\n",
       " 17,\n",
       " 18,\n",
       " 19,\n",
       " 20,\n",
       " 21,\n",
       " 22,\n",
       " 23,\n",
       " 25,\n",
       " 26,\n",
       " 27,\n",
       " 28,\n",
       " 30,\n",
       " 31,\n",
       " 32,\n",
       " 33,\n",
       " 34,\n",
       " 35,\n",
       " 36,\n",
       " 37,\n",
       " 38,\n",
       " 39,\n",
       " 40,\n",
       " 41,\n",
       " 42,\n",
       " 43,\n",
       " 44,\n",
       " 45,\n",
       " 46,\n",
       " 47,\n",
       " 48,\n",
       " 49,\n",
       " 50]"
      ]
     },
     "execution_count": 4,
     "metadata": {},
     "output_type": "execute_result"
    }
   ],
   "execution_count": 4
  },
  {
   "cell_type": "code",
   "source": [
    "lin_dfs = [pd.read_csv(f) for f in all_file]\n",
    "combined_df = pd.concat(lin_dfs)\n",
    "combined_df[['model', 'type']] = combined_df['method'].str.split('_', expand=True)\n",
    "print(combined_df)"
   ],
   "metadata": {
    "collapsed": false,
    "ExecuteTime": {
     "end_time": "2024-09-16T07:10:35.521174Z",
     "start_time": "2024-09-16T07:10:35.255671Z"
    }
   },
   "id": "1030e9552709d7e8",
   "outputs": [
    {
     "name": "stdout",
     "output_type": "stream",
     "text": [
      "       idx   mean median   true   bias    std   RMSE RMSE_all    MAE MAE_all  \\\n",
      "0      1.0  0.847  0.847  0.839  0.008  0.026  0.056    0.071   0.04   0.043   \n",
      "1      1.0  0.822  0.821  0.839 -0.017  0.031  0.126     0.19  0.062   0.092   \n",
      "2      1.0  2.713  2.713   2.69  0.023  0.082  0.052    0.105  0.037   0.076   \n",
      "3      1.0  2.588  2.586   2.69 -0.102  0.096  0.319    0.408  0.109   0.176   \n",
      "4      1.0  0.615  0.614  0.839 -0.224  0.048  0.415    0.421  0.309   0.314   \n",
      "..     ...    ...    ...    ...    ...    ...    ...      ...    ...     ...   \n",
      "155  504.0  1.828  1.827   2.53 -0.702  0.127  0.844    0.948  0.709   0.761   \n",
      "156  504.0  0.548  0.547  0.516  0.032  0.026  0.181    0.185  0.142   0.145   \n",
      "157  504.0  0.519   0.52  0.516  0.003  0.031  0.227    0.255  0.159   0.171   \n",
      "158  504.0  2.521  2.519   2.53 -0.009  0.117  0.382    0.401  0.299   0.314   \n",
      "159  504.0   2.39  2.391   2.53  -0.14  0.145  0.538    0.593  0.346   0.382   \n",
      "\n",
      "      q025   q975 covering mean_ind_cover           method estimand   model  \\\n",
      "0    0.796  0.898      1.0            1.0    Linear_oracle  dynamic  Linear   \n",
      "1     0.76  0.883      1.0            1.0        GP_oracle  dynamic      GP   \n",
      "2    2.551  2.874      1.0            1.0    Linear_oracle    stoch  Linear   \n",
      "3      2.4  2.778      1.0          0.998        GP_oracle    stoch      GP   \n",
      "4    0.522   0.71      0.0          0.222  Linear_observed  dynamic  Linear   \n",
      "..     ...    ...      ...            ...              ...      ...     ...   \n",
      "155  1.581  2.079      0.0           0.68            GP_3S    stoch      GP   \n",
      "156  0.496  0.599      1.0          0.218        Linear_1S  dynamic  Linear   \n",
      "157  0.456  0.579      1.0          0.492            GP_1S  dynamic      GP   \n",
      "158  2.291  2.752      1.0          0.452        Linear_1S    stoch  Linear   \n",
      "159  2.104  2.674      1.0          0.662            GP_1S    stoch      GP   \n",
      "\n",
      "         type  \n",
      "0      oracle  \n",
      "1      oracle  \n",
      "2      oracle  \n",
      "3      oracle  \n",
      "4    observed  \n",
      "..        ...  \n",
      "155        3S  \n",
      "156        1S  \n",
      "157        1S  \n",
      "158        1S  \n",
      "159        1S  \n",
      "\n",
      "[5457 rows x 18 columns]\n"
     ]
    }
   ],
   "execution_count": 24
  },
  {
   "cell_type": "code",
   "source": "combined_df[['bias','median','true','mean','std','RMSE','RMSE_all','MAE', 'MAE_all', 'q025','q975','covering','mean_ind_cover']] = combined_df[['bias','median','true','mean','std','RMSE','RMSE_all','MAE', 'MAE_all', 'q025','q975','covering', 'mean_ind_cover']].apply(pd.to_numeric, errors='coerce')",
   "metadata": {
    "collapsed": false,
    "ExecuteTime": {
     "end_time": "2024-09-16T07:10:35.942879Z",
     "start_time": "2024-09-16T07:10:35.906881Z"
    }
   },
   "id": "19aafa6894d20d9e",
   "outputs": [],
   "execution_count": 25
  },
  {
   "cell_type": "code",
   "source": [
    "# combined_df = combined_df.apply(pd.to_numeric, errors='coerce')\n",
    "\n",
    "\n",
    "combined_df['type'] = combined_df['type'].replace('observed',\"Obs.\")\n",
    "combined_df['type'] = combined_df['type'].replace('oracle',\"Oracle\")\n",
    "combined_df['type'] = combined_df['type'].replace('plugin',\"Plugin\")\n",
    "combined_df['abs_bias'] = np.abs(combined_df['bias'])\n",
    "combined_df['ci_length'] = combined_df['q975'] - combined_df['q025']\n",
    "combined_df['MAPE_manual'] = np.abs((combined_df['mean']-combined_df['true'])/combined_df['true'])\n",
    "\n",
    "# combined_df.to_csv(\"results/linear_dgp_N300.csv\")\n"
   ],
   "metadata": {
    "collapsed": false,
    "ExecuteTime": {
     "end_time": "2024-09-16T07:10:37.032395Z",
     "start_time": "2024-09-16T07:10:37.007171Z"
    }
   },
   "id": "f05115ed993ad881",
   "outputs": [],
   "execution_count": 26
  },
  {
   "metadata": {
    "ExecuteTime": {
     "end_time": "2024-09-16T07:10:38.153918Z",
     "start_time": "2024-09-16T07:10:38.090928Z"
    }
   },
   "cell_type": "code",
   "source": "combined_df[combined_df[\"estimand\"]==\"dynamic\"]",
   "id": "36601e4eb7b27b74",
   "outputs": [
    {
     "data": {
      "text/plain": [
       "       idx   mean  median   true   bias    std   RMSE  RMSE_all    MAE  \\\n",
       "0      1.0  0.847   0.847  0.839  0.008  0.026  0.056     0.071  0.040   \n",
       "1      1.0  0.822   0.821  0.839 -0.017  0.031  0.126     0.190  0.062   \n",
       "4      1.0  0.615   0.614  0.839 -0.224  0.048  0.415     0.421  0.309   \n",
       "5      1.0  0.466   0.466  0.839 -0.373  0.079  0.517     0.545  0.395   \n",
       "8      1.0  0.706   0.704  0.839 -0.133  0.047  0.326     0.390  0.245   \n",
       "..     ...    ...     ...    ...    ...    ...    ...       ...    ...   \n",
       "149  504.0  0.237   0.238  0.516 -0.279  0.046  0.376     0.396  0.290   \n",
       "152  504.0  0.423   0.422  0.516 -0.093  0.030  0.214     0.246  0.155   \n",
       "154  504.0  0.405   0.404  0.516 -0.111  0.035  0.243     0.331  0.167   \n",
       "156  504.0  0.548   0.547  0.516  0.032  0.026  0.181     0.185  0.142   \n",
       "157  504.0  0.519   0.520  0.516  0.003  0.031  0.227     0.255  0.159   \n",
       "\n",
       "     MAE_all  ...   q975  covering  mean_ind_cover           method estimand  \\\n",
       "0      0.043  ...  0.898       1.0           1.000    Linear_oracle  dynamic   \n",
       "1      0.092  ...  0.883       1.0           1.000        GP_oracle  dynamic   \n",
       "4      0.314  ...  0.710       0.0           0.222  Linear_observed  dynamic   \n",
       "5      0.420  ...  0.621       0.0           0.482      GP_observed  dynamic   \n",
       "8      0.300  ...  0.802       0.0           0.866        Linear_3S  dynamic   \n",
       "..       ...  ...    ...       ...             ...              ...      ...   \n",
       "149    0.304  ...  0.326       0.0           0.422      GP_observed  dynamic   \n",
       "152    0.182  ...  0.485       0.0           0.866        Linear_3S  dynamic   \n",
       "154    0.221  ...  0.475       0.0           0.942            GP_3S  dynamic   \n",
       "156    0.145  ...  0.599       1.0           0.218        Linear_1S  dynamic   \n",
       "157    0.171  ...  0.579       1.0           0.492            GP_1S  dynamic   \n",
       "\n",
       "      model    type abs_bias  ci_length  MAPE_manual  \n",
       "0    Linear  Oracle    0.008      0.102     0.009535  \n",
       "1        GP  Oracle    0.017      0.123     0.020262  \n",
       "4    Linear    Obs.    0.224      0.188     0.266985  \n",
       "5        GP    Obs.    0.373      0.310     0.444577  \n",
       "8    Linear      3S    0.133      0.184     0.158522  \n",
       "..      ...     ...      ...        ...          ...  \n",
       "149      GP    Obs.    0.279      0.179     0.540698  \n",
       "152  Linear      3S    0.093      0.118     0.180233  \n",
       "154      GP      3S    0.111      0.137     0.215116  \n",
       "156  Linear      1S    0.032      0.103     0.062016  \n",
       "157      GP      1S    0.003      0.123     0.005814  \n",
       "\n",
       "[2728 rows x 21 columns]"
      ],
      "text/html": [
       "<div>\n",
       "<style scoped>\n",
       "    .dataframe tbody tr th:only-of-type {\n",
       "        vertical-align: middle;\n",
       "    }\n",
       "\n",
       "    .dataframe tbody tr th {\n",
       "        vertical-align: top;\n",
       "    }\n",
       "\n",
       "    .dataframe thead th {\n",
       "        text-align: right;\n",
       "    }\n",
       "</style>\n",
       "<table border=\"1\" class=\"dataframe\">\n",
       "  <thead>\n",
       "    <tr style=\"text-align: right;\">\n",
       "      <th></th>\n",
       "      <th>idx</th>\n",
       "      <th>mean</th>\n",
       "      <th>median</th>\n",
       "      <th>true</th>\n",
       "      <th>bias</th>\n",
       "      <th>std</th>\n",
       "      <th>RMSE</th>\n",
       "      <th>RMSE_all</th>\n",
       "      <th>MAE</th>\n",
       "      <th>MAE_all</th>\n",
       "      <th>...</th>\n",
       "      <th>q975</th>\n",
       "      <th>covering</th>\n",
       "      <th>mean_ind_cover</th>\n",
       "      <th>method</th>\n",
       "      <th>estimand</th>\n",
       "      <th>model</th>\n",
       "      <th>type</th>\n",
       "      <th>abs_bias</th>\n",
       "      <th>ci_length</th>\n",
       "      <th>MAPE_manual</th>\n",
       "    </tr>\n",
       "  </thead>\n",
       "  <tbody>\n",
       "    <tr>\n",
       "      <th>0</th>\n",
       "      <td>1.0</td>\n",
       "      <td>0.847</td>\n",
       "      <td>0.847</td>\n",
       "      <td>0.839</td>\n",
       "      <td>0.008</td>\n",
       "      <td>0.026</td>\n",
       "      <td>0.056</td>\n",
       "      <td>0.071</td>\n",
       "      <td>0.040</td>\n",
       "      <td>0.043</td>\n",
       "      <td>...</td>\n",
       "      <td>0.898</td>\n",
       "      <td>1.0</td>\n",
       "      <td>1.000</td>\n",
       "      <td>Linear_oracle</td>\n",
       "      <td>dynamic</td>\n",
       "      <td>Linear</td>\n",
       "      <td>Oracle</td>\n",
       "      <td>0.008</td>\n",
       "      <td>0.102</td>\n",
       "      <td>0.009535</td>\n",
       "    </tr>\n",
       "    <tr>\n",
       "      <th>1</th>\n",
       "      <td>1.0</td>\n",
       "      <td>0.822</td>\n",
       "      <td>0.821</td>\n",
       "      <td>0.839</td>\n",
       "      <td>-0.017</td>\n",
       "      <td>0.031</td>\n",
       "      <td>0.126</td>\n",
       "      <td>0.190</td>\n",
       "      <td>0.062</td>\n",
       "      <td>0.092</td>\n",
       "      <td>...</td>\n",
       "      <td>0.883</td>\n",
       "      <td>1.0</td>\n",
       "      <td>1.000</td>\n",
       "      <td>GP_oracle</td>\n",
       "      <td>dynamic</td>\n",
       "      <td>GP</td>\n",
       "      <td>Oracle</td>\n",
       "      <td>0.017</td>\n",
       "      <td>0.123</td>\n",
       "      <td>0.020262</td>\n",
       "    </tr>\n",
       "    <tr>\n",
       "      <th>4</th>\n",
       "      <td>1.0</td>\n",
       "      <td>0.615</td>\n",
       "      <td>0.614</td>\n",
       "      <td>0.839</td>\n",
       "      <td>-0.224</td>\n",
       "      <td>0.048</td>\n",
       "      <td>0.415</td>\n",
       "      <td>0.421</td>\n",
       "      <td>0.309</td>\n",
       "      <td>0.314</td>\n",
       "      <td>...</td>\n",
       "      <td>0.710</td>\n",
       "      <td>0.0</td>\n",
       "      <td>0.222</td>\n",
       "      <td>Linear_observed</td>\n",
       "      <td>dynamic</td>\n",
       "      <td>Linear</td>\n",
       "      <td>Obs.</td>\n",
       "      <td>0.224</td>\n",
       "      <td>0.188</td>\n",
       "      <td>0.266985</td>\n",
       "    </tr>\n",
       "    <tr>\n",
       "      <th>5</th>\n",
       "      <td>1.0</td>\n",
       "      <td>0.466</td>\n",
       "      <td>0.466</td>\n",
       "      <td>0.839</td>\n",
       "      <td>-0.373</td>\n",
       "      <td>0.079</td>\n",
       "      <td>0.517</td>\n",
       "      <td>0.545</td>\n",
       "      <td>0.395</td>\n",
       "      <td>0.420</td>\n",
       "      <td>...</td>\n",
       "      <td>0.621</td>\n",
       "      <td>0.0</td>\n",
       "      <td>0.482</td>\n",
       "      <td>GP_observed</td>\n",
       "      <td>dynamic</td>\n",
       "      <td>GP</td>\n",
       "      <td>Obs.</td>\n",
       "      <td>0.373</td>\n",
       "      <td>0.310</td>\n",
       "      <td>0.444577</td>\n",
       "    </tr>\n",
       "    <tr>\n",
       "      <th>8</th>\n",
       "      <td>1.0</td>\n",
       "      <td>0.706</td>\n",
       "      <td>0.704</td>\n",
       "      <td>0.839</td>\n",
       "      <td>-0.133</td>\n",
       "      <td>0.047</td>\n",
       "      <td>0.326</td>\n",
       "      <td>0.390</td>\n",
       "      <td>0.245</td>\n",
       "      <td>0.300</td>\n",
       "      <td>...</td>\n",
       "      <td>0.802</td>\n",
       "      <td>0.0</td>\n",
       "      <td>0.866</td>\n",
       "      <td>Linear_3S</td>\n",
       "      <td>dynamic</td>\n",
       "      <td>Linear</td>\n",
       "      <td>3S</td>\n",
       "      <td>0.133</td>\n",
       "      <td>0.184</td>\n",
       "      <td>0.158522</td>\n",
       "    </tr>\n",
       "    <tr>\n",
       "      <th>...</th>\n",
       "      <td>...</td>\n",
       "      <td>...</td>\n",
       "      <td>...</td>\n",
       "      <td>...</td>\n",
       "      <td>...</td>\n",
       "      <td>...</td>\n",
       "      <td>...</td>\n",
       "      <td>...</td>\n",
       "      <td>...</td>\n",
       "      <td>...</td>\n",
       "      <td>...</td>\n",
       "      <td>...</td>\n",
       "      <td>...</td>\n",
       "      <td>...</td>\n",
       "      <td>...</td>\n",
       "      <td>...</td>\n",
       "      <td>...</td>\n",
       "      <td>...</td>\n",
       "      <td>...</td>\n",
       "      <td>...</td>\n",
       "      <td>...</td>\n",
       "    </tr>\n",
       "    <tr>\n",
       "      <th>149</th>\n",
       "      <td>504.0</td>\n",
       "      <td>0.237</td>\n",
       "      <td>0.238</td>\n",
       "      <td>0.516</td>\n",
       "      <td>-0.279</td>\n",
       "      <td>0.046</td>\n",
       "      <td>0.376</td>\n",
       "      <td>0.396</td>\n",
       "      <td>0.290</td>\n",
       "      <td>0.304</td>\n",
       "      <td>...</td>\n",
       "      <td>0.326</td>\n",
       "      <td>0.0</td>\n",
       "      <td>0.422</td>\n",
       "      <td>GP_observed</td>\n",
       "      <td>dynamic</td>\n",
       "      <td>GP</td>\n",
       "      <td>Obs.</td>\n",
       "      <td>0.279</td>\n",
       "      <td>0.179</td>\n",
       "      <td>0.540698</td>\n",
       "    </tr>\n",
       "    <tr>\n",
       "      <th>152</th>\n",
       "      <td>504.0</td>\n",
       "      <td>0.423</td>\n",
       "      <td>0.422</td>\n",
       "      <td>0.516</td>\n",
       "      <td>-0.093</td>\n",
       "      <td>0.030</td>\n",
       "      <td>0.214</td>\n",
       "      <td>0.246</td>\n",
       "      <td>0.155</td>\n",
       "      <td>0.182</td>\n",
       "      <td>...</td>\n",
       "      <td>0.485</td>\n",
       "      <td>0.0</td>\n",
       "      <td>0.866</td>\n",
       "      <td>Linear_3S</td>\n",
       "      <td>dynamic</td>\n",
       "      <td>Linear</td>\n",
       "      <td>3S</td>\n",
       "      <td>0.093</td>\n",
       "      <td>0.118</td>\n",
       "      <td>0.180233</td>\n",
       "    </tr>\n",
       "    <tr>\n",
       "      <th>154</th>\n",
       "      <td>504.0</td>\n",
       "      <td>0.405</td>\n",
       "      <td>0.404</td>\n",
       "      <td>0.516</td>\n",
       "      <td>-0.111</td>\n",
       "      <td>0.035</td>\n",
       "      <td>0.243</td>\n",
       "      <td>0.331</td>\n",
       "      <td>0.167</td>\n",
       "      <td>0.221</td>\n",
       "      <td>...</td>\n",
       "      <td>0.475</td>\n",
       "      <td>0.0</td>\n",
       "      <td>0.942</td>\n",
       "      <td>GP_3S</td>\n",
       "      <td>dynamic</td>\n",
       "      <td>GP</td>\n",
       "      <td>3S</td>\n",
       "      <td>0.111</td>\n",
       "      <td>0.137</td>\n",
       "      <td>0.215116</td>\n",
       "    </tr>\n",
       "    <tr>\n",
       "      <th>156</th>\n",
       "      <td>504.0</td>\n",
       "      <td>0.548</td>\n",
       "      <td>0.547</td>\n",
       "      <td>0.516</td>\n",
       "      <td>0.032</td>\n",
       "      <td>0.026</td>\n",
       "      <td>0.181</td>\n",
       "      <td>0.185</td>\n",
       "      <td>0.142</td>\n",
       "      <td>0.145</td>\n",
       "      <td>...</td>\n",
       "      <td>0.599</td>\n",
       "      <td>1.0</td>\n",
       "      <td>0.218</td>\n",
       "      <td>Linear_1S</td>\n",
       "      <td>dynamic</td>\n",
       "      <td>Linear</td>\n",
       "      <td>1S</td>\n",
       "      <td>0.032</td>\n",
       "      <td>0.103</td>\n",
       "      <td>0.062016</td>\n",
       "    </tr>\n",
       "    <tr>\n",
       "      <th>157</th>\n",
       "      <td>504.0</td>\n",
       "      <td>0.519</td>\n",
       "      <td>0.520</td>\n",
       "      <td>0.516</td>\n",
       "      <td>0.003</td>\n",
       "      <td>0.031</td>\n",
       "      <td>0.227</td>\n",
       "      <td>0.255</td>\n",
       "      <td>0.159</td>\n",
       "      <td>0.171</td>\n",
       "      <td>...</td>\n",
       "      <td>0.579</td>\n",
       "      <td>1.0</td>\n",
       "      <td>0.492</td>\n",
       "      <td>GP_1S</td>\n",
       "      <td>dynamic</td>\n",
       "      <td>GP</td>\n",
       "      <td>1S</td>\n",
       "      <td>0.003</td>\n",
       "      <td>0.123</td>\n",
       "      <td>0.005814</td>\n",
       "    </tr>\n",
       "  </tbody>\n",
       "</table>\n",
       "<p>2728 rows × 21 columns</p>\n",
       "</div>"
      ]
     },
     "execution_count": 27,
     "metadata": {},
     "output_type": "execute_result"
    }
   ],
   "execution_count": 27
  },
  {
   "metadata": {
    "ExecuteTime": {
     "end_time": "2024-09-16T07:10:38.944752Z",
     "start_time": "2024-09-16T07:10:38.937580Z"
    }
   },
   "cell_type": "code",
   "source": [
    "# print dtype of each column \n",
    "print(combined_df.dtypes)"
   ],
   "id": "bd60242c826af273",
   "outputs": [
    {
     "name": "stdout",
     "output_type": "stream",
     "text": [
      "idx                object\n",
      "mean              float64\n",
      "median            float64\n",
      "true              float64\n",
      "bias              float64\n",
      "std               float64\n",
      "RMSE              float64\n",
      "RMSE_all          float64\n",
      "MAE               float64\n",
      "MAE_all           float64\n",
      "q025              float64\n",
      "q975              float64\n",
      "covering          float64\n",
      "mean_ind_cover    float64\n",
      "method             object\n",
      "estimand           object\n",
      "model              object\n",
      "type               object\n",
      "abs_bias          float64\n",
      "ci_length         float64\n",
      "MAPE_manual       float64\n",
      "dtype: object\n"
     ]
    }
   ],
   "execution_count": 28
  },
  {
   "metadata": {
    "ExecuteTime": {
     "end_time": "2024-09-16T07:11:24.691835Z",
     "start_time": "2024-09-16T07:11:24.665926Z"
    }
   },
   "cell_type": "code",
   "source": [
    "err_mask = (combined_df['type'].values == '3S') & (combined_df['MAE'].values > 1)\n",
    "err_idx = combined_df[err_mask]['idx'].unique()\n",
    "combined_df = combined_df[~combined_df['idx'].isin(err_idx)]"
   ],
   "id": "671b5817fd42966a",
   "outputs": [],
   "execution_count": 33
  },
  {
   "metadata": {},
   "cell_type": "markdown",
   "source": "",
   "id": "c5a50a15336a1dcf"
  },
  {
   "cell_type": "code",
   "source": [
    "def coverage_perc(x):\n",
    "    return np.mean(x)*100\n",
    "\n",
    "# df_summary = combined_df.groupby([\"estimand\", \"model\", \"type\"]).agg(\n",
    "df_summary = combined_df.groupby([\"estimand\", \"model\", \"type\"]).agg(\n",
    "                                        {'mean' : ['mean'],\n",
    "                                         'median' : ['mean'],\n",
    "                                         'std' : ['mean'],\n",
    "                                         'bias' : ['mean'],\n",
    "                                         'true' : ['mean'],\n",
    "                                         'RMSE' : ['mean'],\n",
    "                                         'RMSE_all' : ['mean'],\n",
    "                                         'MAE' : ['mean'],\n",
    "                                         'MAE_all' : ['mean'],\n",
    "                                         # 'MAPE' : ['mean'],\n",
    "                                         'MAPE_manual' : ['mean', 'std'],\n",
    "                                         'q025' : ['mean'],\n",
    "                                         'q975' : ['mean'],\n",
    "                                         'ci_length' : ['mean'],\n",
    "                                         'covering' : [coverage_perc],\n",
    "                                         'mean_ind_cover' : ['mean']}).reset_index()\n",
    "                                         # 'true_included99' : [coverage_perc]})\n",
    "                                         # 'true_included95' : ['mean'],\n",
    "                                         # 'true_included99' : ['mean']})\n",
    "\n",
    "df_summary\n"
   ],
   "metadata": {
    "collapsed": false,
    "ExecuteTime": {
     "end_time": "2024-09-16T07:11:29.750010Z",
     "start_time": "2024-09-16T07:11:29.636691Z"
    }
   },
   "id": "4b840d750966e13a",
   "outputs": [
    {
     "data": {
      "text/plain": [
       "   estimand   model    type      mean    median       std      bias      true  \\\n",
       "                                 mean      mean      mean      mean      mean   \n",
       "0   dynamic      GP      1S  0.745509  0.745873  0.040227  0.005649  0.739860   \n",
       "1   dynamic      GP      3S  0.574686  0.574298  0.044130 -0.165174  0.739860   \n",
       "2   dynamic      GP    Obs.  0.403385  0.403314  0.068807 -0.336475  0.739860   \n",
       "3   dynamic      GP  Oracle  0.718637  0.718991  0.023981 -0.021224  0.739860   \n",
       "4   dynamic  Linear      1S  0.768084  0.767717  0.030786  0.028224  0.739860   \n",
       "5   dynamic  Linear      3S  0.604146  0.603025  0.038382 -0.135714  0.739860   \n",
       "6   dynamic  Linear    Obs.  0.533894  0.533422  0.041910 -0.205966  0.739860   \n",
       "7   dynamic  Linear  Oracle  0.738863  0.738832  0.020689 -0.000997  0.739860   \n",
       "8     stoch      GP      1S  2.662205  2.662556  0.147484  0.014450  2.647755   \n",
       "9     stoch      GP      3S  2.006444  2.006506  0.128509 -0.641311  2.647755   \n",
       "10    stoch      GP    Obs.  1.878891  1.878413  0.147559 -0.768863  2.647755   \n",
       "11    stoch      GP  Oracle  2.565624  2.566332  0.080770 -0.082130  2.647755   \n",
       "12    stoch  Linear      1S  2.753758  2.752401  0.110758  0.106003  2.647755   \n",
       "13    stoch  Linear      3S  2.162466  2.161093  0.119798 -0.485289  2.647755   \n",
       "14    stoch  Linear    Obs.  1.780283  1.778640  0.126994 -0.867472  2.647755   \n",
       "15    stoch  Linear  Oracle  2.643913  2.643696  0.073938 -0.003842  2.647755   \n",
       "\n",
       "        RMSE  RMSE_all       MAE   MAE_all MAPE_manual                q025  \\\n",
       "        mean      mean      mean      mean        mean       std      mean   \n",
       "0   0.344792  0.383568  0.243814  0.260332    0.058827  0.043931  0.665317   \n",
       "1   0.348646  0.452938  0.243227  0.309879    0.221109  0.052634  0.488721   \n",
       "2   0.504106  0.531332  0.393860  0.415304    0.450875  0.104232  0.268953   \n",
       "3   0.166217  0.206870  0.067332  0.088910    0.033657  0.026229  0.670382   \n",
       "4   0.254031  0.258373  0.202575  0.205571    0.059099  0.046175  0.707584   \n",
       "5   0.296124  0.337602  0.220776  0.256031    0.181373  0.051368  0.532103   \n",
       "6   0.377463  0.382457  0.282826  0.287155    0.274225  0.085882  0.451662   \n",
       "7   0.032773  0.051655  0.020124  0.029146    0.021077  0.016002  0.698267   \n",
       "8   0.654003  0.716696  0.437919  0.471342    0.047358  0.036099  2.371916   \n",
       "9   0.830711  0.965441  0.662134  0.745211    0.242242  0.033955  1.754298   \n",
       "10  1.236280  1.287907  0.985786  1.013012    0.290177  0.066414  1.590780   \n",
       "11  0.364447  0.415969  0.153081  0.188264    0.034673  0.024259  2.404407   \n",
       "12  0.429571  0.445748  0.342888  0.354817    0.051214  0.035849  2.536106   \n",
       "13  0.672230  0.737646  0.538963  0.588627    0.183299  0.035850  1.931575   \n",
       "14  1.121503  1.129879  0.909239  0.915388    0.327524  0.056611  1.530727   \n",
       "15  0.062665  0.107366  0.057202  0.082991    0.021099  0.016119  2.498615   \n",
       "\n",
       "        q975 ci_length      covering mean_ind_cover  \n",
       "        mean      mean coverage_perc           mean  \n",
       "0   0.823575  0.158258     85.714286       0.452404  \n",
       "1   0.662553  0.173832      3.416149       0.909124  \n",
       "2   0.538429  0.269475      2.173913       0.447814  \n",
       "3   0.764584  0.094202     87.577640       0.952335  \n",
       "4   0.828901  0.121317     73.913043       0.202031  \n",
       "5   0.682795  0.150693      7.142857       0.803230  \n",
       "6   0.616544  0.164882      4.658385       0.231006  \n",
       "7   0.779236  0.080969     96.894410       0.964441  \n",
       "8   2.950196  0.578280     93.478261       0.581037  \n",
       "9   2.258190  0.503891      0.000000       0.768603  \n",
       "10  2.169106  0.578326      0.931677       0.304727  \n",
       "11  2.721407  0.317000     83.850932       0.918975  \n",
       "12  2.972506  0.436401     80.745342       0.376286  \n",
       "13  2.402646  0.471071      0.621118       0.604155  \n",
       "14  2.030888  0.500162      0.000000       0.162988  \n",
       "15  2.788332  0.289717     96.894410       0.965273  "
      ],
      "text/html": [
       "<div>\n",
       "<style scoped>\n",
       "    .dataframe tbody tr th:only-of-type {\n",
       "        vertical-align: middle;\n",
       "    }\n",
       "\n",
       "    .dataframe tbody tr th {\n",
       "        vertical-align: top;\n",
       "    }\n",
       "\n",
       "    .dataframe thead tr th {\n",
       "        text-align: left;\n",
       "    }\n",
       "</style>\n",
       "<table border=\"1\" class=\"dataframe\">\n",
       "  <thead>\n",
       "    <tr>\n",
       "      <th></th>\n",
       "      <th>estimand</th>\n",
       "      <th>model</th>\n",
       "      <th>type</th>\n",
       "      <th>mean</th>\n",
       "      <th>median</th>\n",
       "      <th>std</th>\n",
       "      <th>bias</th>\n",
       "      <th>true</th>\n",
       "      <th>RMSE</th>\n",
       "      <th>RMSE_all</th>\n",
       "      <th>MAE</th>\n",
       "      <th>MAE_all</th>\n",
       "      <th colspan=\"2\" halign=\"left\">MAPE_manual</th>\n",
       "      <th>q025</th>\n",
       "      <th>q975</th>\n",
       "      <th>ci_length</th>\n",
       "      <th>covering</th>\n",
       "      <th>mean_ind_cover</th>\n",
       "    </tr>\n",
       "    <tr>\n",
       "      <th></th>\n",
       "      <th></th>\n",
       "      <th></th>\n",
       "      <th></th>\n",
       "      <th>mean</th>\n",
       "      <th>mean</th>\n",
       "      <th>mean</th>\n",
       "      <th>mean</th>\n",
       "      <th>mean</th>\n",
       "      <th>mean</th>\n",
       "      <th>mean</th>\n",
       "      <th>mean</th>\n",
       "      <th>mean</th>\n",
       "      <th>mean</th>\n",
       "      <th>std</th>\n",
       "      <th>mean</th>\n",
       "      <th>mean</th>\n",
       "      <th>mean</th>\n",
       "      <th>coverage_perc</th>\n",
       "      <th>mean</th>\n",
       "    </tr>\n",
       "  </thead>\n",
       "  <tbody>\n",
       "    <tr>\n",
       "      <th>0</th>\n",
       "      <td>dynamic</td>\n",
       "      <td>GP</td>\n",
       "      <td>1S</td>\n",
       "      <td>0.745509</td>\n",
       "      <td>0.745873</td>\n",
       "      <td>0.040227</td>\n",
       "      <td>0.005649</td>\n",
       "      <td>0.739860</td>\n",
       "      <td>0.344792</td>\n",
       "      <td>0.383568</td>\n",
       "      <td>0.243814</td>\n",
       "      <td>0.260332</td>\n",
       "      <td>0.058827</td>\n",
       "      <td>0.043931</td>\n",
       "      <td>0.665317</td>\n",
       "      <td>0.823575</td>\n",
       "      <td>0.158258</td>\n",
       "      <td>85.714286</td>\n",
       "      <td>0.452404</td>\n",
       "    </tr>\n",
       "    <tr>\n",
       "      <th>1</th>\n",
       "      <td>dynamic</td>\n",
       "      <td>GP</td>\n",
       "      <td>3S</td>\n",
       "      <td>0.574686</td>\n",
       "      <td>0.574298</td>\n",
       "      <td>0.044130</td>\n",
       "      <td>-0.165174</td>\n",
       "      <td>0.739860</td>\n",
       "      <td>0.348646</td>\n",
       "      <td>0.452938</td>\n",
       "      <td>0.243227</td>\n",
       "      <td>0.309879</td>\n",
       "      <td>0.221109</td>\n",
       "      <td>0.052634</td>\n",
       "      <td>0.488721</td>\n",
       "      <td>0.662553</td>\n",
       "      <td>0.173832</td>\n",
       "      <td>3.416149</td>\n",
       "      <td>0.909124</td>\n",
       "    </tr>\n",
       "    <tr>\n",
       "      <th>2</th>\n",
       "      <td>dynamic</td>\n",
       "      <td>GP</td>\n",
       "      <td>Obs.</td>\n",
       "      <td>0.403385</td>\n",
       "      <td>0.403314</td>\n",
       "      <td>0.068807</td>\n",
       "      <td>-0.336475</td>\n",
       "      <td>0.739860</td>\n",
       "      <td>0.504106</td>\n",
       "      <td>0.531332</td>\n",
       "      <td>0.393860</td>\n",
       "      <td>0.415304</td>\n",
       "      <td>0.450875</td>\n",
       "      <td>0.104232</td>\n",
       "      <td>0.268953</td>\n",
       "      <td>0.538429</td>\n",
       "      <td>0.269475</td>\n",
       "      <td>2.173913</td>\n",
       "      <td>0.447814</td>\n",
       "    </tr>\n",
       "    <tr>\n",
       "      <th>3</th>\n",
       "      <td>dynamic</td>\n",
       "      <td>GP</td>\n",
       "      <td>Oracle</td>\n",
       "      <td>0.718637</td>\n",
       "      <td>0.718991</td>\n",
       "      <td>0.023981</td>\n",
       "      <td>-0.021224</td>\n",
       "      <td>0.739860</td>\n",
       "      <td>0.166217</td>\n",
       "      <td>0.206870</td>\n",
       "      <td>0.067332</td>\n",
       "      <td>0.088910</td>\n",
       "      <td>0.033657</td>\n",
       "      <td>0.026229</td>\n",
       "      <td>0.670382</td>\n",
       "      <td>0.764584</td>\n",
       "      <td>0.094202</td>\n",
       "      <td>87.577640</td>\n",
       "      <td>0.952335</td>\n",
       "    </tr>\n",
       "    <tr>\n",
       "      <th>4</th>\n",
       "      <td>dynamic</td>\n",
       "      <td>Linear</td>\n",
       "      <td>1S</td>\n",
       "      <td>0.768084</td>\n",
       "      <td>0.767717</td>\n",
       "      <td>0.030786</td>\n",
       "      <td>0.028224</td>\n",
       "      <td>0.739860</td>\n",
       "      <td>0.254031</td>\n",
       "      <td>0.258373</td>\n",
       "      <td>0.202575</td>\n",
       "      <td>0.205571</td>\n",
       "      <td>0.059099</td>\n",
       "      <td>0.046175</td>\n",
       "      <td>0.707584</td>\n",
       "      <td>0.828901</td>\n",
       "      <td>0.121317</td>\n",
       "      <td>73.913043</td>\n",
       "      <td>0.202031</td>\n",
       "    </tr>\n",
       "    <tr>\n",
       "      <th>5</th>\n",
       "      <td>dynamic</td>\n",
       "      <td>Linear</td>\n",
       "      <td>3S</td>\n",
       "      <td>0.604146</td>\n",
       "      <td>0.603025</td>\n",
       "      <td>0.038382</td>\n",
       "      <td>-0.135714</td>\n",
       "      <td>0.739860</td>\n",
       "      <td>0.296124</td>\n",
       "      <td>0.337602</td>\n",
       "      <td>0.220776</td>\n",
       "      <td>0.256031</td>\n",
       "      <td>0.181373</td>\n",
       "      <td>0.051368</td>\n",
       "      <td>0.532103</td>\n",
       "      <td>0.682795</td>\n",
       "      <td>0.150693</td>\n",
       "      <td>7.142857</td>\n",
       "      <td>0.803230</td>\n",
       "    </tr>\n",
       "    <tr>\n",
       "      <th>6</th>\n",
       "      <td>dynamic</td>\n",
       "      <td>Linear</td>\n",
       "      <td>Obs.</td>\n",
       "      <td>0.533894</td>\n",
       "      <td>0.533422</td>\n",
       "      <td>0.041910</td>\n",
       "      <td>-0.205966</td>\n",
       "      <td>0.739860</td>\n",
       "      <td>0.377463</td>\n",
       "      <td>0.382457</td>\n",
       "      <td>0.282826</td>\n",
       "      <td>0.287155</td>\n",
       "      <td>0.274225</td>\n",
       "      <td>0.085882</td>\n",
       "      <td>0.451662</td>\n",
       "      <td>0.616544</td>\n",
       "      <td>0.164882</td>\n",
       "      <td>4.658385</td>\n",
       "      <td>0.231006</td>\n",
       "    </tr>\n",
       "    <tr>\n",
       "      <th>7</th>\n",
       "      <td>dynamic</td>\n",
       "      <td>Linear</td>\n",
       "      <td>Oracle</td>\n",
       "      <td>0.738863</td>\n",
       "      <td>0.738832</td>\n",
       "      <td>0.020689</td>\n",
       "      <td>-0.000997</td>\n",
       "      <td>0.739860</td>\n",
       "      <td>0.032773</td>\n",
       "      <td>0.051655</td>\n",
       "      <td>0.020124</td>\n",
       "      <td>0.029146</td>\n",
       "      <td>0.021077</td>\n",
       "      <td>0.016002</td>\n",
       "      <td>0.698267</td>\n",
       "      <td>0.779236</td>\n",
       "      <td>0.080969</td>\n",
       "      <td>96.894410</td>\n",
       "      <td>0.964441</td>\n",
       "    </tr>\n",
       "    <tr>\n",
       "      <th>8</th>\n",
       "      <td>stoch</td>\n",
       "      <td>GP</td>\n",
       "      <td>1S</td>\n",
       "      <td>2.662205</td>\n",
       "      <td>2.662556</td>\n",
       "      <td>0.147484</td>\n",
       "      <td>0.014450</td>\n",
       "      <td>2.647755</td>\n",
       "      <td>0.654003</td>\n",
       "      <td>0.716696</td>\n",
       "      <td>0.437919</td>\n",
       "      <td>0.471342</td>\n",
       "      <td>0.047358</td>\n",
       "      <td>0.036099</td>\n",
       "      <td>2.371916</td>\n",
       "      <td>2.950196</td>\n",
       "      <td>0.578280</td>\n",
       "      <td>93.478261</td>\n",
       "      <td>0.581037</td>\n",
       "    </tr>\n",
       "    <tr>\n",
       "      <th>9</th>\n",
       "      <td>stoch</td>\n",
       "      <td>GP</td>\n",
       "      <td>3S</td>\n",
       "      <td>2.006444</td>\n",
       "      <td>2.006506</td>\n",
       "      <td>0.128509</td>\n",
       "      <td>-0.641311</td>\n",
       "      <td>2.647755</td>\n",
       "      <td>0.830711</td>\n",
       "      <td>0.965441</td>\n",
       "      <td>0.662134</td>\n",
       "      <td>0.745211</td>\n",
       "      <td>0.242242</td>\n",
       "      <td>0.033955</td>\n",
       "      <td>1.754298</td>\n",
       "      <td>2.258190</td>\n",
       "      <td>0.503891</td>\n",
       "      <td>0.000000</td>\n",
       "      <td>0.768603</td>\n",
       "    </tr>\n",
       "    <tr>\n",
       "      <th>10</th>\n",
       "      <td>stoch</td>\n",
       "      <td>GP</td>\n",
       "      <td>Obs.</td>\n",
       "      <td>1.878891</td>\n",
       "      <td>1.878413</td>\n",
       "      <td>0.147559</td>\n",
       "      <td>-0.768863</td>\n",
       "      <td>2.647755</td>\n",
       "      <td>1.236280</td>\n",
       "      <td>1.287907</td>\n",
       "      <td>0.985786</td>\n",
       "      <td>1.013012</td>\n",
       "      <td>0.290177</td>\n",
       "      <td>0.066414</td>\n",
       "      <td>1.590780</td>\n",
       "      <td>2.169106</td>\n",
       "      <td>0.578326</td>\n",
       "      <td>0.931677</td>\n",
       "      <td>0.304727</td>\n",
       "    </tr>\n",
       "    <tr>\n",
       "      <th>11</th>\n",
       "      <td>stoch</td>\n",
       "      <td>GP</td>\n",
       "      <td>Oracle</td>\n",
       "      <td>2.565624</td>\n",
       "      <td>2.566332</td>\n",
       "      <td>0.080770</td>\n",
       "      <td>-0.082130</td>\n",
       "      <td>2.647755</td>\n",
       "      <td>0.364447</td>\n",
       "      <td>0.415969</td>\n",
       "      <td>0.153081</td>\n",
       "      <td>0.188264</td>\n",
       "      <td>0.034673</td>\n",
       "      <td>0.024259</td>\n",
       "      <td>2.404407</td>\n",
       "      <td>2.721407</td>\n",
       "      <td>0.317000</td>\n",
       "      <td>83.850932</td>\n",
       "      <td>0.918975</td>\n",
       "    </tr>\n",
       "    <tr>\n",
       "      <th>12</th>\n",
       "      <td>stoch</td>\n",
       "      <td>Linear</td>\n",
       "      <td>1S</td>\n",
       "      <td>2.753758</td>\n",
       "      <td>2.752401</td>\n",
       "      <td>0.110758</td>\n",
       "      <td>0.106003</td>\n",
       "      <td>2.647755</td>\n",
       "      <td>0.429571</td>\n",
       "      <td>0.445748</td>\n",
       "      <td>0.342888</td>\n",
       "      <td>0.354817</td>\n",
       "      <td>0.051214</td>\n",
       "      <td>0.035849</td>\n",
       "      <td>2.536106</td>\n",
       "      <td>2.972506</td>\n",
       "      <td>0.436401</td>\n",
       "      <td>80.745342</td>\n",
       "      <td>0.376286</td>\n",
       "    </tr>\n",
       "    <tr>\n",
       "      <th>13</th>\n",
       "      <td>stoch</td>\n",
       "      <td>Linear</td>\n",
       "      <td>3S</td>\n",
       "      <td>2.162466</td>\n",
       "      <td>2.161093</td>\n",
       "      <td>0.119798</td>\n",
       "      <td>-0.485289</td>\n",
       "      <td>2.647755</td>\n",
       "      <td>0.672230</td>\n",
       "      <td>0.737646</td>\n",
       "      <td>0.538963</td>\n",
       "      <td>0.588627</td>\n",
       "      <td>0.183299</td>\n",
       "      <td>0.035850</td>\n",
       "      <td>1.931575</td>\n",
       "      <td>2.402646</td>\n",
       "      <td>0.471071</td>\n",
       "      <td>0.621118</td>\n",
       "      <td>0.604155</td>\n",
       "    </tr>\n",
       "    <tr>\n",
       "      <th>14</th>\n",
       "      <td>stoch</td>\n",
       "      <td>Linear</td>\n",
       "      <td>Obs.</td>\n",
       "      <td>1.780283</td>\n",
       "      <td>1.778640</td>\n",
       "      <td>0.126994</td>\n",
       "      <td>-0.867472</td>\n",
       "      <td>2.647755</td>\n",
       "      <td>1.121503</td>\n",
       "      <td>1.129879</td>\n",
       "      <td>0.909239</td>\n",
       "      <td>0.915388</td>\n",
       "      <td>0.327524</td>\n",
       "      <td>0.056611</td>\n",
       "      <td>1.530727</td>\n",
       "      <td>2.030888</td>\n",
       "      <td>0.500162</td>\n",
       "      <td>0.000000</td>\n",
       "      <td>0.162988</td>\n",
       "    </tr>\n",
       "    <tr>\n",
       "      <th>15</th>\n",
       "      <td>stoch</td>\n",
       "      <td>Linear</td>\n",
       "      <td>Oracle</td>\n",
       "      <td>2.643913</td>\n",
       "      <td>2.643696</td>\n",
       "      <td>0.073938</td>\n",
       "      <td>-0.003842</td>\n",
       "      <td>2.647755</td>\n",
       "      <td>0.062665</td>\n",
       "      <td>0.107366</td>\n",
       "      <td>0.057202</td>\n",
       "      <td>0.082991</td>\n",
       "      <td>0.021099</td>\n",
       "      <td>0.016119</td>\n",
       "      <td>2.498615</td>\n",
       "      <td>2.788332</td>\n",
       "      <td>0.289717</td>\n",
       "      <td>96.894410</td>\n",
       "      <td>0.965273</td>\n",
       "    </tr>\n",
       "  </tbody>\n",
       "</table>\n",
       "</div>"
      ]
     },
     "execution_count": 34,
     "metadata": {},
     "output_type": "execute_result"
    }
   ],
   "execution_count": 34
  },
  {
   "cell_type": "code",
   "source": [
    "flierprops = dict(marker='.', markerfacecolor='None', markersize=1,  markeredgecolor='grey')\n",
    "box_rmse = sns.boxplot(data=combined_df[combined_df[\"estimand\"]==\"dynamic\"], x = 'method', y = 'RMSE',\n",
    "               # order = ['Oracle', 'Plugin','1','Cut-3S','Obs.'],\n",
    "                       hue = \"model\", palette = 'pastel',\n",
    "                       flierprops=flierprops)\n",
    "box_rmse.set_title(\"RMSE dynamic estimand\")\n",
    "# plt.ylim(0,.5)\n",
    "plt.xticks(rotation=90)\n",
    "box_rmse.set_xlabel(\"\")\n",
    "box_rmse.set_ylabel(\"\")\n",
    "# sns.despine()"
   ],
   "metadata": {
    "collapsed": false,
    "ExecuteTime": {
     "end_time": "2024-09-16T07:06:49.936378Z",
     "start_time": "2024-09-16T07:06:49.662106Z"
    }
   },
   "id": "ec90e99e7c3bd69",
   "outputs": [
    {
     "data": {
      "text/plain": [
       "Text(0, 0.5, '')"
      ]
     },
     "execution_count": 16,
     "metadata": {},
     "output_type": "execute_result"
    },
    {
     "data": {
      "text/plain": [
       "<Figure size 640x480 with 1 Axes>"
      ],
      "image/png": "[encoded data removed]"
     },
     "metadata": {},
     "output_type": "display_data"
    }
   ],
   "execution_count": 16
  },
  {
   "metadata": {
    "ExecuteTime": {
     "end_time": "2024-09-16T07:17:35.269232Z",
     "start_time": "2024-09-16T07:17:34.941945Z"
    }
   },
   "cell_type": "code",
   "source": [
    "flierprops = dict(marker='.', markerfacecolor='None', markersize=6,  markeredgecolor='grey')\n",
    "box_rmse = sns.boxplot(data=combined_df[combined_df[\"estimand\"]==\"dynamic\"], x = 'method', y = 'MAPE_manual',\n",
    "               # order = ['Oracle', 'Plugin','1','Cut-3S','Obs.'],\n",
    "                       hue = \"method\", palette = 'pastel',\n",
    "                       flierprops=flierprops)\n",
    "box_rmse.set_title(\"MAPE manual dynamic estimand\")\n",
    "plt.ylim(0,1)\n",
    "plt.xticks(rotation=90)\n",
    "box_rmse.set_xlabel(\"\")\n",
    "box_rmse.set_ylabel(\"\")"
   ],
   "id": "d32444069606a2ed",
   "outputs": [
    {
     "data": {
      "text/plain": [
       "Text(0, 0.5, '')"
      ]
     },
     "execution_count": 36,
     "metadata": {},
     "output_type": "execute_result"
    },
    {
     "data": {
      "text/plain": [
       "<Figure size 640x480 with 1 Axes>"
      ],
      "image/png": "[encoded data removed]"
     },
     "metadata": {},
     "output_type": "display_data"
    }
   ],
   "execution_count": 36
  },
  {
   "cell_type": "code",
   "source": [
    "flierprops = dict(marker='.', markerfacecolor='None', markersize=6,  markeredgecolor='grey')\n",
    "box_rmse = sns.boxplot(data=combined_df[combined_df[\"estimand\"]==\"stoch\"], x = 'method', y = 'RMSE',\n",
    "               # order = ['Oracle', 'Plugin','1','Cut-3S','Obs.'],\n",
    "                       hue = \"method\", palette = 'pastel',\n",
    "                       flierprops=flierprops)\n",
    "box_rmse.set_title(\"RMSE stochastic estimand\")\n",
    "plt.ylim(0,2)\n",
    "plt.xticks(rotation=90)\n",
    "box_rmse.set_xlabel(\"\")\n",
    "box_rmse.set_ylabel(\"\")"
   ],
   "metadata": {
    "collapsed": false,
    "ExecuteTime": {
     "end_time": "2024-09-16T07:07:01.476824Z",
     "start_time": "2024-09-16T07:07:01.078414Z"
    }
   },
   "id": "2699a38656300874",
   "outputs": [
    {
     "data": {
      "text/plain": [
       "Text(0, 0.5, '')"
      ]
     },
     "execution_count": 18,
     "metadata": {},
     "output_type": "execute_result"
    },
    {
     "data": {
      "text/plain": [
       "<Figure size 640x480 with 1 Axes>"
      ],
      "image/png": "[encoded data removed]"
     },
     "metadata": {},
     "output_type": "display_data"
    }
   ],
   "execution_count": 18
  },
  {
   "metadata": {
    "ExecuteTime": {
     "end_time": "2024-09-16T07:11:00.590601Z",
     "start_time": "2024-09-16T07:11:00.258494Z"
    }
   },
   "cell_type": "code",
   "source": [
    "flierprops = dict(marker='.', markerfacecolor='None', markersize=6,  markeredgecolor='grey')\n",
    "box_rmse = sns.boxplot(data=combined_df[combined_df[\"estimand\"]==\"stoch\"], x = 'method', y = 'MAPE_manual',\n",
    "               # order = ['Oracle', 'Plugin','1','Cut-3S','Obs.'],\n",
    "                       hue = \"method\", palette = 'pastel',\n",
    "                       flierprops=flierprops)\n",
    "box_rmse.set_title(\"MAPE stochastic estimand\")\n",
    "plt.ylim(0,1)\n",
    "plt.xticks(rotation=90)\n",
    "box_rmse.set_xlabel(\"\")\n",
    "box_rmse.set_ylabel(\"\")"
   ],
   "id": "6241148be612df77",
   "outputs": [
    {
     "data": {
      "text/plain": [
       "Text(0, 0.5, '')"
      ]
     },
     "execution_count": 32,
     "metadata": {},
     "output_type": "execute_result"
    },
    {
     "data": {
      "text/plain": [
       "<Figure size 640x480 with 1 Axes>"
      ],
      "image/png": "[encoded data removed]"
     },
     "metadata": {},
     "output_type": "display_data"
    }
   ],
   "execution_count": 32
  },
  {
   "cell_type": "code",
   "source": [
    "box_bias = sns.boxplot(data=combined_df[combined_df[\"estimand\"]==\"dynamic\"], x = 'method', y = 'abs_bias',\n",
    "               # order = ['Oracle', 'Plugin','1','Cut-3S','Obs.'],\n",
    "                       hue = \"method\", palette = 'pastel',\n",
    "                       flierprops=flierprops)\n",
    "plt.axhline(0, color='grey', linestyle='--', alpha=0.5)\n",
    "box_bias.set_title(\"abs. bias (dynamic)\")\n",
    "plt.ylim(0,2)\n",
    "plt.xticks(rotation=90)\n",
    "box_bias.set_xlabel(\"\")\n",
    "box_bias.set_ylabel(\"\")"
   ],
   "metadata": {
    "collapsed": false,
    "ExecuteTime": {
     "end_time": "2024-09-16T07:07:14.855270Z",
     "start_time": "2024-09-16T07:07:14.510027Z"
    }
   },
   "id": "70039b7cbb8a1b0f",
   "outputs": [
    {
     "data": {
      "text/plain": [
       "Text(0, 0.5, '')"
      ]
     },
     "execution_count": 20,
     "metadata": {},
     "output_type": "execute_result"
    },
    {
     "data": {
      "text/plain": [
       "<Figure size 640x480 with 1 Axes>"
      ],
      "image/png": "[encoded data removed]"
     },
     "metadata": {},
     "output_type": "display_data"
    }
   ],
   "execution_count": 20
  },
  {
   "cell_type": "code",
   "source": [
    "box_std = sns.boxplot(data=combined_df[combined_df[\"estimand\"]==\"dynamic\"], x = 'method', y = 'std',\n",
    "               # order = ['Oracle', 'Plugin','1','Cut-3S','Obs.'],\n",
    "                       hue = \"method\", palette = 'pastel',\n",
    "                       flierprops=flierprops)\n",
    "plt.axhline(0, color='grey', linestyle='--', alpha=0.5)\n",
    "box_std.set_title(\"std (dynamic)\")\n",
    "plt.ylim(0,.3)\n",
    "plt.xticks(rotation=90)\n",
    "box_std.set_xlabel(\"\")\n",
    "box_std.set_ylabel(\"\")"
   ],
   "metadata": {
    "collapsed": false,
    "ExecuteTime": {
     "end_time": "2024-09-12T06:25:14.044950Z",
     "start_time": "2024-09-12T06:25:13.711330Z"
    }
   },
   "id": "c67be5e906613408",
   "outputs": [
    {
     "data": {
      "text/plain": [
       "Text(0, 0.5, '')"
      ]
     },
     "execution_count": 42,
     "metadata": {},
     "output_type": "execute_result"
    },
    {
     "data": {
      "text/plain": [
       "<Figure size 640x480 with 1 Axes>"
      ],
      "image/png": "[encoded data removed]"
     },
     "metadata": {},
     "output_type": "display_data"
    }
   ],
   "execution_count": 42
  },
  {
   "metadata": {
    "ExecuteTime": {
     "end_time": "2024-09-12T06:25:16.294332Z",
     "start_time": "2024-09-12T06:25:15.975037Z"
    }
   },
   "cell_type": "code",
   "source": [
    "box_bias = sns.boxplot(data=combined_df[combined_df[\"estimand\"]==\"stoch\"], x = 'method', y = 'abs_bias',\n",
    "               # order = ['Oracle', 'Plugin','1','Cut-3S','Obs.'],\n",
    "                       hue = \"method\", palette = 'pastel',\n",
    "                       flierprops=flierprops)\n",
    "plt.axhline(0, color='grey', linestyle='--', alpha=0.5)\n",
    "box_bias.set_title(\"abs. bias (stochastic)\")\n",
    "# plt.ylim(0,.25)\n",
    "plt.xticks(rotation=90)\n",
    "box_bias.set_xlabel(\"\")\n",
    "box_bias.set_ylabel(\"\")"
   ],
   "id": "2025e5831ed93e55",
   "outputs": [
    {
     "data": {
      "text/plain": [
       "Text(0, 0.5, '')"
      ]
     },
     "execution_count": 43,
     "metadata": {},
     "output_type": "execute_result"
    },
    {
     "data": {
      "text/plain": [
       "<Figure size 640x480 with 1 Axes>"
      ],
      "image/png": "[encoded data removed]"
     },
     "metadata": {},
     "output_type": "display_data"
    }
   ],
   "execution_count": 43
  },
  {
   "cell_type": "code",
   "source": [
    "box_std = sns.boxplot(data=combined_df[combined_df[\"estimand\"]==\"stoch\"], x = 'method', y = 'std',\n",
    "               # order = ['Oracle', 'Plugin','1','Cut-3S','Obs.'],\n",
    "                       hue = \"method\", palette = 'pastel',\n",
    "                       flierprops=flierprops)\n",
    "plt.axhline(0, color='grey', linestyle='--', alpha=0.5)\n",
    "box_std.set_title(\"std (stochastic)\")\n",
    "# plt.ylim(0,.1)\n",
    "plt.xticks(rotation=90)\n",
    "box_std.set_xlabel(\"\")\n",
    "box_std.set_ylabel(\"\")"
   ],
   "metadata": {
    "collapsed": false,
    "ExecuteTime": {
     "end_time": "2024-09-12T06:25:30.126883Z",
     "start_time": "2024-09-12T06:25:29.822066Z"
    }
   },
   "id": "6b910fca90c43b6e",
   "outputs": [
    {
     "data": {
      "text/plain": [
       "Text(0, 0.5, '')"
      ]
     },
     "execution_count": 44,
     "metadata": {},
     "output_type": "execute_result"
    },
    {
     "data": {
      "text/plain": [
       "<Figure size 640x480 with 1 Axes>"
      ],
      "image/png": "[encoded data removed]"
     },
     "metadata": {},
     "output_type": "display_data"
    }
   ],
   "execution_count": 44
  },
  {
   "metadata": {
    "ExecuteTime": {
     "end_time": "2024-09-12T06:25:31.709510Z",
     "start_time": "2024-09-12T06:25:31.676122Z"
    }
   },
   "cell_type": "code",
   "source": [
    "def format_percentage(value, x=1):\n",
    "    return f\"{value*x:.1f}%\"\n",
    "\n",
    "df_summary_dynamic = df_summary[df_summary[\"estimand\"]==\"dynamic\"]\n",
    "# df_summary_dynamic = df_summary[df_summary[\"estimand\"]==\"stoch\"]\n",
    "df_summary_dynamic.columns = df_summary_dynamic.columns.droplevel(1)\n",
    "df_summary_dynamic[\"coverage\"] = df_summary_dynamic[\"covering\"].apply(format_percentage)\n",
    "df_summary_dynamic[\"mean_ind_cover\"] = df_summary_dynamic[\"mean_ind_cover\"].apply(format_percentage, x=100)\n",
    "print(df_summary_dynamic)\n",
    "\n",
    "combined_df_dynamic = combined_df[combined_df[\"estimand\"]==\"dynamic\"]\n",
    "# combined_df_dynamic = combined_df[combined_df[\"estimand\"]==\"stoch\"]\n",
    "# print(combined_df_dynamic)"
   ],
   "id": "b030a036d2b20a2a",
   "outputs": [
    {
     "name": "stdout",
     "output_type": "stream",
     "text": [
      "  estimand   model    type      mean    median       std      bias      TRUE  \\\n",
      "0  dynamic      GP      1S  2.686303  2.686614  0.078935 -0.007258  2.729679   \n",
      "1  dynamic      GP      3S  2.556009  2.555488  0.090106 -0.137553  2.729679   \n",
      "2  dynamic      GP    Obs.  1.903802  1.903843  0.158993 -0.789760  2.729679   \n",
      "3  dynamic      GP  Oracle  2.665387  2.665429  0.066088 -0.028175  2.729679   \n",
      "4  dynamic  Linear      1S  2.715503  2.715357  0.057726  0.021942  2.729679   \n",
      "5  dynamic  Linear      3S  2.600056  2.599382  0.075782 -0.093506  2.729679   \n",
      "6  dynamic  Linear    Obs.  2.274139  2.274045  0.065130 -0.419422  2.729679   \n",
      "7  dynamic  Linear  Oracle  2.694056  2.693935  0.050027  0.000494  2.729679   \n",
      "\n",
      "       RMSE  RMSE_all       MAE   MAE_all       MAPE      q025      q975  \\\n",
      "0  0.672238  0.728494  0.481562  0.516519  21.319234  2.530816  2.840398   \n",
      "1  0.719519  0.859364  0.527715  0.635025  10.586998  2.381072  2.733973   \n",
      "2  1.568245  1.608144  1.217872  1.242838  49.793683  1.592573  2.215335   \n",
      "3  0.386072  0.458202  0.192303  0.253605   1.110942  2.535802  2.794742   \n",
      "4  0.521614  0.535339  0.414263  0.424721  13.256641  2.602023  2.829501   \n",
      "5  0.598503  0.713816  0.470524  0.560569   9.442933  2.454065  2.750625   \n",
      "6  1.065144  1.072542  0.770796  0.777998   5.507398  2.146699  2.401724   \n",
      "7  0.099876  0.148515  0.080652  0.113676   2.874659  2.595751  2.792881   \n",
      "\n",
      "   ci_length   covering mean_ind_cover coverage  \n",
      "0   0.309582  88.314607          52.6%    88.3%  \n",
      "1   0.352901  64.719101          82.2%    64.7%  \n",
      "2   0.622762   2.022472          31.3%     2.0%  \n",
      "3   0.258939  90.561798          94.0%    90.6%  \n",
      "4   0.227479  80.449438          31.8%    80.4%  \n",
      "5   0.296560  74.382022          79.3%    74.4%  \n",
      "6   0.255025   1.123596          21.4%     1.1%  \n",
      "7   0.197130  93.707865          94.8%    93.7%  \n"
     ]
    },
    {
     "name": "stderr",
     "output_type": "stream",
     "text": [
      "C:\\Users\\bar21\\AppData\\Local\\Temp\\ipykernel_13124\\2229529795.py:7: SettingWithCopyWarning: \n",
      "A value is trying to be set on a copy of a slice from a DataFrame.\n",
      "Try using .loc[row_indexer,col_indexer] = value instead\n",
      "\n",
      "See the caveats in the documentation: https://pandas.pydata.org/pandas-docs/stable/user_guide/indexing.html#returning-a-view-versus-a-copy\n",
      "  df_summary_dynamic[\"coverage\"] = df_summary_dynamic[\"covering\"].apply(format_percentage)\n",
      "C:\\Users\\bar21\\AppData\\Local\\Temp\\ipykernel_13124\\2229529795.py:8: SettingWithCopyWarning: \n",
      "A value is trying to be set on a copy of a slice from a DataFrame.\n",
      "Try using .loc[row_indexer,col_indexer] = value instead\n",
      "\n",
      "See the caveats in the documentation: https://pandas.pydata.org/pandas-docs/stable/user_guide/indexing.html#returning-a-view-versus-a-copy\n",
      "  df_summary_dynamic[\"mean_ind_cover\"] = df_summary_dynamic[\"mean_ind_cover\"].apply(format_percentage, x=100)\n"
     ]
    }
   ],
   "execution_count": 45
  },
  {
   "metadata": {
    "ExecuteTime": {
     "end_time": "2024-09-12T06:25:58.081394Z",
     "start_time": "2024-09-12T06:25:58.047196Z"
    }
   },
   "cell_type": "code",
   "source": [
    "df_summary_dynamic['model_type'] = df_summary_dynamic[['model', 'type']].apply(lambda x: '_'.join(x), axis=1)\n",
    "\n",
    "print(df_summary_dynamic)\n"
   ],
   "id": "c5a54e8dc88307da",
   "outputs": [
    {
     "name": "stdout",
     "output_type": "stream",
     "text": [
      "  estimand   model    type      mean    median       std      bias      TRUE  \\\n",
      "0  dynamic      GP      1S  2.686303  2.686614  0.078935 -0.007258  2.729679   \n",
      "1  dynamic      GP      3S  2.556009  2.555488  0.090106 -0.137553  2.729679   \n",
      "2  dynamic      GP    Obs.  1.903802  1.903843  0.158993 -0.789760  2.729679   \n",
      "3  dynamic      GP  Oracle  2.665387  2.665429  0.066088 -0.028175  2.729679   \n",
      "4  dynamic  Linear      1S  2.715503  2.715357  0.057726  0.021942  2.729679   \n",
      "5  dynamic  Linear      3S  2.600056  2.599382  0.075782 -0.093506  2.729679   \n",
      "6  dynamic  Linear    Obs.  2.274139  2.274045  0.065130 -0.419422  2.729679   \n",
      "7  dynamic  Linear  Oracle  2.694056  2.693935  0.050027  0.000494  2.729679   \n",
      "\n",
      "       RMSE  RMSE_all       MAE   MAE_all       MAPE      q025      q975  \\\n",
      "0  0.672238  0.728494  0.481562  0.516519  21.319234  2.530816  2.840398   \n",
      "1  0.719519  0.859364  0.527715  0.635025  10.586998  2.381072  2.733973   \n",
      "2  1.568245  1.608144  1.217872  1.242838  49.793683  1.592573  2.215335   \n",
      "3  0.386072  0.458202  0.192303  0.253605   1.110942  2.535802  2.794742   \n",
      "4  0.521614  0.535339  0.414263  0.424721  13.256641  2.602023  2.829501   \n",
      "5  0.598503  0.713816  0.470524  0.560569   9.442933  2.454065  2.750625   \n",
      "6  1.065144  1.072542  0.770796  0.777998   5.507398  2.146699  2.401724   \n",
      "7  0.099876  0.148515  0.080652  0.113676   2.874659  2.595751  2.792881   \n",
      "\n",
      "   ci_length   covering mean_ind_cover coverage     model_type  \n",
      "0   0.309582  88.314607          52.6%    88.3%          GP_1S  \n",
      "1   0.352901  64.719101          82.2%    64.7%          GP_3S  \n",
      "2   0.622762   2.022472          31.3%     2.0%        GP_Obs.  \n",
      "3   0.258939  90.561798          94.0%    90.6%      GP_Oracle  \n",
      "4   0.227479  80.449438          31.8%    80.4%      Linear_1S  \n",
      "5   0.296560  74.382022          79.3%    74.4%      Linear_3S  \n",
      "6   0.255025   1.123596          21.4%     1.1%    Linear_Obs.  \n",
      "7   0.197130  93.707865          94.8%    93.7%  Linear_Oracle  \n"
     ]
    },
    {
     "name": "stderr",
     "output_type": "stream",
     "text": [
      "C:\\Users\\bar21\\AppData\\Local\\Temp\\ipykernel_13124\\2384414092.py:1: SettingWithCopyWarning: \n",
      "A value is trying to be set on a copy of a slice from a DataFrame.\n",
      "Try using .loc[row_indexer,col_indexer] = value instead\n",
      "\n",
      "See the caveats in the documentation: https://pandas.pydata.org/pandas-docs/stable/user_guide/indexing.html#returning-a-view-versus-a-copy\n",
      "  df_summary_dynamic['model_type'] = df_summary_dynamic[['model', 'type']].apply(lambda x: '_'.join(x), axis=1)\n"
     ]
    }
   ],
   "execution_count": 46
  },
  {
   "metadata": {
    "ExecuteTime": {
     "end_time": "2024-09-10T10:22:03.352047Z",
     "start_time": "2024-09-10T10:22:01.316255Z"
    }
   },
   "cell_type": "code",
   "source": "df_summary_dynamic[\"true\"]",
   "id": "245b804d0528344d",
   "outputs": [
    {
     "ename": "KeyError",
     "evalue": "'true'",
     "output_type": "error",
     "traceback": [
      "\u001B[1;31m---------------------------------------------------------------------------\u001B[0m",
      "\u001B[1;31mKeyError\u001B[0m                                  Traceback (most recent call last)",
      "File \u001B[1;32m~\\.conda\\envs\\STAT\\Lib\\site-packages\\pandas\\core\\indexes\\base.py:3802\u001B[0m, in \u001B[0;36mIndex.get_loc\u001B[1;34m(self, key)\u001B[0m\n\u001B[0;32m   3801\u001B[0m \u001B[38;5;28;01mtry\u001B[39;00m:\n\u001B[1;32m-> 3802\u001B[0m     \u001B[38;5;28;01mreturn\u001B[39;00m \u001B[38;5;28;43mself\u001B[39;49m\u001B[38;5;241;43m.\u001B[39;49m\u001B[43m_engine\u001B[49m\u001B[38;5;241;43m.\u001B[39;49m\u001B[43mget_loc\u001B[49m\u001B[43m(\u001B[49m\u001B[43mcasted_key\u001B[49m\u001B[43m)\u001B[49m\n\u001B[0;32m   3803\u001B[0m \u001B[38;5;28;01mexcept\u001B[39;00m \u001B[38;5;167;01mKeyError\u001B[39;00m \u001B[38;5;28;01mas\u001B[39;00m err:\n",
      "File \u001B[1;32mindex.pyx:153\u001B[0m, in \u001B[0;36mpandas._libs.index.IndexEngine.get_loc\u001B[1;34m()\u001B[0m\n",
      "File \u001B[1;32mindex.pyx:182\u001B[0m, in \u001B[0;36mpandas._libs.index.IndexEngine.get_loc\u001B[1;34m()\u001B[0m\n",
      "File \u001B[1;32mpandas\\\\_libs\\\\hashtable_class_helper.pxi:7081\u001B[0m, in \u001B[0;36mpandas._libs.hashtable.PyObjectHashTable.get_item\u001B[1;34m()\u001B[0m\n",
      "File \u001B[1;32mpandas\\\\_libs\\\\hashtable_class_helper.pxi:7089\u001B[0m, in \u001B[0;36mpandas._libs.hashtable.PyObjectHashTable.get_item\u001B[1;34m()\u001B[0m\n",
      "\u001B[1;31mKeyError\u001B[0m: 'true'",
      "\nThe above exception was the direct cause of the following exception:\n",
      "\u001B[1;31mKeyError\u001B[0m                                  Traceback (most recent call last)",
      "Cell \u001B[1;32mIn[25], line 1\u001B[0m\n\u001B[1;32m----> 1\u001B[0m \u001B[43mdf_summary_dynamic\u001B[49m\u001B[43m[\u001B[49m\u001B[38;5;124;43m\"\u001B[39;49m\u001B[38;5;124;43mtrue\u001B[39;49m\u001B[38;5;124;43m\"\u001B[39;49m\u001B[43m]\u001B[49m\n",
      "File \u001B[1;32m~\\.conda\\envs\\STAT\\Lib\\site-packages\\pandas\\core\\frame.py:4090\u001B[0m, in \u001B[0;36mDataFrame.__getitem__\u001B[1;34m(self, key)\u001B[0m\n\u001B[0;32m   4088\u001B[0m \u001B[38;5;28;01mif\u001B[39;00m \u001B[38;5;28mself\u001B[39m\u001B[38;5;241m.\u001B[39mcolumns\u001B[38;5;241m.\u001B[39mnlevels \u001B[38;5;241m>\u001B[39m \u001B[38;5;241m1\u001B[39m:\n\u001B[0;32m   4089\u001B[0m     \u001B[38;5;28;01mreturn\u001B[39;00m \u001B[38;5;28mself\u001B[39m\u001B[38;5;241m.\u001B[39m_getitem_multilevel(key)\n\u001B[1;32m-> 4090\u001B[0m indexer \u001B[38;5;241m=\u001B[39m \u001B[38;5;28;43mself\u001B[39;49m\u001B[38;5;241;43m.\u001B[39;49m\u001B[43mcolumns\u001B[49m\u001B[38;5;241;43m.\u001B[39;49m\u001B[43mget_loc\u001B[49m\u001B[43m(\u001B[49m\u001B[43mkey\u001B[49m\u001B[43m)\u001B[49m\n\u001B[0;32m   4091\u001B[0m \u001B[38;5;28;01mif\u001B[39;00m is_integer(indexer):\n\u001B[0;32m   4092\u001B[0m     indexer \u001B[38;5;241m=\u001B[39m [indexer]\n",
      "File \u001B[1;32m~\\.conda\\envs\\STAT\\Lib\\site-packages\\pandas\\core\\indexes\\base.py:3809\u001B[0m, in \u001B[0;36mIndex.get_loc\u001B[1;34m(self, key)\u001B[0m\n\u001B[0;32m   3804\u001B[0m     \u001B[38;5;28;01mif\u001B[39;00m \u001B[38;5;28misinstance\u001B[39m(casted_key, \u001B[38;5;28mslice\u001B[39m) \u001B[38;5;129;01mor\u001B[39;00m (\n\u001B[0;32m   3805\u001B[0m         \u001B[38;5;28misinstance\u001B[39m(casted_key, abc\u001B[38;5;241m.\u001B[39mIterable)\n\u001B[0;32m   3806\u001B[0m         \u001B[38;5;129;01mand\u001B[39;00m \u001B[38;5;28many\u001B[39m(\u001B[38;5;28misinstance\u001B[39m(x, \u001B[38;5;28mslice\u001B[39m) \u001B[38;5;28;01mfor\u001B[39;00m x \u001B[38;5;129;01min\u001B[39;00m casted_key)\n\u001B[0;32m   3807\u001B[0m     ):\n\u001B[0;32m   3808\u001B[0m         \u001B[38;5;28;01mraise\u001B[39;00m InvalidIndexError(key)\n\u001B[1;32m-> 3809\u001B[0m     \u001B[38;5;28;01mraise\u001B[39;00m \u001B[38;5;167;01mKeyError\u001B[39;00m(key) \u001B[38;5;28;01mfrom\u001B[39;00m \u001B[38;5;21;01merr\u001B[39;00m\n\u001B[0;32m   3810\u001B[0m \u001B[38;5;28;01mexcept\u001B[39;00m \u001B[38;5;167;01mTypeError\u001B[39;00m:\n\u001B[0;32m   3811\u001B[0m     \u001B[38;5;66;03m# If we have a listlike key, _check_indexing_error will raise\u001B[39;00m\n\u001B[0;32m   3812\u001B[0m     \u001B[38;5;66;03m#  InvalidIndexError. Otherwise we fall through and re-raise\u001B[39;00m\n\u001B[0;32m   3813\u001B[0m     \u001B[38;5;66;03m#  the TypeError.\u001B[39;00m\n\u001B[0;32m   3814\u001B[0m     \u001B[38;5;28mself\u001B[39m\u001B[38;5;241m.\u001B[39m_check_indexing_error(key)\n",
      "\u001B[1;31mKeyError\u001B[0m: 'true'"
     ]
    }
   ],
   "execution_count": 25
  },
  {
   "cell_type": "code",
   "source": [
    "# Plot points with error bars\n",
    "categories = np.arange(len(df_summary_dynamic['model_type']))\n",
    "category_labels = df_summary_dynamic['model_type'].unique()\n",
    "\n",
    "# Create a dictionary to map category positions\n",
    "\n",
    "# Map categ to positions\n",
    "model_names = ['True', 'Observed', 'Multi-stage', 'Plug-in']\n",
    "model_order = ['Linear_Oracle', 'GP_Oracle', 'Linear_Obs.', 'GP_Obs.',\n",
    "               'Linear_3S', 'GP_3S', 'Linear_1S', 'GP_1S']\n",
    "categ_pos = {category: pos for pos, category in enumerate(model_order)}\n",
    "df_summary_dynamic['categ_pos'] = df_summary_dynamic['model_type'].map(categ_pos)\n",
    "# combined_df_dynamic['categ_pos'] = combined_df_dynamic['model_type'].map(categ_pos)\n",
    "\n",
    "# Assign colors to categ2\n",
    "unique_categ2 = df_summary_dynamic['model']\n",
    "# colors = plt.cm.tab10(np.linspace(0, 1, len(unique_categ2)))\n",
    "color_map = { \"GP\" : \"tab:orange\", \"Linear\" : \"tab:blue\"}\n",
    "# color_map = dict(zip(unique_categ2, colors))\n",
    "\n",
    "# Plotting\n",
    "plt.style.use('seaborn-v0_8-colorblind')\n",
    "# plt.style.use('fast')\n",
    "\n",
    "fig, axs = plt.subplots(1, 2, figsize=(14, 5),\n",
    "                        gridspec_kw={'width_ratios': [1, 1]}, sharey=True)\n",
    "# for ax in axs:\n",
    "#     ax.set_facecolor('white')\n",
    "# Plot points with different colors based on categ2\n",
    "for categ2 in unique_categ2:\n",
    "    subset = df_summary_dynamic[df_summary_dynamic['type'] == categ2]\n",
    "    axs[0].scatter(subset['mean'],\n",
    "                subset['categ_pos'],\n",
    "                label=f'{categ2}', color=color_map[categ2], s=650)\n",
    "\n",
    "\n",
    "for i, row in df_summary_dynamic.iterrows():\n",
    "    axs[0].errorbar(\n",
    "        row['mean'] - row['true'], \n",
    "        row['categ_pos'], \n",
    "        xerr=[[row['mean'] - row['q025']],\n",
    "              [row['q975'] - row['mean']]], \n",
    "        fmt='o', \n",
    "        # color='black', \n",
    "        color = color_map[row['model']], \n",
    "        ecolor = color_map[row['model']], \n",
    "        # ecolor='black', \n",
    "        capsize=5, markersize = 8   \n",
    "    )\n",
    "    \n",
    "    axs[0].annotate(\n",
    "                    # row['mean_ind_cover'], \n",
    "                    row['coverage'], \n",
    "                    xy=(row['mean'] - row['true'], row['categ_pos']), \n",
    "                    xytext=(0, 13), \n",
    "                    textcoords='offset points', \n",
    "                    ha='center', \n",
    "                    va='top',\n",
    "                    fontsize=10, \n",
    "                    color='black')    \n",
    "\n",
    "# Customize the x-axis to show category labels\n",
    "axs[0].set_yticks(np.arange(0.5,len(model_order),2))\n",
    "# axs[0].set_yticklabels(model_order)\n",
    "axs[0].set_yticklabels(model_names, fontsize=14, fontweight='bold')\n",
    "axs[0].set_ylim(-1, len(model_order) - 0.5)\n",
    "# axs[0].axvline(df_summary_dynamic[\"true\"][0], color='grey', linestyle='--', alpha=0.5)\n",
    "axs[0].axvline(0, color='black', linestyle='--', alpha=0.3)\n",
    "axs[0].set_title('Coverage & Mean error (95% CI)', fontsize=16, fontweight='bold')\n",
    "# axs[0].grid(True)\n",
    "\n",
    "\n",
    "flierprops = dict(marker='.', markerfacecolor='None', markersize=3,  markeredgecolor='grey')\n",
    "sns.boxplot(\n",
    "    data=combined_df_dynamic, \n",
    "    # x='MAE', \n",
    "    x='RMSE', \n",
    "    # x='MAPE', \n",
    "    y='method', \n",
    "    hue=\"model\", \n",
    "    palette=color_map, \n",
    "    ax=axs[1],\n",
    "    flierprops=flierprops\n",
    ")\n",
    "\n",
    "axs[1].set_yticks(np.arange(0.5,len(model_order),2))\n",
    "axs[1].set_ylim(-1, len(model_order) - 0.5)\n",
    "# axs[1].set_yticklabels([])\n",
    "axs[1].set_xlabel('')\n",
    "axs[1].set_ylabel('')\n",
    "axs[1].set_title('RMSE', fontsize=18, fontweight='bold')\n",
    "handles, labels = axs[1].get_legend_handles_labels()\n",
    "ordered_handles = [handles[1], handles[0]]  # Reorder legend\n",
    "ordered_labels = [labels[1], labels[0]]  # Reorder labels\n",
    "axs[1].legend(ordered_handles, ordered_labels, title='', loc='upper right', \n",
    "              fontsize=13)\n",
    "# axs[1].grid(True)\n",
    "plt.tight_layout()\n",
    "# plt.style.use('seaborn-whitegrid')\n",
    "axs[0].tick_params(axis='x', labelsize=12)\n",
    "axs[1].tick_params(axis='x', labelsize=12)\n",
    "\n",
    "\n",
    "# plt.savefig('results/figs/nonlin_truncated_parab.png', dpi = 1000)           # Save as PNG file\n",
    "plt.show()\n"
   ],
   "metadata": {
    "collapsed": false,
    "ExecuteTime": {
     "end_time": "2024-09-10T10:22:05.025145Z",
     "start_time": "2024-09-10T10:22:04.379097Z"
    }
   },
   "id": "840fb89bd415aeec",
   "outputs": [
    {
     "name": "stderr",
     "output_type": "stream",
     "text": [
      "C:\\Users\\bar21\\AppData\\Local\\Temp\\ipykernel_23944\\2107373927.py:12: SettingWithCopyWarning: \n",
      "A value is trying to be set on a copy of a slice from a DataFrame.\n",
      "Try using .loc[row_indexer,col_indexer] = value instead\n",
      "\n",
      "See the caveats in the documentation: https://pandas.pydata.org/pandas-docs/stable/user_guide/indexing.html#returning-a-view-versus-a-copy\n",
      "  df_summary_dynamic['categ_pos'] = df_summary_dynamic['model_type'].map(categ_pos)\n"
     ]
    },
    {
     "ename": "KeyError",
     "evalue": "'true'",
     "output_type": "error",
     "traceback": [
      "\u001B[1;31m---------------------------------------------------------------------------\u001B[0m",
      "\u001B[1;31mKeyError\u001B[0m                                  Traceback (most recent call last)",
      "File \u001B[1;32m~\\.conda\\envs\\STAT\\Lib\\site-packages\\pandas\\core\\indexes\\base.py:3802\u001B[0m, in \u001B[0;36mIndex.get_loc\u001B[1;34m(self, key)\u001B[0m\n\u001B[0;32m   3801\u001B[0m \u001B[38;5;28;01mtry\u001B[39;00m:\n\u001B[1;32m-> 3802\u001B[0m     \u001B[38;5;28;01mreturn\u001B[39;00m \u001B[38;5;28;43mself\u001B[39;49m\u001B[38;5;241;43m.\u001B[39;49m\u001B[43m_engine\u001B[49m\u001B[38;5;241;43m.\u001B[39;49m\u001B[43mget_loc\u001B[49m\u001B[43m(\u001B[49m\u001B[43mcasted_key\u001B[49m\u001B[43m)\u001B[49m\n\u001B[0;32m   3803\u001B[0m \u001B[38;5;28;01mexcept\u001B[39;00m \u001B[38;5;167;01mKeyError\u001B[39;00m \u001B[38;5;28;01mas\u001B[39;00m err:\n",
      "File \u001B[1;32mindex.pyx:153\u001B[0m, in \u001B[0;36mpandas._libs.index.IndexEngine.get_loc\u001B[1;34m()\u001B[0m\n",
      "File \u001B[1;32mindex.pyx:182\u001B[0m, in \u001B[0;36mpandas._libs.index.IndexEngine.get_loc\u001B[1;34m()\u001B[0m\n",
      "File \u001B[1;32mpandas\\\\_libs\\\\hashtable_class_helper.pxi:7081\u001B[0m, in \u001B[0;36mpandas._libs.hashtable.PyObjectHashTable.get_item\u001B[1;34m()\u001B[0m\n",
      "File \u001B[1;32mpandas\\\\_libs\\\\hashtable_class_helper.pxi:7089\u001B[0m, in \u001B[0;36mpandas._libs.hashtable.PyObjectHashTable.get_item\u001B[1;34m()\u001B[0m\n",
      "\u001B[1;31mKeyError\u001B[0m: 'true'",
      "\nThe above exception was the direct cause of the following exception:\n",
      "\u001B[1;31mKeyError\u001B[0m                                  Traceback (most recent call last)",
      "Cell \u001B[1;32mIn[26], line 39\u001B[0m\n\u001B[0;32m     32\u001B[0m     axs[\u001B[38;5;241m0\u001B[39m]\u001B[38;5;241m.\u001B[39mscatter(subset[\u001B[38;5;124m'\u001B[39m\u001B[38;5;124mmean\u001B[39m\u001B[38;5;124m'\u001B[39m],\n\u001B[0;32m     33\u001B[0m                 subset[\u001B[38;5;124m'\u001B[39m\u001B[38;5;124mcateg_pos\u001B[39m\u001B[38;5;124m'\u001B[39m],\n\u001B[0;32m     34\u001B[0m                 label\u001B[38;5;241m=\u001B[39m\u001B[38;5;124mf\u001B[39m\u001B[38;5;124m'\u001B[39m\u001B[38;5;132;01m{\u001B[39;00mcateg2\u001B[38;5;132;01m}\u001B[39;00m\u001B[38;5;124m'\u001B[39m, color\u001B[38;5;241m=\u001B[39mcolor_map[categ2], s\u001B[38;5;241m=\u001B[39m\u001B[38;5;241m650\u001B[39m)\n\u001B[0;32m     37\u001B[0m \u001B[38;5;28;01mfor\u001B[39;00m i, row \u001B[38;5;129;01min\u001B[39;00m df_summary_dynamic\u001B[38;5;241m.\u001B[39miterrows():\n\u001B[0;32m     38\u001B[0m     axs[\u001B[38;5;241m0\u001B[39m]\u001B[38;5;241m.\u001B[39merrorbar(\n\u001B[1;32m---> 39\u001B[0m         row[\u001B[38;5;124m'\u001B[39m\u001B[38;5;124mmean\u001B[39m\u001B[38;5;124m'\u001B[39m] \u001B[38;5;241m-\u001B[39m \u001B[43mrow\u001B[49m\u001B[43m[\u001B[49m\u001B[38;5;124;43m'\u001B[39;49m\u001B[38;5;124;43mtrue\u001B[39;49m\u001B[38;5;124;43m'\u001B[39;49m\u001B[43m]\u001B[49m, \n\u001B[0;32m     40\u001B[0m         row[\u001B[38;5;124m'\u001B[39m\u001B[38;5;124mcateg_pos\u001B[39m\u001B[38;5;124m'\u001B[39m], \n\u001B[0;32m     41\u001B[0m         xerr\u001B[38;5;241m=\u001B[39m[[row[\u001B[38;5;124m'\u001B[39m\u001B[38;5;124mmean\u001B[39m\u001B[38;5;124m'\u001B[39m] \u001B[38;5;241m-\u001B[39m row[\u001B[38;5;124m'\u001B[39m\u001B[38;5;124mq025\u001B[39m\u001B[38;5;124m'\u001B[39m]],\n\u001B[0;32m     42\u001B[0m               [row[\u001B[38;5;124m'\u001B[39m\u001B[38;5;124mq975\u001B[39m\u001B[38;5;124m'\u001B[39m] \u001B[38;5;241m-\u001B[39m row[\u001B[38;5;124m'\u001B[39m\u001B[38;5;124mmean\u001B[39m\u001B[38;5;124m'\u001B[39m]]], \n\u001B[0;32m     43\u001B[0m         fmt\u001B[38;5;241m=\u001B[39m\u001B[38;5;124m'\u001B[39m\u001B[38;5;124mo\u001B[39m\u001B[38;5;124m'\u001B[39m, \n\u001B[0;32m     44\u001B[0m         \u001B[38;5;66;03m# color='black', \u001B[39;00m\n\u001B[0;32m     45\u001B[0m         color \u001B[38;5;241m=\u001B[39m color_map[row[\u001B[38;5;124m'\u001B[39m\u001B[38;5;124mmodel\u001B[39m\u001B[38;5;124m'\u001B[39m]], \n\u001B[0;32m     46\u001B[0m         ecolor \u001B[38;5;241m=\u001B[39m color_map[row[\u001B[38;5;124m'\u001B[39m\u001B[38;5;124mmodel\u001B[39m\u001B[38;5;124m'\u001B[39m]], \n\u001B[0;32m     47\u001B[0m         \u001B[38;5;66;03m# ecolor='black', \u001B[39;00m\n\u001B[0;32m     48\u001B[0m         capsize\u001B[38;5;241m=\u001B[39m\u001B[38;5;241m5\u001B[39m, markersize \u001B[38;5;241m=\u001B[39m \u001B[38;5;241m8\u001B[39m   \n\u001B[0;32m     49\u001B[0m     )\n\u001B[0;32m     51\u001B[0m     axs[\u001B[38;5;241m0\u001B[39m]\u001B[38;5;241m.\u001B[39mannotate(\n\u001B[0;32m     52\u001B[0m                     \u001B[38;5;66;03m# row['mean_ind_cover'], \u001B[39;00m\n\u001B[0;32m     53\u001B[0m                     row[\u001B[38;5;124m'\u001B[39m\u001B[38;5;124mcoverage\u001B[39m\u001B[38;5;124m'\u001B[39m], \n\u001B[1;32m   (...)\u001B[0m\n\u001B[0;32m     59\u001B[0m                     fontsize\u001B[38;5;241m=\u001B[39m\u001B[38;5;241m10\u001B[39m, \n\u001B[0;32m     60\u001B[0m                     color\u001B[38;5;241m=\u001B[39m\u001B[38;5;124m'\u001B[39m\u001B[38;5;124mblack\u001B[39m\u001B[38;5;124m'\u001B[39m)    \n\u001B[0;32m     62\u001B[0m \u001B[38;5;66;03m# Customize the x-axis to show category labels\u001B[39;00m\n",
      "File \u001B[1;32m~\\.conda\\envs\\STAT\\Lib\\site-packages\\pandas\\core\\series.py:1111\u001B[0m, in \u001B[0;36mSeries.__getitem__\u001B[1;34m(self, key)\u001B[0m\n\u001B[0;32m   1108\u001B[0m     \u001B[38;5;28;01mreturn\u001B[39;00m \u001B[38;5;28mself\u001B[39m\u001B[38;5;241m.\u001B[39m_values[key]\n\u001B[0;32m   1110\u001B[0m \u001B[38;5;28;01melif\u001B[39;00m key_is_scalar:\n\u001B[1;32m-> 1111\u001B[0m     \u001B[38;5;28;01mreturn\u001B[39;00m \u001B[38;5;28;43mself\u001B[39;49m\u001B[38;5;241;43m.\u001B[39;49m\u001B[43m_get_value\u001B[49m\u001B[43m(\u001B[49m\u001B[43mkey\u001B[49m\u001B[43m)\u001B[49m\n\u001B[0;32m   1113\u001B[0m \u001B[38;5;66;03m# Convert generator to list before going through hashable part\u001B[39;00m\n\u001B[0;32m   1114\u001B[0m \u001B[38;5;66;03m# (We will iterate through the generator there to check for slices)\u001B[39;00m\n\u001B[0;32m   1115\u001B[0m \u001B[38;5;28;01mif\u001B[39;00m is_iterator(key):\n",
      "File \u001B[1;32m~\\.conda\\envs\\STAT\\Lib\\site-packages\\pandas\\core\\series.py:1227\u001B[0m, in \u001B[0;36mSeries._get_value\u001B[1;34m(self, label, takeable)\u001B[0m\n\u001B[0;32m   1224\u001B[0m     \u001B[38;5;28;01mreturn\u001B[39;00m \u001B[38;5;28mself\u001B[39m\u001B[38;5;241m.\u001B[39m_values[label]\n\u001B[0;32m   1226\u001B[0m \u001B[38;5;66;03m# Similar to Index.get_value, but we do not fall back to positional\u001B[39;00m\n\u001B[1;32m-> 1227\u001B[0m loc \u001B[38;5;241m=\u001B[39m \u001B[38;5;28;43mself\u001B[39;49m\u001B[38;5;241;43m.\u001B[39;49m\u001B[43mindex\u001B[49m\u001B[38;5;241;43m.\u001B[39;49m\u001B[43mget_loc\u001B[49m\u001B[43m(\u001B[49m\u001B[43mlabel\u001B[49m\u001B[43m)\u001B[49m\n\u001B[0;32m   1229\u001B[0m \u001B[38;5;28;01mif\u001B[39;00m is_integer(loc):\n\u001B[0;32m   1230\u001B[0m     \u001B[38;5;28;01mreturn\u001B[39;00m \u001B[38;5;28mself\u001B[39m\u001B[38;5;241m.\u001B[39m_values[loc]\n",
      "File \u001B[1;32m~\\.conda\\envs\\STAT\\Lib\\site-packages\\pandas\\core\\indexes\\base.py:3809\u001B[0m, in \u001B[0;36mIndex.get_loc\u001B[1;34m(self, key)\u001B[0m\n\u001B[0;32m   3804\u001B[0m     \u001B[38;5;28;01mif\u001B[39;00m \u001B[38;5;28misinstance\u001B[39m(casted_key, \u001B[38;5;28mslice\u001B[39m) \u001B[38;5;129;01mor\u001B[39;00m (\n\u001B[0;32m   3805\u001B[0m         \u001B[38;5;28misinstance\u001B[39m(casted_key, abc\u001B[38;5;241m.\u001B[39mIterable)\n\u001B[0;32m   3806\u001B[0m         \u001B[38;5;129;01mand\u001B[39;00m \u001B[38;5;28many\u001B[39m(\u001B[38;5;28misinstance\u001B[39m(x, \u001B[38;5;28mslice\u001B[39m) \u001B[38;5;28;01mfor\u001B[39;00m x \u001B[38;5;129;01min\u001B[39;00m casted_key)\n\u001B[0;32m   3807\u001B[0m     ):\n\u001B[0;32m   3808\u001B[0m         \u001B[38;5;28;01mraise\u001B[39;00m InvalidIndexError(key)\n\u001B[1;32m-> 3809\u001B[0m     \u001B[38;5;28;01mraise\u001B[39;00m \u001B[38;5;167;01mKeyError\u001B[39;00m(key) \u001B[38;5;28;01mfrom\u001B[39;00m \u001B[38;5;21;01merr\u001B[39;00m\n\u001B[0;32m   3810\u001B[0m \u001B[38;5;28;01mexcept\u001B[39;00m \u001B[38;5;167;01mTypeError\u001B[39;00m:\n\u001B[0;32m   3811\u001B[0m     \u001B[38;5;66;03m# If we have a listlike key, _check_indexing_error will raise\u001B[39;00m\n\u001B[0;32m   3812\u001B[0m     \u001B[38;5;66;03m#  InvalidIndexError. Otherwise we fall through and re-raise\u001B[39;00m\n\u001B[0;32m   3813\u001B[0m     \u001B[38;5;66;03m#  the TypeError.\u001B[39;00m\n\u001B[0;32m   3814\u001B[0m     \u001B[38;5;28mself\u001B[39m\u001B[38;5;241m.\u001B[39m_check_indexing_error(key)\n",
      "\u001B[1;31mKeyError\u001B[0m: 'true'"
     ]
    },
    {
     "data": {
      "text/plain": [
       "<Figure size 1400x500 with 2 Axes>"
      ],
      "image/png": "[encoded data removed]"
     },
     "metadata": {},
     "output_type": "display_data"
    }
   ],
   "execution_count": 26
  },
  {
   "cell_type": "code",
   "source": [],
   "metadata": {
    "collapsed": false
   },
   "id": "840d26cf9cf419c9",
   "outputs": [],
   "execution_count": null
  }
 ],
 "metadata": {
  "kernelspec": {
   "display_name": "Python 3",
   "language": "python",
   "name": "python3"
  },
  "language_info": {
   "codemirror_mode": {
    "name": "ipython",
    "version": 2
   },
   "file_extension": ".py",
   "mimetype": "text/x-python",
   "name": "python",
   "nbconvert_exporter": "python",
   "pygments_lexer": "ipython2",
   "version": "2.7.6"
  }
 },
 "nbformat": 4,
 "nbformat_minor": 5
}
