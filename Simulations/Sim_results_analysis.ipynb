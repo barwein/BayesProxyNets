{
 "cells": [
  {
   "cell_type": "code",
   "id": "initial_id",
   "metadata": {
    "collapsed": true,
    "ExecuteTime": {
     "end_time": "2024-10-06T09:05:38.390857Z",
     "start_time": "2024-10-06T09:05:38.382115Z"
    }
   },
   "source": [
    "import pandas as pd\n",
    "import matplotlib.pyplot as plt\n",
    "import seaborn as sns \n",
    "import numpy as np\n",
    "import glob\n",
    "import re\n"
   ],
   "outputs": [],
   "execution_count": 97
  },
  {
   "cell_type": "code",
   "source": [
    "# beige_color = (255/255,253/255,250/255)\n",
    "beige_color = '#FFFDFA'\n",
    "\n",
    "# sns.set_theme(style=\"ticks\", rc={'figure.facecolor': beige_color, 'axes.facecolor' : beige_color})\n",
    "sns.set_theme(style=\"ticks\")\n",
    "# sns.set_context(\"talk\")\n",
    "# sns.set_context(\"poster\")\n"
   ],
   "metadata": {
    "collapsed": false,
    "ExecuteTime": {
     "end_time": "2024-10-06T09:05:38.847253Z",
     "start_time": "2024-10-06T09:05:38.831631Z"
    }
   },
   "id": "f0dbd5f1909a557c",
   "outputs": [],
   "execution_count": 98
  },
  {
   "cell_type": "code",
   "source": [
    "path = \"results/linear_multi\"\n",
    "all_file = glob.glob(path + \"/*.csv\")\n",
    "print(all_file)"
   ],
   "metadata": {
    "collapsed": false,
    "ExecuteTime": {
     "end_time": "2024-10-06T09:05:58.913961Z",
     "start_time": "2024-10-06T09:05:58.900413Z"
    }
   },
   "id": "2c0f7444c72510b0",
   "outputs": [
    {
     "name": "stdout",
     "output_type": "stream",
     "text": [
      "['results/linear_multi\\\\linear_dgp_svi_diff_1.csv', 'results/linear_multi\\\\linear_dgp_svi_diff_10.csv', 'results/linear_multi\\\\linear_dgp_svi_diff_11.csv', 'results/linear_multi\\\\linear_dgp_svi_diff_12.csv', 'results/linear_multi\\\\linear_dgp_svi_diff_13.csv', 'results/linear_multi\\\\linear_dgp_svi_diff_14.csv', 'results/linear_multi\\\\linear_dgp_svi_diff_15.csv', 'results/linear_multi\\\\linear_dgp_svi_diff_16.csv', 'results/linear_multi\\\\linear_dgp_svi_diff_17.csv', 'results/linear_multi\\\\linear_dgp_svi_diff_18.csv', 'results/linear_multi\\\\linear_dgp_svi_diff_19.csv', 'results/linear_multi\\\\linear_dgp_svi_diff_2.csv', 'results/linear_multi\\\\linear_dgp_svi_diff_20.csv', 'results/linear_multi\\\\linear_dgp_svi_diff_21.csv', 'results/linear_multi\\\\linear_dgp_svi_diff_22.csv', 'results/linear_multi\\\\linear_dgp_svi_diff_23.csv', 'results/linear_multi\\\\linear_dgp_svi_diff_24.csv', 'results/linear_multi\\\\linear_dgp_svi_diff_25.csv', 'results/linear_multi\\\\linear_dgp_svi_diff_26.csv', 'results/linear_multi\\\\linear_dgp_svi_diff_27.csv', 'results/linear_multi\\\\linear_dgp_svi_diff_28.csv', 'results/linear_multi\\\\linear_dgp_svi_diff_29.csv', 'results/linear_multi\\\\linear_dgp_svi_diff_3.csv', 'results/linear_multi\\\\linear_dgp_svi_diff_30.csv', 'results/linear_multi\\\\linear_dgp_svi_diff_31.csv', 'results/linear_multi\\\\linear_dgp_svi_diff_32.csv', 'results/linear_multi\\\\linear_dgp_svi_diff_33.csv', 'results/linear_multi\\\\linear_dgp_svi_diff_34.csv', 'results/linear_multi\\\\linear_dgp_svi_diff_35.csv', 'results/linear_multi\\\\linear_dgp_svi_diff_36.csv', 'results/linear_multi\\\\linear_dgp_svi_diff_37.csv', 'results/linear_multi\\\\linear_dgp_svi_diff_38.csv', 'results/linear_multi\\\\linear_dgp_svi_diff_39.csv', 'results/linear_multi\\\\linear_dgp_svi_diff_4.csv', 'results/linear_multi\\\\linear_dgp_svi_diff_40.csv', 'results/linear_multi\\\\linear_dgp_svi_diff_41.csv', 'results/linear_multi\\\\linear_dgp_svi_diff_42.csv', 'results/linear_multi\\\\linear_dgp_svi_diff_43.csv', 'results/linear_multi\\\\linear_dgp_svi_diff_44.csv', 'results/linear_multi\\\\linear_dgp_svi_diff_45.csv', 'results/linear_multi\\\\linear_dgp_svi_diff_46.csv', 'results/linear_multi\\\\linear_dgp_svi_diff_47.csv', 'results/linear_multi\\\\linear_dgp_svi_diff_48.csv', 'results/linear_multi\\\\linear_dgp_svi_diff_49.csv', 'results/linear_multi\\\\linear_dgp_svi_diff_5.csv', 'results/linear_multi\\\\linear_dgp_svi_diff_50.csv', 'results/linear_multi\\\\linear_dgp_svi_diff_51.csv', 'results/linear_multi\\\\linear_dgp_svi_diff_52.csv', 'results/linear_multi\\\\linear_dgp_svi_diff_53.csv', 'results/linear_multi\\\\linear_dgp_svi_diff_54.csv', 'results/linear_multi\\\\linear_dgp_svi_diff_55.csv', 'results/linear_multi\\\\linear_dgp_svi_diff_6.csv', 'results/linear_multi\\\\linear_dgp_svi_diff_7.csv', 'results/linear_multi\\\\linear_dgp_svi_diff_8.csv', 'results/linear_multi\\\\linear_dgp_svi_diff_9.csv']\n"
     ]
    }
   ],
   "execution_count": 102
  },
  {
   "metadata": {
    "ExecuteTime": {
     "end_time": "2024-10-06T09:08:13.719512Z",
     "start_time": "2024-10-06T09:08:13.367332Z"
    }
   },
   "cell_type": "code",
   "source": [
    "lin_dfs = [pd.read_csv(f) for f in all_file]\n",
    "combined_df = pd.concat(lin_dfs)\n",
    "combined_df[['model', 'type']] = combined_df['method'].str.split('_', expand=True)\n",
    "print(combined_df.head(5))\n"
   ],
   "id": "a173bca91a54fd83",
   "outputs": [
    {
     "name": "stdout",
     "output_type": "stream",
     "text": [
      "   idx   mean  median   true   bias    std   RMSE  RMSE_all    MAE  MAE_all  \\\n",
      "0  1.0  0.847   0.847  0.839  0.008  0.026  0.027     0.071  0.022    0.043   \n",
      "1  1.0  0.822   0.821  0.839 -0.017  0.031  0.036     0.186  0.029    0.091   \n",
      "2  1.0  2.712   2.712  2.690  0.022  0.082  0.085     0.105  0.068    0.076   \n",
      "3  1.0  2.589   2.588  2.690 -0.101  0.095  0.138     0.397  0.115    0.173   \n",
      "4  1.0  0.614   0.613  0.839 -0.225  0.048  0.231     0.422  0.226    0.315   \n",
      "\n",
      "   ...  rel_RMSE_all   q025   q975  covering  mean_ind_cover           method  \\\n",
      "0  ...  5.000000e-03  0.796  0.898       1.0           1.000    Linear_oracle   \n",
      "1  ...  2.900000e-02  0.761  0.881       1.0           1.000        GP_oracle   \n",
      "2  ...  1.000000e-03  2.551  2.872       1.0           1.000    Linear_oracle   \n",
      "3  ...  8.000000e-03  2.405  2.773       1.0           0.998        GP_oracle   \n",
      "4  ...  4.616682e+07  0.518  0.710       0.0           0.224  Linear_observed   \n",
      "\n",
      "   estimand  TRUE   model      type  \n",
      "0   dynamic   NaN  Linear    oracle  \n",
      "1   dynamic   NaN      GP    oracle  \n",
      "2     stoch   NaN  Linear    oracle  \n",
      "3     stoch   NaN      GP    oracle  \n",
      "4   dynamic   NaN  Linear  observed  \n",
      "\n",
      "[5 rows x 23 columns]\n"
     ]
    }
   ],
   "execution_count": 128
  },
  {
   "metadata": {
    "ExecuteTime": {
     "end_time": "2024-10-06T09:08:13.972286Z",
     "start_time": "2024-10-06T09:08:13.948543Z"
    }
   },
   "cell_type": "code",
   "source": "combined_df.columns",
   "id": "6df6757ac6b99b30",
   "outputs": [
    {
     "data": {
      "text/plain": [
       "Index(['idx', 'mean', 'median', 'true', 'bias', 'std', 'RMSE', 'RMSE_all',\n",
       "       'MAE', 'MAE_all', 'MAPE', 'MAPE_all', 'rel_RMSE', 'rel_RMSE_all',\n",
       "       'q025', 'q975', 'covering', 'mean_ind_cover', 'method', 'estimand',\n",
       "       'TRUE', 'model', 'type'],\n",
       "      dtype='object')"
      ]
     },
     "execution_count": 129,
     "metadata": {},
     "output_type": "execute_result"
    }
   ],
   "execution_count": 129
  },
  {
   "cell_type": "code",
   "source": [
    "combined_df[['bias','median','true','mean','std','RMSE','RMSE_all','MAE', 'MAE_all', 'MAPE', 'MAPE_all', 'rel_RMSE', 'rel_RMSE_all',\n",
    "             'q025','q975','covering','mean_ind_cover']] = combined_df[['bias','median','true','mean','std','RMSE','RMSE_all','MAE', 'MAE_all', 'MAPE', 'MAPE_all', 'rel_RMSE', 'rel_RMSE_all',\n",
    "                                                                        'q025','q975','covering', 'mean_ind_cover']].apply(pd.to_numeric, errors='coerce')\n",
    "\n",
    "# combined_df[['bias','median','true','mean','std','RMSE','RMSE_all','MAE', 'MAE_all', 'q025','q975','covering','mean_ind_cover']] = combined_df[['bias','median','true','mean','std','RMSE','RMSE_all','MAE', 'MAE_all', \n",
    "#                                                                         'q025','q975','covering', 'mean_ind_cover']].apply(pd.to_numeric, errors='coerce')"
   ],
   "metadata": {
    "collapsed": false,
    "ExecuteTime": {
     "end_time": "2024-10-06T09:08:14.734139Z",
     "start_time": "2024-10-06T09:08:14.698056Z"
    }
   },
   "id": "19aafa6894d20d9e",
   "outputs": [],
   "execution_count": 130
  },
  {
   "cell_type": "code",
   "source": [
    "# combined_df = combined_df.apply(pd.to_numeric, errors='coerce')\n",
    "\n",
    "\n",
    "combined_df['type'] = combined_df['type'].replace('observed',\"Obs.\")\n",
    "combined_df['type'] = combined_df['type'].replace('oracle',\"Oracle\")\n",
    "combined_df['type'] = combined_df['type'].replace('plugin',\"Plugin\")\n",
    "combined_df['abs_bias'] = np.abs(combined_df['bias'])\n",
    "combined_df['ci_length'] = combined_df['q975'] - combined_df['q025']\n",
    "# combined_df['MAPE_manual'] = np.abs((combined_df['mean']-combined_df['true'])/combined_df['true'])\n",
    "# combined_df['rel_RMSE'] = np.square((combined_df['mean']-combined_df['true'])/combined_df['true'])\n",
    "\n",
    "# combined_df.to_csv(\"results/linear_dgp_N300.csv\")\n"
   ],
   "metadata": {
    "collapsed": false,
    "ExecuteTime": {
     "end_time": "2024-10-06T09:08:15.103182Z",
     "start_time": "2024-10-06T09:08:15.071612Z"
    }
   },
   "id": "f05115ed993ad881",
   "outputs": [],
   "execution_count": 131
  },
  {
   "metadata": {
    "ExecuteTime": {
     "end_time": "2024-10-06T09:08:16.234300Z",
     "start_time": "2024-10-06T09:08:16.215284Z"
    }
   },
   "cell_type": "code",
   "source": [
    "# print dtype of each column \n",
    "print(combined_df.dtypes)"
   ],
   "id": "bd60242c826af273",
   "outputs": [
    {
     "name": "stdout",
     "output_type": "stream",
     "text": [
      "idx               float64\n",
      "mean              float64\n",
      "median            float64\n",
      "true              float64\n",
      "bias              float64\n",
      "std               float64\n",
      "RMSE              float64\n",
      "RMSE_all          float64\n",
      "MAE               float64\n",
      "MAE_all           float64\n",
      "MAPE              float64\n",
      "MAPE_all          float64\n",
      "rel_RMSE          float64\n",
      "rel_RMSE_all      float64\n",
      "q025              float64\n",
      "q975              float64\n",
      "covering          float64\n",
      "mean_ind_cover    float64\n",
      "method             object\n",
      "estimand           object\n",
      "TRUE              float64\n",
      "model              object\n",
      "type               object\n",
      "abs_bias          float64\n",
      "ci_length         float64\n",
      "dtype: object\n"
     ]
    }
   ],
   "execution_count": 132
  },
  {
   "metadata": {
    "ExecuteTime": {
     "end_time": "2024-10-06T09:08:17.769148Z",
     "start_time": "2024-10-06T09:08:17.734053Z"
    }
   },
   "cell_type": "code",
   "source": [
    "err_mask = (combined_df['type'].values == '3S') & (combined_df['MAE'].values > .81)\n",
    "err_idx = combined_df[err_mask]['idx'].unique()\n",
    "combined_df = combined_df[~combined_df['idx'].isin(err_idx)]\n",
    "print(combined_df.shape)"
   ],
   "id": "671b5817fd42966a",
   "outputs": [
    {
     "name": "stdout",
     "output_type": "stream",
     "text": [
      "(8016, 25)\n"
     ]
    }
   ],
   "execution_count": 133
  },
  {
   "metadata": {
    "ExecuteTime": {
     "end_time": "2024-10-06T09:10:57.184896Z",
     "start_time": "2024-10-06T09:10:56.690738Z"
    }
   },
   "cell_type": "code",
   "source": [
    "# Save as csv\n",
    "combined_df.to_csv(\"results/linear_results_combined_N500.csv\")"
   ],
   "id": "9ff2924401c98f5e",
   "outputs": [],
   "execution_count": 139
  },
  {
   "metadata": {},
   "cell_type": "code",
   "outputs": [],
   "execution_count": null,
   "source": "# TODO: clean all the above in final version",
   "id": "e319e6203861faca"
  },
  {
   "metadata": {
    "ExecuteTime": {
     "end_time": "2024-10-06T09:22:01.263504Z",
     "start_time": "2024-10-06T09:22:01.223715Z"
    }
   },
   "cell_type": "code",
   "source": [
    "combined_df = pd.read_csv(\"results/linear_results_combined_N500.csv\")\n",
    "combined_df['rel_RMSE'] = np.sqrt(combined_df['rel_RMSE'])\n",
    "combined_df['rel_RMSE_all'] = np.sqrt(combined_df['rel_RMSE_all'])"
   ],
   "id": "4d4b69adde2987ad",
   "outputs": [],
   "execution_count": 144
  },
  {
   "metadata": {},
   "cell_type": "markdown",
   "source": "",
   "id": "c5a50a15336a1dcf"
  },
  {
   "cell_type": "code",
   "source": [
    "def coverage_perc(x):\n",
    "    return np.mean(x)*100\n",
    "\n",
    "# df_summary = combined_df.groupby([\"estimand\", \"model\", \"type\"]).agg(\n",
    "df_summary = combined_df.groupby([\"estimand\", \"model\", \"type\"]).agg(\n",
    "                                        # {'mean' : ['mean'],\n",
    "                                         # 'median' : ['mean'],\n",
    "                                         {'bias' : ['mean', 'std'],\n",
    "                                         # 'std' : ['mean','std'],\n",
    "                                         # 'true' : ['mean'],\n",
    "                                         # 'RMSE' : ['mean','std'],\n",
    "                                         # 'RMSE_all' : ['mean','std'],\n",
    "                                         # 'MAE' : ['mean','std'],\n",
    "                                         # 'MAE_all' : ['mean'],\n",
    "                                         'MAPE' : ['mean','std'],\n",
    "                                        # 'MAPE_all' : ['mean'],\n",
    "                                        #  'rel_RMSE' : ['mean','std'],\n",
    "                                        # 'rel_RMSE_all' : ['mean'],\n",
    "                                        #  'q025' : ['mean'],\n",
    "                                        #  'q975' : ['mean'],\n",
    "                                         'ci_length' : ['mean','std'],\n",
    "                                         'covering' : [coverage_perc],\n",
    "                                         'mean_ind_cover' : ['mean']}, ).reset_index()\n",
    "                                         # 'true_included99' : [coverage_perc]})\n",
    "                                         # 'true_included95' : ['mean'],\n",
    "                                         # 'true_included99' : ['mean']})\n",
    "\n",
    "df_summary.columns = ['estimand','model','type','bias','bias_std', 'MAPE','MAPE_std', 'ci_length','ci_length_std','covering','mean_ind_cover']\n",
    "df_summary"
   ],
   "metadata": {
    "collapsed": false,
    "ExecuteTime": {
     "end_time": "2024-10-06T13:37:24.547647Z",
     "start_time": "2024-10-06T13:37:24.494920Z"
    }
   },
   "id": "4b840d750966e13a",
   "outputs": [
    {
     "data": {
      "text/plain": [
       "   estimand   model    type      bias  bias_std      MAPE  MAPE_std  \\\n",
       "0   dynamic      GP      1S  0.005818  0.052495  0.072060  0.033396   \n",
       "1   dynamic      GP      3S -0.162852  0.050143  0.218709  0.050241   \n",
       "2   dynamic      GP    Obs. -0.331138  0.099503  0.444914  0.102071   \n",
       "3   dynamic      GP  Oracle -0.019351  0.023014  0.040878  0.017966   \n",
       "4   dynamic  Linear      1S  0.028691  0.045414  0.066377  0.039208   \n",
       "5   dynamic  Linear      3S -0.139549  0.046861  0.187246  0.048675   \n",
       "6   dynamic  Linear    Obs. -0.202096  0.076237  0.270535  0.082267   \n",
       "7   dynamic  Linear  Oracle  0.000373  0.019636  0.030483  0.010386   \n",
       "8     stoch      GP      1S  0.022154  0.156372  0.065194  0.025965   \n",
       "9     stoch      GP      3S -0.628437  0.088440  0.238042  0.033002   \n",
       "10    stoch      GP    Obs. -0.748928  0.180530  0.283543  0.066698   \n",
       "11    stoch      GP  Oracle -0.074160  0.074000  0.040038  0.016562   \n",
       "12    stoch  Linear      1S  0.110170  0.129910  0.061040  0.031790   \n",
       "13    stoch  Linear      3S -0.494627  0.094561  0.187423  0.035342   \n",
       "14    stoch  Linear    Obs. -0.849200  0.153528  0.321513  0.056760   \n",
       "15    stoch  Linear  Oracle  0.001014  0.069470  0.030547  0.010565   \n",
       "\n",
       "    ci_length  ci_length_std   covering  mean_ind_cover  \n",
       "0    0.160619       0.037883  88.423154        0.455665  \n",
       "1    0.173577       0.032831   3.992016        0.906503  \n",
       "2    0.267601       0.043613   1.596806        0.452236  \n",
       "3    0.092162       0.019792  88.423154        0.952687  \n",
       "4    0.121353       0.024437  74.051896        0.200164  \n",
       "5    0.146186       0.024388   5.788423        0.795321  \n",
       "6    0.164844       0.028458   5.588822        0.231202  \n",
       "7    0.080920       0.015305  97.005988        0.968419  \n",
       "8    0.578429       0.068555  93.612774        0.580248  \n",
       "9    0.503862       0.032156   0.199601        0.768108  \n",
       "10   0.579792       0.093002   1.596806        0.307852  \n",
       "11   0.309794       0.022641  87.025948        0.920882  \n",
       "12   0.435291       0.037272  79.241517        0.374599  \n",
       "13   0.452934       0.030168   0.598802        0.584291  \n",
       "14   0.500222       0.041498   0.000000        0.168120  \n",
       "15   0.288485       0.019964  97.005988        0.967126  "
      ],
      "text/html": [
       "<div>\n",
       "<style scoped>\n",
       "    .dataframe tbody tr th:only-of-type {\n",
       "        vertical-align: middle;\n",
       "    }\n",
       "\n",
       "    .dataframe tbody tr th {\n",
       "        vertical-align: top;\n",
       "    }\n",
       "\n",
       "    .dataframe thead th {\n",
       "        text-align: right;\n",
       "    }\n",
       "</style>\n",
       "<table border=\"1\" class=\"dataframe\">\n",
       "  <thead>\n",
       "    <tr style=\"text-align: right;\">\n",
       "      <th></th>\n",
       "      <th>estimand</th>\n",
       "      <th>model</th>\n",
       "      <th>type</th>\n",
       "      <th>bias</th>\n",
       "      <th>bias_std</th>\n",
       "      <th>MAPE</th>\n",
       "      <th>MAPE_std</th>\n",
       "      <th>ci_length</th>\n",
       "      <th>ci_length_std</th>\n",
       "      <th>covering</th>\n",
       "      <th>mean_ind_cover</th>\n",
       "    </tr>\n",
       "  </thead>\n",
       "  <tbody>\n",
       "    <tr>\n",
       "      <th>0</th>\n",
       "      <td>dynamic</td>\n",
       "      <td>GP</td>\n",
       "      <td>1S</td>\n",
       "      <td>0.005818</td>\n",
       "      <td>0.052495</td>\n",
       "      <td>0.072060</td>\n",
       "      <td>0.033396</td>\n",
       "      <td>0.160619</td>\n",
       "      <td>0.037883</td>\n",
       "      <td>88.423154</td>\n",
       "      <td>0.455665</td>\n",
       "    </tr>\n",
       "    <tr>\n",
       "      <th>1</th>\n",
       "      <td>dynamic</td>\n",
       "      <td>GP</td>\n",
       "      <td>3S</td>\n",
       "      <td>-0.162852</td>\n",
       "      <td>0.050143</td>\n",
       "      <td>0.218709</td>\n",
       "      <td>0.050241</td>\n",
       "      <td>0.173577</td>\n",
       "      <td>0.032831</td>\n",
       "      <td>3.992016</td>\n",
       "      <td>0.906503</td>\n",
       "    </tr>\n",
       "    <tr>\n",
       "      <th>2</th>\n",
       "      <td>dynamic</td>\n",
       "      <td>GP</td>\n",
       "      <td>Obs.</td>\n",
       "      <td>-0.331138</td>\n",
       "      <td>0.099503</td>\n",
       "      <td>0.444914</td>\n",
       "      <td>0.102071</td>\n",
       "      <td>0.267601</td>\n",
       "      <td>0.043613</td>\n",
       "      <td>1.596806</td>\n",
       "      <td>0.452236</td>\n",
       "    </tr>\n",
       "    <tr>\n",
       "      <th>3</th>\n",
       "      <td>dynamic</td>\n",
       "      <td>GP</td>\n",
       "      <td>Oracle</td>\n",
       "      <td>-0.019351</td>\n",
       "      <td>0.023014</td>\n",
       "      <td>0.040878</td>\n",
       "      <td>0.017966</td>\n",
       "      <td>0.092162</td>\n",
       "      <td>0.019792</td>\n",
       "      <td>88.423154</td>\n",
       "      <td>0.952687</td>\n",
       "    </tr>\n",
       "    <tr>\n",
       "      <th>4</th>\n",
       "      <td>dynamic</td>\n",
       "      <td>Linear</td>\n",
       "      <td>1S</td>\n",
       "      <td>0.028691</td>\n",
       "      <td>0.045414</td>\n",
       "      <td>0.066377</td>\n",
       "      <td>0.039208</td>\n",
       "      <td>0.121353</td>\n",
       "      <td>0.024437</td>\n",
       "      <td>74.051896</td>\n",
       "      <td>0.200164</td>\n",
       "    </tr>\n",
       "    <tr>\n",
       "      <th>5</th>\n",
       "      <td>dynamic</td>\n",
       "      <td>Linear</td>\n",
       "      <td>3S</td>\n",
       "      <td>-0.139549</td>\n",
       "      <td>0.046861</td>\n",
       "      <td>0.187246</td>\n",
       "      <td>0.048675</td>\n",
       "      <td>0.146186</td>\n",
       "      <td>0.024388</td>\n",
       "      <td>5.788423</td>\n",
       "      <td>0.795321</td>\n",
       "    </tr>\n",
       "    <tr>\n",
       "      <th>6</th>\n",
       "      <td>dynamic</td>\n",
       "      <td>Linear</td>\n",
       "      <td>Obs.</td>\n",
       "      <td>-0.202096</td>\n",
       "      <td>0.076237</td>\n",
       "      <td>0.270535</td>\n",
       "      <td>0.082267</td>\n",
       "      <td>0.164844</td>\n",
       "      <td>0.028458</td>\n",
       "      <td>5.588822</td>\n",
       "      <td>0.231202</td>\n",
       "    </tr>\n",
       "    <tr>\n",
       "      <th>7</th>\n",
       "      <td>dynamic</td>\n",
       "      <td>Linear</td>\n",
       "      <td>Oracle</td>\n",
       "      <td>0.000373</td>\n",
       "      <td>0.019636</td>\n",
       "      <td>0.030483</td>\n",
       "      <td>0.010386</td>\n",
       "      <td>0.080920</td>\n",
       "      <td>0.015305</td>\n",
       "      <td>97.005988</td>\n",
       "      <td>0.968419</td>\n",
       "    </tr>\n",
       "    <tr>\n",
       "      <th>8</th>\n",
       "      <td>stoch</td>\n",
       "      <td>GP</td>\n",
       "      <td>1S</td>\n",
       "      <td>0.022154</td>\n",
       "      <td>0.156372</td>\n",
       "      <td>0.065194</td>\n",
       "      <td>0.025965</td>\n",
       "      <td>0.578429</td>\n",
       "      <td>0.068555</td>\n",
       "      <td>93.612774</td>\n",
       "      <td>0.580248</td>\n",
       "    </tr>\n",
       "    <tr>\n",
       "      <th>9</th>\n",
       "      <td>stoch</td>\n",
       "      <td>GP</td>\n",
       "      <td>3S</td>\n",
       "      <td>-0.628437</td>\n",
       "      <td>0.088440</td>\n",
       "      <td>0.238042</td>\n",
       "      <td>0.033002</td>\n",
       "      <td>0.503862</td>\n",
       "      <td>0.032156</td>\n",
       "      <td>0.199601</td>\n",
       "      <td>0.768108</td>\n",
       "    </tr>\n",
       "    <tr>\n",
       "      <th>10</th>\n",
       "      <td>stoch</td>\n",
       "      <td>GP</td>\n",
       "      <td>Obs.</td>\n",
       "      <td>-0.748928</td>\n",
       "      <td>0.180530</td>\n",
       "      <td>0.283543</td>\n",
       "      <td>0.066698</td>\n",
       "      <td>0.579792</td>\n",
       "      <td>0.093002</td>\n",
       "      <td>1.596806</td>\n",
       "      <td>0.307852</td>\n",
       "    </tr>\n",
       "    <tr>\n",
       "      <th>11</th>\n",
       "      <td>stoch</td>\n",
       "      <td>GP</td>\n",
       "      <td>Oracle</td>\n",
       "      <td>-0.074160</td>\n",
       "      <td>0.074000</td>\n",
       "      <td>0.040038</td>\n",
       "      <td>0.016562</td>\n",
       "      <td>0.309794</td>\n",
       "      <td>0.022641</td>\n",
       "      <td>87.025948</td>\n",
       "      <td>0.920882</td>\n",
       "    </tr>\n",
       "    <tr>\n",
       "      <th>12</th>\n",
       "      <td>stoch</td>\n",
       "      <td>Linear</td>\n",
       "      <td>1S</td>\n",
       "      <td>0.110170</td>\n",
       "      <td>0.129910</td>\n",
       "      <td>0.061040</td>\n",
       "      <td>0.031790</td>\n",
       "      <td>0.435291</td>\n",
       "      <td>0.037272</td>\n",
       "      <td>79.241517</td>\n",
       "      <td>0.374599</td>\n",
       "    </tr>\n",
       "    <tr>\n",
       "      <th>13</th>\n",
       "      <td>stoch</td>\n",
       "      <td>Linear</td>\n",
       "      <td>3S</td>\n",
       "      <td>-0.494627</td>\n",
       "      <td>0.094561</td>\n",
       "      <td>0.187423</td>\n",
       "      <td>0.035342</td>\n",
       "      <td>0.452934</td>\n",
       "      <td>0.030168</td>\n",
       "      <td>0.598802</td>\n",
       "      <td>0.584291</td>\n",
       "    </tr>\n",
       "    <tr>\n",
       "      <th>14</th>\n",
       "      <td>stoch</td>\n",
       "      <td>Linear</td>\n",
       "      <td>Obs.</td>\n",
       "      <td>-0.849200</td>\n",
       "      <td>0.153528</td>\n",
       "      <td>0.321513</td>\n",
       "      <td>0.056760</td>\n",
       "      <td>0.500222</td>\n",
       "      <td>0.041498</td>\n",
       "      <td>0.000000</td>\n",
       "      <td>0.168120</td>\n",
       "    </tr>\n",
       "    <tr>\n",
       "      <th>15</th>\n",
       "      <td>stoch</td>\n",
       "      <td>Linear</td>\n",
       "      <td>Oracle</td>\n",
       "      <td>0.001014</td>\n",
       "      <td>0.069470</td>\n",
       "      <td>0.030547</td>\n",
       "      <td>0.010565</td>\n",
       "      <td>0.288485</td>\n",
       "      <td>0.019964</td>\n",
       "      <td>97.005988</td>\n",
       "      <td>0.967126</td>\n",
       "    </tr>\n",
       "  </tbody>\n",
       "</table>\n",
       "</div>"
      ]
     },
     "execution_count": 157,
     "metadata": {},
     "output_type": "execute_result"
    }
   ],
   "execution_count": 157
  },
  {
   "metadata": {
    "ExecuteTime": {
     "end_time": "2024-10-06T09:35:11.480079Z",
     "start_time": "2024-10-06T09:35:11.451228Z"
    }
   },
   "cell_type": "code",
   "source": [
    "def generate_latex_table(df):\n",
    "    # Round all numeric columns to 3 decimal places\n",
    "    numeric_columns = df.select_dtypes(include=[np.number]).columns\n",
    "    df[numeric_columns] = df[numeric_columns].round(3)\n",
    "\n",
    "    # Start the LaTeX table\n",
    "    latex_table = \"\\\\begin{table}[htbp]\\n\\\\centering\\n\\\\caption{Simulation Results}\\n\\\\label{tab:simulation_results}\\n\"\n",
    "    latex_table += \"\\\\begin{tabular}{lllcccc}\\n\\\\toprule\\n\"\n",
    "    latex_table += \"Estimand & Model & Type & Bias (std) & MAPE (std) & CI Length (std) & Coverage \\\\\\\\\\n\\\\midrule\\n\"\n",
    "\n",
    "    # Group by estimand and model\n",
    "    for e, (estimand, estimand_group) in enumerate(df.groupby('estimand')):\n",
    "        for m, (model, model_group) in enumerate(estimand_group.groupby('model')):\n",
    "            if m > 0:\n",
    "                latex_table += \"\\\\cmidrule{2-7}\\n\"\n",
    "\n",
    "            for i, (_, row) in enumerate(model_group.iterrows()):\n",
    "                if i == 0:\n",
    "                    if m == 0:\n",
    "                        latex_table += f\"\\\\multirow{{8}}{{*}}{{{estimand}}} & \"\n",
    "                    else:\n",
    "                        latex_table += \" & \"\n",
    "                    latex_table += f\"\\\\multirow{{4}}{{*}}{{{model}}} \"\n",
    "                else:\n",
    "                    latex_table += \" & \"\n",
    "                \n",
    "                bias_str = f\"{row['bias']:.3f} ({row['bias_std']:.3f})\"\n",
    "                mape_str = f\"{row['MAPE']:.3f} ({row['MAPE_std']:.3f})\"\n",
    "                ci_length_str = f\"{row['ci_length']:.3f} ({row['ci_length_std']:.3f})\"\n",
    "                coverage_str = f\"{row['covering']:.1f}\\\\%\"\n",
    "                \n",
    "                latex_table += f\"& {row['type']} & {bias_str} & {mape_str} & {ci_length_str} & {coverage_str} \\\\\\\\\\n\"\n",
    "\n",
    "        if e == 0:  # Add midrule after first estimand\n",
    "            latex_table += \"\\\\midrule\\n\"\n",
    "\n",
    "    # End the LaTeX table\n",
    "    latex_table += \"\\\\bottomrule\\n\\\\end{tabular}\\n\\\\end{table}\"\n",
    "\n",
    "    return latex_table\n",
    "\n",
    "\n",
    "# Assuming your DataFrame is called 'results_df'\n",
    "latex_table = generate_latex_table(df_summary)\n",
    "print(latex_table)"
   ],
   "id": "ccc9d32926b28b47",
   "outputs": [
    {
     "name": "stdout",
     "output_type": "stream",
     "text": [
      "\\begin{table}[htbp]\n",
      "\\centering\n",
      "\\caption{Simulation Results}\n",
      "\\label{tab:simulation_results}\n",
      "\\begin{tabular}{lllcccc}\n",
      "\\toprule\n",
      "Estimand & Model & Type & Bias (std) & MAPE (std) & CI Length (std) & Coverage \\\\\n",
      "\\midrule\n",
      "\\multirow{8}{*}{dynamic} & \\multirow{4}{*}{GP} & 1S & 0.006 (0.052) & 0.072 (0.033) & 0.161 (0.038) & 88.4\\% \\\\\n",
      " & & 3S & -0.163 (0.050) & 0.219 (0.050) & 0.174 (0.033) & 4.0\\% \\\\\n",
      " & & Obs. & -0.331 (0.100) & 0.445 (0.102) & 0.268 (0.044) & 1.6\\% \\\\\n",
      " & & Oracle & -0.019 (0.023) & 0.041 (0.018) & 0.092 (0.020) & 88.4\\% \\\\\n",
      "\\cmidrule{2-7}\n",
      " & \\multirow{4}{*}{Linear} & 1S & 0.029 (0.045) & 0.066 (0.039) & 0.121 (0.024) & 74.1\\% \\\\\n",
      " & & 3S & -0.140 (0.047) & 0.187 (0.049) & 0.146 (0.024) & 5.8\\% \\\\\n",
      " & & Obs. & -0.202 (0.076) & 0.271 (0.082) & 0.165 (0.028) & 5.6\\% \\\\\n",
      " & & Oracle & 0.000 (0.020) & 0.030 (0.010) & 0.081 (0.015) & 97.0\\% \\\\\n",
      "\\midrule\n",
      "\\multirow{8}{*}{stoch} & \\multirow{4}{*}{GP} & 1S & 0.022 (0.156) & 0.065 (0.026) & 0.578 (0.069) & 93.6\\% \\\\\n",
      " & & 3S & -0.628 (0.088) & 0.238 (0.033) & 0.504 (0.032) & 0.2\\% \\\\\n",
      " & & Obs. & -0.749 (0.181) & 0.284 (0.067) & 0.580 (0.093) & 1.6\\% \\\\\n",
      " & & Oracle & -0.074 (0.074) & 0.040 (0.017) & 0.310 (0.023) & 87.0\\% \\\\\n",
      "\\cmidrule{2-7}\n",
      " & \\multirow{4}{*}{Linear} & 1S & 0.110 (0.130) & 0.061 (0.032) & 0.435 (0.037) & 79.2\\% \\\\\n",
      " & & 3S & -0.495 (0.095) & 0.187 (0.035) & 0.453 (0.030) & 0.6\\% \\\\\n",
      " & & Obs. & -0.849 (0.154) & 0.322 (0.057) & 0.500 (0.041) & 0.0\\% \\\\\n",
      " & & Oracle & 0.001 (0.069) & 0.031 (0.011) & 0.288 (0.020) & 97.0\\% \\\\\n",
      "\\bottomrule\n",
      "\\end{tabular}\n",
      "\\end{table}\n"
     ]
    }
   ],
   "execution_count": 152
  },
  {
   "cell_type": "code",
   "source": [
    "flierprops = dict(marker='.', markerfacecolor='None', markersize=1,  markeredgecolor='grey')\n",
    "box_rmse = sns.boxplot(data=combined_df[combined_df[\"estimand\"]==\"dynamic\"], x = 'method', y = 'MAPE',\n",
    "               # order = ['Oracle', 'Plugin','1','Cut-3S','Obs.'],\n",
    "                       hue = \"model\", palette = 'pastel',\n",
    "                       flierprops=flierprops)\n",
    "box_rmse.set_title(\"MAPE dynamic estimand\")\n",
    "# plt.ylim(0,.5)\n",
    "plt.xticks(rotation=90)\n",
    "box_rmse.set_xlabel(\"\")\n",
    "box_rmse.set_ylabel(\"\")\n",
    "# sns.despine()"
   ],
   "metadata": {
    "collapsed": false,
    "ExecuteTime": {
     "end_time": "2024-10-06T09:40:29.583622Z",
     "start_time": "2024-10-06T09:40:29.268246Z"
    }
   },
   "id": "ec90e99e7c3bd69",
   "outputs": [
    {
     "data": {
      "text/plain": [
       "Text(0, 0.5, '')"
      ]
     },
     "execution_count": 153,
     "metadata": {},
     "output_type": "execute_result"
    },
    {
     "data": {
      "text/plain": [
       "<Figure size 640x480 with 1 Axes>"
      ],
      "image/png": "[encoded data removed]"
     },
     "metadata": {},
     "output_type": "display_data"
    }
   ],
   "execution_count": 153
  },
  {
   "metadata": {
    "ExecuteTime": {
     "end_time": "2024-10-06T09:04:28.058065Z",
     "start_time": "2024-10-06T09:04:28.023900Z"
    }
   },
   "cell_type": "code",
   "source": [
    "# Zeigen MAE plots\n",
    "\n",
    "from matplotlib.ticker import PercentFormatter\n",
    "\n",
    "plt.style.use('seaborn-v0_8-colorblind')\n",
    "# sns.set_style(\"whitegrid\")\n",
    "sns.set_style(\"ticks\")\n",
    "sns.set_context(\"paper\", font_scale=1.3)\n",
    "\n",
    "\n",
    "zeigen_mae_obs = np.loadtxt('results/zeigen_mae_obs.txt')\n",
    "esti_zeigen_mae_post = np.loadtxt('results/esti_zeigen_mae_post.txt')\n",
    "zeigen_mae_post = np.loadtxt('results/zeigen_mae_post.txt')\n"
   ],
   "id": "324e483db48b5a19",
   "outputs": [],
   "execution_count": 95
  },
  {
   "metadata": {
    "ExecuteTime": {
     "end_time": "2024-10-06T09:04:38.359004Z",
     "start_time": "2024-10-06T09:04:29.418023Z"
    }
   },
   "cell_type": "code",
   "source": [
    "\n",
    "def plot_percentage_histogram(data, bins, ax, label, color, alpha=0.7):\n",
    "    counts, bin_edges = np.histogram(data, bins=bins, density=True)\n",
    "    bin_widths = np.diff(bin_edges)\n",
    "    percentage = counts * bin_widths * 100  # Convert to percentage\n",
    "    ax.bar(bin_edges[:-1], percentage, width=bin_widths, alpha=alpha, label=label, color=color, align='edge')\n",
    "\n",
    "fig, ax = plt.subplots(figsize=(9, 5))\n",
    "\n",
    "# Plot histograms as density\n",
    "\n",
    "plot_percentage_histogram(zeigen_mae_obs, 20, ax, 'Observed', 'xkcd:cobalt')\n",
    "plot_percentage_histogram(esti_zeigen_mae_post, 25, ax, 'Posterior', 'xkcd:brick red')\n",
    "\n",
    "\n",
    "# Set labels and title\n",
    "ax.set_xlabel('MAE', fontsize=18, fontweight='bold')\n",
    "ax.set_ylabel('')\n",
    "ax.set_title('')\n",
    "\n",
    "# Adjust y-axis to show correct percentage\n",
    "ax.yaxis.set_major_formatter(plt.FuncFormatter(lambda x, p: f\"{x:.1f}%\"))\n",
    "\n",
    "# Increase font size of tick labels\n",
    "ax.tick_params(axis='both', which='major', labelsize=16)\n",
    "\n",
    "# Add legend\n",
    "ax.legend(fontsize=16,\n",
    "          frameon=True, fancybox=True, framealpha=1)\n",
    "\n",
    "\n",
    "# Save the figure\n",
    "plt.tight_layout()\n",
    "plt.savefig('results/figs/mae_hist.png', dpi=1000)\n",
    "plt.show()\n"
   ],
   "id": "a54bee73c6ea5984",
   "outputs": [
    {
     "data": {
      "text/plain": [
       "<Figure size 900x500 with 1 Axes>"
      ],
      "image/png": "[encoded data removed]"
     },
     "metadata": {},
     "output_type": "display_data"
    }
   ],
   "execution_count": 96
  },
  {
   "metadata": {},
   "cell_type": "code",
   "outputs": [],
   "execution_count": null,
   "source": "",
   "id": "9067b4455ea2e9fe"
  }
 ],
 "metadata": {
  "kernelspec": {
   "display_name": "Python 3",
   "language": "python",
   "name": "python3"
  },
  "language_info": {
   "codemirror_mode": {
    "name": "ipython",
    "version": 2
   },
   "file_extension": ".py",
   "mimetype": "text/x-python",
   "name": "python",
   "nbconvert_exporter": "python",
   "pygments_lexer": "ipython2",
   "version": "2.7.6"
  }
 },
 "nbformat": 4,
 "nbformat_minor": 5
}
