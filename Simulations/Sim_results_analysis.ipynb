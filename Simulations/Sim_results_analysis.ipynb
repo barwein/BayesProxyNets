{
 "cells": [
  {
   "cell_type": "code",
   "execution_count": 1,
   "id": "initial_id",
   "metadata": {
    "collapsed": true,
    "ExecuteTime": {
     "end_time": "2024-03-31T08:37:10.746687Z",
     "start_time": "2024-03-31T08:37:10.735020100Z"
    }
   },
   "outputs": [],
   "source": [
    "import pandas as pd\n",
    "import matplotlib as plt\n",
    "import seaborn as sns \n",
    "import numpy as np\n"
   ]
  },
  {
   "cell_type": "code",
   "outputs": [
    {
     "data": {
      "text/plain": "         mean    median       std      q025      q975       min       max  \\\n0    0.495564  0.495602  0.030106  0.437499  0.554226  0.363781  0.622929   \n1    0.203294  0.203368  0.029827  0.145011  0.261152  0.081530  0.333341   \n2    0.224091  0.224466  0.198762  0.121092  0.325713 -0.047610  0.475307   \n3    0.221572  0.218839       NaN  0.102529  0.354597 -0.041158  0.536156   \n4    0.528034  0.527618  0.059028  0.411538  0.643110  0.309904  0.815184   \n..        ...       ...       ...       ...       ...       ...       ...   \n235  0.461467  0.461108  0.027438  0.408938  0.515705  0.358139  0.583072   \n236  0.232194  0.231699  0.028364  0.178080  0.288084  0.117308  0.345892   \n237  0.261403  0.261598  0.160262  0.175094  0.346738  0.049374  0.468636   \n238  0.258244  0.254506       NaN  0.151384  0.384795  0.029478  0.573915   \n239  0.502933  0.502565  0.045477  0.415005  0.592422  0.326004  0.709947   \n\n         type  iter  \n0      oracle     0  \n1    observed     0  \n2      cut-2S     0  \n3      cut-3S     0  \n4      plugin     0  \n..        ...   ...  \n235    oracle    47  \n236  observed    47  \n237    cut-2S    47  \n238    cut-3S    47  \n239    plugin    47  \n\n[240 rows x 9 columns]",
      "text/html": "<div>\n<style scoped>\n    .dataframe tbody tr th:only-of-type {\n        vertical-align: middle;\n    }\n\n    .dataframe tbody tr th {\n        vertical-align: top;\n    }\n\n    .dataframe thead th {\n        text-align: right;\n    }\n</style>\n<table border=\"1\" class=\"dataframe\">\n  <thead>\n    <tr style=\"text-align: right;\">\n      <th></th>\n      <th>mean</th>\n      <th>median</th>\n      <th>std</th>\n      <th>q025</th>\n      <th>q975</th>\n      <th>min</th>\n      <th>max</th>\n      <th>type</th>\n      <th>iter</th>\n    </tr>\n  </thead>\n  <tbody>\n    <tr>\n      <th>0</th>\n      <td>0.495564</td>\n      <td>0.495602</td>\n      <td>0.030106</td>\n      <td>0.437499</td>\n      <td>0.554226</td>\n      <td>0.363781</td>\n      <td>0.622929</td>\n      <td>oracle</td>\n      <td>0</td>\n    </tr>\n    <tr>\n      <th>1</th>\n      <td>0.203294</td>\n      <td>0.203368</td>\n      <td>0.029827</td>\n      <td>0.145011</td>\n      <td>0.261152</td>\n      <td>0.081530</td>\n      <td>0.333341</td>\n      <td>observed</td>\n      <td>0</td>\n    </tr>\n    <tr>\n      <th>2</th>\n      <td>0.224091</td>\n      <td>0.224466</td>\n      <td>0.198762</td>\n      <td>0.121092</td>\n      <td>0.325713</td>\n      <td>-0.047610</td>\n      <td>0.475307</td>\n      <td>cut-2S</td>\n      <td>0</td>\n    </tr>\n    <tr>\n      <th>3</th>\n      <td>0.221572</td>\n      <td>0.218839</td>\n      <td>NaN</td>\n      <td>0.102529</td>\n      <td>0.354597</td>\n      <td>-0.041158</td>\n      <td>0.536156</td>\n      <td>cut-3S</td>\n      <td>0</td>\n    </tr>\n    <tr>\n      <th>4</th>\n      <td>0.528034</td>\n      <td>0.527618</td>\n      <td>0.059028</td>\n      <td>0.411538</td>\n      <td>0.643110</td>\n      <td>0.309904</td>\n      <td>0.815184</td>\n      <td>plugin</td>\n      <td>0</td>\n    </tr>\n    <tr>\n      <th>...</th>\n      <td>...</td>\n      <td>...</td>\n      <td>...</td>\n      <td>...</td>\n      <td>...</td>\n      <td>...</td>\n      <td>...</td>\n      <td>...</td>\n      <td>...</td>\n    </tr>\n    <tr>\n      <th>235</th>\n      <td>0.461467</td>\n      <td>0.461108</td>\n      <td>0.027438</td>\n      <td>0.408938</td>\n      <td>0.515705</td>\n      <td>0.358139</td>\n      <td>0.583072</td>\n      <td>oracle</td>\n      <td>47</td>\n    </tr>\n    <tr>\n      <th>236</th>\n      <td>0.232194</td>\n      <td>0.231699</td>\n      <td>0.028364</td>\n      <td>0.178080</td>\n      <td>0.288084</td>\n      <td>0.117308</td>\n      <td>0.345892</td>\n      <td>observed</td>\n      <td>47</td>\n    </tr>\n    <tr>\n      <th>237</th>\n      <td>0.261403</td>\n      <td>0.261598</td>\n      <td>0.160262</td>\n      <td>0.175094</td>\n      <td>0.346738</td>\n      <td>0.049374</td>\n      <td>0.468636</td>\n      <td>cut-2S</td>\n      <td>47</td>\n    </tr>\n    <tr>\n      <th>238</th>\n      <td>0.258244</td>\n      <td>0.254506</td>\n      <td>NaN</td>\n      <td>0.151384</td>\n      <td>0.384795</td>\n      <td>0.029478</td>\n      <td>0.573915</td>\n      <td>cut-3S</td>\n      <td>47</td>\n    </tr>\n    <tr>\n      <th>239</th>\n      <td>0.502933</td>\n      <td>0.502565</td>\n      <td>0.045477</td>\n      <td>0.415005</td>\n      <td>0.592422</td>\n      <td>0.326004</td>\n      <td>0.709947</td>\n      <td>plugin</td>\n      <td>47</td>\n    </tr>\n  </tbody>\n</table>\n<p>240 rows × 9 columns</p>\n</div>"
     },
     "execution_count": 4,
     "metadata": {},
     "output_type": "execute_result"
    }
   ],
   "source": [
    "TRUE_EFFECT = 0.5\n",
    "df_N300 = pd.read_csv(\"linear_dgp_noisy_network_N300.csv\")\n",
    "df_N300"
   ],
   "metadata": {
    "collapsed": false,
    "ExecuteTime": {
     "end_time": "2024-03-31T08:40:50.187306300Z",
     "start_time": "2024-03-31T08:40:50.154019200Z"
    }
   },
   "id": "f0dbd5f1909a557c",
   "execution_count": 4
  },
  {
   "cell_type": "code",
   "outputs": [
    {
     "data": {
      "text/plain": "             mean      median         std        q025        q975         min  \\\ncount  240.000000  240.000000  192.000000  240.000000  240.000000  240.000000   \nmean     0.336611    0.335917    0.068069    0.256495    0.420111    0.165323   \nstd      0.131974    0.132427    0.058658    0.137856    0.128191    0.158095   \nmin      0.148576    0.148587    0.023113    0.083116    0.209590   -0.054082   \n25%      0.231633    0.229804    0.028831    0.144121    0.308578    0.028178   \n50%      0.261609    0.261058    0.035035    0.180541    0.369702    0.112516   \n75%      0.482393    0.482556    0.081461    0.408699    0.547283    0.324543   \nmax      0.627120    0.627709    0.206964    0.515083    0.740887    0.461951   \n\n              max        iter        RMSE  \ncount  240.000000  240.000000  192.000000  \nmean     0.525681   23.500000    0.045909  \nstd      0.132285   13.882351    0.044071  \nmin      0.265079    0.000000    0.000625  \n25%      0.429751   11.750000    0.002357  \n50%      0.533400   23.500000    0.035698  \n75%      0.615044   35.250000    0.087461  \nmax      0.893453   47.000000    0.130311  ",
      "text/html": "<div>\n<style scoped>\n    .dataframe tbody tr th:only-of-type {\n        vertical-align: middle;\n    }\n\n    .dataframe tbody tr th {\n        vertical-align: top;\n    }\n\n    .dataframe thead th {\n        text-align: right;\n    }\n</style>\n<table border=\"1\" class=\"dataframe\">\n  <thead>\n    <tr style=\"text-align: right;\">\n      <th></th>\n      <th>mean</th>\n      <th>median</th>\n      <th>std</th>\n      <th>q025</th>\n      <th>q975</th>\n      <th>min</th>\n      <th>max</th>\n      <th>iter</th>\n      <th>RMSE</th>\n    </tr>\n  </thead>\n  <tbody>\n    <tr>\n      <th>count</th>\n      <td>240.000000</td>\n      <td>240.000000</td>\n      <td>192.000000</td>\n      <td>240.000000</td>\n      <td>240.000000</td>\n      <td>240.000000</td>\n      <td>240.000000</td>\n      <td>240.000000</td>\n      <td>192.000000</td>\n    </tr>\n    <tr>\n      <th>mean</th>\n      <td>0.336611</td>\n      <td>0.335917</td>\n      <td>0.068069</td>\n      <td>0.256495</td>\n      <td>0.420111</td>\n      <td>0.165323</td>\n      <td>0.525681</td>\n      <td>23.500000</td>\n      <td>0.045909</td>\n    </tr>\n    <tr>\n      <th>std</th>\n      <td>0.131974</td>\n      <td>0.132427</td>\n      <td>0.058658</td>\n      <td>0.137856</td>\n      <td>0.128191</td>\n      <td>0.158095</td>\n      <td>0.132285</td>\n      <td>13.882351</td>\n      <td>0.044071</td>\n    </tr>\n    <tr>\n      <th>min</th>\n      <td>0.148576</td>\n      <td>0.148587</td>\n      <td>0.023113</td>\n      <td>0.083116</td>\n      <td>0.209590</td>\n      <td>-0.054082</td>\n      <td>0.265079</td>\n      <td>0.000000</td>\n      <td>0.000625</td>\n    </tr>\n    <tr>\n      <th>25%</th>\n      <td>0.231633</td>\n      <td>0.229804</td>\n      <td>0.028831</td>\n      <td>0.144121</td>\n      <td>0.308578</td>\n      <td>0.028178</td>\n      <td>0.429751</td>\n      <td>11.750000</td>\n      <td>0.002357</td>\n    </tr>\n    <tr>\n      <th>50%</th>\n      <td>0.261609</td>\n      <td>0.261058</td>\n      <td>0.035035</td>\n      <td>0.180541</td>\n      <td>0.369702</td>\n      <td>0.112516</td>\n      <td>0.533400</td>\n      <td>23.500000</td>\n      <td>0.035698</td>\n    </tr>\n    <tr>\n      <th>75%</th>\n      <td>0.482393</td>\n      <td>0.482556</td>\n      <td>0.081461</td>\n      <td>0.408699</td>\n      <td>0.547283</td>\n      <td>0.324543</td>\n      <td>0.615044</td>\n      <td>35.250000</td>\n      <td>0.087461</td>\n    </tr>\n    <tr>\n      <th>max</th>\n      <td>0.627120</td>\n      <td>0.627709</td>\n      <td>0.206964</td>\n      <td>0.515083</td>\n      <td>0.740887</td>\n      <td>0.461951</td>\n      <td>0.893453</td>\n      <td>47.000000</td>\n      <td>0.130311</td>\n    </tr>\n  </tbody>\n</table>\n</div>"
     },
     "execution_count": 8,
     "metadata": {},
     "output_type": "execute_result"
    }
   ],
   "source": [
    "df_N300[\"RMSE\"] = np.square(df_N300[\"mean\"]-TRUE_EFFECT) + np.square(df_N300[\"std\"])\n",
    "df_N300[\"true_included\"] = (df_N300[\"q025\"] <= TRUE_EFFECT) & (df_N300[\"q975\"] >= TRUE_EFFECT) "
   ],
   "metadata": {
    "collapsed": false,
    "ExecuteTime": {
     "end_time": "2024-03-31T08:46:46.466228800Z",
     "start_time": "2024-03-31T08:46:46.368887700Z"
    }
   },
   "id": "2289b8d275b4a6a4",
   "execution_count": 8
  },
  {
   "cell_type": "code",
   "outputs": [
    {
     "data": {
      "text/plain": "              mean    median       std      RMSE      q025      q975  \\\n              mean    median      mean      mean      mean      mean   \ntype                                                                   \ncut-2S    0.239277  0.243986  0.167251  0.097230  0.149758  0.328236   \ncut-3S    0.239566  0.239795       NaN       NaN  0.133626  0.362533   \nobserved  0.223043  0.227113  0.029386  0.078292  0.165527  0.280568   \noracle    0.503245  0.507327  0.027677  0.001452  0.449137  0.557584   \nplugin    0.477926  0.474050  0.047961  0.006660  0.384425  0.571636   \n\n         true_included  \n                  mean  \ntype                    \ncut-2S        0.000000  \ncut-3S        0.000000  \nobserved      0.000000  \noracle        0.958333  \nplugin        0.791667  ",
      "text/html": "<div>\n<style scoped>\n    .dataframe tbody tr th:only-of-type {\n        vertical-align: middle;\n    }\n\n    .dataframe tbody tr th {\n        vertical-align: top;\n    }\n\n    .dataframe thead tr th {\n        text-align: left;\n    }\n\n    .dataframe thead tr:last-of-type th {\n        text-align: right;\n    }\n</style>\n<table border=\"1\" class=\"dataframe\">\n  <thead>\n    <tr>\n      <th></th>\n      <th>mean</th>\n      <th>median</th>\n      <th>std</th>\n      <th>RMSE</th>\n      <th>q025</th>\n      <th>q975</th>\n      <th>true_included</th>\n    </tr>\n    <tr>\n      <th></th>\n      <th>mean</th>\n      <th>median</th>\n      <th>mean</th>\n      <th>mean</th>\n      <th>mean</th>\n      <th>mean</th>\n      <th>mean</th>\n    </tr>\n    <tr>\n      <th>type</th>\n      <th></th>\n      <th></th>\n      <th></th>\n      <th></th>\n      <th></th>\n      <th></th>\n      <th></th>\n    </tr>\n  </thead>\n  <tbody>\n    <tr>\n      <th>cut-2S</th>\n      <td>0.239277</td>\n      <td>0.243986</td>\n      <td>0.167251</td>\n      <td>0.097230</td>\n      <td>0.149758</td>\n      <td>0.328236</td>\n      <td>0.000000</td>\n    </tr>\n    <tr>\n      <th>cut-3S</th>\n      <td>0.239566</td>\n      <td>0.239795</td>\n      <td>NaN</td>\n      <td>NaN</td>\n      <td>0.133626</td>\n      <td>0.362533</td>\n      <td>0.000000</td>\n    </tr>\n    <tr>\n      <th>observed</th>\n      <td>0.223043</td>\n      <td>0.227113</td>\n      <td>0.029386</td>\n      <td>0.078292</td>\n      <td>0.165527</td>\n      <td>0.280568</td>\n      <td>0.000000</td>\n    </tr>\n    <tr>\n      <th>oracle</th>\n      <td>0.503245</td>\n      <td>0.507327</td>\n      <td>0.027677</td>\n      <td>0.001452</td>\n      <td>0.449137</td>\n      <td>0.557584</td>\n      <td>0.958333</td>\n    </tr>\n    <tr>\n      <th>plugin</th>\n      <td>0.477926</td>\n      <td>0.474050</td>\n      <td>0.047961</td>\n      <td>0.006660</td>\n      <td>0.384425</td>\n      <td>0.571636</td>\n      <td>0.791667</td>\n    </tr>\n  </tbody>\n</table>\n</div>"
     },
     "execution_count": 13,
     "metadata": {},
     "output_type": "execute_result"
    }
   ],
   "source": [
    "df_N300.groupby(\"type\").agg({'mean' : ['mean'],\n",
    "                             'median' : ['median'],\n",
    "                             'std' : ['mean'],\n",
    "                             'RMSE' : ['mean'],\n",
    "                             'q025' : ['mean'],\n",
    "                             'q975' : ['mean'],\n",
    "                             'true_included' : ['mean']})"
   ],
   "metadata": {
    "collapsed": false,
    "ExecuteTime": {
     "end_time": "2024-03-31T08:54:15.861167100Z",
     "start_time": "2024-03-31T08:54:15.830634700Z"
    }
   },
   "id": "4b840d750966e13a",
   "execution_count": 13
  },
  {
   "cell_type": "code",
   "outputs": [],
   "source": [],
   "metadata": {
    "collapsed": false
   },
   "id": "a5781bfb485b5a91"
  }
 ],
 "metadata": {
  "kernelspec": {
   "display_name": "Python 3",
   "language": "python",
   "name": "python3"
  },
  "language_info": {
   "codemirror_mode": {
    "name": "ipython",
    "version": 2
   },
   "file_extension": ".py",
   "mimetype": "text/x-python",
   "name": "python",
   "nbconvert_exporter": "python",
   "pygments_lexer": "ipython2",
   "version": "2.7.6"
  }
 },
 "nbformat": 4,
 "nbformat_minor": 5
}
