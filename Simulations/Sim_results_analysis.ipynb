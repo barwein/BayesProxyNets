{
 "cells": [
  {
   "cell_type": "code",
   "id": "initial_id",
   "metadata": {
    "collapsed": true
   },
   "source": [
    "import pandas as pd\n",
    "import matplotlib.pyplot as plt\n",
    "import seaborn as sns \n",
    "import numpy as np\n",
    "import glob\n",
    "import re\n"
   ],
   "outputs": [],
   "execution_count": null
  },
  {
   "cell_type": "code",
   "source": [
    "# beige_color = (255/255,253/255,250/255)\n",
    "beige_color = '#FFFDFA'\n",
    "\n",
    "# sns.set_theme(style=\"ticks\", rc={'figure.facecolor': beige_color, 'axes.facecolor' : beige_color})\n",
    "sns.set_theme(style=\"ticks\")\n",
    "# sns.set_context(\"talk\")\n",
    "# sns.set_context(\"poster\")\n"
   ],
   "metadata": {
    "collapsed": false
   },
   "id": "f0dbd5f1909a557c",
   "outputs": [],
   "execution_count": null
  },
  {
   "cell_type": "code",
   "source": [
    "path = \"results/linear_multi\"\n",
    "# path = \"results/linear_multi/N500\"\n",
    "# path = \"results/nonlinear_multi\"\n",
    "# path = \"results/nonlinear_multi/trunc_parab\"\n",
    "all_file = glob.glob(path + \"/*.csv\")\n",
    "print(all_file)"
   ],
   "metadata": {
    "collapsed": false
   },
   "id": "2c0f7444c72510b0",
   "outputs": [],
   "execution_count": null
  },
  {
   "cell_type": "code",
   "source": [
    "extracted_numbers = [re.findall(r'\\d+', s) for s in all_file]\n",
    "first_numbers = [int(numbers[0]) if numbers else None for numbers in extracted_numbers]\n",
    "first_numbers.sort()\n",
    "first_numbers"
   ],
   "metadata": {
    "collapsed": false
   },
   "id": "ef21fc4acf6b1c75",
   "outputs": [],
   "execution_count": null
  },
  {
   "cell_type": "code",
   "source": [
    "lin_dfs = [pd.read_csv(f) for f in all_file]\n",
    "combined_df = pd.concat(lin_dfs)\n",
    "combined_df[['model', 'type']] = combined_df['method'].str.split('_', expand=True)\n",
    "print(combined_df)"
   ],
   "metadata": {
    "collapsed": false
   },
   "id": "1030e9552709d7e8",
   "outputs": [],
   "execution_count": null
  },
  {
   "cell_type": "code",
   "source": "# combined_df[['bias','median','true','mean','std','RMSE','q025','q975','covering']] = combined_df[['bias','median','true','mean','std','RMSE','q025','q975','covering']].apply(pd.to_numeric, errors='coerce')",
   "metadata": {
    "collapsed": false
   },
   "id": "19aafa6894d20d9e",
   "outputs": [],
   "execution_count": null
  },
  {
   "cell_type": "code",
   "source": [
    "# combined_df = combined_df.apply(pd.to_numeric, errors='coerce')\n",
    "\n",
    "\n",
    "combined_df['type'] = combined_df['type'].replace('observed',\"Obs.\")\n",
    "combined_df['type'] = combined_df['type'].replace('oracle',\"Oracle\")\n",
    "combined_df['type'] = combined_df['type'].replace('plugin',\"Plugin\")\n",
    "combined_df['abs_bias'] = np.abs(combined_df['bias'])\n",
    "combined_df['ci_length'] = combined_df['q975'] - combined_df['q025']\n",
    "combined_df['MAPE_manual'] = np.abs((combined_df['mean']-combined_df['TRUE'])/combined_df['TRUE'])\n",
    "\n",
    "# combined_df.to_csv(\"results/linear_dgp_N300.csv\")\n"
   ],
   "metadata": {
    "collapsed": false
   },
   "id": "f05115ed993ad881",
   "outputs": [],
   "execution_count": null
  },
  {
   "metadata": {},
   "cell_type": "code",
   "source": "combined_df[combined_df[\"estimand\"]==\"dynamic\"]",
   "id": "36601e4eb7b27b74",
   "outputs": [],
   "execution_count": null
  },
  {
   "metadata": {},
   "cell_type": "markdown",
   "source": "",
   "id": "c5a50a15336a1dcf"
  },
  {
   "cell_type": "code",
   "source": [
    "def coverage_perc(x):\n",
    "    return np.mean(x)*100\n",
    "\n",
    "# df_summary = combined_df.groupby([\"estimand\", \"model\", \"type\"]).agg(\n",
    "df_summary = combined_df.groupby([\"estimand\", \"model\", \"type\"]).agg(\n",
    "                                        {'mean' : ['mean'],\n",
    "                                         'median' : ['mean'],\n",
    "                                         'std' : ['mean'],\n",
    "                                         'bias' : ['mean'],\n",
    "                                         'TRUE' : ['mean'],\n",
    "                                         'RMSE' : ['mean'],\n",
    "                                         'MAE' : ['mean'],\n",
    "                                         'MAPE' : ['mean'],\n",
    "                                         # 'MAPE_manual' : ['mean'],\n",
    "                                         'q025' : ['mean'],\n",
    "                                         'q975' : ['mean'],\n",
    "                                         'ci_length' : ['mean'],\n",
    "                                         'covering' : [coverage_perc],\n",
    "                                         'mean_ind_cover' : ['mean']}).reset_index()\n",
    "                                         # 'true_included99' : [coverage_perc]})\n",
    "                                         # 'true_included95' : ['mean'],\n",
    "                                         # 'true_included99' : ['mean']})\n",
    "\n",
    "df_summary\n"
   ],
   "metadata": {
    "collapsed": false
   },
   "id": "4b840d750966e13a",
   "outputs": [],
   "execution_count": null
  },
  {
   "cell_type": "code",
   "source": [
    "flierprops = dict(marker='.', markerfacecolor='None', markersize=6,  markeredgecolor='grey')\n",
    "box_rmse = sns.boxplot(data=combined_df[combined_df[\"estimand\"]==\"dynamic\"], x = 'method', y = 'RMSE',\n",
    "               # order = ['Oracle', 'Plugin','1','Cut-3S','Obs.'],\n",
    "                       hue = \"model\", palette = 'pastel',\n",
    "                       flierprops=flierprops)\n",
    "box_rmse.set_title(\"RMSE dynamic estimand\")\n",
    "# plt.ylim(0,.5)\n",
    "plt.xticks(rotation=90)\n",
    "box_rmse.set_xlabel(\"\")\n",
    "box_rmse.set_ylabel(\"\")\n",
    "# sns.despine()"
   ],
   "metadata": {
    "collapsed": false
   },
   "id": "ec90e99e7c3bd69",
   "outputs": [],
   "execution_count": null
  },
  {
   "metadata": {},
   "cell_type": "code",
   "source": [
    "flierprops = dict(marker='.', markerfacecolor='None', markersize=6,  markeredgecolor='grey')\n",
    "box_rmse = sns.boxplot(data=combined_df[combined_df[\"estimand\"]==\"dynamic\"], x = 'method', y = 'MAE',\n",
    "               # order = ['Oracle', 'Plugin','1','Cut-3S','Obs.'],\n",
    "                       hue = \"method\", palette = 'pastel',\n",
    "                       flierprops=flierprops)\n",
    "box_rmse.set_title(\"MAE dynamic estimand\")\n",
    "# plt.ylim(0,.5)\n",
    "plt.xticks(rotation=90)\n",
    "box_rmse.set_xlabel(\"\")\n",
    "box_rmse.set_ylabel(\"\")"
   ],
   "id": "d32444069606a2ed",
   "outputs": [],
   "execution_count": null
  },
  {
   "cell_type": "code",
   "source": [
    "flierprops = dict(marker='.', markerfacecolor='None', markersize=6,  markeredgecolor='grey')\n",
    "box_rmse = sns.boxplot(data=combined_df[combined_df[\"estimand\"]==\"stoch\"], x = 'method', y = 'RMSE',\n",
    "               # order = ['Oracle', 'Plugin','1','Cut-3S','Obs.'],\n",
    "                       hue = \"method\", palette = 'pastel',\n",
    "                       flierprops=flierprops)\n",
    "box_rmse.set_title(\"RMSE stochastic estimand\")\n",
    "# plt.ylim(0,.25)\n",
    "plt.xticks(rotation=90)\n",
    "box_rmse.set_xlabel(\"\")\n",
    "box_rmse.set_ylabel(\"\")"
   ],
   "metadata": {
    "collapsed": false
   },
   "id": "2699a38656300874",
   "outputs": [],
   "execution_count": null
  },
  {
   "metadata": {},
   "cell_type": "code",
   "source": [
    "flierprops = dict(marker='.', markerfacecolor='None', markersize=6,  markeredgecolor='grey')\n",
    "box_rmse = sns.boxplot(data=combined_df[combined_df[\"estimand\"]==\"stoch\"], x = 'method', y = 'MAE',\n",
    "               # order = ['Oracle', 'Plugin','1','Cut-3S','Obs.'],\n",
    "                       hue = \"method\", palette = 'pastel',\n",
    "                       flierprops=flierprops)\n",
    "box_rmse.set_title(\"MAE stochastic estimand\")\n",
    "# plt.ylim(0,.25)\n",
    "plt.xticks(rotation=90)\n",
    "box_rmse.set_xlabel(\"\")\n",
    "box_rmse.set_ylabel(\"\")"
   ],
   "id": "6241148be612df77",
   "outputs": [],
   "execution_count": null
  },
  {
   "cell_type": "code",
   "source": [
    "box_bias = sns.boxplot(data=combined_df[combined_df[\"estimand\"]==\"dynamic\"], x = 'method', y = 'abs_bias',\n",
    "               # order = ['Oracle', 'Plugin','1','Cut-3S','Obs.'],\n",
    "                       hue = \"method\", palette = 'pastel',\n",
    "                       flierprops=flierprops)\n",
    "plt.axhline(0, color='grey', linestyle='--', alpha=0.5)\n",
    "box_bias.set_title(\"abs. bias (dynamic)\")\n",
    "# plt.ylim(0,.5)\n",
    "plt.xticks(rotation=90)\n",
    "box_bias.set_xlabel(\"\")\n",
    "box_bias.set_ylabel(\"\")"
   ],
   "metadata": {
    "collapsed": false
   },
   "id": "70039b7cbb8a1b0f",
   "outputs": [],
   "execution_count": null
  },
  {
   "cell_type": "code",
   "source": [
    "box_std = sns.boxplot(data=combined_df[combined_df[\"estimand\"]==\"dynamic\"], x = 'method', y = 'std',\n",
    "               # order = ['Oracle', 'Plugin','1','Cut-3S','Obs.'],\n",
    "                       hue = \"method\", palette = 'pastel',\n",
    "                       flierprops=flierprops)\n",
    "plt.axhline(0, color='grey', linestyle='--', alpha=0.5)\n",
    "box_std.set_title(\"std (dynamic)\")\n",
    "# plt.ylim(0,.2)\n",
    "plt.xticks(rotation=90)\n",
    "box_std.set_xlabel(\"\")\n",
    "box_std.set_ylabel(\"\")"
   ],
   "metadata": {
    "collapsed": false
   },
   "id": "c67be5e906613408",
   "outputs": [],
   "execution_count": null
  },
  {
   "metadata": {},
   "cell_type": "code",
   "source": [
    "box_bias = sns.boxplot(data=combined_df[combined_df[\"estimand\"]==\"stoch\"], x = 'method', y = 'abs_bias',\n",
    "               # order = ['Oracle', 'Plugin','1','Cut-3S','Obs.'],\n",
    "                       hue = \"method\", palette = 'pastel',\n",
    "                       flierprops=flierprops)\n",
    "plt.axhline(0, color='grey', linestyle='--', alpha=0.5)\n",
    "box_bias.set_title(\"abs. bias (stochastic)\")\n",
    "# plt.ylim(0,.25)\n",
    "plt.xticks(rotation=90)\n",
    "box_bias.set_xlabel(\"\")\n",
    "box_bias.set_ylabel(\"\")"
   ],
   "id": "2025e5831ed93e55",
   "outputs": [],
   "execution_count": null
  },
  {
   "cell_type": "code",
   "source": [
    "box_std = sns.boxplot(data=combined_df[combined_df[\"estimand\"]==\"stoch\"], x = 'method', y = 'std',\n",
    "               # order = ['Oracle', 'Plugin','1','Cut-3S','Obs.'],\n",
    "                       hue = \"method\", palette = 'pastel',\n",
    "                       flierprops=flierprops)\n",
    "plt.axhline(0, color='grey', linestyle='--', alpha=0.5)\n",
    "box_std.set_title(\"std (stochastic)\")\n",
    "# plt.ylim(0,.1)\n",
    "plt.xticks(rotation=90)\n",
    "box_std.set_xlabel(\"\")\n",
    "box_std.set_ylabel(\"\")"
   ],
   "metadata": {
    "collapsed": false
   },
   "id": "6b910fca90c43b6e",
   "outputs": [],
   "execution_count": null
  },
  {
   "metadata": {},
   "cell_type": "code",
   "source": [
    "def format_percentage(value, x=1):\n",
    "    return f\"{value*x:.1f}%\"\n",
    "\n",
    "df_summary_dynamic = df_summary[df_summary[\"estimand\"]==\"dynamic\"]\n",
    "# df_summary_dynamic = df_summary[df_summary[\"estimand\"]==\"stoch\"]\n",
    "df_summary_dynamic.columns = df_summary_dynamic.columns.droplevel(1)\n",
    "df_summary_dynamic[\"coverage\"] = df_summary_dynamic[\"covering\"].apply(format_percentage)\n",
    "df_summary_dynamic[\"mean_ind_cover\"] = df_summary_dynamic[\"mean_ind_cover\"].apply(format_percentage, x=100)\n",
    "print(df_summary_dynamic)\n",
    "\n",
    "combined_df_dynamic = combined_df[combined_df[\"estimand\"]==\"dynamic\"]\n",
    "# combined_df_dynamic = combined_df[combined_df[\"estimand\"]==\"stoch\"]\n",
    "# print(combined_df_dynamic)"
   ],
   "id": "b030a036d2b20a2a",
   "outputs": [],
   "execution_count": null
  },
  {
   "metadata": {},
   "cell_type": "code",
   "source": [
    "df_summary_dynamic['model_type'] = df_summary_dynamic[['model', 'type']].apply(lambda x: '_'.join(x), axis=1)\n",
    "\n",
    "print(df_summary_dynamic)\n"
   ],
   "id": "c5a54e8dc88307da",
   "outputs": [],
   "execution_count": null
  },
  {
   "metadata": {},
   "cell_type": "code",
   "source": "df_summary_dynamic[\"true\"]",
   "id": "245b804d0528344d",
   "outputs": [],
   "execution_count": null
  },
  {
   "cell_type": "code",
   "source": [
    "# Plot points with error bars\n",
    "categories = np.arange(len(df_summary_dynamic['model_type']))\n",
    "category_labels = df_summary_dynamic['model_type'].unique()\n",
    "\n",
    "# Create a dictionary to map category positions\n",
    "\n",
    "# Map categ to positions\n",
    "model_names = ['True', 'Observed', 'Multi-stage', 'Plug-in']\n",
    "model_order = ['Linear_Oracle', 'GP_Oracle', 'Linear_Obs.', 'GP_Obs.',\n",
    "               'Linear_3S', 'GP_3S', 'Linear_1S', 'GP_1S']\n",
    "categ_pos = {category: pos for pos, category in enumerate(model_order)}\n",
    "df_summary_dynamic['categ_pos'] = df_summary_dynamic['model_type'].map(categ_pos)\n",
    "# combined_df_dynamic['categ_pos'] = combined_df_dynamic['model_type'].map(categ_pos)\n",
    "\n",
    "# Assign colors to categ2\n",
    "unique_categ2 = df_summary_dynamic['model']\n",
    "# colors = plt.cm.tab10(np.linspace(0, 1, len(unique_categ2)))\n",
    "color_map = { \"GP\" : \"tab:orange\", \"Linear\" : \"tab:blue\"}\n",
    "# color_map = dict(zip(unique_categ2, colors))\n",
    "\n",
    "# Plotting\n",
    "plt.style.use('seaborn-v0_8-colorblind')\n",
    "# plt.style.use('fast')\n",
    "\n",
    "fig, axs = plt.subplots(1, 2, figsize=(14, 5),\n",
    "                        gridspec_kw={'width_ratios': [1, 1]}, sharey=True)\n",
    "# for ax in axs:\n",
    "#     ax.set_facecolor('white')\n",
    "# Plot points with different colors based on categ2\n",
    "for categ2 in unique_categ2:\n",
    "    subset = df_summary_dynamic[df_summary_dynamic['type'] == categ2]\n",
    "    axs[0].scatter(subset['mean'],\n",
    "                subset['categ_pos'],\n",
    "                label=f'{categ2}', color=color_map[categ2], s=650)\n",
    "\n",
    "\n",
    "for i, row in df_summary_dynamic.iterrows():\n",
    "    axs[0].errorbar(\n",
    "        row['mean'] - row['true'], \n",
    "        row['categ_pos'], \n",
    "        xerr=[[row['mean'] - row['q025']],\n",
    "              [row['q975'] - row['mean']]], \n",
    "        fmt='o', \n",
    "        # color='black', \n",
    "        color = color_map[row['model']], \n",
    "        ecolor = color_map[row['model']], \n",
    "        # ecolor='black', \n",
    "        capsize=5, markersize = 8   \n",
    "    )\n",
    "    \n",
    "    axs[0].annotate(\n",
    "                    # row['mean_ind_cover'], \n",
    "                    row['coverage'], \n",
    "                    xy=(row['mean'] - row['true'], row['categ_pos']), \n",
    "                    xytext=(0, 13), \n",
    "                    textcoords='offset points', \n",
    "                    ha='center', \n",
    "                    va='top',\n",
    "                    fontsize=10, \n",
    "                    color='black')    \n",
    "\n",
    "# Customize the x-axis to show category labels\n",
    "axs[0].set_yticks(np.arange(0.5,len(model_order),2))\n",
    "# axs[0].set_yticklabels(model_order)\n",
    "axs[0].set_yticklabels(model_names, fontsize=14, fontweight='bold')\n",
    "axs[0].set_ylim(-1, len(model_order) - 0.5)\n",
    "# axs[0].axvline(df_summary_dynamic[\"true\"][0], color='grey', linestyle='--', alpha=0.5)\n",
    "axs[0].axvline(0, color='black', linestyle='--', alpha=0.3)\n",
    "axs[0].set_title('Coverage & Mean error (95% CI)', fontsize=16, fontweight='bold')\n",
    "# axs[0].grid(True)\n",
    "\n",
    "\n",
    "flierprops = dict(marker='.', markerfacecolor='None', markersize=3,  markeredgecolor='grey')\n",
    "sns.boxplot(\n",
    "    data=combined_df_dynamic, \n",
    "    # x='MAE', \n",
    "    x='RMSE', \n",
    "    # x='MAPE', \n",
    "    y='method', \n",
    "    hue=\"model\", \n",
    "    palette=color_map, \n",
    "    ax=axs[1],\n",
    "    flierprops=flierprops\n",
    ")\n",
    "\n",
    "axs[1].set_yticks(np.arange(0.5,len(model_order),2))\n",
    "axs[1].set_ylim(-1, len(model_order) - 0.5)\n",
    "# axs[1].set_yticklabels([])\n",
    "axs[1].set_xlabel('')\n",
    "axs[1].set_ylabel('')\n",
    "axs[1].set_title('RMSE', fontsize=18, fontweight='bold')\n",
    "handles, labels = axs[1].get_legend_handles_labels()\n",
    "ordered_handles = [handles[1], handles[0]]  # Reorder legend\n",
    "ordered_labels = [labels[1], labels[0]]  # Reorder labels\n",
    "axs[1].legend(ordered_handles, ordered_labels, title='', loc='upper right', \n",
    "              fontsize=13)\n",
    "# axs[1].grid(True)\n",
    "plt.tight_layout()\n",
    "# plt.style.use('seaborn-whitegrid')\n",
    "axs[0].tick_params(axis='x', labelsize=12)\n",
    "axs[1].tick_params(axis='x', labelsize=12)\n",
    "\n",
    "\n",
    "# plt.savefig('results/figs/nonlin_truncated_parab.png', dpi = 1000)           # Save as PNG file\n",
    "plt.show()\n"
   ],
   "metadata": {
    "collapsed": false
   },
   "id": "840fb89bd415aeec",
   "outputs": [],
   "execution_count": null
  },
  {
   "cell_type": "code",
   "source": [],
   "metadata": {
    "collapsed": false
   },
   "id": "840d26cf9cf419c9",
   "outputs": [],
   "execution_count": null
  }
 ],
 "metadata": {
  "kernelspec": {
   "display_name": "Python 3",
   "language": "python",
   "name": "python3"
  },
  "language_info": {
   "codemirror_mode": {
    "name": "ipython",
    "version": 2
   },
   "file_extension": ".py",
   "mimetype": "text/x-python",
   "name": "python",
   "nbconvert_exporter": "python",
   "pygments_lexer": "ipython2",
   "version": "2.7.6"
  }
 },
 "nbformat": 4,
 "nbformat_minor": 5
}
