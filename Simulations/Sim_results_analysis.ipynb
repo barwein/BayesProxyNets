{
 "cells": [
  {
   "cell_type": "code",
   "id": "initial_id",
   "metadata": {
    "collapsed": true,
    "ExecuteTime": {
     "end_time": "2024-09-17T07:29:12.593141Z",
     "start_time": "2024-09-17T07:29:12.584887Z"
    }
   },
   "source": [
    "import pandas as pd\n",
    "import matplotlib.pyplot as plt\n",
    "import seaborn as sns \n",
    "import numpy as np\n",
    "import glob\n",
    "import re\n"
   ],
   "outputs": [],
   "execution_count": 1
  },
  {
   "cell_type": "code",
   "source": [
    "# beige_color = (255/255,253/255,250/255)\n",
    "beige_color = '#FFFDFA'\n",
    "\n",
    "# sns.set_theme(style=\"ticks\", rc={'figure.facecolor': beige_color, 'axes.facecolor' : beige_color})\n",
    "sns.set_theme(style=\"ticks\")\n",
    "# sns.set_context(\"talk\")\n",
    "# sns.set_context(\"poster\")\n"
   ],
   "metadata": {
    "collapsed": false,
    "ExecuteTime": {
     "end_time": "2024-09-17T07:29:39.248786Z",
     "start_time": "2024-09-17T07:29:39.241746Z"
    }
   },
   "id": "f0dbd5f1909a557c",
   "outputs": [],
   "execution_count": 2
  },
  {
   "cell_type": "code",
   "source": [
    "path = \"results/linear_multi\"\n",
    "# path = \"results/linear_multi/N500\"\n",
    "# path = \"results/nonlinear_multi\"\n",
    "# path = \"results/nonlinear_multi/trunc_parab\"\n",
    "all_file = glob.glob(path + \"/*.csv\")\n",
    "print(all_file)"
   ],
   "metadata": {
    "collapsed": false,
    "ExecuteTime": {
     "end_time": "2024-09-17T07:29:40.029413Z",
     "start_time": "2024-09-17T07:29:40.016198Z"
    }
   },
   "id": "2c0f7444c72510b0",
   "outputs": [
    {
     "name": "stdout",
     "output_type": "stream",
     "text": [
      "['results/linear_multi\\\\linear_dgp_svi_diff_1.csv', 'results/linear_multi\\\\linear_dgp_svi_diff_10.csv', 'results/linear_multi\\\\linear_dgp_svi_diff_11.csv', 'results/linear_multi\\\\linear_dgp_svi_diff_12.csv', 'results/linear_multi\\\\linear_dgp_svi_diff_13.csv', 'results/linear_multi\\\\linear_dgp_svi_diff_14.csv', 'results/linear_multi\\\\linear_dgp_svi_diff_15.csv', 'results/linear_multi\\\\linear_dgp_svi_diff_16.csv', 'results/linear_multi\\\\linear_dgp_svi_diff_17.csv', 'results/linear_multi\\\\linear_dgp_svi_diff_18.csv', 'results/linear_multi\\\\linear_dgp_svi_diff_19.csv', 'results/linear_multi\\\\linear_dgp_svi_diff_2.csv', 'results/linear_multi\\\\linear_dgp_svi_diff_20.csv', 'results/linear_multi\\\\linear_dgp_svi_diff_21.csv', 'results/linear_multi\\\\linear_dgp_svi_diff_22.csv', 'results/linear_multi\\\\linear_dgp_svi_diff_23.csv', 'results/linear_multi\\\\linear_dgp_svi_diff_24.csv', 'results/linear_multi\\\\linear_dgp_svi_diff_25.csv', 'results/linear_multi\\\\linear_dgp_svi_diff_26.csv', 'results/linear_multi\\\\linear_dgp_svi_diff_27.csv', 'results/linear_multi\\\\linear_dgp_svi_diff_28.csv', 'results/linear_multi\\\\linear_dgp_svi_diff_29.csv', 'results/linear_multi\\\\linear_dgp_svi_diff_3.csv', 'results/linear_multi\\\\linear_dgp_svi_diff_30.csv', 'results/linear_multi\\\\linear_dgp_svi_diff_31.csv', 'results/linear_multi\\\\linear_dgp_svi_diff_32.csv', 'results/linear_multi\\\\linear_dgp_svi_diff_33.csv', 'results/linear_multi\\\\linear_dgp_svi_diff_34.csv', 'results/linear_multi\\\\linear_dgp_svi_diff_35.csv', 'results/linear_multi\\\\linear_dgp_svi_diff_36.csv', 'results/linear_multi\\\\linear_dgp_svi_diff_37.csv', 'results/linear_multi\\\\linear_dgp_svi_diff_38.csv', 'results/linear_multi\\\\linear_dgp_svi_diff_39.csv', 'results/linear_multi\\\\linear_dgp_svi_diff_4.csv', 'results/linear_multi\\\\linear_dgp_svi_diff_40.csv', 'results/linear_multi\\\\linear_dgp_svi_diff_41.csv', 'results/linear_multi\\\\linear_dgp_svi_diff_42.csv', 'results/linear_multi\\\\linear_dgp_svi_diff_43.csv', 'results/linear_multi\\\\linear_dgp_svi_diff_44.csv', 'results/linear_multi\\\\linear_dgp_svi_diff_45.csv', 'results/linear_multi\\\\linear_dgp_svi_diff_46.csv', 'results/linear_multi\\\\linear_dgp_svi_diff_47.csv', 'results/linear_multi\\\\linear_dgp_svi_diff_48.csv', 'results/linear_multi\\\\linear_dgp_svi_diff_49.csv', 'results/linear_multi\\\\linear_dgp_svi_diff_5.csv', 'results/linear_multi\\\\linear_dgp_svi_diff_50.csv', 'results/linear_multi\\\\linear_dgp_svi_diff_51.csv', 'results/linear_multi\\\\linear_dgp_svi_diff_52.csv', 'results/linear_multi\\\\linear_dgp_svi_diff_53.csv', 'results/linear_multi\\\\linear_dgp_svi_diff_54.csv', 'results/linear_multi\\\\linear_dgp_svi_diff_55.csv', 'results/linear_multi\\\\linear_dgp_svi_diff_6.csv', 'results/linear_multi\\\\linear_dgp_svi_diff_7.csv', 'results/linear_multi\\\\linear_dgp_svi_diff_8.csv', 'results/linear_multi\\\\linear_dgp_svi_diff_9.csv']\n"
     ]
    }
   ],
   "execution_count": 3
  },
  {
   "cell_type": "code",
   "source": [
    "extracted_numbers = [re.findall(r'\\d+', s) for s in all_file]\n",
    "first_numbers = [int(numbers[0]) if numbers else None for numbers in extracted_numbers]\n",
    "first_numbers.sort()\n",
    "first_numbers"
   ],
   "metadata": {
    "collapsed": false,
    "ExecuteTime": {
     "end_time": "2024-09-17T07:29:47.369451Z",
     "start_time": "2024-09-17T07:29:47.341145Z"
    }
   },
   "id": "ef21fc4acf6b1c75",
   "outputs": [
    {
     "data": {
      "text/plain": [
       "[1,\n",
       " 2,\n",
       " 3,\n",
       " 4,\n",
       " 5,\n",
       " 6,\n",
       " 7,\n",
       " 8,\n",
       " 9,\n",
       " 10,\n",
       " 11,\n",
       " 12,\n",
       " 13,\n",
       " 14,\n",
       " 15,\n",
       " 16,\n",
       " 17,\n",
       " 18,\n",
       " 19,\n",
       " 20,\n",
       " 21,\n",
       " 22,\n",
       " 23,\n",
       " 24,\n",
       " 25,\n",
       " 26,\n",
       " 27,\n",
       " 28,\n",
       " 29,\n",
       " 30,\n",
       " 31,\n",
       " 32,\n",
       " 33,\n",
       " 34,\n",
       " 35,\n",
       " 36,\n",
       " 37,\n",
       " 38,\n",
       " 39,\n",
       " 40,\n",
       " 41,\n",
       " 42,\n",
       " 43,\n",
       " 44,\n",
       " 45,\n",
       " 46,\n",
       " 47,\n",
       " 48,\n",
       " 49,\n",
       " 50,\n",
       " 51,\n",
       " 52,\n",
       " 53,\n",
       " 54,\n",
       " 55]"
      ]
     },
     "execution_count": 4,
     "metadata": {},
     "output_type": "execute_result"
    }
   ],
   "execution_count": 4
  },
  {
   "cell_type": "code",
   "source": [
    "lin_dfs = [pd.read_csv(f) for f in all_file]\n",
    "combined_df = pd.concat(lin_dfs)\n",
    "combined_df[['model', 'type']] = combined_df['method'].str.split('_', expand=True)\n",
    "print(combined_df)"
   ],
   "metadata": {
    "collapsed": false,
    "ExecuteTime": {
     "end_time": "2024-09-17T07:29:49.904615Z",
     "start_time": "2024-09-17T07:29:49.155105Z"
    }
   },
   "id": "1030e9552709d7e8",
   "outputs": [
    {
     "name": "stdout",
     "output_type": "stream",
     "text": [
      "       idx   mean  median   true   bias    std   RMSE  RMSE_all    MAE  \\\n",
      "0      1.0  0.847   0.847  0.839  0.008  0.026  0.056     0.071  0.040   \n",
      "1      1.0  0.822   0.821  0.839 -0.017  0.031  0.126     0.190  0.062   \n",
      "2      1.0  2.713   2.713  2.690  0.023  0.082  0.052     0.105  0.037   \n",
      "3      1.0  2.588   2.586  2.690 -0.102  0.096  0.319     0.408  0.109   \n",
      "4      1.0  0.615   0.614  0.839 -0.224  0.048  0.415     0.421  0.309   \n",
      "..     ...    ...     ...    ...    ...    ...    ...       ...    ...   \n",
      "155  504.0  1.828   1.827  2.530 -0.702  0.127  0.844     0.948  0.709   \n",
      "156  504.0  0.548   0.547  0.516  0.032  0.026  0.181     0.185  0.142   \n",
      "157  504.0  0.519   0.520  0.516  0.003  0.031  0.227     0.255  0.159   \n",
      "158  504.0  2.521   2.519  2.530 -0.009  0.117  0.382     0.401  0.299   \n",
      "159  504.0  2.390   2.391  2.530 -0.140  0.145  0.538     0.593  0.346   \n",
      "\n",
      "     MAE_all   q025   q975  covering  mean_ind_cover           method  \\\n",
      "0      0.043  0.796  0.898       1.0           1.000    Linear_oracle   \n",
      "1      0.092  0.760  0.883       1.0           1.000        GP_oracle   \n",
      "2      0.076  2.551  2.874       1.0           1.000    Linear_oracle   \n",
      "3      0.176  2.400  2.778       1.0           0.998        GP_oracle   \n",
      "4      0.314  0.522  0.710       0.0           0.222  Linear_observed   \n",
      "..       ...    ...    ...       ...             ...              ...   \n",
      "155    0.761  1.581  2.079       0.0           0.680            GP_3S   \n",
      "156    0.145  0.496  0.599       1.0           0.218        Linear_1S   \n",
      "157    0.171  0.456  0.579       1.0           0.492            GP_1S   \n",
      "158    0.314  2.291  2.752       1.0           0.452        Linear_1S   \n",
      "159    0.382  2.104  2.674       1.0           0.662            GP_1S   \n",
      "\n",
      "    estimand   model      type  \n",
      "0    dynamic  Linear    oracle  \n",
      "1    dynamic      GP    oracle  \n",
      "2      stoch  Linear    oracle  \n",
      "3      stoch      GP    oracle  \n",
      "4    dynamic  Linear  observed  \n",
      "..       ...     ...       ...  \n",
      "155    stoch      GP        3S  \n",
      "156  dynamic  Linear        1S  \n",
      "157  dynamic      GP        1S  \n",
      "158    stoch  Linear        1S  \n",
      "159    stoch      GP        1S  \n",
      "\n",
      "[8800 rows x 18 columns]\n"
     ]
    }
   ],
   "execution_count": 5
  },
  {
   "cell_type": "code",
   "source": "combined_df[['bias','median','true','mean','std','RMSE','RMSE_all','MAE', 'MAE_all', 'q025','q975','covering','mean_ind_cover']] = combined_df[['bias','median','true','mean','std','RMSE','RMSE_all','MAE', 'MAE_all', 'q025','q975','covering', 'mean_ind_cover']].apply(pd.to_numeric, errors='coerce')",
   "metadata": {
    "collapsed": false,
    "ExecuteTime": {
     "end_time": "2024-09-17T07:29:50.516883Z",
     "start_time": "2024-09-17T07:29:50.475951Z"
    }
   },
   "id": "19aafa6894d20d9e",
   "outputs": [],
   "execution_count": 6
  },
  {
   "cell_type": "code",
   "source": [
    "# combined_df = combined_df.apply(pd.to_numeric, errors='coerce')\n",
    "\n",
    "\n",
    "combined_df['type'] = combined_df['type'].replace('observed',\"Obs.\")\n",
    "combined_df['type'] = combined_df['type'].replace('oracle',\"Oracle\")\n",
    "combined_df['type'] = combined_df['type'].replace('plugin',\"Plugin\")\n",
    "combined_df['abs_bias'] = np.abs(combined_df['bias'])\n",
    "combined_df['ci_length'] = combined_df['q975'] - combined_df['q025']\n",
    "combined_df['MAPE_manual'] = np.abs((combined_df['mean']-combined_df['true'])/combined_df['true'])\n",
    "\n",
    "# combined_df.to_csv(\"results/linear_dgp_N300.csv\")\n"
   ],
   "metadata": {
    "collapsed": false,
    "ExecuteTime": {
     "end_time": "2024-09-17T07:29:51.337347Z",
     "start_time": "2024-09-17T07:29:51.298898Z"
    }
   },
   "id": "f05115ed993ad881",
   "outputs": [],
   "execution_count": 7
  },
  {
   "metadata": {
    "ExecuteTime": {
     "end_time": "2024-09-17T07:29:59.174954Z",
     "start_time": "2024-09-17T07:29:59.123773Z"
    }
   },
   "cell_type": "code",
   "source": "combined_df[combined_df[\"estimand\"]==\"dynamic\"]",
   "id": "36601e4eb7b27b74",
   "outputs": [
    {
     "data": {
      "text/plain": [
       "       idx   mean  median   true   bias    std   RMSE  RMSE_all    MAE  \\\n",
       "0      1.0  0.847   0.847  0.839  0.008  0.026  0.056     0.071  0.040   \n",
       "1      1.0  0.822   0.821  0.839 -0.017  0.031  0.126     0.190  0.062   \n",
       "4      1.0  0.615   0.614  0.839 -0.224  0.048  0.415     0.421  0.309   \n",
       "5      1.0  0.466   0.466  0.839 -0.373  0.079  0.517     0.545  0.395   \n",
       "8      1.0  0.706   0.704  0.839 -0.133  0.047  0.326     0.390  0.245   \n",
       "..     ...    ...     ...    ...    ...    ...    ...       ...    ...   \n",
       "149  504.0  0.237   0.238  0.516 -0.279  0.046  0.376     0.396  0.290   \n",
       "152  504.0  0.423   0.422  0.516 -0.093  0.030  0.214     0.246  0.155   \n",
       "154  504.0  0.405   0.404  0.516 -0.111  0.035  0.243     0.331  0.167   \n",
       "156  504.0  0.548   0.547  0.516  0.032  0.026  0.181     0.185  0.142   \n",
       "157  504.0  0.519   0.520  0.516  0.003  0.031  0.227     0.255  0.159   \n",
       "\n",
       "     MAE_all  ...   q975  covering  mean_ind_cover           method estimand  \\\n",
       "0      0.043  ...  0.898       1.0           1.000    Linear_oracle  dynamic   \n",
       "1      0.092  ...  0.883       1.0           1.000        GP_oracle  dynamic   \n",
       "4      0.314  ...  0.710       0.0           0.222  Linear_observed  dynamic   \n",
       "5      0.420  ...  0.621       0.0           0.482      GP_observed  dynamic   \n",
       "8      0.300  ...  0.802       0.0           0.866        Linear_3S  dynamic   \n",
       "..       ...  ...    ...       ...             ...              ...      ...   \n",
       "149    0.304  ...  0.326       0.0           0.422      GP_observed  dynamic   \n",
       "152    0.182  ...  0.485       0.0           0.866        Linear_3S  dynamic   \n",
       "154    0.221  ...  0.475       0.0           0.942            GP_3S  dynamic   \n",
       "156    0.145  ...  0.599       1.0           0.218        Linear_1S  dynamic   \n",
       "157    0.171  ...  0.579       1.0           0.492            GP_1S  dynamic   \n",
       "\n",
       "      model    type abs_bias  ci_length  MAPE_manual  \n",
       "0    Linear  Oracle    0.008      0.102     0.009535  \n",
       "1        GP  Oracle    0.017      0.123     0.020262  \n",
       "4    Linear    Obs.    0.224      0.188     0.266985  \n",
       "5        GP    Obs.    0.373      0.310     0.444577  \n",
       "8    Linear      3S    0.133      0.184     0.158522  \n",
       "..      ...     ...      ...        ...          ...  \n",
       "149      GP    Obs.    0.279      0.179     0.540698  \n",
       "152  Linear      3S    0.093      0.118     0.180233  \n",
       "154      GP      3S    0.111      0.137     0.215116  \n",
       "156  Linear      1S    0.032      0.103     0.062016  \n",
       "157      GP      1S    0.003      0.123     0.005814  \n",
       "\n",
       "[4400 rows x 21 columns]"
      ],
      "text/html": [
       "<div>\n",
       "<style scoped>\n",
       "    .dataframe tbody tr th:only-of-type {\n",
       "        vertical-align: middle;\n",
       "    }\n",
       "\n",
       "    .dataframe tbody tr th {\n",
       "        vertical-align: top;\n",
       "    }\n",
       "\n",
       "    .dataframe thead th {\n",
       "        text-align: right;\n",
       "    }\n",
       "</style>\n",
       "<table border=\"1\" class=\"dataframe\">\n",
       "  <thead>\n",
       "    <tr style=\"text-align: right;\">\n",
       "      <th></th>\n",
       "      <th>idx</th>\n",
       "      <th>mean</th>\n",
       "      <th>median</th>\n",
       "      <th>true</th>\n",
       "      <th>bias</th>\n",
       "      <th>std</th>\n",
       "      <th>RMSE</th>\n",
       "      <th>RMSE_all</th>\n",
       "      <th>MAE</th>\n",
       "      <th>MAE_all</th>\n",
       "      <th>...</th>\n",
       "      <th>q975</th>\n",
       "      <th>covering</th>\n",
       "      <th>mean_ind_cover</th>\n",
       "      <th>method</th>\n",
       "      <th>estimand</th>\n",
       "      <th>model</th>\n",
       "      <th>type</th>\n",
       "      <th>abs_bias</th>\n",
       "      <th>ci_length</th>\n",
       "      <th>MAPE_manual</th>\n",
       "    </tr>\n",
       "  </thead>\n",
       "  <tbody>\n",
       "    <tr>\n",
       "      <th>0</th>\n",
       "      <td>1.0</td>\n",
       "      <td>0.847</td>\n",
       "      <td>0.847</td>\n",
       "      <td>0.839</td>\n",
       "      <td>0.008</td>\n",
       "      <td>0.026</td>\n",
       "      <td>0.056</td>\n",
       "      <td>0.071</td>\n",
       "      <td>0.040</td>\n",
       "      <td>0.043</td>\n",
       "      <td>...</td>\n",
       "      <td>0.898</td>\n",
       "      <td>1.0</td>\n",
       "      <td>1.000</td>\n",
       "      <td>Linear_oracle</td>\n",
       "      <td>dynamic</td>\n",
       "      <td>Linear</td>\n",
       "      <td>Oracle</td>\n",
       "      <td>0.008</td>\n",
       "      <td>0.102</td>\n",
       "      <td>0.009535</td>\n",
       "    </tr>\n",
       "    <tr>\n",
       "      <th>1</th>\n",
       "      <td>1.0</td>\n",
       "      <td>0.822</td>\n",
       "      <td>0.821</td>\n",
       "      <td>0.839</td>\n",
       "      <td>-0.017</td>\n",
       "      <td>0.031</td>\n",
       "      <td>0.126</td>\n",
       "      <td>0.190</td>\n",
       "      <td>0.062</td>\n",
       "      <td>0.092</td>\n",
       "      <td>...</td>\n",
       "      <td>0.883</td>\n",
       "      <td>1.0</td>\n",
       "      <td>1.000</td>\n",
       "      <td>GP_oracle</td>\n",
       "      <td>dynamic</td>\n",
       "      <td>GP</td>\n",
       "      <td>Oracle</td>\n",
       "      <td>0.017</td>\n",
       "      <td>0.123</td>\n",
       "      <td>0.020262</td>\n",
       "    </tr>\n",
       "    <tr>\n",
       "      <th>4</th>\n",
       "      <td>1.0</td>\n",
       "      <td>0.615</td>\n",
       "      <td>0.614</td>\n",
       "      <td>0.839</td>\n",
       "      <td>-0.224</td>\n",
       "      <td>0.048</td>\n",
       "      <td>0.415</td>\n",
       "      <td>0.421</td>\n",
       "      <td>0.309</td>\n",
       "      <td>0.314</td>\n",
       "      <td>...</td>\n",
       "      <td>0.710</td>\n",
       "      <td>0.0</td>\n",
       "      <td>0.222</td>\n",
       "      <td>Linear_observed</td>\n",
       "      <td>dynamic</td>\n",
       "      <td>Linear</td>\n",
       "      <td>Obs.</td>\n",
       "      <td>0.224</td>\n",
       "      <td>0.188</td>\n",
       "      <td>0.266985</td>\n",
       "    </tr>\n",
       "    <tr>\n",
       "      <th>5</th>\n",
       "      <td>1.0</td>\n",
       "      <td>0.466</td>\n",
       "      <td>0.466</td>\n",
       "      <td>0.839</td>\n",
       "      <td>-0.373</td>\n",
       "      <td>0.079</td>\n",
       "      <td>0.517</td>\n",
       "      <td>0.545</td>\n",
       "      <td>0.395</td>\n",
       "      <td>0.420</td>\n",
       "      <td>...</td>\n",
       "      <td>0.621</td>\n",
       "      <td>0.0</td>\n",
       "      <td>0.482</td>\n",
       "      <td>GP_observed</td>\n",
       "      <td>dynamic</td>\n",
       "      <td>GP</td>\n",
       "      <td>Obs.</td>\n",
       "      <td>0.373</td>\n",
       "      <td>0.310</td>\n",
       "      <td>0.444577</td>\n",
       "    </tr>\n",
       "    <tr>\n",
       "      <th>8</th>\n",
       "      <td>1.0</td>\n",
       "      <td>0.706</td>\n",
       "      <td>0.704</td>\n",
       "      <td>0.839</td>\n",
       "      <td>-0.133</td>\n",
       "      <td>0.047</td>\n",
       "      <td>0.326</td>\n",
       "      <td>0.390</td>\n",
       "      <td>0.245</td>\n",
       "      <td>0.300</td>\n",
       "      <td>...</td>\n",
       "      <td>0.802</td>\n",
       "      <td>0.0</td>\n",
       "      <td>0.866</td>\n",
       "      <td>Linear_3S</td>\n",
       "      <td>dynamic</td>\n",
       "      <td>Linear</td>\n",
       "      <td>3S</td>\n",
       "      <td>0.133</td>\n",
       "      <td>0.184</td>\n",
       "      <td>0.158522</td>\n",
       "    </tr>\n",
       "    <tr>\n",
       "      <th>...</th>\n",
       "      <td>...</td>\n",
       "      <td>...</td>\n",
       "      <td>...</td>\n",
       "      <td>...</td>\n",
       "      <td>...</td>\n",
       "      <td>...</td>\n",
       "      <td>...</td>\n",
       "      <td>...</td>\n",
       "      <td>...</td>\n",
       "      <td>...</td>\n",
       "      <td>...</td>\n",
       "      <td>...</td>\n",
       "      <td>...</td>\n",
       "      <td>...</td>\n",
       "      <td>...</td>\n",
       "      <td>...</td>\n",
       "      <td>...</td>\n",
       "      <td>...</td>\n",
       "      <td>...</td>\n",
       "      <td>...</td>\n",
       "      <td>...</td>\n",
       "    </tr>\n",
       "    <tr>\n",
       "      <th>149</th>\n",
       "      <td>504.0</td>\n",
       "      <td>0.237</td>\n",
       "      <td>0.238</td>\n",
       "      <td>0.516</td>\n",
       "      <td>-0.279</td>\n",
       "      <td>0.046</td>\n",
       "      <td>0.376</td>\n",
       "      <td>0.396</td>\n",
       "      <td>0.290</td>\n",
       "      <td>0.304</td>\n",
       "      <td>...</td>\n",
       "      <td>0.326</td>\n",
       "      <td>0.0</td>\n",
       "      <td>0.422</td>\n",
       "      <td>GP_observed</td>\n",
       "      <td>dynamic</td>\n",
       "      <td>GP</td>\n",
       "      <td>Obs.</td>\n",
       "      <td>0.279</td>\n",
       "      <td>0.179</td>\n",
       "      <td>0.540698</td>\n",
       "    </tr>\n",
       "    <tr>\n",
       "      <th>152</th>\n",
       "      <td>504.0</td>\n",
       "      <td>0.423</td>\n",
       "      <td>0.422</td>\n",
       "      <td>0.516</td>\n",
       "      <td>-0.093</td>\n",
       "      <td>0.030</td>\n",
       "      <td>0.214</td>\n",
       "      <td>0.246</td>\n",
       "      <td>0.155</td>\n",
       "      <td>0.182</td>\n",
       "      <td>...</td>\n",
       "      <td>0.485</td>\n",
       "      <td>0.0</td>\n",
       "      <td>0.866</td>\n",
       "      <td>Linear_3S</td>\n",
       "      <td>dynamic</td>\n",
       "      <td>Linear</td>\n",
       "      <td>3S</td>\n",
       "      <td>0.093</td>\n",
       "      <td>0.118</td>\n",
       "      <td>0.180233</td>\n",
       "    </tr>\n",
       "    <tr>\n",
       "      <th>154</th>\n",
       "      <td>504.0</td>\n",
       "      <td>0.405</td>\n",
       "      <td>0.404</td>\n",
       "      <td>0.516</td>\n",
       "      <td>-0.111</td>\n",
       "      <td>0.035</td>\n",
       "      <td>0.243</td>\n",
       "      <td>0.331</td>\n",
       "      <td>0.167</td>\n",
       "      <td>0.221</td>\n",
       "      <td>...</td>\n",
       "      <td>0.475</td>\n",
       "      <td>0.0</td>\n",
       "      <td>0.942</td>\n",
       "      <td>GP_3S</td>\n",
       "      <td>dynamic</td>\n",
       "      <td>GP</td>\n",
       "      <td>3S</td>\n",
       "      <td>0.111</td>\n",
       "      <td>0.137</td>\n",
       "      <td>0.215116</td>\n",
       "    </tr>\n",
       "    <tr>\n",
       "      <th>156</th>\n",
       "      <td>504.0</td>\n",
       "      <td>0.548</td>\n",
       "      <td>0.547</td>\n",
       "      <td>0.516</td>\n",
       "      <td>0.032</td>\n",
       "      <td>0.026</td>\n",
       "      <td>0.181</td>\n",
       "      <td>0.185</td>\n",
       "      <td>0.142</td>\n",
       "      <td>0.145</td>\n",
       "      <td>...</td>\n",
       "      <td>0.599</td>\n",
       "      <td>1.0</td>\n",
       "      <td>0.218</td>\n",
       "      <td>Linear_1S</td>\n",
       "      <td>dynamic</td>\n",
       "      <td>Linear</td>\n",
       "      <td>1S</td>\n",
       "      <td>0.032</td>\n",
       "      <td>0.103</td>\n",
       "      <td>0.062016</td>\n",
       "    </tr>\n",
       "    <tr>\n",
       "      <th>157</th>\n",
       "      <td>504.0</td>\n",
       "      <td>0.519</td>\n",
       "      <td>0.520</td>\n",
       "      <td>0.516</td>\n",
       "      <td>0.003</td>\n",
       "      <td>0.031</td>\n",
       "      <td>0.227</td>\n",
       "      <td>0.255</td>\n",
       "      <td>0.159</td>\n",
       "      <td>0.171</td>\n",
       "      <td>...</td>\n",
       "      <td>0.579</td>\n",
       "      <td>1.0</td>\n",
       "      <td>0.492</td>\n",
       "      <td>GP_1S</td>\n",
       "      <td>dynamic</td>\n",
       "      <td>GP</td>\n",
       "      <td>1S</td>\n",
       "      <td>0.003</td>\n",
       "      <td>0.123</td>\n",
       "      <td>0.005814</td>\n",
       "    </tr>\n",
       "  </tbody>\n",
       "</table>\n",
       "<p>4400 rows × 21 columns</p>\n",
       "</div>"
      ]
     },
     "execution_count": 8,
     "metadata": {},
     "output_type": "execute_result"
    }
   ],
   "execution_count": 8
  },
  {
   "metadata": {
    "ExecuteTime": {
     "end_time": "2024-09-17T07:30:00.728187Z",
     "start_time": "2024-09-17T07:30:00.715319Z"
    }
   },
   "cell_type": "code",
   "source": [
    "# print dtype of each column \n",
    "print(combined_df.dtypes)"
   ],
   "id": "bd60242c826af273",
   "outputs": [
    {
     "name": "stdout",
     "output_type": "stream",
     "text": [
      "idx               float64\n",
      "mean              float64\n",
      "median            float64\n",
      "true              float64\n",
      "bias              float64\n",
      "std               float64\n",
      "RMSE              float64\n",
      "RMSE_all          float64\n",
      "MAE               float64\n",
      "MAE_all           float64\n",
      "q025              float64\n",
      "q975              float64\n",
      "covering          float64\n",
      "mean_ind_cover    float64\n",
      "method             object\n",
      "estimand           object\n",
      "model              object\n",
      "type               object\n",
      "abs_bias          float64\n",
      "ci_length         float64\n",
      "MAPE_manual       float64\n",
      "dtype: object\n"
     ]
    }
   ],
   "execution_count": 9
  },
  {
   "metadata": {
    "ExecuteTime": {
     "end_time": "2024-09-17T07:31:23.487335Z",
     "start_time": "2024-09-17T07:31:23.470768Z"
    }
   },
   "cell_type": "code",
   "source": [
    "err_mask = (combined_df['type'].values == '3S') & (combined_df['MAE'].values > 1)\n",
    "err_idx = combined_df[err_mask]['idx'].unique()\n",
    "combined_df = combined_df[~combined_df['idx'].isin(err_idx)]"
   ],
   "id": "671b5817fd42966a",
   "outputs": [],
   "execution_count": 12
  },
  {
   "metadata": {},
   "cell_type": "markdown",
   "source": "",
   "id": "c5a50a15336a1dcf"
  },
  {
   "cell_type": "code",
   "source": [
    "def coverage_perc(x):\n",
    "    return np.mean(x)*100\n",
    "\n",
    "# df_summary = combined_df.groupby([\"estimand\", \"model\", \"type\"]).agg(\n",
    "df_summary = combined_df.groupby([\"estimand\", \"model\", \"type\"]).agg(\n",
    "                                        {'mean' : ['mean'],\n",
    "                                         'median' : ['mean'],\n",
    "                                         'std' : ['mean'],\n",
    "                                         'bias' : ['mean'],\n",
    "                                         'true' : ['mean'],\n",
    "                                         'RMSE' : ['mean'],\n",
    "                                         'RMSE_all' : ['mean'],\n",
    "                                         'MAE' : ['mean'],\n",
    "                                         'MAE_all' : ['mean'],\n",
    "                                         # 'MAPE' : ['mean'],\n",
    "                                         'MAPE_manual' : ['mean', 'std'],\n",
    "                                         'q025' : ['mean'],\n",
    "                                         'q975' : ['mean'],\n",
    "                                         'ci_length' : ['mean'],\n",
    "                                         'covering' : [coverage_perc],\n",
    "                                         'mean_ind_cover' : ['mean']}).reset_index()\n",
    "                                         # 'true_included99' : [coverage_perc]})\n",
    "                                         # 'true_included95' : ['mean'],\n",
    "                                         # 'true_included99' : ['mean']})\n",
    "\n",
    "df_summary\n"
   ],
   "metadata": {
    "collapsed": false,
    "ExecuteTime": {
     "end_time": "2024-09-17T07:31:27.011937Z",
     "start_time": "2024-09-17T07:31:26.940553Z"
    }
   },
   "id": "4b840d750966e13a",
   "outputs": [
    {
     "data": {
      "text/plain": [
       "   estimand   model    type      mean    median       std      bias      true  \\\n",
       "                                 mean      mean      mean      mean      mean   \n",
       "0   dynamic      GP      1S  0.746081  0.746458  0.040526  0.005609  0.740472   \n",
       "1   dynamic      GP      3S  0.575209  0.574855  0.044126 -0.165263  0.740472   \n",
       "2   dynamic      GP    Obs.  0.407780  0.407716  0.068557 -0.332692  0.740472   \n",
       "3   dynamic      GP  Oracle  0.719735  0.719986  0.023824 -0.020737  0.740472   \n",
       "4   dynamic  Linear      1S  0.768495  0.768132  0.030768  0.028023  0.740472   \n",
       "5   dynamic  Linear      3S  0.605103  0.603979  0.038340 -0.135369  0.740472   \n",
       "6   dynamic  Linear    Obs.  0.535936  0.535493  0.041936 -0.204536  0.740472   \n",
       "7   dynamic  Linear  Oracle  0.739716  0.739663  0.020691 -0.000756  0.740472   \n",
       "8     stoch      GP      1S  2.657106  2.657447  0.147118  0.014002  2.643105   \n",
       "9     stoch      GP      3S  2.005424  2.005484  0.127986 -0.637681  2.643105   \n",
       "10    stoch      GP    Obs.  1.884967  1.884435  0.147340 -0.758137  2.643105   \n",
       "11    stoch      GP  Oracle  2.564261  2.564756  0.080017 -0.078843  2.643105   \n",
       "12    stoch  Linear      1S  2.746397  2.745089  0.110060  0.103292  2.643105   \n",
       "13    stoch  Linear      3S  2.160814  2.159435  0.119091 -0.482290  2.643105   \n",
       "14    stoch  Linear    Obs.  1.785768  1.784108  0.126834 -0.857337  2.643105   \n",
       "15    stoch  Linear  Oracle  2.640304  2.640052  0.073702 -0.002801  2.643105   \n",
       "\n",
       "        RMSE  RMSE_all       MAE   MAE_all MAPE_manual                q025  \\\n",
       "        mean      mean      mean      mean        mean       std      mean   \n",
       "0   0.344135  0.383093  0.243176  0.259849    0.058495  0.045828  0.665168   \n",
       "1   0.348667  0.452236  0.243536  0.309803    0.220933  0.052419  0.489251   \n",
       "2   0.502174  0.529551  0.392000  0.413642    0.444903  0.103545  0.273810   \n",
       "3   0.165344  0.206215  0.066892  0.088677    0.033872  0.024863  0.672089   \n",
       "4   0.254667  0.258992  0.202965  0.205948    0.058488  0.046135  0.708045   \n",
       "5   0.296720  0.338284  0.221381  0.256555    0.180579  0.051302  0.533137   \n",
       "6   0.377868  0.382861  0.282948  0.287323    0.272032  0.083525  0.453596   \n",
       "7   0.032493  0.051397  0.020188  0.029170    0.021023  0.015926  0.699095   \n",
       "8   0.644315  0.707135  0.433074  0.466741    0.047801  0.036772  2.367532   \n",
       "9   0.824534  0.957809  0.658642  0.740673    0.241261  0.034980  1.754300   \n",
       "10  1.227965  1.279973  0.979118  1.006627    0.286615  0.066724  1.597298   \n",
       "11  0.358592  0.409702  0.150280  0.185934    0.033954  0.023313  2.405393   \n",
       "12  0.428818  0.444853  0.342395  0.354180    0.051361  0.037582  2.530180   \n",
       "13  0.669282  0.734474  0.536427  0.586029    0.182444  0.037286  1.931379   \n",
       "14  1.112687  1.121122  0.900756  0.906985    0.324233  0.056513  1.536354   \n",
       "15  0.062673  0.107215  0.056954  0.082776    0.020988  0.016068  2.495488   \n",
       "\n",
       "        q975 ci_length      covering mean_ind_cover  \n",
       "        mean      mean coverage_perc           mean  \n",
       "0   0.824540  0.159371     85.299807       0.455308  \n",
       "1   0.663023  0.173772      4.255319       0.907358  \n",
       "2   0.542315  0.268505      1.547389       0.450685  \n",
       "3   0.765650  0.093561     87.040619       0.952569  \n",
       "4   0.829242  0.121197     75.822050       0.200967  \n",
       "5   0.683675  0.150538      8.510638       0.803807  \n",
       "6   0.618679  0.165083      5.029014       0.231369  \n",
       "7   0.780128  0.081033     96.711799       0.964627  \n",
       "8   2.944468  0.576936     92.843327       0.583633  \n",
       "9   2.256101  0.501801      0.193424       0.764337  \n",
       "10  2.174867  0.577569      1.353965       0.306027  \n",
       "11  2.719459  0.314066     85.299807       0.920248  \n",
       "12  2.963681  0.433501     81.237911       0.375524  \n",
       "13  2.399571  0.468191      1.353965       0.603853  \n",
       "14  2.036076  0.499721      0.000000       0.165660  \n",
       "15  2.784250  0.288762     96.518375       0.964874  "
      ],
      "text/html": [
       "<div>\n",
       "<style scoped>\n",
       "    .dataframe tbody tr th:only-of-type {\n",
       "        vertical-align: middle;\n",
       "    }\n",
       "\n",
       "    .dataframe tbody tr th {\n",
       "        vertical-align: top;\n",
       "    }\n",
       "\n",
       "    .dataframe thead tr th {\n",
       "        text-align: left;\n",
       "    }\n",
       "</style>\n",
       "<table border=\"1\" class=\"dataframe\">\n",
       "  <thead>\n",
       "    <tr>\n",
       "      <th></th>\n",
       "      <th>estimand</th>\n",
       "      <th>model</th>\n",
       "      <th>type</th>\n",
       "      <th>mean</th>\n",
       "      <th>median</th>\n",
       "      <th>std</th>\n",
       "      <th>bias</th>\n",
       "      <th>true</th>\n",
       "      <th>RMSE</th>\n",
       "      <th>RMSE_all</th>\n",
       "      <th>MAE</th>\n",
       "      <th>MAE_all</th>\n",
       "      <th colspan=\"2\" halign=\"left\">MAPE_manual</th>\n",
       "      <th>q025</th>\n",
       "      <th>q975</th>\n",
       "      <th>ci_length</th>\n",
       "      <th>covering</th>\n",
       "      <th>mean_ind_cover</th>\n",
       "    </tr>\n",
       "    <tr>\n",
       "      <th></th>\n",
       "      <th></th>\n",
       "      <th></th>\n",
       "      <th></th>\n",
       "      <th>mean</th>\n",
       "      <th>mean</th>\n",
       "      <th>mean</th>\n",
       "      <th>mean</th>\n",
       "      <th>mean</th>\n",
       "      <th>mean</th>\n",
       "      <th>mean</th>\n",
       "      <th>mean</th>\n",
       "      <th>mean</th>\n",
       "      <th>mean</th>\n",
       "      <th>std</th>\n",
       "      <th>mean</th>\n",
       "      <th>mean</th>\n",
       "      <th>mean</th>\n",
       "      <th>coverage_perc</th>\n",
       "      <th>mean</th>\n",
       "    </tr>\n",
       "  </thead>\n",
       "  <tbody>\n",
       "    <tr>\n",
       "      <th>0</th>\n",
       "      <td>dynamic</td>\n",
       "      <td>GP</td>\n",
       "      <td>1S</td>\n",
       "      <td>0.746081</td>\n",
       "      <td>0.746458</td>\n",
       "      <td>0.040526</td>\n",
       "      <td>0.005609</td>\n",
       "      <td>0.740472</td>\n",
       "      <td>0.344135</td>\n",
       "      <td>0.383093</td>\n",
       "      <td>0.243176</td>\n",
       "      <td>0.259849</td>\n",
       "      <td>0.058495</td>\n",
       "      <td>0.045828</td>\n",
       "      <td>0.665168</td>\n",
       "      <td>0.824540</td>\n",
       "      <td>0.159371</td>\n",
       "      <td>85.299807</td>\n",
       "      <td>0.455308</td>\n",
       "    </tr>\n",
       "    <tr>\n",
       "      <th>1</th>\n",
       "      <td>dynamic</td>\n",
       "      <td>GP</td>\n",
       "      <td>3S</td>\n",
       "      <td>0.575209</td>\n",
       "      <td>0.574855</td>\n",
       "      <td>0.044126</td>\n",
       "      <td>-0.165263</td>\n",
       "      <td>0.740472</td>\n",
       "      <td>0.348667</td>\n",
       "      <td>0.452236</td>\n",
       "      <td>0.243536</td>\n",
       "      <td>0.309803</td>\n",
       "      <td>0.220933</td>\n",
       "      <td>0.052419</td>\n",
       "      <td>0.489251</td>\n",
       "      <td>0.663023</td>\n",
       "      <td>0.173772</td>\n",
       "      <td>4.255319</td>\n",
       "      <td>0.907358</td>\n",
       "    </tr>\n",
       "    <tr>\n",
       "      <th>2</th>\n",
       "      <td>dynamic</td>\n",
       "      <td>GP</td>\n",
       "      <td>Obs.</td>\n",
       "      <td>0.407780</td>\n",
       "      <td>0.407716</td>\n",
       "      <td>0.068557</td>\n",
       "      <td>-0.332692</td>\n",
       "      <td>0.740472</td>\n",
       "      <td>0.502174</td>\n",
       "      <td>0.529551</td>\n",
       "      <td>0.392000</td>\n",
       "      <td>0.413642</td>\n",
       "      <td>0.444903</td>\n",
       "      <td>0.103545</td>\n",
       "      <td>0.273810</td>\n",
       "      <td>0.542315</td>\n",
       "      <td>0.268505</td>\n",
       "      <td>1.547389</td>\n",
       "      <td>0.450685</td>\n",
       "    </tr>\n",
       "    <tr>\n",
       "      <th>3</th>\n",
       "      <td>dynamic</td>\n",
       "      <td>GP</td>\n",
       "      <td>Oracle</td>\n",
       "      <td>0.719735</td>\n",
       "      <td>0.719986</td>\n",
       "      <td>0.023824</td>\n",
       "      <td>-0.020737</td>\n",
       "      <td>0.740472</td>\n",
       "      <td>0.165344</td>\n",
       "      <td>0.206215</td>\n",
       "      <td>0.066892</td>\n",
       "      <td>0.088677</td>\n",
       "      <td>0.033872</td>\n",
       "      <td>0.024863</td>\n",
       "      <td>0.672089</td>\n",
       "      <td>0.765650</td>\n",
       "      <td>0.093561</td>\n",
       "      <td>87.040619</td>\n",
       "      <td>0.952569</td>\n",
       "    </tr>\n",
       "    <tr>\n",
       "      <th>4</th>\n",
       "      <td>dynamic</td>\n",
       "      <td>Linear</td>\n",
       "      <td>1S</td>\n",
       "      <td>0.768495</td>\n",
       "      <td>0.768132</td>\n",
       "      <td>0.030768</td>\n",
       "      <td>0.028023</td>\n",
       "      <td>0.740472</td>\n",
       "      <td>0.254667</td>\n",
       "      <td>0.258992</td>\n",
       "      <td>0.202965</td>\n",
       "      <td>0.205948</td>\n",
       "      <td>0.058488</td>\n",
       "      <td>0.046135</td>\n",
       "      <td>0.708045</td>\n",
       "      <td>0.829242</td>\n",
       "      <td>0.121197</td>\n",
       "      <td>75.822050</td>\n",
       "      <td>0.200967</td>\n",
       "    </tr>\n",
       "    <tr>\n",
       "      <th>5</th>\n",
       "      <td>dynamic</td>\n",
       "      <td>Linear</td>\n",
       "      <td>3S</td>\n",
       "      <td>0.605103</td>\n",
       "      <td>0.603979</td>\n",
       "      <td>0.038340</td>\n",
       "      <td>-0.135369</td>\n",
       "      <td>0.740472</td>\n",
       "      <td>0.296720</td>\n",
       "      <td>0.338284</td>\n",
       "      <td>0.221381</td>\n",
       "      <td>0.256555</td>\n",
       "      <td>0.180579</td>\n",
       "      <td>0.051302</td>\n",
       "      <td>0.533137</td>\n",
       "      <td>0.683675</td>\n",
       "      <td>0.150538</td>\n",
       "      <td>8.510638</td>\n",
       "      <td>0.803807</td>\n",
       "    </tr>\n",
       "    <tr>\n",
       "      <th>6</th>\n",
       "      <td>dynamic</td>\n",
       "      <td>Linear</td>\n",
       "      <td>Obs.</td>\n",
       "      <td>0.535936</td>\n",
       "      <td>0.535493</td>\n",
       "      <td>0.041936</td>\n",
       "      <td>-0.204536</td>\n",
       "      <td>0.740472</td>\n",
       "      <td>0.377868</td>\n",
       "      <td>0.382861</td>\n",
       "      <td>0.282948</td>\n",
       "      <td>0.287323</td>\n",
       "      <td>0.272032</td>\n",
       "      <td>0.083525</td>\n",
       "      <td>0.453596</td>\n",
       "      <td>0.618679</td>\n",
       "      <td>0.165083</td>\n",
       "      <td>5.029014</td>\n",
       "      <td>0.231369</td>\n",
       "    </tr>\n",
       "    <tr>\n",
       "      <th>7</th>\n",
       "      <td>dynamic</td>\n",
       "      <td>Linear</td>\n",
       "      <td>Oracle</td>\n",
       "      <td>0.739716</td>\n",
       "      <td>0.739663</td>\n",
       "      <td>0.020691</td>\n",
       "      <td>-0.000756</td>\n",
       "      <td>0.740472</td>\n",
       "      <td>0.032493</td>\n",
       "      <td>0.051397</td>\n",
       "      <td>0.020188</td>\n",
       "      <td>0.029170</td>\n",
       "      <td>0.021023</td>\n",
       "      <td>0.015926</td>\n",
       "      <td>0.699095</td>\n",
       "      <td>0.780128</td>\n",
       "      <td>0.081033</td>\n",
       "      <td>96.711799</td>\n",
       "      <td>0.964627</td>\n",
       "    </tr>\n",
       "    <tr>\n",
       "      <th>8</th>\n",
       "      <td>stoch</td>\n",
       "      <td>GP</td>\n",
       "      <td>1S</td>\n",
       "      <td>2.657106</td>\n",
       "      <td>2.657447</td>\n",
       "      <td>0.147118</td>\n",
       "      <td>0.014002</td>\n",
       "      <td>2.643105</td>\n",
       "      <td>0.644315</td>\n",
       "      <td>0.707135</td>\n",
       "      <td>0.433074</td>\n",
       "      <td>0.466741</td>\n",
       "      <td>0.047801</td>\n",
       "      <td>0.036772</td>\n",
       "      <td>2.367532</td>\n",
       "      <td>2.944468</td>\n",
       "      <td>0.576936</td>\n",
       "      <td>92.843327</td>\n",
       "      <td>0.583633</td>\n",
       "    </tr>\n",
       "    <tr>\n",
       "      <th>9</th>\n",
       "      <td>stoch</td>\n",
       "      <td>GP</td>\n",
       "      <td>3S</td>\n",
       "      <td>2.005424</td>\n",
       "      <td>2.005484</td>\n",
       "      <td>0.127986</td>\n",
       "      <td>-0.637681</td>\n",
       "      <td>2.643105</td>\n",
       "      <td>0.824534</td>\n",
       "      <td>0.957809</td>\n",
       "      <td>0.658642</td>\n",
       "      <td>0.740673</td>\n",
       "      <td>0.241261</td>\n",
       "      <td>0.034980</td>\n",
       "      <td>1.754300</td>\n",
       "      <td>2.256101</td>\n",
       "      <td>0.501801</td>\n",
       "      <td>0.193424</td>\n",
       "      <td>0.764337</td>\n",
       "    </tr>\n",
       "    <tr>\n",
       "      <th>10</th>\n",
       "      <td>stoch</td>\n",
       "      <td>GP</td>\n",
       "      <td>Obs.</td>\n",
       "      <td>1.884967</td>\n",
       "      <td>1.884435</td>\n",
       "      <td>0.147340</td>\n",
       "      <td>-0.758137</td>\n",
       "      <td>2.643105</td>\n",
       "      <td>1.227965</td>\n",
       "      <td>1.279973</td>\n",
       "      <td>0.979118</td>\n",
       "      <td>1.006627</td>\n",
       "      <td>0.286615</td>\n",
       "      <td>0.066724</td>\n",
       "      <td>1.597298</td>\n",
       "      <td>2.174867</td>\n",
       "      <td>0.577569</td>\n",
       "      <td>1.353965</td>\n",
       "      <td>0.306027</td>\n",
       "    </tr>\n",
       "    <tr>\n",
       "      <th>11</th>\n",
       "      <td>stoch</td>\n",
       "      <td>GP</td>\n",
       "      <td>Oracle</td>\n",
       "      <td>2.564261</td>\n",
       "      <td>2.564756</td>\n",
       "      <td>0.080017</td>\n",
       "      <td>-0.078843</td>\n",
       "      <td>2.643105</td>\n",
       "      <td>0.358592</td>\n",
       "      <td>0.409702</td>\n",
       "      <td>0.150280</td>\n",
       "      <td>0.185934</td>\n",
       "      <td>0.033954</td>\n",
       "      <td>0.023313</td>\n",
       "      <td>2.405393</td>\n",
       "      <td>2.719459</td>\n",
       "      <td>0.314066</td>\n",
       "      <td>85.299807</td>\n",
       "      <td>0.920248</td>\n",
       "    </tr>\n",
       "    <tr>\n",
       "      <th>12</th>\n",
       "      <td>stoch</td>\n",
       "      <td>Linear</td>\n",
       "      <td>1S</td>\n",
       "      <td>2.746397</td>\n",
       "      <td>2.745089</td>\n",
       "      <td>0.110060</td>\n",
       "      <td>0.103292</td>\n",
       "      <td>2.643105</td>\n",
       "      <td>0.428818</td>\n",
       "      <td>0.444853</td>\n",
       "      <td>0.342395</td>\n",
       "      <td>0.354180</td>\n",
       "      <td>0.051361</td>\n",
       "      <td>0.037582</td>\n",
       "      <td>2.530180</td>\n",
       "      <td>2.963681</td>\n",
       "      <td>0.433501</td>\n",
       "      <td>81.237911</td>\n",
       "      <td>0.375524</td>\n",
       "    </tr>\n",
       "    <tr>\n",
       "      <th>13</th>\n",
       "      <td>stoch</td>\n",
       "      <td>Linear</td>\n",
       "      <td>3S</td>\n",
       "      <td>2.160814</td>\n",
       "      <td>2.159435</td>\n",
       "      <td>0.119091</td>\n",
       "      <td>-0.482290</td>\n",
       "      <td>2.643105</td>\n",
       "      <td>0.669282</td>\n",
       "      <td>0.734474</td>\n",
       "      <td>0.536427</td>\n",
       "      <td>0.586029</td>\n",
       "      <td>0.182444</td>\n",
       "      <td>0.037286</td>\n",
       "      <td>1.931379</td>\n",
       "      <td>2.399571</td>\n",
       "      <td>0.468191</td>\n",
       "      <td>1.353965</td>\n",
       "      <td>0.603853</td>\n",
       "    </tr>\n",
       "    <tr>\n",
       "      <th>14</th>\n",
       "      <td>stoch</td>\n",
       "      <td>Linear</td>\n",
       "      <td>Obs.</td>\n",
       "      <td>1.785768</td>\n",
       "      <td>1.784108</td>\n",
       "      <td>0.126834</td>\n",
       "      <td>-0.857337</td>\n",
       "      <td>2.643105</td>\n",
       "      <td>1.112687</td>\n",
       "      <td>1.121122</td>\n",
       "      <td>0.900756</td>\n",
       "      <td>0.906985</td>\n",
       "      <td>0.324233</td>\n",
       "      <td>0.056513</td>\n",
       "      <td>1.536354</td>\n",
       "      <td>2.036076</td>\n",
       "      <td>0.499721</td>\n",
       "      <td>0.000000</td>\n",
       "      <td>0.165660</td>\n",
       "    </tr>\n",
       "    <tr>\n",
       "      <th>15</th>\n",
       "      <td>stoch</td>\n",
       "      <td>Linear</td>\n",
       "      <td>Oracle</td>\n",
       "      <td>2.640304</td>\n",
       "      <td>2.640052</td>\n",
       "      <td>0.073702</td>\n",
       "      <td>-0.002801</td>\n",
       "      <td>2.643105</td>\n",
       "      <td>0.062673</td>\n",
       "      <td>0.107215</td>\n",
       "      <td>0.056954</td>\n",
       "      <td>0.082776</td>\n",
       "      <td>0.020988</td>\n",
       "      <td>0.016068</td>\n",
       "      <td>2.495488</td>\n",
       "      <td>2.784250</td>\n",
       "      <td>0.288762</td>\n",
       "      <td>96.518375</td>\n",
       "      <td>0.964874</td>\n",
       "    </tr>\n",
       "  </tbody>\n",
       "</table>\n",
       "</div>"
      ]
     },
     "execution_count": 13,
     "metadata": {},
     "output_type": "execute_result"
    }
   ],
   "execution_count": 13
  },
  {
   "cell_type": "code",
   "source": [
    "flierprops = dict(marker='.', markerfacecolor='None', markersize=1,  markeredgecolor='grey')\n",
    "box_rmse = sns.boxplot(data=combined_df[combined_df[\"estimand\"]==\"dynamic\"], x = 'method', y = 'RMSE',\n",
    "               # order = ['Oracle', 'Plugin','1','Cut-3S','Obs.'],\n",
    "                       hue = \"model\", palette = 'pastel',\n",
    "                       flierprops=flierprops)\n",
    "box_rmse.set_title(\"RMSE dynamic estimand\")\n",
    "# plt.ylim(0,.5)\n",
    "plt.xticks(rotation=90)\n",
    "box_rmse.set_xlabel(\"\")\n",
    "box_rmse.set_ylabel(\"\")\n",
    "# sns.despine()"
   ],
   "metadata": {
    "collapsed": false,
    "ExecuteTime": {
     "end_time": "2024-09-17T07:34:21.228435Z",
     "start_time": "2024-09-17T07:34:20.929964Z"
    }
   },
   "id": "ec90e99e7c3bd69",
   "outputs": [
    {
     "data": {
      "text/plain": [
       "Text(0, 0.5, '')"
      ]
     },
     "execution_count": 14,
     "metadata": {},
     "output_type": "execute_result"
    },
    {
     "data": {
      "text/plain": [
       "<Figure size 640x480 with 1 Axes>"
      ],
      "image/png": "[encoded data removed]"
     },
     "metadata": {},
     "output_type": "display_data"
    }
   ],
   "execution_count": 14
  },
  {
   "metadata": {
    "ExecuteTime": {
     "end_time": "2024-09-17T07:34:25.374127Z",
     "start_time": "2024-09-17T07:34:25.005658Z"
    }
   },
   "cell_type": "code",
   "source": [
    "flierprops = dict(marker='.', markerfacecolor='None', markersize=6,  markeredgecolor='grey')\n",
    "box_rmse = sns.boxplot(data=combined_df[combined_df[\"estimand\"]==\"dynamic\"], x = 'method', y = 'MAPE_manual',\n",
    "               # order = ['Oracle', 'Plugin','1','Cut-3S','Obs.'],\n",
    "                       hue = \"method\", palette = 'pastel',\n",
    "                       flierprops=flierprops)\n",
    "box_rmse.set_title(\"MAPE manual dynamic estimand\")\n",
    "plt.ylim(0,1)\n",
    "plt.xticks(rotation=90)\n",
    "box_rmse.set_xlabel(\"\")\n",
    "box_rmse.set_ylabel(\"\")"
   ],
   "id": "d32444069606a2ed",
   "outputs": [
    {
     "data": {
      "text/plain": [
       "Text(0, 0.5, '')"
      ]
     },
     "execution_count": 15,
     "metadata": {},
     "output_type": "execute_result"
    },
    {
     "data": {
      "text/plain": [
       "<Figure size 640x480 with 1 Axes>"
      ],
      "image/png": "[encoded data removed]"
     },
     "metadata": {},
     "output_type": "display_data"
    }
   ],
   "execution_count": 15
  },
  {
   "cell_type": "code",
   "source": [
    "flierprops = dict(marker='.', markerfacecolor='None', markersize=6,  markeredgecolor='grey')\n",
    "box_rmse = sns.boxplot(data=combined_df[combined_df[\"estimand\"]==\"stoch\"], x = 'method', y = 'RMSE',\n",
    "               # order = ['Oracle', 'Plugin','1','Cut-3S','Obs.'],\n",
    "                       hue = \"method\", palette = 'pastel',\n",
    "                       flierprops=flierprops)\n",
    "box_rmse.set_title(\"RMSE stochastic estimand\")\n",
    "plt.ylim(0,2)\n",
    "plt.xticks(rotation=90)\n",
    "box_rmse.set_xlabel(\"\")\n",
    "box_rmse.set_ylabel(\"\")"
   ],
   "metadata": {
    "collapsed": false,
    "ExecuteTime": {
     "end_time": "2024-09-17T07:34:46.550907Z",
     "start_time": "2024-09-17T07:34:45.352734Z"
    }
   },
   "id": "2699a38656300874",
   "outputs": [
    {
     "data": {
      "text/plain": [
       "Text(0, 0.5, '')"
      ]
     },
     "execution_count": 16,
     "metadata": {},
     "output_type": "execute_result"
    },
    {
     "data": {
      "text/plain": [
       "<Figure size 640x480 with 1 Axes>"
      ],
      "image/png": "[encoded data removed]"
     },
     "metadata": {},
     "output_type": "display_data"
    }
   ],
   "execution_count": 16
  },
  {
   "metadata": {
    "ExecuteTime": {
     "end_time": "2024-09-17T07:34:48.321195Z",
     "start_time": "2024-09-17T07:34:47.610993Z"
    }
   },
   "cell_type": "code",
   "source": [
    "flierprops = dict(marker='.', markerfacecolor='None', markersize=6,  markeredgecolor='grey')\n",
    "box_rmse = sns.boxplot(data=combined_df[combined_df[\"estimand\"]==\"stoch\"], x = 'method', y = 'MAPE_manual',\n",
    "               # order = ['Oracle', 'Plugin','1','Cut-3S','Obs.'],\n",
    "                       hue = \"method\", palette = 'pastel',\n",
    "                       flierprops=flierprops)\n",
    "box_rmse.set_title(\"MAPE stochastic estimand\")\n",
    "plt.ylim(0,1)\n",
    "plt.xticks(rotation=90)\n",
    "box_rmse.set_xlabel(\"\")\n",
    "box_rmse.set_ylabel(\"\")"
   ],
   "id": "6241148be612df77",
   "outputs": [
    {
     "data": {
      "text/plain": [
       "Text(0, 0.5, '')"
      ]
     },
     "execution_count": 17,
     "metadata": {},
     "output_type": "execute_result"
    },
    {
     "data": {
      "text/plain": [
       "<Figure size 640x480 with 1 Axes>"
      ],
      "image/png": "[encoded data removed]"
     },
     "metadata": {},
     "output_type": "display_data"
    }
   ],
   "execution_count": 17
  },
  {
   "cell_type": "code",
   "source": [
    "box_bias = sns.boxplot(data=combined_df[combined_df[\"estimand\"]==\"dynamic\"], x = 'method', y = 'abs_bias',\n",
    "               # order = ['Oracle', 'Plugin','1','Cut-3S','Obs.'],\n",
    "                       hue = \"method\", palette = 'pastel',\n",
    "                       flierprops=flierprops)\n",
    "plt.axhline(0, color='grey', linestyle='--', alpha=0.5)\n",
    "box_bias.set_title(\"abs. bias (dynamic)\")\n",
    "plt.ylim(0,2)\n",
    "plt.xticks(rotation=90)\n",
    "box_bias.set_xlabel(\"\")\n",
    "box_bias.set_ylabel(\"\")"
   ],
   "metadata": {
    "collapsed": false,
    "ExecuteTime": {
     "end_time": "2024-09-16T07:07:14.855270Z",
     "start_time": "2024-09-16T07:07:14.510027Z"
    }
   },
   "id": "70039b7cbb8a1b0f",
   "outputs": [
    {
     "data": {
      "text/plain": [
       "Text(0, 0.5, '')"
      ]
     },
     "execution_count": 20,
     "metadata": {},
     "output_type": "execute_result"
    },
    {
     "data": {
      "text/plain": [
       "<Figure size 640x480 with 1 Axes>"
      ],
      "image/png": "[encoded data removed]"
     },
     "metadata": {},
     "output_type": "display_data"
    }
   ],
   "execution_count": 20
  },
  {
   "cell_type": "code",
   "source": [
    "box_std = sns.boxplot(data=combined_df[combined_df[\"estimand\"]==\"dynamic\"], x = 'method', y = 'std',\n",
    "               # order = ['Oracle', 'Plugin','1','Cut-3S','Obs.'],\n",
    "                       hue = \"method\", palette = 'pastel',\n",
    "                       flierprops=flierprops)\n",
    "plt.axhline(0, color='grey', linestyle='--', alpha=0.5)\n",
    "box_std.set_title(\"std (dynamic)\")\n",
    "plt.ylim(0,.3)\n",
    "plt.xticks(rotation=90)\n",
    "box_std.set_xlabel(\"\")\n",
    "box_std.set_ylabel(\"\")"
   ],
   "metadata": {
    "collapsed": false,
    "ExecuteTime": {
     "end_time": "2024-09-12T06:25:14.044950Z",
     "start_time": "2024-09-12T06:25:13.711330Z"
    }
   },
   "id": "c67be5e906613408",
   "outputs": [
    {
     "data": {
      "text/plain": [
       "Text(0, 0.5, '')"
      ]
     },
     "execution_count": 42,
     "metadata": {},
     "output_type": "execute_result"
    },
    {
     "data": {
      "text/plain": [
       "<Figure size 640x480 with 1 Axes>"
      ],
      "image/png": "[encoded data removed]"
     },
     "metadata": {},
     "output_type": "display_data"
    }
   ],
   "execution_count": 42
  },
  {
   "metadata": {
    "ExecuteTime": {
     "end_time": "2024-09-12T06:25:16.294332Z",
     "start_time": "2024-09-12T06:25:15.975037Z"
    }
   },
   "cell_type": "code",
   "source": [
    "box_bias = sns.boxplot(data=combined_df[combined_df[\"estimand\"]==\"stoch\"], x = 'method', y = 'abs_bias',\n",
    "               # order = ['Oracle', 'Plugin','1','Cut-3S','Obs.'],\n",
    "                       hue = \"method\", palette = 'pastel',\n",
    "                       flierprops=flierprops)\n",
    "plt.axhline(0, color='grey', linestyle='--', alpha=0.5)\n",
    "box_bias.set_title(\"abs. bias (stochastic)\")\n",
    "# plt.ylim(0,.25)\n",
    "plt.xticks(rotation=90)\n",
    "box_bias.set_xlabel(\"\")\n",
    "box_bias.set_ylabel(\"\")"
   ],
   "id": "2025e5831ed93e55",
   "outputs": [
    {
     "data": {
      "text/plain": [
       "Text(0, 0.5, '')"
      ]
     },
     "execution_count": 43,
     "metadata": {},
     "output_type": "execute_result"
    },
    {
     "data": {
      "text/plain": [
       "<Figure size 640x480 with 1 Axes>"
      ],
      "image/png": "[encoded data removed]"
     },
     "metadata": {},
     "output_type": "display_data"
    }
   ],
   "execution_count": 43
  },
  {
   "cell_type": "code",
   "source": [
    "box_std = sns.boxplot(data=combined_df[combined_df[\"estimand\"]==\"stoch\"], x = 'method', y = 'std',\n",
    "               # order = ['Oracle', 'Plugin','1','Cut-3S','Obs.'],\n",
    "                       hue = \"method\", palette = 'pastel',\n",
    "                       flierprops=flierprops)\n",
    "plt.axhline(0, color='grey', linestyle='--', alpha=0.5)\n",
    "box_std.set_title(\"std (stochastic)\")\n",
    "# plt.ylim(0,.1)\n",
    "plt.xticks(rotation=90)\n",
    "box_std.set_xlabel(\"\")\n",
    "box_std.set_ylabel(\"\")"
   ],
   "metadata": {
    "collapsed": false,
    "ExecuteTime": {
     "end_time": "2024-09-12T06:25:30.126883Z",
     "start_time": "2024-09-12T06:25:29.822066Z"
    }
   },
   "id": "6b910fca90c43b6e",
   "outputs": [
    {
     "data": {
      "text/plain": [
       "Text(0, 0.5, '')"
      ]
     },
     "execution_count": 44,
     "metadata": {},
     "output_type": "execute_result"
    },
    {
     "data": {
      "text/plain": [
       "<Figure size 640x480 with 1 Axes>"
      ],
      "image/png": "[encoded data removed]"
     },
     "metadata": {},
     "output_type": "display_data"
    }
   ],
   "execution_count": 44
  },
  {
   "metadata": {
    "ExecuteTime": {
     "end_time": "2024-09-12T06:25:31.709510Z",
     "start_time": "2024-09-12T06:25:31.676122Z"
    }
   },
   "cell_type": "code",
   "source": [
    "def format_percentage(value, x=1):\n",
    "    return f\"{value*x:.1f}%\"\n",
    "\n",
    "df_summary_dynamic = df_summary[df_summary[\"estimand\"]==\"dynamic\"]\n",
    "# df_summary_dynamic = df_summary[df_summary[\"estimand\"]==\"stoch\"]\n",
    "df_summary_dynamic.columns = df_summary_dynamic.columns.droplevel(1)\n",
    "df_summary_dynamic[\"coverage\"] = df_summary_dynamic[\"covering\"].apply(format_percentage)\n",
    "df_summary_dynamic[\"mean_ind_cover\"] = df_summary_dynamic[\"mean_ind_cover\"].apply(format_percentage, x=100)\n",
    "print(df_summary_dynamic)\n",
    "\n",
    "combined_df_dynamic = combined_df[combined_df[\"estimand\"]==\"dynamic\"]\n",
    "# combined_df_dynamic = combined_df[combined_df[\"estimand\"]==\"stoch\"]\n",
    "# print(combined_df_dynamic)"
   ],
   "id": "b030a036d2b20a2a",
   "outputs": [
    {
     "name": "stdout",
     "output_type": "stream",
     "text": [
      "  estimand   model    type      mean    median       std      bias      TRUE  \\\n",
      "0  dynamic      GP      1S  2.686303  2.686614  0.078935 -0.007258  2.729679   \n",
      "1  dynamic      GP      3S  2.556009  2.555488  0.090106 -0.137553  2.729679   \n",
      "2  dynamic      GP    Obs.  1.903802  1.903843  0.158993 -0.789760  2.729679   \n",
      "3  dynamic      GP  Oracle  2.665387  2.665429  0.066088 -0.028175  2.729679   \n",
      "4  dynamic  Linear      1S  2.715503  2.715357  0.057726  0.021942  2.729679   \n",
      "5  dynamic  Linear      3S  2.600056  2.599382  0.075782 -0.093506  2.729679   \n",
      "6  dynamic  Linear    Obs.  2.274139  2.274045  0.065130 -0.419422  2.729679   \n",
      "7  dynamic  Linear  Oracle  2.694056  2.693935  0.050027  0.000494  2.729679   \n",
      "\n",
      "       RMSE  RMSE_all       MAE   MAE_all       MAPE      q025      q975  \\\n",
      "0  0.672238  0.728494  0.481562  0.516519  21.319234  2.530816  2.840398   \n",
      "1  0.719519  0.859364  0.527715  0.635025  10.586998  2.381072  2.733973   \n",
      "2  1.568245  1.608144  1.217872  1.242838  49.793683  1.592573  2.215335   \n",
      "3  0.386072  0.458202  0.192303  0.253605   1.110942  2.535802  2.794742   \n",
      "4  0.521614  0.535339  0.414263  0.424721  13.256641  2.602023  2.829501   \n",
      "5  0.598503  0.713816  0.470524  0.560569   9.442933  2.454065  2.750625   \n",
      "6  1.065144  1.072542  0.770796  0.777998   5.507398  2.146699  2.401724   \n",
      "7  0.099876  0.148515  0.080652  0.113676   2.874659  2.595751  2.792881   \n",
      "\n",
      "   ci_length   covering mean_ind_cover coverage  \n",
      "0   0.309582  88.314607          52.6%    88.3%  \n",
      "1   0.352901  64.719101          82.2%    64.7%  \n",
      "2   0.622762   2.022472          31.3%     2.0%  \n",
      "3   0.258939  90.561798          94.0%    90.6%  \n",
      "4   0.227479  80.449438          31.8%    80.4%  \n",
      "5   0.296560  74.382022          79.3%    74.4%  \n",
      "6   0.255025   1.123596          21.4%     1.1%  \n",
      "7   0.197130  93.707865          94.8%    93.7%  \n"
     ]
    },
    {
     "name": "stderr",
     "output_type": "stream",
     "text": [
      "C:\\Users\\bar21\\AppData\\Local\\Temp\\ipykernel_13124\\2229529795.py:7: SettingWithCopyWarning: \n",
      "A value is trying to be set on a copy of a slice from a DataFrame.\n",
      "Try using .loc[row_indexer,col_indexer] = value instead\n",
      "\n",
      "See the caveats in the documentation: https://pandas.pydata.org/pandas-docs/stable/user_guide/indexing.html#returning-a-view-versus-a-copy\n",
      "  df_summary_dynamic[\"coverage\"] = df_summary_dynamic[\"covering\"].apply(format_percentage)\n",
      "C:\\Users\\bar21\\AppData\\Local\\Temp\\ipykernel_13124\\2229529795.py:8: SettingWithCopyWarning: \n",
      "A value is trying to be set on a copy of a slice from a DataFrame.\n",
      "Try using .loc[row_indexer,col_indexer] = value instead\n",
      "\n",
      "See the caveats in the documentation: https://pandas.pydata.org/pandas-docs/stable/user_guide/indexing.html#returning-a-view-versus-a-copy\n",
      "  df_summary_dynamic[\"mean_ind_cover\"] = df_summary_dynamic[\"mean_ind_cover\"].apply(format_percentage, x=100)\n"
     ]
    }
   ],
   "execution_count": 45
  },
  {
   "metadata": {
    "ExecuteTime": {
     "end_time": "2024-09-12T06:25:58.081394Z",
     "start_time": "2024-09-12T06:25:58.047196Z"
    }
   },
   "cell_type": "code",
   "source": [
    "df_summary_dynamic['model_type'] = df_summary_dynamic[['model', 'type']].apply(lambda x: '_'.join(x), axis=1)\n",
    "\n",
    "print(df_summary_dynamic)\n"
   ],
   "id": "c5a54e8dc88307da",
   "outputs": [
    {
     "name": "stdout",
     "output_type": "stream",
     "text": [
      "  estimand   model    type      mean    median       std      bias      TRUE  \\\n",
      "0  dynamic      GP      1S  2.686303  2.686614  0.078935 -0.007258  2.729679   \n",
      "1  dynamic      GP      3S  2.556009  2.555488  0.090106 -0.137553  2.729679   \n",
      "2  dynamic      GP    Obs.  1.903802  1.903843  0.158993 -0.789760  2.729679   \n",
      "3  dynamic      GP  Oracle  2.665387  2.665429  0.066088 -0.028175  2.729679   \n",
      "4  dynamic  Linear      1S  2.715503  2.715357  0.057726  0.021942  2.729679   \n",
      "5  dynamic  Linear      3S  2.600056  2.599382  0.075782 -0.093506  2.729679   \n",
      "6  dynamic  Linear    Obs.  2.274139  2.274045  0.065130 -0.419422  2.729679   \n",
      "7  dynamic  Linear  Oracle  2.694056  2.693935  0.050027  0.000494  2.729679   \n",
      "\n",
      "       RMSE  RMSE_all       MAE   MAE_all       MAPE      q025      q975  \\\n",
      "0  0.672238  0.728494  0.481562  0.516519  21.319234  2.530816  2.840398   \n",
      "1  0.719519  0.859364  0.527715  0.635025  10.586998  2.381072  2.733973   \n",
      "2  1.568245  1.608144  1.217872  1.242838  49.793683  1.592573  2.215335   \n",
      "3  0.386072  0.458202  0.192303  0.253605   1.110942  2.535802  2.794742   \n",
      "4  0.521614  0.535339  0.414263  0.424721  13.256641  2.602023  2.829501   \n",
      "5  0.598503  0.713816  0.470524  0.560569   9.442933  2.454065  2.750625   \n",
      "6  1.065144  1.072542  0.770796  0.777998   5.507398  2.146699  2.401724   \n",
      "7  0.099876  0.148515  0.080652  0.113676   2.874659  2.595751  2.792881   \n",
      "\n",
      "   ci_length   covering mean_ind_cover coverage     model_type  \n",
      "0   0.309582  88.314607          52.6%    88.3%          GP_1S  \n",
      "1   0.352901  64.719101          82.2%    64.7%          GP_3S  \n",
      "2   0.622762   2.022472          31.3%     2.0%        GP_Obs.  \n",
      "3   0.258939  90.561798          94.0%    90.6%      GP_Oracle  \n",
      "4   0.227479  80.449438          31.8%    80.4%      Linear_1S  \n",
      "5   0.296560  74.382022          79.3%    74.4%      Linear_3S  \n",
      "6   0.255025   1.123596          21.4%     1.1%    Linear_Obs.  \n",
      "7   0.197130  93.707865          94.8%    93.7%  Linear_Oracle  \n"
     ]
    },
    {
     "name": "stderr",
     "output_type": "stream",
     "text": [
      "C:\\Users\\bar21\\AppData\\Local\\Temp\\ipykernel_13124\\2384414092.py:1: SettingWithCopyWarning: \n",
      "A value is trying to be set on a copy of a slice from a DataFrame.\n",
      "Try using .loc[row_indexer,col_indexer] = value instead\n",
      "\n",
      "See the caveats in the documentation: https://pandas.pydata.org/pandas-docs/stable/user_guide/indexing.html#returning-a-view-versus-a-copy\n",
      "  df_summary_dynamic['model_type'] = df_summary_dynamic[['model', 'type']].apply(lambda x: '_'.join(x), axis=1)\n"
     ]
    }
   ],
   "execution_count": 46
  },
  {
   "metadata": {
    "ExecuteTime": {
     "end_time": "2024-09-10T10:22:03.352047Z",
     "start_time": "2024-09-10T10:22:01.316255Z"
    }
   },
   "cell_type": "code",
   "source": "df_summary_dynamic[\"true\"]",
   "id": "245b804d0528344d",
   "outputs": [
    {
     "ename": "KeyError",
     "evalue": "'true'",
     "output_type": "error",
     "traceback": [
      "\u001B[1;31m---------------------------------------------------------------------------\u001B[0m",
      "\u001B[1;31mKeyError\u001B[0m                                  Traceback (most recent call last)",
      "File \u001B[1;32m~\\.conda\\envs\\STAT\\Lib\\site-packages\\pandas\\core\\indexes\\base.py:3802\u001B[0m, in \u001B[0;36mIndex.get_loc\u001B[1;34m(self, key)\u001B[0m\n\u001B[0;32m   3801\u001B[0m \u001B[38;5;28;01mtry\u001B[39;00m:\n\u001B[1;32m-> 3802\u001B[0m     \u001B[38;5;28;01mreturn\u001B[39;00m \u001B[38;5;28;43mself\u001B[39;49m\u001B[38;5;241;43m.\u001B[39;49m\u001B[43m_engine\u001B[49m\u001B[38;5;241;43m.\u001B[39;49m\u001B[43mget_loc\u001B[49m\u001B[43m(\u001B[49m\u001B[43mcasted_key\u001B[49m\u001B[43m)\u001B[49m\n\u001B[0;32m   3803\u001B[0m \u001B[38;5;28;01mexcept\u001B[39;00m \u001B[38;5;167;01mKeyError\u001B[39;00m \u001B[38;5;28;01mas\u001B[39;00m err:\n",
      "File \u001B[1;32mindex.pyx:153\u001B[0m, in \u001B[0;36mpandas._libs.index.IndexEngine.get_loc\u001B[1;34m()\u001B[0m\n",
      "File \u001B[1;32mindex.pyx:182\u001B[0m, in \u001B[0;36mpandas._libs.index.IndexEngine.get_loc\u001B[1;34m()\u001B[0m\n",
      "File \u001B[1;32mpandas\\\\_libs\\\\hashtable_class_helper.pxi:7081\u001B[0m, in \u001B[0;36mpandas._libs.hashtable.PyObjectHashTable.get_item\u001B[1;34m()\u001B[0m\n",
      "File \u001B[1;32mpandas\\\\_libs\\\\hashtable_class_helper.pxi:7089\u001B[0m, in \u001B[0;36mpandas._libs.hashtable.PyObjectHashTable.get_item\u001B[1;34m()\u001B[0m\n",
      "\u001B[1;31mKeyError\u001B[0m: 'true'",
      "\nThe above exception was the direct cause of the following exception:\n",
      "\u001B[1;31mKeyError\u001B[0m                                  Traceback (most recent call last)",
      "Cell \u001B[1;32mIn[25], line 1\u001B[0m\n\u001B[1;32m----> 1\u001B[0m \u001B[43mdf_summary_dynamic\u001B[49m\u001B[43m[\u001B[49m\u001B[38;5;124;43m\"\u001B[39;49m\u001B[38;5;124;43mtrue\u001B[39;49m\u001B[38;5;124;43m\"\u001B[39;49m\u001B[43m]\u001B[49m\n",
      "File \u001B[1;32m~\\.conda\\envs\\STAT\\Lib\\site-packages\\pandas\\core\\frame.py:4090\u001B[0m, in \u001B[0;36mDataFrame.__getitem__\u001B[1;34m(self, key)\u001B[0m\n\u001B[0;32m   4088\u001B[0m \u001B[38;5;28;01mif\u001B[39;00m \u001B[38;5;28mself\u001B[39m\u001B[38;5;241m.\u001B[39mcolumns\u001B[38;5;241m.\u001B[39mnlevels \u001B[38;5;241m>\u001B[39m \u001B[38;5;241m1\u001B[39m:\n\u001B[0;32m   4089\u001B[0m     \u001B[38;5;28;01mreturn\u001B[39;00m \u001B[38;5;28mself\u001B[39m\u001B[38;5;241m.\u001B[39m_getitem_multilevel(key)\n\u001B[1;32m-> 4090\u001B[0m indexer \u001B[38;5;241m=\u001B[39m \u001B[38;5;28;43mself\u001B[39;49m\u001B[38;5;241;43m.\u001B[39;49m\u001B[43mcolumns\u001B[49m\u001B[38;5;241;43m.\u001B[39;49m\u001B[43mget_loc\u001B[49m\u001B[43m(\u001B[49m\u001B[43mkey\u001B[49m\u001B[43m)\u001B[49m\n\u001B[0;32m   4091\u001B[0m \u001B[38;5;28;01mif\u001B[39;00m is_integer(indexer):\n\u001B[0;32m   4092\u001B[0m     indexer \u001B[38;5;241m=\u001B[39m [indexer]\n",
      "File \u001B[1;32m~\\.conda\\envs\\STAT\\Lib\\site-packages\\pandas\\core\\indexes\\base.py:3809\u001B[0m, in \u001B[0;36mIndex.get_loc\u001B[1;34m(self, key)\u001B[0m\n\u001B[0;32m   3804\u001B[0m     \u001B[38;5;28;01mif\u001B[39;00m \u001B[38;5;28misinstance\u001B[39m(casted_key, \u001B[38;5;28mslice\u001B[39m) \u001B[38;5;129;01mor\u001B[39;00m (\n\u001B[0;32m   3805\u001B[0m         \u001B[38;5;28misinstance\u001B[39m(casted_key, abc\u001B[38;5;241m.\u001B[39mIterable)\n\u001B[0;32m   3806\u001B[0m         \u001B[38;5;129;01mand\u001B[39;00m \u001B[38;5;28many\u001B[39m(\u001B[38;5;28misinstance\u001B[39m(x, \u001B[38;5;28mslice\u001B[39m) \u001B[38;5;28;01mfor\u001B[39;00m x \u001B[38;5;129;01min\u001B[39;00m casted_key)\n\u001B[0;32m   3807\u001B[0m     ):\n\u001B[0;32m   3808\u001B[0m         \u001B[38;5;28;01mraise\u001B[39;00m InvalidIndexError(key)\n\u001B[1;32m-> 3809\u001B[0m     \u001B[38;5;28;01mraise\u001B[39;00m \u001B[38;5;167;01mKeyError\u001B[39;00m(key) \u001B[38;5;28;01mfrom\u001B[39;00m \u001B[38;5;21;01merr\u001B[39;00m\n\u001B[0;32m   3810\u001B[0m \u001B[38;5;28;01mexcept\u001B[39;00m \u001B[38;5;167;01mTypeError\u001B[39;00m:\n\u001B[0;32m   3811\u001B[0m     \u001B[38;5;66;03m# If we have a listlike key, _check_indexing_error will raise\u001B[39;00m\n\u001B[0;32m   3812\u001B[0m     \u001B[38;5;66;03m#  InvalidIndexError. Otherwise we fall through and re-raise\u001B[39;00m\n\u001B[0;32m   3813\u001B[0m     \u001B[38;5;66;03m#  the TypeError.\u001B[39;00m\n\u001B[0;32m   3814\u001B[0m     \u001B[38;5;28mself\u001B[39m\u001B[38;5;241m.\u001B[39m_check_indexing_error(key)\n",
      "\u001B[1;31mKeyError\u001B[0m: 'true'"
     ]
    }
   ],
   "execution_count": 25
  },
  {
   "cell_type": "code",
   "source": [
    "# Plot points with error bars\n",
    "categories = np.arange(len(df_summary_dynamic['model_type']))\n",
    "category_labels = df_summary_dynamic['model_type'].unique()\n",
    "\n",
    "# Create a dictionary to map category positions\n",
    "\n",
    "# Map categ to positions\n",
    "model_names = ['True', 'Observed', 'Multi-stage', 'Plug-in']\n",
    "model_order = ['Linear_Oracle', 'GP_Oracle', 'Linear_Obs.', 'GP_Obs.',\n",
    "               'Linear_3S', 'GP_3S', 'Linear_1S', 'GP_1S']\n",
    "categ_pos = {category: pos for pos, category in enumerate(model_order)}\n",
    "df_summary_dynamic['categ_pos'] = df_summary_dynamic['model_type'].map(categ_pos)\n",
    "# combined_df_dynamic['categ_pos'] = combined_df_dynamic['model_type'].map(categ_pos)\n",
    "\n",
    "# Assign colors to categ2\n",
    "unique_categ2 = df_summary_dynamic['model']\n",
    "# colors = plt.cm.tab10(np.linspace(0, 1, len(unique_categ2)))\n",
    "color_map = { \"GP\" : \"tab:orange\", \"Linear\" : \"tab:blue\"}\n",
    "# color_map = dict(zip(unique_categ2, colors))\n",
    "\n",
    "# Plotting\n",
    "plt.style.use('seaborn-v0_8-colorblind')\n",
    "# plt.style.use('fast')\n",
    "\n",
    "fig, axs = plt.subplots(1, 2, figsize=(14, 5),\n",
    "                        gridspec_kw={'width_ratios': [1, 1]}, sharey=True)\n",
    "# for ax in axs:\n",
    "#     ax.set_facecolor('white')\n",
    "# Plot points with different colors based on categ2\n",
    "for categ2 in unique_categ2:\n",
    "    subset = df_summary_dynamic[df_summary_dynamic['type'] == categ2]\n",
    "    axs[0].scatter(subset['mean'],\n",
    "                subset['categ_pos'],\n",
    "                label=f'{categ2}', color=color_map[categ2], s=650)\n",
    "\n",
    "\n",
    "for i, row in df_summary_dynamic.iterrows():\n",
    "    axs[0].errorbar(\n",
    "        row['mean'] - row['true'], \n",
    "        row['categ_pos'], \n",
    "        xerr=[[row['mean'] - row['q025']],\n",
    "              [row['q975'] - row['mean']]], \n",
    "        fmt='o', \n",
    "        # color='black', \n",
    "        color = color_map[row['model']], \n",
    "        ecolor = color_map[row['model']], \n",
    "        # ecolor='black', \n",
    "        capsize=5, markersize = 8   \n",
    "    )\n",
    "    \n",
    "    axs[0].annotate(\n",
    "                    # row['mean_ind_cover'], \n",
    "                    row['coverage'], \n",
    "                    xy=(row['mean'] - row['true'], row['categ_pos']), \n",
    "                    xytext=(0, 13), \n",
    "                    textcoords='offset points', \n",
    "                    ha='center', \n",
    "                    va='top',\n",
    "                    fontsize=10, \n",
    "                    color='black')    \n",
    "\n",
    "# Customize the x-axis to show category labels\n",
    "axs[0].set_yticks(np.arange(0.5,len(model_order),2))\n",
    "# axs[0].set_yticklabels(model_order)\n",
    "axs[0].set_yticklabels(model_names, fontsize=14, fontweight='bold')\n",
    "axs[0].set_ylim(-1, len(model_order) - 0.5)\n",
    "# axs[0].axvline(df_summary_dynamic[\"true\"][0], color='grey', linestyle='--', alpha=0.5)\n",
    "axs[0].axvline(0, color='black', linestyle='--', alpha=0.3)\n",
    "axs[0].set_title('Coverage & Mean error (95% CI)', fontsize=16, fontweight='bold')\n",
    "# axs[0].grid(True)\n",
    "\n",
    "\n",
    "flierprops = dict(marker='.', markerfacecolor='None', markersize=3,  markeredgecolor='grey')\n",
    "sns.boxplot(\n",
    "    data=combined_df_dynamic, \n",
    "    # x='MAE', \n",
    "    x='RMSE', \n",
    "    # x='MAPE', \n",
    "    y='method', \n",
    "    hue=\"model\", \n",
    "    palette=color_map, \n",
    "    ax=axs[1],\n",
    "    flierprops=flierprops\n",
    ")\n",
    "\n",
    "axs[1].set_yticks(np.arange(0.5,len(model_order),2))\n",
    "axs[1].set_ylim(-1, len(model_order) - 0.5)\n",
    "# axs[1].set_yticklabels([])\n",
    "axs[1].set_xlabel('')\n",
    "axs[1].set_ylabel('')\n",
    "axs[1].set_title('RMSE', fontsize=18, fontweight='bold')\n",
    "handles, labels = axs[1].get_legend_handles_labels()\n",
    "ordered_handles = [handles[1], handles[0]]  # Reorder legend\n",
    "ordered_labels = [labels[1], labels[0]]  # Reorder labels\n",
    "axs[1].legend(ordered_handles, ordered_labels, title='', loc='upper right', \n",
    "              fontsize=13)\n",
    "# axs[1].grid(True)\n",
    "plt.tight_layout()\n",
    "# plt.style.use('seaborn-whitegrid')\n",
    "axs[0].tick_params(axis='x', labelsize=12)\n",
    "axs[1].tick_params(axis='x', labelsize=12)\n",
    "\n",
    "\n",
    "# plt.savefig('results/figs/nonlin_truncated_parab.png', dpi = 1000)           # Save as PNG file\n",
    "plt.show()\n"
   ],
   "metadata": {
    "collapsed": false,
    "ExecuteTime": {
     "end_time": "2024-09-10T10:22:05.025145Z",
     "start_time": "2024-09-10T10:22:04.379097Z"
    }
   },
   "id": "840fb89bd415aeec",
   "outputs": [
    {
     "name": "stderr",
     "output_type": "stream",
     "text": [
      "C:\\Users\\bar21\\AppData\\Local\\Temp\\ipykernel_23944\\2107373927.py:12: SettingWithCopyWarning: \n",
      "A value is trying to be set on a copy of a slice from a DataFrame.\n",
      "Try using .loc[row_indexer,col_indexer] = value instead\n",
      "\n",
      "See the caveats in the documentation: https://pandas.pydata.org/pandas-docs/stable/user_guide/indexing.html#returning-a-view-versus-a-copy\n",
      "  df_summary_dynamic['categ_pos'] = df_summary_dynamic['model_type'].map(categ_pos)\n"
     ]
    },
    {
     "ename": "KeyError",
     "evalue": "'true'",
     "output_type": "error",
     "traceback": [
      "\u001B[1;31m---------------------------------------------------------------------------\u001B[0m",
      "\u001B[1;31mKeyError\u001B[0m                                  Traceback (most recent call last)",
      "File \u001B[1;32m~\\.conda\\envs\\STAT\\Lib\\site-packages\\pandas\\core\\indexes\\base.py:3802\u001B[0m, in \u001B[0;36mIndex.get_loc\u001B[1;34m(self, key)\u001B[0m\n\u001B[0;32m   3801\u001B[0m \u001B[38;5;28;01mtry\u001B[39;00m:\n\u001B[1;32m-> 3802\u001B[0m     \u001B[38;5;28;01mreturn\u001B[39;00m \u001B[38;5;28;43mself\u001B[39;49m\u001B[38;5;241;43m.\u001B[39;49m\u001B[43m_engine\u001B[49m\u001B[38;5;241;43m.\u001B[39;49m\u001B[43mget_loc\u001B[49m\u001B[43m(\u001B[49m\u001B[43mcasted_key\u001B[49m\u001B[43m)\u001B[49m\n\u001B[0;32m   3803\u001B[0m \u001B[38;5;28;01mexcept\u001B[39;00m \u001B[38;5;167;01mKeyError\u001B[39;00m \u001B[38;5;28;01mas\u001B[39;00m err:\n",
      "File \u001B[1;32mindex.pyx:153\u001B[0m, in \u001B[0;36mpandas._libs.index.IndexEngine.get_loc\u001B[1;34m()\u001B[0m\n",
      "File \u001B[1;32mindex.pyx:182\u001B[0m, in \u001B[0;36mpandas._libs.index.IndexEngine.get_loc\u001B[1;34m()\u001B[0m\n",
      "File \u001B[1;32mpandas\\\\_libs\\\\hashtable_class_helper.pxi:7081\u001B[0m, in \u001B[0;36mpandas._libs.hashtable.PyObjectHashTable.get_item\u001B[1;34m()\u001B[0m\n",
      "File \u001B[1;32mpandas\\\\_libs\\\\hashtable_class_helper.pxi:7089\u001B[0m, in \u001B[0;36mpandas._libs.hashtable.PyObjectHashTable.get_item\u001B[1;34m()\u001B[0m\n",
      "\u001B[1;31mKeyError\u001B[0m: 'true'",
      "\nThe above exception was the direct cause of the following exception:\n",
      "\u001B[1;31mKeyError\u001B[0m                                  Traceback (most recent call last)",
      "Cell \u001B[1;32mIn[26], line 39\u001B[0m\n\u001B[0;32m     32\u001B[0m     axs[\u001B[38;5;241m0\u001B[39m]\u001B[38;5;241m.\u001B[39mscatter(subset[\u001B[38;5;124m'\u001B[39m\u001B[38;5;124mmean\u001B[39m\u001B[38;5;124m'\u001B[39m],\n\u001B[0;32m     33\u001B[0m                 subset[\u001B[38;5;124m'\u001B[39m\u001B[38;5;124mcateg_pos\u001B[39m\u001B[38;5;124m'\u001B[39m],\n\u001B[0;32m     34\u001B[0m                 label\u001B[38;5;241m=\u001B[39m\u001B[38;5;124mf\u001B[39m\u001B[38;5;124m'\u001B[39m\u001B[38;5;132;01m{\u001B[39;00mcateg2\u001B[38;5;132;01m}\u001B[39;00m\u001B[38;5;124m'\u001B[39m, color\u001B[38;5;241m=\u001B[39mcolor_map[categ2], s\u001B[38;5;241m=\u001B[39m\u001B[38;5;241m650\u001B[39m)\n\u001B[0;32m     37\u001B[0m \u001B[38;5;28;01mfor\u001B[39;00m i, row \u001B[38;5;129;01min\u001B[39;00m df_summary_dynamic\u001B[38;5;241m.\u001B[39miterrows():\n\u001B[0;32m     38\u001B[0m     axs[\u001B[38;5;241m0\u001B[39m]\u001B[38;5;241m.\u001B[39merrorbar(\n\u001B[1;32m---> 39\u001B[0m         row[\u001B[38;5;124m'\u001B[39m\u001B[38;5;124mmean\u001B[39m\u001B[38;5;124m'\u001B[39m] \u001B[38;5;241m-\u001B[39m \u001B[43mrow\u001B[49m\u001B[43m[\u001B[49m\u001B[38;5;124;43m'\u001B[39;49m\u001B[38;5;124;43mtrue\u001B[39;49m\u001B[38;5;124;43m'\u001B[39;49m\u001B[43m]\u001B[49m, \n\u001B[0;32m     40\u001B[0m         row[\u001B[38;5;124m'\u001B[39m\u001B[38;5;124mcateg_pos\u001B[39m\u001B[38;5;124m'\u001B[39m], \n\u001B[0;32m     41\u001B[0m         xerr\u001B[38;5;241m=\u001B[39m[[row[\u001B[38;5;124m'\u001B[39m\u001B[38;5;124mmean\u001B[39m\u001B[38;5;124m'\u001B[39m] \u001B[38;5;241m-\u001B[39m row[\u001B[38;5;124m'\u001B[39m\u001B[38;5;124mq025\u001B[39m\u001B[38;5;124m'\u001B[39m]],\n\u001B[0;32m     42\u001B[0m               [row[\u001B[38;5;124m'\u001B[39m\u001B[38;5;124mq975\u001B[39m\u001B[38;5;124m'\u001B[39m] \u001B[38;5;241m-\u001B[39m row[\u001B[38;5;124m'\u001B[39m\u001B[38;5;124mmean\u001B[39m\u001B[38;5;124m'\u001B[39m]]], \n\u001B[0;32m     43\u001B[0m         fmt\u001B[38;5;241m=\u001B[39m\u001B[38;5;124m'\u001B[39m\u001B[38;5;124mo\u001B[39m\u001B[38;5;124m'\u001B[39m, \n\u001B[0;32m     44\u001B[0m         \u001B[38;5;66;03m# color='black', \u001B[39;00m\n\u001B[0;32m     45\u001B[0m         color \u001B[38;5;241m=\u001B[39m color_map[row[\u001B[38;5;124m'\u001B[39m\u001B[38;5;124mmodel\u001B[39m\u001B[38;5;124m'\u001B[39m]], \n\u001B[0;32m     46\u001B[0m         ecolor \u001B[38;5;241m=\u001B[39m color_map[row[\u001B[38;5;124m'\u001B[39m\u001B[38;5;124mmodel\u001B[39m\u001B[38;5;124m'\u001B[39m]], \n\u001B[0;32m     47\u001B[0m         \u001B[38;5;66;03m# ecolor='black', \u001B[39;00m\n\u001B[0;32m     48\u001B[0m         capsize\u001B[38;5;241m=\u001B[39m\u001B[38;5;241m5\u001B[39m, markersize \u001B[38;5;241m=\u001B[39m \u001B[38;5;241m8\u001B[39m   \n\u001B[0;32m     49\u001B[0m     )\n\u001B[0;32m     51\u001B[0m     axs[\u001B[38;5;241m0\u001B[39m]\u001B[38;5;241m.\u001B[39mannotate(\n\u001B[0;32m     52\u001B[0m                     \u001B[38;5;66;03m# row['mean_ind_cover'], \u001B[39;00m\n\u001B[0;32m     53\u001B[0m                     row[\u001B[38;5;124m'\u001B[39m\u001B[38;5;124mcoverage\u001B[39m\u001B[38;5;124m'\u001B[39m], \n\u001B[1;32m   (...)\u001B[0m\n\u001B[0;32m     59\u001B[0m                     fontsize\u001B[38;5;241m=\u001B[39m\u001B[38;5;241m10\u001B[39m, \n\u001B[0;32m     60\u001B[0m                     color\u001B[38;5;241m=\u001B[39m\u001B[38;5;124m'\u001B[39m\u001B[38;5;124mblack\u001B[39m\u001B[38;5;124m'\u001B[39m)    \n\u001B[0;32m     62\u001B[0m \u001B[38;5;66;03m# Customize the x-axis to show category labels\u001B[39;00m\n",
      "File \u001B[1;32m~\\.conda\\envs\\STAT\\Lib\\site-packages\\pandas\\core\\series.py:1111\u001B[0m, in \u001B[0;36mSeries.__getitem__\u001B[1;34m(self, key)\u001B[0m\n\u001B[0;32m   1108\u001B[0m     \u001B[38;5;28;01mreturn\u001B[39;00m \u001B[38;5;28mself\u001B[39m\u001B[38;5;241m.\u001B[39m_values[key]\n\u001B[0;32m   1110\u001B[0m \u001B[38;5;28;01melif\u001B[39;00m key_is_scalar:\n\u001B[1;32m-> 1111\u001B[0m     \u001B[38;5;28;01mreturn\u001B[39;00m \u001B[38;5;28;43mself\u001B[39;49m\u001B[38;5;241;43m.\u001B[39;49m\u001B[43m_get_value\u001B[49m\u001B[43m(\u001B[49m\u001B[43mkey\u001B[49m\u001B[43m)\u001B[49m\n\u001B[0;32m   1113\u001B[0m \u001B[38;5;66;03m# Convert generator to list before going through hashable part\u001B[39;00m\n\u001B[0;32m   1114\u001B[0m \u001B[38;5;66;03m# (We will iterate through the generator there to check for slices)\u001B[39;00m\n\u001B[0;32m   1115\u001B[0m \u001B[38;5;28;01mif\u001B[39;00m is_iterator(key):\n",
      "File \u001B[1;32m~\\.conda\\envs\\STAT\\Lib\\site-packages\\pandas\\core\\series.py:1227\u001B[0m, in \u001B[0;36mSeries._get_value\u001B[1;34m(self, label, takeable)\u001B[0m\n\u001B[0;32m   1224\u001B[0m     \u001B[38;5;28;01mreturn\u001B[39;00m \u001B[38;5;28mself\u001B[39m\u001B[38;5;241m.\u001B[39m_values[label]\n\u001B[0;32m   1226\u001B[0m \u001B[38;5;66;03m# Similar to Index.get_value, but we do not fall back to positional\u001B[39;00m\n\u001B[1;32m-> 1227\u001B[0m loc \u001B[38;5;241m=\u001B[39m \u001B[38;5;28;43mself\u001B[39;49m\u001B[38;5;241;43m.\u001B[39;49m\u001B[43mindex\u001B[49m\u001B[38;5;241;43m.\u001B[39;49m\u001B[43mget_loc\u001B[49m\u001B[43m(\u001B[49m\u001B[43mlabel\u001B[49m\u001B[43m)\u001B[49m\n\u001B[0;32m   1229\u001B[0m \u001B[38;5;28;01mif\u001B[39;00m is_integer(loc):\n\u001B[0;32m   1230\u001B[0m     \u001B[38;5;28;01mreturn\u001B[39;00m \u001B[38;5;28mself\u001B[39m\u001B[38;5;241m.\u001B[39m_values[loc]\n",
      "File \u001B[1;32m~\\.conda\\envs\\STAT\\Lib\\site-packages\\pandas\\core\\indexes\\base.py:3809\u001B[0m, in \u001B[0;36mIndex.get_loc\u001B[1;34m(self, key)\u001B[0m\n\u001B[0;32m   3804\u001B[0m     \u001B[38;5;28;01mif\u001B[39;00m \u001B[38;5;28misinstance\u001B[39m(casted_key, \u001B[38;5;28mslice\u001B[39m) \u001B[38;5;129;01mor\u001B[39;00m (\n\u001B[0;32m   3805\u001B[0m         \u001B[38;5;28misinstance\u001B[39m(casted_key, abc\u001B[38;5;241m.\u001B[39mIterable)\n\u001B[0;32m   3806\u001B[0m         \u001B[38;5;129;01mand\u001B[39;00m \u001B[38;5;28many\u001B[39m(\u001B[38;5;28misinstance\u001B[39m(x, \u001B[38;5;28mslice\u001B[39m) \u001B[38;5;28;01mfor\u001B[39;00m x \u001B[38;5;129;01min\u001B[39;00m casted_key)\n\u001B[0;32m   3807\u001B[0m     ):\n\u001B[0;32m   3808\u001B[0m         \u001B[38;5;28;01mraise\u001B[39;00m InvalidIndexError(key)\n\u001B[1;32m-> 3809\u001B[0m     \u001B[38;5;28;01mraise\u001B[39;00m \u001B[38;5;167;01mKeyError\u001B[39;00m(key) \u001B[38;5;28;01mfrom\u001B[39;00m \u001B[38;5;21;01merr\u001B[39;00m\n\u001B[0;32m   3810\u001B[0m \u001B[38;5;28;01mexcept\u001B[39;00m \u001B[38;5;167;01mTypeError\u001B[39;00m:\n\u001B[0;32m   3811\u001B[0m     \u001B[38;5;66;03m# If we have a listlike key, _check_indexing_error will raise\u001B[39;00m\n\u001B[0;32m   3812\u001B[0m     \u001B[38;5;66;03m#  InvalidIndexError. Otherwise we fall through and re-raise\u001B[39;00m\n\u001B[0;32m   3813\u001B[0m     \u001B[38;5;66;03m#  the TypeError.\u001B[39;00m\n\u001B[0;32m   3814\u001B[0m     \u001B[38;5;28mself\u001B[39m\u001B[38;5;241m.\u001B[39m_check_indexing_error(key)\n",
      "\u001B[1;31mKeyError\u001B[0m: 'true'"
     ]
    },
    {
     "data": {
      "text/plain": [
       "<Figure size 1400x500 with 2 Axes>"
      ],
      "image/png": "[encoded data removed]"
     },
     "metadata": {},
     "output_type": "display_data"
    }
   ],
   "execution_count": 26
  },
  {
   "cell_type": "code",
   "source": [],
   "metadata": {
    "collapsed": false
   },
   "id": "840d26cf9cf419c9",
   "outputs": [],
   "execution_count": null
  }
 ],
 "metadata": {
  "kernelspec": {
   "display_name": "Python 3",
   "language": "python",
   "name": "python3"
  },
  "language_info": {
   "codemirror_mode": {
    "name": "ipython",
    "version": 2
   },
   "file_extension": ".py",
   "mimetype": "text/x-python",
   "name": "python",
   "nbconvert_exporter": "python",
   "pygments_lexer": "ipython2",
   "version": "2.7.6"
  }
 },
 "nbformat": 4,
 "nbformat_minor": 5
}
