{
 "cells": [
  {
   "cell_type": "code",
   "execution_count": 1,
   "metadata": {},
   "outputs": [],
   "source": [
    "import jax.numpy as jnp\n",
    "from jax import random\n",
    "from jax.scipy.special import logit\n",
    "import jax\n",
    "import numpy as np\n",
    "\n",
    "from Simulations.simulation_aux import one_simulation_iter\n",
    "import Simulations.data_gen as dg\n",
    "\n",
    "import os\n",
    "\n",
    "\n",
    "from numpyro.infer import MCMC, NUTS, Predictive\n",
    "\n",
    "\n",
    "from numpyro.infer import SVI, Trace_ELBO, TraceEnum_ELBO, TraceGraph_ELBO\n",
    "from numpyro.optim import ClippedAdam, Adam\n",
    "from numpyro.infer.autoguide import AutoDelta, AutoLowRankMultivariateNormal, AutoNormal, AutoDAIS\n",
    "\n",
    "\n",
    "import src.Models as models\n",
    "import src.utils as utils\n",
    "\n",
    "import numpyro\n",
    "import numpyro.distributions as dist\n",
    "from numpyro.contrib.funsor import config_enumerate\n",
    "\n",
    "\n",
    "# --- Set cores and seed ---\n",
    "N_CORES = 4\n",
    "os.environ[\"XLA_FLAGS\"] = f\"--xla_force_host_platform_device_count={N_CORES}\"\n"
   ]
  },
  {
   "cell_type": "code",
   "execution_count": 2,
   "metadata": {},
   "outputs": [
    {
     "name": "stdout",
     "output_type": "stream",
     "text": [
      "jax version: 0.4.28\n",
      "numpyro version: 0.16.1\n"
     ]
    }
   ],
   "source": [
    "# print jax, numpyro, versions\n",
    "\n",
    "print(f\"jax version: {jax.__version__}\")\n",
    "print(f\"numpyro version: {numpyro.__version__}\")\n"
   ]
  },
  {
   "cell_type": "code",
   "execution_count": null,
   "metadata": {},
   "outputs": [],
   "source": [
    "\n",
    "N = 500\n",
    "# N = 1000\n",
    "TRIU_DIM = N * (N - 1) // 2\n",
    "\n",
    "THETA = jnp.array([-2.5, 1])\n",
    "# GAMMA_FIX = jnp.array([logit(0.9), logit(0.1), 1])\n",
    "# GAMMA_FIX = jnp.array([logit(0.85), logit(0.15)])\n",
    "# GAMMA_X_NOISES = jnp.arange(0.2, 2.2, 0.2)\n",
    "# GAMMA_X_NOISES = jnp.arange(0, 1.1, 0.1)\n",
    "# GAMMA_F = jnp.array([logit(0.85), logit(0.1)])\n",
    "# GAMMA_REP = jnp.array([logit(0.8), 1, logit(0.2), 1])\n",
    "# GAMMA_REP = jnp.array([logit(0.8), logit(0.2)])\n",
    "# GAMMA_NOISE = jnp.arange(0.5, 2.75, 0.25)\n",
    "# GAMMA_NOISE = jnp.arange(0.25, 2.75 + 1e-6, 0.5)\n",
    "# GAMMA_NOISE = jnp.arange(1, 3.5 + 1e-6, 0.5)\n",
    "\n",
    "GAMMA_BASELINE = jnp.array([logit(0.95), logit(0.05)])\n",
    "\n",
    "# GAMMA_REP = jnp.array([logit(0.8), 1, logit(0.2), 1])\n",
    "GAMMA_REP = jnp.array([logit(0.85), 1, logit(0.15), 1])\n",
    "# GAMMA_X_NOISES = jnp.arange(1, 3.5 + 1e-6, 0.5)\n",
    "# GAMMA_X_NOISES = jnp.arange(2.5, 3.5 + 1e-6, 0.5)\n",
    "GAMMA_X_NOISES = jnp.arange(3.0, 5.0 + 1e-6, 0.5)\n",
    "\n",
    "GAMMA_B_NOISE_0 = GAMMA_BASELINE[0] - GAMMA_X_NOISES / 2\n",
    "GAMMA_B_NOISE_1 = GAMMA_BASELINE[1] + GAMMA_X_NOISES / 2\n",
    "\n",
    "\n",
    "\n",
    "ETA = jnp.array([-1, 3, -0.5, 2])\n",
    "# SIG_INV = 2/3\n",
    "SIG_INV = 1.0\n",
    "RHO = 0.5\n",
    "# RHO = 0.0\n",
    "PZ = 0.5\n",
    "\n",
    "PARAM = {\n",
    "    \"theta\": THETA,\n",
    "    \"eta\": ETA,\n",
    "    \"rho\": RHO,\n",
    "    \"sig_inv\": SIG_INV,\n",
    "}\n",
    "\n"
   ]
  },
  {
   "cell_type": "code",
   "execution_count": 5,
   "metadata": {},
   "outputs": [
    {
     "name": "stdout",
     "output_type": "stream",
     "text": [
      "[ 2.1418214 -2.1418204  3.5        1.7346013  1.        -1.734601\n",
      "  1.       ]\n"
     ]
    }
   ],
   "source": [
    "cur_gamma = jnp.concatenate(\n",
    "            # [GAMMA_F, jnp.array([GAMMA_X_NOISES[j]]), GAMMA_REP]\n",
    "            [\n",
    "                jnp.array([GAMMA_B_NOISE_0[1]]),\n",
    "                jnp.array([GAMMA_B_NOISE_1[1]]),\n",
    "                jnp.array([GAMMA_X_NOISES[1]]),\n",
    "                GAMMA_REP,\n",
    "            ]\n",
    "        )\n",
    "\n",
    "print(cur_gamma)\n"
   ]
  },
  {
   "cell_type": "code",
   "execution_count": 6,
   "metadata": {},
   "outputs": [],
   "source": [
    "rng_key = random.PRNGKey(1)\n",
    "# rng = np.random.default_rng(12)\n",
    "\n",
    "rng_key, _ = random.split(rng_key)\n",
    "fixed_data = dg.generate_fixed_data(rng_key, N, PARAM, PZ)\n",
    "\n",
    "rng_key, _ = random.split(rng_key)\n",
    "new_interventions = dg.new_interventions_estimands(\n",
    "        rng_key, N, fixed_data[\"x\"], fixed_data[\"triu_star\"], ETA\n",
    "    )\n",
    "\n",
    "rng_key, _ = random.split(rng_key)\n",
    "proxy_nets = dg.generate_proxy_networks(\n",
    "        rng_key,\n",
    "        TRIU_DIM,\n",
    "        fixed_data[\"triu_star\"],\n",
    "        cur_gamma,\n",
    "        fixed_data[\"x_diff\"],\n",
    "        fixed_data[\"Z\"],\n",
    "    )\n",
    "\n",
    "data_sim = dg.data_for_sim(fixed_data, proxy_nets)\n"
   ]
  },
  {
   "cell_type": "code",
   "execution_count": 7,
   "metadata": {},
   "outputs": [
    {
     "data": {
      "text/plain": [
       "Array(2.092481e-05, dtype=float32)"
      ]
     },
     "execution_count": 7,
     "metadata": {},
     "output_type": "execute_result"
    }
   ],
   "source": [
    "Y_cov = dg.CAR_cov(fixed_data[\"triu_star\"], SIG_INV, RHO, N)\n",
    "\n",
    "jnp.median(Y_cov[np.triu_indices(n=N, k=1)])"
   ]
  },
  {
   "cell_type": "code",
   "execution_count": 8,
   "metadata": {},
   "outputs": [
    {
     "name": "stdout",
     "output_type": "stream",
     "text": [
      "Y std: 2.1290299892425537 \n",
      " Y mean: 5.345142841339111 \n",
      " mean exposure: 2.46280574798584 \n",
      " Corr Y~exposure: 0.6868200098561003 \n",
      " Corr Y~obs_exposure: 0.0379167237238826 \n",
      " Mean cov Y: 4.160058233537711e-05\n"
     ]
    }
   ],
   "source": [
    "print(f\"Y std: {data_sim.Y.std()}\", \"\\n\",\n",
    "      f\"Y mean: {data_sim.Y.mean()}\", \"\\n\",\n",
    "      f\"mean exposure: {data_sim.true_exposures.mean()}\", \"\\n\",\n",
    "       f\"Corr Y~exposure: {np.corrcoef(data_sim.Y, data_sim.true_exposures)[0,1]}\", \"\\n\",\n",
    "       f\"Corr Y~obs_exposure: {np.corrcoef(data_sim.Y, data_sim.obs_exposures)[0,1]}\", \"\\n\",\n",
    "       f\"Mean cov Y: {Y_cov[np.triu_indices(n=N, k=1)].mean()}\",)"
   ]
  },
  {
   "cell_type": "code",
   "execution_count": 9,
   "metadata": {},
   "outputs": [
    {
     "name": "stdout",
     "output_type": "stream",
     "text": [
      "True dynamic estimand: 3.516861915588379 \n",
      " True stochastic estimand: 5.239506244659424 \n",
      "\n"
     ]
    }
   ],
   "source": [
    "print(f\"True dynamic estimand: {new_interventions.estimand_h.mean()}\", \"\\n\",\n",
    "      f\"True stochastic estimand: {new_interventions.estimand_stoch.mean()}\", \"\\n\",)"
   ]
  },
  {
   "cell_type": "code",
   "execution_count": 10,
   "metadata": {},
   "outputs": [
    {
     "name": "stdout",
     "output_type": "stream",
     "text": [
      "Initializing parameters for MWG sampler...\n"
     ]
    },
    {
     "name": "stderr",
     "output_type": "stream",
     "text": [
      "100%|██████████| 20000/20000 [02:04<00:00, 160.77it/s, init loss: 135847.4531, avg. loss [19001-20000]: 52453.7123]\n",
      "c:\\Users\\bar21\\Dropbox\\My PC (LAPTOP-6NAJD2IQ)\\Desktop\\Gate\\University\\TAU\\PhD\\Writing\\Drafts\\Sampled networks\\Bayes_incorrect_network\\src\\MWG_sampler.py:232: UserWarning: There are not enough devices to run parallel chains: expected 4 but got 1. Chains will be drawn sequentially. If you are running MCMC in CPU, consider using `numpyro.set_host_device_count(4)` at the beginning of your program. You can double-check how many devices are available in your system using `jax.local_device_count()`.\n",
      "  mcmc_plugin = MCMC(\n"
     ]
    },
    {
     "name": "stdout",
     "output_type": "stream",
     "text": [
      "MWG init params: \n",
      " theta: [-2.9651823  1.2278157] \n",
      " gamma: [ 1.8518533 -1.9912013  3.3923194] \n",
      " eta: [-0.6150083   2.944955   -0.47264344  2.8930168 ] \n",
      " rho: 0.3276018 \n",
      " sig_inv: 0.028168181\n",
      "--- Sampling with MWG (single proxy) ---\n"
     ]
    },
    {
     "name": "stderr",
     "output_type": "stream",
     "text": [
      "c:\\Users\\bar21\\Dropbox\\My PC (LAPTOP-6NAJD2IQ)\\Desktop\\Gate\\University\\TAU\\PhD\\Writing\\Drafts\\Sampled networks\\Bayes_incorrect_network\\src\\MWG_sampler.py:353: UserWarning: There are not enough devices to run parallel chains: expected 4 but got 1. Chains will be drawn sequentially. If you are running MCMC in CPU, consider using `numpyro.set_host_device_count(4)` at the beginning of your program. You can double-check how many devices are available in your system using `jax.local_device_count()`.\n",
      "  mwg_mcmc = MCMC(\n",
      "sample: 100%|██████████| 60/60 [01:32<00:00,  1.54s/it, 63 steps of size 1.55e-01. acc. prob=0.36] \n",
      "sample: 100%|██████████| 60/60 [00:43<00:00,  1.38it/s, 31 steps of size 1.05e-01. acc. prob=0.93] \n",
      "sample: 100%|██████████| 60/60 [00:30<00:00,  1.96it/s, 31 steps of size 1.28e-01. acc. prob=0.85] \n",
      "sample: 100%|██████████| 60/60 [00:43<00:00,  1.39it/s, 31 steps of size 1.15e-01. acc. prob=0.95]  \n"
     ]
    }
   ],
   "source": [
    "from src.MWG_sampler import MWG_sampler, MWG_init\n",
    "from src.MCMC_fixed_net import mcmc_fixed_net\n",
    "import src.Models as models\n",
    "import src.GWG as gwg\n",
    "\n",
    "\n",
    "rng_key = random.split(rng_key)[1]\n",
    "\n",
    "mwg_init = MWG_init(\n",
    "    rng_key=rng_key,\n",
    "    data=data_sim,\n",
    "    n_iter_networks=20000,\n",
    "    # n_warmup_networks=20,\n",
    "    # n_samples_networks=20,\n",
    "    # num_chains_networks=2,\n",
    "    progress_bar=True,\n",
    ").get_init_values()\n",
    "\n",
    "print(\"--- Sampling with MWG (single proxy) ---\")\n",
    "\n",
    "rng_key = random.split(rng_key)[1]\n",
    "\n",
    "mwg_sampler = MWG_sampler(\n",
    "    rng_key=rng_key,\n",
    "    data=data_sim,\n",
    "    init_params=mwg_init,\n",
    "    # n_warmup=2000,\n",
    "    n_warmup=30,\n",
    "    # n_samples=2500,\n",
    "    n_samples=30,\n",
    "    num_chains=4,\n",
    "    progress_bar=True,\n",
    ")"
   ]
  },
  {
   "cell_type": "code",
   "execution_count": 22,
   "metadata": {},
   "outputs": [
    {
     "name": "stdout",
     "output_type": "stream",
     "text": [
      "y_pred shape:  (120, 500)\n",
      "y_pred2 shape:  (120, 500)\n"
     ]
    }
   ],
   "source": [
    "mwg_pred = Predictive(model = models.combined_model,\n",
    "                       posterior_samples=mwg_sampler.posterior_samples)\n",
    "\n",
    "\n",
    "data_dynamic_1 = utils.DataTuple(\n",
    "    x=data_sim.x,\n",
    "    x2=data_sim.x2,\n",
    "    x_diff=data_sim.x_diff,\n",
    "    x2_or=data_sim.x2_or,\n",
    "    triu_star=data_sim.triu_star,\n",
    "    triu_obs=data_sim.triu_obs,\n",
    "    triu_obs_rep=data_sim.triu_obs_rep,\n",
    "    Z=new_interventions.Z_h[0],\n",
    "    obs_exposures=data_sim.obs_exposures,\n",
    "    true_exposures=data_sim.true_exposures,\n",
    "    # Y=jnp.array([None]),\n",
    "    Y=None,\n",
    ")\n",
    "\n",
    "data_dynamic_2 = utils.DataTuple(\n",
    "    x=data_sim.x,\n",
    "    x2=data_sim.x2,\n",
    "    x_diff=data_sim.x_diff,\n",
    "    x2_or=data_sim.x2_or,\n",
    "    triu_star=data_sim.triu_star,\n",
    "    triu_obs=data_sim.triu_obs,\n",
    "    triu_obs_rep=data_sim.triu_obs_rep,\n",
    "    Z=new_interventions.Z_h[1],\n",
    "    obs_exposures=data_sim.obs_exposures,\n",
    "    true_exposures=data_sim.true_exposures,\n",
    "    # Y=jnp.array([None]),\n",
    "    Y=None,\n",
    ")\n",
    "\n",
    "rng_key, rng_key_  = random.split(rng_key)\n",
    "\n",
    "y_pred1 = mwg_pred(rng_key, data_dynamic_1)[\"Y\"]\n",
    "print(\"y_pred shape: \", y_pred1.shape)\n",
    "y_pred2 = mwg_pred(rng_key_, data_dynamic_2)[\"Y\"]\n",
    "print(\"y_pred2 shape: \", y_pred2.shape)"
   ]
  },
  {
   "cell_type": "code",
   "execution_count": 39,
   "metadata": {},
   "outputs": [
    {
     "data": {
      "text/plain": [
       "((2, 500), (2, 50, 500))"
      ]
     },
     "execution_count": 39,
     "metadata": {},
     "output_type": "execute_result"
    }
   ],
   "source": [
    "new_interventions.Z_h.shape, new_interventions.Z_stoch.shape"
   ]
  },
  {
   "cell_type": "code",
   "execution_count": 55,
   "metadata": {},
   "outputs": [
    {
     "name": "stdout",
     "output_type": "stream",
     "text": [
      "preds_y_dyn shape:  (120, 500)\n"
     ]
    },
    {
     "data": {
      "text/plain": [
       "{'mean': Array(2.7314699, dtype=float32),\n",
       " 'median': Array(2.63795, dtype=float32),\n",
       " 'true': Array(3.51686, dtype=float32),\n",
       " 'bias': Array(-0.78538996, dtype=float32),\n",
       " 'std': Array(0.10376, dtype=float32),\n",
       " 'RMSE': Array(0.79221, dtype=float32),\n",
       " 'RMSE_rel': Array(0.22525999, dtype=float32),\n",
       " 'MAE': Array(1.01406, dtype=float32),\n",
       " 'MAPE': Array(0.32893, dtype=float32),\n",
       " 'q025': Array(2.548794, dtype=float32),\n",
       " 'q975': Array(2.9370737, dtype=float32),\n",
       " 'covering': Array(False, dtype=bool),\n",
       " 'mean_ind_cover': Array(0.97599995, dtype=float32),\n",
       " 'w_dist': 0.0}"
      ]
     },
     "execution_count": 55,
     "metadata": {},
     "output_type": "execute_result"
    }
   ],
   "source": [
    "\n",
    "from jax import vmap\n",
    "\n",
    "\n",
    "def get_data_new_z(new_z, data):\n",
    "    \"\"\"\n",
    "    Get new data tuple for new interventions\n",
    "    \n",
    "    Args:\n",
    "    new_z: new interventions with shape (n,)\n",
    "    data: data tuple\n",
    "\n",
    "    \"\"\"\n",
    "    return utils.DataTuple(\n",
    "        x=data.x,\n",
    "        x2=data.x2,\n",
    "        x_diff=data.x_diff,\n",
    "        x2_or=data.x2_or,\n",
    "        triu_star=data.triu_star,\n",
    "        triu_obs=data.triu_obs,\n",
    "        triu_obs_rep=data.triu_obs_rep,\n",
    "        Z=new_z,\n",
    "        obs_exposures=data.obs_exposures,\n",
    "        true_exposures=data.true_exposures,\n",
    "        Y=None,\n",
    "    )\n",
    "\n",
    "vmap_new_data = vmap(get_data_new_z, in_axes=(0, None))\n",
    "\n",
    "def sample_pred_y(new_z, data, pred_func, rng_key):\n",
    "    \"\"\"\n",
    "    \n",
    "    sample new Y from posterior predictive distribution\n",
    "\n",
    "    Args:\n",
    "    new_z: new interventions. Either with shape (2,n) or (2, n_approx ,n)\n",
    "    data: data tuple\n",
    "    pred_func: predictive function \n",
    "    rng_key: random key\n",
    "\n",
    "    \"\"\"\n",
    "    assert new_z.shape[0] == 2\n",
    "\n",
    "    if new_z.ndim == 2:\n",
    "        rng_keys = random.split(rng_key, 2)\n",
    "        # data_list = [get_data_new_z(new_z[i], data) for i in range(2)]\n",
    "        data_list = jax.vmap(get_data_new_z, in_axes=(0, None))(new_z, data)\n",
    "        pred_samples = jax.vmap(lambda rk, d: pred_func(rk, d)[\"Y\"])(rng_keys, data_list)\n",
    "        # pred_samples = [pred_func(rk, d)[\"Y\"] for rk, d in zip(rng_keys, data_list)]\n",
    "        preds = pred_samples[0] - pred_samples[1]\n",
    "    \n",
    "    elif new_z.ndim == 3:\n",
    "        n_approx = new_z.shape[1]\n",
    "        # rng_keys = random.split(rng_key, 2 * n_approx)\n",
    "\n",
    "        # # Flatten (2, n_approx, n) -> (2 * n_approx, n)\n",
    "        # new_z_flat = new_z.reshape(2 * n_approx, new_z.shape[-1])\n",
    "\n",
    "        # # Compute predictions for all interventions at once\n",
    "        # data_list = [get_data_new_z(z, data) for z in new_z_flat]\n",
    "        # pred_samples = jnp.stack([pred_func(rk, d)[\"Y\"] for rk, d in zip(rng_keys, data_list)], axis=0)\n",
    "        \n",
    "        # # Reshape back to (2, n_approx, n) \n",
    "        # pred_samples = pred_samples.reshape(2, n_approx, -1)\n",
    "        \n",
    "        # Generate independent RNG keys\n",
    "        rng_keys = random.split(rng_key, 2 * n_approx).reshape(2, n_approx, -1)\n",
    "\n",
    "        # Fully vectorized function with correct in_axes\n",
    "        vmap_func = jax.vmap(\n",
    "            jax.vmap(\n",
    "                lambda zk, rk: pred_func(rk, get_data_new_z(zk, data))[\"Y\"], \n",
    "                in_axes=(0, 0)  # Maps over n_approx\n",
    "            ), \n",
    "            in_axes=(0, 0)  # Maps over the intervention groups (2)\n",
    "        )\n",
    "\n",
    "        pred_samples = vmap_func(new_z, rng_keys)  # Expected shape (2, n_approx, m, n)\n",
    "\n",
    "        preds_diff = pred_samples[0] - pred_samples[1]\n",
    "        preds = preds_diff.mean(axis=0)\n",
    "\n",
    "    else:\n",
    "        raise ValueError(\"new_z should have shape (2,n) or (2, n_approx, n)\")\n",
    "    \n",
    "    return preds\n",
    "\n",
    "preds_y_dyn = sample_pred_y(new_interventions.Z_h, data_sim, mwg_pred, rng_key)\n",
    "print(\"preds_y_dyn shape: \", preds_y_dyn.shape)\n",
    "\n",
    "utils.compute_error_stats(preds_y_dyn, new_interventions.estimand_h, 0.0)"
   ]
  },
  {
   "cell_type": "code",
   "execution_count": 56,
   "metadata": {},
   "outputs": [
    {
     "name": "stdout",
     "output_type": "stream",
     "text": [
      "preds_y_stoch shape:  (120, 500)\n"
     ]
    }
   ],
   "source": [
    "preds_y_stoch = sample_pred_y(new_interventions.Z_stoch, data_sim, mwg_pred, rng_key)\n",
    "print(\"preds_y_stoch shape: \", preds_y_stoch.shape)"
   ]
  },
  {
   "cell_type": "code",
   "execution_count": 57,
   "metadata": {},
   "outputs": [
    {
     "data": {
      "text/plain": [
       "{'mean': Array(4.01708, dtype=float32),\n",
       " 'median': Array(3.88761, dtype=float32),\n",
       " 'true': Array(5.23951, dtype=float32),\n",
       " 'bias': Array(-1.22242, dtype=float32),\n",
       " 'std': Array(0.10612, dtype=float32),\n",
       " 'RMSE': Array(1.22702, dtype=float32),\n",
       " 'RMSE_rel': Array(0.23418999, dtype=float32),\n",
       " 'MAE': Array(1.24041, dtype=float32),\n",
       " 'MAPE': Array(0.23165, dtype=float32),\n",
       " 'q025': Array(3.8604355, dtype=float32),\n",
       " 'q975': Array(4.2267118, dtype=float32),\n",
       " 'covering': Array(False, dtype=bool),\n",
       " 'mean_ind_cover': Array(0.14999999, dtype=float32),\n",
       " 'w_dist': 0.0}"
      ]
     },
     "execution_count": 57,
     "metadata": {},
     "output_type": "execute_result"
    }
   ],
   "source": [
    "utils.compute_error_stats(preds_y_stoch, new_interventions.estimand_stoch, 0.0)"
   ]
  },
  {
   "cell_type": "code",
   "execution_count": 58,
   "metadata": {},
   "outputs": [
    {
     "name": "stdout",
     "output_type": "stream",
     "text": [
      "{'mean': Array(4.0183597, dtype=float32), 'median': Array(3.8705099, dtype=float32), 'true': Array(5.23951, dtype=float32), 'bias': Array(-1.22114, dtype=float32), 'std': Array(0.14048, dtype=float32), 'RMSE': Array(1.22919, dtype=float32), 'RMSE_rel': Array(0.2346, dtype=float32), 'MAE': Array(1.23896, dtype=float32), 'MAPE': Array(0.23141, dtype=float32), 'q025': Array(3.7733574, dtype=float32), 'q975': Array(4.3326406, dtype=float32), 'covering': Array(False, dtype=bool), 'mean_ind_cover': Array(0.218, dtype=float32), 'w_dist': Array(2.8840206, dtype=float32)}\n"
     ]
    }
   ],
   "source": [
    "mwg_sotch_stats = mwg_sampler.new_intervention_error_stats(\n",
    "    new_z=new_interventions.Z_stoch,\n",
    "    true_estimands=new_interventions.estimand_stoch,\n",
    "    true_vals={\"eta\": ETA, \"sig_inv\": SIG_INV, \"rho\": RHO, \"triu_star\": fixed_data[\"triu_star\"]},\n",
    ")\n",
    "\n",
    "print(mwg_sotch_stats)"
   ]
  },
  {
   "cell_type": "code",
   "execution_count": 23,
   "metadata": {},
   "outputs": [
    {
     "name": "stdout",
     "output_type": "stream",
     "text": [
      "(120, 500)\n"
     ]
    }
   ],
   "source": [
    "dynamic_esti = y_pred1 - y_pred2\n",
    "\n",
    "print(dynamic_esti.shape)"
   ]
  },
  {
   "cell_type": "code",
   "execution_count": 24,
   "metadata": {},
   "outputs": [
    {
     "data": {
      "text/plain": [
       "{'mean': Array(2.74718, dtype=float32),\n",
       " 'median': Array(2.6419199, dtype=float32),\n",
       " 'true': Array(3.51686, dtype=float32),\n",
       " 'bias': Array(-0.76967996, dtype=float32),\n",
       " 'std': Array(0.12128, dtype=float32),\n",
       " 'RMSE': Array(0.77918, dtype=float32),\n",
       " 'RMSE_rel': Array(0.22154999, dtype=float32),\n",
       " 'MAE': Array(1.00237, dtype=float32),\n",
       " 'MAPE': Array(0.32696998, dtype=float32),\n",
       " 'q025': Array(2.5412483, dtype=float32),\n",
       " 'q975': Array(2.9666004, dtype=float32),\n",
       " 'covering': Array(False, dtype=bool),\n",
       " 'mean_ind_cover': Array(0.974, dtype=float32),\n",
       " 'w_dist': 0.0}"
      ]
     },
     "execution_count": 24,
     "metadata": {},
     "output_type": "execute_result"
    }
   ],
   "source": [
    "utils.compute_error_stats(dynamic_esti, new_interventions.estimand_h, 0.0)"
   ]
  },
  {
   "cell_type": "code",
   "execution_count": 28,
   "metadata": {},
   "outputs": [
    {
     "name": "stdout",
     "output_type": "stream",
     "text": [
      "{'mean': Array(2.74072, dtype=float32), 'median': Array(2.20062, dtype=float32), 'true': Array(3.51686, dtype=float32), 'bias': Array(-0.77614, dtype=float32), 'std': Array(0.07133, dtype=float32), 'RMSE': Array(0.77941, dtype=float32), 'RMSE_rel': Array(0.22162, dtype=float32), 'MAE': Array(0.99614, dtype=float32), 'MAPE': Array(0.32325, dtype=float32), 'q025': Array(2.6292186, dtype=float32), 'q975': Array(2.8704126, dtype=float32), 'covering': Array(False, dtype=bool), 'mean_ind_cover': Array(0.206, dtype=float32), 'w_dist': Array(2.8840206, dtype=float32)}\n"
     ]
    }
   ],
   "source": [
    "mwg_dynamic_stats = mwg_sampler.new_intervention_error_stats(\n",
    "    new_z=new_interventions.Z_h,\n",
    "    true_estimands=new_interventions.estimand_h,\n",
    "    true_vals={\"eta\": ETA, \"sig_inv\": SIG_INV, \"rho\": RHO, \"triu_star\": fixed_data[\"triu_star\"]},\n",
    ")\n",
    "\n",
    "print(mwg_dynamic_stats)"
   ]
  },
  {
   "cell_type": "code",
   "execution_count": 33,
   "metadata": {},
   "outputs": [
    {
     "name": "stdout",
     "output_type": "stream",
     "text": [
      "(120, 500)\n",
      "(120, 500, 4)\n"
     ]
    }
   ],
   "source": [
    "post_expos = utils.vmap_compute_exposures(mwg_sampler.posterior_samples[\"triu_star\"],\n",
    "                                          new_interventions.Z_h[0])\n",
    "\n",
    "print(post_expos.shape)\n",
    "\n",
    "post_df =     jnp.stack(\n",
    "                [jnp.transpose(jnp.stack([jnp.ones(data_sim.Z.shape[0]),\n",
    "                                        new_interventions.Z_h[0],\n",
    "                                        data_sim.x,\n",
    "                                        post_expos[i,:]])) for i in range(post_expos.shape[0])]\n",
    ")\n",
    "\n",
    "print(post_df.shape)"
   ]
  },
  {
   "cell_type": "code",
   "execution_count": null,
   "metadata": {},
   "outputs": [
    {
     "name": "stdout",
     "output_type": "stream",
     "text": [
      "(120, 500)\n"
     ]
    }
   ],
   "source": [
    "post_means = jnp.einsum('ijk,ik->ij', post_df, mwg_sampler.posterior_samples[\"eta\"])\n",
    "\n",
    "print(post_means.shape)\n",
    "\n",
    "post_cov_mats = "
   ]
  },
  {
   "cell_type": "code",
   "execution_count": null,
   "metadata": {},
   "outputs": [],
   "source": [
    "def sample_post_y(data, new_z, post_samps):\n",
    "    M = post_samps[\"eta\"].shape[0]\n",
    "    exposures = utils.vmap_compute_exposures(post_samps[\"triu_star\"], new_z)\n",
    "    "
   ]
  },
  {
   "cell_type": "code",
   "execution_count": 17,
   "metadata": {},
   "outputs": [
    {
     "name": "stdout",
     "output_type": "stream",
     "text": [
      "(120, 500)\n",
      "expec shape:  (120, 500)\n"
     ]
    }
   ],
   "source": [
    "manual_expos = utils.vmap_compute_exposures(mwg_sampler.posterior_samples[\"triu_star\"],\n",
    "                                             data_sim.Z)\n",
    "print(manual_expos.shape)\n",
    "\n",
    "expec = utils.get_estimates(data_sim.Z, manual_expos, mwg_sampler.posterior_samples[\"eta\"],)\n",
    "\n",
    "print(\"expec shape: \", expec.shape)"
   ]
  },
  {
   "cell_type": "code",
   "execution_count": 27,
   "metadata": {},
   "outputs": [
    {
     "data": {
      "text/plain": [
       "<matplotlib.collections.PathCollection at 0x1fa4fd2fa50>"
      ]
     },
     "execution_count": 27,
     "metadata": {},
     "output_type": "execute_result"
    },
    {
     "data": {
      "image/png": "[encoded data removed]",
      "text/plain": [
       "<Figure size 640x480 with 1 Axes>"
      ]
     },
     "metadata": {},
     "output_type": "display_data"
    }
   ],
   "source": [
    "import matplotlib.pyplot as plt\n",
    "\n",
    "# plt.scatter(data_sim.Y, y_pred2.mean(axis=0))\n",
    "plt.scatter(y_pred1.mean(axis=0), y_pred2.mean(axis=0))"
   ]
  },
  {
   "cell_type": "code",
   "execution_count": 11,
   "metadata": {},
   "outputs": [
    {
     "ename": "NameError",
     "evalue": "name 'mwg_sampler' is not defined",
     "output_type": "error",
     "traceback": [
      "\u001b[1;31m---------------------------------------------------------------------------\u001b[0m",
      "\u001b[1;31mNameError\u001b[0m                                 Traceback (most recent call last)",
      "Cell \u001b[1;32mIn[11], line 1\u001b[0m\n\u001b[1;32m----> 1\u001b[0m samps \u001b[38;5;241m=\u001b[39m \u001b[43mmwg_sampler\u001b[49m\u001b[38;5;241m.\u001b[39mposterior_samples\u001b[38;5;241m.\u001b[39mcopy()\n\u001b[0;32m      2\u001b[0m samps[\u001b[38;5;124m\"\u001b[39m\u001b[38;5;124mrho\u001b[39m\u001b[38;5;124m\"\u001b[39m] \u001b[38;5;241m=\u001b[39m samps[\u001b[38;5;124m\"\u001b[39m\u001b[38;5;124mrho\u001b[39m\u001b[38;5;124m\"\u001b[39m][:, \u001b[38;5;28;01mNone\u001b[39;00m]\n\u001b[0;32m      3\u001b[0m samps[\u001b[38;5;124m\"\u001b[39m\u001b[38;5;124msig_inv\u001b[39m\u001b[38;5;124m\"\u001b[39m] \u001b[38;5;241m=\u001b[39m samps[\u001b[38;5;124m\"\u001b[39m\u001b[38;5;124msig_inv\u001b[39m\u001b[38;5;124m\"\u001b[39m][:, \u001b[38;5;28;01mNone\u001b[39;00m]\n",
      "\u001b[1;31mNameError\u001b[0m: name 'mwg_sampler' is not defined"
     ]
    }
   ],
   "source": [
    "samps = mwg_sampler.posterior_samples.copy()\n",
    "samps[\"rho\"] = samps[\"rho\"][:, None]\n",
    "samps[\"sig_inv\"] = samps[\"sig_inv\"][:, None]\n",
    "\n",
    "\n",
    "for k in samps.keys():\n",
    "    print(k, samps[k].shape, samps[k].dtype)\n",
    "\n",
    "\n"
   ]
  },
  {
   "cell_type": "code",
   "execution_count": 12,
   "metadata": {},
   "outputs": [
    {
     "name": "stdout",
     "output_type": "stream",
     "text": [
      "eta (4,) float32\n",
      "rho (1,) float32\n",
      "sig_inv (1,) int32\n",
      "triu_star (124750,) float32\n"
     ]
    }
   ],
   "source": [
    "true_vals = {\"eta\": ETA,\n",
    "                \"rho\": jnp.array([RHO]),\n",
    "                \"sig_inv\": jnp.array([SIG_INV]),\n",
    "                \"triu_star\": fixed_data[\"triu_star\"]}\n",
    "for k in true_vals.keys():\n",
    "    print(k, true_vals[k].shape, true_vals[k].dtype)"
   ]
  },
  {
   "cell_type": "code",
   "execution_count": 49,
   "metadata": {},
   "outputs": [
    {
     "name": "stdout",
     "output_type": "stream",
     "text": [
      "theta (2,) float32\n",
      "eta (4,) float32\n",
      "rho (1,) float32\n",
      "sig_inv (1,) int32\n",
      "gamma (3,) float32\n",
      "triu_star (124750,) float32\n"
     ]
    }
   ],
   "source": [
    "PARAM['rho'] = jnp.array([PARAM['rho']])\n",
    "PARAM['sig_inv'] = jnp.array([PARAM['sig_inv']])\n",
    "\n",
    "PARAM['gamma'] = jnp.array(cur_gamma[:3])\n",
    "PARAM[\"triu_star\"] = data_sim.triu_star\n",
    "# PARAM[\"triu_star\"] = data_sim.triu_star\n",
    "\n",
    "for k in PARAM.keys():\n",
    "    print(k, PARAM[k].shape, PARAM[k].dtype)"
   ]
  },
  {
   "cell_type": "code",
   "execution_count": 51,
   "metadata": {},
   "outputs": [
    {
     "name": "stdout",
     "output_type": "stream",
     "text": [
      "1 1s: 5.265979\n",
      "2 1s: 5.4698315\n",
      "3 1s: 5.673685\n",
      "4 1s: 5.8775373\n",
      "5 1s: 6.081391\n",
      "6 1s: 6.2852435\n",
      "7 1s: 6.4890966\n",
      "8 1s: 6.6929493\n",
      "9 1s: 6.896802\n"
     ]
    }
   ],
   "source": [
    "for lam in range(1,10,1):\n",
    "   print(f\"{lam} 1s:\", utils.compute_1w_distance(samps, PARAM, lambda_discrete=float(lam)))\n"
   ]
  },
  {
   "cell_type": "code",
   "execution_count": 53,
   "metadata": {},
   "outputs": [
    {
     "name": "stdout",
     "output_type": "stream",
     "text": [
      "1 1s: 5.0621257\n",
      "2 1s: 5.0621257\n",
      "3 1s: 5.0621257\n",
      "4 1s: 5.0621257\n",
      "5 1s: 5.0621257\n",
      "6 1s: 5.0621257\n",
      "7 1s: 5.0621257\n",
      "8 1s: 5.0621257\n",
      "9 1s: 5.0621257\n"
     ]
    }
   ],
   "source": [
    "samps['triu_star'] = jnp.repeat(jnp.array([data_sim.triu_star]), 120, axis=0)\n",
    "\n",
    "for lam in range(1,10,1):\n",
    "   print(f\"{lam} 1s:\", utils.compute_1w_distance(samps, PARAM, lambda_discrete=float(lam)))"
   ]
  },
  {
   "cell_type": "code",
   "execution_count": 54,
   "metadata": {},
   "outputs": [
    {
     "name": "stdout",
     "output_type": "stream",
     "text": [
      "1 1s: 5.41601\n",
      "2 1s: 5.7698936\n",
      "3 1s: 6.1237774\n",
      "4 1s: 6.477661\n",
      "5 1s: 6.831545\n",
      "6 1s: 7.185428\n",
      "7 1s: 7.539312\n",
      "8 1s: 7.893196\n",
      "9 1s: 8.24708\n"
     ]
    }
   ],
   "source": [
    "samps['triu_star'] = jnp.repeat(jnp.array([data_sim.triu_obs]), 120, axis=0)\n",
    "\n",
    "for lam in range(1,10,1):\n",
    "   print(f\"{lam} 1s:\", utils.compute_1w_distance(samps, PARAM, lambda_discrete=float(lam)))"
   ]
  },
  {
   "cell_type": "code",
   "execution_count": 13,
   "metadata": {},
   "outputs": [
    {
     "name": "stdout",
     "output_type": "stream",
     "text": [
      "A = 1 | A* = 0\n",
      "logits\n",
      "-2.1972246 [-2.3918204 -2.1418204 -1.8918204 -1.6418204 -1.3918204]\n",
      "probs\n",
      "0.1 [0.08379856 0.10509805 0.13103704 0.16221751 0.1991173 ]\n",
      "A = 1 | A* = 1\n",
      "logits\n",
      "1.7346013 [2.3918214 2.1418214 1.8918214 1.6418214 1.3918214]\n",
      "probs\n",
      "0.85 [0.9162015  0.89490205 0.86896306 0.83778256 0.8008829 ]\n"
     ]
    }
   ],
   "source": [
    "from jax.scipy.special import expit\n",
    "\n",
    "# GAMMA_X_NOISES = jnp.arange(1, 3.5 + 1e-6, 0.5)\n",
    "GAMMA_X_NOISES = jnp.arange(3, 5 + 1e-6, 0.5)\n",
    "\n",
    "print(\"A = 1 | A* = 0\")\n",
    "print(\"logits\")\n",
    "print(logit(0.1),logit(0.02) + GAMMA_X_NOISES/2)\n",
    "print(\"probs\")\n",
    "print(0.1,expit(logit(0.02) + GAMMA_X_NOISES/2))\n",
    "\n",
    "print(\"A = 1 | A* = 1\")\n",
    "print(\"logits\")\n",
    "print(logit(0.85),logit(0.98) - GAMMA_X_NOISES/2)\n",
    "print(\"probs\")\n",
    "print(0.85,expit(logit(0.98) - GAMMA_X_NOISES/2))"
   ]
  },
  {
   "cell_type": "code",
   "execution_count": 60,
   "metadata": {},
   "outputs": [
    {
     "name": "stdout",
     "output_type": "stream",
     "text": [
      "Gamma X noises: [2.  2.5 3.  3.5 4. ] \n",
      " Gamma B noises 0: [1.9444387 1.6944387 1.4444387 1.1944387 0.9444387] \n",
      " Gamma B noises 1: [-1.9444389  -1.6944389  -1.4444389  -1.1944389  -0.94443893] \n",
      "\n",
      "[ 1.1944387 -1.1944389  3.5        1.3862945  1.        -1.3862944\n",
      "  1.       ]\n"
     ]
    }
   ],
   "source": [
    "GAMMA_BASELINE = jnp.array([logit(0.95), logit(0.05)])\n",
    "\n",
    "GAMMA_REP = jnp.array([logit(0.8), 1, logit(0.2), 1])\n",
    "GAMMA_X_NOISES = jnp.arange(2, 4 + 1e-6, 0.5)\n",
    "\n",
    "GAMMA_B_NOISE_0 = GAMMA_BASELINE[0] - GAMMA_X_NOISES / 2\n",
    "GAMMA_B_NOISE_1 = GAMMA_BASELINE[1] + GAMMA_X_NOISES / 2\n",
    "\n",
    "print(\"Gamma X noises:\", GAMMA_X_NOISES, \"\\n\",\n",
    "      \"Gamma B noises 0:\", GAMMA_B_NOISE_0, \"\\n\",\n",
    "      \"Gamma B noises 1:\", GAMMA_B_NOISE_1, \"\\n\",)\n",
    "\n",
    "j=3\n",
    "print(jnp.concatenate(\n",
    "            # [GAMMA_F, jnp.array([GAMMA_X_NOISES[j]]), GAMMA_REP]\n",
    "            [jnp.array([GAMMA_B_NOISE_0[j]]),\n",
    "            jnp.array([GAMMA_B_NOISE_1[j]]),\n",
    "            jnp.array([GAMMA_X_NOISES[j]]),\n",
    "            GAMMA_REP]\n",
    "        )\n",
    ")"
   ]
  },
  {
   "cell_type": "code",
   "execution_count": 63,
   "metadata": {},
   "outputs": [
    {
     "name": "stdout",
     "output_type": "stream",
     "text": [
      "0\n",
      "1\n",
      "2\n",
      "3\n",
      "4\n",
      "5\n",
      "6\n",
      "7\n",
      "8\n",
      "9\n",
      "5\n",
      "6\n",
      "7\n",
      "8\n",
      "9\n",
      "10\n",
      "11\n",
      "12\n",
      "13\n",
      "14\n",
      "10\n",
      "11\n",
      "12\n",
      "13\n",
      "14\n",
      "15\n",
      "16\n",
      "17\n",
      "18\n",
      "19\n",
      "15\n",
      "16\n",
      "17\n",
      "18\n",
      "19\n",
      "20\n",
      "21\n",
      "22\n",
      "23\n",
      "24\n",
      "20\n",
      "21\n",
      "22\n",
      "23\n",
      "24\n",
      "25\n",
      "26\n",
      "27\n",
      "28\n",
      "29\n"
     ]
    }
   ],
   "source": [
    "job_id = 2\n",
    "# i = jnp.arange(0,10,1)\n",
    "for jb in range(5):\n",
    "    for i in range(10):\n",
    "        print(jb*5 + i) "
   ]
  },
  {
   "cell_type": "code",
   "execution_count": 11,
   "metadata": {},
   "outputs": [
    {
     "name": "stdout",
     "output_type": "stream",
     "text": [
      "A1 \\ A2 |  0  |  1  |\n",
      "---------|-----|-----|\n",
      "   0    | 70461 | 42358 |\n",
      "   1    | 1789 | 10142 |\n",
      "A1 \\ A2 |  0  |  1  |\n",
      "---------|-----|-----|\n",
      "   0    | 90291 | 22528 |\n",
      "   1    | 2341 | 9590 |\n",
      "A1 \\ A2 |  0  |  1  |\n",
      "---------|-----|-----|\n",
      "   0    | 56842 | 15408 |\n",
      "   1    | 35790 | 16710 |\n"
     ]
    }
   ],
   "source": [
    "# get 2x2 table of data_sim.triu_star and data_sim.triu_obs\n",
    "\n",
    "def binary_contingency_table(A1, A2):\n",
    "    # Table structure:\n",
    "    #     A2=0  A2=1\n",
    "    # A1=0  n00   n01\n",
    "    # A1=1  n10   n11\n",
    "    \n",
    "    n00 = jnp.sum((A1 == 0) & (A2 == 0))\n",
    "    n01 = jnp.sum((A1 == 0) & (A2 == 1))\n",
    "    n10 = jnp.sum((A1 == 1) & (A2 == 0))\n",
    "    n11 = jnp.sum((A1 == 1) & (A2 == 1))\n",
    "    \n",
    "    print(\"A1 \\ A2 |  0  |  1  |\")\n",
    "    print(\"---------|-----|-----|\")\n",
    "    print(f\"   0    | {n00:3d} | {n01:3d} |\")\n",
    "    print(f\"   1    | {n10:3d} | {n11:3d} |\")\n",
    "    \n",
    "    # return jnp.array([[n00, n01], [n10, n11]])\n",
    "\n",
    "binary_contingency_table(data_sim.triu_star, data_sim.triu_obs)\n",
    "\n",
    "binary_contingency_table(data_sim.triu_star, data_sim.triu_obs_rep)\n",
    "\n",
    "binary_contingency_table(data_sim.triu_obs, data_sim.triu_obs_rep)"
   ]
  },
  {
   "cell_type": "code",
   "execution_count": 9,
   "metadata": {},
   "outputs": [],
   "source": [
    "import jax.numpy as jnp\n",
    "import jax\n",
    "import numpyro\n",
    "import numpyro.distributions as dist\n",
    "\n",
    "def network_only_models_marginalized(data):\n",
    "    \"\"\"\n",
    "    Bayesian network model with marginalized latent network A*.\n",
    "\n",
    "    Args:\n",
    "      data: an object with attributes:\n",
    "         - x_diff: difference in covariate values per edge (e.g., shape [num_edges])\n",
    "         - x2_or: indicator if x2_i + x2_j = 1 (shape [num_edges])\n",
    "         - triu_obs: observed upper-triangular adjacency matrix values (binary, shape [num_edges])\n",
    "    \"\"\"\n",
    "    # --- Priors on continuous parameters ---\n",
    "    # Using vectorized sample statements for theta (2 parameters) and gamma (3 parameters)\n",
    "    theta = numpyro.sample(\"theta\", dist.Normal(0, 5).expand([2]))\n",
    "    gamma = numpyro.sample(\"gamma\", dist.Normal(0, 5).expand([3]))\n",
    "\n",
    "    # --- Latent network (A*) prior ---\n",
    "    # Logits for edge probability of A* = 1 (for each edge)\n",
    "    star_logits = theta[0] + theta[1] * data.x2_or\n",
    "    star_logits = jnp.clip(star_logits, -20, 20)  # for numerical stability\n",
    "\n",
    "    # Instead of using x - log1p(exp(x)), we use the stable softplus:\n",
    "    # log(sigmoid(x)) = -log(1 + exp(-x)) = x - softplus(x)\n",
    "    # log(1-sigmoid(x)) = -softplus(x)\n",
    "    log_nu_1 = star_logits - jax.nn.softplus(star_logits)  # log probability for A* = 1\n",
    "    log_nu_0 = - jax.nn.softplus(star_logits)              # log probability for A* = 0\n",
    "\n",
    "    # --- Likelihood for the observed network A given A* ---\n",
    "    # For edges with A* = 1 we use parameter gamma[0], and for A* = 0 we use a logistic regression\n",
    "    # with linear predictor obs_logits_k0.\n",
    "    obs_logits_k0 = gamma[1] + gamma[2] * data.x_diff\n",
    "    obs_logits_k0 = jnp.clip(obs_logits_k0, -20, 20)  # for numerical stability\n",
    "\n",
    "    # The typical Bernoulli log-likelihood for an observation y given logit ℓ is:\n",
    "    #   y * ℓ - softplus(ℓ)\n",
    "    log_xi_1 = data.triu_obs * gamma[0] - jax.nn.softplus(gamma[0])\n",
    "    log_xi_0 = data.triu_obs * obs_logits_k0 - jax.nn.softplus(obs_logits_k0)\n",
    "\n",
    "    # --- Marginalizing over A* ---\n",
    "    # For each edge we have two terms (A* = 1 and A* = 0). Write the joint log-probability\n",
    "    # for each possibility:\n",
    "    log_joint_1 = log_nu_1 + log_xi_1\n",
    "    log_joint_0 = log_nu_0 + log_xi_0\n",
    "\n",
    "    # Now marginalize: for each edge compute\n",
    "    # log( xi * nu ) = logaddexp( log_joint_1, log_joint_0 )\n",
    "    log_marginal = jnp.logaddexp(log_joint_1, log_joint_0)\n",
    "\n",
    "    # It is often a good idea to use plates over independent observations.\n",
    "    # Assuming each edge is independent, we can write:\n",
    "    with numpyro.plate(\"edges\", data.triu_obs.shape[0]):\n",
    "        # Here we add the contribution for each edge; if you prefer, you can use a dummy observation:\n",
    "        numpyro.factor(\"marginalized_likelihood\", log_marginal)\n",
    "\n",
    "    # --- Optional: Compute posterior probabilities for A* (for post-processing) ---\n",
    "    # p(A* = 1 | data, theta, gamma) = exp( log_joint_1 - log_marginal )\n",
    "    astar_probs = jnp.exp(log_joint_1 - log_marginal)\n",
    "    numpyro.deterministic(\"astar_probs\", astar_probs)\n"
   ]
  },
  {
   "cell_type": "code",
   "execution_count": 10,
   "metadata": {},
   "outputs": [
    {
     "data": {
      "text/plain": [
       "Array(-10.392306, dtype=float32, weak_type=True)"
      ]
     },
     "execution_count": 10,
     "metadata": {},
     "output_type": "execute_result"
    }
   ],
   "source": [
    "(0.5 - 0.8) / (1/jnp.sqrt(1200))"
   ]
  },
  {
   "cell_type": "code",
   "execution_count": 16,
   "metadata": {},
   "outputs": [],
   "source": [
    "\n",
    "\n",
    "\n",
    "\n",
    "# def marginalized_model(data):\n",
    "#     # priors\n",
    "#     theta = numpyro.sample(\"theta\", dist.Normal(0, 5).expand([2]))\n",
    "#     gamma = numpyro.sample(\"gamma\", dist.Normal(0, 5).expand([3]))\n",
    "\n",
    "#     star_logits = theta[0] + theta[1] * data.x2_or\n",
    "#     star_logits = jnp.clip(star_logits, -10, 10)  # for numerical stability\n",
    "#     # P(A*_ij=1)\n",
    "#     star_logprob = jax.nn.log_sigmoid(star_logits)\n",
    "#     # P(A*_ij=0)\n",
    "#     star_logprob_1m = jax.nn.log_sigmoid(-star_logits)\n",
    "\n",
    "#     obs_logits_k0 = gamma[1] + gamma[2] * data.x_diff\n",
    "#     obs_logits_k0 = jnp.clip(obs_logits_k0, -10, 10)  # for numerical stability\n",
    "#     # P(A_ij = 1 | A*_ij = 0)\n",
    "#     obs_logprobs_k0 = jax.nn.log_sigmoid(obs_logits_k0)\n",
    "#     # P(A_ij = 0 | A*_ij = 0)\n",
    "#     obs_logprobs_k0_1m = jax.nn.log_sigmoid(-obs_logits_k0)\n",
    "\n",
    "\n",
    "#     # P(A_ij = 1 | A*_ij = 1)\n",
    "#     obs_logprobs_k1 = jax.nn.log_sigmoid(gamma[0])\n",
    "#     # P(A_ij = 0 | A*_ij = 1)\n",
    "#     obs_logprobs_k1_1m = jax.nn.log_sigmoid(-gamma[0])\n",
    "\n",
    "#     # marginalized log-probs P(A_ij=1) \n",
    "#     mixed_logprob_a1 = jnp.logaddexp(star_logprob + obs_logprobs_k1, \n",
    "#                                    star_logprob_1m + obs_logprobs_k0)\n",
    "#     mixed_prob_a1 = jnp.exp(mixed_logprob_a1)\n",
    "    \n",
    "#     # marginalized log-probs P(A_ij=0)\n",
    "#     mixed_logprob_a0 = jnp.log1p(-mixed_prob_a1)\n",
    "\n",
    "#     # log likelihood of A\n",
    "#     log_lik = jnp.where(data.triu_obs == 1.0,\n",
    "#                         mixed_logprob_a1,\n",
    "#                         mixed_logprob_a0)\n",
    "\n",
    "#     with numpyro.plate(\"edges\", data.triu_obs.shape[0]):\n",
    "        \n",
    "#         # numpyro.sample(\"obs\", dist.BernoulliProbs(mixed_probs), obs=data.triu_obs)\n",
    "#         numpyro.factor(\"marginalized_likelihood\", log_lik)\n",
    "\n",
    "#     # save posterior A_star probs\n",
    "#     # let  p_1 = P(A*_ij=1)*P(A_ij| A*_ij=1)\n",
    "#     #      p_0 = P(A*_ij=0 )*P(A_ij| A*_ij=0)\n",
    "#     # then posterior probs P(A*_ij | A, \\theta,\\ gamma) = p_1 / (p_1 + p_0)\n",
    "#     # log p_1\n",
    "#     log_branch1 = jnp.where(data.triu_obs == 1.0,\n",
    "#                             star_logprob + obs_logprobs_k1,\n",
    "#                             star_logprob + obs_logprobs_k1_1m)\n",
    "#     # log p_0\n",
    "#     log_branch0 = jnp.where(data.triu_obs == 1.0,\n",
    "#                             star_logprob_1m + obs_logprobs_k0,\n",
    "#                             star_logprob_1m + obs_logprobs_k0_1m)\n",
    "#     # log (p_0 + p_1)\n",
    "#     log_norm = jnp.logaddexp(log_branch1, log_branch0)\n",
    "    \n",
    "#     numpyro.deterministic(\"triu_star_probs\", jnp.exp(log_branch1 - log_norm))\n",
    "    \n",
    "\n",
    "\n",
    "def marginalized_model(data):\n",
    "    # priors\n",
    "    theta = numpyro.sample(\"theta\", dist.Normal(0, jnp.sqrt(3)).expand([2]))\n",
    "    # gamma = numpyro.sample(\"gamma\", dist.Normal(0, 5).expand([3]))\n",
    "    gamma = numpyro.sample(\"gamma\", dist.Normal(0, jnp.sqrt(3)).expand([3]))\n",
    "\n",
    "    # P(A*_ij=1)\n",
    "    # star_logits = theta[0] + theta[1] * data.x2_or\n",
    "    star_probs = jax.nn.sigmoid(theta[0] + theta[1] * data.x2_or)\n",
    "    star_probs = jnp.clip(star_probs, 1e-6, 1 - 1e-6)\n",
    "\n",
    "    # P(A_ij = 1 | A*_ij = 0)\n",
    "    # obs_logits_k0 = gamma[1] + gamma[2] * data.x_diff\n",
    "    obs_probs_k0 = jax.nn.sigmoid(gamma[1] + gamma[2] * data.x_diff)\n",
    "    obs_probs_k0 = jnp.clip(obs_probs_k0, 1e-6, 1 - 1e-6)\n",
    "\n",
    "    # P(A_ij = 1 | A*_ij = 1)\n",
    "    obs_probs_k1 = jax.nn.sigmoid(gamma[0])\n",
    "    obs_probs_k1 = jnp.clip(obs_probs_k1, 1e-6, 1 - 1e-6)\n",
    "\n",
    "    # marginalized probs P(A_ij=1) \n",
    "    mixed_probs = star_probs * obs_probs_k1 + (1 - star_probs) * obs_probs_k0\n",
    "\n",
    "   \n",
    "    with numpyro.plate(\"edges\", data.triu_obs.shape[0]):\n",
    "        \n",
    "        numpyro.sample(\"obs\", dist.BernoulliProbs(mixed_probs), obs=data.triu_obs)\n",
    "\n",
    "    # save posterior A_star probs\n",
    "    # let  p_1 = P(A*_ij=1)*P(A_ij| A*_ij=1)\n",
    "    #      p_0 = P(A*_ij=0 )*P(A_ij| A*_ij=0)\n",
    "    # then posterior probs P(A*_ij | A, \\theta,\\ gamma) = p_1 / (p_1 + p_0)\n",
    "    # numerator aka p_1\n",
    "    numerator = jnp.where(data.triu_obs == 1.0,\n",
    "                            star_probs*obs_probs_k1,\n",
    "                            star_probs*(1-obs_probs_k1))\n",
    "    # denominator aka p_1 + p_0\n",
    "    denominator = numerator + jnp.where(data.triu_obs == 1.0,\n",
    "                                        (1-star_probs)*obs_probs_k0,\n",
    "                                        (1-star_probs)*(1-obs_probs_k0))\n",
    "\n",
    "    numpyro.deterministic(\"triu_star_probs\", numerator / denominator)\n",
    "    "
   ]
  },
  {
   "cell_type": "code",
   "execution_count": null,
   "metadata": {},
   "outputs": [],
   "source": [
    "\n",
    "\n",
    "def marginalized_model_rep(data):\n",
    "    # priors\n",
    "    theta = numpyro.sample(\"theta\", dist.Normal(0, jnp.sqrt(3)).expand([2]))\n",
    "    gamma = numpyro.sample(\"gamma\", dist.Normal(0, jnp.sqrt(3)).expand([7]))\n",
    "\n",
    "    \n",
    "    # P(A*_ij=1)\n",
    "    star_probs = jax.nn.sigmoid(theta[0] + theta[1] * data.x2_or)\n",
    "    star_probs = jnp.clip(star_probs, 1e-6, 1 - 1e-6)\n",
    "\n",
    "    # P(A_ij = 1 | A*_ij = 1)\n",
    "    obs_probs_k1 = jax.nn.sigmoid(gamma[0])\n",
    "    obs_probs_k1 = jnp.clip(obs_probs_k1, 1e-6, 1 - 1e-6)\n",
    "\n",
    "    # P(A_ij = 1 | A*_ij = 0)\n",
    "    obs_probs_k0 = jax.nn.sigmoid(gamma[1] + gamma[2] * data.x_diff)\n",
    "    obs_probs_k0 = jnp.clip(obs_probs_k0, 1e-6, 1 - 1e-6)\n",
    "\n",
    "    # P(A^r_ij=1 | A*_ij=1, A_ij)\n",
    "    obs_rep_probs_k1 = jax.nn.sigmoid(gamma[3] + gamma[4] * data.triu_obs)\n",
    "    obs_rep_probs_k1 = jnp.clip(obs_rep_probs_k1, 1e-6, 1 - 1e-6)\n",
    "\n",
    "    # P(A^r_ij=1 | A*_ij=0, A_ij)\n",
    "    obs_rep_probs_k0 = jax.nn.sigmoid(gamma[5] + gamma[6] * data.triu_obs)\n",
    "    obs_rep_probs_k0 = jnp.clip(obs_rep_probs_k0, 1e-6, 1 - 1e-6)\n",
    "\n",
    "    # compute marginalize probs of (A^_ij=r, A_ij=a), a,r \\in {0,1}\n",
    "    # represent as categorical $C_ij = 2 A_ij + A^r_ij \\in {0,1,2,3}\n",
    "    # Given A*_ij=1\n",
    "    # p(A_ij=r, A^r_ij=a | A*_ij=1)*P(A*_ij=1)\n",
    "    pj_star1_cat0 = star_probs * (1 - obs_probs_k1) * (1 - obs_rep_probs_k1)\n",
    "    pj_star1_cat1 = star_probs * (1 - obs_probs_k1) * obs_rep_probs_k1\n",
    "    pj_star1_cat2 = star_probs * obs_probs_k1 * (1 - obs_rep_probs_k1)\n",
    "    pj_star1_cat3 = star_probs * obs_probs_k1 * obs_rep_probs_k1\n",
    "\n",
    "    # Given A*_ij=0\n",
    "    # p(A_ij=r, A^r_ij=a | A*_ij=0)*P(A*_ij=0)\n",
    "    pj_star0_cat0 = (1 - star_probs) * (1 - obs_probs_k0) * (1 - obs_rep_probs_k0)\n",
    "    pj_star0_cat1 = (1 - star_probs) * (1 - obs_probs_k0) * obs_rep_probs_k0\n",
    "    pj_star0_cat2 = (1 - star_probs) * obs_probs_k0 * (1 - obs_rep_probs_k0)\n",
    "    pj_star0_cat3 = (1 - star_probs) * obs_probs_k0 * obs_rep_probs_k0\n",
    "\n",
    "    # marginalized probs P(C_ij=c) = \\sum_{0,1} p(A_ij=r, A^r_ij=a | A*_ij=k)*P(A*_ij=k)\n",
    "    p_cat0 = pj_star1_cat0 + pj_star0_cat0\n",
    "    p_cat1 = pj_star1_cat1 + pj_star0_cat1\n",
    "    p_cat2 = pj_star1_cat2 + pj_star0_cat2\n",
    "    p_cat3 = pj_star1_cat3 + pj_star0_cat3\n",
    "\n",
    "    probs = jnp.stack([p_cat0, p_cat1, p_cat2, p_cat3], axis=-1)\n",
    "    probs = probs / jnp.sum(probs, axis=-1, keepdims=True)\n",
    "\n",
    "    # observed categorical data\n",
    "    obs_cat = jnp.astype(2 * data.triu_obs + data.triu_obs_rep, jnp.int32)\n",
    "\n",
    "    with numpyro.plate(\"edges\", data.triu_obs.shape[0]):\n",
    "        \n",
    "        numpyro.sample(\"obs_joint\", dist.Categorical(probs=probs), obs=obs_cat)\n",
    "\n",
    "    # --- Compute the posterior probability of A*_ij=1 given the joint observation ---\n",
    "    # Select the appropriate terms based on the observed category\n",
    "    # p_1 = p(C_ij = c | A*_ij = 1)p(A*_ij = 1)\n",
    "    numerator = jnp.where(obs_cat == 0, pj_star1_cat0,\n",
    "                    jnp.where(obs_cat == 1, pj_star1_cat1,\n",
    "                    jnp.where(obs_cat == 2, pj_star1_cat2,\n",
    "                               pj_star1_cat3)))\n",
    "    \n",
    "    # p_0 = p(C_ij = c | A*_ij = 0)p(A*_ij = 0)\n",
    "    # denom is p_0 + p_1\n",
    "    denominator = numerator + jnp.where(obs_cat == 0, pj_star0_cat0,\n",
    "                              jnp.where(obs_cat == 1, pj_star0_cat1,\n",
    "                              jnp.where(obs_cat == 2, pj_star0_cat2, \n",
    "                                        pj_star0_cat3)))\n",
    "    # p_1 / (p_0 + p_1)\n",
    "    posterior_star = numerator / denominator\n",
    "\n",
    "    # Save the posterior probabilities for A* (for example, on the upper triangle of the network)\n",
    "    numpyro.deterministic(\"triu_star_probs\", posterior_star)\n",
    "\n",
    "    "
   ]
  },
  {
   "cell_type": "code",
   "execution_count": 17,
   "metadata": {},
   "outputs": [
    {
     "name": "stderr",
     "output_type": "stream",
     "text": [
      "100%|██████████| 20000/20000 [01:12<00:00, 277.36it/s, init loss: 87700.4453, avg. loss [19001-20000]: 72433.8375]\n"
     ]
    },
    {
     "name": "stdout",
     "output_type": "stream",
     "text": [
      "True theta: [-2.5  1. ] \n",
      " Estimated theta: [-2.9557958  1.3113182] \n",
      " True gamma: [ 1.7346013 -2.1972246  1.5        1.3862945 -1.3862944] \n",
      " Estimated gamma: [ 1.1844003 -1.9900869  1.416337 ] \n",
      "\n"
     ]
    }
   ],
   "source": [
    "# try with SVI\n",
    "\n",
    "init_vals = {\n",
    "    \"theta\": jnp.array([0.0, 0.0]),\n",
    "    \"gamma\": jnp.array([0.0, 0.0, 0.0]),\n",
    "}\n",
    "\n",
    "# guide = AutoLowRankMultivariateNormal(marginalized_model)\n",
    "# guide = AutoDelta(model=marginalized_model,)\n",
    "                #   init_loc_fn=numpyro.infer.init_to_value(values=init_vals))\n",
    "# guide = AutoNormal(marginalized_model)\n",
    "# guide = AutoDelta(marginalized_model)\n",
    "                                                    #    init_loc_fn=numpyro.infer.init_to_value(values=init_vals))\n",
    "guide = numpyro.infer.autoguide.AutoMultivariateNormal(marginalized_model)\n",
    "#                                                        init_loc_fn=numpyro.infer.init_to_value(values=init_vals))\n",
    "# guide = AutoNormal(network_only_models_marginalized,\n",
    "                #    init_loc_fn=numpyro.infer.init_to_median)\n",
    "\n",
    "svi_ = SVI(\n",
    "    # model=network_only_models_marginalized,\n",
    "    model=marginalized_model,\n",
    "    # model=models.networks_marginalized_model,\n",
    "    guide=guide,\n",
    "    # optim=ClippedAdam(0.01),\n",
    "    # optim=ClippedAdam(0.001),\n",
    "    optim=Adam(0.0005),\n",
    "    loss=Trace_ELBO(),\n",
    "    # loss=TraceGraph_ELBO(),\n",
    ")\n",
    "\n",
    "rng_key, _ = random.split(rng_key)\n",
    "\n",
    "# svi_results = svi_.run(random.split(rng_key)[0], 20000, data_sim)\n",
    "svi_results = svi_.run(rng_key=rng_key,\n",
    "                       num_steps=20000,\n",
    "                        progress_bar=True,\n",
    "                         data=data_sim,\n",
    "                         init_params = init_vals)\n",
    "\n",
    "map_params = guide.median(svi_results.params)\n",
    "\n",
    "print(\"True theta:\", THETA, \"\\n\",\n",
    "      \"Estimated theta:\", map_params[\"theta\"], \"\\n\",\n",
    "      \"True gamma:\", cur_gamma, \"\\n\",\n",
    "      \"Estimated gamma:\", map_params[\"gamma\"], \"\\n\",)"
   ]
  },
  {
   "cell_type": "code",
   "execution_count": 18,
   "metadata": {},
   "outputs": [
    {
     "data": {
      "text/plain": [
       "1.7320507764816284"
      ]
     },
     "execution_count": 18,
     "metadata": {},
     "output_type": "execute_result"
    }
   ],
   "source": [
    "jnp.sqrt(3).item()"
   ]
  },
  {
   "cell_type": "code",
   "execution_count": 16,
   "metadata": {},
   "outputs": [
    {
     "data": {
      "text/plain": [
       "(SVIState(optim_state=(Array(1, dtype=int32, weak_type=True), OptimizerState(packed_state=([Array([ 0.39454645, -0.74485165,  1.6458954 , -1.8596164 ,  1.5956382 ],      dtype=float32), Array([1., 1., 1., 1., 1.], dtype=float32), Array([0.1, 0.1, 0.1, 0.1, 0.1], dtype=float32)], [Array([ 9.9999341e-04,  9.9999341e-04,  9.9999341e-04,  9.9999341e-04,\n",
       "         9.9999341e-04, -9.9999341e-04,  9.9999341e-04,  9.9999341e-04,\n",
       "        -9.9999341e-04,  9.9999341e-04, -2.2511687e+00, -2.2511687e+00,\n",
       "        -2.2531686e+00, -2.2511687e+00, -2.2511687e+00], dtype=float32), Array([-1., -1., -1., -1., -1.,  1., -1., -1.,  1., -1., -1., -1.,  1.,\n",
       "        -1., -1.], dtype=float32), Array([0.1, 0.1, 0.1, 0.1, 0.1, 0.1, 0.1, 0.1, 0.1, 0.1, 0.1, 0.1, 0.1,\n",
       "        0.1, 0.1], dtype=float32)]), tree_def=PyTreeDef({'auto_loc': *, 'auto_scale_tril': *}), subtree_defs=(PyTreeDef((*, *, *)), PyTreeDef((*, *, *))))), mutable_state=None, rng_key=Array([ 263962130, 3308724167], dtype=uint32)),\n",
       " Array(90799.42, dtype=float32))"
      ]
     },
     "execution_count": 16,
     "metadata": {},
     "output_type": "execute_result"
    }
   ],
   "source": [
    "init_vals = {\n",
    "    \"theta\": jnp.zeros(2),\n",
    "    \"gamma\": jnp.zeros(3),\n",
    "}\n",
    "init_state = svi_.init(rng_key=rng_key, data=data_sim, init_params = init_vals)\n",
    "\n",
    "# for i in range(10000):\n",
    "cur_state = svi_.update(init_state, data_sim)\n",
    "cur_state"
   ]
  },
  {
   "cell_type": "code",
   "execution_count": 30,
   "metadata": {},
   "outputs": [
    {
     "name": "stdout",
     "output_type": "stream",
     "text": [
      "True theta: [-2.5  1. ] \n",
      " True gamma: [ 1.7346013 -2.1972246  1.5        1.7346013  1.        -1.3862944\n",
      "  1.       ] \n",
      "\n"
     ]
    }
   ],
   "source": [
    "print(\"True theta:\", THETA, \"\\n\",\n",
    "      \"True gamma:\", cur_gamma, \"\\n\",\n",
    ")"
   ]
  },
  {
   "cell_type": "code",
   "execution_count": 34,
   "metadata": {},
   "outputs": [
    {
     "name": "stderr",
     "output_type": "stream",
     "text": [
      "  0%|          | 3/10000 [00:00<14:42, 11.33it/s]"
     ]
    },
    {
     "name": "stdout",
     "output_type": "stream",
     "text": [
      "Iteration 0, Loss: 126240.59375\n",
      "theta = [1.0307595 0.6469284]\n",
      "gamma = [ 1.731013   -0.52178276  1.844863  ]\n"
     ]
    },
    {
     "name": "stderr",
     "output_type": "stream",
     "text": [
      "  1%|          | 103/10000 [00:08<12:44, 12.95it/s]"
     ]
    },
    {
     "name": "stdout",
     "output_type": "stream",
     "text": [
      "Iteration 100, Loss: 95256.96875\n",
      "theta = [0.51815224 0.12170181]\n",
      "gamma = [ 1.2835387 -1.0161921  1.336974 ]\n"
     ]
    },
    {
     "name": "stderr",
     "output_type": "stream",
     "text": [
      "  2%|▏         | 203/10000 [00:16<12:25, 13.15it/s]"
     ]
    },
    {
     "name": "stdout",
     "output_type": "stream",
     "text": [
      "Iteration 200, Loss: 80474.015625\n",
      "theta = [ 0.02714694 -0.34914345]\n",
      "gamma = [ 1.0005112 -1.4235104  0.951174 ]\n"
     ]
    },
    {
     "name": "stderr",
     "output_type": "stream",
     "text": [
      "  3%|▎         | 303/10000 [00:24<12:02, 13.41it/s]"
     ]
    },
    {
     "name": "stdout",
     "output_type": "stream",
     "text": [
      "Iteration 300, Loss: 77964.296875\n",
      "theta = [-0.3269758 -0.5579127]\n",
      "gamma = [ 0.86450523 -1.6455653   0.95301867]\n"
     ]
    },
    {
     "name": "stderr",
     "output_type": "stream",
     "text": [
      "  4%|▍         | 403/10000 [00:32<12:35, 12.71it/s]"
     ]
    },
    {
     "name": "stdout",
     "output_type": "stream",
     "text": [
      "Iteration 400, Loss: 76230.5078125\n",
      "theta = [-0.60518914 -0.62445176]\n",
      "gamma = [ 0.7793808 -1.788106   1.1162024]\n"
     ]
    },
    {
     "name": "stderr",
     "output_type": "stream",
     "text": [
      "  5%|▌         | 503/10000 [00:40<12:48, 12.36it/s]"
     ]
    },
    {
     "name": "stdout",
     "output_type": "stream",
     "text": [
      "Iteration 500, Loss: 74077.78125\n",
      "theta = [-0.83187866 -0.6308637 ]\n",
      "gamma = [ 0.71683574 -1.9137931   1.2645266 ]\n"
     ]
    },
    {
     "name": "stderr",
     "output_type": "stream",
     "text": [
      "  6%|▌         | 602/10000 [00:49<13:52, 11.29it/s]"
     ]
    },
    {
     "name": "stdout",
     "output_type": "stream",
     "text": [
      "Iteration 600, Loss: 73171.703125\n",
      "theta = [-1.0213946 -0.5953087]\n",
      "gamma = [ 0.6689606 -2.0253193  1.3817459]\n"
     ]
    },
    {
     "name": "stderr",
     "output_type": "stream",
     "text": [
      "  7%|▋         | 702/10000 [00:58<12:17, 12.61it/s]"
     ]
    },
    {
     "name": "stdout",
     "output_type": "stream",
     "text": [
      "Iteration 700, Loss: 72624.3828125\n",
      "theta = [-1.1674896  -0.51777565]\n",
      "gamma = [ 0.635479  -2.1115568  1.4839164]\n"
     ]
    },
    {
     "name": "stderr",
     "output_type": "stream",
     "text": [
      "  8%|▊         | 769/10000 [01:04<12:57, 11.87it/s]\n"
     ]
    },
    {
     "ename": "KeyboardInterrupt",
     "evalue": "",
     "output_type": "error",
     "traceback": [
      "\u001b[1;31m---------------------------------------------------------------------------\u001b[0m",
      "\u001b[1;31mKeyboardInterrupt\u001b[0m                         Traceback (most recent call last)",
      "Cell \u001b[1;32mIn[34], line 14\u001b[0m\n\u001b[0;32m     12\u001b[0m \u001b[38;5;66;03m# Manually run the update loop:\u001b[39;00m\n\u001b[0;32m     13\u001b[0m \u001b[38;5;28;01mfor\u001b[39;00m i \u001b[38;5;129;01min\u001b[39;00m tqdm(\u001b[38;5;28mrange\u001b[39m(num_steps)):\n\u001b[1;32m---> 14\u001b[0m     svi_state, loss \u001b[38;5;241m=\u001b[39m \u001b[43msvi_\u001b[49m\u001b[38;5;241;43m.\u001b[39;49m\u001b[43mupdate\u001b[49m\u001b[43m(\u001b[49m\u001b[43msvi_state\u001b[49m\u001b[43m,\u001b[49m\u001b[43m \u001b[49m\u001b[43mdata_sim\u001b[49m\u001b[43m)\u001b[49m\n\u001b[0;32m     15\u001b[0m     losses\u001b[38;5;241m.\u001b[39mappend(loss)\n\u001b[0;32m     16\u001b[0m     \u001b[38;5;28;01mif\u001b[39;00m i \u001b[38;5;241m%\u001b[39m \u001b[38;5;241m100\u001b[39m \u001b[38;5;241m==\u001b[39m \u001b[38;5;241m0\u001b[39m:\n\u001b[0;32m     17\u001b[0m         \u001b[38;5;66;03m# Print the current iteration and loss\u001b[39;00m\n",
      "File \u001b[1;32mc:\\Users\\bar21\\.conda\\envs\\STAT\\Lib\\site-packages\\numpyro\\infer\\svi.py:284\u001b[0m, in \u001b[0;36mSVI.update\u001b[1;34m(self, svi_state, forward_mode_differentiation, *args, **kwargs)\u001b[0m\n\u001b[0;32m    272\u001b[0m rng_key, rng_key_step \u001b[38;5;241m=\u001b[39m random\u001b[38;5;241m.\u001b[39msplit(svi_state\u001b[38;5;241m.\u001b[39mrng_key)\n\u001b[0;32m    273\u001b[0m loss_fn \u001b[38;5;241m=\u001b[39m _make_loss_fn(\n\u001b[0;32m    274\u001b[0m     \u001b[38;5;28mself\u001b[39m\u001b[38;5;241m.\u001b[39mloss,\n\u001b[0;32m    275\u001b[0m     rng_key_step,\n\u001b[1;32m   (...)\u001b[0m\n\u001b[0;32m    282\u001b[0m     mutable_state\u001b[38;5;241m=\u001b[39msvi_state\u001b[38;5;241m.\u001b[39mmutable_state,\n\u001b[0;32m    283\u001b[0m )\n\u001b[1;32m--> 284\u001b[0m (loss_val, mutable_state), optim_state \u001b[38;5;241m=\u001b[39m \u001b[38;5;28;43mself\u001b[39;49m\u001b[38;5;241;43m.\u001b[39;49m\u001b[43moptim\u001b[49m\u001b[38;5;241;43m.\u001b[39;49m\u001b[43meval_and_update\u001b[49m\u001b[43m(\u001b[49m\n\u001b[0;32m    285\u001b[0m \u001b[43m    \u001b[49m\u001b[43mloss_fn\u001b[49m\u001b[43m,\u001b[49m\n\u001b[0;32m    286\u001b[0m \u001b[43m    \u001b[49m\u001b[43msvi_state\u001b[49m\u001b[38;5;241;43m.\u001b[39;49m\u001b[43moptim_state\u001b[49m\u001b[43m,\u001b[49m\n\u001b[0;32m    287\u001b[0m \u001b[43m    \u001b[49m\u001b[43mforward_mode_differentiation\u001b[49m\u001b[38;5;241;43m=\u001b[39;49m\u001b[43mforward_mode_differentiation\u001b[49m\u001b[43m,\u001b[49m\n\u001b[0;32m    288\u001b[0m \u001b[43m\u001b[49m\u001b[43m)\u001b[49m\n\u001b[0;32m    289\u001b[0m \u001b[38;5;28;01mreturn\u001b[39;00m SVIState(optim_state, mutable_state, rng_key), loss_val\n",
      "File \u001b[1;32mc:\\Users\\bar21\\.conda\\envs\\STAT\\Lib\\site-packages\\numpyro\\optim.py:100\u001b[0m, in \u001b[0;36m_NumPyroOptim.eval_and_update\u001b[1;34m(self, fn, state, forward_mode_differentiation)\u001b[0m\n\u001b[0;32m     84\u001b[0m \u001b[38;5;250m\u001b[39m\u001b[38;5;124;03m\"\"\"\u001b[39;00m\n\u001b[0;32m     85\u001b[0m \u001b[38;5;124;03mPerforms an optimization step for the objective function `fn`.\u001b[39;00m\n\u001b[0;32m     86\u001b[0m \u001b[38;5;124;03mFor most optimizers, the update is performed based on the gradient\u001b[39;00m\n\u001b[1;32m   (...)\u001b[0m\n\u001b[0;32m     97\u001b[0m \u001b[38;5;124;03m:return: a pair of the output of objective function and the new optimizer state.\u001b[39;00m\n\u001b[0;32m     98\u001b[0m \u001b[38;5;124;03m\"\"\"\u001b[39;00m\n\u001b[0;32m     99\u001b[0m params \u001b[38;5;241m=\u001b[39m \u001b[38;5;28mself\u001b[39m\u001b[38;5;241m.\u001b[39mget_params(state)\n\u001b[1;32m--> 100\u001b[0m (out, aux), grads \u001b[38;5;241m=\u001b[39m \u001b[43m_value_and_grad\u001b[49m\u001b[43m(\u001b[49m\n\u001b[0;32m    101\u001b[0m \u001b[43m    \u001b[49m\u001b[43mfn\u001b[49m\u001b[43m,\u001b[49m\u001b[43m \u001b[49m\u001b[43mx\u001b[49m\u001b[38;5;241;43m=\u001b[39;49m\u001b[43mparams\u001b[49m\u001b[43m,\u001b[49m\u001b[43m \u001b[49m\u001b[43mforward_mode_differentiation\u001b[49m\u001b[38;5;241;43m=\u001b[39;49m\u001b[43mforward_mode_differentiation\u001b[49m\n\u001b[0;32m    102\u001b[0m \u001b[43m\u001b[49m\u001b[43m)\u001b[49m\n\u001b[0;32m    103\u001b[0m \u001b[38;5;28;01mreturn\u001b[39;00m (out, aux), \u001b[38;5;28mself\u001b[39m\u001b[38;5;241m.\u001b[39mupdate(grads, state)\n",
      "File \u001b[1;32mc:\\Users\\bar21\\.conda\\envs\\STAT\\Lib\\site-packages\\numpyro\\optim.py:49\u001b[0m, in \u001b[0;36m_value_and_grad\u001b[1;34m(f, x, forward_mode_differentiation)\u001b[0m\n\u001b[0;32m     47\u001b[0m     \u001b[38;5;28;01mreturn\u001b[39;00m (out, aux), grads\n\u001b[0;32m     48\u001b[0m \u001b[38;5;28;01melse\u001b[39;00m:\n\u001b[1;32m---> 49\u001b[0m     \u001b[38;5;28;01mreturn\u001b[39;00m \u001b[43mvalue_and_grad\u001b[49m\u001b[43m(\u001b[49m\u001b[43mf\u001b[49m\u001b[43m,\u001b[49m\u001b[43m \u001b[49m\u001b[43mhas_aux\u001b[49m\u001b[38;5;241;43m=\u001b[39;49m\u001b[38;5;28;43;01mTrue\u001b[39;49;00m\u001b[43m)\u001b[49m\u001b[43m(\u001b[49m\u001b[43mx\u001b[49m\u001b[43m)\u001b[49m\n",
      "    \u001b[1;31m[... skipping hidden 1 frame]\u001b[0m\n",
      "File \u001b[1;32mc:\\Users\\bar21\\.conda\\envs\\STAT\\Lib\\site-packages\\jax\\_src\\api.py:697\u001b[0m, in \u001b[0;36mvalue_and_grad.<locals>.value_and_grad_f\u001b[1;34m(*args, **kwargs)\u001b[0m\n\u001b[0;32m    695\u001b[0m _check_scalar(ans)\n\u001b[0;32m    696\u001b[0m tree_map(partial(_check_output_dtype_grad, holomorphic), ans)\n\u001b[1;32m--> 697\u001b[0m g \u001b[38;5;241m=\u001b[39m \u001b[43mvjp_py\u001b[49m\u001b[43m(\u001b[49m\u001b[43mlax_internal\u001b[49m\u001b[38;5;241;43m.\u001b[39;49m\u001b[43m_one\u001b[49m\u001b[43m(\u001b[49m\u001b[43mans\u001b[49m\u001b[43m)\u001b[49m\u001b[43m)\u001b[49m\n\u001b[0;32m    698\u001b[0m g \u001b[38;5;241m=\u001b[39m g[\u001b[38;5;241m0\u001b[39m] \u001b[38;5;28;01mif\u001b[39;00m \u001b[38;5;28misinstance\u001b[39m(argnums, \u001b[38;5;28mint\u001b[39m) \u001b[38;5;28;01melse\u001b[39;00m g\n\u001b[0;32m    699\u001b[0m \u001b[38;5;28;01mif\u001b[39;00m \u001b[38;5;129;01mnot\u001b[39;00m has_aux:\n",
      "File \u001b[1;32mc:\\Users\\bar21\\.conda\\envs\\STAT\\Lib\\site-packages\\jax\\_src\\tree_util.py:484\u001b[0m, in \u001b[0;36m_HashableCallableShim.__call__\u001b[1;34m(self, *args, **kw)\u001b[0m\n\u001b[0;32m    483\u001b[0m \u001b[38;5;28;01mdef\u001b[39;00m \u001b[38;5;21m__call__\u001b[39m(\u001b[38;5;28mself\u001b[39m, \u001b[38;5;241m*\u001b[39margs, \u001b[38;5;241m*\u001b[39m\u001b[38;5;241m*\u001b[39mkw):\n\u001b[1;32m--> 484\u001b[0m   \u001b[38;5;28;01mreturn\u001b[39;00m \u001b[38;5;28;43mself\u001b[39;49m\u001b[38;5;241;43m.\u001b[39;49m\u001b[43mfun\u001b[49m\u001b[43m(\u001b[49m\u001b[38;5;241;43m*\u001b[39;49m\u001b[43margs\u001b[49m\u001b[43m,\u001b[49m\u001b[43m \u001b[49m\u001b[38;5;241;43m*\u001b[39;49m\u001b[38;5;241;43m*\u001b[39;49m\u001b[43mkw\u001b[49m\u001b[43m)\u001b[49m\n",
      "File \u001b[1;32mc:\\Users\\bar21\\.conda\\envs\\STAT\\Lib\\site-packages\\jax\\_src\\api.py:2108\u001b[0m, in \u001b[0;36m_vjp_pullback_wrapper\u001b[1;34m(name, cotangent_dtypes, cotangent_shapes, io_tree, fun, *py_args_)\u001b[0m\n\u001b[0;32m   2103\u001b[0m   \u001b[38;5;28;01mif\u001b[39;00m np\u001b[38;5;241m.\u001b[39mshape(arg) \u001b[38;5;241m!=\u001b[39m ct_shape:\n\u001b[0;32m   2104\u001b[0m     \u001b[38;5;28;01mraise\u001b[39;00m \u001b[38;5;167;01mValueError\u001b[39;00m(\n\u001b[0;32m   2105\u001b[0m         \u001b[38;5;124mf\u001b[39m\u001b[38;5;124m\"\u001b[39m\u001b[38;5;124mShape of cotangent input to vjp pullback function \u001b[39m\u001b[38;5;132;01m{\u001b[39;00mnp\u001b[38;5;241m.\u001b[39mshape(arg)\u001b[38;5;132;01m}\u001b[39;00m\u001b[38;5;124m \u001b[39m\u001b[38;5;124m\"\u001b[39m\n\u001b[0;32m   2106\u001b[0m         \u001b[38;5;124m\"\u001b[39m\u001b[38;5;124mmust be the same as the shape of corresponding primal input \u001b[39m\u001b[38;5;124m\"\u001b[39m\n\u001b[0;32m   2107\u001b[0m         \u001b[38;5;124mf\u001b[39m\u001b[38;5;124m\"\u001b[39m\u001b[38;5;132;01m{\u001b[39;00mct_shape\u001b[38;5;132;01m}\u001b[39;00m\u001b[38;5;124m.\u001b[39m\u001b[38;5;124m\"\u001b[39m)\n\u001b[1;32m-> 2108\u001b[0m ans \u001b[38;5;241m=\u001b[39m \u001b[43mfun\u001b[49m\u001b[43m(\u001b[49m\u001b[38;5;241;43m*\u001b[39;49m\u001b[43margs\u001b[49m\u001b[43m)\u001b[49m\n\u001b[0;32m   2109\u001b[0m \u001b[38;5;28;01mreturn\u001b[39;00m tree_unflatten(out_tree, ans)\n",
      "File \u001b[1;32mc:\\Users\\bar21\\.conda\\envs\\STAT\\Lib\\site-packages\\jax\\_src\\tree_util.py:484\u001b[0m, in \u001b[0;36m_HashableCallableShim.__call__\u001b[1;34m(self, *args, **kw)\u001b[0m\n\u001b[0;32m    483\u001b[0m \u001b[38;5;28;01mdef\u001b[39;00m \u001b[38;5;21m__call__\u001b[39m(\u001b[38;5;28mself\u001b[39m, \u001b[38;5;241m*\u001b[39margs, \u001b[38;5;241m*\u001b[39m\u001b[38;5;241m*\u001b[39mkw):\n\u001b[1;32m--> 484\u001b[0m   \u001b[38;5;28;01mreturn\u001b[39;00m \u001b[38;5;28;43mself\u001b[39;49m\u001b[38;5;241;43m.\u001b[39;49m\u001b[43mfun\u001b[49m\u001b[43m(\u001b[49m\u001b[38;5;241;43m*\u001b[39;49m\u001b[43margs\u001b[49m\u001b[43m,\u001b[49m\u001b[43m \u001b[49m\u001b[38;5;241;43m*\u001b[39;49m\u001b[38;5;241;43m*\u001b[39;49m\u001b[43mkw\u001b[49m\u001b[43m)\u001b[49m\n",
      "File \u001b[1;32mc:\\Users\\bar21\\.conda\\envs\\STAT\\Lib\\site-packages\\jax\\_src\\interpreters\\ad.py:150\u001b[0m, in \u001b[0;36mvjp.<locals>.unbound_vjp\u001b[1;34m(pvals, jaxpr, consts, *cts)\u001b[0m\n\u001b[0;32m    148\u001b[0m cts \u001b[38;5;241m=\u001b[39m \u001b[38;5;28mtuple\u001b[39m(ct \u001b[38;5;28;01mfor\u001b[39;00m ct, pval \u001b[38;5;129;01min\u001b[39;00m \u001b[38;5;28mzip\u001b[39m(cts, pvals) \u001b[38;5;28;01mif\u001b[39;00m \u001b[38;5;129;01mnot\u001b[39;00m pval\u001b[38;5;241m.\u001b[39mis_known())\n\u001b[0;32m    149\u001b[0m dummy_args \u001b[38;5;241m=\u001b[39m [UndefinedPrimal(v\u001b[38;5;241m.\u001b[39maval) \u001b[38;5;28;01mfor\u001b[39;00m v \u001b[38;5;129;01min\u001b[39;00m jaxpr\u001b[38;5;241m.\u001b[39minvars]\n\u001b[1;32m--> 150\u001b[0m arg_cts \u001b[38;5;241m=\u001b[39m \u001b[43mbackward_pass\u001b[49m\u001b[43m(\u001b[49m\u001b[43mjaxpr\u001b[49m\u001b[43m,\u001b[49m\u001b[43m \u001b[49m\u001b[38;5;28;43;01mTrue\u001b[39;49;00m\u001b[43m,\u001b[49m\u001b[43m \u001b[49m\u001b[43mconsts\u001b[49m\u001b[43m,\u001b[49m\u001b[43m \u001b[49m\u001b[43mdummy_args\u001b[49m\u001b[43m,\u001b[49m\u001b[43m \u001b[49m\u001b[43mcts\u001b[49m\u001b[43m)\u001b[49m\n\u001b[0;32m    151\u001b[0m \u001b[38;5;28;01mreturn\u001b[39;00m \u001b[38;5;28mmap\u001b[39m(instantiate_zeros, arg_cts)\n",
      "File \u001b[1;32mc:\\Users\\bar21\\.conda\\envs\\STAT\\Lib\\site-packages\\jax\\_src\\interpreters\\ad.py:249\u001b[0m, in \u001b[0;36mbackward_pass\u001b[1;34m(jaxpr, transform_stack, consts, primals_in, cotangents_in)\u001b[0m\n\u001b[0;32m    246\u001b[0m   cts_out \u001b[38;5;241m=\u001b[39m get_primitive_transpose(eqn\u001b[38;5;241m.\u001b[39mprimitive)(\n\u001b[0;32m    247\u001b[0m       params, call_jaxpr, invals, cts_in, cts_in_avals)\n\u001b[0;32m    248\u001b[0m \u001b[38;5;28;01melif\u001b[39;00m eqn\u001b[38;5;241m.\u001b[39mprimitive \u001b[38;5;129;01min\u001b[39;00m reducing_transposes:\n\u001b[1;32m--> 249\u001b[0m   cts_out \u001b[38;5;241m=\u001b[39m \u001b[43mreducing_transposes\u001b[49m\u001b[43m[\u001b[49m\u001b[43meqn\u001b[49m\u001b[38;5;241;43m.\u001b[39;49m\u001b[43mprimitive\u001b[49m\u001b[43m]\u001b[49m\u001b[43m(\u001b[49m\n\u001b[0;32m    250\u001b[0m \u001b[43m      \u001b[49m\u001b[43mcts_in\u001b[49m\u001b[43m,\u001b[49m\u001b[43m \u001b[49m\u001b[38;5;241;43m*\u001b[39;49m\u001b[43minvals\u001b[49m\u001b[43m,\u001b[49m\u001b[43m \u001b[49m\u001b[38;5;241;43m*\u001b[39;49m\u001b[38;5;241;43m*\u001b[39;49m\u001b[43meqn\u001b[49m\u001b[38;5;241;43m.\u001b[39;49m\u001b[43mparams\u001b[49m\u001b[43m)\u001b[49m\n\u001b[0;32m    251\u001b[0m \u001b[38;5;28;01melse\u001b[39;00m:\n\u001b[0;32m    252\u001b[0m   cts_out \u001b[38;5;241m=\u001b[39m get_primitive_transpose(eqn\u001b[38;5;241m.\u001b[39mprimitive)(\n\u001b[0;32m    253\u001b[0m       cts_in, \u001b[38;5;241m*\u001b[39minvals, \u001b[38;5;241m*\u001b[39m\u001b[38;5;241m*\u001b[39meqn\u001b[38;5;241m.\u001b[39mparams)\n",
      "File \u001b[1;32mc:\\Users\\bar21\\.conda\\envs\\STAT\\Lib\\site-packages\\jax\\_src\\pjit.py:2067\u001b[0m, in \u001b[0;36m_pjit_transpose\u001b[1;34m(cts_in, jaxpr, in_shardings, out_shardings, in_layouts, out_layouts, resource_env, donated_invars, name, keep_unused, inline, *primals_in)\u001b[0m\n\u001b[0;32m   2064\u001b[0m   transpose_in_layouts \u001b[38;5;241m=\u001b[39m (\u001b[38;5;28;01mNone\u001b[39;00m,) \u001b[38;5;241m*\u001b[39m \u001b[38;5;28mlen\u001b[39m(attrs_tracked) \u001b[38;5;241m+\u001b[39m transpose_in_layouts\n\u001b[0;32m   2065\u001b[0m   transpose_out_layouts \u001b[38;5;241m=\u001b[39m (\u001b[38;5;28;01mNone\u001b[39;00m,) \u001b[38;5;241m*\u001b[39m \u001b[38;5;28mlen\u001b[39m(attrs_tracked) \u001b[38;5;241m+\u001b[39m transpose_out_layouts\n\u001b[1;32m-> 2067\u001b[0m nz_cts_out \u001b[38;5;241m=\u001b[39m \u001b[43mpjit_p\u001b[49m\u001b[38;5;241;43m.\u001b[39;49m\u001b[43mbind\u001b[49m\u001b[43m(\u001b[49m\n\u001b[0;32m   2068\u001b[0m \u001b[43m    \u001b[49m\u001b[38;5;241;43m*\u001b[39;49m\u001b[43mprimals_and_nz_cts_in\u001b[49m\u001b[43m,\u001b[49m\n\u001b[0;32m   2069\u001b[0m \u001b[43m    \u001b[49m\u001b[43mjaxpr\u001b[49m\u001b[38;5;241;43m=\u001b[39;49m\u001b[43mtranspose_jaxpr\u001b[49m\u001b[43m,\u001b[49m\n\u001b[0;32m   2070\u001b[0m \u001b[43m    \u001b[49m\u001b[43min_shardings\u001b[49m\u001b[38;5;241;43m=\u001b[39;49m\u001b[43mtranspose_in_shardings\u001b[49m\u001b[43m,\u001b[49m\n\u001b[0;32m   2071\u001b[0m \u001b[43m    \u001b[49m\u001b[43mout_shardings\u001b[49m\u001b[38;5;241;43m=\u001b[39;49m\u001b[43mtranspose_out_shardings\u001b[49m\u001b[43m,\u001b[49m\n\u001b[0;32m   2072\u001b[0m \u001b[43m    \u001b[49m\u001b[43min_layouts\u001b[49m\u001b[38;5;241;43m=\u001b[39;49m\u001b[43mtranspose_in_layouts\u001b[49m\u001b[43m,\u001b[49m\n\u001b[0;32m   2073\u001b[0m \u001b[43m    \u001b[49m\u001b[43mout_layouts\u001b[49m\u001b[38;5;241;43m=\u001b[39;49m\u001b[43mtranspose_out_layouts\u001b[49m\u001b[43m,\u001b[49m\n\u001b[0;32m   2074\u001b[0m \u001b[43m    \u001b[49m\u001b[43mresource_env\u001b[49m\u001b[38;5;241;43m=\u001b[39;49m\u001b[43mresource_env\u001b[49m\u001b[43m,\u001b[49m\n\u001b[0;32m   2075\u001b[0m \u001b[43m    \u001b[49m\u001b[43mdonated_invars\u001b[49m\u001b[38;5;241;43m=\u001b[39;49m\u001b[43m(\u001b[49m\u001b[38;5;28;43;01mFalse\u001b[39;49;00m\u001b[43m,\u001b[49m\u001b[43m)\u001b[49m\u001b[43m \u001b[49m\u001b[38;5;241;43m*\u001b[39;49m\u001b[43m \u001b[49m\u001b[38;5;28;43mlen\u001b[39;49m\u001b[43m(\u001b[49m\u001b[43mprimals_and_nz_cts_in\u001b[49m\u001b[43m)\u001b[49m\u001b[43m,\u001b[49m\n\u001b[0;32m   2076\u001b[0m \u001b[43m    \u001b[49m\u001b[43mname\u001b[49m\u001b[38;5;241;43m=\u001b[39;49m\u001b[43mname\u001b[49m\u001b[43m,\u001b[49m\n\u001b[0;32m   2077\u001b[0m \u001b[43m    \u001b[49m\u001b[43mkeep_unused\u001b[49m\u001b[38;5;241;43m=\u001b[39;49m\u001b[43mkeep_unused\u001b[49m\u001b[43m,\u001b[49m\n\u001b[0;32m   2078\u001b[0m \u001b[43m    \u001b[49m\u001b[43minline\u001b[49m\u001b[38;5;241;43m=\u001b[39;49m\u001b[43minline\u001b[49m\u001b[43m)\u001b[49m\n\u001b[0;32m   2080\u001b[0m \u001b[38;5;28;01mif\u001b[39;00m attrs_tracked:\n\u001b[0;32m   2081\u001b[0m   final_states, nz_cts_out \u001b[38;5;241m=\u001b[39m split_list(nz_cts_out, [\u001b[38;5;28mlen\u001b[39m(init_states)])\n",
      "File \u001b[1;32mc:\\Users\\bar21\\.conda\\envs\\STAT\\Lib\\site-packages\\jax\\_src\\core.py:2789\u001b[0m, in \u001b[0;36mAxisPrimitive.bind\u001b[1;34m(self, *args, **params)\u001b[0m\n\u001b[0;32m   2785\u001b[0m axis_main \u001b[38;5;241m=\u001b[39m \u001b[38;5;28mmax\u001b[39m((axis_frame(a)\u001b[38;5;241m.\u001b[39mmain_trace \u001b[38;5;28;01mfor\u001b[39;00m a \u001b[38;5;129;01min\u001b[39;00m used_axis_names(\u001b[38;5;28mself\u001b[39m, params)),\n\u001b[0;32m   2786\u001b[0m                 default\u001b[38;5;241m=\u001b[39m\u001b[38;5;28;01mNone\u001b[39;00m, key\u001b[38;5;241m=\u001b[39m\u001b[38;5;28;01mlambda\u001b[39;00m t: \u001b[38;5;28mgetattr\u001b[39m(t, \u001b[38;5;124m'\u001b[39m\u001b[38;5;124mlevel\u001b[39m\u001b[38;5;124m'\u001b[39m, \u001b[38;5;241m-\u001b[39m\u001b[38;5;241m1\u001b[39m))\n\u001b[0;32m   2787\u001b[0m top_trace \u001b[38;5;241m=\u001b[39m (top_trace \u001b[38;5;28;01mif\u001b[39;00m \u001b[38;5;129;01mnot\u001b[39;00m axis_main \u001b[38;5;129;01mor\u001b[39;00m axis_main\u001b[38;5;241m.\u001b[39mlevel \u001b[38;5;241m<\u001b[39m top_trace\u001b[38;5;241m.\u001b[39mlevel\n\u001b[0;32m   2788\u001b[0m              \u001b[38;5;28;01melse\u001b[39;00m axis_main\u001b[38;5;241m.\u001b[39mwith_cur_sublevel())\n\u001b[1;32m-> 2789\u001b[0m \u001b[38;5;28;01mreturn\u001b[39;00m \u001b[38;5;28;43mself\u001b[39;49m\u001b[38;5;241;43m.\u001b[39;49m\u001b[43mbind_with_trace\u001b[49m\u001b[43m(\u001b[49m\u001b[43mtop_trace\u001b[49m\u001b[43m,\u001b[49m\u001b[43m \u001b[49m\u001b[43margs\u001b[49m\u001b[43m,\u001b[49m\u001b[43m \u001b[49m\u001b[43mparams\u001b[49m\u001b[43m)\u001b[49m\n",
      "File \u001b[1;32mc:\\Users\\bar21\\.conda\\envs\\STAT\\Lib\\site-packages\\jax\\_src\\core.py:391\u001b[0m, in \u001b[0;36mPrimitive.bind_with_trace\u001b[1;34m(self, trace, args, params)\u001b[0m\n\u001b[0;32m    389\u001b[0m \u001b[38;5;28;01mdef\u001b[39;00m \u001b[38;5;21mbind_with_trace\u001b[39m(\u001b[38;5;28mself\u001b[39m, trace, args, params):\n\u001b[0;32m    390\u001b[0m   \u001b[38;5;28;01mwith\u001b[39;00m pop_level(trace\u001b[38;5;241m.\u001b[39mlevel):\n\u001b[1;32m--> 391\u001b[0m     out \u001b[38;5;241m=\u001b[39m \u001b[43mtrace\u001b[49m\u001b[38;5;241;43m.\u001b[39;49m\u001b[43mprocess_primitive\u001b[49m\u001b[43m(\u001b[49m\u001b[38;5;28;43mself\u001b[39;49m\u001b[43m,\u001b[49m\u001b[43m \u001b[49m\u001b[38;5;28;43mmap\u001b[39;49m\u001b[43m(\u001b[49m\u001b[43mtrace\u001b[49m\u001b[38;5;241;43m.\u001b[39;49m\u001b[43mfull_raise\u001b[49m\u001b[43m,\u001b[49m\u001b[43m \u001b[49m\u001b[43margs\u001b[49m\u001b[43m)\u001b[49m\u001b[43m,\u001b[49m\u001b[43m \u001b[49m\u001b[43mparams\u001b[49m\u001b[43m)\u001b[49m\n\u001b[0;32m    392\u001b[0m   \u001b[38;5;28;01mreturn\u001b[39;00m \u001b[38;5;28mmap\u001b[39m(full_lower, out) \u001b[38;5;28;01mif\u001b[39;00m \u001b[38;5;28mself\u001b[39m\u001b[38;5;241m.\u001b[39mmultiple_results \u001b[38;5;28;01melse\u001b[39;00m full_lower(out)\n",
      "File \u001b[1;32mc:\\Users\\bar21\\.conda\\envs\\STAT\\Lib\\site-packages\\jax\\_src\\core.py:879\u001b[0m, in \u001b[0;36mEvalTrace.process_primitive\u001b[1;34m(self, primitive, tracers, params)\u001b[0m\n\u001b[0;32m    877\u001b[0m   \u001b[38;5;28;01mreturn\u001b[39;00m call_impl_with_key_reuse_checks(primitive, primitive\u001b[38;5;241m.\u001b[39mimpl, \u001b[38;5;241m*\u001b[39mtracers, \u001b[38;5;241m*\u001b[39m\u001b[38;5;241m*\u001b[39mparams)\n\u001b[0;32m    878\u001b[0m \u001b[38;5;28;01melse\u001b[39;00m:\n\u001b[1;32m--> 879\u001b[0m   \u001b[38;5;28;01mreturn\u001b[39;00m \u001b[43mprimitive\u001b[49m\u001b[38;5;241;43m.\u001b[39;49m\u001b[43mimpl\u001b[49m\u001b[43m(\u001b[49m\u001b[38;5;241;43m*\u001b[39;49m\u001b[43mtracers\u001b[49m\u001b[43m,\u001b[49m\u001b[43m \u001b[49m\u001b[38;5;241;43m*\u001b[39;49m\u001b[38;5;241;43m*\u001b[39;49m\u001b[43mparams\u001b[49m\u001b[43m)\u001b[49m\n",
      "File \u001b[1;32mc:\\Users\\bar21\\.conda\\envs\\STAT\\Lib\\site-packages\\jax\\_src\\pjit.py:1525\u001b[0m, in \u001b[0;36m_pjit_call_impl\u001b[1;34m(jaxpr, in_shardings, out_shardings, in_layouts, out_layouts, resource_env, donated_invars, name, keep_unused, inline, *args)\u001b[0m\n\u001b[0;32m   1522\u001b[0m donated_argnums \u001b[38;5;241m=\u001b[39m [i \u001b[38;5;28;01mfor\u001b[39;00m i, d \u001b[38;5;129;01min\u001b[39;00m \u001b[38;5;28menumerate\u001b[39m(donated_invars) \u001b[38;5;28;01mif\u001b[39;00m d]\n\u001b[0;32m   1523\u001b[0m has_explicit_sharding \u001b[38;5;241m=\u001b[39m _pjit_explicit_sharding(\n\u001b[0;32m   1524\u001b[0m     in_shardings, out_shardings, \u001b[38;5;28;01mNone\u001b[39;00m, \u001b[38;5;28;01mNone\u001b[39;00m)\n\u001b[1;32m-> 1525\u001b[0m \u001b[38;5;28;01mreturn\u001b[39;00m \u001b[43mxc\u001b[49m\u001b[38;5;241;43m.\u001b[39;49m\u001b[43m_xla\u001b[49m\u001b[38;5;241;43m.\u001b[39;49m\u001b[43mpjit\u001b[49m\u001b[43m(\u001b[49m\n\u001b[0;32m   1526\u001b[0m \u001b[43m    \u001b[49m\u001b[43mname\u001b[49m\u001b[43m,\u001b[49m\u001b[43m \u001b[49m\u001b[43mf\u001b[49m\u001b[43m,\u001b[49m\u001b[43m \u001b[49m\u001b[43mcall_impl_cache_miss\u001b[49m\u001b[43m,\u001b[49m\u001b[43m \u001b[49m\u001b[43m[\u001b[49m\u001b[43m]\u001b[49m\u001b[43m,\u001b[49m\u001b[43m \u001b[49m\u001b[43m[\u001b[49m\u001b[43m]\u001b[49m\u001b[43m,\u001b[49m\u001b[43m \u001b[49m\u001b[43mdonated_argnums\u001b[49m\u001b[43m,\u001b[49m\n\u001b[0;32m   1527\u001b[0m \u001b[43m    \u001b[49m\u001b[43mtree_util\u001b[49m\u001b[38;5;241;43m.\u001b[39;49m\u001b[43mdispatch_registry\u001b[49m\u001b[43m,\u001b[49m\n\u001b[0;32m   1528\u001b[0m \u001b[43m    \u001b[49m\u001b[43mpxla\u001b[49m\u001b[38;5;241;43m.\u001b[39;49m\u001b[43mshard_arg\u001b[49m\u001b[43m,\u001b[49m\u001b[43m  \u001b[49m\u001b[38;5;66;43;03m# type: ignore\u001b[39;49;00m\n\u001b[0;32m   1529\u001b[0m \u001b[43m    \u001b[49m\u001b[43m_get_cpp_global_cache\u001b[49m\u001b[43m(\u001b[49m\u001b[43mhas_explicit_sharding\u001b[49m\u001b[43m)\u001b[49m\u001b[43m)\u001b[49m\u001b[43m(\u001b[49m\u001b[38;5;241;43m*\u001b[39;49m\u001b[43margs\u001b[49m\u001b[43m)\u001b[49m\n",
      "\u001b[1;31mKeyboardInterrupt\u001b[0m: "
     ]
    }
   ],
   "source": [
    "from tqdm import tqdm\n",
    "# Initialize SVI state\n",
    "rng_key,_ = random.split(rng_key)\n",
    "svi_state = svi_.init(rng_key=rng_key, data=data_sim, init_params=init_vals)\n",
    "\n",
    "# Set the number of iterations\n",
    "num_steps = 10000\n",
    "\n",
    "# To store losses\n",
    "losses = []\n",
    "\n",
    "# Manually run the update loop:\n",
    "for i in tqdm(range(num_steps)):\n",
    "    svi_state, loss = svi_.update(svi_state, data_sim)\n",
    "    losses.append(loss)\n",
    "    if i % 100 == 0:\n",
    "        # Print the current iteration and loss\n",
    "        print(f\"Iteration {i}, Loss: {loss}\")\n",
    "        # Optionally, retrieve the current parameters\n",
    "        params = svi_.get_params(svi_state)\n",
    "        # For instance, print the current value of theta:\n",
    "        print(\"theta =\", params[\"auto_loc\"][:2])\n",
    "        print(\"gamma =\", params[\"auto_loc\"][2:])\n",
    "\n",
    "# At the end, get the final parameters:\n",
    "final_params = svi_.get_params(svi_state)\n",
    "final_loss = losses[-1]\n",
    "\n",
    "print(\"Final loss:\", final_loss)\n",
    "print(\"Final parameters:\", final_params)"
   ]
  },
  {
   "cell_type": "code",
   "execution_count": 98,
   "metadata": {},
   "outputs": [
    {
     "name": "stdout",
     "output_type": "stream",
     "text": [
      "Svi results params: {'auto_loc': Array([-2.3962345,  0.9599379,  1.3139628, -3.0365777,  1.8050609],      dtype=float32), 'auto_scale_tril': Array([[ 0.05070011,  0.        ,  0.        ,  0.        ,  0.        ],\n",
      "       [-0.02148013,  0.04366014,  0.        ,  0.        ,  0.        ],\n",
      "       [-0.07323761, -0.07047011,  0.10591384,  0.        ,  0.        ],\n",
      "       [-0.01523986,  0.00190011, -0.01312462,  0.02245687,  0.        ],\n",
      "       [ 0.00879166,  0.00152184,  0.00101022, -0.01334072,  0.00704952]],      dtype=float32)}\n",
      "Theta mean: [-2.394582    0.95810837] \n",
      " Gamma mean: [ 1.3149179 -3.0373456  1.8053232]\n"
     ]
    }
   ],
   "source": [
    "print(\"Svi results params:\", svi_results.params)\n",
    "post_dist = guide.get_posterior(svi_results.params)\n",
    "rng_key, _ = random.split(rng_key)\n",
    "post_samps = post_dist.sample(rng_key, (5000,))\n",
    "theta_mean = post_samps[:,0:2].mean(axis=0)\n",
    "gamma_mean = post_samps[:,2:].mean(axis=0)\n",
    "print(\"Theta mean:\", theta_mean, \"\\n\",\n",
    "        \"Gamma mean:\", gamma_mean)\n"
   ]
  },
  {
   "cell_type": "code",
   "execution_count": 100,
   "metadata": {},
   "outputs": [
    {
     "name": "stdout",
     "output_type": "stream",
     "text": [
      "(124750,)\n",
      "rmse expos: 0.46438292\n"
     ]
    },
    {
     "data": {
      "image/png": "[encoded data removed]",
      "text/plain": [
       "<Figure size 640x480 with 1 Axes>"
      ]
     },
     "metadata": {},
     "output_type": "display_data"
    }
   ],
   "source": [
    "import src.MWG_sampler as mwg\n",
    "import matplotlib.pyplot as plt\n",
    "\n",
    "\n",
    "rng_key, _ = random.split(rng_key)\n",
    "pred = Predictive(model=marginalized_model,\n",
    "                  guide=guide,\n",
    "                  params = svi_results.params,\n",
    "                    num_samples=1)(\n",
    "                        rng_key, data_sim)[\"triu_star_probs\"][0]\n",
    "post_probs = pred\n",
    "print(pred.shape)\n",
    "\n",
    "\n",
    "post_triu_star = mwg.sample_posterior_triu_star(rng_key, post_probs)\n",
    "\n",
    "post_expos = utils.vmap_compute_exposures(post_triu_star, data_sim.Z)\n",
    "\n",
    "post_expos_mean = post_expos.mean(axis=0)\n",
    "\n",
    "plt.scatter(post_expos_mean, data_sim.true_exposures, alpha=0.5)\n",
    "\n",
    "print(\"rmse expos:\", jnp.sqrt(jnp.mean((post_expos_mean - data_sim.true_exposures)**2)))"
   ]
  },
  {
   "cell_type": "code",
   "execution_count": 47,
   "metadata": {},
   "outputs": [
    {
     "name": "stdout",
     "output_type": "stream",
     "text": [
      "Gamma shape: 7\n"
     ]
    }
   ],
   "source": [
    "import numpyro\n",
    "import numpyro.handlers as handlers\n",
    "import jax.numpy as jnp\n",
    "\n",
    "def get_param_shape(model, data, param_name):\n",
    "    # Use a dummy random key\n",
    "    rng_key = jax.random.PRNGKey(0)\n",
    "    # Run the model under a trace handler to record sample sites.\n",
    "    tr = handlers.trace(handlers.seed(model, rng_key)).get_trace(data)\n",
    "    return tr[param_name][\"value\"].shape\n",
    "\n",
    "# Example usage:\n",
    "# Assuming 'data' is an instance of your DataTuple with proper attributes.\n",
    "# gamma_shape = get_param_shape(models.networks_marginalized_model, data_sim, \"gamma\")\n",
    "gamma_shape = get_param_shape(models.networks_marginalized_model_rep, data_sim, \"gamma\")\n",
    "print(\"Gamma shape:\", gamma_shape[0])"
   ]
  },
  {
   "cell_type": "code",
   "execution_count": 11,
   "metadata": {},
   "outputs": [
    {
     "data": {
      "application/vnd.jupyter.widget-view+json": {
       "model_id": "5a96091ac4484c908f043b38b1814b33",
       "version_major": 2,
       "version_minor": 0
      },
      "text/plain": [
       "  0%|          | 0/2000 [00:00<?, ?it/s]"
      ]
     },
     "metadata": {},
     "output_type": "display_data"
    },
    {
     "data": {
      "application/vnd.jupyter.widget-view+json": {
       "model_id": "c3979e53c8874a97bd9745582b1bca6c",
       "version_major": 2,
       "version_minor": 0
      },
      "text/plain": [
       "  0%|          | 0/2000 [00:00<?, ?it/s]"
      ]
     },
     "metadata": {},
     "output_type": "display_data"
    },
    {
     "name": "stdout",
     "output_type": "stream",
     "text": [
      "\n",
      "                mean       std    median      5.0%     95.0%     n_eff     r_hat\n",
      "  gamma[0]      0.81      0.17      0.80      0.53      1.07    593.71      1.01\n",
      "  gamma[1]     -2.95      0.08     -2.95     -3.09     -2.83    463.77      1.01\n",
      "  gamma[2]      1.28      0.04      1.28      1.22      1.34    451.88      1.01\n",
      "  theta[0]     -1.82      0.10     -1.81     -1.99     -1.65    431.03      1.01\n",
      "  theta[1]      1.09      0.05      1.09      1.02      1.18    804.55      1.00\n",
      "\n",
      "Number of divergences: 0\n",
      "true theta [-2  1] \n",
      " true gamma [ 1.3862945 -2.944439   1.25       1.3862945  1.        -1.734601\n",
      "  1.       ]\n"
     ]
    }
   ],
   "source": [
    "# with hmc\n",
    "\n",
    "nuts_kernel = NUTS(marginalized_model)\n",
    "\n",
    "mcmc = MCMC(nuts_kernel, num_warmup=1000, num_samples=1000, num_chains=2)\n",
    "mcmc.run(random.split(rng_key)[1], data_sim)\n",
    "\n",
    "mcmc.print_summary()\n",
    "\n",
    "print(\"true theta\", THETA, \"\\n\",\n",
    "      \"true gamma\", cur_gamma)\n"
   ]
  },
  {
   "cell_type": "code",
   "execution_count": 16,
   "metadata": {},
   "outputs": [
    {
     "name": "stdout",
     "output_type": "stream",
     "text": [
      "{'theta': Array([[-1.8216484,  1.0910296]], dtype=float32), 'gamma': Array([[ 0.81281996, -2.9549124 ,  1.2764446 ]], dtype=float32)}\n",
      "(124750,)\n"
     ]
    }
   ],
   "source": [
    "post_samples = mcmc.get_samples()\n",
    "post_theta, post_gamma = post_samples[\"theta\"].mean(axis=0), post_samples[\"gamma\"].mean(axis=0)\n",
    "post_means = {\n",
    "    \"theta\": post_theta[None,:],\n",
    "    \"gamma\": post_gamma[None,:],\n",
    "}\n",
    "\n",
    "print(post_means)\n",
    "\n",
    "pred = Predictive(model=marginalized_model,\n",
    "                  posterior_samples=post_means,\n",
    "                    num_samples=1,\n",
    "                    return_sites=[\"triu_star_probs\"])(\n",
    "                        random.PRNGKey(0), data_sim)[\"triu_star_probs\"][0]\n",
    "post_probs = pred\n",
    "print(pred.shape)\n",
    "\n",
    "# post_probs = pred[\"triu_star_probs\"][0]\n",
    "\n",
    "# print(post_probs.mean(), post_probs.shape)"
   ]
  },
  {
   "cell_type": "code",
   "execution_count": 120,
   "metadata": {},
   "outputs": [
    {
     "name": "stdout",
     "output_type": "stream",
     "text": [
      "rmse expos: 0.4646143\n"
     ]
    },
    {
     "data": {
      "image/png": "[encoded data removed]",
      "text/plain": [
       "<Figure size 640x480 with 1 Axes>"
      ]
     },
     "metadata": {},
     "output_type": "display_data"
    }
   ],
   "source": [
    "import src.MWG_sampler as mwg\n",
    "import matplotlib.pyplot as plt\n",
    "\n",
    "post_triu_star = mwg.sample_posterior_triu_star(rng_key, post_probs, num_samples=5000)\n",
    "\n",
    "post_expos = utils.vmap_compute_exposures(post_triu_star, data_sim.Z)\n",
    "\n",
    "post_expos_mean = post_expos.mean(axis=0)\n",
    "\n",
    "plt.scatter(post_expos_mean, data_sim.true_exposures, alpha=0.5)\n",
    "\n",
    "print(\"rmse expos:\", jnp.sqrt(jnp.mean((post_expos_mean - data_sim.true_exposures)**2)))"
   ]
  },
  {
   "cell_type": "code",
   "execution_count": 121,
   "metadata": {},
   "outputs": [
    {
     "name": "stdout",
     "output_type": "stream",
     "text": [
      "rmse mean expos and true expos: 0.4646143 \n",
      " rmse best expos and true expos: 0.64997256\n"
     ]
    }
   ],
   "source": [
    "triu_star_logpost = models.compute_log_posterior_vmap(post_triu_star, theta_mean, gamma_mean, data_sim)\n",
    "best_idx = jnp.argmax(triu_star_logpost)\n",
    "\n",
    "best_triu_star = post_triu_star[best_idx]\n",
    "\n",
    "best_expos = utils.compute_exposures(best_triu_star, data_sim.Z)\n",
    "\n",
    "print(\"rmse mean expos and true expos:\", jnp.sqrt(jnp.mean((post_expos_mean - data_sim.true_exposures)**2)), \"\\n\",\n",
    "      \"rmse best expos and true expos:\", jnp.sqrt(jnp.mean((best_expos - data_sim.true_exposures)**2)))"
   ]
  },
  {
   "cell_type": "code",
   "execution_count": 14,
   "metadata": {},
   "outputs": [
    {
     "name": "stderr",
     "output_type": "stream",
     "text": [
      "100%|██████████| 15000/15000 [03:05<00:00, 80.76it/s, init loss: 189443.2969, avg. loss [14251-15000]: 143708.8010]\n"
     ]
    },
    {
     "name": "stdout",
     "output_type": "stream",
     "text": [
      "True theta: [-2.5  1. ] \n",
      " Estimated theta: [-1.5640228  -0.80484843] \n",
      " True gamma: [ 1.7346013 -2.1972246  1.5        1.3862945 -1.3862944] \n",
      " Estimated gamma: [-2.2012653  -1.6850394   1.5385445  -2.3896785  -0.89677334] \n",
      "\n"
     ]
    }
   ],
   "source": [
    "# SVI to repeated measures\n",
    "\n",
    "init_vals_rep = {\n",
    "    \"theta\": jnp.zeros(2),\n",
    "    # \"gamma\": jnp.zeros(7),\n",
    "    \"gamma\": jnp.zeros(5),\n",
    "}\n",
    "\n",
    "guide_rep = numpyro.infer.autoguide.AutoMultivariateNormal(marginalized_model_rep)\n",
    "\n",
    "svi_rep = SVI(\n",
    "    model=marginalized_model_rep,\n",
    "    # model=models.networks_marginalized_model_rep,\n",
    "    guide=guide_rep,\n",
    "    optim=Adam(0.0005),\n",
    "    # optim=ClippedAdam(0.001),\n",
    "    loss=Trace_ELBO(),\n",
    ")\n",
    "\n",
    "rng_key, _ = random.split(rng_key) \n",
    "svi_results_rep = svi_rep.run(rng_key=rng_key, \n",
    "                              num_steps=15000,\n",
    "                              progress_bar = True, \n",
    "                              data=data_sim,\n",
    "                              init_params=init_vals_rep)\n",
    "\n",
    "map_params_rep = guide_rep.median(svi_results_rep.params)\n",
    "\n",
    "print(\"True theta:\", THETA, \"\\n\",\n",
    "        \"Estimated theta:\", map_params_rep[\"theta\"], \"\\n\",\n",
    "        \"True gamma:\", cur_gamma, \"\\n\",\n",
    "        \"Estimated gamma:\", map_params_rep[\"gamma\"], \"\\n\",)"
   ]
  },
  {
   "cell_type": "code",
   "execution_count": 123,
   "metadata": {},
   "outputs": [
    {
     "name": "stdout",
     "output_type": "stream",
     "text": [
      "(124750,)\n",
      "rmse expos: 0.40983808\n"
     ]
    },
    {
     "data": {
      "image/png": "[encoded data removed]",
      "text/plain": [
       "<Figure size 640x480 with 1 Axes>"
      ]
     },
     "metadata": {},
     "output_type": "display_data"
    }
   ],
   "source": [
    "rng_key, _ = random.split(rng_key)\n",
    "pred_rep = Predictive(model=marginalized_model_rep,\n",
    "                  guide=guide_rep,\n",
    "                  params = svi_results_rep.params,\n",
    "                    num_samples=1)(\n",
    "                        rng_key, data_sim)[\"triu_star_probs\"][0]\n",
    "post_probs_rep = pred_rep\n",
    "print(pred_rep.shape)\n",
    "\n",
    "rng_key, _ = random.split(rng_key)\n",
    "post_triu_star_rep = mwg.sample_posterior_triu_star(rng_key, post_probs_rep)\n",
    "\n",
    "post_expos_rep = utils.vmap_compute_exposures(post_triu_star_rep, data_sim.Z)\n",
    "\n",
    "post_expos_mean_rep = post_expos_rep.mean(axis=0)\n",
    "\n",
    "plt.scatter(post_expos_mean_rep, data_sim.true_exposures, alpha=0.5)\n",
    "\n",
    "print(\"rmse expos:\", jnp.sqrt(jnp.mean((post_expos_mean_rep - data_sim.true_exposures)**2)))"
   ]
  },
  {
   "cell_type": "code",
   "execution_count": 20,
   "metadata": {},
   "outputs": [
    {
     "data": {
      "application/vnd.jupyter.widget-view+json": {
       "model_id": "151fd4b0f2174d58bae68f6f5ee49e9e",
       "version_major": 2,
       "version_minor": 0
      },
      "text/plain": [
       "  0%|          | 0/2000 [00:00<?, ?it/s]"
      ]
     },
     "metadata": {},
     "output_type": "display_data"
    },
    {
     "data": {
      "application/vnd.jupyter.widget-view+json": {
       "model_id": "0b787159cc10470b93f28ad7a62ae4c2",
       "version_major": 2,
       "version_minor": 0
      },
      "text/plain": [
       "  0%|          | 0/2000 [00:00<?, ?it/s]"
      ]
     },
     "metadata": {},
     "output_type": "display_data"
    },
    {
     "name": "stdout",
     "output_type": "stream",
     "text": [
      "\n",
      "                mean       std    median      5.0%     95.0%     n_eff     r_hat\n",
      "  gamma[0]      1.04      0.23      1.00      0.67      1.42    355.86      1.00\n",
      "  gamma[1]     -2.90      0.05     -2.90     -2.98     -2.82    581.87      1.01\n",
      "  gamma[2]      1.24      0.03      1.24      1.20      1.28    485.36      1.01\n",
      "  gamma[3]      0.68      1.08      0.39     -0.30      1.51    209.35      1.00\n",
      "  gamma[4]      1.75      0.99      1.99      1.10      2.70    214.25      1.01\n",
      "  gamma[5]     -1.74      0.02     -1.74     -1.78     -1.71   1061.57      1.00\n",
      "  gamma[6]      1.04      0.04      1.04      0.98      1.09    955.52      1.00\n",
      "  theta[0]     -1.94      0.09     -1.94     -2.10     -1.79    374.10      1.00\n",
      "  theta[1]      1.08      0.03      1.08      1.02      1.14    693.51      1.00\n",
      "\n",
      "Number of divergences: 0\n",
      "true theta [-2  1] \n",
      " true gamma [ 1.3862945 -2.944439   1.25       1.3862945  1.        -1.734601\n",
      "  1.       ]\n"
     ]
    }
   ],
   "source": [
    "# with hmc\n",
    "\n",
    "nuts_kernel_rep = NUTS(marginalized_model_rep)\n",
    "\n",
    "mcmc_rep = MCMC(nuts_kernel_rep, num_warmup=1000, num_samples=1000, num_chains=2)\n",
    "mcmc_rep.run(random.split(rng_key)[0], data_sim)\n",
    "\n",
    "mcmc_rep.print_summary()\n",
    "\n",
    "print(\"true theta\", THETA, \"\\n\",\n",
    "      \"true gamma\", cur_gamma)\n"
   ]
  },
  {
   "cell_type": "code",
   "execution_count": 21,
   "metadata": {},
   "outputs": [
    {
     "name": "stdout",
     "output_type": "stream",
     "text": [
      "{'theta': Array([[-1.9429432,  1.0814283]], dtype=float32), 'gamma': Array([[ 1.0389366 , -2.8958557 ,  1.2404262 ,  0.67951983,  1.7450302 ,\n",
      "        -1.7401551 ,  1.036875  ]], dtype=float32)}\n",
      "(124750,)\n"
     ]
    }
   ],
   "source": [
    "post_samples = mcmc_rep.get_samples()\n",
    "post_theta, post_gamma = post_samples[\"theta\"].mean(axis=0), post_samples[\"gamma\"].mean(axis=0)\n",
    "post_means = {\n",
    "    \"theta\": post_theta[None,:],\n",
    "    \"gamma\": post_gamma[None,:],\n",
    "}\n",
    "\n",
    "print(post_means)\n",
    "\n",
    "pred = Predictive(model=marginalized_model_rep,\n",
    "                  posterior_samples=post_means,\n",
    "                    num_samples=1,\n",
    "                    return_sites=[\"triu_star_probs\"])(\n",
    "                        random.PRNGKey(0), data_sim)[\"triu_star_probs\"][0]\n",
    "post_probs = pred\n",
    "print(pred.shape)"
   ]
  },
  {
   "cell_type": "code",
   "execution_count": 22,
   "metadata": {},
   "outputs": [
    {
     "name": "stdout",
     "output_type": "stream",
     "text": [
      "rmse expos: 1.0735581\n"
     ]
    },
    {
     "data": {
      "image/png": "[encoded data removed]",
      "text/plain": [
       "<Figure size 640x480 with 1 Axes>"
      ]
     },
     "metadata": {},
     "output_type": "display_data"
    }
   ],
   "source": [
    "post_triu_star = mwg.sample_posterior_triu_star(rng_key, post_probs)\n",
    "\n",
    "post_expos = utils.vmap_compute_exposures(post_triu_star, data_sim.Z)\n",
    "\n",
    "post_expos_mean = post_expos.mean(axis=0)\n",
    "\n",
    "plt.scatter(post_expos_mean, data_sim.true_exposures, alpha=0.5)\n",
    "\n",
    "print(\"rmse expos:\", jnp.sqrt(jnp.mean((post_expos_mean - data_sim.true_exposures)**2)))"
   ]
  },
  {
   "cell_type": "code",
   "execution_count": 19,
   "metadata": {},
   "outputs": [],
   "source": [
    "\n",
    "def network_mixture_model(data):\n",
    "    \"\"\"\n",
    "    Model that embeds the likelihood in a mixture distribution.\n",
    "\n",
    "    Args:\n",
    "      data: an object with attributes:\n",
    "           - x_diff: a 1D array (one per edge) of differences in covariates,\n",
    "           - x2_or: a 1D array of indicators (one per edge) for whether x2_i + x2_j = 1,\n",
    "           - triu_obs: a 1D array of observed edge indicators (binary; one per edge).\n",
    "    \"\"\"\n",
    "    # --- Priors ---\n",
    "    # theta: parameters for the latent network A*\n",
    "    theta = numpyro.sample(\"theta\", dist.Normal(0, 3).expand([2]))\n",
    "    # gamma: parameters for the edge likelihood given A*\n",
    "    gamma = numpyro.sample(\"gamma\", dist.Normal(0, 3).expand([3]))\n",
    "\n",
    "    # --- Latent network A* prior embedded in the mixture weights ---\n",
    "    # Compute the logits for the latent A* for each edge.\n",
    "    star_logits = theta[0] + theta[1] * data.x2_or\n",
    "    star_logits = jnp.clip(star_logits, -20, 20)  # avoid overflow\n",
    "    # Prior probability for A* = 1:\n",
    "    prior_Astar_1 = jax.nn.sigmoid(star_logits)\n",
    "    # Mixture probabilities: first component corresponds to A* = 0, second to A* = 1.\n",
    "    mix_probs = jnp.stack([1 - prior_Astar_1, prior_Astar_1], axis=-1)\n",
    "\n",
    "    # # The probability that A* = 1 is sigmoid(star_logits)\n",
    "    # # Create a 2-element vector of mixture weights for each edge:\n",
    "    # # component 0 (A* = 0) gets weight 1 - sigmoid(star_logits)\n",
    "    # # component 1 (A* = 1) gets weight sigmoid(star_logits)\n",
    "    # mix_probs = jnp.stack([1 - jax.nn.sigmoid(star_logits),\n",
    "    #                        jax.nn.sigmoid(star_logits)], axis=-1)\n",
    "\n",
    "    # --- Likelihood for A given A* ---\n",
    "    # When A* = 0, we use a logistic regression with linear predictor:\n",
    "    obs_logits_k0 = gamma[1] + gamma[2] * data.x_diff\n",
    "    obs_logits_k0 = jnp.clip(obs_logits_k0, -20, 20)  # avoid overflow\n",
    "\n",
    "    # When A* = 1, the likelihood is given by a fixed Bernoulli with logit gamma[0].\n",
    "    comp_logits = jnp.stack([obs_logits_k0,\n",
    "                             gamma[0] * jnp.ones_like(obs_logits_k0)], axis=-1)\n",
    "\n",
    "    # --- Define the mixture distribution ---\n",
    "    # The mixture is over two Bernoulli components.\n",
    "    mixture_dist = dist.MixtureSameFamily(\n",
    "        # The categorical mixing distribution with probabilities given per edge.\n",
    "        mixing_distribution=dist.Categorical(probs=mix_probs),\n",
    "        # The two components: Bernoulli with logits defined in comp_logits.\n",
    "        component_distribution=dist.Bernoulli(logits=comp_logits)\n",
    "    )\n",
    "\n",
    "    # --- Observation ---\n",
    "    # Each edge is conditionally independent.\n",
    "    with numpyro.plate(\"edges\", data.triu_obs.shape[0]):\n",
    "        numpyro.sample(\"obs\", mixture_dist, obs=data.triu_obs)\n",
    "\n",
    "    # --- Compute the posterior probabilities for A* ---\n",
    "    # Compute the log-likelihoods for each component for each edge.\n",
    "    # For component 0 (A* = 0):\n",
    "    log_lik_0 = data.triu_obs * obs_logits_k0 - jax.nn.softplus(obs_logits_k0)\n",
    "    # For component 1 (A* = 1):\n",
    "    log_lik_1 = data.triu_obs * gamma[0] - jax.nn.softplus(gamma[0])\n",
    "    \n",
    "    # Incorporate the log prior probabilities:\n",
    "    log_prior_0 = jnp.log(1 - prior_Astar_1)\n",
    "    log_prior_1 = jnp.log(prior_Astar_1)\n",
    "    \n",
    "    log_joint_0 = log_prior_0 + log_lik_0\n",
    "    log_joint_1 = log_prior_1 + log_lik_1\n",
    "    \n",
    "    # Normalizing constant per edge:\n",
    "    log_norm = jnp.logaddexp(log_joint_0, log_joint_1)\n",
    "    # Posterior probability for A* = 1:\n",
    "    astar_probs = jnp.exp(log_joint_1 - log_norm)\n",
    "    \n",
    "    # Return as a deterministic output (for each edge)\n",
    "    numpyro.deterministic(\"triu_star_probs\", astar_probs)\n"
   ]
  },
  {
   "cell_type": "code",
   "execution_count": 20,
   "metadata": {},
   "outputs": [
    {
     "name": "stderr",
     "output_type": "stream",
     "text": [
      "100%|██████████| 10000/10000 [01:51<00:00, 89.74it/s, init loss: 99731.1875, avg. loss [9501-10000]: 76585.8731]\n"
     ]
    },
    {
     "name": "stdout",
     "output_type": "stream",
     "text": [
      "True theta: [-2  1] \n",
      " Estimated theta: [-2.216671  1.095719] \n",
      " True gamma: [ 1.7346013 -1.734601   0.4      ] \n",
      " Estimated gamma: [ 1.6451411  -1.5856683   0.36345416] \n",
      "\n"
     ]
    }
   ],
   "source": [
    "\n",
    "# --- Compile the model ---\n",
    "\n",
    "# guide = AutoDelta(network_only_models_marginalized)\n",
    "# guide = AutoDAIS(network_mixture_model)\n",
    "guide = AutoDelta(network_mixture_model)\n",
    "# guide = AutoNormal(network_mixture_model)\n",
    "# guide = AutoNormal(network_only_models_marginalized,\n",
    "                #    init_loc_fn=numpyro.infer.init_to_median)\n",
    "\n",
    "svi_ = SVI(\n",
    "    # model=network_only_models_marginalized,\n",
    "    model=network_mixture_model,\n",
    "    guide=guide,\n",
    "    # optim=ClippedAdam(0.01),\n",
    "    optim=ClippedAdam(0.001),\n",
    "    loss=Trace_ELBO(),\n",
    "    # loss=TraceGraph_ELBO(),\n",
    ")\n",
    "\n",
    "svi_results = svi_.run(random.split(rng_key)[0], 10000, data_sim)\n",
    "\n",
    "map_params = guide.median(svi_results.params)\n",
    "\n",
    "print(\"True theta:\", THETA, \"\\n\",\n",
    "      \"Estimated theta:\", map_params[\"theta\"], \"\\n\",\n",
    "      \"True gamma:\", GAMMA, \"\\n\",\n",
    "      \"Estimated gamma:\", map_params[\"gamma\"], \"\\n\",)"
   ]
  },
  {
   "cell_type": "code",
   "execution_count": 27,
   "metadata": {},
   "outputs": [],
   "source": [
    "TRIU_DIM = N * (N - 1) // 2\n",
    "\n",
    "@config_enumerate  # This enables automatic enumeration of discrete latent variables.\n",
    "def model_enumerated(data):\n",
    "    \"\"\"\n",
    "    Model with explicit enumeration of discrete latent variable A*.\n",
    "    \n",
    "    Args:\n",
    "        data: An object with attributes:\n",
    "              - x_diff: (num_edges,) covariate differences per edge.\n",
    "              - x2_or: (num_edges,) indicator for x2_i + x2_j == 1.\n",
    "              - triu_obs: (num_edges,) observed binary outcomes.\n",
    "              - num_edges: integer number of edges.\n",
    "    \"\"\"\n",
    "    # Priors for continuous parameters.\n",
    "    with numpyro.plate(\"theta_plate\", 2):\n",
    "        theta = numpyro.sample(\"theta\", dist.Normal(0, 3))\n",
    "\n",
    "    with numpyro.plate(\"gamma_plate\", 3):\n",
    "        gamma = numpyro.sample(\"gamma\", dist.Normal(0, 3))\n",
    "    # theta = numpyro.sample(\"theta\", dist.Normal(0, 3).expand([2]))\n",
    "    # gamma = numpyro.sample(\"gamma\", dist.Normal(0, 3).expand([3]))\n",
    "\n",
    "\n",
    "    # Compute logits for the latent variable A*\n",
    "    star_logits = theta[0] + theta[1] * data.x2_or\n",
    "\n",
    "    # Use a plate to vectorize over edges.\n",
    "    with numpyro.plate(\"triu_vals\", size=TRIU_DIM):\n",
    "        # Sample A_star (latent binary variable) and enumerate it.\n",
    "        A_star = numpyro.sample(\n",
    "            \"A_star\",\n",
    "            dist.Bernoulli(logits=star_logits),\n",
    "            infer={'enumerate': 'parallel'}  # Enables automatic marginalization.\n",
    "        )\n",
    "\n",
    "        # Define the observation likelihood:\n",
    "        # If A_star == 1: use gamma[0] (true positives)\n",
    "        # If A_star == 0: use gamma[1] + gamma[2] * x_diff (false positives)\n",
    "        obs_logits = jnp.where(A_star, gamma[0], gamma[1] + gamma[2] * data.x_diff)\n",
    "\n",
    "        # Observations\n",
    "        numpyro.sample(\"obs\", dist.Bernoulli(logits=obs_logits), obs=data.triu_obs)\n"
   ]
  },
  {
   "cell_type": "code",
   "execution_count": 39,
   "metadata": {},
   "outputs": [
    {
     "ename": "AssertionError",
     "evalue": "",
     "output_type": "error",
     "traceback": [
      "\u001b[1;31m---------------------------------------------------------------------------\u001b[0m",
      "\u001b[1;31mAssertionError\u001b[0m                            Traceback (most recent call last)",
      "Cell \u001b[1;32mIn[39], line 34\u001b[0m\n\u001b[0;32m     32\u001b[0m \u001b[38;5;66;03m# Assume data_sim is your data object with the required attributes.\u001b[39;00m\n\u001b[0;32m     33\u001b[0m rng_key \u001b[38;5;241m=\u001b[39m jax\u001b[38;5;241m.\u001b[39mrandom\u001b[38;5;241m.\u001b[39mPRNGKey(\u001b[38;5;241m0\u001b[39m)\n\u001b[1;32m---> 34\u001b[0m svi_result \u001b[38;5;241m=\u001b[39m \u001b[43msvi\u001b[49m\u001b[38;5;241;43m.\u001b[39;49m\u001b[43mrun\u001b[49m\u001b[43m(\u001b[49m\u001b[43mrng_key\u001b[49m\u001b[43m,\u001b[49m\u001b[43m \u001b[49m\u001b[43mnum_steps\u001b[49m\u001b[38;5;241;43m=\u001b[39;49m\u001b[38;5;241;43m10000\u001b[39;49m\u001b[43m,\u001b[49m\u001b[43m \u001b[49m\u001b[43mdata\u001b[49m\u001b[38;5;241;43m=\u001b[39;49m\u001b[43mdata_sim\u001b[49m\u001b[43m)\u001b[49m\n\u001b[0;32m     36\u001b[0m \u001b[38;5;66;03m# You can extract the learned parameters and monitor the ELBO:\u001b[39;00m\n\u001b[0;32m     37\u001b[0m params \u001b[38;5;241m=\u001b[39m svi_result\u001b[38;5;241m.\u001b[39mparams\n",
      "File \u001b[1;32mc:\\Users\\bar21\\.conda\\envs\\STAT\\Lib\\site-packages\\numpyro\\infer\\svi.py:401\u001b[0m, in \u001b[0;36mSVI.run\u001b[1;34m(self, rng_key, num_steps, progress_bar, stable_update, forward_mode_differentiation, init_state, init_params, *args, **kwargs)\u001b[0m\n\u001b[0;32m    398\u001b[0m     \u001b[38;5;28;01mreturn\u001b[39;00m svi_state, loss\n\u001b[0;32m    400\u001b[0m \u001b[38;5;28;01mif\u001b[39;00m init_state \u001b[38;5;129;01mis\u001b[39;00m \u001b[38;5;28;01mNone\u001b[39;00m:\n\u001b[1;32m--> 401\u001b[0m     svi_state \u001b[38;5;241m=\u001b[39m \u001b[38;5;28;43mself\u001b[39;49m\u001b[38;5;241;43m.\u001b[39;49m\u001b[43minit\u001b[49m\u001b[43m(\u001b[49m\u001b[43mrng_key\u001b[49m\u001b[43m,\u001b[49m\u001b[43m \u001b[49m\u001b[38;5;241;43m*\u001b[39;49m\u001b[43margs\u001b[49m\u001b[43m,\u001b[49m\u001b[43m \u001b[49m\u001b[43minit_params\u001b[49m\u001b[38;5;241;43m=\u001b[39;49m\u001b[43minit_params\u001b[49m\u001b[43m,\u001b[49m\u001b[43m \u001b[49m\u001b[38;5;241;43m*\u001b[39;49m\u001b[38;5;241;43m*\u001b[39;49m\u001b[43mkwargs\u001b[49m\u001b[43m)\u001b[49m\n\u001b[0;32m    402\u001b[0m \u001b[38;5;28;01melse\u001b[39;00m:\n\u001b[0;32m    403\u001b[0m     svi_state \u001b[38;5;241m=\u001b[39m init_state\n",
      "File \u001b[1;32mc:\\Users\\bar21\\.conda\\envs\\STAT\\Lib\\site-packages\\numpyro\\infer\\svi.py:184\u001b[0m, in \u001b[0;36mSVI.init\u001b[1;34m(self, rng_key, init_params, *args, **kwargs)\u001b[0m\n\u001b[0;32m    182\u001b[0m \u001b[38;5;28;01mif\u001b[39;00m init_params \u001b[38;5;129;01mis\u001b[39;00m \u001b[38;5;129;01mnot\u001b[39;00m \u001b[38;5;28;01mNone\u001b[39;00m:\n\u001b[0;32m    183\u001b[0m     guide_init \u001b[38;5;241m=\u001b[39m substitute(guide_init, init_params)\n\u001b[1;32m--> 184\u001b[0m guide_trace \u001b[38;5;241m=\u001b[39m \u001b[43mtrace\u001b[49m\u001b[43m(\u001b[49m\u001b[43mguide_init\u001b[49m\u001b[43m)\u001b[49m\u001b[38;5;241;43m.\u001b[39;49m\u001b[43mget_trace\u001b[49m\u001b[43m(\u001b[49m\u001b[38;5;241;43m*\u001b[39;49m\u001b[43margs\u001b[49m\u001b[43m,\u001b[49m\u001b[43m \u001b[49m\u001b[38;5;241;43m*\u001b[39;49m\u001b[38;5;241;43m*\u001b[39;49m\u001b[43mkwargs\u001b[49m\u001b[43m,\u001b[49m\u001b[43m \u001b[49m\u001b[38;5;241;43m*\u001b[39;49m\u001b[38;5;241;43m*\u001b[39;49m\u001b[38;5;28;43mself\u001b[39;49m\u001b[38;5;241;43m.\u001b[39;49m\u001b[43mstatic_kwargs\u001b[49m\u001b[43m)\u001b[49m\n\u001b[0;32m    185\u001b[0m init_guide_params \u001b[38;5;241m=\u001b[39m {\n\u001b[0;32m    186\u001b[0m     name: site[\u001b[38;5;124m\"\u001b[39m\u001b[38;5;124mvalue\u001b[39m\u001b[38;5;124m\"\u001b[39m]\n\u001b[0;32m    187\u001b[0m     \u001b[38;5;28;01mfor\u001b[39;00m name, site \u001b[38;5;129;01min\u001b[39;00m guide_trace\u001b[38;5;241m.\u001b[39mitems()\n\u001b[0;32m    188\u001b[0m     \u001b[38;5;28;01mif\u001b[39;00m site[\u001b[38;5;124m\"\u001b[39m\u001b[38;5;124mtype\u001b[39m\u001b[38;5;124m\"\u001b[39m] \u001b[38;5;241m==\u001b[39m \u001b[38;5;124m\"\u001b[39m\u001b[38;5;124mparam\u001b[39m\u001b[38;5;124m\"\u001b[39m\n\u001b[0;32m    189\u001b[0m }\n\u001b[0;32m    190\u001b[0m \u001b[38;5;28;01mif\u001b[39;00m init_params \u001b[38;5;129;01mis\u001b[39;00m \u001b[38;5;129;01mnot\u001b[39;00m \u001b[38;5;28;01mNone\u001b[39;00m:\n",
      "File \u001b[1;32mc:\\Users\\bar21\\.conda\\envs\\STAT\\Lib\\site-packages\\numpyro\\handlers.py:186\u001b[0m, in \u001b[0;36mtrace.get_trace\u001b[1;34m(self, *args, **kwargs)\u001b[0m\n\u001b[0;32m    178\u001b[0m \u001b[38;5;28;01mdef\u001b[39;00m \u001b[38;5;21mget_trace\u001b[39m(\u001b[38;5;28mself\u001b[39m, \u001b[38;5;241m*\u001b[39margs, \u001b[38;5;241m*\u001b[39m\u001b[38;5;241m*\u001b[39mkwargs):\n\u001b[0;32m    179\u001b[0m \u001b[38;5;250m    \u001b[39m\u001b[38;5;124;03m\"\"\"\u001b[39;00m\n\u001b[0;32m    180\u001b[0m \u001b[38;5;124;03m    Run the wrapped callable and return the recorded trace.\u001b[39;00m\n\u001b[0;32m    181\u001b[0m \n\u001b[1;32m   (...)\u001b[0m\n\u001b[0;32m    184\u001b[0m \u001b[38;5;124;03m    :return: `OrderedDict` containing the execution trace.\u001b[39;00m\n\u001b[0;32m    185\u001b[0m \u001b[38;5;124;03m    \"\"\"\u001b[39;00m\n\u001b[1;32m--> 186\u001b[0m     \u001b[38;5;28;43mself\u001b[39;49m\u001b[43m(\u001b[49m\u001b[38;5;241;43m*\u001b[39;49m\u001b[43margs\u001b[49m\u001b[43m,\u001b[49m\u001b[43m \u001b[49m\u001b[38;5;241;43m*\u001b[39;49m\u001b[38;5;241;43m*\u001b[39;49m\u001b[43mkwargs\u001b[49m\u001b[43m)\u001b[49m\n\u001b[0;32m    187\u001b[0m     \u001b[38;5;28;01mreturn\u001b[39;00m \u001b[38;5;28mself\u001b[39m\u001b[38;5;241m.\u001b[39mtrace\n",
      "File \u001b[1;32mc:\\Users\\bar21\\.conda\\envs\\STAT\\Lib\\site-packages\\numpyro\\primitives.py:105\u001b[0m, in \u001b[0;36mMessenger.__call__\u001b[1;34m(self, *args, **kwargs)\u001b[0m\n\u001b[0;32m    103\u001b[0m     \u001b[38;5;28;01mreturn\u001b[39;00m \u001b[38;5;28mself\u001b[39m\n\u001b[0;32m    104\u001b[0m \u001b[38;5;28;01mwith\u001b[39;00m \u001b[38;5;28mself\u001b[39m:\n\u001b[1;32m--> 105\u001b[0m     \u001b[38;5;28;01mreturn\u001b[39;00m \u001b[38;5;28;43mself\u001b[39;49m\u001b[38;5;241;43m.\u001b[39;49m\u001b[43mfn\u001b[49m\u001b[43m(\u001b[49m\u001b[38;5;241;43m*\u001b[39;49m\u001b[43margs\u001b[49m\u001b[43m,\u001b[49m\u001b[43m \u001b[49m\u001b[38;5;241;43m*\u001b[39;49m\u001b[38;5;241;43m*\u001b[39;49m\u001b[43mkwargs\u001b[49m\u001b[43m)\u001b[49m\n",
      "File \u001b[1;32mc:\\Users\\bar21\\.conda\\envs\\STAT\\Lib\\site-packages\\numpyro\\primitives.py:105\u001b[0m, in \u001b[0;36mMessenger.__call__\u001b[1;34m(self, *args, **kwargs)\u001b[0m\n\u001b[0;32m    103\u001b[0m     \u001b[38;5;28;01mreturn\u001b[39;00m \u001b[38;5;28mself\u001b[39m\n\u001b[0;32m    104\u001b[0m \u001b[38;5;28;01mwith\u001b[39;00m \u001b[38;5;28mself\u001b[39m:\n\u001b[1;32m--> 105\u001b[0m     \u001b[38;5;28;01mreturn\u001b[39;00m \u001b[38;5;28;43mself\u001b[39;49m\u001b[38;5;241;43m.\u001b[39;49m\u001b[43mfn\u001b[49m\u001b[43m(\u001b[49m\u001b[38;5;241;43m*\u001b[39;49m\u001b[43margs\u001b[49m\u001b[43m,\u001b[49m\u001b[43m \u001b[49m\u001b[38;5;241;43m*\u001b[39;49m\u001b[38;5;241;43m*\u001b[39;49m\u001b[43mkwargs\u001b[49m\u001b[43m)\u001b[49m\n",
      "File \u001b[1;32mc:\\Users\\bar21\\.conda\\envs\\STAT\\Lib\\site-packages\\numpyro\\infer\\autoguide.py:706\u001b[0m, in \u001b[0;36mAutoContinuous.__call__\u001b[1;34m(self, *args, **kwargs)\u001b[0m\n\u001b[0;32m    703\u001b[0m \u001b[38;5;28;01mdef\u001b[39;00m \u001b[38;5;21m__call__\u001b[39m(\u001b[38;5;28mself\u001b[39m, \u001b[38;5;241m*\u001b[39margs, \u001b[38;5;241m*\u001b[39m\u001b[38;5;241m*\u001b[39mkwargs):\n\u001b[0;32m    704\u001b[0m     \u001b[38;5;28;01mif\u001b[39;00m \u001b[38;5;28mself\u001b[39m\u001b[38;5;241m.\u001b[39mprototype_trace \u001b[38;5;129;01mis\u001b[39;00m \u001b[38;5;28;01mNone\u001b[39;00m:\n\u001b[0;32m    705\u001b[0m         \u001b[38;5;66;03m# run model to inspect the model structure\u001b[39;00m\n\u001b[1;32m--> 706\u001b[0m         \u001b[38;5;28;43mself\u001b[39;49m\u001b[38;5;241;43m.\u001b[39;49m\u001b[43m_setup_prototype\u001b[49m\u001b[43m(\u001b[49m\u001b[38;5;241;43m*\u001b[39;49m\u001b[43margs\u001b[49m\u001b[43m,\u001b[49m\u001b[43m \u001b[49m\u001b[38;5;241;43m*\u001b[39;49m\u001b[38;5;241;43m*\u001b[39;49m\u001b[43mkwargs\u001b[49m\u001b[43m)\u001b[49m\n\u001b[0;32m    708\u001b[0m     latent \u001b[38;5;241m=\u001b[39m \u001b[38;5;28mself\u001b[39m\u001b[38;5;241m.\u001b[39m_sample_latent(\u001b[38;5;241m*\u001b[39margs, \u001b[38;5;241m*\u001b[39m\u001b[38;5;241m*\u001b[39mkwargs)\n\u001b[0;32m    710\u001b[0m     \u001b[38;5;66;03m# unpack continuous latent samples\u001b[39;00m\n",
      "File \u001b[1;32mc:\\Users\\bar21\\.conda\\envs\\STAT\\Lib\\site-packages\\numpyro\\infer\\autoguide.py:666\u001b[0m, in \u001b[0;36mAutoContinuous._setup_prototype\u001b[1;34m(self, *args, **kwargs)\u001b[0m\n\u001b[0;32m    665\u001b[0m \u001b[38;5;28;01mdef\u001b[39;00m \u001b[38;5;21m_setup_prototype\u001b[39m(\u001b[38;5;28mself\u001b[39m, \u001b[38;5;241m*\u001b[39margs, \u001b[38;5;241m*\u001b[39m\u001b[38;5;241m*\u001b[39mkwargs):\n\u001b[1;32m--> 666\u001b[0m     \u001b[38;5;28;43msuper\u001b[39;49m\u001b[43m(\u001b[49m\u001b[43m)\u001b[49m\u001b[38;5;241;43m.\u001b[39;49m\u001b[43m_setup_prototype\u001b[49m\u001b[43m(\u001b[49m\u001b[38;5;241;43m*\u001b[39;49m\u001b[43margs\u001b[49m\u001b[43m,\u001b[49m\u001b[43m \u001b[49m\u001b[38;5;241;43m*\u001b[39;49m\u001b[38;5;241;43m*\u001b[39;49m\u001b[43mkwargs\u001b[49m\u001b[43m)\u001b[49m\n\u001b[0;32m    667\u001b[0m     \u001b[38;5;28mself\u001b[39m\u001b[38;5;241m.\u001b[39m_init_latent, shape_dict \u001b[38;5;241m=\u001b[39m _ravel_dict(\u001b[38;5;28mself\u001b[39m\u001b[38;5;241m.\u001b[39m_init_locs)\n\u001b[0;32m    668\u001b[0m     unpack_latent \u001b[38;5;241m=\u001b[39m partial(_unravel_dict, shape_dict\u001b[38;5;241m=\u001b[39mshape_dict)\n",
      "File \u001b[1;32mc:\\Users\\bar21\\.conda\\envs\\STAT\\Lib\\site-packages\\numpyro\\infer\\autoguide.py:158\u001b[0m, in \u001b[0;36mAutoGuide._setup_prototype\u001b[1;34m(self, *args, **kwargs)\u001b[0m\n\u001b[0;32m    151\u001b[0m rng_key \u001b[38;5;241m=\u001b[39m numpyro\u001b[38;5;241m.\u001b[39mprng_key()\n\u001b[0;32m    152\u001b[0m \u001b[38;5;28;01mwith\u001b[39;00m handlers\u001b[38;5;241m.\u001b[39mblock():\n\u001b[0;32m    153\u001b[0m     (\n\u001b[0;32m    154\u001b[0m         init_params,\n\u001b[0;32m    155\u001b[0m         \u001b[38;5;28mself\u001b[39m\u001b[38;5;241m.\u001b[39m_potential_fn_gen,\n\u001b[0;32m    156\u001b[0m         postprocess_fn_gen,\n\u001b[0;32m    157\u001b[0m         \u001b[38;5;28mself\u001b[39m\u001b[38;5;241m.\u001b[39mprototype_trace,\n\u001b[1;32m--> 158\u001b[0m     ) \u001b[38;5;241m=\u001b[39m \u001b[43minitialize_model\u001b[49m\u001b[43m(\u001b[49m\n\u001b[0;32m    159\u001b[0m \u001b[43m        \u001b[49m\u001b[43mrng_key\u001b[49m\u001b[43m,\u001b[49m\n\u001b[0;32m    160\u001b[0m \u001b[43m        \u001b[49m\u001b[38;5;28;43mself\u001b[39;49m\u001b[38;5;241;43m.\u001b[39;49m\u001b[43mmodel\u001b[49m\u001b[43m,\u001b[49m\n\u001b[0;32m    161\u001b[0m \u001b[43m        \u001b[49m\u001b[43minit_strategy\u001b[49m\u001b[38;5;241;43m=\u001b[39;49m\u001b[38;5;28;43mself\u001b[39;49m\u001b[38;5;241;43m.\u001b[39;49m\u001b[43minit_loc_fn\u001b[49m\u001b[43m,\u001b[49m\n\u001b[0;32m    162\u001b[0m \u001b[43m        \u001b[49m\u001b[43mdynamic_args\u001b[49m\u001b[38;5;241;43m=\u001b[39;49m\u001b[38;5;28;43;01mTrue\u001b[39;49;00m\u001b[43m,\u001b[49m\n\u001b[0;32m    163\u001b[0m \u001b[43m        \u001b[49m\u001b[43mmodel_args\u001b[49m\u001b[38;5;241;43m=\u001b[39;49m\u001b[43margs\u001b[49m\u001b[43m,\u001b[49m\n\u001b[0;32m    164\u001b[0m \u001b[43m        \u001b[49m\u001b[43mmodel_kwargs\u001b[49m\u001b[38;5;241;43m=\u001b[39;49m\u001b[43mkwargs\u001b[49m\u001b[43m,\u001b[49m\n\u001b[0;32m    165\u001b[0m \u001b[43m    \u001b[49m\u001b[43m)\u001b[49m\n\u001b[0;32m    166\u001b[0m \u001b[38;5;28mself\u001b[39m\u001b[38;5;241m.\u001b[39m_potential_fn \u001b[38;5;241m=\u001b[39m \u001b[38;5;28mself\u001b[39m\u001b[38;5;241m.\u001b[39m_potential_fn_gen(\u001b[38;5;241m*\u001b[39margs, \u001b[38;5;241m*\u001b[39m\u001b[38;5;241m*\u001b[39mkwargs)\n\u001b[0;32m    167\u001b[0m postprocess_fn \u001b[38;5;241m=\u001b[39m postprocess_fn_gen(\u001b[38;5;241m*\u001b[39margs, \u001b[38;5;241m*\u001b[39m\u001b[38;5;241m*\u001b[39mkwargs)\n",
      "File \u001b[1;32mc:\\Users\\bar21\\.conda\\envs\\STAT\\Lib\\site-packages\\numpyro\\infer\\util.py:663\u001b[0m, in \u001b[0;36minitialize_model\u001b[1;34m(rng_key, model, init_strategy, dynamic_args, model_args, model_kwargs, forward_mode_differentiation, validate_grad)\u001b[0m\n\u001b[0;32m    653\u001b[0m model_kwargs \u001b[38;5;241m=\u001b[39m {} \u001b[38;5;28;01mif\u001b[39;00m model_kwargs \u001b[38;5;129;01mis\u001b[39;00m \u001b[38;5;28;01mNone\u001b[39;00m \u001b[38;5;28;01melse\u001b[39;00m model_kwargs\n\u001b[0;32m    654\u001b[0m substituted_model \u001b[38;5;241m=\u001b[39m substitute(\n\u001b[0;32m    655\u001b[0m     seed(model, rng_key \u001b[38;5;28;01mif\u001b[39;00m is_prng_key(rng_key) \u001b[38;5;28;01melse\u001b[39;00m rng_key[\u001b[38;5;241m0\u001b[39m]),\n\u001b[0;32m    656\u001b[0m     substitute_fn\u001b[38;5;241m=\u001b[39minit_strategy,\n\u001b[0;32m    657\u001b[0m )\n\u001b[0;32m    658\u001b[0m (\n\u001b[0;32m    659\u001b[0m     inv_transforms,\n\u001b[0;32m    660\u001b[0m     replay_model,\n\u001b[0;32m    661\u001b[0m     has_enumerate_support,\n\u001b[0;32m    662\u001b[0m     model_trace,\n\u001b[1;32m--> 663\u001b[0m ) \u001b[38;5;241m=\u001b[39m \u001b[43m_get_model_transforms\u001b[49m\u001b[43m(\u001b[49m\u001b[43msubstituted_model\u001b[49m\u001b[43m,\u001b[49m\u001b[43m \u001b[49m\u001b[43mmodel_args\u001b[49m\u001b[43m,\u001b[49m\u001b[43m \u001b[49m\u001b[43mmodel_kwargs\u001b[49m\u001b[43m)\u001b[49m\n\u001b[0;32m    664\u001b[0m \u001b[38;5;66;03m# substitute param sites from model_trace to model so\u001b[39;00m\n\u001b[0;32m    665\u001b[0m \u001b[38;5;66;03m# we don't need to generate again parameters of `numpyro.module`\u001b[39;00m\n\u001b[0;32m    666\u001b[0m model \u001b[38;5;241m=\u001b[39m substitute(\n\u001b[0;32m    667\u001b[0m     model,\n\u001b[0;32m    668\u001b[0m     data\u001b[38;5;241m=\u001b[39m{\n\u001b[1;32m   (...)\u001b[0m\n\u001b[0;32m    672\u001b[0m     },\n\u001b[0;32m    673\u001b[0m )\n",
      "File \u001b[1;32mc:\\Users\\bar21\\.conda\\envs\\STAT\\Lib\\site-packages\\numpyro\\infer\\util.py:457\u001b[0m, in \u001b[0;36m_get_model_transforms\u001b[1;34m(model, model_args, model_kwargs)\u001b[0m\n\u001b[0;32m    455\u001b[0m \u001b[38;5;28;01mdef\u001b[39;00m \u001b[38;5;21m_get_model_transforms\u001b[39m(model, model_args\u001b[38;5;241m=\u001b[39m(), model_kwargs\u001b[38;5;241m=\u001b[39m\u001b[38;5;28;01mNone\u001b[39;00m):\n\u001b[0;32m    456\u001b[0m     model_kwargs \u001b[38;5;241m=\u001b[39m {} \u001b[38;5;28;01mif\u001b[39;00m model_kwargs \u001b[38;5;129;01mis\u001b[39;00m \u001b[38;5;28;01mNone\u001b[39;00m \u001b[38;5;28;01melse\u001b[39;00m model_kwargs\n\u001b[1;32m--> 457\u001b[0m     model_trace \u001b[38;5;241m=\u001b[39m \u001b[43mtrace\u001b[49m\u001b[43m(\u001b[49m\u001b[43mmodel\u001b[49m\u001b[43m)\u001b[49m\u001b[38;5;241;43m.\u001b[39;49m\u001b[43mget_trace\u001b[49m\u001b[43m(\u001b[49m\u001b[38;5;241;43m*\u001b[39;49m\u001b[43mmodel_args\u001b[49m\u001b[43m,\u001b[49m\u001b[43m \u001b[49m\u001b[38;5;241;43m*\u001b[39;49m\u001b[38;5;241;43m*\u001b[39;49m\u001b[43mmodel_kwargs\u001b[49m\u001b[43m)\u001b[49m\n\u001b[0;32m    458\u001b[0m     inv_transforms \u001b[38;5;241m=\u001b[39m {}\n\u001b[0;32m    459\u001b[0m     \u001b[38;5;66;03m# model code may need to be replayed in the presence of deterministic sites\u001b[39;00m\n",
      "File \u001b[1;32mc:\\Users\\bar21\\.conda\\envs\\STAT\\Lib\\site-packages\\numpyro\\handlers.py:186\u001b[0m, in \u001b[0;36mtrace.get_trace\u001b[1;34m(self, *args, **kwargs)\u001b[0m\n\u001b[0;32m    178\u001b[0m \u001b[38;5;28;01mdef\u001b[39;00m \u001b[38;5;21mget_trace\u001b[39m(\u001b[38;5;28mself\u001b[39m, \u001b[38;5;241m*\u001b[39margs, \u001b[38;5;241m*\u001b[39m\u001b[38;5;241m*\u001b[39mkwargs):\n\u001b[0;32m    179\u001b[0m \u001b[38;5;250m    \u001b[39m\u001b[38;5;124;03m\"\"\"\u001b[39;00m\n\u001b[0;32m    180\u001b[0m \u001b[38;5;124;03m    Run the wrapped callable and return the recorded trace.\u001b[39;00m\n\u001b[0;32m    181\u001b[0m \n\u001b[1;32m   (...)\u001b[0m\n\u001b[0;32m    184\u001b[0m \u001b[38;5;124;03m    :return: `OrderedDict` containing the execution trace.\u001b[39;00m\n\u001b[0;32m    185\u001b[0m \u001b[38;5;124;03m    \"\"\"\u001b[39;00m\n\u001b[1;32m--> 186\u001b[0m     \u001b[38;5;28;43mself\u001b[39;49m\u001b[43m(\u001b[49m\u001b[38;5;241;43m*\u001b[39;49m\u001b[43margs\u001b[49m\u001b[43m,\u001b[49m\u001b[43m \u001b[49m\u001b[38;5;241;43m*\u001b[39;49m\u001b[38;5;241;43m*\u001b[39;49m\u001b[43mkwargs\u001b[49m\u001b[43m)\u001b[49m\n\u001b[0;32m    187\u001b[0m     \u001b[38;5;28;01mreturn\u001b[39;00m \u001b[38;5;28mself\u001b[39m\u001b[38;5;241m.\u001b[39mtrace\n",
      "File \u001b[1;32mc:\\Users\\bar21\\.conda\\envs\\STAT\\Lib\\site-packages\\numpyro\\primitives.py:105\u001b[0m, in \u001b[0;36mMessenger.__call__\u001b[1;34m(self, *args, **kwargs)\u001b[0m\n\u001b[0;32m    103\u001b[0m     \u001b[38;5;28;01mreturn\u001b[39;00m \u001b[38;5;28mself\u001b[39m\n\u001b[0;32m    104\u001b[0m \u001b[38;5;28;01mwith\u001b[39;00m \u001b[38;5;28mself\u001b[39m:\n\u001b[1;32m--> 105\u001b[0m     \u001b[38;5;28;01mreturn\u001b[39;00m \u001b[38;5;28;43mself\u001b[39;49m\u001b[38;5;241;43m.\u001b[39;49m\u001b[43mfn\u001b[49m\u001b[43m(\u001b[49m\u001b[38;5;241;43m*\u001b[39;49m\u001b[43margs\u001b[49m\u001b[43m,\u001b[49m\u001b[43m \u001b[49m\u001b[38;5;241;43m*\u001b[39;49m\u001b[38;5;241;43m*\u001b[39;49m\u001b[43mkwargs\u001b[49m\u001b[43m)\u001b[49m\n",
      "File \u001b[1;32mc:\\Users\\bar21\\.conda\\envs\\STAT\\Lib\\site-packages\\numpyro\\primitives.py:105\u001b[0m, in \u001b[0;36mMessenger.__call__\u001b[1;34m(self, *args, **kwargs)\u001b[0m\n\u001b[0;32m    103\u001b[0m     \u001b[38;5;28;01mreturn\u001b[39;00m \u001b[38;5;28mself\u001b[39m\n\u001b[0;32m    104\u001b[0m \u001b[38;5;28;01mwith\u001b[39;00m \u001b[38;5;28mself\u001b[39m:\n\u001b[1;32m--> 105\u001b[0m     \u001b[38;5;28;01mreturn\u001b[39;00m \u001b[38;5;28;43mself\u001b[39;49m\u001b[38;5;241;43m.\u001b[39;49m\u001b[43mfn\u001b[49m\u001b[43m(\u001b[49m\u001b[38;5;241;43m*\u001b[39;49m\u001b[43margs\u001b[49m\u001b[43m,\u001b[49m\u001b[43m \u001b[49m\u001b[38;5;241;43m*\u001b[39;49m\u001b[38;5;241;43m*\u001b[39;49m\u001b[43mkwargs\u001b[49m\u001b[43m)\u001b[49m\n",
      "    \u001b[1;31m[... skipping similar frames: Messenger.__call__ at line 105 (2 times)]\u001b[0m\n",
      "File \u001b[1;32mc:\\Users\\bar21\\.conda\\envs\\STAT\\Lib\\site-packages\\numpyro\\primitives.py:105\u001b[0m, in \u001b[0;36mMessenger.__call__\u001b[1;34m(self, *args, **kwargs)\u001b[0m\n\u001b[0;32m    103\u001b[0m     \u001b[38;5;28;01mreturn\u001b[39;00m \u001b[38;5;28mself\u001b[39m\n\u001b[0;32m    104\u001b[0m \u001b[38;5;28;01mwith\u001b[39;00m \u001b[38;5;28mself\u001b[39m:\n\u001b[1;32m--> 105\u001b[0m     \u001b[38;5;28;01mreturn\u001b[39;00m \u001b[38;5;28;43mself\u001b[39;49m\u001b[38;5;241;43m.\u001b[39;49m\u001b[43mfn\u001b[49m\u001b[43m(\u001b[49m\u001b[38;5;241;43m*\u001b[39;49m\u001b[43margs\u001b[49m\u001b[43m,\u001b[49m\u001b[43m \u001b[49m\u001b[38;5;241;43m*\u001b[39;49m\u001b[38;5;241;43m*\u001b[39;49m\u001b[43mkwargs\u001b[49m\u001b[43m)\u001b[49m\n",
      "Cell \u001b[1;32mIn[27], line 31\u001b[0m, in \u001b[0;36mmodel_enumerated\u001b[1;34m(data)\u001b[0m\n\u001b[0;32m     28\u001b[0m \u001b[38;5;66;03m# Use a plate to vectorize over edges.\u001b[39;00m\n\u001b[0;32m     29\u001b[0m \u001b[38;5;28;01mwith\u001b[39;00m numpyro\u001b[38;5;241m.\u001b[39mplate(\u001b[38;5;124m\"\u001b[39m\u001b[38;5;124mtriu_vals\u001b[39m\u001b[38;5;124m\"\u001b[39m, size\u001b[38;5;241m=\u001b[39mTRIU_DIM):\n\u001b[0;32m     30\u001b[0m     \u001b[38;5;66;03m# Sample A_star (latent binary variable) and enumerate it.\u001b[39;00m\n\u001b[1;32m---> 31\u001b[0m     A_star \u001b[38;5;241m=\u001b[39m \u001b[43mnumpyro\u001b[49m\u001b[38;5;241;43m.\u001b[39;49m\u001b[43msample\u001b[49m\u001b[43m(\u001b[49m\n\u001b[0;32m     32\u001b[0m \u001b[43m        \u001b[49m\u001b[38;5;124;43m\"\u001b[39;49m\u001b[38;5;124;43mA_star\u001b[39;49m\u001b[38;5;124;43m\"\u001b[39;49m\u001b[43m,\u001b[49m\n\u001b[0;32m     33\u001b[0m \u001b[43m        \u001b[49m\u001b[43mdist\u001b[49m\u001b[38;5;241;43m.\u001b[39;49m\u001b[43mBernoulli\u001b[49m\u001b[43m(\u001b[49m\u001b[43mlogits\u001b[49m\u001b[38;5;241;43m=\u001b[39;49m\u001b[43mstar_logits\u001b[49m\u001b[43m)\u001b[49m\u001b[43m,\u001b[49m\n\u001b[0;32m     34\u001b[0m \u001b[43m        \u001b[49m\u001b[43minfer\u001b[49m\u001b[38;5;241;43m=\u001b[39;49m\u001b[43m{\u001b[49m\u001b[38;5;124;43m'\u001b[39;49m\u001b[38;5;124;43menumerate\u001b[39;49m\u001b[38;5;124;43m'\u001b[39;49m\u001b[43m:\u001b[49m\u001b[43m \u001b[49m\u001b[38;5;124;43m'\u001b[39;49m\u001b[38;5;124;43mparallel\u001b[39;49m\u001b[38;5;124;43m'\u001b[39;49m\u001b[43m}\u001b[49m\u001b[43m  \u001b[49m\u001b[38;5;66;43;03m# Enables automatic marginalization.\u001b[39;49;00m\n\u001b[0;32m     35\u001b[0m \u001b[43m    \u001b[49m\u001b[43m)\u001b[49m\n\u001b[0;32m     37\u001b[0m     \u001b[38;5;66;03m# Define the observation likelihood:\u001b[39;00m\n\u001b[0;32m     38\u001b[0m     \u001b[38;5;66;03m# If A_star == 1: use gamma[0] (true positives)\u001b[39;00m\n\u001b[0;32m     39\u001b[0m     \u001b[38;5;66;03m# If A_star == 0: use gamma[1] + gamma[2] * x_diff (false positives)\u001b[39;00m\n\u001b[0;32m     40\u001b[0m     obs_logits \u001b[38;5;241m=\u001b[39m jnp\u001b[38;5;241m.\u001b[39mwhere(A_star, gamma[\u001b[38;5;241m0\u001b[39m], gamma[\u001b[38;5;241m1\u001b[39m] \u001b[38;5;241m+\u001b[39m gamma[\u001b[38;5;241m2\u001b[39m] \u001b[38;5;241m*\u001b[39m data\u001b[38;5;241m.\u001b[39mx_diff)\n",
      "File \u001b[1;32mc:\\Users\\bar21\\.conda\\envs\\STAT\\Lib\\site-packages\\numpyro\\primitives.py:222\u001b[0m, in \u001b[0;36msample\u001b[1;34m(name, fn, obs, rng_key, sample_shape, infer, obs_mask)\u001b[0m\n\u001b[0;32m    207\u001b[0m initial_msg \u001b[38;5;241m=\u001b[39m {\n\u001b[0;32m    208\u001b[0m     \u001b[38;5;124m\"\u001b[39m\u001b[38;5;124mtype\u001b[39m\u001b[38;5;124m\"\u001b[39m: \u001b[38;5;124m\"\u001b[39m\u001b[38;5;124msample\u001b[39m\u001b[38;5;124m\"\u001b[39m,\n\u001b[0;32m    209\u001b[0m     \u001b[38;5;124m\"\u001b[39m\u001b[38;5;124mname\u001b[39m\u001b[38;5;124m\"\u001b[39m: name,\n\u001b[1;32m   (...)\u001b[0m\n\u001b[0;32m    218\u001b[0m     \u001b[38;5;124m\"\u001b[39m\u001b[38;5;124minfer\u001b[39m\u001b[38;5;124m\"\u001b[39m: {} \u001b[38;5;28;01mif\u001b[39;00m infer \u001b[38;5;129;01mis\u001b[39;00m \u001b[38;5;28;01mNone\u001b[39;00m \u001b[38;5;28;01melse\u001b[39;00m infer,\n\u001b[0;32m    219\u001b[0m }\n\u001b[0;32m    221\u001b[0m \u001b[38;5;66;03m# ...and use apply_stack to send it to the Messengers\u001b[39;00m\n\u001b[1;32m--> 222\u001b[0m msg \u001b[38;5;241m=\u001b[39m \u001b[43mapply_stack\u001b[49m\u001b[43m(\u001b[49m\u001b[43minitial_msg\u001b[49m\u001b[43m)\u001b[49m\n\u001b[0;32m    223\u001b[0m \u001b[38;5;28;01mreturn\u001b[39;00m msg[\u001b[38;5;124m\"\u001b[39m\u001b[38;5;124mvalue\u001b[39m\u001b[38;5;124m\"\u001b[39m]\n",
      "File \u001b[1;32mc:\\Users\\bar21\\.conda\\envs\\STAT\\Lib\\site-packages\\numpyro\\primitives.py:53\u001b[0m, in \u001b[0;36mapply_stack\u001b[1;34m(msg)\u001b[0m\n\u001b[0;32m     50\u001b[0m     \u001b[38;5;28;01mif\u001b[39;00m msg\u001b[38;5;241m.\u001b[39mget(\u001b[38;5;124m\"\u001b[39m\u001b[38;5;124mstop\u001b[39m\u001b[38;5;124m\"\u001b[39m):\n\u001b[0;32m     51\u001b[0m         \u001b[38;5;28;01mbreak\u001b[39;00m\n\u001b[1;32m---> 53\u001b[0m \u001b[43mdefault_process_message\u001b[49m\u001b[43m(\u001b[49m\u001b[43mmsg\u001b[49m\u001b[43m)\u001b[49m\n\u001b[0;32m     55\u001b[0m \u001b[38;5;66;03m# A Messenger that sets msg[\"stop\"] == True also prevents application\u001b[39;00m\n\u001b[0;32m     56\u001b[0m \u001b[38;5;66;03m# of postprocess_message by Messengers above it on the stack\u001b[39;00m\n\u001b[0;32m     57\u001b[0m \u001b[38;5;66;03m# via the pointer variable from the process_message loop\u001b[39;00m\n\u001b[0;32m     58\u001b[0m \u001b[38;5;28;01mfor\u001b[39;00m handler \u001b[38;5;129;01min\u001b[39;00m _PYRO_STACK[\u001b[38;5;241m-\u001b[39mpointer \u001b[38;5;241m-\u001b[39m \u001b[38;5;241m1\u001b[39m :]:\n",
      "File \u001b[1;32mc:\\Users\\bar21\\.conda\\envs\\STAT\\Lib\\site-packages\\numpyro\\primitives.py:24\u001b[0m, in \u001b[0;36mdefault_process_message\u001b[1;34m(msg)\u001b[0m\n\u001b[0;32m     22\u001b[0m \u001b[38;5;28;01mif\u001b[39;00m msg[\u001b[38;5;124m\"\u001b[39m\u001b[38;5;124mvalue\u001b[39m\u001b[38;5;124m\"\u001b[39m] \u001b[38;5;129;01mis\u001b[39;00m \u001b[38;5;28;01mNone\u001b[39;00m:\n\u001b[0;32m     23\u001b[0m     \u001b[38;5;28;01mif\u001b[39;00m msg[\u001b[38;5;124m\"\u001b[39m\u001b[38;5;124mtype\u001b[39m\u001b[38;5;124m\"\u001b[39m] \u001b[38;5;241m==\u001b[39m \u001b[38;5;124m\"\u001b[39m\u001b[38;5;124msample\u001b[39m\u001b[38;5;124m\"\u001b[39m:\n\u001b[1;32m---> 24\u001b[0m         msg[\u001b[38;5;124m\"\u001b[39m\u001b[38;5;124mvalue\u001b[39m\u001b[38;5;124m\"\u001b[39m], msg[\u001b[38;5;124m\"\u001b[39m\u001b[38;5;124mintermediates\u001b[39m\u001b[38;5;124m\"\u001b[39m] \u001b[38;5;241m=\u001b[39m \u001b[43mmsg\u001b[49m\u001b[43m[\u001b[49m\u001b[38;5;124;43m\"\u001b[39;49m\u001b[38;5;124;43mfn\u001b[39;49m\u001b[38;5;124;43m\"\u001b[39;49m\u001b[43m]\u001b[49m\u001b[43m(\u001b[49m\n\u001b[0;32m     25\u001b[0m \u001b[43m            \u001b[49m\u001b[38;5;241;43m*\u001b[39;49m\u001b[43mmsg\u001b[49m\u001b[43m[\u001b[49m\u001b[38;5;124;43m\"\u001b[39;49m\u001b[38;5;124;43margs\u001b[39;49m\u001b[38;5;124;43m\"\u001b[39;49m\u001b[43m]\u001b[49m\u001b[43m,\u001b[49m\u001b[43m \u001b[49m\u001b[43msample_intermediates\u001b[49m\u001b[38;5;241;43m=\u001b[39;49m\u001b[38;5;28;43;01mTrue\u001b[39;49;00m\u001b[43m,\u001b[49m\u001b[43m \u001b[49m\u001b[38;5;241;43m*\u001b[39;49m\u001b[38;5;241;43m*\u001b[39;49m\u001b[43mmsg\u001b[49m\u001b[43m[\u001b[49m\u001b[38;5;124;43m\"\u001b[39;49m\u001b[38;5;124;43mkwargs\u001b[39;49m\u001b[38;5;124;43m\"\u001b[39;49m\u001b[43m]\u001b[49m\n\u001b[0;32m     26\u001b[0m \u001b[43m        \u001b[49m\u001b[43m)\u001b[49m\n\u001b[0;32m     27\u001b[0m     \u001b[38;5;28;01melse\u001b[39;00m:\n\u001b[0;32m     28\u001b[0m         msg[\u001b[38;5;124m\"\u001b[39m\u001b[38;5;124mvalue\u001b[39m\u001b[38;5;124m\"\u001b[39m] \u001b[38;5;241m=\u001b[39m msg[\u001b[38;5;124m\"\u001b[39m\u001b[38;5;124mfn\u001b[39m\u001b[38;5;124m\"\u001b[39m](\u001b[38;5;241m*\u001b[39mmsg[\u001b[38;5;124m\"\u001b[39m\u001b[38;5;124margs\u001b[39m\u001b[38;5;124m\"\u001b[39m], \u001b[38;5;241m*\u001b[39m\u001b[38;5;241m*\u001b[39mmsg[\u001b[38;5;124m\"\u001b[39m\u001b[38;5;124mkwargs\u001b[39m\u001b[38;5;124m\"\u001b[39m])\n",
      "File \u001b[1;32mc:\\Users\\bar21\\.conda\\envs\\STAT\\Lib\\site-packages\\numpyro\\distributions\\distribution.py:388\u001b[0m, in \u001b[0;36mDistribution.__call__\u001b[1;34m(self, *args, **kwargs)\u001b[0m\n\u001b[0;32m    386\u001b[0m sample_intermediates \u001b[38;5;241m=\u001b[39m kwargs\u001b[38;5;241m.\u001b[39mpop(\u001b[38;5;124m\"\u001b[39m\u001b[38;5;124msample_intermediates\u001b[39m\u001b[38;5;124m\"\u001b[39m, \u001b[38;5;28;01mFalse\u001b[39;00m)\n\u001b[0;32m    387\u001b[0m \u001b[38;5;28;01mif\u001b[39;00m sample_intermediates:\n\u001b[1;32m--> 388\u001b[0m     \u001b[38;5;28;01mreturn\u001b[39;00m \u001b[38;5;28;43mself\u001b[39;49m\u001b[38;5;241;43m.\u001b[39;49m\u001b[43msample_with_intermediates\u001b[49m\u001b[43m(\u001b[49m\u001b[43mkey\u001b[49m\u001b[43m,\u001b[49m\u001b[43m \u001b[49m\u001b[38;5;241;43m*\u001b[39;49m\u001b[43margs\u001b[49m\u001b[43m,\u001b[49m\u001b[43m \u001b[49m\u001b[38;5;241;43m*\u001b[39;49m\u001b[38;5;241;43m*\u001b[39;49m\u001b[43mkwargs\u001b[49m\u001b[43m)\u001b[49m\n\u001b[0;32m    389\u001b[0m \u001b[38;5;28;01mreturn\u001b[39;00m \u001b[38;5;28mself\u001b[39m\u001b[38;5;241m.\u001b[39msample(key, \u001b[38;5;241m*\u001b[39margs, \u001b[38;5;241m*\u001b[39m\u001b[38;5;241m*\u001b[39mkwargs)\n",
      "File \u001b[1;32mc:\\Users\\bar21\\.conda\\envs\\STAT\\Lib\\site-packages\\numpyro\\distributions\\distribution.py:346\u001b[0m, in \u001b[0;36mDistribution.sample_with_intermediates\u001b[1;34m(self, key, sample_shape)\u001b[0m\n\u001b[0;32m    336\u001b[0m \u001b[38;5;28;01mdef\u001b[39;00m \u001b[38;5;21msample_with_intermediates\u001b[39m(\u001b[38;5;28mself\u001b[39m, key, sample_shape\u001b[38;5;241m=\u001b[39m()):\n\u001b[0;32m    337\u001b[0m \u001b[38;5;250m    \u001b[39m\u001b[38;5;124;03m\"\"\"\u001b[39;00m\n\u001b[0;32m    338\u001b[0m \u001b[38;5;124;03m    Same as ``sample`` except that any intermediate computations are\u001b[39;00m\n\u001b[0;32m    339\u001b[0m \u001b[38;5;124;03m    returned (useful for `TransformedDistribution`).\u001b[39;00m\n\u001b[1;32m   (...)\u001b[0m\n\u001b[0;32m    344\u001b[0m \u001b[38;5;124;03m    :rtype: numpy.ndarray\u001b[39;00m\n\u001b[0;32m    345\u001b[0m \u001b[38;5;124;03m    \"\"\"\u001b[39;00m\n\u001b[1;32m--> 346\u001b[0m     \u001b[38;5;28;01mreturn\u001b[39;00m \u001b[38;5;28;43mself\u001b[39;49m\u001b[38;5;241;43m.\u001b[39;49m\u001b[43msample\u001b[49m\u001b[43m(\u001b[49m\u001b[43mkey\u001b[49m\u001b[43m,\u001b[49m\u001b[43m \u001b[49m\u001b[43msample_shape\u001b[49m\u001b[38;5;241;43m=\u001b[39;49m\u001b[43msample_shape\u001b[49m\u001b[43m)\u001b[49m, []\n",
      "File \u001b[1;32mc:\\Users\\bar21\\.conda\\envs\\STAT\\Lib\\site-packages\\numpyro\\distributions\\discrete.py:131\u001b[0m, in \u001b[0;36mBernoulliLogits.sample\u001b[1;34m(self, key, sample_shape)\u001b[0m\n\u001b[0;32m    130\u001b[0m \u001b[38;5;28;01mdef\u001b[39;00m \u001b[38;5;21msample\u001b[39m(\u001b[38;5;28mself\u001b[39m, key, sample_shape\u001b[38;5;241m=\u001b[39m()):\n\u001b[1;32m--> 131\u001b[0m     \u001b[38;5;28;01massert\u001b[39;00m is_prng_key(key)\n\u001b[0;32m    132\u001b[0m     samples \u001b[38;5;241m=\u001b[39m random\u001b[38;5;241m.\u001b[39mbernoulli(\n\u001b[0;32m    133\u001b[0m         key, \u001b[38;5;28mself\u001b[39m\u001b[38;5;241m.\u001b[39mprobs, shape\u001b[38;5;241m=\u001b[39msample_shape \u001b[38;5;241m+\u001b[39m \u001b[38;5;28mself\u001b[39m\u001b[38;5;241m.\u001b[39mbatch_shape\n\u001b[0;32m    134\u001b[0m     )\n\u001b[0;32m    135\u001b[0m     \u001b[38;5;28;01mreturn\u001b[39;00m samples\u001b[38;5;241m.\u001b[39mastype(jnp\u001b[38;5;241m.\u001b[39mresult_type(samples, \u001b[38;5;28mint\u001b[39m))\n",
      "\u001b[1;31mAssertionError\u001b[0m: "
     ]
    }
   ],
   "source": [
    "from numpyro.infer import SVI, TraceEnum_ELBO\n",
    "from numpyro.optim import ClippedAdam\n",
    "from numpyro.infer.autoguide import AutoDelta, AutoLowRankMultivariateNormal\n",
    "# from numpyro.infer.initialization import init_to_value\n",
    "import numpyro.handlers as handlers\n",
    "\n",
    "import jax\n",
    "\n",
    "# def guide_map(data):\n",
    "#     # with handlers.block(model_enumerated, hide=[\"A_star\"]):  # Ignore discrete latent variable\n",
    "#         # return AutoDelta(model_enumerated)(data)\n",
    "#     block_model = handlers.block(model_enumerated, hide=[\"A_star\"])\n",
    "#     return AutoDelta(block_model)(data)\n",
    "\n",
    "blocked_model = handlers.block(model_enumerated, hide=[\"A_star\"])\n",
    "guide_map = AutoLowRankMultivariateNormal(blocked_model)\n",
    "# guide_map = AutoDelta(blocked_model)\n",
    "\n",
    "# guide_map = AutoLowRankMultivariateNormal(model_enumerated,)\n",
    "\n",
    "# Define the AutoDelta guide\n",
    "\n",
    "# init_strategy = init_to_value(values={\"theta\": jnp.zeros(2), \"gamma\": jnp.zeros(3)})\n",
    "# guide_map = AutoDelta(model_enumerated, init_loc_fn=init_strategy)\n",
    "\n",
    "optim = ClippedAdam(0.001)\n",
    "\n",
    "# Initialize the SVI object with TraceEnum_ELBO.\n",
    "svi = SVI(model_enumerated, guide_map, optim, \n",
    "          loss=TraceEnum_ELBO(max_plate_nesting=1))\n",
    "\n",
    "# Assume data_sim is your data object with the required attributes.\n",
    "rng_key = jax.random.PRNGKey(0)\n",
    "svi_result = svi.run(rng_key, num_steps=10000, data=data_sim)\n",
    "\n",
    "# You can extract the learned parameters and monitor the ELBO:\n",
    "params = svi_result.params"
   ]
  },
  {
   "cell_type": "code",
   "execution_count": 27,
   "metadata": {},
   "outputs": [
    {
     "name": "stdout",
     "output_type": "stream",
     "text": [
      "true gamma:  [ 2.1972244 -2.1972246  0.5      ] \n",
      " loc_gamma:  [ 1.2437049  -2.1805823   0.48870432] \n",
      " true theta [-2.5  1. ] \n",
      " loc_theta:  [-2.3604188  1.016937 ]\n"
     ]
    }
   ],
   "source": [
    "print(\"true gamma: \", GAMMA, \"\\n\",\n",
    "      \"loc_gamma: \", params[\"gamma_loc\"], \"\\n\",\n",
    "      \"true theta\", THETA, \"\\n\",\n",
    "      \"loc_theta: \", params[\"theta_loc\"])\n"
   ]
  },
  {
   "cell_type": "code",
   "execution_count": null,
   "metadata": {},
   "outputs": [
    {
     "name": "stderr",
     "output_type": "stream",
     "text": [
      "warmup:   1%|▏         | 66/4500 [01:15<2:16:07,  1.84s/it, 319 steps of size 4.09e-03. acc. prob=0.74] "
     ]
    }
   ],
   "source": [
    "\n",
    "# net_mod_kernel = NUTS(models.network_only_models_marginalized)\n",
    "# net_mod_kernel = NUTS(model_enumerated)\n",
    "\n",
    "# mcmc_net = MCMC(\n",
    "#     net_mod_kernel,\n",
    "#     num_warmup=2000,\n",
    "#     num_samples=2500,\n",
    "#     num_chains=1,\n",
    "#     # chain_method=\"parallel\",\n",
    "#     progress_bar=True,\n",
    "# )   \n",
    "\n",
    "# mcmc_net.run(rng_key, data_sim)\n",
    "\n",
    "# mcmc_net.print_summary()\n",
    "\n",
    "# mcmc_samps = mcmc_net.get_samples()"
   ]
  },
  {
   "cell_type": "code",
   "execution_count": 32,
   "metadata": {},
   "outputs": [],
   "source": [
    "import torch\n",
    "import numpy as np\n",
    "\n",
    "data_torch = {\n",
    "    \"x_diff\": torch.tensor(np.array(data_sim.x_diff)),\n",
    "    \"x2_or\": torch.tensor(np.array(data_sim.x2_or)),\n",
    "    \"triu_obs\": torch.tensor(np.array(data_sim.triu_obs))\n",
    "}\n"
   ]
  },
  {
   "cell_type": "code",
   "execution_count": 38,
   "metadata": {},
   "outputs": [
    {
     "name": "stderr",
     "output_type": "stream",
     "text": [
      "  0%|          | 4/10000 [00:00<10:01, 16.60it/s]"
     ]
    },
    {
     "name": "stdout",
     "output_type": "stream",
     "text": [
      "Step 0 - Loss: 69965.71875\n"
     ]
    },
    {
     "name": "stderr",
     "output_type": "stream",
     "text": [
      "  1%|          | 105/10000 [00:03<05:17, 31.21it/s]"
     ]
    },
    {
     "name": "stdout",
     "output_type": "stream",
     "text": [
      "Step 100 - Loss: 69948.84375\n"
     ]
    },
    {
     "name": "stderr",
     "output_type": "stream",
     "text": [
      "  2%|▏         | 205/10000 [00:06<04:32, 35.93it/s]"
     ]
    },
    {
     "name": "stdout",
     "output_type": "stream",
     "text": [
      "Step 200 - Loss: 67969.46875\n"
     ]
    },
    {
     "name": "stderr",
     "output_type": "stream",
     "text": [
      "  3%|▎         | 305/10000 [00:09<04:27, 36.30it/s]"
     ]
    },
    {
     "name": "stdout",
     "output_type": "stream",
     "text": [
      "Step 300 - Loss: 67478.7734375\n"
     ]
    },
    {
     "name": "stderr",
     "output_type": "stream",
     "text": [
      "  4%|▍         | 405/10000 [00:12<04:22, 36.60it/s]"
     ]
    },
    {
     "name": "stdout",
     "output_type": "stream",
     "text": [
      "Step 400 - Loss: 67736.3125\n"
     ]
    },
    {
     "name": "stderr",
     "output_type": "stream",
     "text": [
      "  5%|▌         | 505/10000 [00:15<04:48, 32.86it/s]"
     ]
    },
    {
     "name": "stdout",
     "output_type": "stream",
     "text": [
      "Step 500 - Loss: 67390.9140625\n"
     ]
    },
    {
     "name": "stderr",
     "output_type": "stream",
     "text": [
      "  6%|▌         | 606/10000 [00:18<05:11, 30.12it/s]"
     ]
    },
    {
     "name": "stdout",
     "output_type": "stream",
     "text": [
      "Step 600 - Loss: 67246.765625\n"
     ]
    },
    {
     "name": "stderr",
     "output_type": "stream",
     "text": [
      "  7%|▋         | 706/10000 [00:22<04:42, 32.92it/s]"
     ]
    },
    {
     "name": "stdout",
     "output_type": "stream",
     "text": [
      "Step 700 - Loss: 67075.6796875\n"
     ]
    },
    {
     "name": "stderr",
     "output_type": "stream",
     "text": [
      "  8%|▊         | 803/10000 [00:25<04:38, 33.07it/s]"
     ]
    },
    {
     "name": "stdout",
     "output_type": "stream",
     "text": [
      "Step 800 - Loss: 67086.96875\n"
     ]
    },
    {
     "name": "stderr",
     "output_type": "stream",
     "text": [
      "  9%|▉         | 905/10000 [00:28<04:11, 36.15it/s]"
     ]
    },
    {
     "name": "stdout",
     "output_type": "stream",
     "text": [
      "Step 900 - Loss: 67046.6640625\n"
     ]
    },
    {
     "name": "stderr",
     "output_type": "stream",
     "text": [
      " 10%|█         | 1007/10000 [00:32<05:09, 29.10it/s]"
     ]
    },
    {
     "name": "stdout",
     "output_type": "stream",
     "text": [
      "Step 1000 - Loss: 67020.984375\n"
     ]
    },
    {
     "name": "stderr",
     "output_type": "stream",
     "text": [
      " 11%|█         | 1104/10000 [00:35<05:13, 28.34it/s]"
     ]
    },
    {
     "name": "stdout",
     "output_type": "stream",
     "text": [
      "Step 1100 - Loss: 66963.109375\n"
     ]
    },
    {
     "name": "stderr",
     "output_type": "stream",
     "text": [
      " 12%|█▏        | 1204/10000 [00:39<05:30, 26.65it/s]"
     ]
    },
    {
     "name": "stdout",
     "output_type": "stream",
     "text": [
      "Step 1200 - Loss: 66987.796875\n"
     ]
    },
    {
     "name": "stderr",
     "output_type": "stream",
     "text": [
      " 13%|█▎        | 1307/10000 [00:42<04:10, 34.72it/s]"
     ]
    },
    {
     "name": "stdout",
     "output_type": "stream",
     "text": [
      "Step 1300 - Loss: 66988.4609375\n"
     ]
    },
    {
     "name": "stderr",
     "output_type": "stream",
     "text": [
      " 14%|█▍        | 1405/10000 [00:46<04:35, 31.16it/s]"
     ]
    },
    {
     "name": "stdout",
     "output_type": "stream",
     "text": [
      "Step 1400 - Loss: 67166.9453125\n"
     ]
    },
    {
     "name": "stderr",
     "output_type": "stream",
     "text": [
      " 15%|█▌        | 1506/10000 [00:49<05:19, 26.58it/s]"
     ]
    },
    {
     "name": "stdout",
     "output_type": "stream",
     "text": [
      "Step 1500 - Loss: 66937.3359375\n"
     ]
    },
    {
     "name": "stderr",
     "output_type": "stream",
     "text": [
      " 16%|█▌        | 1606/10000 [00:53<04:32, 30.76it/s]"
     ]
    },
    {
     "name": "stdout",
     "output_type": "stream",
     "text": [
      "Step 1600 - Loss: 66907.65625\n"
     ]
    },
    {
     "name": "stderr",
     "output_type": "stream",
     "text": [
      " 17%|█▋        | 1704/10000 [00:56<05:00, 27.59it/s]"
     ]
    },
    {
     "name": "stdout",
     "output_type": "stream",
     "text": [
      "Step 1700 - Loss: 66967.96875\n"
     ]
    },
    {
     "name": "stderr",
     "output_type": "stream",
     "text": [
      " 18%|█▊        | 1806/10000 [01:01<05:10, 26.43it/s]"
     ]
    },
    {
     "name": "stdout",
     "output_type": "stream",
     "text": [
      "Step 1800 - Loss: 66888.3671875\n"
     ]
    },
    {
     "name": "stderr",
     "output_type": "stream",
     "text": [
      " 19%|█▉        | 1908/10000 [01:04<03:44, 35.99it/s]"
     ]
    },
    {
     "name": "stdout",
     "output_type": "stream",
     "text": [
      "Step 1900 - Loss: 66965.7421875\n"
     ]
    },
    {
     "name": "stderr",
     "output_type": "stream",
     "text": [
      " 20%|██        | 2004/10000 [01:07<04:04, 32.65it/s]"
     ]
    },
    {
     "name": "stdout",
     "output_type": "stream",
     "text": [
      "Step 2000 - Loss: 66858.6640625\n"
     ]
    },
    {
     "name": "stderr",
     "output_type": "stream",
     "text": [
      " 21%|██        | 2104/10000 [01:10<03:50, 34.30it/s]"
     ]
    },
    {
     "name": "stdout",
     "output_type": "stream",
     "text": [
      "Step 2100 - Loss: 66854.1484375\n"
     ]
    },
    {
     "name": "stderr",
     "output_type": "stream",
     "text": [
      " 22%|██▏       | 2206/10000 [01:14<04:49, 26.91it/s]"
     ]
    },
    {
     "name": "stdout",
     "output_type": "stream",
     "text": [
      "Step 2200 - Loss: 66886.1640625\n"
     ]
    },
    {
     "name": "stderr",
     "output_type": "stream",
     "text": [
      " 23%|██▎       | 2307/10000 [01:18<03:54, 32.87it/s]"
     ]
    },
    {
     "name": "stdout",
     "output_type": "stream",
     "text": [
      "Step 2300 - Loss: 66849.84375\n"
     ]
    },
    {
     "name": "stderr",
     "output_type": "stream",
     "text": [
      " 24%|██▍       | 2403/10000 [01:21<05:07, 24.74it/s]"
     ]
    },
    {
     "name": "stdout",
     "output_type": "stream",
     "text": [
      "Step 2400 - Loss: 66833.25\n"
     ]
    },
    {
     "name": "stderr",
     "output_type": "stream",
     "text": [
      " 25%|██▌       | 2507/10000 [01:25<03:34, 34.88it/s]"
     ]
    },
    {
     "name": "stdout",
     "output_type": "stream",
     "text": [
      "Step 2500 - Loss: 66830.890625\n"
     ]
    },
    {
     "name": "stderr",
     "output_type": "stream",
     "text": [
      " 26%|██▌       | 2605/10000 [01:28<03:54, 31.50it/s]"
     ]
    },
    {
     "name": "stdout",
     "output_type": "stream",
     "text": [
      "Step 2600 - Loss: 66866.640625\n"
     ]
    },
    {
     "name": "stderr",
     "output_type": "stream",
     "text": [
      " 27%|██▋       | 2707/10000 [01:32<03:51, 31.49it/s]"
     ]
    },
    {
     "name": "stdout",
     "output_type": "stream",
     "text": [
      "Step 2700 - Loss: 66826.3359375\n"
     ]
    },
    {
     "name": "stderr",
     "output_type": "stream",
     "text": [
      " 28%|██▊       | 2807/10000 [01:35<03:43, 32.25it/s]"
     ]
    },
    {
     "name": "stdout",
     "output_type": "stream",
     "text": [
      "Step 2800 - Loss: 66830.7578125\n"
     ]
    },
    {
     "name": "stderr",
     "output_type": "stream",
     "text": [
      " 29%|██▉       | 2907/10000 [01:38<03:24, 34.60it/s]"
     ]
    },
    {
     "name": "stdout",
     "output_type": "stream",
     "text": [
      "Step 2900 - Loss: 66826.8203125\n"
     ]
    },
    {
     "name": "stderr",
     "output_type": "stream",
     "text": [
      " 30%|███       | 3007/10000 [01:41<03:17, 35.34it/s]"
     ]
    },
    {
     "name": "stdout",
     "output_type": "stream",
     "text": [
      "Step 3000 - Loss: 66824.3203125\n"
     ]
    },
    {
     "name": "stderr",
     "output_type": "stream",
     "text": [
      " 31%|███       | 3103/10000 [01:45<05:52, 19.54it/s]"
     ]
    },
    {
     "name": "stdout",
     "output_type": "stream",
     "text": [
      "Step 3100 - Loss: 66820.5234375\n"
     ]
    },
    {
     "name": "stderr",
     "output_type": "stream",
     "text": [
      " 32%|███▏      | 3205/10000 [01:50<04:21, 26.01it/s]"
     ]
    },
    {
     "name": "stdout",
     "output_type": "stream",
     "text": [
      "Step 3200 - Loss: 66830.3359375\n"
     ]
    },
    {
     "name": "stderr",
     "output_type": "stream",
     "text": [
      " 33%|███▎      | 3307/10000 [01:54<04:11, 26.66it/s]"
     ]
    },
    {
     "name": "stdout",
     "output_type": "stream",
     "text": [
      "Step 3300 - Loss: 66831.3359375\n"
     ]
    },
    {
     "name": "stderr",
     "output_type": "stream",
     "text": [
      " 34%|███▍      | 3403/10000 [01:59<04:27, 24.67it/s]"
     ]
    },
    {
     "name": "stdout",
     "output_type": "stream",
     "text": [
      "Step 3400 - Loss: 66815.59375\n"
     ]
    },
    {
     "name": "stderr",
     "output_type": "stream",
     "text": [
      " 35%|███▌      | 3503/10000 [02:04<03:51, 28.11it/s]"
     ]
    },
    {
     "name": "stdout",
     "output_type": "stream",
     "text": [
      "Step 3500 - Loss: 66818.96875\n"
     ]
    },
    {
     "name": "stderr",
     "output_type": "stream",
     "text": [
      " 36%|███▌      | 3605/10000 [02:08<03:34, 29.78it/s]"
     ]
    },
    {
     "name": "stdout",
     "output_type": "stream",
     "text": [
      "Step 3600 - Loss: 66822.9453125\n"
     ]
    },
    {
     "name": "stderr",
     "output_type": "stream",
     "text": [
      " 37%|███▋      | 3703/10000 [02:11<03:23, 30.88it/s]"
     ]
    },
    {
     "name": "stdout",
     "output_type": "stream",
     "text": [
      "Step 3700 - Loss: 66814.890625\n"
     ]
    },
    {
     "name": "stderr",
     "output_type": "stream",
     "text": [
      " 38%|███▊      | 3804/10000 [02:15<03:23, 30.51it/s]"
     ]
    },
    {
     "name": "stdout",
     "output_type": "stream",
     "text": [
      "Step 3800 - Loss: 66821.5\n"
     ]
    },
    {
     "name": "stderr",
     "output_type": "stream",
     "text": [
      " 39%|███▉      | 3906/10000 [02:18<03:19, 30.55it/s]"
     ]
    },
    {
     "name": "stdout",
     "output_type": "stream",
     "text": [
      "Step 3900 - Loss: 66824.46875\n"
     ]
    },
    {
     "name": "stderr",
     "output_type": "stream",
     "text": [
      " 40%|████      | 4005/10000 [02:22<03:26, 28.98it/s]"
     ]
    },
    {
     "name": "stdout",
     "output_type": "stream",
     "text": [
      "Step 4000 - Loss: 66822.6484375\n"
     ]
    },
    {
     "name": "stderr",
     "output_type": "stream",
     "text": [
      " 41%|████      | 4105/10000 [02:25<03:14, 30.32it/s]"
     ]
    },
    {
     "name": "stdout",
     "output_type": "stream",
     "text": [
      "Step 4100 - Loss: 66813.5546875\n"
     ]
    },
    {
     "name": "stderr",
     "output_type": "stream",
     "text": [
      " 42%|████▏     | 4203/10000 [02:29<03:10, 30.38it/s]"
     ]
    },
    {
     "name": "stdout",
     "output_type": "stream",
     "text": [
      "Step 4200 - Loss: 66818.421875\n"
     ]
    },
    {
     "name": "stderr",
     "output_type": "stream",
     "text": [
      " 43%|████▎     | 4306/10000 [02:34<03:15, 29.12it/s]"
     ]
    },
    {
     "name": "stdout",
     "output_type": "stream",
     "text": [
      "Step 4300 - Loss: 66808.7890625\n"
     ]
    },
    {
     "name": "stderr",
     "output_type": "stream",
     "text": [
      " 44%|████▍     | 4404/10000 [02:37<03:37, 25.74it/s]"
     ]
    },
    {
     "name": "stdout",
     "output_type": "stream",
     "text": [
      "Step 4400 - Loss: 66807.9453125\n"
     ]
    },
    {
     "name": "stderr",
     "output_type": "stream",
     "text": [
      " 45%|████▌     | 4505/10000 [02:41<03:00, 30.50it/s]"
     ]
    },
    {
     "name": "stdout",
     "output_type": "stream",
     "text": [
      "Step 4500 - Loss: 66814.6640625\n"
     ]
    },
    {
     "name": "stderr",
     "output_type": "stream",
     "text": [
      " 46%|████▌     | 4605/10000 [02:45<04:01, 22.37it/s]"
     ]
    },
    {
     "name": "stdout",
     "output_type": "stream",
     "text": [
      "Step 4600 - Loss: 66808.0625\n"
     ]
    },
    {
     "name": "stderr",
     "output_type": "stream",
     "text": [
      " 47%|████▋     | 4703/10000 [02:49<03:09, 27.88it/s]"
     ]
    },
    {
     "name": "stdout",
     "output_type": "stream",
     "text": [
      "Step 4700 - Loss: 66808.921875\n"
     ]
    },
    {
     "name": "stderr",
     "output_type": "stream",
     "text": [
      " 48%|████▊     | 4807/10000 [02:54<02:59, 28.97it/s]"
     ]
    },
    {
     "name": "stdout",
     "output_type": "stream",
     "text": [
      "Step 4800 - Loss: 66808.46875\n"
     ]
    },
    {
     "name": "stderr",
     "output_type": "stream",
     "text": [
      " 49%|████▉     | 4906/10000 [02:58<03:15, 26.05it/s]"
     ]
    },
    {
     "name": "stdout",
     "output_type": "stream",
     "text": [
      "Step 4900 - Loss: 66806.6796875\n"
     ]
    },
    {
     "name": "stderr",
     "output_type": "stream",
     "text": [
      " 50%|█████     | 5007/10000 [03:01<02:57, 28.15it/s]"
     ]
    },
    {
     "name": "stdout",
     "output_type": "stream",
     "text": [
      "Step 5000 - Loss: 66809.34375\n"
     ]
    },
    {
     "name": "stderr",
     "output_type": "stream",
     "text": [
      " 51%|█████     | 5104/10000 [03:05<02:58, 27.50it/s]"
     ]
    },
    {
     "name": "stdout",
     "output_type": "stream",
     "text": [
      "Step 5100 - Loss: 66804.2890625\n"
     ]
    },
    {
     "name": "stderr",
     "output_type": "stream",
     "text": [
      " 52%|█████▏    | 5207/10000 [03:10<02:44, 29.22it/s]"
     ]
    },
    {
     "name": "stdout",
     "output_type": "stream",
     "text": [
      "Step 5200 - Loss: 66809.4609375\n"
     ]
    },
    {
     "name": "stderr",
     "output_type": "stream",
     "text": [
      " 53%|█████▎    | 5306/10000 [03:13<02:42, 28.88it/s]"
     ]
    },
    {
     "name": "stdout",
     "output_type": "stream",
     "text": [
      "Step 5300 - Loss: 66812.9921875\n"
     ]
    },
    {
     "name": "stderr",
     "output_type": "stream",
     "text": [
      " 54%|█████▍    | 5405/10000 [03:17<02:44, 27.99it/s]"
     ]
    },
    {
     "name": "stdout",
     "output_type": "stream",
     "text": [
      "Step 5400 - Loss: 66805.78125\n"
     ]
    },
    {
     "name": "stderr",
     "output_type": "stream",
     "text": [
      " 55%|█████▌    | 5503/10000 [03:21<04:09, 18.04it/s]"
     ]
    },
    {
     "name": "stdout",
     "output_type": "stream",
     "text": [
      "Step 5500 - Loss: 66805.2890625\n"
     ]
    },
    {
     "name": "stderr",
     "output_type": "stream",
     "text": [
      " 56%|█████▌    | 5604/10000 [03:29<06:27, 11.35it/s]"
     ]
    },
    {
     "name": "stdout",
     "output_type": "stream",
     "text": [
      "Step 5600 - Loss: 66804.9453125\n"
     ]
    },
    {
     "name": "stderr",
     "output_type": "stream",
     "text": [
      " 57%|█████▋    | 5705/10000 [03:33<03:04, 23.32it/s]"
     ]
    },
    {
     "name": "stdout",
     "output_type": "stream",
     "text": [
      "Step 5700 - Loss: 66803.6796875\n"
     ]
    },
    {
     "name": "stderr",
     "output_type": "stream",
     "text": [
      " 58%|█████▊    | 5806/10000 [03:36<02:13, 31.44it/s]"
     ]
    },
    {
     "name": "stdout",
     "output_type": "stream",
     "text": [
      "Step 5800 - Loss: 66803.3515625\n"
     ]
    },
    {
     "name": "stderr",
     "output_type": "stream",
     "text": [
      " 59%|█████▉    | 5906/10000 [03:40<02:05, 32.54it/s]"
     ]
    },
    {
     "name": "stdout",
     "output_type": "stream",
     "text": [
      "Step 5900 - Loss: 66805.0546875\n"
     ]
    },
    {
     "name": "stderr",
     "output_type": "stream",
     "text": [
      " 60%|██████    | 6005/10000 [03:43<02:20, 28.41it/s]"
     ]
    },
    {
     "name": "stdout",
     "output_type": "stream",
     "text": [
      "Step 6000 - Loss: 66805.6875\n"
     ]
    },
    {
     "name": "stderr",
     "output_type": "stream",
     "text": [
      " 61%|██████    | 6107/10000 [03:46<01:59, 32.50it/s]"
     ]
    },
    {
     "name": "stdout",
     "output_type": "stream",
     "text": [
      "Step 6100 - Loss: 66804.0\n"
     ]
    },
    {
     "name": "stderr",
     "output_type": "stream",
     "text": [
      " 62%|██████▏   | 6207/10000 [03:49<01:53, 33.31it/s]"
     ]
    },
    {
     "name": "stdout",
     "output_type": "stream",
     "text": [
      "Step 6200 - Loss: 66800.6953125\n"
     ]
    },
    {
     "name": "stderr",
     "output_type": "stream",
     "text": [
      " 63%|██████▎   | 6307/10000 [03:52<01:42, 36.05it/s]"
     ]
    },
    {
     "name": "stdout",
     "output_type": "stream",
     "text": [
      "Step 6300 - Loss: 66808.2109375\n"
     ]
    },
    {
     "name": "stderr",
     "output_type": "stream",
     "text": [
      " 64%|██████▍   | 6407/10000 [03:55<01:41, 35.33it/s]"
     ]
    },
    {
     "name": "stdout",
     "output_type": "stream",
     "text": [
      "Step 6400 - Loss: 66803.9375\n"
     ]
    },
    {
     "name": "stderr",
     "output_type": "stream",
     "text": [
      " 65%|██████▌   | 6505/10000 [03:59<02:05, 27.74it/s]"
     ]
    },
    {
     "name": "stdout",
     "output_type": "stream",
     "text": [
      "Step 6500 - Loss: 66803.96875\n"
     ]
    },
    {
     "name": "stderr",
     "output_type": "stream",
     "text": [
      " 66%|██████▌   | 6603/10000 [04:02<01:43, 32.82it/s]"
     ]
    },
    {
     "name": "stdout",
     "output_type": "stream",
     "text": [
      "Step 6600 - Loss: 66802.3515625\n"
     ]
    },
    {
     "name": "stderr",
     "output_type": "stream",
     "text": [
      " 67%|██████▋   | 6706/10000 [04:05<01:37, 33.94it/s]"
     ]
    },
    {
     "name": "stdout",
     "output_type": "stream",
     "text": [
      "Step 6700 - Loss: 66802.1171875\n"
     ]
    },
    {
     "name": "stderr",
     "output_type": "stream",
     "text": [
      " 68%|██████▊   | 6806/10000 [04:08<01:33, 34.21it/s]"
     ]
    },
    {
     "name": "stdout",
     "output_type": "stream",
     "text": [
      "Step 6800 - Loss: 66803.78125\n"
     ]
    },
    {
     "name": "stderr",
     "output_type": "stream",
     "text": [
      " 69%|██████▉   | 6905/10000 [04:11<01:47, 28.76it/s]"
     ]
    },
    {
     "name": "stdout",
     "output_type": "stream",
     "text": [
      "Step 6900 - Loss: 66800.953125\n"
     ]
    },
    {
     "name": "stderr",
     "output_type": "stream",
     "text": [
      " 70%|███████   | 7006/10000 [04:15<01:23, 35.65it/s]"
     ]
    },
    {
     "name": "stdout",
     "output_type": "stream",
     "text": [
      "Step 7000 - Loss: 66801.1953125\n"
     ]
    },
    {
     "name": "stderr",
     "output_type": "stream",
     "text": [
      " 71%|███████   | 7106/10000 [04:17<01:18, 37.07it/s]"
     ]
    },
    {
     "name": "stdout",
     "output_type": "stream",
     "text": [
      "Step 7100 - Loss: 66798.8203125\n"
     ]
    },
    {
     "name": "stderr",
     "output_type": "stream",
     "text": [
      " 72%|███████▏  | 7206/10000 [04:20<01:19, 35.26it/s]"
     ]
    },
    {
     "name": "stdout",
     "output_type": "stream",
     "text": [
      "Step 7200 - Loss: 66800.125\n"
     ]
    },
    {
     "name": "stderr",
     "output_type": "stream",
     "text": [
      " 73%|███████▎  | 7302/10000 [04:23<01:20, 33.70it/s]"
     ]
    },
    {
     "name": "stdout",
     "output_type": "stream",
     "text": [
      "Step 7300 - Loss: 66800.8125\n"
     ]
    },
    {
     "name": "stderr",
     "output_type": "stream",
     "text": [
      " 74%|███████▍  | 7406/10000 [04:26<01:12, 35.88it/s]"
     ]
    },
    {
     "name": "stdout",
     "output_type": "stream",
     "text": [
      "Step 7400 - Loss: 66800.6015625\n"
     ]
    },
    {
     "name": "stderr",
     "output_type": "stream",
     "text": [
      " 75%|███████▌  | 7506/10000 [04:29<01:10, 35.63it/s]"
     ]
    },
    {
     "name": "stdout",
     "output_type": "stream",
     "text": [
      "Step 7500 - Loss: 66801.3515625\n"
     ]
    },
    {
     "name": "stderr",
     "output_type": "stream",
     "text": [
      " 76%|███████▌  | 7606/10000 [04:32<01:03, 37.51it/s]"
     ]
    },
    {
     "name": "stdout",
     "output_type": "stream",
     "text": [
      "Step 7600 - Loss: 66800.765625\n"
     ]
    },
    {
     "name": "stderr",
     "output_type": "stream",
     "text": [
      " 77%|███████▋  | 7706/10000 [04:35<01:13, 31.21it/s]"
     ]
    },
    {
     "name": "stdout",
     "output_type": "stream",
     "text": [
      "Step 7700 - Loss: 66805.21875\n"
     ]
    },
    {
     "name": "stderr",
     "output_type": "stream",
     "text": [
      " 78%|███████▊  | 7806/10000 [04:38<01:07, 32.47it/s]"
     ]
    },
    {
     "name": "stdout",
     "output_type": "stream",
     "text": [
      "Step 7800 - Loss: 66801.34375\n"
     ]
    },
    {
     "name": "stderr",
     "output_type": "stream",
     "text": [
      " 79%|███████▉  | 7906/10000 [04:41<00:56, 37.38it/s]"
     ]
    },
    {
     "name": "stdout",
     "output_type": "stream",
     "text": [
      "Step 7900 - Loss: 66800.828125\n"
     ]
    },
    {
     "name": "stderr",
     "output_type": "stream",
     "text": [
      " 80%|████████  | 8006/10000 [04:44<00:59, 33.37it/s]"
     ]
    },
    {
     "name": "stdout",
     "output_type": "stream",
     "text": [
      "Step 8000 - Loss: 66805.2265625\n"
     ]
    },
    {
     "name": "stderr",
     "output_type": "stream",
     "text": [
      " 81%|████████  | 8106/10000 [04:47<00:53, 35.20it/s]"
     ]
    },
    {
     "name": "stdout",
     "output_type": "stream",
     "text": [
      "Step 8100 - Loss: 66802.171875\n"
     ]
    },
    {
     "name": "stderr",
     "output_type": "stream",
     "text": [
      " 82%|████████▏ | 8206/10000 [04:50<00:59, 30.06it/s]"
     ]
    },
    {
     "name": "stdout",
     "output_type": "stream",
     "text": [
      "Step 8200 - Loss: 66799.8125\n"
     ]
    },
    {
     "name": "stderr",
     "output_type": "stream",
     "text": [
      " 83%|████████▎ | 8306/10000 [04:53<00:58, 28.99it/s]"
     ]
    },
    {
     "name": "stdout",
     "output_type": "stream",
     "text": [
      "Step 8300 - Loss: 66800.3046875\n"
     ]
    },
    {
     "name": "stderr",
     "output_type": "stream",
     "text": [
      " 84%|████████▍ | 8408/10000 [04:56<00:44, 35.71it/s]"
     ]
    },
    {
     "name": "stdout",
     "output_type": "stream",
     "text": [
      "Step 8400 - Loss: 66796.09375\n"
     ]
    },
    {
     "name": "stderr",
     "output_type": "stream",
     "text": [
      " 85%|████████▌ | 8504/10000 [04:59<00:43, 34.30it/s]"
     ]
    },
    {
     "name": "stdout",
     "output_type": "stream",
     "text": [
      "Step 8500 - Loss: 66804.4296875\n"
     ]
    },
    {
     "name": "stderr",
     "output_type": "stream",
     "text": [
      " 86%|████████▌ | 8608/10000 [05:02<00:38, 36.24it/s]"
     ]
    },
    {
     "name": "stdout",
     "output_type": "stream",
     "text": [
      "Step 8600 - Loss: 66796.7421875\n"
     ]
    },
    {
     "name": "stderr",
     "output_type": "stream",
     "text": [
      " 87%|████████▋ | 8708/10000 [05:05<00:36, 35.57it/s]"
     ]
    },
    {
     "name": "stdout",
     "output_type": "stream",
     "text": [
      "Step 8700 - Loss: 66802.3046875\n"
     ]
    },
    {
     "name": "stderr",
     "output_type": "stream",
     "text": [
      " 88%|████████▊ | 8804/10000 [05:08<00:34, 34.79it/s]"
     ]
    },
    {
     "name": "stdout",
     "output_type": "stream",
     "text": [
      "Step 8800 - Loss: 66796.6484375\n"
     ]
    },
    {
     "name": "stderr",
     "output_type": "stream",
     "text": [
      " 89%|████████▉ | 8907/10000 [05:11<00:31, 35.15it/s]"
     ]
    },
    {
     "name": "stdout",
     "output_type": "stream",
     "text": [
      "Step 8900 - Loss: 66798.3984375\n"
     ]
    },
    {
     "name": "stderr",
     "output_type": "stream",
     "text": [
      " 90%|█████████ | 9007/10000 [05:14<00:29, 33.16it/s]"
     ]
    },
    {
     "name": "stdout",
     "output_type": "stream",
     "text": [
      "Step 9000 - Loss: 66797.0\n"
     ]
    },
    {
     "name": "stderr",
     "output_type": "stream",
     "text": [
      " 91%|█████████ | 9107/10000 [05:17<00:25, 34.38it/s]"
     ]
    },
    {
     "name": "stdout",
     "output_type": "stream",
     "text": [
      "Step 9100 - Loss: 66795.859375\n"
     ]
    },
    {
     "name": "stderr",
     "output_type": "stream",
     "text": [
      " 92%|█████████▏| 9207/10000 [05:20<00:26, 30.26it/s]"
     ]
    },
    {
     "name": "stdout",
     "output_type": "stream",
     "text": [
      "Step 9200 - Loss: 66799.4140625\n"
     ]
    },
    {
     "name": "stderr",
     "output_type": "stream",
     "text": [
      " 93%|█████████▎| 9307/10000 [05:23<00:21, 31.96it/s]"
     ]
    },
    {
     "name": "stdout",
     "output_type": "stream",
     "text": [
      "Step 9300 - Loss: 66796.796875\n"
     ]
    },
    {
     "name": "stderr",
     "output_type": "stream",
     "text": [
      " 94%|█████████▍| 9404/10000 [05:26<00:17, 34.11it/s]"
     ]
    },
    {
     "name": "stdout",
     "output_type": "stream",
     "text": [
      "Step 9400 - Loss: 66797.03125\n"
     ]
    },
    {
     "name": "stderr",
     "output_type": "stream",
     "text": [
      " 95%|█████████▌| 9507/10000 [05:29<00:15, 32.86it/s]"
     ]
    },
    {
     "name": "stdout",
     "output_type": "stream",
     "text": [
      "Step 9500 - Loss: 66796.453125\n"
     ]
    },
    {
     "name": "stderr",
     "output_type": "stream",
     "text": [
      " 96%|█████████▌| 9604/10000 [05:32<00:12, 32.93it/s]"
     ]
    },
    {
     "name": "stdout",
     "output_type": "stream",
     "text": [
      "Step 9600 - Loss: 66800.2890625\n"
     ]
    },
    {
     "name": "stderr",
     "output_type": "stream",
     "text": [
      " 97%|█████████▋| 9706/10000 [05:35<00:08, 34.68it/s]"
     ]
    },
    {
     "name": "stdout",
     "output_type": "stream",
     "text": [
      "Step 9700 - Loss: 66800.7578125\n"
     ]
    },
    {
     "name": "stderr",
     "output_type": "stream",
     "text": [
      " 98%|█████████▊| 9805/10000 [05:39<00:06, 30.11it/s]"
     ]
    },
    {
     "name": "stdout",
     "output_type": "stream",
     "text": [
      "Step 9800 - Loss: 66796.421875\n"
     ]
    },
    {
     "name": "stderr",
     "output_type": "stream",
     "text": [
      " 99%|█████████▉| 9907/10000 [05:42<00:02, 32.37it/s]"
     ]
    },
    {
     "name": "stdout",
     "output_type": "stream",
     "text": [
      "Step 9900 - Loss: 66795.7734375\n"
     ]
    },
    {
     "name": "stderr",
     "output_type": "stream",
     "text": [
      "100%|██████████| 10000/10000 [05:45<00:00, 28.94it/s]\n"
     ]
    }
   ],
   "source": [
    "import pyro\n",
    "from tqdm import tqdm\n",
    "\n",
    "@pyro.infer.config_enumerate\n",
    "def pyro_noisy_networks_model(data):\n",
    "    \"\"\"\n",
    "    Network model for one noisy observed network. True network is geenrated from LSM.\n",
    "    :param x: pairwise x-differences\n",
    "    :param x2: pariwise x2-equality\n",
    "    :param triu_v: observed triu values (upper triangular)\n",
    "    :param N: number of units\n",
    "    :param K: latent variables dimension\n",
    "    \"\"\"\n",
    "\n",
    "    with pyro.plate(\"theta_dim\", 2):\n",
    "        theta = pyro.sample(\"theta\", pyro.distributions.Normal(0, 5))\n",
    "        # theta = pyro.sample(\"theta\", pyro.distributions.StudentT(df=5, loc=0, scale=2))\n",
    "\n",
    "    mu_net = theta[0] + theta[1]*data[\"x2_or\"]\n",
    "    mu_net = torch.clamp(mu_net, min=-30, max=30)\n",
    "\n",
    "    with pyro.plate(\"gamma_i\", 3):\n",
    "        gamma = pyro.sample(\"gamma\", pyro.distributions.Normal(0, 5))\n",
    "        # gamma = pyro.sample(\"gamma\", pyro.distributions.StudentT(df=5, loc=0, scale=2))\n",
    "\n",
    "    with pyro.plate(\"A* and A\", data[\"triu_obs\"].shape[0]):\n",
    "        triu_star = pyro.sample(\n",
    "            \"triu_star\",\n",
    "            pyro.distributions.Bernoulli(logits=mu_net),\n",
    "            infer={\"enumerate\": \"parallel\"},\n",
    "        )\n",
    "\n",
    "        logit_misspec = torch.where(\n",
    "            triu_star == 1.0, gamma[0], gamma[1] + gamma[2] * data[\"x_diff\"]\n",
    "        )\n",
    "\n",
    "        pyro.sample(\n",
    "            \"obs_triu\", pyro.distributions.Bernoulli(logits=logit_misspec), obs=data[\"triu_obs\"]\n",
    "        )\n",
    "\n",
    "def get_guide():\n",
    "        return pyro.infer.autoguide.AutoLowRankMultivariateNormal(\n",
    "            pyro.poutine.block(pyro_noisy_networks_model, hide=[\"triu_star\"]),\n",
    "            init_loc_fn=pyro.infer.autoguide.init_to_median(),\n",
    "        )\n",
    "\n",
    "pyro.clear_param_store()\n",
    "\n",
    "py_guide = get_guide()\n",
    "loss_fn = pyro.infer.TraceEnum_ELBO(max_plate_nesting=1)\n",
    "optimizer = pyro.optim.ClippedAdam({\"lr\": 0.001})\n",
    "svi = pyro.infer.SVI(pyro_noisy_networks_model, py_guide, optimizer, loss=loss_fn)\n",
    "\n",
    "num_steps = 10000\n",
    "losses_full = []\n",
    "for step in tqdm(range(num_steps)):\n",
    "    # svi.step(data_torch)\n",
    "    loss = svi.step(data_torch)\n",
    "    losses_full.append(loss)\n",
    "    if step % 100 == 0:\n",
    "        print(f\"Step {step} - Loss: {loss}\")\n",
    "\n",
    "\n"
   ]
  },
  {
   "cell_type": "code",
   "execution_count": 39,
   "metadata": {},
   "outputs": [
    {
     "name": "stdout",
     "output_type": "stream",
     "text": [
      "true gamma:  [ 2.1972244 -2.1972246  0.5      ] \n",
      " map gamma:  tensor([-0.0290, -2.4265,  0.5974]) \n",
      " true theta [-2.5  1. ] \n",
      " map theta:  tensor([-1.3854,  1.0348])\n"
     ]
    }
   ],
   "source": [
    "\n",
    "params = py_guide.median()\n",
    "\n",
    "print(\"true gamma: \", GAMMA, \"\\n\",\n",
    "        \"map gamma: \", params[\"gamma\"], \"\\n\",\n",
    "        \"true theta\", THETA, \"\\n\",\n",
    "        \"map theta: \", params[\"theta\"])"
   ]
  }
 ],
 "metadata": {
  "kernelspec": {
   "display_name": "Python 3",
   "language": "python",
   "name": "python3"
  },
  "language_info": {
   "codemirror_mode": {
    "name": "ipython",
    "version": 3
   },
   "file_extension": ".py",
   "mimetype": "text/x-python",
   "name": "python",
   "nbconvert_exporter": "python",
   "pygments_lexer": "ipython3",
   "version": "3.11.8"
  }
 },
 "nbformat": 4,
 "nbformat_minor": 2
}
