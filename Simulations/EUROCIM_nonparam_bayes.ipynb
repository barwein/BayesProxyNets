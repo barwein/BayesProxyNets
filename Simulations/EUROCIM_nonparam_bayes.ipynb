{
 "cells": [
  {
   "cell_type": "raw",
   "source": [
    "*E#%% md\n",
    "UROCIM 2024 -- Nonparametric bayesian inference*\n",
    "\n",
    "Notes:\n",
    "\n",
    "Sensitivity analysis.\n",
    "\n",
    "1. Represent causal effects as sensitivty parameters (SP), and put prior on them, instead of, e.g., running a parameteric bayesian regression\n",
    "$Y \\vert A=1, L=\\ell = \\beta_0 + \\beta_1\\ell$ v.s. $Y \\vert A=1, L=\\ell = \\alpha_0 + \\alpha_1\\ell$, and define $\\alpha_j = \\beta_j + \\delta_j$. Sensitvity parameters are now on $\\delta_j$ dist.\n",
    "\n",
    "2. Sensitivity analysis for conditional ignorability as a function of SP (slides 64-66)\n",
    "\n",
    "Nonparam bayes.\n",
    "\n",
    "3. BART. ``One BART\" (one BART model including treatment as covariate... very problematic); ``Two BART\" (two BART models, one for each treatment group... better but problematic for high-dim covariates); ``Two BART + PS\" (add propensity scores as covariates). All former assume homegenity of effects. Moreover, they can result in ``regualrization induced confounding\", that is, residual confounding due to the regularization priors on the BART construction. Alternatively, can use ``Bayesian causal forest\" which uses two BART models, one that do not interact with treatment and a second one that do.\n",
    "\n",
    "Dirichlet process mixtures (DPM).\n",
    "\n",
    "4. DPM are infinite mixtures, but to implement it you typically use truncated mixtures. Namely, the model is a finite mixture with `stick-breaking' prior for the latent class (instead of the usual Dirichlet prior used in mixture models). Q. what the is the benefit of that represnetation instead of standrad (finite) mixture models?\n",
    "\n",
    "GP.\n",
    "\n",
    "5. GP are mixtures of gaussian for priors of functions. DPP are prior for conditional distributions. DDP + GP enable flexible nonparameteric modelling of conditional distributions with flexible mean function (GP).\n",
    "\n",
    " \n",
    "\n",
    "\n"
   ],
   "metadata": {
    "collapsed": false
   },
   "id": "dc013a88932fc100"
  },
  {
   "cell_type": "code",
   "outputs": [],
   "source": [],
   "metadata": {
    "collapsed": false
   },
   "id": "5df01def8f9e819a"
  }
 ],
 "metadata": {
  "kernelspec": {
   "display_name": "Python 3",
   "language": "python",
   "name": "python3"
  },
  "language_info": {
   "codemirror_mode": {
    "name": "ipython",
    "version": 2
   },
   "file_extension": ".py",
   "mimetype": "text/x-python",
   "name": "python",
   "nbconvert_exporter": "python",
   "pygments_lexer": "ipython2",
   "version": "2.7.6"
  }
 },
 "nbformat": 4,
 "nbformat_minor": 5
}
