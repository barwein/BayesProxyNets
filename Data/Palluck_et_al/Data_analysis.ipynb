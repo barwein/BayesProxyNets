{
 "cells": [
  {
   "metadata": {
    "collapsed": true,
    "jupyter": {
     "outputs_hidden": true
    },
    "ExecuteTime": {
     "end_time": "2024-09-04T08:17:32.265234Z",
     "start_time": "2024-09-04T08:17:32.053465Z"
    }
   },
   "cell_type": "code",
   "source": [
    "import numpy as np\n",
    "import pandas as pd\n",
    "import pyreadr \n",
    "import networkx as nx\n",
    "import re\n",
    "from scipy import sparse\n",
    "import matplotlib.pyplot as plt\n",
    "import jax.numpy as jnp\n",
    "from jax import random, jit, vmap, pmap\n",
    "from itertools import combinations\n",
    "import importlib\n",
    "import pyro\n",
    "import torch\n",
    "from tqdm import tqdm\n",
    "\n",
    "# Autoreload magic commands\n",
    "%load_ext autoreload\n",
    "%autoreload 2\n",
    "\n",
    "import src.Aux_functions as aux\n",
    "import models_for_data_analysis as models\n",
    "import utils_for_inference as util\n",
    "import data_wrangle as dw\n",
    "import wrapper_functions as wrap\n",
    "\n",
    "importlib.reload(aux)\n",
    "importlib.reload(util)\n",
    "importlib.reload(models_for_data_analysis)\n",
    "\n",
    "from models_for_data_analysis import noisy_networks_model\n"
   ],
   "id": "initial_id",
   "outputs": [
    {
     "name": "stdout",
     "output_type": "stream",
     "text": [
      "The autoreload extension is already loaded. To reload it, use:\n",
      "  %reload_ext autoreload\n"
     ]
    },
    {
     "ename": "NameError",
     "evalue": "name 'models_for_data_analysis' is not defined",
     "output_type": "error",
     "traceback": [
      "\u001B[1;31m---------------------------------------------------------------------------\u001B[0m",
      "\u001B[1;31mNameError\u001B[0m                                 Traceback (most recent call last)",
      "Cell \u001B[1;32mIn[101], line 28\u001B[0m\n\u001B[0;32m     26\u001B[0m importlib\u001B[38;5;241m.\u001B[39mreload(aux)\n\u001B[0;32m     27\u001B[0m importlib\u001B[38;5;241m.\u001B[39mreload(util)\n\u001B[1;32m---> 28\u001B[0m importlib\u001B[38;5;241m.\u001B[39mreload(\u001B[43mmodels_for_data_analysis\u001B[49m)\n\u001B[0;32m     30\u001B[0m \u001B[38;5;28;01mfrom\u001B[39;00m \u001B[38;5;21;01mmodels_for_data_analysis\u001B[39;00m \u001B[38;5;28;01mimport\u001B[39;00m noisy_networks_model\n",
      "\u001B[1;31mNameError\u001B[0m: name 'models_for_data_analysis' is not defined"
     ]
    }
   ],
   "execution_count": 101
  },
  {
   "cell_type": "code",
   "id": "8e0d4ac2495b6af9",
   "metadata": {
    "ExecuteTime": {
     "end_time": "2024-09-04T05:56:15.106600Z",
     "start_time": "2024-09-04T05:54:50.248672Z"
    }
   },
   "source": [
    "# Load data\n",
    "all_schools = pyreadr.read_r('37070-0001-Data.rda')\n",
    "all_schools = pd.DataFrame(all_schools['da37070.0001'])\n",
    "all_schools"
   ],
   "outputs": [
    {
     "data": {
      "text/plain": [
       "       SCHID        UID                                         SCHTREAT  \\\n",
       "0        1.0   100001.0  (1) Treatment school (Roots meetings 2012-2013)   \n",
       "1        1.0   100002.0  (1) Treatment school (Roots meetings 2012-2013)   \n",
       "2        1.0   100003.0  (1) Treatment school (Roots meetings 2012-2013)   \n",
       "3        1.0   100004.0  (1) Treatment school (Roots meetings 2012-2013)   \n",
       "4        1.0   100005.0  (1) Treatment school (Roots meetings 2012-2013)   \n",
       "...      ...        ...                                              ...   \n",
       "24466   60.0  6000670.0  (1) Treatment school (Roots meetings 2012-2013)   \n",
       "24467   60.0  6000671.0  (1) Treatment school (Roots meetings 2012-2013)   \n",
       "24468   60.0  6000672.0  (1) Treatment school (Roots meetings 2012-2013)   \n",
       "24469   60.0  6000673.0  (1) Treatment school (Roots meetings 2012-2013)   \n",
       "24470   60.0  6000674.0  (1) Treatment school (Roots meetings 2012-2013)   \n",
       "\n",
       "      SCHRB         ID                         TREAT  STRB     SID1  \\\n",
       "0        3   1          (0) Not treatment or control   0.0  5114      \n",
       "1        3   2                           (2) Control   4.0  5108      \n",
       "2        3   3          (0) Not treatment or control   0.0  5100      \n",
       "3        3   4          (0) Not treatment or control   0.0  5101      \n",
       "4        3   5          (0) Not treatment or control   0.0  5087      \n",
       "...     ...        ...                           ...   ...      ...   \n",
       "24466    11  670                                 NaN   NaN  13897     \n",
       "24467    11  671                                 NaN   NaN  14054     \n",
       "24468    11  672                                 NaN   NaN  13985     \n",
       "24469    11  673                                 NaN   NaN            \n",
       "24470    11  674                                 NaN   NaN            \n",
       "\n",
       "                 SID3            SID4  ...        AM_F        PI_M  \\\n",
       "0      5114            5114            ...  (001) 0-10  (001) 0-10   \n",
       "1      5108            5108            ...  (001) 0-10  (001) 0-10   \n",
       "2      5100            5100            ...  (001) 0-10  (001) 0-10   \n",
       "3      5101            5101            ...  (001) 0-10  (001) 0-10   \n",
       "4      5087            5087            ...  (001) 0-10  (001) 0-10   \n",
       "...               ...             ...  ...         ...         ...   \n",
       "24466  13897           13897           ...  (001) 0-10  (001) 0-10   \n",
       "24467  14054           14054           ...  (001) 0-10  (001) 0-10   \n",
       "24468  13985           13985           ...  (001) 0-10  (001) 0-10   \n",
       "24469                                  ...  (001) 0-10  (001) 0-10   \n",
       "24470                                  ...  (001) 0-10  (001) 0-10   \n",
       "\n",
       "             PI_F        MU_M        MU_F      ROW_TOTAL   FREE_LUNCH  \\\n",
       "0      (001) 0-10  (001) 0-10  (001) 0-10  (029) 281-290  (008) 71-80   \n",
       "1      (001) 0-10  (001) 0-10  (001) 0-10  (029) 281-290  (008) 71-80   \n",
       "2      (001) 0-10  (001) 0-10  (001) 0-10  (029) 281-290  (008) 71-80   \n",
       "3      (001) 0-10  (001) 0-10  (001) 0-10  (029) 281-290  (008) 71-80   \n",
       "4      (001) 0-10  (001) 0-10  (001) 0-10  (029) 281-290  (008) 71-80   \n",
       "...           ...         ...         ...            ...          ...   \n",
       "24466  (001) 0-10  (001) 0-10  (001) 0-10  (071) 701-710  (004) 31-40   \n",
       "24467  (001) 0-10  (001) 0-10  (001) 0-10  (071) 701-710  (004) 31-40   \n",
       "24468  (001) 0-10  (001) 0-10  (001) 0-10  (071) 701-710  (004) 31-40   \n",
       "24469  (001) 0-10  (001) 0-10  (001) 0-10  (071) 701-710  (004) 31-40   \n",
       "24470  (001) 0-10  (001) 0-10  (001) 0-10  (071) 701-710  (004) 31-40   \n",
       "\n",
       "       REDUCED_LUNCH         LEP            MIGRANT  \n",
       "0        (005) 41-50  (001) 0-10  [MASKED BY ICPSR]  \n",
       "1        (005) 41-50  (001) 0-10  [MASKED BY ICPSR]  \n",
       "2        (005) 41-50  (001) 0-10  [MASKED BY ICPSR]  \n",
       "3        (005) 41-50  (001) 0-10  [MASKED BY ICPSR]  \n",
       "4        (005) 41-50  (001) 0-10  [MASKED BY ICPSR]  \n",
       "...              ...         ...                ...  \n",
       "24466    (002) 11-20  (001) 0-10  [MASKED BY ICPSR]  \n",
       "24467    (002) 11-20  (001) 0-10  [MASKED BY ICPSR]  \n",
       "24468    (002) 11-20  (001) 0-10  [MASKED BY ICPSR]  \n",
       "24469    (002) 11-20  (001) 0-10  [MASKED BY ICPSR]  \n",
       "24470    (002) 11-20  (001) 0-10  [MASKED BY ICPSR]  \n",
       "\n",
       "[24471 rows x 499 columns]"
      ],
      "text/html": [
       "<div>\n",
       "<style scoped>\n",
       "    .dataframe tbody tr th:only-of-type {\n",
       "        vertical-align: middle;\n",
       "    }\n",
       "\n",
       "    .dataframe tbody tr th {\n",
       "        vertical-align: top;\n",
       "    }\n",
       "\n",
       "    .dataframe thead th {\n",
       "        text-align: right;\n",
       "    }\n",
       "</style>\n",
       "<table border=\"1\" class=\"dataframe\">\n",
       "  <thead>\n",
       "    <tr style=\"text-align: right;\">\n",
       "      <th></th>\n",
       "      <th>SCHID</th>\n",
       "      <th>UID</th>\n",
       "      <th>SCHTREAT</th>\n",
       "      <th>SCHRB</th>\n",
       "      <th>ID</th>\n",
       "      <th>TREAT</th>\n",
       "      <th>STRB</th>\n",
       "      <th>SID1</th>\n",
       "      <th>SID3</th>\n",
       "      <th>SID4</th>\n",
       "      <th>...</th>\n",
       "      <th>AM_F</th>\n",
       "      <th>PI_M</th>\n",
       "      <th>PI_F</th>\n",
       "      <th>MU_M</th>\n",
       "      <th>MU_F</th>\n",
       "      <th>ROW_TOTAL</th>\n",
       "      <th>FREE_LUNCH</th>\n",
       "      <th>REDUCED_LUNCH</th>\n",
       "      <th>LEP</th>\n",
       "      <th>MIGRANT</th>\n",
       "    </tr>\n",
       "  </thead>\n",
       "  <tbody>\n",
       "    <tr>\n",
       "      <th>0</th>\n",
       "      <td>1.0</td>\n",
       "      <td>100001.0</td>\n",
       "      <td>(1) Treatment school (Roots meetings 2012-2013)</td>\n",
       "      <td>3</td>\n",
       "      <td>1</td>\n",
       "      <td>(0) Not treatment or control</td>\n",
       "      <td>0.0</td>\n",
       "      <td>5114</td>\n",
       "      <td>5114</td>\n",
       "      <td>5114</td>\n",
       "      <td>...</td>\n",
       "      <td>(001) 0-10</td>\n",
       "      <td>(001) 0-10</td>\n",
       "      <td>(001) 0-10</td>\n",
       "      <td>(001) 0-10</td>\n",
       "      <td>(001) 0-10</td>\n",
       "      <td>(029) 281-290</td>\n",
       "      <td>(008) 71-80</td>\n",
       "      <td>(005) 41-50</td>\n",
       "      <td>(001) 0-10</td>\n",
       "      <td>[MASKED BY ICPSR]</td>\n",
       "    </tr>\n",
       "    <tr>\n",
       "      <th>1</th>\n",
       "      <td>1.0</td>\n",
       "      <td>100002.0</td>\n",
       "      <td>(1) Treatment school (Roots meetings 2012-2013)</td>\n",
       "      <td>3</td>\n",
       "      <td>2</td>\n",
       "      <td>(2) Control</td>\n",
       "      <td>4.0</td>\n",
       "      <td>5108</td>\n",
       "      <td>5108</td>\n",
       "      <td>5108</td>\n",
       "      <td>...</td>\n",
       "      <td>(001) 0-10</td>\n",
       "      <td>(001) 0-10</td>\n",
       "      <td>(001) 0-10</td>\n",
       "      <td>(001) 0-10</td>\n",
       "      <td>(001) 0-10</td>\n",
       "      <td>(029) 281-290</td>\n",
       "      <td>(008) 71-80</td>\n",
       "      <td>(005) 41-50</td>\n",
       "      <td>(001) 0-10</td>\n",
       "      <td>[MASKED BY ICPSR]</td>\n",
       "    </tr>\n",
       "    <tr>\n",
       "      <th>2</th>\n",
       "      <td>1.0</td>\n",
       "      <td>100003.0</td>\n",
       "      <td>(1) Treatment school (Roots meetings 2012-2013)</td>\n",
       "      <td>3</td>\n",
       "      <td>3</td>\n",
       "      <td>(0) Not treatment or control</td>\n",
       "      <td>0.0</td>\n",
       "      <td>5100</td>\n",
       "      <td>5100</td>\n",
       "      <td>5100</td>\n",
       "      <td>...</td>\n",
       "      <td>(001) 0-10</td>\n",
       "      <td>(001) 0-10</td>\n",
       "      <td>(001) 0-10</td>\n",
       "      <td>(001) 0-10</td>\n",
       "      <td>(001) 0-10</td>\n",
       "      <td>(029) 281-290</td>\n",
       "      <td>(008) 71-80</td>\n",
       "      <td>(005) 41-50</td>\n",
       "      <td>(001) 0-10</td>\n",
       "      <td>[MASKED BY ICPSR]</td>\n",
       "    </tr>\n",
       "    <tr>\n",
       "      <th>3</th>\n",
       "      <td>1.0</td>\n",
       "      <td>100004.0</td>\n",
       "      <td>(1) Treatment school (Roots meetings 2012-2013)</td>\n",
       "      <td>3</td>\n",
       "      <td>4</td>\n",
       "      <td>(0) Not treatment or control</td>\n",
       "      <td>0.0</td>\n",
       "      <td>5101</td>\n",
       "      <td>5101</td>\n",
       "      <td>5101</td>\n",
       "      <td>...</td>\n",
       "      <td>(001) 0-10</td>\n",
       "      <td>(001) 0-10</td>\n",
       "      <td>(001) 0-10</td>\n",
       "      <td>(001) 0-10</td>\n",
       "      <td>(001) 0-10</td>\n",
       "      <td>(029) 281-290</td>\n",
       "      <td>(008) 71-80</td>\n",
       "      <td>(005) 41-50</td>\n",
       "      <td>(001) 0-10</td>\n",
       "      <td>[MASKED BY ICPSR]</td>\n",
       "    </tr>\n",
       "    <tr>\n",
       "      <th>4</th>\n",
       "      <td>1.0</td>\n",
       "      <td>100005.0</td>\n",
       "      <td>(1) Treatment school (Roots meetings 2012-2013)</td>\n",
       "      <td>3</td>\n",
       "      <td>5</td>\n",
       "      <td>(0) Not treatment or control</td>\n",
       "      <td>0.0</td>\n",
       "      <td>5087</td>\n",
       "      <td>5087</td>\n",
       "      <td>5087</td>\n",
       "      <td>...</td>\n",
       "      <td>(001) 0-10</td>\n",
       "      <td>(001) 0-10</td>\n",
       "      <td>(001) 0-10</td>\n",
       "      <td>(001) 0-10</td>\n",
       "      <td>(001) 0-10</td>\n",
       "      <td>(029) 281-290</td>\n",
       "      <td>(008) 71-80</td>\n",
       "      <td>(005) 41-50</td>\n",
       "      <td>(001) 0-10</td>\n",
       "      <td>[MASKED BY ICPSR]</td>\n",
       "    </tr>\n",
       "    <tr>\n",
       "      <th>...</th>\n",
       "      <td>...</td>\n",
       "      <td>...</td>\n",
       "      <td>...</td>\n",
       "      <td>...</td>\n",
       "      <td>...</td>\n",
       "      <td>...</td>\n",
       "      <td>...</td>\n",
       "      <td>...</td>\n",
       "      <td>...</td>\n",
       "      <td>...</td>\n",
       "      <td>...</td>\n",
       "      <td>...</td>\n",
       "      <td>...</td>\n",
       "      <td>...</td>\n",
       "      <td>...</td>\n",
       "      <td>...</td>\n",
       "      <td>...</td>\n",
       "      <td>...</td>\n",
       "      <td>...</td>\n",
       "      <td>...</td>\n",
       "      <td>...</td>\n",
       "    </tr>\n",
       "    <tr>\n",
       "      <th>24466</th>\n",
       "      <td>60.0</td>\n",
       "      <td>6000670.0</td>\n",
       "      <td>(1) Treatment school (Roots meetings 2012-2013)</td>\n",
       "      <td>11</td>\n",
       "      <td>670</td>\n",
       "      <td>NaN</td>\n",
       "      <td>NaN</td>\n",
       "      <td>13897</td>\n",
       "      <td>13897</td>\n",
       "      <td>13897</td>\n",
       "      <td>...</td>\n",
       "      <td>(001) 0-10</td>\n",
       "      <td>(001) 0-10</td>\n",
       "      <td>(001) 0-10</td>\n",
       "      <td>(001) 0-10</td>\n",
       "      <td>(001) 0-10</td>\n",
       "      <td>(071) 701-710</td>\n",
       "      <td>(004) 31-40</td>\n",
       "      <td>(002) 11-20</td>\n",
       "      <td>(001) 0-10</td>\n",
       "      <td>[MASKED BY ICPSR]</td>\n",
       "    </tr>\n",
       "    <tr>\n",
       "      <th>24467</th>\n",
       "      <td>60.0</td>\n",
       "      <td>6000671.0</td>\n",
       "      <td>(1) Treatment school (Roots meetings 2012-2013)</td>\n",
       "      <td>11</td>\n",
       "      <td>671</td>\n",
       "      <td>NaN</td>\n",
       "      <td>NaN</td>\n",
       "      <td>14054</td>\n",
       "      <td>14054</td>\n",
       "      <td>14054</td>\n",
       "      <td>...</td>\n",
       "      <td>(001) 0-10</td>\n",
       "      <td>(001) 0-10</td>\n",
       "      <td>(001) 0-10</td>\n",
       "      <td>(001) 0-10</td>\n",
       "      <td>(001) 0-10</td>\n",
       "      <td>(071) 701-710</td>\n",
       "      <td>(004) 31-40</td>\n",
       "      <td>(002) 11-20</td>\n",
       "      <td>(001) 0-10</td>\n",
       "      <td>[MASKED BY ICPSR]</td>\n",
       "    </tr>\n",
       "    <tr>\n",
       "      <th>24468</th>\n",
       "      <td>60.0</td>\n",
       "      <td>6000672.0</td>\n",
       "      <td>(1) Treatment school (Roots meetings 2012-2013)</td>\n",
       "      <td>11</td>\n",
       "      <td>672</td>\n",
       "      <td>NaN</td>\n",
       "      <td>NaN</td>\n",
       "      <td>13985</td>\n",
       "      <td>13985</td>\n",
       "      <td>13985</td>\n",
       "      <td>...</td>\n",
       "      <td>(001) 0-10</td>\n",
       "      <td>(001) 0-10</td>\n",
       "      <td>(001) 0-10</td>\n",
       "      <td>(001) 0-10</td>\n",
       "      <td>(001) 0-10</td>\n",
       "      <td>(071) 701-710</td>\n",
       "      <td>(004) 31-40</td>\n",
       "      <td>(002) 11-20</td>\n",
       "      <td>(001) 0-10</td>\n",
       "      <td>[MASKED BY ICPSR]</td>\n",
       "    </tr>\n",
       "    <tr>\n",
       "      <th>24469</th>\n",
       "      <td>60.0</td>\n",
       "      <td>6000673.0</td>\n",
       "      <td>(1) Treatment school (Roots meetings 2012-2013)</td>\n",
       "      <td>11</td>\n",
       "      <td>673</td>\n",
       "      <td>NaN</td>\n",
       "      <td>NaN</td>\n",
       "      <td></td>\n",
       "      <td></td>\n",
       "      <td></td>\n",
       "      <td>...</td>\n",
       "      <td>(001) 0-10</td>\n",
       "      <td>(001) 0-10</td>\n",
       "      <td>(001) 0-10</td>\n",
       "      <td>(001) 0-10</td>\n",
       "      <td>(001) 0-10</td>\n",
       "      <td>(071) 701-710</td>\n",
       "      <td>(004) 31-40</td>\n",
       "      <td>(002) 11-20</td>\n",
       "      <td>(001) 0-10</td>\n",
       "      <td>[MASKED BY ICPSR]</td>\n",
       "    </tr>\n",
       "    <tr>\n",
       "      <th>24470</th>\n",
       "      <td>60.0</td>\n",
       "      <td>6000674.0</td>\n",
       "      <td>(1) Treatment school (Roots meetings 2012-2013)</td>\n",
       "      <td>11</td>\n",
       "      <td>674</td>\n",
       "      <td>NaN</td>\n",
       "      <td>NaN</td>\n",
       "      <td></td>\n",
       "      <td></td>\n",
       "      <td></td>\n",
       "      <td>...</td>\n",
       "      <td>(001) 0-10</td>\n",
       "      <td>(001) 0-10</td>\n",
       "      <td>(001) 0-10</td>\n",
       "      <td>(001) 0-10</td>\n",
       "      <td>(001) 0-10</td>\n",
       "      <td>(071) 701-710</td>\n",
       "      <td>(004) 31-40</td>\n",
       "      <td>(002) 11-20</td>\n",
       "      <td>(001) 0-10</td>\n",
       "      <td>[MASKED BY ICPSR]</td>\n",
       "    </tr>\n",
       "  </tbody>\n",
       "</table>\n",
       "<p>24471 rows × 499 columns</p>\n",
       "</div>"
      ]
     },
     "execution_count": 2,
     "metadata": {},
     "output_type": "execute_result"
    }
   ],
   "execution_count": 2
  },
  {
   "metadata": {
    "ExecuteTime": {
     "end_time": "2024-09-04T05:56:16.306750Z",
     "start_time": "2024-09-04T05:56:15.477724Z"
    }
   },
   "cell_type": "code",
   "source": [
    "df_cleaned = dw.clean_data(all_schools)\n",
    "print(df_cleaned.shape)\n",
    "print(df_cleaned.describe())\n",
    "print(df_cleaned.columns)"
   ],
   "id": "7d2378f8e9fc6c3",
   "outputs": [
    {
     "name": "stdout",
     "output_type": "stream",
     "text": [
      "(24182, 39)\n",
      "              SCHID  SCHTREAT_NUMERIC  TREAT_NUMERIC     unique_id  \\\n",
      "count  24182.000000      24182.000000   24182.000000  24182.000000   \n",
      "mean      30.982260          0.493425       0.182532  31247.468448   \n",
      "std       16.909763          0.499967       0.520467  16920.280101   \n",
      "min        1.000000          0.000000       0.000000   1001.000000   \n",
      "25%       19.000000          0.000000       0.000000  19005.250000   \n",
      "50%       30.000000          0.000000       0.000000  30208.500000   \n",
      "75%       45.000000          1.000000       0.000000  45207.750000   \n",
      "max       60.000000          1.000000       2.000000  60674.000000   \n",
      "\n",
      "           ELIGIBLE  WRISTOW2_NUMERIC           ST1           ST2  \\\n",
      "count  24182.000000      24182.000000  22639.000000  22474.000000   \n",
      "mean       0.121702          0.076338    257.628959    260.186215   \n",
      "std        0.326948          0.265543    188.955554    188.521128   \n",
      "min        0.000000          0.000000      1.000000      1.000000   \n",
      "25%        0.000000          0.000000    101.000000    104.000000   \n",
      "50%        0.000000          0.000000    225.000000    226.000000   \n",
      "75%        0.000000          0.000000    378.000000    380.000000   \n",
      "max        1.000000          1.000000    999.000000    999.000000   \n",
      "\n",
      "                ST3           ST4  ...          ETHW          ETHB  \\\n",
      "count  22134.000000  21331.000000  ...  24182.000000  24182.000000   \n",
      "mean     261.895636    264.071117  ...      0.587710      0.084857   \n",
      "std      189.397539    187.940674  ...      0.492257      0.278674   \n",
      "min        1.000000      1.000000  ...      0.000000      0.000000   \n",
      "25%      106.000000    109.000000  ...      0.000000      0.000000   \n",
      "50%      229.000000    232.000000  ...      1.000000      0.000000   \n",
      "75%      382.000000    387.000000  ...      1.000000      0.000000   \n",
      "max      999.000000    999.000000  ...      1.000000      1.000000   \n",
      "\n",
      "               ETHH          ETHA          ETHC         ETHSA          GAME  \\\n",
      "count  24182.000000  24182.000000  24182.000000  24182.000000  24182.000000   \n",
      "mean       0.177984      0.046522      0.017410      0.011000      0.643619   \n",
      "std        0.382507      0.210617      0.130795      0.104304      0.478939   \n",
      "min        0.000000      0.000000      0.000000      0.000000      0.000000   \n",
      "25%        0.000000      0.000000      0.000000      0.000000      0.000000   \n",
      "50%        0.000000      0.000000      0.000000      0.000000      1.000000   \n",
      "75%        0.000000      0.000000      0.000000      0.000000      1.000000   \n",
      "max        1.000000      1.000000      1.000000      1.000000      1.000000   \n",
      "\n",
      "              GRC_6         GRC_7         GRC_8  \n",
      "count  24182.000000  24182.000000  24182.000000  \n",
      "mean       0.255934      0.321934      0.340749  \n",
      "std        0.436394      0.467227      0.473971  \n",
      "min        0.000000      0.000000      0.000000  \n",
      "25%        0.000000      0.000000      0.000000  \n",
      "50%        0.000000      0.000000      0.000000  \n",
      "75%        1.000000      1.000000      1.000000  \n",
      "max        1.000000      1.000000      1.000000  \n",
      "\n",
      "[8 rows x 39 columns]\n",
      "Index(['SCHID', 'SCHTREAT_NUMERIC', 'TREAT_NUMERIC', 'unique_id', 'ELIGIBLE',\n",
      "       'WRISTOW2_NUMERIC', 'ST1', 'ST2', 'ST3', 'ST4', 'ST5', 'ST6', 'ST7',\n",
      "       'ST8', 'ST9', 'ST10', 'ST1W2', 'ST2W2', 'ST3W2', 'ST4W2', 'ST5W2',\n",
      "       'ST6W2', 'ST7W2', 'ST8W2', 'ST9W2', 'ST10W2', 'BF1', 'BF2', 'GENC',\n",
      "       'ETHW', 'ETHB', 'ETHH', 'ETHA', 'ETHC', 'ETHSA', 'GAME', 'GRC_6',\n",
      "       'GRC_7', 'GRC_8'],\n",
      "      dtype='object')\n"
     ]
    }
   ],
   "execution_count": 3
  },
  {
   "metadata": {
    "ExecuteTime": {
     "end_time": "2024-09-04T05:56:19.424245Z",
     "start_time": "2024-09-04T05:56:18.962674Z"
    }
   },
   "cell_type": "code",
   "source": "df_cleaned['SCHID'].unique()",
   "id": "7e8268cb2fc8d38d",
   "outputs": [
    {
     "data": {
      "text/plain": [
       "array([ 1.,  2.,  3.,  5.,  6.,  7.,  8.,  9., 10., 11., 12., 13., 14.,\n",
       "       16., 17., 18., 19., 20., 21., 22., 23., 24., 25., 26., 27., 28.,\n",
       "       29., 30., 31., 32., 33., 34., 35., 36., 37., 38., 39., 40., 41.,\n",
       "       42., 43., 44., 45., 46., 47., 48., 49., 50., 51., 53., 55., 56.,\n",
       "       57., 58., 59., 60.])"
      ]
     },
     "execution_count": 4,
     "metadata": {},
     "output_type": "execute_result"
    }
   ],
   "execution_count": 4
  },
  {
   "metadata": {
    "ExecuteTime": {
     "end_time": "2024-09-04T06:30:52.901528Z",
     "start_time": "2024-09-04T06:30:52.709711Z"
    }
   },
   "cell_type": "code",
   "source": [
    "df_tst_school = df_cleaned[df_cleaned['SCHID']==1.0]\n",
    "print(df_tst_school.shape, df_cleaned.shape)"
   ],
   "id": "4a1f4b15618babe1",
   "outputs": [
    {
     "name": "stdout",
     "output_type": "stream",
     "text": [
      "(272, 39) (24182, 39)\n"
     ]
    }
   ],
   "execution_count": 40
  },
  {
   "metadata": {
    "ExecuteTime": {
     "end_time": "2024-09-04T06:53:48.899363Z",
     "start_time": "2024-09-04T06:53:48.514902Z"
    }
   },
   "cell_type": "code",
   "source": [
    "tst_network = dw.network_by_school(df_tst_school, dw.ST_COLS, True)\n",
    "print(tst_network.shape)\n",
    "tst_W2_network = dw.network_by_school(df_tst_school, dw.ST_W2_COLS, False)\n",
    "tst_BF_network = dw.network_by_school(df_tst_school, dw.BF_COLS, False)\n",
    "all_tst_nets = jnp.array([tst_network, tst_W2_network, tst_BF_network])\n",
    "print(all_tst_nets.shape)"
   ],
   "id": "f7b5281a76457ad2",
   "outputs": [
    {
     "name": "stdout",
     "output_type": "stream",
     "text": [
      "(272, 272)\n",
      "(3, 272, 272)\n"
     ]
    },
    {
     "name": "stderr",
     "output_type": "stream",
     "text": [
      "C:\\Users\\bar21\\Dropbox\\My PC (LAPTOP-6NAJD2IQ)\\Desktop\\Gate\\University\\TAU\\PhD\\Writing\\Drafts\\Sampled networks\\Bayes_incorrect_network\\Data\\Palluck_et_al\\data_wrangle.py:92: SettingWithCopyWarning: \n",
      "A value is trying to be set on a copy of a slice from a DataFrame.\n",
      "Try using .loc[row_indexer,col_indexer] = value instead\n",
      "\n",
      "See the caveats in the documentation: https://pandas.pydata.org/pandas-docs/stable/user_guide/indexing.html#returning-a-view-versus-a-copy\n",
      "  df[col] += df['SCHID'] * 1000\n"
     ]
    },
    {
     "data": {
      "text/plain": [
       "<Figure size 640x480 with 1 Axes>"
      ],
      "image/png": "[encoded data removed]"
     },
     "metadata": {},
     "output_type": "display_data"
    }
   ],
   "execution_count": 63
  },
  {
   "metadata": {
    "ExecuteTime": {
     "end_time": "2024-09-04T06:32:02.852115Z",
     "start_time": "2024-09-04T06:31:46.277879Z"
    }
   },
   "cell_type": "code",
   "source": [
    "tst_cov_for_net = dw.create_net_covar_df(df_tst_school)\n",
    "print(tst_cov_for_net.shape)\n",
    "# print(tst_cov_for_net.describe())"
   ],
   "id": "f28f14ce41dff1fc",
   "outputs": [
    {
     "name": "stdout",
     "output_type": "stream",
     "text": [
      "torch.Size([36856, 4])\n"
     ]
    }
   ],
   "execution_count": 43
  },
  {
   "metadata": {
    "ExecuteTime": {
     "end_time": "2024-09-04T06:32:30.818520Z",
     "start_time": "2024-09-04T06:32:05.171648Z"
    }
   },
   "cell_type": "code",
   "source": [
    "rng_key = random.PRNGKey(1)\n",
    "rng_key, rng_key_ = random.split(rng_key)\n",
    "\n",
    "net_svi_tst = util.Network_SVI(x_df = tst_cov_for_net, \n",
    "                                  # triu_obs = torch.tensor(adj_to_triu(tst_net),dtype=torch.float32))\n",
    "                                  triu_obs = dw.adj_to_triu(tst_network),\n",
    "                                  # triu_obs = torch.stack([tst_ST_triu, tst_BF_triu]),\n",
    "                                  # network_model=models.multilayer_networks_model)\n",
    "                                  network_model=models.one_noisy_networks_model,\n",
    "                                  n_iter = 1000,\n",
    "                                  n_samples = 1000)\n",
    "\n",
    "net_svi_tst.train_model()"
   ],
   "id": "99a874c2c206e7a5",
   "outputs": [
    {
     "name": "stderr",
     "output_type": "stream",
     "text": [
      "Training network model: 100%|██████████| 1000/1000 [00:25<00:00, 39.29it/s]\n"
     ]
    }
   ],
   "execution_count": 44
  },
  {
   "metadata": {
    "ExecuteTime": {
     "end_time": "2024-09-04T06:32:55.870239Z",
     "start_time": "2024-09-04T06:32:32.648191Z"
    }
   },
   "cell_type": "code",
   "source": [
    "net_svi_samples = net_svi_tst.network_samples()\n",
    "print(net_svi_samples.shape)"
   ],
   "id": "42268cbc9f357296",
   "outputs": [
    {
     "name": "stderr",
     "output_type": "stream",
     "text": [
      "Sampling A*: 100%|██████████| 1000/1000 [00:22<00:00, 43.96it/s]\n"
     ]
    },
    {
     "name": "stdout",
     "output_type": "stream",
     "text": [
      "(1000, 36856)\n"
     ]
    }
   ],
   "execution_count": 45
  },
  {
   "metadata": {
    "ExecuteTime": {
     "end_time": "2024-09-04T07:00:49.727584Z",
     "start_time": "2024-09-04T06:57:14.234883Z"
    }
   },
   "cell_type": "code",
   "source": [
    "tst_all_nets, tst_post_samples = wrap.one_school_network_analysis(df_tst_school)\n",
    "print(tst_all_nets.shape, tst_post_samples.shape)"
   ],
   "id": "9faa9c7ccd5bf936",
   "outputs": [
    {
     "name": "stderr",
     "output_type": "stream",
     "text": [
      "C:\\Users\\bar21\\Dropbox\\My PC (LAPTOP-6NAJD2IQ)\\Desktop\\Gate\\University\\TAU\\PhD\\Writing\\Drafts\\Sampled networks\\Bayes_incorrect_network\\Data\\Palluck_et_al\\data_wrangle.py:92: SettingWithCopyWarning: \n",
      "A value is trying to be set on a copy of a slice from a DataFrame.\n",
      "Try using .loc[row_indexer,col_indexer] = value instead\n",
      "\n",
      "See the caveats in the documentation: https://pandas.pydata.org/pandas-docs/stable/user_guide/indexing.html#returning-a-view-versus-a-copy\n",
      "  df[col] += df['SCHID'] * 1000\n",
      "Training network model: 100%|██████████| 1000/1000 [00:29<00:00, 33.52it/s]\n",
      "Sampling A*: 100%|██████████| 1000/1000 [00:26<00:00, 37.80it/s]\n",
      "Training network model: 100%|██████████| 1000/1000 [00:44<00:00, 22.55it/s]\n",
      "Sampling A*: 100%|██████████| 1000/1000 [00:32<00:00, 31.24it/s]\n",
      "Training network model: 100%|██████████| 1000/1000 [00:34<00:00, 29.07it/s]\n",
      "Sampling A*: 100%|██████████| 1000/1000 [00:29<00:00, 33.44it/s]\n"
     ]
    },
    {
     "name": "stdout",
     "output_type": "stream",
     "text": [
      "(3, 272, 272) (3, 1000, 36856)\n"
     ]
    }
   ],
   "execution_count": 65
  },
  {
   "metadata": {
    "ExecuteTime": {
     "end_time": "2024-09-04T06:33:11.994488Z",
     "start_time": "2024-09-04T06:33:11.786284Z"
    }
   },
   "cell_type": "code",
   "source": [
    "# obs_zeigen_tst = util.zeigen_value(Z=net_svi_tst.trts, adj_mat=tst_network)\n",
    "df_cleaned[df_cleaned['SCHID']==1.0]['TREAT_NUMERIC'].values"
   ],
   "id": "47af3fab54b26487",
   "outputs": [
    {
     "data": {
      "text/plain": [
       "array([0, 2, 0, 0, 0, 0, 0, 0, 0, 0, 0, 0, 1, 2, 0, 0, 0, 0, 0, 0, 0, 0,\n",
       "       1, 0, 1, 0, 0, 0, 0, 0, 0, 0, 1, 0, 0, 0, 0, 1, 0, 0, 0, 0, 0, 0,\n",
       "       0, 2, 0, 2, 0, 0, 0, 0, 1, 0, 0, 0, 0, 0, 0, 2, 0, 0, 0, 0, 0, 0,\n",
       "       0, 1, 0, 0, 0, 0, 0, 0, 0, 0, 0, 0, 1, 0, 0, 2, 0, 0, 0, 0, 1, 0,\n",
       "       0, 1, 0, 0, 0, 0, 0, 0, 1, 0, 0, 2, 0, 0, 0, 0, 0, 0, 0, 0, 0, 0,\n",
       "       0, 0, 0, 2, 2, 0, 0, 0, 0, 0, 0, 0, 0, 0, 0, 0, 0, 0, 0, 0, 0, 0,\n",
       "       0, 0, 0, 1, 0, 0, 0, 0, 0, 2, 0, 2, 0, 0, 0, 1, 0, 0, 0, 0, 0, 2,\n",
       "       0, 0, 0, 0, 0, 0, 0, 0, 0, 0, 0, 0, 0, 2, 0, 0, 0, 0, 0, 1, 0, 2,\n",
       "       0, 0, 0, 0, 0, 0, 0, 0, 0, 2, 0, 0, 0, 0, 0, 0, 0, 0, 0, 0, 0, 0,\n",
       "       2, 0, 0, 0, 0, 2, 0, 0, 0, 0, 0, 0, 0, 0, 0, 0, 0, 0, 0, 1, 0, 0,\n",
       "       0, 0, 0, 2, 0, 0, 0, 0, 0, 0, 0, 0, 0, 0, 1, 0, 0, 0, 0, 1, 0, 1,\n",
       "       2, 0, 2, 0, 0, 0, 0, 0, 0, 0, 0, 0, 0, 0, 1, 0, 1, 0, 0, 0, 0, 0,\n",
       "       0, 0, 0, 0, 0, 0, 0, 0])"
      ]
     },
     "execution_count": 46,
     "metadata": {},
     "output_type": "execute_result"
    }
   ],
   "execution_count": 46
  },
  {
   "metadata": {
    "ExecuteTime": {
     "end_time": "2024-09-04T06:33:51.476605Z",
     "start_time": "2024-09-04T06:33:51.130066Z"
    }
   },
   "cell_type": "code",
   "source": [
    "# Run outcome model\n",
    "tst_obs_data = dw.data_for_outcome_regression(df_tst_school, tst_network)\n",
    "print(tst_obs_data.keys())\n",
    "print([a.shape for a in tst_obs_data.values()])\n",
    "print([a.dtype for a in tst_obs_data.values()])"
   ],
   "id": "f41eea56196f659b",
   "outputs": [
    {
     "name": "stdout",
     "output_type": "stream",
     "text": [
      "dict_keys(['X', 'school', 'grade', 'trts', 'sch_trts', 'exposures', 'Y'])\n",
      "[(40, 4), (40,), (40,), (40,), (40,), (40,), (40,)]\n",
      "[dtype('int32'), dtype('int32'), dtype('int32'), dtype('int32'), dtype('int32'), dtype('float32'), dtype('int32')]\n"
     ]
    }
   ],
   "execution_count": 48
  },
  {
   "metadata": {
    "ExecuteTime": {
     "end_time": "2024-09-04T06:34:02.635814Z",
     "start_time": "2024-09-04T06:33:53.500152Z"
    }
   },
   "cell_type": "code",
   "source": [
    "# Run outcome mcmc\n",
    "rng_key = random.PRNGKey(0)\n",
    "_, rng_key = random.split(rng_key)\n",
    "\n",
    "outcome_obs = util.Outcome_MCMC(data=tst_obs_data, rng_key=rng_key)\n"
   ],
   "id": "9ed27a75b8781168",
   "outputs": [
    {
     "data": {
      "text/plain": [
       "  0%|          | 0/4500 [00:00<?, ?it/s]"
      ],
      "application/vnd.jupyter.widget-view+json": {
       "version_major": 2,
       "version_minor": 0,
       "model_id": "37d792dbb45f41ef8d34f1b992c86294"
      }
     },
     "metadata": {},
     "output_type": "display_data"
    },
    {
     "data": {
      "text/plain": [
       "  0%|          | 0/4500 [00:00<?, ?it/s]"
      ],
      "application/vnd.jupyter.widget-view+json": {
       "version_major": 2,
       "version_minor": 0,
       "model_id": "b0e5ac66ecfb49c085cc6480aaff36c2"
      }
     },
     "metadata": {},
     "output_type": "display_data"
    },
    {
     "data": {
      "text/plain": [
       "  0%|          | 0/4500 [00:00<?, ?it/s]"
      ],
      "application/vnd.jupyter.widget-view+json": {
       "version_major": 2,
       "version_minor": 0,
       "model_id": "6bf87f5182544e3d93ff205101e467a3"
      }
     },
     "metadata": {},
     "output_type": "display_data"
    },
    {
     "data": {
      "text/plain": [
       "  0%|          | 0/4500 [00:00<?, ?it/s]"
      ],
      "application/vnd.jupyter.widget-view+json": {
       "version_major": 2,
       "version_minor": 0,
       "model_id": "d692341d47db40c8ae74bda15fa320a3"
      }
     },
     "metadata": {},
     "output_type": "display_data"
    },
    {
     "name": "stdout",
     "output_type": "stream",
     "text": [
      "\n",
      "                       mean       std    median      5.0%     95.0%     n_eff     r_hat\n",
      "           eta[0]      0.71      1.13      0.70     -1.09      2.57   2945.02      1.00\n",
      "           eta[1]     -1.43      1.23     -1.42     -3.46      0.59   5786.60      1.00\n",
      "           eta[2]     -1.23      1.45     -1.14     -3.60      1.10   5227.23      1.00\n",
      "           eta[3]      0.81      1.17      0.76     -1.09      2.78   6838.55      1.00\n",
      "    eta_exposures      1.23      4.15      1.19     -5.36      8.02   1136.91      1.01\n",
      " eta_grade_std[0]      0.23      0.95      0.22     -1.21      1.89    904.20      1.01\n",
      " eta_grade_std[1]     -0.01      0.96     -0.04     -1.62      1.61    320.53      1.01\n",
      " eta_grade_std[2]     -0.13      0.93     -0.14     -1.62      1.45   8103.74      1.00\n",
      "  eta_interaction      0.17      4.71      0.21     -7.64      7.72   2391.81      1.00\n",
      "   eta_sch_std[0]      0.00      0.95      0.02     -1.55      1.64   7037.55      1.00\n",
      "          eta_trt     -1.05      1.07     -0.99     -2.73      0.74    218.09      1.02\n",
      "         mu_grade     -0.48      3.70     -0.56     -6.50      5.51   4699.08      1.00\n",
      "           mu_sch     -0.58      3.83     -0.57     -6.96      5.30    978.96      1.00\n",
      "      sigma_grade      0.52      0.76      0.28      0.00      1.22   2791.31      1.00\n",
      "        sigma_sch      2.55      5.90      0.74      0.00      5.54     37.29      1.08\n",
      "\n",
      "Number of divergences: 156\n"
     ]
    }
   ],
   "execution_count": 49
  },
  {
   "metadata": {
    "ExecuteTime": {
     "end_time": "2024-09-04T06:36:50.316173Z",
     "start_time": "2024-09-04T06:36:50.015745Z"
    }
   },
   "cell_type": "code",
   "source": [
    "# Run stochastic intervention\n",
    "stoch_30 = util.stochastic_intervention(alpha=0.3, n=df_tst_school.shape[0])\n",
    "exposures_stoch_30 = util.zeigen_value(Z=stoch_30, adj_mat=tst_network)\n",
    "print(exposures_stoch_30.shape, stoch_30.shape)\n",
    "\n",
    "# stoch_30_elig, exposur_30_elig = util.trt_and_exposures_of_elig(stoch_30, exposures_stoch_30, df_tst_school)\n",
    "# print(stoch_30_elig.shape, exposur_30_elig.shape)\n"
   ],
   "id": "753e5ee10254dbf9",
   "outputs": [
    {
     "name": "stdout",
     "output_type": "stream",
     "text": [
      "(100, 272) (100, 272)\n",
      "(100, 40) (100, 40)\n"
     ]
    }
   ],
   "execution_count": 60
  },
  {
   "metadata": {
    "ExecuteTime": {
     "end_time": "2024-09-04T07:59:31.578313Z",
     "start_time": "2024-09-04T07:59:30.725838Z"
    }
   },
   "cell_type": "code",
   "source": [
    "# ALPHAS = [0.3, 0.5, 0.7]\n",
    "ALPHAS = [0.3, 0.7]\n",
    "\n",
    "new_stoch_trts = []\n",
    "new_stoch_obs_exposures = []\n",
    "for i in range(len(ALPHAS)):\n",
    "    new_stoch_trts.append(util.stochastic_intervention(alpha=ALPHAS[i], n=df_tst_school.shape[0]))\n",
    "    new_stoch_obs_exposures.append(util.zeigen_value(Z=new_stoch_trts[i], adj_mat=tst_network))\n",
    "    \n",
    "new_stoch_trts = jnp.stack(new_stoch_trts)\n",
    "print(new_stoch_trts.shape)\n",
    "new_stoch_obs_exposures = jnp.stack(new_stoch_obs_exposures)\n",
    "print(new_stoch_obs_exposures.shape)\n",
    "\n",
    "print(jnp.stack([new_stoch_trts, new_stoch_obs_exposures]).shape)\n",
    "\n",
    "stoch_trt_elig, stoch_exposures_elig = util.trt_and_exposures_of_elig(new_stoch_trts,\n",
    "                                                                      new_stoch_obs_exposures,\n",
    "                                                                      df_tst_school)\n",
    "print(stoch_trt_elig.shape, stoch_exposures_elig.shape)\n",
    "\n",
    "print(jnp.stack([stoch_trt_elig, stoch_exposures_elig]).shape)"
   ],
   "id": "f4538e9e4180ced",
   "outputs": [
    {
     "name": "stdout",
     "output_type": "stream",
     "text": [
      "(2, 100, 272)\n",
      "(2, 100, 272)\n",
      "(2, 2, 100, 272)\n",
      "(2, 100, 40) (2, 100, 40)\n",
      "(2, 2, 100, 40)\n"
     ]
    }
   ],
   "execution_count": 93
  },
  {
   "metadata": {
    "ExecuteTime": {
     "end_time": "2024-09-04T07:59:36.961558Z",
     "start_time": "2024-09-04T07:59:36.777307Z"
    }
   },
   "cell_type": "code",
   "source": [
    "all_trt_expos, elig_trt_expos = wrap.get_stoch_treatments_and_obs_exposures(df_tst_school, tst_network)\n",
    "print(all_trt_expos.shape, elig_trt_expos.shape)"
   ],
   "id": "ad8dfc5361a031e5",
   "outputs": [
    {
     "name": "stdout",
     "output_type": "stream",
     "text": [
      "(2, 2, 100, 272) (2, 2, 100, 40)\n"
     ]
    }
   ],
   "execution_count": 94
  },
  {
   "metadata": {
    "ExecuteTime": {
     "end_time": "2024-09-04T08:00:53.732662Z",
     "start_time": "2024-09-04T08:00:46.585514Z"
    }
   },
   "cell_type": "code",
   "source": [
    "post_obs_exposure = util.vectorized_post_exposures(net_svi_samples,\n",
    "                                                   jnp.array(df_tst_school['TREAT_NUMERIC'].values),\n",
    "                                                   df_tst_school.shape[0])\n",
    "print(post_obs_exposure.shape)\n",
    "post_obs_expos_elig = post_obs_exposure[:,(df_tst_school['ELIGIBLE']==1).values]\n",
    "print(post_obs_expos_elig.shape)"
   ],
   "id": "9185e8612ea833cb",
   "outputs": [
    {
     "name": "stdout",
     "output_type": "stream",
     "text": [
      "(1000, 272)\n",
      "(1000, 40)\n"
     ]
    }
   ],
   "execution_count": 97
  },
  {
   "metadata": {
    "ExecuteTime": {
     "end_time": "2024-09-04T08:00:11.237009Z",
     "start_time": "2024-09-04T07:59:47.461818Z"
    }
   },
   "cell_type": "code",
   "source": [
    "# testing posterior exposures for all net models \n",
    "post_stoch_expos = wrap.posterior_stoch_exposures(tst_post_samples, all_trt_expos, df_tst_school)\n",
    "print(post_stoch_expos.shape)"
   ],
   "id": "8d6b9a99ade909d0",
   "outputs": [
    {
     "name": "stdout",
     "output_type": "stream",
     "text": [
      "(3, 2, 1000, 100, 40)\n"
     ]
    }
   ],
   "execution_count": 96
  },
  {
   "metadata": {},
   "cell_type": "code",
   "outputs": [],
   "execution_count": null,
   "source": [
    "# TODO: wrap all the above line to obtain one network model for each school, and repeat for all 3 models\n",
    "# TODO: Then, implement a function that obtain the observed + posterior networks across schools, compute zeigen values, and then run the outcome model (for all schools together, maybe just treated schools)"
   ],
   "id": "61f3a2827c2dbb1b"
  },
  {
   "metadata": {
    "ExecuteTime": {
     "end_time": "2024-09-04T08:22:03.340643Z",
     "start_time": "2024-09-04T08:17:40.980540Z"
    }
   },
   "cell_type": "code",
   "source": [
    "# Wrapper for one school \n",
    "cur_schid = 1.0\n",
    "# get df\n",
    "cur_df = df_cleaned[df_cleaned['SCHID']==cur_schid]\n",
    "# run network analysis\n",
    "print(\"Network analysis\")\n",
    "cur_all_nets, cur_post_samples = wrap.one_school_network_analysis(cur_df)\n",
    "print(cur_all_nets.shape, cur_post_samples.shape)\n",
    "# get stochastic interventions\n",
    "print(\"Stochastic interventions\")\n",
    "cur_all_trt_expos, cur_elig_trt_expos = wrap.get_stoch_treatments_and_obs_exposures(cur_df, cur_all_nets[0])\n",
    "# Get posterior exposures for observed treatments for each network model\n",
    "print(\"Posterior exposures for observed treatments\")\n",
    "cur_post_obs_exposure = wrap.posterior_exposure_for_obs_treatments(cur_post_samples, jnp.array(cur_df['TREAT_NUMERIC'].values), cur_df)\n",
    "print(cur_post_obs_exposure.shape)\n",
    "# Posterior exposures for stochastic interventions\n",
    "print(\"Posterior exposures for stochastic interventions\")\n",
    "cur_post_stoch_expos = wrap.posterior_stoch_exposures(cur_post_samples, cur_all_trt_expos, cur_df)\n",
    "print(cur_post_stoch_expos.shape)\n",
    "# Observed data for outcome reg\n",
    "print(\"Observed data for outcome regression\")\n",
    "cur_obs_data = dw.data_for_outcome_regression(cur_df, cur_all_nets[0])\n",
    "print(cur_obs_data.keys())\n",
    "print([a.shape for a in cur_obs_data.values()])\n",
    "print([a.dtype for a in cur_obs_data.values()])\n"
   ],
   "id": "f9303d8143d70ed",
   "outputs": [
    {
     "name": "stdout",
     "output_type": "stream",
     "text": [
      "Network analysis\n"
     ]
    },
    {
     "name": "stderr",
     "output_type": "stream",
     "text": [
      "C:\\Users\\bar21\\Dropbox\\My PC (LAPTOP-6NAJD2IQ)\\Desktop\\Gate\\University\\TAU\\PhD\\Writing\\Drafts\\Sampled networks\\Bayes_incorrect_network\\Data\\Palluck_et_al\\data_wrangle.py:92: SettingWithCopyWarning: \n",
      "A value is trying to be set on a copy of a slice from a DataFrame.\n",
      "Try using .loc[row_indexer,col_indexer] = value instead\n",
      "\n",
      "See the caveats in the documentation: https://pandas.pydata.org/pandas-docs/stable/user_guide/indexing.html#returning-a-view-versus-a-copy\n",
      "  df[col] += df['SCHID'] * 1000\n",
      "Training network model: 100%|██████████| 1000/1000 [00:24<00:00, 41.09it/s]\n",
      "Sampling A*: 100%|██████████| 1000/1000 [00:20<00:00, 47.74it/s]\n",
      "Training network model: 100%|██████████| 1000/1000 [00:37<00:00, 26.40it/s]\n",
      "Sampling A*: 100%|██████████| 1000/1000 [00:34<00:00, 29.07it/s]\n",
      "Training network model: 100%|██████████| 1000/1000 [00:44<00:00, 22.32it/s]\n",
      "Sampling A*: 100%|██████████| 1000/1000 [00:34<00:00, 29.09it/s]\n"
     ]
    },
    {
     "name": "stdout",
     "output_type": "stream",
     "text": [
      "(3, 272, 272) (3, 1000, 36856)\n",
      "Stochastic interventions\n",
      "Posterior exposures for observed treatments\n",
      "(3, 1000, 272)\n",
      "(3, 1000, 40)\n",
      "Posterior exposures for stochastic interventions\n",
      "(3, 2, 1000, 100, 40)\n",
      "Observed data for outcome regression\n",
      "dict_keys(['X', 'school', 'grade', 'trts', 'sch_trts', 'exposures', 'Y'])\n",
      "[(40, 4), (40,), (40,), (40,), (40,), (40,), (40,)]\n",
      "[dtype('int32'), dtype('int32'), dtype('int32'), dtype('int32'), dtype('int32'), dtype('float32'), dtype('int32')]\n"
     ]
    }
   ],
   "execution_count": 102
  },
  {
   "cell_type": "code",
   "id": "dfff89a110f0a2a1",
   "metadata": {},
   "source": [
    "# Clean data\n",
    "# Remove all observations for which both the school-id and the block-number of the school are unknown (1.14% of the observations, or 280 observations)\n",
    "all_schools['ID'] = pd.to_numeric(all_schools['ID'], errors='coerce').fillna(0.0)\n",
    "all_schools['SCHRB'] = pd.to_numeric(all_schools['SCHRB'], errors='coerce')\n",
    "# all_schools = all_schools[~all_schools['SCHRB'].isna() & (all_schools['ID'] != 999.0)]\n",
    "all_schools = all_schools[~all_schools['SCHRB'].isna() &\n",
    "                          (all_schools['ID'] != 999.0) & \n",
    "                          (all_schools['ID'] != 0.0) &\n",
    "                          (all_schools['UID'] != 100284.0)] \n",
    "\n",
    "# Create unique id\n",
    "all_schools['unique_id'] = all_schools['SCHID']*1000 + all_schools['ID']\n",
    "all_schools['unique_id'] = all_schools['unique_id'].astype(int)\n",
    "\n",
    "# Convert treatment variables to numeric\n",
    "def extract_numeric(x):\n",
    "    match = re.search(r'\\(?([0-9,.]+)\\)?', str(x))\n",
    "    return float(match.group(1)) if match else np.nan\n",
    "\n",
    "all_schools['TREAT_NUMERIC'] = all_schools['TREAT'].apply(extract_numeric).fillna(0.0).astype(int)\n",
    "all_schools['SCHTREAT_NUMERIC'] = all_schools['SCHTREAT'].apply(extract_numeric).fillna(0.0).astype(int)\n",
    "# \n",
    "# # Create indicator of eligible units\n",
    "all_schools['ELIGIBLE'] = (all_schools['TREAT_NUMERIC'] != 0.0).fillna(0.0).astype(int)\n",
    "# all_schools['ELIGIBLE'] = all_schools['ELIGIBLE'].fillna(0)\n",
    "# \n",
    "# # Numeric version of OUTOFBLOCK\n",
    "all_schools['OUTOFBLOCK_NUMERIC'] = all_schools['OUTOFBLOCK'].apply(extract_numeric).fillna(0.0).astype(int)\n",
    "# \n",
    "# # Get numeric version of outcome (wearing orange band)\n",
    "all_schools['WRISTOW2_NUMERIC'] = all_schools['WRISTOW2'].apply(extract_numeric).fillna(0.0).astype(int)\n",
    "\n",
    "N_all = all_schools.shape[0]\n",
    "N_elig = all_schools['ELIGIBLE'].sum()\n",
    "print(\"N subject:\" , N_all,\n",
    "      \"N eligible:\", N_elig)"
   ],
   "outputs": [],
   "execution_count": null
  },
  {
   "cell_type": "code",
   "id": "4007197633897760",
   "metadata": {},
   "source": [
    "# Get subset of 'all_schools' with relevant columns for analysis (outcome, treatents, covariates)\n",
    "df_subset = all_schools[['SCHID', 'SCHTREAT_NUMERIC', 'TREAT_NUMERIC', 'unique_id', 'ELIGIBLE', 'WRISTOW2_NUMERIC']]\n",
    "# cov_list = [\"GENC\", \"GRC\", \"ETHW\", \"ETHB\", \"ETHH\", \"ETHA\", \"ETHC\", \"ETHSA\",\"MOVE\", \"FSCH\",\"LIVEWB\", \"ACTSS\", \"ACTT\", \"ACTM\", \"ACTR\",\"GAME\", \"FLIB\"]\n",
    "# cov_list = [\"GENC\", \"GRC\", \"ETHW\", \"ETHB\", \"ETHH\", \"ETHA\", \"ETHC\", \"ETHSA\", \"MOVE\", \"ACTSS\", \"ACTT\", \"ACTM\", \"ACTR\", \"FLIB\", \"GAME\"]\n",
    "cov_list = [\"GENC\", \"GRC\", \"ETHW\", \"ETHB\", \"ETHH\", \"ETHA\", \"ETHC\", \"ETHSA\", \"ACTSS\", \"ACTT\", \"ACTM\", \"ACTR\", \"GAME\"]\n",
    "# cov_list = [\"GENC\", \"GRC\", \"ETHW\", \"ETHB\", \"ETHH\", \"ETHA\", \"ETHC\", \"ETHSA\", \"MOVE\"]\n",
    "for cov in cov_list:\n",
    "    if type(all_schools[cov].iloc[1])==str:\n",
    "        val = all_schools[cov].apply(extract_numeric).fillna(0.0).astype(int)\n",
    "        # df_subset.loc[:,cov] = val\n",
    "        df_subset = df_subset.assign(**{cov: val})\n",
    "    else:\n",
    "        # df_subset.loc[:,cov] = all_schools[cov]\n",
    "        df_subset = df_subset.assign(**{cov: all_schools[cov]})\n",
    "        \n",
    "# Get dummies of 'GRC' (grade) variable\n",
    "GRC_dummy = pd.get_dummies(df_subset['GRC'], drop_first=True).astype(int)\n",
    "GRC_dummy.columns = ['GRC_' + str(col) for col in [6,7,8]]\n",
    "df_subset = pd.concat([df_subset.drop(columns=['GRC']), GRC_dummy], axis=1)\n",
    "df_subset.describe()\n",
    "print(df_subset.shape)"
   ],
   "outputs": [],
   "execution_count": null
  },
  {
   "metadata": {},
   "cell_type": "code",
   "source": [
    "pd.crosstab(df_subset[\"SCHTREAT_NUMERIC\"], df_subset[\"WRISTOW2_NUMERIC\"])\n",
    "# pd.crosstab(df_subset[\"ELIGIBLE\"], df_subset[\"WRISTOW2_NUMERIC\"])\n",
    "# Almost no one in the control schools is wearing the orange band"
   ],
   "id": "98c78ea2cc80a47b",
   "outputs": [],
   "execution_count": null
  },
  {
   "metadata": {},
   "cell_type": "code",
   "source": "pd.crosstab(df_subset[\"SCHTREAT_NUMERIC\"], df_subset[\"ELIGIBLE\"])\n",
   "id": "5ccea3c96ac8c8d7",
   "outputs": [],
   "execution_count": null
  },
  {
   "cell_type": "code",
   "id": "7895a3899d3a1a50",
   "metadata": {},
   "source": "pd.crosstab(df_subset[\"TREAT_NUMERIC\"], df_subset[\"ELIGIBLE\"])",
   "outputs": [],
   "execution_count": null
  },
  {
   "cell_type": "code",
   "id": "443fe023d7f4e6d2",
   "metadata": {},
   "source": [
    "all_schools['SCHID'].value_counts().describe()"
   ],
   "outputs": [],
   "execution_count": null
  },
  {
   "metadata": {},
   "cell_type": "code",
   "source": "all_schools['SCHTREAT_NUMERIC'].value_counts()\n",
   "id": "d9c1aaffd42c8c1",
   "outputs": [],
   "execution_count": null
  },
  {
   "metadata": {},
   "cell_type": "code",
   "source": "len(np.unique(all_schools[all_schools['SCHTREAT_NUMERIC']==1.0]['SCHID']))",
   "id": "4b0297722c1e7d81",
   "outputs": [],
   "execution_count": null
  },
  {
   "cell_type": "code",
   "id": "8dd5b423488457e1",
   "metadata": {},
   "source": [
    "all_schools[all_schools['SCHTREAT_NUMERIC']==0.0].groupby('SCHID')['TREAT_NUMERIC'].value_counts()\n",
    "# all_schools[all_schools['SCHTREAT_NUMERIC']==1.0].groupby('SCHID')['WRISTOW2_NUMERIC'].value_counts()"
   ],
   "outputs": [],
   "execution_count": null
  },
  {
   "cell_type": "code",
   "id": "6dd71093d80f8d29",
   "metadata": {},
   "source": [
    "school_treat = all_schools[['SCHID', 'SCHTREAT_NUMERIC']].groupby('SCHID').agg({'SCHTREAT_NUMERIC': ['mean', 'count']}).reset_index()\n",
    "school_treat"
   ],
   "outputs": [],
   "execution_count": null
  },
  {
   "cell_type": "code",
   "id": "9c2658b27730aec8",
   "metadata": {},
   "source": [
    "def network_by_school(df: np.ndarray, school_id: float | int , cols: list[str]) -> np.ndarray:\n",
    "    # Save subset of df\n",
    "    # school_df = df[df['SCHID'] == school_id]\n",
    "    school_mask = df['SCHID'] == school_id\n",
    "    school_df = df[school_mask].copy()  # Create a copy to avoid warnings\n",
    "    school_df['unique_id'] = (school_df['SCHID']*1000 + school_df['ID']).astype(int)\n",
    "    # school_df['unique_id'] = school_df['unique_id'].astype(int)\n",
    "    # Replace 999 with NaN as 999 is the code for missing values\n",
    "    for col in cols:\n",
    "        row_mask = school_df[col] == 999\n",
    "        # school_df[col][row_mask] = np.nan\n",
    "        school_df.loc[row_mask,col] = np.nan\n",
    "        # school_df[col][school_df[col] == 999] = np.nan\n",
    "    # Add SCHID * 1000 to survey data (to obtain edge list with `unique_id` values)  \n",
    "    for col in cols:\n",
    "        school_df[col] += school_df['SCHID'] * 1000\n",
    "    # Save edgelists\n",
    "    school_edgelist = []\n",
    "    for col in cols:\n",
    "        school_edgelist.extend(zip(school_df['unique_id'], school_df[col]))\n",
    "        \n",
    "    valid_ids = set(school_df['unique_id'])\n",
    "    school_edgelist = [\n",
    "        (int(a), int(b)) \n",
    "        for a, b in school_edgelist \n",
    "        if not np.isnan(a) and not np.isnan(b) \n",
    "        and int(a) in valid_ids and int(b) in valid_ids\n",
    "        and int(a) != int(b)\n",
    "    ]\n",
    "    # Add selfloops\n",
    "    for id in valid_ids:\n",
    "        school_edgelist.append((id, id))\n",
    "    # Convert to nx graph\n",
    "    school_network = nx.Graph(school_edgelist)\n",
    "    # remove self loops\n",
    "    school_network.remove_edges_from(nx.selfloop_edges(school_network))\n",
    "    \n",
    "    nx.draw_circular(school_network, \n",
    "            node_color = school_df['TREAT_NUMERIC'],\n",
    "            node_size=[school_network.degree(node) + 1 for node in school_network.nodes()],\n",
    "            width=0.15)\n",
    "\n",
    "    \n",
    "    # return adj. matrix\n",
    "    return nx.to_numpy_array(school_network)\n"
   ],
   "outputs": [],
   "execution_count": null
  },
  {
   "cell_type": "code",
   "id": "42e61dbe4388a537",
   "metadata": {},
   "source": [
    "ST_cols = ['ST1', 'ST2', 'ST3', 'ST4', 'ST5', 'ST6', 'ST7', 'ST8', 'ST9', 'ST10']\n",
    "ST_W2_cols = ['ST1W2', 'ST2W2', 'ST3W2', 'ST4W2', 'ST5W2', 'ST6W2', 'ST7W2', 'ST8W2', 'ST9W2', 'ST10W2']\n",
    "BF_cols = ['BF1', 'BF2']\n",
    "tst_net = network_by_school(all_schools, school_treat.iloc[0,0], ST_cols)\n",
    "tst_new_W2 = network_by_school(all_schools, school_treat.iloc[0,0], ST_W2_cols)\n",
    "tst_new_BF = network_by_school(all_schools, school_treat.iloc[0,0], BF_cols)\n",
    "\n",
    "print(tst_net.shape, school_treat.iloc[0,2], type(tst_net))\n",
    "print(tst_new_W2.shape, school_treat.iloc[0,2], type(tst_new_W2))\n",
    "print(tst_new_BF.shape, school_treat.iloc[0,2], type(tst_new_BF))\n",
    "eig_cen = aux.eigen_centrality(tst_net)\n",
    "print(np.mean(eig_cen), np.min(eig_cen), np.max(eig_cen), np.median(eig_cen))\n",
    "\n",
    "trts = jnp.array((all_schools[all_schools['SCHID'] == school_treat.iloc[0,0]]['TREAT_NUMERIC']==1).astype(int))\n",
    "cntrl = jnp.array((all_schools[all_schools['SCHID'] == school_treat.iloc[0,0]]['TREAT_NUMERIC']==2).astype(int))\n",
    "print(trts.shape, trts.mean())\n",
    "print(cntrl.shape, cntrl.mean())\n",
    "zeigen = aux.zeigen_value(trts, eig_cen , tst_net)\n",
    "print(\"Zeigen:\", np.mean(zeigen), np.min(zeigen), np.max(zeigen), np.median(zeigen))\n",
    "zeigen_standratized = (aux.zeigen_value(trts, eig_cen , tst_net)) / (jnp.dot(tst_net, eig_cen)+1)\n",
    "print(\"Zegien / sum_eigcen:\", np.mean(zeigen_standratized), np.min(zeigen_standratized), np.max(zeigen_standratized), np.median(zeigen_standratized))\n",
    "n_trts = jnp.dot(tst_net, trts) \n",
    "print(np.mean(n_trts), np.min(n_trts), np.max(n_trts), np.median(n_trts), np.std(n_trts))\n",
    "n_cntrl = jnp.dot(tst_net, cntrl)\n",
    "print(np.mean(n_cntrl), np.min(n_cntrl), np.max(n_cntrl), np.median(n_cntrl), np.std(n_cntrl))\n",
    "# plt.hist(np.sum(tst_net, 1), bins=30)"
   ],
   "outputs": [],
   "execution_count": null
  },
  {
   "cell_type": "code",
   "id": "a2a90bfb9f89ca77",
   "metadata": {},
   "source": [
    "plt.hist(n_trts , bins=30)\n",
    "print(np.mean(n_trts>0), np.mean(n_cntrl>0), np.mean(((n_trts > 0) | (n_cntrl > 0))))\n",
    "# plt.scatter(zeigen, np.dot(tst_net, trts), c=trts)\n",
    "# plt.scatter(n_trts[n_trts>0], zeigen_standratized[n_trts>0], c=trts[n_trts>0])\n",
    "# plt.scatter(zeigen, zeigen_standratized, c=trts)"
   ],
   "outputs": [],
   "execution_count": null
  },
  {
   "cell_type": "code",
   "id": "f44bb567798fba31",
   "metadata": {},
   "source": [
    "tab_df = pd.DataFrame({'n_trt': n_trts>0, 'zeig': zeigen >0})\n",
    "pd.crosstab(tab_df['n_trt'], tab_df['zeig'])"
   ],
   "outputs": [],
   "execution_count": null
  },
  {
   "cell_type": "code",
   "id": "10f2d7ef3dc1ce0c",
   "metadata": {},
   "source": [
    "# Get df for network analysis\n",
    "# generate covariates as indicator of equality in unit-level covariates: X_ij = I(X_i = X_j)\n",
    "\n",
    "school_mask = df_subset['SCHID'] == school_treat.iloc[0,0]\n",
    "school_df = df_subset[school_mask].copy()  # Create a copy to avoid warnings\n",
    "\n",
    "idx_pairs = list(combinations(range(school_df.shape[0]), 2))\n",
    "\n",
    "def cov_equal(X: pd.DataFrame, idx_pairs: list) -> list[int]:\n",
    "    return [int(np.all(X.iloc[i] == X.iloc[j])) for i, j in idx_pairs]\n",
    "\n",
    "def create_net_covar_df(df: pd.DataFrame, cov_groups: list) -> pd.DataFrame:\n",
    "    idx_pairs = list(combinations(range(df.shape[0]), 2))\n",
    "    cov_eq = [cov_equal(df[cov], idx_pairs) for cov in cov_groups]\n",
    "    df_network = pd.DataFrame(dict(zip(['+'.join(cov) for cov in cov_groups], cov_eq)))\n",
    "   \n",
    "    expected_rows = df.shape[0] * (df.shape[0] - 1) // 2\n",
    "    assert df_network.shape[0] == expected_rows, f\"Expected {expected_rows} rows, got {df_network.shape[0]}\"\n",
    "    \n",
    "    return df_network\n",
    "    \n",
    "cov_for_network = [[\"GENC\"],\n",
    "                   [\"ETHW\", \"ETHB\", \"ETHH\", \"ETHA\", \"ETHC\", \"ETHSA\"],\n",
    "                   # [\"ACTSS\", \"ACTT\", \"ACTM\", \"ACTR\"],\n",
    "                   [\"GAME\"],\n",
    "                   [\"GRC_6\", \"GRC_7\", \"GRC_8\"]]\n",
    "# cov_eq = [cov_equal(school_df[cov], idx_pairs) for cov in cov_for_network]\n",
    "# df_for_network = pd.DataFrame(cov_eq).T\n",
    "# df_for_network.columns = [\"GENC\", \"ETH\", \"MOVE\", \"FSCH\", \"LIVEWB\", \"ACT\", \"GAME\", \"FLIB\", \"GRC\"]\n",
    "df_for_network = create_net_covar_df(school_df, cov_for_network)\n",
    "\n",
    "print(school_df.shape[0]*(school_df.shape[0]-1)/2, df_for_network.shape[0])\n",
    "print(df_for_network.describe())\n",
    "    "
   ],
   "outputs": [],
   "execution_count": null
  },
  {
   "cell_type": "code",
   "id": "d5fbe65df113e04e",
   "metadata": {},
   "source": [
    "print(jnp.array(df_for_network).shape, jnp.array(df_for_network).sum(axis=1).mean())"
   ],
   "outputs": [],
   "execution_count": null
  },
  {
   "cell_type": "code",
   "id": "e7f9e30a1b924c4b",
   "metadata": {},
   "source": [
    "# # adj mat to triu vals\n",
    "# @jit\n",
    "# def adj_to_triu(mat: np.ndarray) -> jnp.ndarray:\n",
    "#     return jnp.array(mat[np.triu_indices(mat.shape[0], k=1)])\n",
    "\n",
    "def adj_to_triu(mat: np.ndarray) -> np.ndarray:\n",
    "    return mat[np.triu_indices(mat.shape[0], k=1)]\n",
    "\n",
    "triu_sch = adj_to_triu(tst_net)\n",
    "print(triu_sch.shape, triu_sch.sum(), tst_net.sum()/2, type(triu_sch))\n"
   ],
   "outputs": [],
   "execution_count": null
  },
  {
   "cell_type": "code",
   "id": "2f52a500d4c7783a",
   "metadata": {},
   "source": [
    "print(jnp.array([adj_to_triu(tst_net), adj_to_triu(tst_new_W2)]).shape)\n",
    "print(jnp.array([adj_to_triu(tst_net), adj_to_triu(tst_new_W2)])[0,:].shape)\n",
    "print(jnp.array([adj_to_triu(tst_net), adj_to_triu(tst_new_W2)])[1,:].shape)\n",
    "print(jnp.array([adj_to_triu(tst_net), adj_to_triu(tst_new_W2)]).ndim)\n",
    "print(jnp.array(adj_to_triu(tst_net)).ndim)\n",
    "print(jnp.array(adj_to_triu(tst_net)).shape)"
   ],
   "outputs": [],
   "execution_count": null
  },
  {
   "metadata": {},
   "cell_type": "code",
   "source": [
    "print(jnp.array(df_for_network).shape)\n",
    "print(jnp.dot(jnp.array(df_for_network),jnp.ones(4)).shape)\n"
   ],
   "id": "1945d704cd7eb5c4",
   "outputs": [],
   "execution_count": null
  },
  {
   "metadata": {},
   "cell_type": "code",
   "source": "torch.from_numpy(adj_to_triu(tst_net)).shape",
   "id": "327dbbc4980f1be1",
   "outputs": [],
   "execution_count": null
  },
  {
   "metadata": {},
   "cell_type": "code",
   "source": "torch.tensor(np.array(df_for_network)).shape[1]\n",
   "id": "5f678f1da98a64f2",
   "outputs": [],
   "execution_count": null
  },
  {
   "metadata": {},
   "cell_type": "code",
   "source": [
    "tst_ST_triu = torch.tensor(adj_to_triu(tst_net),dtype=torch.float32)\n",
    "tst_STW2_triu = torch.tensor(adj_to_triu(tst_new_W2),dtype=torch.float32)\n",
    "tst_BF_triu = torch.tensor(adj_to_triu(tst_new_BF),dtype=torch.float32)"
   ],
   "id": "848148f57bdab8d4",
   "outputs": [],
   "execution_count": null
  },
  {
   "metadata": {
    "ExecuteTime": {
     "end_time": "2024-09-04T07:21:02.585009Z",
     "start_time": "2024-09-04T07:21:02.367537Z"
    }
   },
   "cell_type": "code",
   "source": [
    "rng_key = random.PRNGKey(1)\n",
    "rng_key, rng_key_ = random.split(rng_key)\n",
    "\n",
    "school_svi_tst = util.Network_SVI(x_df = torch.tensor(np.array(df_for_network), dtype=torch.float32), \n",
    "                                  # triu_obs = torch.tensor(adj_to_triu(tst_net),dtype=torch.float32))\n",
    "                                  triu_obs = torch.stack([tst_ST_triu, tst_STW2_triu]),\n",
    "                                  # triu_obs = torch.stack([tst_ST_triu, tst_BF_triu]),\n",
    "                                  # network_model=models.multilayer_networks_model)\n",
    "                                  network_model=models.repeated_noisy_networks_model,\n",
    "                                  n_iter = 1000,\n",
    "                                  n_samples = 1000)\n",
    "\n",
    "school_svi_tst.train_model()"
   ],
   "id": "40868a82d1d0d8eb",
   "outputs": [
    {
     "name": "stderr",
     "output_type": "stream",
     "text": [
      "[autoreload of wrapper_functions failed: Traceback (most recent call last):\n",
      "  File \"C:\\Users\\bar21\\.conda\\envs\\STAT\\Lib\\site-packages\\IPython\\extensions\\autoreload.py\", line 276, in check\n",
      "    superreload(m, reload, self.old_objects)\n",
      "    \n",
      "  File \"C:\\Users\\bar21\\.conda\\envs\\STAT\\Lib\\site-packages\\IPython\\extensions\\autoreload.py\", line 475, in superreload\n",
      "    module = reload(module)\n",
      "    \n",
      "  File \"C:\\Users\\bar21\\.conda\\envs\\STAT\\Lib\\importlib\\__init__.py\", line 169, in reload\n",
      "    _bootstrap._exec(spec, module)\n",
      "    \n",
      "  File \"<frozen importlib._bootstrap>\", line 621, in _exec\n",
      "  File \"<frozen importlib._bootstrap_external>\", line 936, in exec_module\n",
      "  File \"<frozen importlib._bootstrap_external>\", line 1074, in get_code\n",
      "  File \"<frozen importlib._bootstrap_external>\", line 1004, in source_to_code\n",
      "  File \"<frozen importlib._bootstrap>\", line 241, in _call_with_frames_removed\n",
      "  File \"C:\\Users\\bar21\\Dropbox\\My PC (LAPTOP-6NAJD2IQ)\\Desktop\\Gate\\University\\TAU\\PhD\\Writing\\Drafts\\Sampled networks\\Bayes_incorrect_network\\Data\\Palluck_et_al\\wrapper_functions.py\", line 85\n",
      "    def posterior_exposures_\n",
      "                            ^\n",
      "SyntaxError: expected '('\n",
      "]\n"
     ]
    },
    {
     "ename": "NameError",
     "evalue": "name 'df_for_network' is not defined",
     "output_type": "error",
     "traceback": [
      "\u001B[1;31m---------------------------------------------------------------------------\u001B[0m",
      "\u001B[1;31mNameError\u001B[0m                                 Traceback (most recent call last)",
      "Cell \u001B[1;32mIn[79], line 4\u001B[0m\n\u001B[0;32m      1\u001B[0m rng_key \u001B[38;5;241m=\u001B[39m random\u001B[38;5;241m.\u001B[39mPRNGKey(\u001B[38;5;241m1\u001B[39m)\n\u001B[0;32m      2\u001B[0m rng_key, rng_key_ \u001B[38;5;241m=\u001B[39m random\u001B[38;5;241m.\u001B[39msplit(rng_key)\n\u001B[1;32m----> 4\u001B[0m school_svi_tst \u001B[38;5;241m=\u001B[39m util\u001B[38;5;241m.\u001B[39mNetwork_SVI(x_df \u001B[38;5;241m=\u001B[39m torch\u001B[38;5;241m.\u001B[39mtensor(np\u001B[38;5;241m.\u001B[39marray(\u001B[43mdf_for_network\u001B[49m), dtype\u001B[38;5;241m=\u001B[39mtorch\u001B[38;5;241m.\u001B[39mfloat32), \n\u001B[0;32m      5\u001B[0m                                   \u001B[38;5;66;03m# triu_obs = torch.tensor(adj_to_triu(tst_net),dtype=torch.float32))\u001B[39;00m\n\u001B[0;32m      6\u001B[0m                                   triu_obs \u001B[38;5;241m=\u001B[39m torch\u001B[38;5;241m.\u001B[39mstack([tst_ST_triu, tst_STW2_triu]),\n\u001B[0;32m      7\u001B[0m                                   \u001B[38;5;66;03m# triu_obs = torch.stack([tst_ST_triu, tst_BF_triu]),\u001B[39;00m\n\u001B[0;32m      8\u001B[0m                                   \u001B[38;5;66;03m# network_model=models.multilayer_networks_model)\u001B[39;00m\n\u001B[0;32m      9\u001B[0m                                   network_model\u001B[38;5;241m=\u001B[39mmodels\u001B[38;5;241m.\u001B[39mrepeated_noisy_networks_model,\n\u001B[0;32m     10\u001B[0m                                   n_iter \u001B[38;5;241m=\u001B[39m \u001B[38;5;241m1000\u001B[39m,\n\u001B[0;32m     11\u001B[0m                                   n_samples \u001B[38;5;241m=\u001B[39m \u001B[38;5;241m1000\u001B[39m)\n\u001B[0;32m     13\u001B[0m school_svi_tst\u001B[38;5;241m.\u001B[39mtrain_model()\n",
      "\u001B[1;31mNameError\u001B[0m: name 'df_for_network' is not defined"
     ]
    }
   ],
   "execution_count": 79
  },
  {
   "metadata": {},
   "cell_type": "code",
   "source": "school_posterior_samps_svi = school_svi_tst.network_samples()",
   "id": "371ecd8027933abd",
   "outputs": [],
   "execution_count": null
  },
  {
   "metadata": {},
   "cell_type": "code",
   "source": "school_posterior_samps_svi.shape",
   "id": "9afe595a3cbb1ffa",
   "outputs": [],
   "execution_count": null
  },
  {
   "metadata": {},
   "cell_type": "code",
   "source": [
    "school_triu_obs_pred = school_svi_tst.sample_triu_obs_predictive(num_samples = 10000)\n",
    "school_triu_obs_pred.shape"
   ],
   "id": "2c79a2faa7bb43fd",
   "outputs": [],
   "execution_count": null
  },
  {
   "metadata": {},
   "cell_type": "code",
   "source": "school_triu_obs_pred[0,0].shape",
   "id": "4ba7df9bec76a69d",
   "outputs": [],
   "execution_count": null
  },
  {
   "metadata": {},
   "cell_type": "code",
   "source": "school_triu_obs_pred.std(axis=0)",
   "id": "65d2f205fed0ed88",
   "outputs": [],
   "execution_count": null
  },
  {
   "metadata": {},
   "cell_type": "code",
   "source": [
    "def triu_to_mat(triu_values, N):\n",
    "    \"\"\"\n",
    "    Convert upper triangular values to a full adjacency matrix.\n",
    "    \n",
    "    Parameters:\n",
    "    triu_values (torch.Tensor): Upper triangular values, shape (num_triu_elements,)\n",
    "    N (int): Number of nodes in the network\n",
    "    \n",
    "    Returns:\n",
    "    torch.Tensor: Full adjacency matrix, shape (N, N)\n",
    "    \"\"\"\n",
    "    # Create an empty N x N matrix\n",
    "    adj_matrix = torch.zeros((N, N), dtype=triu_values.dtype)\n",
    "    \n",
    "    # Get the indices for the upper triangular part\n",
    "    triu_indices = torch.triu_indices(N, N, offset=1)\n",
    "    \n",
    "    # Fill the upper triangular part\n",
    "    adj_matrix[triu_indices[0], triu_indices[1]] = triu_values\n",
    "    \n",
    "    # Make the matrix symmetric by adding its transpose\n",
    "    adj_matrix = adj_matrix + adj_matrix.T\n",
    "    \n",
    "    return adj_matrix\n",
    "\n",
    "N_units = school_df.shape[0]\n",
    "\n",
    "degs_post = torch.zeros(N_units, dtype=school_triu_obs_pred.dtype)\n",
    "degs_post2 = torch.zeros(N_units, dtype=school_triu_obs_pred.dtype)\n",
    "deg_post_star = torch.zeros(N_units, dtype=school_triu_obs_pred.dtype)\n",
    "\n",
    "for i in tqdm(range(10000)):\n",
    "    mat_i = triu_to_mat(school_triu_obs_pred[0,i], N_units)\n",
    "    mat_i2 = triu_to_mat(school_triu_obs_pred[1,i], N_units)\n",
    "    cur_deg = mat_i.sum(axis=1)\n",
    "    cur_deg2 = mat_i2.sum(axis=1)\n",
    "    degs_post += cur_deg\n",
    "    degs_post2 += cur_deg2\n",
    "    star_mat_i = triu_to_mat(torch.from_numpy(np.array(school_posterior_samps_svi[i])), N_units)\n",
    "    deg_post_star += star_mat_i.sum(axis=1)\n",
    "\n",
    "degs_post /= 10000\n",
    "degs_post2 /= 10000\n",
    "deg_post_star /= 10000\n",
    "\n",
    "# obs_deg = torch.tensor((tst_new_W2.sum(axis=1) + tst_net.sum(axis=1))/2, dtype=deg_post_star.dtype)\n",
    "obs_deg = torch.tensor(tst_net.sum(axis=1), dtype=deg_post_star.dtype)\n",
    "obs_deg2 = torch.tensor(tst_new_BF.sum(axis=1), dtype=deg_post_star.dtype)\n",
    "\n",
    "# print(\"MAE:\", torch.mean(torch.abs((obs_deg - degs_post))))\n",
    "\n",
    "# plt.figure(figsize=(4,3))\n",
    "# plt.scatter(obs_deg, degs_post)\n",
    "# x axis label = \"Observed degree\"\n",
    "# y axis label = \"Posterior predictive degree\"\n",
    "# plt.xlabel(\"Observed degree\")\n",
    "# plt.ylabel(\"Posterior predictive degree\")\n",
    "# plt.axline((0, 0), slope=1, color=\"orange\", linestyle=\"--\")   \n",
    "    "
   ],
   "id": "6fddc11297a8b15e",
   "outputs": [],
   "execution_count": null
  },
  {
   "metadata": {},
   "cell_type": "code",
   "source": [
    "# plt.figure(figsize=(4,3))\n",
    "fig, (ax1, ax2) = plt.subplots(1, 2, figsize=(8, 4))\n",
    "\n",
    "# plt.scatter(obs_deg, deg_post_star)\n",
    "ax1.scatter(obs_deg, degs_post)\n",
    "ax1.axline((0, 0), slope=1, color=\"orange\", linestyle=\"--\")\n",
    "ax2.scatter(obs_deg2, degs_post2)\n",
    "ax2.axline((0, 0), slope=1, color=\"orange\", linestyle=\"--\")\n",
    "# x axis label = \"Observed degree\"\n",
    "# y axis label = \"Posterior predictive degree\"\n",
    "# plt.xlabel(\"Observed degree\")\n",
    "# plt.ylabel(\"Posterior star degree\")\n",
    "# plt.axline((0, 0), slope=1, color=\"orange\", linestyle=\"--\")  "
   ],
   "id": "87d00224b0feddd6",
   "outputs": [],
   "execution_count": null
  },
  {
   "metadata": {},
   "cell_type": "code",
   "source": [
    "plt.figure(figsize=(4,3))\n",
    "plt.scatter(obs_deg, deg_post_star)\n",
    "plt.axline((0, 0), slope=1, color=\"orange\", linestyle=\"--\")"
   ],
   "id": "abb7973616b4db2a",
   "outputs": [],
   "execution_count": null
  },
  {
   "cell_type": "code",
   "id": "fa12096f4814174",
   "metadata": {},
   "source": [
    "# TODO: Think the outcome analysis should be limited to the eligible students only (due to positivity)\n",
    "# TODO: think about estimands. Good options is to take stochastic estimands with different alphas (e.g., alpha = 0.3,0.5,0.7) vs baseline of treating no one\n",
    "# TODO: limit outcome analysis for only students in SCHTREAT == 1 as other schools are not given the outcome.\n",
    "# Nonetheless, the network analysis should be done on the full network of each school (avoid network sampling)\n"
   ],
   "outputs": [],
   "execution_count": null
  },
  {
   "metadata": {},
   "cell_type": "code",
   "source": [
    "\n",
    "def group_indicators_to_indices(df):\n",
    "    \"\"\"\n",
    "    Convert a DataFrame of binary group indicators to a vector of indices.\n",
    "    Parameters:\n",
    "    df (pandas.DataFrame): N x K DataFrame of binary indicators.\n",
    "                           Each row should sum to 1.\n",
    "    Returns:\n",
    "    numpy.ndarray: N-length vector of indices in the range [0, K-1]\n",
    "    \"\"\"\n",
    "    # Check if each row sums to 1\n",
    "    if not (df.sum(axis=1) == 1).all():\n",
    "        raise ValueError(\"Each row in the DataFrame must sum to 1\")\n",
    "    \n",
    "    indices = jnp.argmax(df.values, axis=1)\n",
    "    \n",
    "    return indices"
   ],
   "id": "c7bff732d4df80fc",
   "outputs": [],
   "execution_count": null
  },
  {
   "metadata": {},
   "cell_type": "code",
   "source": [
    "school_df_eligibles = school_df[school_df['ELIGIBLE']==1]\n",
    "print(school_df.shape, school_df_eligibles.shape)\n",
    "tst_grades = group_indicators_to_indices(school_df_eligibles[['GRC_6', 'GRC_7', 'GRC_8']])\n",
    "print(len(np.unique(tst_grades)), tst_grades.shape, type(tst_grades))"
   ],
   "id": "10698d42f80ef85",
   "outputs": [],
   "execution_count": null
  },
  {
   "metadata": {},
   "cell_type": "code",
   "source": [
    "# school_df['SCHID'].values - 1\n",
    "fixed_df = jnp.array(school_df_eligibles[[\"GENC\", \"ETHW\", \"ETHH\", \"GAME\"]].values)\n",
    "# fixed_df = school_df_eligibles[[\"GENC\", \"ETHW\", \"ETHB\", \"ETHH\", \"ETHA\", \"ETHC\", \"GAME\"]].values\n",
    "# all_trts = jnp.array(school_df['TREAT_NUMERIC'].values - 1)\n",
    "all_trts = jnp.array(school_df['TREAT_NUMERIC'].values==2, dtype=int)\n",
    "# obs_trts = jnp.array(school_df_eligibles['TREAT_NUMERIC'].values - 1)\n",
    "obs_trts = jnp.array(school_df_eligibles['TREAT_NUMERIC'].values==2, dtype=int)\n",
    "obs_outcome = jnp.array(school_df_eligibles['WRISTOW2_NUMERIC'].values)\n",
    "sch_trt = jnp.array(school_df_eligibles['SCHTREAT_NUMERIC'].values)\n",
    "tst_school = jnp.array(school_df_eligibles['SCHID'].values - 1, dtype=int)\n",
    "\n",
    "exposures_all = util.zeigen_value(Z=all_trts, adj_mat=tst_net)\n",
    "exposures_elig = exposures_all[(school_df['ELIGIBLE']==1).values]\n",
    "# exposure_elig_sub = util.zeigen_value(Z=all_trts, adj_mat=tst_net, subset = (school_df['ELIGIBLE']==1).values)\n",
    "print(len(exposures_all), len(exposures_elig))\n",
    "print(fixed_df.shape, '\\n', obs_trts.shape, '\\n', obs_outcome.shape, '\\n', sch_trt.shape,\n",
    "      '\\n', tst_school.shape, '\\n', tst_grades.shape, '\\n', exposures_elig.shape)\n",
    "\n",
    "obs_data = {'X' : fixed_df, 'school' : tst_school,  'grade' : tst_grades,\n",
    "            'trts' : obs_trts, 'sch_trts' : sch_trt ,\n",
    "             'exposures' : exposures_elig, 'Y' : obs_outcome}"
   ],
   "id": "68a8f2f1639e84c5",
   "outputs": [],
   "execution_count": null
  },
  {
   "metadata": {},
   "cell_type": "code",
   "source": "print(len(jnp.unique(obs_data['school'])), len(jnp.unique(obs_data['grade'])))",
   "id": "bbdbbb243153b109",
   "outputs": [],
   "execution_count": null
  },
  {
   "metadata": {},
   "cell_type": "code",
   "source": [
    "# Outcome model with observed network\n",
    "rng_key = random.PRNGKey(0)\n",
    "_, rng_key = random.split(rng_key)\n",
    "\n",
    "outcome_obs = util.Outcome_MCMC(data=obs_data, rng_key=rng_key)\n"
   ],
   "id": "27ad81cb95166540",
   "outputs": [],
   "execution_count": null
  },
  {
   "metadata": {},
   "cell_type": "code",
   "source": [
    "# stoch_30 = util.stochastic_intervention(alpha=0.3, n=len(sch_trt))\n",
    "stoch_30 = util.stochastic_intervention(alpha=0.3, n=school_df.shape[0])\n",
    "exposures_stoch_30 = util.zeigen_value(Z=stoch_30, adj_mat=tst_net)\n",
    "print(exposures_stoch_30.shape, stoch_30.shape)\n",
    "stoch_30_elig = exposures_stoch_30[:,(school_df['ELIGIBLE']==1).values]\n",
    "exposures_stoch_30_elig = exposures_stoch_30[:,(school_df['ELIGIBLE']==1).values]\n",
    "stoch_70 = util.stochastic_intervention(alpha=0.7, n=school_df.shape[0])\n",
    "stoch_70_elig = stoch_70[:,(school_df['ELIGIBLE']==1).values]\n",
    "exposures_stoch_70 = util.zeigen_value(Z=stoch_70, adj_mat=tst_net)\n",
    "exposures_stoch_70_elig = exposures_stoch_70[:,(school_df['ELIGIBLE']==1).values]\n",
    "print(exposures_stoch_70.shape, stoch_70.shape, stoch_70_elig.shape, exposures_stoch_70_elig.shape)\n",
    "print(exposures_stoch_30.shape, stoch_30.shape, stoch_30_elig.shape, exposures_stoch_30_elig.shape)"
   ],
   "id": "1d383df6a2f84e1",
   "outputs": [],
   "execution_count": null
  },
  {
   "metadata": {},
   "cell_type": "code",
   "source": [
    "pred_stoch_30 = outcome_obs.get_predicted_values(trts = stoch_30_elig, exposures = exposures_stoch_30_elig)\n",
    "print(pred_stoch_30.shape)\n",
    "pred_stoch_70 = outcome_obs.get_predicted_values(trts = stoch_70_elig, exposures = exposures_stoch_70_elig)\n",
    "print(pred_stoch_70.shape)"
   ],
   "id": "b676e212774a8ec7",
   "outputs": [],
   "execution_count": null
  },
  {
   "metadata": {},
   "cell_type": "code",
   "source": [
    "post_esti =  jnp.mean(pred_stoch_70, axis=1) - jnp.mean(pred_stoch_30, axis=1)\n",
    "print(\"mean esti [95% CI]:\", jnp.mean(post_esti), jnp.percentile(post_esti, 2.5), jnp.percentile(post_esti, 97.5))\n",
    "\n",
    "plt.figure(figsize=(4,3))\n",
    "plt.hist(post_esti, bins=30, color='skyblue', density = True)\n"
   ],
   "id": "db60da4ac3c3af93",
   "outputs": [],
   "execution_count": null
  },
  {
   "metadata": {},
   "cell_type": "code",
   "source": [
    "post_obs_exposure = util.vectorized_post_exposures(school_posterior_samps_svi[0:1000], all_trts, all_trts.shape[0])\n",
    "print(post_obs_exposure.shape)\n",
    "post_obs_expos_elig = post_obs_exposure[:,(school_df['ELIGIBLE']==1).values]\n",
    "print(post_obs_expos_elig.shape)"
   ],
   "id": "2205ec63ee9892f5",
   "outputs": [],
   "execution_count": null
  },
  {
   "metadata": {},
   "cell_type": "code",
   "source": [
    "plt.figure(figsize=(4,3))\n",
    "# plt.scatter(post_obs_exposure.mean(axis=0), exposures_all)\n",
    "plt.scatter(post_obs_expos_elig.mean(axis=0), exposures_elig)\n",
    "plt.axline((0, 0), slope=1, color=\"orange\", linestyle=\"--\")"
   ],
   "id": "807d9c113af96c8f",
   "outputs": [],
   "execution_count": null
  },
  {
   "metadata": {},
   "cell_type": "code",
   "source": [
    "# Run onestage\n",
    "onestage_tst = util.Onestage_MCMC(obs_trts=obs_trts, post_exposures=post_obs_expos_elig.mean(axis=0), sch_trts=sch_trt, \n",
    "                                  fixed_df = fixed_df, grade = tst_grades, school=tst_school, Y=obs_outcome, rng_key=rng_key)\n"
   ],
   "id": "4aa44026969c478d",
   "outputs": [],
   "execution_count": null
  },
  {
   "metadata": {},
   "cell_type": "code",
   "source": [
    "pred_stoch_30_OS = onestage_tst.get_predicted_values(stoch_30_elig, exposures_stoch_30_elig)\n",
    "print(pred_stoch_30_OS.shape)\n",
    "pred_stoch_70_OS = onestage_tst.get_predicted_values(stoch_70_elig, exposures_stoch_70_elig)\n",
    "print(pred_stoch_70_OS.shape)"
   ],
   "id": "3d2ad57c101654a8",
   "outputs": [],
   "execution_count": null
  },
  {
   "metadata": {},
   "cell_type": "code",
   "source": [
    "post_esti_OS =  jnp.mean(pred_stoch_70_OS, axis=1) - jnp.mean(pred_stoch_30_OS, axis=1)\n",
    "print(\"mean esti [95% CI]:\", jnp.mean(post_esti_OS), jnp.percentile(post_esti_OS, 2.5), jnp.percentile(post_esti_OS, 97.5))\n",
    "\n",
    "fig, (ax1, ax2) = plt.subplots(1, 2, figsize=(8, 4))\n",
    "\n",
    "ax1.hist(post_esti, bins=30, color='skyblue', density = True)\n",
    "ax2.hist(post_esti_OS, bins=30, color='skyblue', density = True)\n",
    "\n",
    "plt.show()\n"
   ],
   "id": "bbcd8e1c61a1cbf6",
   "outputs": [],
   "execution_count": null
  },
  {
   "metadata": {
    "ExecuteTime": {
     "end_time": "2024-09-04T07:17:06.902188Z",
     "start_time": "2024-09-04T07:17:06.690114Z"
    }
   },
   "cell_type": "code",
   "source": [
    "post_a30_exposure = util.vectorized_post_exposures(school_posterior_samps_svi[0:1000], stoch_30, all_trts.shape[0])\n",
    "print(post_a30_exposure.shape)\n",
    "post_a30_exposure_elig = post_a30_exposure[:,:, (school_df['ELIGIBLE'] == 1).values]\n",
    "print(post_a30_exposure_elig.shape)\n",
    "\n",
    "post_a70_exposure = util.vectorized_post_exposures(school_posterior_samps_svi[0:1000], stoch_70, all_trts.shape[0])\n",
    "print(post_a70_exposure.shape)\n",
    "post_a70_exposure_elig = post_a70_exposure[:,:, (school_df['ELIGIBLE'] == 1).values]\n",
    "print(post_a70_exposure_elig.shape)"
   ],
   "id": "5e3ba472cc0997a0",
   "outputs": [
    {
     "ename": "NameError",
     "evalue": "name 'school_posterior_samps_svi' is not defined",
     "output_type": "error",
     "traceback": [
      "\u001B[1;31m---------------------------------------------------------------------------\u001B[0m",
      "\u001B[1;31mNameError\u001B[0m                                 Traceback (most recent call last)",
      "Cell \u001B[1;32mIn[78], line 1\u001B[0m\n\u001B[1;32m----> 1\u001B[0m post_a30_exposure \u001B[38;5;241m=\u001B[39m util\u001B[38;5;241m.\u001B[39mvectorized_post_exposures(\u001B[43mschool_posterior_samps_svi\u001B[49m[\u001B[38;5;241m0\u001B[39m:\u001B[38;5;241m1000\u001B[39m], stoch_30, all_trts\u001B[38;5;241m.\u001B[39mshape[\u001B[38;5;241m0\u001B[39m])\n\u001B[0;32m      2\u001B[0m \u001B[38;5;28mprint\u001B[39m(post_a30_exposure\u001B[38;5;241m.\u001B[39mshape)\n\u001B[0;32m      3\u001B[0m post_a30_exposure_elig \u001B[38;5;241m=\u001B[39m post_a30_exposure[:,:, (school_df[\u001B[38;5;124m'\u001B[39m\u001B[38;5;124mELIGIBLE\u001B[39m\u001B[38;5;124m'\u001B[39m] \u001B[38;5;241m==\u001B[39m \u001B[38;5;241m1\u001B[39m)\u001B[38;5;241m.\u001B[39mvalues]\n",
      "\u001B[1;31mNameError\u001B[0m: name 'school_posterior_samps_svi' is not defined"
     ]
    }
   ],
   "execution_count": 78
  },
  {
   "metadata": {},
   "cell_type": "code",
   "source": [
    "post_stoch_exposures = jnp.transpose(jnp.stack([post_a30_exposure_elig, post_a70_exposure_elig]),axes=(1,0,2,3))\n",
    "print(post_stoch_exposures.shape)\n",
    "stoch_trt_all = jnp.stack([stoch_30_elig, stoch_70_elig])\n",
    "print(stoch_trt_all.shape)"
   ],
   "id": "d751846f173bdea3",
   "outputs": [],
   "execution_count": null
  },
  {
   "metadata": {},
   "cell_type": "code",
   "source": [
    "print(post_stoch_exposures[0:4].shape)\n",
    "print(post_obs_expos_elig[0:4].shape)"
   ],
   "id": "3d257348ce925888",
   "outputs": [],
   "execution_count": null
  },
  {
   "metadata": {},
   "cell_type": "code",
   "source": [
    "# TODO: debug multistage inference \n",
    "# TODO: write function that wrap evertything: network sampling and posterior for each school (seperately), join the data for outcome regressions, and predictions of estimands"
   ],
   "id": "1760f368a7350839",
   "outputs": [],
   "execution_count": null
  },
  {
   "metadata": {},
   "cell_type": "code",
   "source": [
    "# Run multistage\n",
    "multistage_tst = util.linear_multistage(post_exposures=post_obs_expos_elig, post_new_expsoures=post_stoch_exposures,\n",
    "                                        obs_trts=obs_trts, new_trts=stoch_trt_all, sch_trts=sch_trt,\n",
    "                                        fixed_df=fixed_df, grade=tst_grades, school=tst_school, Y=obs_outcome, key=rng_key)"
   ],
   "id": "c0deb23baeca735e",
   "outputs": [],
   "execution_count": null
  },
  {
   "metadata": {},
   "cell_type": "code",
   "source": "print(multistage_tst.shape, multistage_tst[0].shape)",
   "id": "c802d3e01b765ee7",
   "outputs": [],
   "execution_count": null
  },
  {
   "metadata": {},
   "cell_type": "code",
   "source": [
    "post_esti_MS =  jnp.mean(multistage_tst[1], axis=1) - jnp.mean(multistage_tst[0], axis=1)\n",
    "print(post_esti_MS.shape)\n",
    "print(\"mean esti [95% CI]:\", jnp.mean(post_esti_MS), jnp.percentile(post_esti_MS, 2.5), jnp.percentile(post_esti_MS, 97.5))\n",
    "\n",
    "fig, (ax1, ax2, ax3) = plt.subplots(1, 3, figsize=(8, 4))\n",
    "\n",
    "ax1.hist(post_esti, bins=30, color='skyblue', density = True)\n",
    "ax2.hist(post_esti_OS, bins=30, color='darkgreen', density = True)\n",
    "ax3.hist(post_esti_MS, bins=30, color='darkorange', density = True)\n",
    "\n",
    "plt.show()"
   ],
   "id": "f69efef954ad402e",
   "outputs": [],
   "execution_count": null
  },
  {
   "metadata": {},
   "cell_type": "code",
   "source": "",
   "id": "e2df97a2c4e59419",
   "outputs": [],
   "execution_count": null
  }
 ],
 "metadata": {
  "kernelspec": {
   "display_name": "Python 3 (ipykernel)",
   "language": "python",
   "name": "python3"
  },
  "language_info": {
   "codemirror_mode": {
    "name": "ipython",
    "version": 3
   },
   "file_extension": ".py",
   "mimetype": "text/x-python",
   "name": "python",
   "nbconvert_exporter": "python",
   "pygments_lexer": "ipython3",
   "version": "3.11.8"
  }
 },
 "nbformat": 4,
 "nbformat_minor": 5
}
