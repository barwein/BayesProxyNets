{
 "cells": [
  {
   "metadata": {
    "collapsed": true,
    "jupyter": {
     "outputs_hidden": true
    },
    "ExecuteTime": {
     "end_time": "2024-10-09T07:37:26.439466Z",
     "start_time": "2024-10-09T07:37:15.141366Z"
    }
   },
   "cell_type": "code",
   "source": [
    "import numpy as np\n",
    "import pandas as pd\n",
    "import pyreadr \n",
    "import networkx as nx\n",
    "import re\n",
    "from scipy import sparse\n",
    "import matplotlib.pyplot as plt\n",
    "import jax.numpy as jnp\n",
    "from jax import random, jit, vmap, pmap\n",
    "from itertools import combinations\n",
    "import importlib\n",
    "import pyro\n",
    "import torch\n",
    "from tqdm import tqdm\n",
    "\n",
    "# Autoreload magic commands\n",
    "# %load_ext autoreload\n",
    "# %autoreload 2\n",
    "\n",
    "import src.Aux_functions as aux\n",
    "import models_for_data_analysis as models\n",
    "import utils_for_inference as util\n",
    "import data_wrangle as dw\n",
    "import wrapper_functions as wrap\n",
    "\n",
    "# importlib.reload(aux)\n",
    "# importlib.reload(util)\n",
    "# importlib.reload(models_for_data_analysis)\n",
    "\n",
    "# from models_for_data_analysis import noisy_networks_model\n"
   ],
   "id": "initial_id",
   "outputs": [],
   "execution_count": 1
  },
  {
   "cell_type": "code",
   "id": "8e0d4ac2495b6af9",
   "metadata": {
    "ExecuteTime": {
     "end_time": "2024-10-09T07:38:28.070005Z",
     "start_time": "2024-10-09T07:37:26.469390Z"
    }
   },
   "source": [
    "# Load data\n",
    "all_schools = pyreadr.read_r('37070-0001-Data.rda')\n",
    "all_schools = pd.DataFrame(all_schools['da37070.0001'])\n",
    "all_schools"
   ],
   "outputs": [
    {
     "data": {
      "text/plain": [
       "       SCHID        UID                                         SCHTREAT  \\\n",
       "0        1.0   100001.0  (1) Treatment school (Roots meetings 2012-2013)   \n",
       "1        1.0   100002.0  (1) Treatment school (Roots meetings 2012-2013)   \n",
       "2        1.0   100003.0  (1) Treatment school (Roots meetings 2012-2013)   \n",
       "3        1.0   100004.0  (1) Treatment school (Roots meetings 2012-2013)   \n",
       "4        1.0   100005.0  (1) Treatment school (Roots meetings 2012-2013)   \n",
       "...      ...        ...                                              ...   \n",
       "24466   60.0  6000670.0  (1) Treatment school (Roots meetings 2012-2013)   \n",
       "24467   60.0  6000671.0  (1) Treatment school (Roots meetings 2012-2013)   \n",
       "24468   60.0  6000672.0  (1) Treatment school (Roots meetings 2012-2013)   \n",
       "24469   60.0  6000673.0  (1) Treatment school (Roots meetings 2012-2013)   \n",
       "24470   60.0  6000674.0  (1) Treatment school (Roots meetings 2012-2013)   \n",
       "\n",
       "      SCHRB         ID                         TREAT  STRB     SID1  \\\n",
       "0        3   1          (0) Not treatment or control   0.0  5114      \n",
       "1        3   2                           (2) Control   4.0  5108      \n",
       "2        3   3          (0) Not treatment or control   0.0  5100      \n",
       "3        3   4          (0) Not treatment or control   0.0  5101      \n",
       "4        3   5          (0) Not treatment or control   0.0  5087      \n",
       "...     ...        ...                           ...   ...      ...   \n",
       "24466    11  670                                 NaN   NaN  13897     \n",
       "24467    11  671                                 NaN   NaN  14054     \n",
       "24468    11  672                                 NaN   NaN  13985     \n",
       "24469    11  673                                 NaN   NaN            \n",
       "24470    11  674                                 NaN   NaN            \n",
       "\n",
       "                 SID3            SID4  ...        AM_F        PI_M  \\\n",
       "0      5114            5114            ...  (001) 0-10  (001) 0-10   \n",
       "1      5108            5108            ...  (001) 0-10  (001) 0-10   \n",
       "2      5100            5100            ...  (001) 0-10  (001) 0-10   \n",
       "3      5101            5101            ...  (001) 0-10  (001) 0-10   \n",
       "4      5087            5087            ...  (001) 0-10  (001) 0-10   \n",
       "...               ...             ...  ...         ...         ...   \n",
       "24466  13897           13897           ...  (001) 0-10  (001) 0-10   \n",
       "24467  14054           14054           ...  (001) 0-10  (001) 0-10   \n",
       "24468  13985           13985           ...  (001) 0-10  (001) 0-10   \n",
       "24469                                  ...  (001) 0-10  (001) 0-10   \n",
       "24470                                  ...  (001) 0-10  (001) 0-10   \n",
       "\n",
       "             PI_F        MU_M        MU_F      ROW_TOTAL   FREE_LUNCH  \\\n",
       "0      (001) 0-10  (001) 0-10  (001) 0-10  (029) 281-290  (008) 71-80   \n",
       "1      (001) 0-10  (001) 0-10  (001) 0-10  (029) 281-290  (008) 71-80   \n",
       "2      (001) 0-10  (001) 0-10  (001) 0-10  (029) 281-290  (008) 71-80   \n",
       "3      (001) 0-10  (001) 0-10  (001) 0-10  (029) 281-290  (008) 71-80   \n",
       "4      (001) 0-10  (001) 0-10  (001) 0-10  (029) 281-290  (008) 71-80   \n",
       "...           ...         ...         ...            ...          ...   \n",
       "24466  (001) 0-10  (001) 0-10  (001) 0-10  (071) 701-710  (004) 31-40   \n",
       "24467  (001) 0-10  (001) 0-10  (001) 0-10  (071) 701-710  (004) 31-40   \n",
       "24468  (001) 0-10  (001) 0-10  (001) 0-10  (071) 701-710  (004) 31-40   \n",
       "24469  (001) 0-10  (001) 0-10  (001) 0-10  (071) 701-710  (004) 31-40   \n",
       "24470  (001) 0-10  (001) 0-10  (001) 0-10  (071) 701-710  (004) 31-40   \n",
       "\n",
       "       REDUCED_LUNCH         LEP            MIGRANT  \n",
       "0        (005) 41-50  (001) 0-10  [MASKED BY ICPSR]  \n",
       "1        (005) 41-50  (001) 0-10  [MASKED BY ICPSR]  \n",
       "2        (005) 41-50  (001) 0-10  [MASKED BY ICPSR]  \n",
       "3        (005) 41-50  (001) 0-10  [MASKED BY ICPSR]  \n",
       "4        (005) 41-50  (001) 0-10  [MASKED BY ICPSR]  \n",
       "...              ...         ...                ...  \n",
       "24466    (002) 11-20  (001) 0-10  [MASKED BY ICPSR]  \n",
       "24467    (002) 11-20  (001) 0-10  [MASKED BY ICPSR]  \n",
       "24468    (002) 11-20  (001) 0-10  [MASKED BY ICPSR]  \n",
       "24469    (002) 11-20  (001) 0-10  [MASKED BY ICPSR]  \n",
       "24470    (002) 11-20  (001) 0-10  [MASKED BY ICPSR]  \n",
       "\n",
       "[24471 rows x 499 columns]"
      ],
      "text/html": [
       "<div>\n",
       "<style scoped>\n",
       "    .dataframe tbody tr th:only-of-type {\n",
       "        vertical-align: middle;\n",
       "    }\n",
       "\n",
       "    .dataframe tbody tr th {\n",
       "        vertical-align: top;\n",
       "    }\n",
       "\n",
       "    .dataframe thead th {\n",
       "        text-align: right;\n",
       "    }\n",
       "</style>\n",
       "<table border=\"1\" class=\"dataframe\">\n",
       "  <thead>\n",
       "    <tr style=\"text-align: right;\">\n",
       "      <th></th>\n",
       "      <th>SCHID</th>\n",
       "      <th>UID</th>\n",
       "      <th>SCHTREAT</th>\n",
       "      <th>SCHRB</th>\n",
       "      <th>ID</th>\n",
       "      <th>TREAT</th>\n",
       "      <th>STRB</th>\n",
       "      <th>SID1</th>\n",
       "      <th>SID3</th>\n",
       "      <th>SID4</th>\n",
       "      <th>...</th>\n",
       "      <th>AM_F</th>\n",
       "      <th>PI_M</th>\n",
       "      <th>PI_F</th>\n",
       "      <th>MU_M</th>\n",
       "      <th>MU_F</th>\n",
       "      <th>ROW_TOTAL</th>\n",
       "      <th>FREE_LUNCH</th>\n",
       "      <th>REDUCED_LUNCH</th>\n",
       "      <th>LEP</th>\n",
       "      <th>MIGRANT</th>\n",
       "    </tr>\n",
       "  </thead>\n",
       "  <tbody>\n",
       "    <tr>\n",
       "      <th>0</th>\n",
       "      <td>1.0</td>\n",
       "      <td>100001.0</td>\n",
       "      <td>(1) Treatment school (Roots meetings 2012-2013)</td>\n",
       "      <td>3</td>\n",
       "      <td>1</td>\n",
       "      <td>(0) Not treatment or control</td>\n",
       "      <td>0.0</td>\n",
       "      <td>5114</td>\n",
       "      <td>5114</td>\n",
       "      <td>5114</td>\n",
       "      <td>...</td>\n",
       "      <td>(001) 0-10</td>\n",
       "      <td>(001) 0-10</td>\n",
       "      <td>(001) 0-10</td>\n",
       "      <td>(001) 0-10</td>\n",
       "      <td>(001) 0-10</td>\n",
       "      <td>(029) 281-290</td>\n",
       "      <td>(008) 71-80</td>\n",
       "      <td>(005) 41-50</td>\n",
       "      <td>(001) 0-10</td>\n",
       "      <td>[MASKED BY ICPSR]</td>\n",
       "    </tr>\n",
       "    <tr>\n",
       "      <th>1</th>\n",
       "      <td>1.0</td>\n",
       "      <td>100002.0</td>\n",
       "      <td>(1) Treatment school (Roots meetings 2012-2013)</td>\n",
       "      <td>3</td>\n",
       "      <td>2</td>\n",
       "      <td>(2) Control</td>\n",
       "      <td>4.0</td>\n",
       "      <td>5108</td>\n",
       "      <td>5108</td>\n",
       "      <td>5108</td>\n",
       "      <td>...</td>\n",
       "      <td>(001) 0-10</td>\n",
       "      <td>(001) 0-10</td>\n",
       "      <td>(001) 0-10</td>\n",
       "      <td>(001) 0-10</td>\n",
       "      <td>(001) 0-10</td>\n",
       "      <td>(029) 281-290</td>\n",
       "      <td>(008) 71-80</td>\n",
       "      <td>(005) 41-50</td>\n",
       "      <td>(001) 0-10</td>\n",
       "      <td>[MASKED BY ICPSR]</td>\n",
       "    </tr>\n",
       "    <tr>\n",
       "      <th>2</th>\n",
       "      <td>1.0</td>\n",
       "      <td>100003.0</td>\n",
       "      <td>(1) Treatment school (Roots meetings 2012-2013)</td>\n",
       "      <td>3</td>\n",
       "      <td>3</td>\n",
       "      <td>(0) Not treatment or control</td>\n",
       "      <td>0.0</td>\n",
       "      <td>5100</td>\n",
       "      <td>5100</td>\n",
       "      <td>5100</td>\n",
       "      <td>...</td>\n",
       "      <td>(001) 0-10</td>\n",
       "      <td>(001) 0-10</td>\n",
       "      <td>(001) 0-10</td>\n",
       "      <td>(001) 0-10</td>\n",
       "      <td>(001) 0-10</td>\n",
       "      <td>(029) 281-290</td>\n",
       "      <td>(008) 71-80</td>\n",
       "      <td>(005) 41-50</td>\n",
       "      <td>(001) 0-10</td>\n",
       "      <td>[MASKED BY ICPSR]</td>\n",
       "    </tr>\n",
       "    <tr>\n",
       "      <th>3</th>\n",
       "      <td>1.0</td>\n",
       "      <td>100004.0</td>\n",
       "      <td>(1) Treatment school (Roots meetings 2012-2013)</td>\n",
       "      <td>3</td>\n",
       "      <td>4</td>\n",
       "      <td>(0) Not treatment or control</td>\n",
       "      <td>0.0</td>\n",
       "      <td>5101</td>\n",
       "      <td>5101</td>\n",
       "      <td>5101</td>\n",
       "      <td>...</td>\n",
       "      <td>(001) 0-10</td>\n",
       "      <td>(001) 0-10</td>\n",
       "      <td>(001) 0-10</td>\n",
       "      <td>(001) 0-10</td>\n",
       "      <td>(001) 0-10</td>\n",
       "      <td>(029) 281-290</td>\n",
       "      <td>(008) 71-80</td>\n",
       "      <td>(005) 41-50</td>\n",
       "      <td>(001) 0-10</td>\n",
       "      <td>[MASKED BY ICPSR]</td>\n",
       "    </tr>\n",
       "    <tr>\n",
       "      <th>4</th>\n",
       "      <td>1.0</td>\n",
       "      <td>100005.0</td>\n",
       "      <td>(1) Treatment school (Roots meetings 2012-2013)</td>\n",
       "      <td>3</td>\n",
       "      <td>5</td>\n",
       "      <td>(0) Not treatment or control</td>\n",
       "      <td>0.0</td>\n",
       "      <td>5087</td>\n",
       "      <td>5087</td>\n",
       "      <td>5087</td>\n",
       "      <td>...</td>\n",
       "      <td>(001) 0-10</td>\n",
       "      <td>(001) 0-10</td>\n",
       "      <td>(001) 0-10</td>\n",
       "      <td>(001) 0-10</td>\n",
       "      <td>(001) 0-10</td>\n",
       "      <td>(029) 281-290</td>\n",
       "      <td>(008) 71-80</td>\n",
       "      <td>(005) 41-50</td>\n",
       "      <td>(001) 0-10</td>\n",
       "      <td>[MASKED BY ICPSR]</td>\n",
       "    </tr>\n",
       "    <tr>\n",
       "      <th>...</th>\n",
       "      <td>...</td>\n",
       "      <td>...</td>\n",
       "      <td>...</td>\n",
       "      <td>...</td>\n",
       "      <td>...</td>\n",
       "      <td>...</td>\n",
       "      <td>...</td>\n",
       "      <td>...</td>\n",
       "      <td>...</td>\n",
       "      <td>...</td>\n",
       "      <td>...</td>\n",
       "      <td>...</td>\n",
       "      <td>...</td>\n",
       "      <td>...</td>\n",
       "      <td>...</td>\n",
       "      <td>...</td>\n",
       "      <td>...</td>\n",
       "      <td>...</td>\n",
       "      <td>...</td>\n",
       "      <td>...</td>\n",
       "      <td>...</td>\n",
       "    </tr>\n",
       "    <tr>\n",
       "      <th>24466</th>\n",
       "      <td>60.0</td>\n",
       "      <td>6000670.0</td>\n",
       "      <td>(1) Treatment school (Roots meetings 2012-2013)</td>\n",
       "      <td>11</td>\n",
       "      <td>670</td>\n",
       "      <td>NaN</td>\n",
       "      <td>NaN</td>\n",
       "      <td>13897</td>\n",
       "      <td>13897</td>\n",
       "      <td>13897</td>\n",
       "      <td>...</td>\n",
       "      <td>(001) 0-10</td>\n",
       "      <td>(001) 0-10</td>\n",
       "      <td>(001) 0-10</td>\n",
       "      <td>(001) 0-10</td>\n",
       "      <td>(001) 0-10</td>\n",
       "      <td>(071) 701-710</td>\n",
       "      <td>(004) 31-40</td>\n",
       "      <td>(002) 11-20</td>\n",
       "      <td>(001) 0-10</td>\n",
       "      <td>[MASKED BY ICPSR]</td>\n",
       "    </tr>\n",
       "    <tr>\n",
       "      <th>24467</th>\n",
       "      <td>60.0</td>\n",
       "      <td>6000671.0</td>\n",
       "      <td>(1) Treatment school (Roots meetings 2012-2013)</td>\n",
       "      <td>11</td>\n",
       "      <td>671</td>\n",
       "      <td>NaN</td>\n",
       "      <td>NaN</td>\n",
       "      <td>14054</td>\n",
       "      <td>14054</td>\n",
       "      <td>14054</td>\n",
       "      <td>...</td>\n",
       "      <td>(001) 0-10</td>\n",
       "      <td>(001) 0-10</td>\n",
       "      <td>(001) 0-10</td>\n",
       "      <td>(001) 0-10</td>\n",
       "      <td>(001) 0-10</td>\n",
       "      <td>(071) 701-710</td>\n",
       "      <td>(004) 31-40</td>\n",
       "      <td>(002) 11-20</td>\n",
       "      <td>(001) 0-10</td>\n",
       "      <td>[MASKED BY ICPSR]</td>\n",
       "    </tr>\n",
       "    <tr>\n",
       "      <th>24468</th>\n",
       "      <td>60.0</td>\n",
       "      <td>6000672.0</td>\n",
       "      <td>(1) Treatment school (Roots meetings 2012-2013)</td>\n",
       "      <td>11</td>\n",
       "      <td>672</td>\n",
       "      <td>NaN</td>\n",
       "      <td>NaN</td>\n",
       "      <td>13985</td>\n",
       "      <td>13985</td>\n",
       "      <td>13985</td>\n",
       "      <td>...</td>\n",
       "      <td>(001) 0-10</td>\n",
       "      <td>(001) 0-10</td>\n",
       "      <td>(001) 0-10</td>\n",
       "      <td>(001) 0-10</td>\n",
       "      <td>(001) 0-10</td>\n",
       "      <td>(071) 701-710</td>\n",
       "      <td>(004) 31-40</td>\n",
       "      <td>(002) 11-20</td>\n",
       "      <td>(001) 0-10</td>\n",
       "      <td>[MASKED BY ICPSR]</td>\n",
       "    </tr>\n",
       "    <tr>\n",
       "      <th>24469</th>\n",
       "      <td>60.0</td>\n",
       "      <td>6000673.0</td>\n",
       "      <td>(1) Treatment school (Roots meetings 2012-2013)</td>\n",
       "      <td>11</td>\n",
       "      <td>673</td>\n",
       "      <td>NaN</td>\n",
       "      <td>NaN</td>\n",
       "      <td></td>\n",
       "      <td></td>\n",
       "      <td></td>\n",
       "      <td>...</td>\n",
       "      <td>(001) 0-10</td>\n",
       "      <td>(001) 0-10</td>\n",
       "      <td>(001) 0-10</td>\n",
       "      <td>(001) 0-10</td>\n",
       "      <td>(001) 0-10</td>\n",
       "      <td>(071) 701-710</td>\n",
       "      <td>(004) 31-40</td>\n",
       "      <td>(002) 11-20</td>\n",
       "      <td>(001) 0-10</td>\n",
       "      <td>[MASKED BY ICPSR]</td>\n",
       "    </tr>\n",
       "    <tr>\n",
       "      <th>24470</th>\n",
       "      <td>60.0</td>\n",
       "      <td>6000674.0</td>\n",
       "      <td>(1) Treatment school (Roots meetings 2012-2013)</td>\n",
       "      <td>11</td>\n",
       "      <td>674</td>\n",
       "      <td>NaN</td>\n",
       "      <td>NaN</td>\n",
       "      <td></td>\n",
       "      <td></td>\n",
       "      <td></td>\n",
       "      <td>...</td>\n",
       "      <td>(001) 0-10</td>\n",
       "      <td>(001) 0-10</td>\n",
       "      <td>(001) 0-10</td>\n",
       "      <td>(001) 0-10</td>\n",
       "      <td>(001) 0-10</td>\n",
       "      <td>(071) 701-710</td>\n",
       "      <td>(004) 31-40</td>\n",
       "      <td>(002) 11-20</td>\n",
       "      <td>(001) 0-10</td>\n",
       "      <td>[MASKED BY ICPSR]</td>\n",
       "    </tr>\n",
       "  </tbody>\n",
       "</table>\n",
       "<p>24471 rows × 499 columns</p>\n",
       "</div>"
      ]
     },
     "execution_count": 2,
     "metadata": {},
     "output_type": "execute_result"
    }
   ],
   "execution_count": 2
  },
  {
   "metadata": {
    "ExecuteTime": {
     "end_time": "2024-10-09T07:38:40.916200Z",
     "start_time": "2024-10-09T07:38:40.703744Z"
    }
   },
   "cell_type": "code",
   "source": [
    "df_cleaned = dw.clean_data(all_schools)\n",
    "print(df_cleaned.shape)\n",
    "print(df_cleaned.describe())\n",
    "print(df_cleaned.columns)"
   ],
   "id": "7d2378f8e9fc6c3",
   "outputs": [
    {
     "name": "stdout",
     "output_type": "stream",
     "text": [
      "(24182, 39)\n",
      "              SCHID  SCHTREAT_NUMERIC  TREAT_NUMERIC     unique_id  \\\n",
      "count  24182.000000      24182.000000   24182.000000  24182.000000   \n",
      "mean      30.982260          0.493425       0.182532  31247.468448   \n",
      "std       16.909763          0.499967       0.520467  16920.280101   \n",
      "min        1.000000          0.000000       0.000000   1001.000000   \n",
      "25%       19.000000          0.000000       0.000000  19005.250000   \n",
      "50%       30.000000          0.000000       0.000000  30208.500000   \n",
      "75%       45.000000          1.000000       0.000000  45207.750000   \n",
      "max       60.000000          1.000000       2.000000  60674.000000   \n",
      "\n",
      "           ELIGIBLE  WRISTOW2_NUMERIC           ST1           ST2  \\\n",
      "count  24182.000000      24182.000000  22639.000000  22474.000000   \n",
      "mean       0.121702          0.076338    257.628959    260.186215   \n",
      "std        0.326948          0.265543    188.955554    188.521128   \n",
      "min        0.000000          0.000000      1.000000      1.000000   \n",
      "25%        0.000000          0.000000    101.000000    104.000000   \n",
      "50%        0.000000          0.000000    225.000000    226.000000   \n",
      "75%        0.000000          0.000000    378.000000    380.000000   \n",
      "max        1.000000          1.000000    999.000000    999.000000   \n",
      "\n",
      "                ST3           ST4  ...          ETHW          ETHB  \\\n",
      "count  22134.000000  21331.000000  ...  24182.000000  24182.000000   \n",
      "mean     261.895636    264.071117  ...      0.587710      0.084857   \n",
      "std      189.397539    187.940674  ...      0.492257      0.278674   \n",
      "min        1.000000      1.000000  ...      0.000000      0.000000   \n",
      "25%      106.000000    109.000000  ...      0.000000      0.000000   \n",
      "50%      229.000000    232.000000  ...      1.000000      0.000000   \n",
      "75%      382.000000    387.000000  ...      1.000000      0.000000   \n",
      "max      999.000000    999.000000  ...      1.000000      1.000000   \n",
      "\n",
      "               ETHH          ETHA          ETHC         ETHSA          GAME  \\\n",
      "count  24182.000000  24182.000000  24182.000000  24182.000000  24182.000000   \n",
      "mean       0.177984      0.046522      0.017410      0.011000      0.643619   \n",
      "std        0.382507      0.210617      0.130795      0.104304      0.478939   \n",
      "min        0.000000      0.000000      0.000000      0.000000      0.000000   \n",
      "25%        0.000000      0.000000      0.000000      0.000000      0.000000   \n",
      "50%        0.000000      0.000000      0.000000      0.000000      1.000000   \n",
      "75%        0.000000      0.000000      0.000000      0.000000      1.000000   \n",
      "max        1.000000      1.000000      1.000000      1.000000      1.000000   \n",
      "\n",
      "              GRC_6         GRC_7         GRC_8  \n",
      "count  24182.000000  24182.000000  24182.000000  \n",
      "mean       0.255934      0.321934      0.340749  \n",
      "std        0.436394      0.467227      0.473971  \n",
      "min        0.000000      0.000000      0.000000  \n",
      "25%        0.000000      0.000000      0.000000  \n",
      "50%        0.000000      0.000000      0.000000  \n",
      "75%        1.000000      1.000000      1.000000  \n",
      "max        1.000000      1.000000      1.000000  \n",
      "\n",
      "[8 rows x 39 columns]\n",
      "Index(['SCHID', 'SCHTREAT_NUMERIC', 'TREAT_NUMERIC', 'unique_id', 'ELIGIBLE',\n",
      "       'WRISTOW2_NUMERIC', 'ST1', 'ST2', 'ST3', 'ST4', 'ST5', 'ST6', 'ST7',\n",
      "       'ST8', 'ST9', 'ST10', 'ST1W2', 'ST2W2', 'ST3W2', 'ST4W2', 'ST5W2',\n",
      "       'ST6W2', 'ST7W2', 'ST8W2', 'ST9W2', 'ST10W2', 'BF1', 'BF2', 'GENC',\n",
      "       'ETHW', 'ETHB', 'ETHH', 'ETHA', 'ETHC', 'ETHSA', 'GAME', 'GRC_6',\n",
      "       'GRC_7', 'GRC_8'],\n",
      "      dtype='object')\n"
     ]
    }
   ],
   "execution_count": 5
  },
  {
   "metadata": {
    "ExecuteTime": {
     "end_time": "2024-10-09T07:38:42.778367Z",
     "start_time": "2024-10-09T07:38:42.768905Z"
    }
   },
   "cell_type": "code",
   "source": "df_cleaned=df_cleaned[df_cleaned['SCHTREAT_NUMERIC']==1.0]",
   "id": "6a3bc52ee475b6e8",
   "outputs": [],
   "execution_count": 6
  },
  {
   "metadata": {
    "ExecuteTime": {
     "end_time": "2024-10-09T07:38:52.827978Z",
     "start_time": "2024-10-09T07:38:52.820371Z"
    }
   },
   "cell_type": "code",
   "source": "print(df_cleaned['ELIGIBLE'].unique(), df_cleaned['ELIGIBLE'].sum())",
   "id": "ac23f27f61fd29f1",
   "outputs": [
    {
     "name": "stdout",
     "output_type": "stream",
     "text": [
      "[0 1] 1456\n"
     ]
    }
   ],
   "execution_count": 8
  },
  {
   "metadata": {
    "ExecuteTime": {
     "end_time": "2024-10-09T07:35:24.333672Z",
     "start_time": "2024-10-09T07:35:24.317540Z"
    }
   },
   "cell_type": "code",
   "source": "print(df_cleaned['SCHID'].unique(), len(df_cleaned['SCHID'].unique()))",
   "id": "7e8268cb2fc8d38d",
   "outputs": [
    {
     "name": "stdout",
     "output_type": "stream",
     "text": [
      "[ 1.  3.  6.  9. 10. 13. 19. 20. 21. 22. 24. 26. 27. 29. 31. 33. 34. 35.\n",
      " 40. 42. 44. 45. 48. 49. 51. 56. 58. 60.] 28\n"
     ]
    }
   ],
   "execution_count": 16
  },
  {
   "metadata": {
    "ExecuteTime": {
     "end_time": "2024-10-09T07:36:35.970355Z",
     "start_time": "2024-10-09T07:36:35.962666Z"
    }
   },
   "cell_type": "code",
   "source": "print(df_cleaned['ELIGIBLE'].unique())",
   "id": "374a017f0f71966d",
   "outputs": [
    {
     "name": "stdout",
     "output_type": "stream",
     "text": [
      "[0 1]\n"
     ]
    }
   ],
   "execution_count": 19
  },
  {
   "metadata": {
    "ExecuteTime": {
     "end_time": "2024-10-09T07:35:26.352691Z",
     "start_time": "2024-10-09T07:35:26.335235Z"
    }
   },
   "cell_type": "code",
   "source": [
    "df_tst_school = df_cleaned[df_cleaned['SCHID']==1.0]\n",
    "print(df_tst_school.shape, df_cleaned.shape, df_tst_school.columns)"
   ],
   "id": "4a1f4b15618babe1",
   "outputs": [
    {
     "name": "stdout",
     "output_type": "stream",
     "text": [
      "(272, 39) (11932, 39) Index(['SCHID', 'SCHTREAT_NUMERIC', 'TREAT_NUMERIC', 'unique_id', 'ELIGIBLE',\n",
      "       'WRISTOW2_NUMERIC', 'ST1', 'ST2', 'ST3', 'ST4', 'ST5', 'ST6', 'ST7',\n",
      "       'ST8', 'ST9', 'ST10', 'ST1W2', 'ST2W2', 'ST3W2', 'ST4W2', 'ST5W2',\n",
      "       'ST6W2', 'ST7W2', 'ST8W2', 'ST9W2', 'ST10W2', 'BF1', 'BF2', 'GENC',\n",
      "       'ETHW', 'ETHB', 'ETHH', 'ETHA', 'ETHC', 'ETHSA', 'GAME', 'GRC_6',\n",
      "       'GRC_7', 'GRC_8'],\n",
      "      dtype='object')\n"
     ]
    }
   ],
   "execution_count": 17
  },
  {
   "metadata": {
    "ExecuteTime": {
     "end_time": "2024-09-15T06:11:19.599595Z",
     "start_time": "2024-09-15T06:11:19.224760Z"
    }
   },
   "cell_type": "code",
   "source": "df_cleaned['SCHID'].value_counts()",
   "id": "7115861af55c0aa",
   "outputs": [
    {
     "data": {
      "text/plain": [
       "SCHID\n",
       "24.0    835\n",
       "56.0    708\n",
       "22.0    683\n",
       "60.0    661\n",
       "58.0    613\n",
       "20.0    586\n",
       "34.0    555\n",
       "51.0    547\n",
       "19.0    502\n",
       "6.0     464\n",
       "42.0    439\n",
       "21.0    436\n",
       "45.0    426\n",
       "49.0    409\n",
       "9.0     393\n",
       "31.0    387\n",
       "33.0    382\n",
       "35.0    370\n",
       "10.0    319\n",
       "48.0    316\n",
       "13.0    288\n",
       "29.0    285\n",
       "27.0    285\n",
       "1.0     272\n",
       "44.0    271\n",
       "26.0    203\n",
       "40.0    159\n",
       "3.0     138\n",
       "Name: count, dtype: int64"
      ]
     },
     "execution_count": 9,
     "metadata": {},
     "output_type": "execute_result"
    }
   ],
   "execution_count": 9
  },
  {
   "metadata": {
    "ExecuteTime": {
     "end_time": "2024-09-05T06:40:31.906915Z",
     "start_time": "2024-09-05T06:40:30.511105Z"
    }
   },
   "cell_type": "code",
   "source": [
    "tst_network = dw.network_by_school(df_tst_school, dw.ST_COLS, True)\n",
    "print(tst_network.shape)\n",
    "tst_W2_network = dw.network_by_school(df_tst_school, dw.ST_W2_COLS, False)\n",
    "tst_BF_network = dw.network_by_school(df_tst_school, dw.BF_COLS, False)\n",
    "all_tst_nets = jnp.array([tst_network, tst_W2_network, tst_BF_network])\n",
    "print(all_tst_nets.shape)"
   ],
   "id": "f7b5281a76457ad2",
   "outputs": [
    {
     "name": "stdout",
     "output_type": "stream",
     "text": [
      "(272, 272)\n",
      "(3, 272, 272)\n"
     ]
    },
    {
     "data": {
      "text/plain": [
       "<Figure size 640x480 with 1 Axes>"
      ],
      "image/png": "[encoded data removed]"
     },
     "metadata": {},
     "output_type": "display_data"
    }
   ],
   "execution_count": 7
  },
  {
   "metadata": {
    "ExecuteTime": {
     "end_time": "2024-09-04T06:32:02.852115Z",
     "start_time": "2024-09-04T06:31:46.277879Z"
    }
   },
   "cell_type": "code",
   "source": [
    "tst_cov_for_net = dw.create_net_covar_df(df_tst_school)\n",
    "print(tst_cov_for_net.shape)\n",
    "# print(tst_cov_for_net.describe())"
   ],
   "id": "f28f14ce41dff1fc",
   "outputs": [
    {
     "name": "stdout",
     "output_type": "stream",
     "text": [
      "torch.Size([36856, 4])\n"
     ]
    }
   ],
   "execution_count": 43
  },
  {
   "metadata": {
    "ExecuteTime": {
     "end_time": "2024-09-04T06:32:30.818520Z",
     "start_time": "2024-09-04T06:32:05.171648Z"
    }
   },
   "cell_type": "code",
   "source": [
    "rng_key = random.PRNGKey(1)\n",
    "rng_key, rng_key_ = random.split(rng_key)\n",
    "\n",
    "net_svi_tst = util.Network_SVI(x_df = tst_cov_for_net, \n",
    "                                  # triu_obs = torch.tensor(adj_to_triu(tst_net),dtype=torch.float32))\n",
    "                                  triu_obs = dw.adj_to_triu(tst_network),\n",
    "                                  # triu_obs = torch.stack([tst_ST_triu, tst_BF_triu]),\n",
    "                                  # network_model=models.multilayer_networks_model)\n",
    "                                  network_model=models.one_noisy_networks_model,\n",
    "                                  n_iter = 1000,\n",
    "                                  n_samples = 1000)\n",
    "\n",
    "net_svi_tst.train_model()"
   ],
   "id": "99a874c2c206e7a5",
   "outputs": [
    {
     "name": "stderr",
     "output_type": "stream",
     "text": [
      "Training network model: 100%|██████████| 1000/1000 [00:25<00:00, 39.29it/s]\n"
     ]
    }
   ],
   "execution_count": 44
  },
  {
   "metadata": {
    "ExecuteTime": {
     "end_time": "2024-09-04T06:32:55.870239Z",
     "start_time": "2024-09-04T06:32:32.648191Z"
    }
   },
   "cell_type": "code",
   "source": [
    "net_svi_samples = net_svi_tst.network_samples()\n",
    "print(net_svi_samples.shape)"
   ],
   "id": "42268cbc9f357296",
   "outputs": [
    {
     "name": "stderr",
     "output_type": "stream",
     "text": [
      "Sampling A*: 100%|██████████| 1000/1000 [00:22<00:00, 43.96it/s]\n"
     ]
    },
    {
     "name": "stdout",
     "output_type": "stream",
     "text": [
      "(1000, 36856)\n"
     ]
    }
   ],
   "execution_count": 45
  },
  {
   "metadata": {
    "ExecuteTime": {
     "end_time": "2024-09-04T07:00:49.727584Z",
     "start_time": "2024-09-04T06:57:14.234883Z"
    }
   },
   "cell_type": "code",
   "source": [
    "tst_all_nets, tst_post_samples = wrap.one_school_network_analysis(df_tst_school)\n",
    "print(tst_all_nets.shape, tst_post_samples.shape)"
   ],
   "id": "9faa9c7ccd5bf936",
   "outputs": [
    {
     "name": "stderr",
     "output_type": "stream",
     "text": [
      "C:\\Users\\bar21\\Dropbox\\My PC (LAPTOP-6NAJD2IQ)\\Desktop\\Gate\\University\\TAU\\PhD\\Writing\\Drafts\\Sampled networks\\Bayes_incorrect_network\\Data\\Palluck_et_al\\data_wrangle.py:92: SettingWithCopyWarning: \n",
      "A value is trying to be set on a copy of a slice from a DataFrame.\n",
      "Try using .loc[row_indexer,col_indexer] = value instead\n",
      "\n",
      "See the caveats in the documentation: https://pandas.pydata.org/pandas-docs/stable/user_guide/indexing.html#returning-a-view-versus-a-copy\n",
      "  df[col] += df['SCHID'] * 1000\n",
      "Training network model: 100%|██████████| 1000/1000 [00:29<00:00, 33.52it/s]\n",
      "Sampling A*: 100%|██████████| 1000/1000 [00:26<00:00, 37.80it/s]\n",
      "Training network model: 100%|██████████| 1000/1000 [00:44<00:00, 22.55it/s]\n",
      "Sampling A*: 100%|██████████| 1000/1000 [00:32<00:00, 31.24it/s]\n",
      "Training network model: 100%|██████████| 1000/1000 [00:34<00:00, 29.07it/s]\n",
      "Sampling A*: 100%|██████████| 1000/1000 [00:29<00:00, 33.44it/s]\n"
     ]
    },
    {
     "name": "stdout",
     "output_type": "stream",
     "text": [
      "(3, 272, 272) (3, 1000, 36856)\n"
     ]
    }
   ],
   "execution_count": 65
  },
  {
   "metadata": {
    "ExecuteTime": {
     "end_time": "2024-09-04T06:33:11.994488Z",
     "start_time": "2024-09-04T06:33:11.786284Z"
    }
   },
   "cell_type": "code",
   "source": [
    "# obs_zeigen_tst = util.zeigen_value(Z=net_svi_tst.trts, adj_mat=tst_network)\n",
    "df_cleaned[df_cleaned['SCHID']==1.0]['TREAT_NUMERIC'].values"
   ],
   "id": "47af3fab54b26487",
   "outputs": [
    {
     "data": {
      "text/plain": [
       "array([0, 2, 0, 0, 0, 0, 0, 0, 0, 0, 0, 0, 1, 2, 0, 0, 0, 0, 0, 0, 0, 0,\n",
       "       1, 0, 1, 0, 0, 0, 0, 0, 0, 0, 1, 0, 0, 0, 0, 1, 0, 0, 0, 0, 0, 0,\n",
       "       0, 2, 0, 2, 0, 0, 0, 0, 1, 0, 0, 0, 0, 0, 0, 2, 0, 0, 0, 0, 0, 0,\n",
       "       0, 1, 0, 0, 0, 0, 0, 0, 0, 0, 0, 0, 1, 0, 0, 2, 0, 0, 0, 0, 1, 0,\n",
       "       0, 1, 0, 0, 0, 0, 0, 0, 1, 0, 0, 2, 0, 0, 0, 0, 0, 0, 0, 0, 0, 0,\n",
       "       0, 0, 0, 2, 2, 0, 0, 0, 0, 0, 0, 0, 0, 0, 0, 0, 0, 0, 0, 0, 0, 0,\n",
       "       0, 0, 0, 1, 0, 0, 0, 0, 0, 2, 0, 2, 0, 0, 0, 1, 0, 0, 0, 0, 0, 2,\n",
       "       0, 0, 0, 0, 0, 0, 0, 0, 0, 0, 0, 0, 0, 2, 0, 0, 0, 0, 0, 1, 0, 2,\n",
       "       0, 0, 0, 0, 0, 0, 0, 0, 0, 2, 0, 0, 0, 0, 0, 0, 0, 0, 0, 0, 0, 0,\n",
       "       2, 0, 0, 0, 0, 2, 0, 0, 0, 0, 0, 0, 0, 0, 0, 0, 0, 0, 0, 1, 0, 0,\n",
       "       0, 0, 0, 2, 0, 0, 0, 0, 0, 0, 0, 0, 0, 0, 1, 0, 0, 0, 0, 1, 0, 1,\n",
       "       2, 0, 2, 0, 0, 0, 0, 0, 0, 0, 0, 0, 0, 0, 1, 0, 1, 0, 0, 0, 0, 0,\n",
       "       0, 0, 0, 0, 0, 0, 0, 0])"
      ]
     },
     "execution_count": 46,
     "metadata": {},
     "output_type": "execute_result"
    }
   ],
   "execution_count": 46
  },
  {
   "metadata": {
    "ExecuteTime": {
     "end_time": "2024-09-04T06:33:51.476605Z",
     "start_time": "2024-09-04T06:33:51.130066Z"
    }
   },
   "cell_type": "code",
   "source": [
    "# Run outcome model\n",
    "tst_obs_data = dw.data_for_outcome_regression(df_tst_school, tst_network)\n",
    "print(tst_obs_data.keys())\n",
    "print([a.shape for a in tst_obs_data.values()])\n",
    "print([a.dtype for a in tst_obs_data.values()])"
   ],
   "id": "f41eea56196f659b",
   "outputs": [
    {
     "name": "stdout",
     "output_type": "stream",
     "text": [
      "dict_keys(['X', 'school', 'grade', 'trts', 'sch_trts', 'exposures', 'Y'])\n",
      "[(40, 4), (40,), (40,), (40,), (40,), (40,), (40,)]\n",
      "[dtype('int32'), dtype('int32'), dtype('int32'), dtype('int32'), dtype('int32'), dtype('float32'), dtype('int32')]\n"
     ]
    }
   ],
   "execution_count": 48
  },
  {
   "metadata": {
    "ExecuteTime": {
     "end_time": "2024-09-04T06:34:02.635814Z",
     "start_time": "2024-09-04T06:33:53.500152Z"
    }
   },
   "cell_type": "code",
   "source": [
    "# Run outcome mcmc\n",
    "rng_key = random.PRNGKey(0)\n",
    "_, rng_key = random.split(rng_key)\n",
    "\n",
    "outcome_obs = util.Outcome_MCMC(data=tst_obs_data, rng_key=rng_key)\n"
   ],
   "id": "9ed27a75b8781168",
   "outputs": [
    {
     "data": {
      "text/plain": [
       "  0%|          | 0/4500 [00:00<?, ?it/s]"
      ],
      "application/vnd.jupyter.widget-view+json": {
       "version_major": 2,
       "version_minor": 0,
       "model_id": "37d792dbb45f41ef8d34f1b992c86294"
      }
     },
     "metadata": {},
     "output_type": "display_data"
    },
    {
     "data": {
      "text/plain": [
       "  0%|          | 0/4500 [00:00<?, ?it/s]"
      ],
      "application/vnd.jupyter.widget-view+json": {
       "version_major": 2,
       "version_minor": 0,
       "model_id": "b0e5ac66ecfb49c085cc6480aaff36c2"
      }
     },
     "metadata": {},
     "output_type": "display_data"
    },
    {
     "data": {
      "text/plain": [
       "  0%|          | 0/4500 [00:00<?, ?it/s]"
      ],
      "application/vnd.jupyter.widget-view+json": {
       "version_major": 2,
       "version_minor": 0,
       "model_id": "6bf87f5182544e3d93ff205101e467a3"
      }
     },
     "metadata": {},
     "output_type": "display_data"
    },
    {
     "data": {
      "text/plain": [
       "  0%|          | 0/4500 [00:00<?, ?it/s]"
      ],
      "application/vnd.jupyter.widget-view+json": {
       "version_major": 2,
       "version_minor": 0,
       "model_id": "d692341d47db40c8ae74bda15fa320a3"
      }
     },
     "metadata": {},
     "output_type": "display_data"
    },
    {
     "name": "stdout",
     "output_type": "stream",
     "text": [
      "\n",
      "                       mean       std    median      5.0%     95.0%     n_eff     r_hat\n",
      "           eta[0]      0.71      1.13      0.70     -1.09      2.57   2945.02      1.00\n",
      "           eta[1]     -1.43      1.23     -1.42     -3.46      0.59   5786.60      1.00\n",
      "           eta[2]     -1.23      1.45     -1.14     -3.60      1.10   5227.23      1.00\n",
      "           eta[3]      0.81      1.17      0.76     -1.09      2.78   6838.55      1.00\n",
      "    eta_exposures      1.23      4.15      1.19     -5.36      8.02   1136.91      1.01\n",
      " eta_grade_std[0]      0.23      0.95      0.22     -1.21      1.89    904.20      1.01\n",
      " eta_grade_std[1]     -0.01      0.96     -0.04     -1.62      1.61    320.53      1.01\n",
      " eta_grade_std[2]     -0.13      0.93     -0.14     -1.62      1.45   8103.74      1.00\n",
      "  eta_interaction      0.17      4.71      0.21     -7.64      7.72   2391.81      1.00\n",
      "   eta_sch_std[0]      0.00      0.95      0.02     -1.55      1.64   7037.55      1.00\n",
      "          eta_trt     -1.05      1.07     -0.99     -2.73      0.74    218.09      1.02\n",
      "         mu_grade     -0.48      3.70     -0.56     -6.50      5.51   4699.08      1.00\n",
      "           mu_sch     -0.58      3.83     -0.57     -6.96      5.30    978.96      1.00\n",
      "      sigma_grade      0.52      0.76      0.28      0.00      1.22   2791.31      1.00\n",
      "        sigma_sch      2.55      5.90      0.74      0.00      5.54     37.29      1.08\n",
      "\n",
      "Number of divergences: 156\n"
     ]
    }
   ],
   "execution_count": 49
  },
  {
   "metadata": {
    "ExecuteTime": {
     "end_time": "2024-09-04T06:36:50.316173Z",
     "start_time": "2024-09-04T06:36:50.015745Z"
    }
   },
   "cell_type": "code",
   "source": [
    "# Run stochastic intervention\n",
    "stoch_30 = util.stochastic_intervention(alpha=0.3, n=df_tst_school.shape[0])\n",
    "exposures_stoch_30 = util.zeigen_value(Z=stoch_30, adj_mat=tst_network)\n",
    "print(exposures_stoch_30.shape, stoch_30.shape)\n",
    "\n",
    "# stoch_30_elig, exposur_30_elig = util.trt_and_exposures_of_elig(stoch_30, exposures_stoch_30, df_tst_school)\n",
    "# print(stoch_30_elig.shape, exposur_30_elig.shape)\n"
   ],
   "id": "753e5ee10254dbf9",
   "outputs": [
    {
     "name": "stdout",
     "output_type": "stream",
     "text": [
      "(100, 272) (100, 272)\n",
      "(100, 40) (100, 40)\n"
     ]
    }
   ],
   "execution_count": 60
  },
  {
   "metadata": {
    "ExecuteTime": {
     "end_time": "2024-09-04T07:59:31.578313Z",
     "start_time": "2024-09-04T07:59:30.725838Z"
    }
   },
   "cell_type": "code",
   "source": [
    "# ALPHAS = [0.3, 0.5, 0.7]\n",
    "ALPHAS = [0.3, 0.7]\n",
    "\n",
    "new_stoch_trts = []\n",
    "new_stoch_obs_exposures = []\n",
    "for i in range(len(ALPHAS)):\n",
    "    new_stoch_trts.append(util.stochastic_intervention(alpha=ALPHAS[i], n=df_tst_school.shape[0]))\n",
    "    new_stoch_obs_exposures.append(util.zeigen_value(Z=new_stoch_trts[i], adj_mat=tst_network))\n",
    "    \n",
    "new_stoch_trts = jnp.stack(new_stoch_trts)\n",
    "print(new_stoch_trts.shape)\n",
    "new_stoch_obs_exposures = jnp.stack(new_stoch_obs_exposures)\n",
    "print(new_stoch_obs_exposures.shape)\n",
    "\n",
    "print(jnp.stack([new_stoch_trts, new_stoch_obs_exposures]).shape)\n",
    "\n",
    "stoch_trt_elig, stoch_exposures_elig = util.trt_and_exposures_of_elig(new_stoch_trts,\n",
    "                                                                      new_stoch_obs_exposures,\n",
    "                                                                      df_tst_school)\n",
    "print(stoch_trt_elig.shape, stoch_exposures_elig.shape)\n",
    "\n",
    "print(jnp.stack([stoch_trt_elig, stoch_exposures_elig]).shape)"
   ],
   "id": "f4538e9e4180ced",
   "outputs": [
    {
     "name": "stdout",
     "output_type": "stream",
     "text": [
      "(2, 100, 272)\n",
      "(2, 100, 272)\n",
      "(2, 2, 100, 272)\n",
      "(2, 100, 40) (2, 100, 40)\n",
      "(2, 2, 100, 40)\n"
     ]
    }
   ],
   "execution_count": 93
  },
  {
   "metadata": {
    "ExecuteTime": {
     "end_time": "2024-09-04T07:59:36.961558Z",
     "start_time": "2024-09-04T07:59:36.777307Z"
    }
   },
   "cell_type": "code",
   "source": [
    "all_trt_expos, elig_trt_expos = wrap.get_stoch_treatments_and_obs_exposures(df_tst_school, tst_network)\n",
    "print(all_trt_expos.shape, elig_trt_expos.shape)"
   ],
   "id": "ad8dfc5361a031e5",
   "outputs": [
    {
     "name": "stdout",
     "output_type": "stream",
     "text": [
      "(2, 2, 100, 272) (2, 2, 100, 40)\n"
     ]
    }
   ],
   "execution_count": 94
  },
  {
   "metadata": {
    "ExecuteTime": {
     "end_time": "2024-09-04T08:00:53.732662Z",
     "start_time": "2024-09-04T08:00:46.585514Z"
    }
   },
   "cell_type": "code",
   "source": [
    "post_obs_exposure = util.vectorized_post_exposures(net_svi_samples,\n",
    "                                                   jnp.array(df_tst_school['TREAT_NUMERIC'].values),\n",
    "                                                   df_tst_school.shape[0])\n",
    "print(post_obs_exposure.shape)\n",
    "post_obs_expos_elig = post_obs_exposure[:,(df_tst_school['ELIGIBLE']==1).values]\n",
    "print(post_obs_expos_elig.shape)"
   ],
   "id": "9185e8612ea833cb",
   "outputs": [
    {
     "name": "stdout",
     "output_type": "stream",
     "text": [
      "(1000, 272)\n",
      "(1000, 40)\n"
     ]
    }
   ],
   "execution_count": 97
  },
  {
   "metadata": {
    "ExecuteTime": {
     "end_time": "2024-09-04T08:00:11.237009Z",
     "start_time": "2024-09-04T07:59:47.461818Z"
    }
   },
   "cell_type": "code",
   "source": [
    "# testing posterior exposures for all net models \n",
    "post_stoch_expos = wrap.posterior_stoch_exposures(tst_post_samples, all_trt_expos, df_tst_school)\n",
    "print(post_stoch_expos.shape)"
   ],
   "id": "8d6b9a99ade909d0",
   "outputs": [
    {
     "name": "stdout",
     "output_type": "stream",
     "text": [
      "(3, 2, 1000, 100, 40)\n"
     ]
    }
   ],
   "execution_count": 96
  },
  {
   "metadata": {
    "ExecuteTime": {
     "end_time": "2024-09-04T11:53:04.168091Z",
     "start_time": "2024-09-04T11:48:06.568300Z"
    }
   },
   "cell_type": "code",
   "source": [
    "# Wrapper for one school \n",
    "cur_schid = 1.0\n",
    "# get df\n",
    "cur_df = df_cleaned[df_cleaned['SCHID']==cur_schid]\n",
    "# run network analysis\n",
    "print(\"Network analysis\")\n",
    "cur_all_nets, cur_post_samples = wrap.one_school_network_analysis(cur_df)\n",
    "print(cur_all_nets.shape, cur_post_samples.shape)\n",
    "# get stochastic interventions\n",
    "print(\"Stochastic interventions\")\n",
    "cur_all_trt_expos, cur_elig_trt_expos = wrap.get_stoch_treatments_and_obs_exposures(cur_df, cur_all_nets[0])\n",
    "# Get posterior exposures for observed treatments for each network model\n",
    "print(\"Posterior exposures for observed treatments\")\n",
    "cur_post_obs_exposure = wrap.posterior_exposure_for_obs_treatments(cur_post_samples, jnp.array(cur_df['TREAT_NUMERIC'].values), cur_df)\n",
    "print(cur_post_obs_exposure.shape)\n",
    "# Posterior exposures for stochastic interventions\n",
    "print(\"Posterior exposures for stochastic interventions\")\n",
    "cur_post_stoch_expos = wrap.posterior_stoch_exposures(cur_post_samples, cur_all_trt_expos, cur_df)\n",
    "print(cur_post_stoch_expos.shape)\n",
    "# Observed data for outcome reg\n",
    "print(\"Observed data for outcome regression\")\n",
    "cur_obs_data = dw.data_for_outcome_regression(cur_df, cur_all_nets[0])\n",
    "print(cur_obs_data.keys())\n",
    "print([a.shape for a in cur_obs_data.values()])\n",
    "print([a.dtype for a in cur_obs_data.values()])\n"
   ],
   "id": "f9303d8143d70ed",
   "outputs": [
    {
     "name": "stdout",
     "output_type": "stream",
     "text": [
      "Network analysis\n"
     ]
    },
    {
     "name": "stderr",
     "output_type": "stream",
     "text": [
      "Training network model: 100%|██████████| 1000/1000 [00:32<00:00, 30.45it/s]\n",
      "Sampling A*: 100%|██████████| 1000/1000 [00:28<00:00, 35.47it/s]\n",
      "Training network model: 100%|██████████| 1000/1000 [00:45<00:00, 22.00it/s]\n",
      "Sampling A*: 100%|██████████| 1000/1000 [00:35<00:00, 28.49it/s]\n",
      "Training network model: 100%|██████████| 1000/1000 [00:44<00:00, 22.72it/s]\n",
      "Sampling A*: 100%|██████████| 1000/1000 [00:37<00:00, 26.58it/s]\n"
     ]
    },
    {
     "name": "stdout",
     "output_type": "stream",
     "text": [
      "(3, 272, 272) (3, 1000, 36856)\n",
      "Stochastic interventions\n",
      "Posterior exposures for observed treatments\n",
      "(3, 1000, 40)\n",
      "Posterior exposures for stochastic interventions\n",
      "(3, 2, 1000, 100, 40)\n",
      "Observed data for outcome regression\n",
      "dict_keys(['X', 'school', 'grade', 'trts', 'sch_trts', 'exposures', 'Y'])\n",
      "[(40, 4), (40,), (40,), (40,), (40,), (40,), (40,)]\n",
      "[dtype('int32'), dtype('int32'), dtype('int32'), dtype('int32'), dtype('int32'), dtype('float32'), dtype('int32')]\n"
     ]
    }
   ],
   "execution_count": 145
  },
  {
   "metadata": {
    "ExecuteTime": {
     "end_time": "2024-09-04T11:59:56.731871Z",
     "start_time": "2024-09-04T11:55:01.298830Z"
    }
   },
   "cell_type": "code",
   "source": [
    "# Test wrapper for one school\n",
    "tst_data, tst_stoch_trt_expos, tst_post_obs_expos, tst_post_stoch_expos = wrap.one_school_iteration(df_cleaned, 1.0)\n",
    "\n",
    "print(tst_data.keys())\n",
    "print([a.shape for a in tst_data.values()])\n",
    "print([a.dtype for a in tst_data.values()]) \n",
    "print(tst_stoch_trt_expos.shape)\n",
    "print(tst_post_obs_expos.shape)\n",
    "print(tst_post_stoch_expos.shape)\n"
   ],
   "id": "60131e88e23bf7c3",
   "outputs": [
    {
     "name": "stderr",
     "output_type": "stream",
     "text": [
      "Training network model: 100%|██████████| 1000/1000 [00:36<00:00, 27.63it/s]\n",
      "Sampling A*: 100%|██████████| 1000/1000 [00:29<00:00, 34.19it/s]\n",
      "Training network model: 100%|██████████| 1000/1000 [00:41<00:00, 24.32it/s]\n",
      "Sampling A*: 100%|██████████| 1000/1000 [00:30<00:00, 32.68it/s]\n",
      "Training network model: 100%|██████████| 1000/1000 [00:42<00:00, 23.61it/s]\n",
      "Sampling A*: 100%|██████████| 1000/1000 [00:35<00:00, 28.09it/s]\n"
     ]
    },
    {
     "name": "stdout",
     "output_type": "stream",
     "text": [
      "dict_keys(['X', 'school', 'grade', 'trts', 'sch_trts', 'exposures', 'Y'])\n",
      "[(40, 4), (40,), (40,), (40,), (40,), (40,), (40,)]\n",
      "[dtype('int32'), dtype('int32'), dtype('int32'), dtype('int32'), dtype('int32'), dtype('float32'), dtype('int32')]\n",
      "(2, 2, 100, 40)\n",
      "(3, 1000, 40)\n",
      "(3, 2, 1000, 100, 40)\n"
     ]
    }
   ],
   "execution_count": 148
  },
  {
   "metadata": {
    "ExecuteTime": {
     "end_time": "2024-09-04T12:07:10.280881Z",
     "start_time": "2024-09-04T12:03:59.618134Z"
    }
   },
   "cell_type": "code",
   "source": [
    "tst_data2, tst_stoch_trt_expos2, tst_post_obs_expos2, tst_post_stoch_expos2 = wrap.one_school_iteration(df_cleaned, 5.0)\n",
    "\n",
    "print(tst_data2.keys())\n",
    "print([a.shape for a in tst_data2.values()])\n",
    "print([a.dtype for a in tst_data2.values()])\n",
    "print(tst_stoch_trt_expos2.shape)\n",
    "print(tst_post_obs_expos2.shape)\n",
    "print(tst_post_stoch_expos2.shape)\n"
   ],
   "id": "a5193b0ee624a6fc",
   "outputs": [
    {
     "name": "stderr",
     "output_type": "stream",
     "text": [
      "Training network model: 100%|██████████| 1000/1000 [00:24<00:00, 40.53it/s]\n",
      "Sampling A*: 100%|██████████| 1000/1000 [00:28<00:00, 34.56it/s]\n",
      "Training network model: 100%|██████████| 1000/1000 [00:32<00:00, 30.80it/s]\n",
      "Sampling A*: 100%|██████████| 1000/1000 [00:29<00:00, 34.03it/s]\n",
      "Training network model: 100%|██████████| 1000/1000 [00:33<00:00, 29.90it/s]\n",
      "Sampling A*: 100%|██████████| 1000/1000 [00:20<00:00, 48.95it/s]\n"
     ]
    },
    {
     "name": "stdout",
     "output_type": "stream",
     "text": [
      "dict_keys(['X', 'school', 'grade', 'trts', 'sch_trts', 'exposures', 'Y'])\n",
      "[(40, 4), (40,), (40,), (40,), (40,), (40,), (40,)]\n",
      "[dtype('int32'), dtype('int32'), dtype('int32'), dtype('int32'), dtype('int32'), dtype('float32'), dtype('int32')]\n",
      "(2, 2, 100, 40)\n",
      "(3, 1000, 40)\n",
      "(3, 2, 1000, 100, 40)\n"
     ]
    }
   ],
   "execution_count": 153
  },
  {
   "metadata": {
    "ExecuteTime": {
     "end_time": "2024-09-04T12:09:25.598683Z",
     "start_time": "2024-09-04T12:09:25.283941Z"
    }
   },
   "cell_type": "code",
   "source": [
    "print(jnp.concatenate([tst_post_obs_expos,tst_post_obs_expos2], axis=-1).shape)\n",
    "print(jnp.concatenate([tst_post_stoch_expos,tst_post_stoch_expos2], axis=-1).shape)"
   ],
   "id": "d20d205d2c0cf925",
   "outputs": [
    {
     "name": "stdout",
     "output_type": "stream",
     "text": [
      "(3, 1000, 80)\n",
      "(3, 2, 1000, 100, 80)\n"
     ]
    }
   ],
   "execution_count": 155
  },
  {
   "metadata": {
    "ExecuteTime": {
     "end_time": "2024-09-04T12:12:35.877551Z",
     "start_time": "2024-09-04T12:12:35.623371Z"
    }
   },
   "cell_type": "code",
   "source": [
    "tst_both_obs_data = dw.concatenate_dict_arrays([tst_data, tst_data2])\n",
    "print(tst_both_obs_data.keys())\n",
    "print([a.shape for a in tst_both_obs_data.values()])\n",
    "print([a.dtype for a in tst_both_obs_data.values()])\n"
   ],
   "id": "69c27d35cfb7e8a9",
   "outputs": [
    {
     "name": "stdout",
     "output_type": "stream",
     "text": [
      "dict_keys(['X', 'school', 'grade', 'trts', 'sch_trts', 'exposures', 'Y'])\n",
      "[(80, 4), (80,), (80,), (80,), (80,), (80,), (80,)]\n",
      "[dtype('int32'), dtype('int32'), dtype('int32'), dtype('int32'), dtype('int32'), dtype('float32'), dtype('int32')]\n"
     ]
    }
   ],
   "execution_count": 157
  },
  {
   "metadata": {
    "ExecuteTime": {
     "end_time": "2024-09-05T06:51:35.210697Z",
     "start_time": "2024-09-05T06:41:28.254727Z"
    }
   },
   "cell_type": "code",
   "source": [
    "all_data, all_stoch_trt_expos, all_post_obs_expos, all_post_stoch_expos = wrap.all_schools_network_run_and_posterior(df_cleaned[df_cleaned['SCHID'].isin([1.0,3.0,6.0])])\n",
    "\n",
    "print(all_data.keys())\n",
    "print([a.shape for a in all_data.values()])\n",
    "print([a.dtype for a in all_data.values()])\n",
    "print(all_stoch_trt_expos.shape)\n",
    "print(all_post_obs_expos.shape)\n",
    "print(all_post_stoch_expos.shape)\n",
    "\n",
    "print(df_cleaned[df_cleaned['SCHID'].isin([1.0,3.0,6.0])]['ELIGIBLE'].sum())\n"
   ],
   "id": "690a531dcce2cdea",
   "outputs": [
    {
     "name": "stdout",
     "output_type": "stream",
     "text": [
      "running for schid:  1.0\n"
     ]
    },
    {
     "name": "stderr",
     "output_type": "stream",
     "text": [
      "Training network model: 100%|██████████| 500/500 [00:14<00:00, 33.50it/s]\n",
      "Sampling A*: 100%|██████████| 500/500 [00:11<00:00, 44.34it/s]\n",
      "Training network model: 100%|██████████| 500/500 [00:17<00:00, 28.13it/s]\n",
      "Sampling A*: 100%|██████████| 500/500 [00:24<00:00, 20.78it/s]\n",
      "Training network model: 100%|██████████| 500/500 [00:21<00:00, 23.63it/s]\n",
      "Sampling A*: 100%|██████████| 500/500 [00:15<00:00, 31.32it/s]\n"
     ]
    },
    {
     "name": "stdout",
     "output_type": "stream",
     "text": [
      "running for schid:  3.0\n"
     ]
    },
    {
     "name": "stderr",
     "output_type": "stream",
     "text": [
      "Training network model: 100%|██████████| 500/500 [00:11<00:00, 41.85it/s]\n",
      "Sampling A*: 100%|██████████| 500/500 [00:09<00:00, 54.76it/s]\n",
      "Training network model: 100%|██████████| 500/500 [00:19<00:00, 26.28it/s]\n",
      "Sampling A*: 100%|██████████| 500/500 [00:11<00:00, 42.98it/s]\n",
      "Training network model: 100%|██████████| 500/500 [00:17<00:00, 27.97it/s]\n",
      "Sampling A*: 100%|██████████| 500/500 [00:10<00:00, 47.82it/s]\n"
     ]
    },
    {
     "name": "stdout",
     "output_type": "stream",
     "text": [
      "running for schid:  6.0\n"
     ]
    },
    {
     "name": "stderr",
     "output_type": "stream",
     "text": [
      "Training network model: 100%|██████████| 500/500 [00:27<00:00, 18.20it/s]\n",
      "Sampling A*: 100%|██████████| 500/500 [00:25<00:00, 19.78it/s]\n",
      "Training network model: 100%|██████████| 500/500 [00:40<00:00, 12.48it/s]\n",
      "Sampling A*: 100%|██████████| 500/500 [00:28<00:00, 17.54it/s]\n",
      "Training network model: 100%|██████████| 500/500 [00:33<00:00, 14.89it/s]\n",
      "Sampling A*: 100%|██████████| 500/500 [00:33<00:00, 14.74it/s]\n"
     ]
    },
    {
     "name": "stdout",
     "output_type": "stream",
     "text": [
      "dict_keys(['X', 'school', 'grade', 'trts', 'sch_trts', 'exposures', 'Y'])\n",
      "[(136, 4), (136,), (136,), (136,), (136,), (136,), (136,)]\n",
      "[dtype('int32'), dtype('int32'), dtype('int32'), dtype('int32'), dtype('int32'), dtype('float32'), dtype('int32')]\n",
      "(2, 2, 100, 136)\n",
      "(3, 500, 136)\n",
      "(3, 2, 500, 100, 136)\n",
      "136\n"
     ]
    }
   ],
   "execution_count": 8
  },
  {
   "metadata": {
    "ExecuteTime": {
     "end_time": "2024-09-05T08:05:04.387917Z",
     "start_time": "2024-09-05T08:05:04.074720Z"
    }
   },
   "cell_type": "code",
   "source": [
    "print(all_post_stoch_expos[0][:,0:55].shape,\n",
    "        all_post_stoch_expos[0][:,0].shape)"
   ],
   "id": "9f0fe1e108ba0c2a",
   "outputs": [
    {
     "name": "stdout",
     "output_type": "stream",
     "text": [
      "(2, 55, 100, 136) (2, 100, 136)\n"
     ]
    }
   ],
   "execution_count": 89
  },
  {
   "metadata": {
    "ExecuteTime": {
     "end_time": "2024-09-05T06:51:49.745769Z",
     "start_time": "2024-09-05T06:51:46.905413Z"
    }
   },
   "cell_type": "code",
   "source": "all_data['school']",
   "id": "93e0f339fcaccb62",
   "outputs": [
    {
     "data": {
      "text/plain": [
       "Array([1, 1, 1, 1, 1, 1, 1, 1, 1, 1, 1, 1, 1, 1, 1, 1, 1, 1, 1, 1, 1, 1,\n",
       "       1, 1, 1, 1, 1, 1, 1, 1, 1, 1, 1, 1, 1, 1, 1, 1, 1, 1, 3, 3, 3, 3,\n",
       "       3, 3, 3, 3, 3, 3, 3, 3, 3, 3, 3, 3, 3, 3, 3, 3, 3, 3, 3, 3, 3, 3,\n",
       "       3, 3, 3, 3, 3, 3, 3, 3, 3, 3, 3, 3, 3, 3, 6, 6, 6, 6, 6, 6, 6, 6,\n",
       "       6, 6, 6, 6, 6, 6, 6, 6, 6, 6, 6, 6, 6, 6, 6, 6, 6, 6, 6, 6, 6, 6,\n",
       "       6, 6, 6, 6, 6, 6, 6, 6, 6, 6, 6, 6, 6, 6, 6, 6, 6, 6, 6, 6, 6, 6,\n",
       "       6, 6, 6, 6], dtype=int32)"
      ]
     },
     "execution_count": 9,
     "metadata": {},
     "output_type": "execute_result"
    }
   ],
   "execution_count": 9
  },
  {
   "metadata": {
    "ExecuteTime": {
     "end_time": "2024-09-05T06:51:54.776443Z",
     "start_time": "2024-09-05T06:51:52.410715Z"
    }
   },
   "cell_type": "code",
   "source": [
    "\n",
    "print(all_data['school'])\n",
    "print(dw.transform_schid(all_data['school']))"
   ],
   "id": "5153179af87fe7cb",
   "outputs": [
    {
     "name": "stdout",
     "output_type": "stream",
     "text": [
      "[1 1 1 1 1 1 1 1 1 1 1 1 1 1 1 1 1 1 1 1 1 1 1 1 1 1 1 1 1 1 1 1 1 1 1 1 1\n",
      " 1 1 1 3 3 3 3 3 3 3 3 3 3 3 3 3 3 3 3 3 3 3 3 3 3 3 3 3 3 3 3 3 3 3 3 3 3\n",
      " 3 3 3 3 3 3 6 6 6 6 6 6 6 6 6 6 6 6 6 6 6 6 6 6 6 6 6 6 6 6 6 6 6 6 6 6 6\n",
      " 6 6 6 6 6 6 6 6 6 6 6 6 6 6 6 6 6 6 6 6 6 6 6 6 6]\n",
      "[0 0 0 0 0 0 0 0 0 0 0 0 0 0 0 0 0 0 0 0 0 0 0 0 0 0 0 0 0 0 0 0 0 0 0 0 0\n",
      " 0 0 0 1 1 1 1 1 1 1 1 1 1 1 1 1 1 1 1 1 1 1 1 1 1 1 1 1 1 1 1 1 1 1 1 1 1\n",
      " 1 1 1 1 1 1 2 2 2 2 2 2 2 2 2 2 2 2 2 2 2 2 2 2 2 2 2 2 2 2 2 2 2 2 2 2 2\n",
      " 2 2 2 2 2 2 2 2 2 2 2 2 2 2 2 2 2 2 2 2 2 2 2 2 2]\n"
     ]
    }
   ],
   "execution_count": 10
  },
  {
   "metadata": {
    "ExecuteTime": {
     "end_time": "2024-09-05T06:51:57.714102Z",
     "start_time": "2024-09-05T06:51:56.889748Z"
    }
   },
   "cell_type": "code",
   "source": [
    "all_data['school'] = dw.transform_schid(all_data['school'])\n",
    "# remove the '+1' next time since I updated the original code"
   ],
   "id": "70eb72af86df73bc",
   "outputs": [],
   "execution_count": 11
  },
  {
   "metadata": {
    "ExecuteTime": {
     "end_time": "2024-09-05T06:52:13.536936Z",
     "start_time": "2024-09-05T06:52:09.809090Z"
    }
   },
   "cell_type": "code",
   "source": "plt.hist(all_data['exposures'], bins=30)",
   "id": "704581579a1e9d82",
   "outputs": [
    {
     "data": {
      "text/plain": [
       "(array([49., 17., 14.,  4.,  8.,  4.,  6.,  6.,  5.,  3.,  7.,  1.,  2.,\n",
       "         0.,  3.,  1.,  1.,  1.,  0.,  0.,  0.,  1.,  0.,  2.,  0.,  0.,\n",
       "         0.,  0.,  0.,  1.]),\n",
       " array([0.        , 0.02403366, 0.04806732, 0.07210098, 0.09613465,\n",
       "        0.12016831, 0.14420196, 0.16823563, 0.1922693 , 0.21630296,\n",
       "        0.24033661, 0.26437029, 0.28840393, 0.31243759, 0.33647126,\n",
       "        0.36050493, 0.38453859, 0.40857226, 0.43260592, 0.45663956,\n",
       "        0.48067322, 0.50470692, 0.52874058, 0.55277419, 0.57680786,\n",
       "        0.60084152, 0.62487519, 0.64890885, 0.67294252, 0.69697618,\n",
       "        0.72100985]),\n",
       " <BarContainer object of 30 artists>)"
      ]
     },
     "execution_count": 13,
     "metadata": {},
     "output_type": "execute_result"
    },
    {
     "data": {
      "text/plain": [
       "<Figure size 640x480 with 1 Axes>"
      ],
      "image/png": "[encoded data removed]"
     },
     "metadata": {},
     "output_type": "display_data"
    }
   ],
   "execution_count": 13
  },
  {
   "metadata": {
    "ExecuteTime": {
     "end_time": "2024-09-05T07:51:18.604587Z",
     "start_time": "2024-09-05T07:51:07.071543Z"
    }
   },
   "cell_type": "code",
   "source": [
    "rng_key = random.PRNGKey(0)\n",
    "_, rng_key = random.split(rng_key)\n",
    "\n",
    "tst_outcome_obs = util.Outcome_MCMC(data=all_data, rng_key=rng_key)\n"
   ],
   "id": "7be70b9643415229",
   "outputs": [
    {
     "data": {
      "text/plain": [
       "  0%|          | 0/4500 [00:00<?, ?it/s]"
      ],
      "application/vnd.jupyter.widget-view+json": {
       "version_major": 2,
       "version_minor": 0,
       "model_id": "412c4ea8bccb498ca30f9053b0bee842"
      }
     },
     "metadata": {},
     "output_type": "display_data"
    },
    {
     "data": {
      "text/plain": [
       "  0%|          | 0/4500 [00:00<?, ?it/s]"
      ],
      "application/vnd.jupyter.widget-view+json": {
       "version_major": 2,
       "version_minor": 0,
       "model_id": "4ba01c4a10fc41b687c8f08777c48eb5"
      }
     },
     "metadata": {},
     "output_type": "display_data"
    },
    {
     "data": {
      "text/plain": [
       "  0%|          | 0/4500 [00:00<?, ?it/s]"
      ],
      "application/vnd.jupyter.widget-view+json": {
       "version_major": 2,
       "version_minor": 0,
       "model_id": "199730ab68e04e0683c6c82763eaa6dc"
      }
     },
     "metadata": {},
     "output_type": "display_data"
    },
    {
     "data": {
      "text/plain": [
       "  0%|          | 0/4500 [00:00<?, ?it/s]"
      ],
      "application/vnd.jupyter.widget-view+json": {
       "version_major": 2,
       "version_minor": 0,
       "model_id": "ece3f5c23b4642afb3e274280c58ffed"
      }
     },
     "metadata": {},
     "output_type": "display_data"
    },
    {
     "name": "stdout",
     "output_type": "stream",
     "text": [
      "\n",
      "                       mean       std    median      5.0%     95.0%     n_eff     r_hat\n",
      "           eta[0]     -0.38      0.52     -0.38     -1.22      0.47   7943.14      1.00\n",
      "           eta[1]     -0.88      0.55     -0.89     -1.84     -0.03   8885.18      1.00\n",
      "           eta[2]     -0.52      0.73     -0.50     -1.66      0.74   8173.33      1.00\n",
      "           eta[3]      0.20      0.54      0.20     -0.67      1.11   8096.98      1.00\n",
      "    eta_exposures     -0.30      2.15     -0.27     -3.80      3.28   7299.15      1.00\n",
      " eta_grade_std[0]      0.20      0.93      0.21     -1.29      1.72   9078.01      1.00\n",
      " eta_grade_std[1]     -0.06      0.91     -0.06     -1.57      1.41   8659.99      1.00\n",
      " eta_grade_std[2]     -0.15      0.89     -0.17     -1.64      1.32   8631.66      1.00\n",
      "  eta_interaction     -0.55      2.77     -0.50     -5.12      4.02   6452.92      1.00\n",
      "   eta_sch_std[0]      0.12      0.87      0.12     -1.30      1.51   8185.24      1.00\n",
      "   eta_sch_std[1]      0.39      0.88      0.39     -1.12      1.77   7333.36      1.00\n",
      "   eta_sch_std[2]     -0.50      0.88     -0.50     -1.95      0.91   8095.19      1.00\n",
      "          eta_trt     -0.40      0.55     -0.38     -1.31      0.52   8070.22      1.00\n",
      "         mu_grade     -0.23      3.56     -0.21     -5.92      5.81   5360.05      1.00\n",
      "           mu_sch     -0.23      3.57     -0.27     -6.46      5.38   5422.98      1.00\n",
      "      sigma_grade      0.38      0.81      0.19      0.00      0.83   1184.82      1.00\n",
      "        sigma_sch      0.56      0.75      0.34      0.00      1.25   5175.04      1.00\n",
      "\n",
      "Number of divergences: 1\n"
     ]
    }
   ],
   "execution_count": 57
  },
  {
   "metadata": {
    "ExecuteTime": {
     "end_time": "2024-09-05T11:01:03.967544Z",
     "start_time": "2024-09-05T11:01:03.679262Z"
    }
   },
   "cell_type": "code",
   "source": [
    "print(all_stoch_trt_expos.shape)\n",
    "print(all_stoch_trt_expos[0].shape)\n",
    "print(all_stoch_trt_expos[1].shape)\n",
    "print(all_stoch_trt_expos[0][0].shape)"
   ],
   "id": "96cc52f3fe425b84",
   "outputs": [
    {
     "name": "stdout",
     "output_type": "stream",
     "text": [
      "(2, 2, 100, 136)\n",
      "(2, 100, 136)\n",
      "(2, 100, 136)\n",
      "(100, 136)\n"
     ]
    },
    {
     "name": "stderr",
     "output_type": "stream",
     "text": [
      "[autoreload of wrapper_functions failed: Traceback (most recent call last):\n",
      "  File \"C:\\Users\\bar21\\.conda\\envs\\STAT\\Lib\\site-packages\\IPython\\extensions\\autoreload.py\", line 276, in check\n",
      "    superreload(m, reload, self.old_objects)\n",
      "    \n",
      "  File \"C:\\Users\\bar21\\.conda\\envs\\STAT\\Lib\\site-packages\\IPython\\extensions\\autoreload.py\", line 475, in superreload\n",
      "    module = reload(module)\n",
      "    \n",
      "  File \"C:\\Users\\bar21\\.conda\\envs\\STAT\\Lib\\importlib\\__init__.py\", line 169, in reload\n",
      "    _bootstrap._exec(spec, module)\n",
      "    \n",
      "  File \"<frozen importlib._bootstrap>\", line 621, in _exec\n",
      "  File \"<frozen importlib._bootstrap_external>\", line 936, in exec_module\n",
      "  File \"<frozen importlib._bootstrap_external>\", line 1074, in get_code\n",
      "  File \"<frozen importlib._bootstrap_external>\", line 1004, in source_to_code\n",
      "  File \"<frozen importlib._bootstrap>\", line 241, in _call_with_frames_removed\n",
      "  File \"C:\\Users\\bar21\\Dropbox\\My PC (LAPTOP-6NAJD2IQ)\\Desktop\\Gate\\University\\TAU\\PhD\\Writing\\Drafts\\Sampled networks\\Bayes_incorrect_network\\Data\\Palluck_et_al\\wrapper_functions.py\", line 194\n",
      "    pred_values = outcome_model.get_predicted_values(trts=all_stoch_trt_expos[0],\n",
      "                                                    ^\n",
      "SyntaxError: '(' was never closed\n",
      "]\n"
     ]
    }
   ],
   "execution_count": 140
  },
  {
   "metadata": {
    "ExecuteTime": {
     "end_time": "2024-09-05T07:51:33.930140Z",
     "start_time": "2024-09-05T07:51:30.269389Z"
    }
   },
   "cell_type": "code",
   "source": [
    "tst_stoch_pred = tst_outcome_obs.get_predicted_values(trts=all_stoch_trt_expos[0],\n",
    "                                                      exposures=all_stoch_trt_expos[1])\n",
    "\n",
    "print(tst_stoch_pred.shape)\n"
   ],
   "id": "8d3f73156996c412",
   "outputs": [
    {
     "name": "stdout",
     "output_type": "stream",
     "text": [
      "(2, 10000, 136)\n"
     ]
    }
   ],
   "execution_count": 59
  },
  {
   "metadata": {
    "ExecuteTime": {
     "end_time": "2024-09-05T12:47:12.278733Z",
     "start_time": "2024-09-05T12:46:57.991075Z"
    }
   },
   "cell_type": "code",
   "source": [
    "tst_obs_network_outcome_model = wrap.observed_network_run(all_data, all_stoch_trt_expos, rng_key)\n",
    "print(tst_obs_network_outcome_model)"
   ],
   "id": "76fc0e3c848f19f8",
   "outputs": [
    {
     "data": {
      "text/plain": [
       "  0%|          | 0/4500 [00:00<?, ?it/s]"
      ],
      "application/vnd.jupyter.widget-view+json": {
       "version_major": 2,
       "version_minor": 0,
       "model_id": "ccec5f6529904f5fb50ecb3d10f9858b"
      }
     },
     "metadata": {},
     "output_type": "display_data"
    },
    {
     "data": {
      "text/plain": [
       "  0%|          | 0/4500 [00:00<?, ?it/s]"
      ],
      "application/vnd.jupyter.widget-view+json": {
       "version_major": 2,
       "version_minor": 0,
       "model_id": "a6c649adf0d44f85ab3aefadd372885e"
      }
     },
     "metadata": {},
     "output_type": "display_data"
    },
    {
     "data": {
      "text/plain": [
       "  0%|          | 0/4500 [00:00<?, ?it/s]"
      ],
      "application/vnd.jupyter.widget-view+json": {
       "version_major": 2,
       "version_minor": 0,
       "model_id": "31de3d868f41428ab1a644e373eab240"
      }
     },
     "metadata": {},
     "output_type": "display_data"
    },
    {
     "data": {
      "text/plain": [
       "  0%|          | 0/4500 [00:00<?, ?it/s]"
      ],
      "application/vnd.jupyter.widget-view+json": {
       "version_major": 2,
       "version_minor": 0,
       "model_id": "4b764311a62c4ff197eec816c3dee6b7"
      }
     },
     "metadata": {},
     "output_type": "display_data"
    },
    {
     "name": "stdout",
     "output_type": "stream",
     "text": [
      "\n",
      "                       mean       std    median      5.0%     95.0%     n_eff     r_hat\n",
      "           eta[0]     -0.38      0.52     -0.38     -1.22      0.47   7943.14      1.00\n",
      "           eta[1]     -0.88      0.55     -0.89     -1.84     -0.03   8885.18      1.00\n",
      "           eta[2]     -0.52      0.73     -0.50     -1.66      0.74   8173.33      1.00\n",
      "           eta[3]      0.20      0.54      0.20     -0.67      1.11   8096.98      1.00\n",
      "    eta_exposures     -0.30      2.15     -0.27     -3.80      3.28   7299.15      1.00\n",
      " eta_grade_std[0]      0.20      0.93      0.21     -1.29      1.72   9078.01      1.00\n",
      " eta_grade_std[1]     -0.06      0.91     -0.06     -1.57      1.41   8659.99      1.00\n",
      " eta_grade_std[2]     -0.15      0.89     -0.17     -1.64      1.32   8631.66      1.00\n",
      "  eta_interaction     -0.55      2.77     -0.50     -5.12      4.02   6452.92      1.00\n",
      "   eta_sch_std[0]      0.12      0.87      0.12     -1.30      1.51   8185.24      1.00\n",
      "   eta_sch_std[1]      0.39      0.88      0.39     -1.12      1.77   7333.36      1.00\n",
      "   eta_sch_std[2]     -0.50      0.88     -0.50     -1.95      0.91   8095.19      1.00\n",
      "          eta_trt     -0.40      0.55     -0.38     -1.31      0.52   8070.22      1.00\n",
      "         mu_grade     -0.23      3.56     -0.21     -5.92      5.81   5360.05      1.00\n",
      "           mu_sch     -0.23      3.57     -0.27     -6.46      5.38   5422.98      1.00\n",
      "      sigma_grade      0.38      0.81      0.19      0.00      0.83   1184.82      1.00\n",
      "        sigma_sch      0.56      0.75      0.34      0.00      1.25   5175.04      1.00\n",
      "\n",
      "Number of divergences: 1\n",
      "   post_mean  post_median  post_std      q025      q975  estimand     model  \\\n",
      "0   0.217019     0.211618  0.063425  0.109338  0.356403  stoch_30  observed   \n",
      "0   0.192572     0.171029  0.102653  0.050662  0.437211  stoch_70  observed   \n",
      "\n",
      "     method  \n",
      "0  observed  \n",
      "0  observed  \n"
     ]
    }
   ],
   "execution_count": 142
  },
  {
   "metadata": {
    "ExecuteTime": {
     "end_time": "2024-09-05T07:51:40.538051Z",
     "start_time": "2024-09-05T07:51:40.063450Z"
    }
   },
   "cell_type": "code",
   "source": [
    "# Plot mean (95% CI) for each stoch prediction\n",
    "esti_stoch_pred = jnp.mean(tst_stoch_pred, axis=2)\n",
    "print(esti_stoch_pred.shape)\n",
    "mean_esti_pred = jnp.mean(esti_stoch_pred, axis=1)\n",
    "print(mean_esti_pred.shape)\n",
    "quantiles_esti_pred = jnp.quantile(esti_stoch_pred, q=jnp.array([0.025, 0.975]), axis=1)\n",
    "print(quantiles_esti_pred.shape)\n",
    "# quantiles_stoch_pred = jnp.quantile(tst_stoch_pred, q=jnp.array([0.025, 0.975]), axis=1)\n",
    "# print(mean_stoch_pred.shape)\n",
    "# print(quantiles_stoch_pred.shape)\n",
    "\n",
    "# plot point estimate and 95% CI for each of 3 stoch trts\n",
    "# \n",
    "# plt.figure(figsize=(8, 6))\n",
    "# plt.errorbar(x=jnp.arange(mean_stoch_pred.shape[0]), y=mean_stoch_pred, yerr=[mean_stoch_pred - quantiles_stoch_pred[0], quantiles_stoch_pred[1] - mean_stoch_pred], fmt='o')\n",
    "# plt.xlabel(\"Stoch pred\")\n",
    "# plt.ylabel(\"Predicted estimand\")\n"
   ],
   "id": "1184a04ab580ca63",
   "outputs": [
    {
     "name": "stdout",
     "output_type": "stream",
     "text": [
      "(2, 10000)\n",
      "(2,)\n",
      "(2, 2)\n"
     ]
    }
   ],
   "execution_count": 60
  },
  {
   "metadata": {
    "ExecuteTime": {
     "end_time": "2024-09-05T07:55:21.987643Z",
     "start_time": "2024-09-05T07:55:21.528652Z"
    }
   },
   "cell_type": "code",
   "source": [
    "# Create the plot\n",
    "fig, ax = plt.subplots(figsize=(6, 4))\n",
    "\n",
    "# X-coordinates for the three variables\n",
    "x = np.arange(2)\n",
    "# x = [0.25,0.75]\n",
    "\n",
    "# Plot the mean points\n",
    "ax.scatter(x, mean_esti_pred, color='blue', s=50, zorder=2)\n",
    "\n",
    "# Plot the confidence intervals\n",
    "for i in range(2):\n",
    "    ax.plot([i, i], quantiles_esti_pred[:, i], color='blue', linewidth=2, zorder=2)\n",
    "\n",
    "# Customize the plot\n",
    "ax.set_xlabel('alpha')\n",
    "ax.set_ylabel('Values')\n",
    "ax.set_title('Predictions with Confidence Intervals')\n",
    "ax.set_xticks(x)\n",
    "ax.set_xticklabels(['30%', '70%'])\n",
    "ax.grid(True, linestyle='--', alpha=0.7)\n",
    "\n",
    "# Add legend\n",
    "ax.scatter([], [], color='blue', label='Mean')\n",
    "ax.plot([], [], color='blue', label='95% CI', alpha=0.5)\n",
    "ax.legend()\n",
    "\n",
    "# Show the plot\n",
    "plt.tight_layout()\n",
    "plt.show()"
   ],
   "id": "671280d9f3d536a3",
   "outputs": [
    {
     "data": {
      "text/plain": [
       "<Figure size 600x400 with 1 Axes>"
      ],
      "image/png": "[encoded data removed]"
     },
     "metadata": {},
     "output_type": "display_data"
    }
   ],
   "execution_count": 73
  },
  {
   "metadata": {},
   "cell_type": "code",
   "outputs": [],
   "execution_count": null,
   "source": [
    "# TODO: test with onestage inferece\n",
    "# TODO: test with multistage inferenec\n",
    "# TODO: In multistage, need to think how to combine the estimation (with posterior obs exposures), and predictions of stoch treatments in one run. \n",
    "# TODO: check prediction in outcome model  above"
   ],
   "id": "a085935182e92f62"
  },
  {
   "metadata": {
    "ExecuteTime": {
     "end_time": "2024-09-05T07:14:32.827271Z",
     "start_time": "2024-09-05T07:14:32.608294Z"
    }
   },
   "cell_type": "code",
   "source": "print(all_data.keys())",
   "id": "a745cd047d855226",
   "outputs": [
    {
     "name": "stdout",
     "output_type": "stream",
     "text": [
      "dict_keys(['X', 'school', 'grade', 'trts', 'sch_trts', 'exposures', 'Y'])\n"
     ]
    }
   ],
   "execution_count": 39
  },
  {
   "metadata": {
    "ExecuteTime": {
     "end_time": "2024-09-05T07:14:00.722225Z",
     "start_time": "2024-09-05T07:14:00.488519Z"
    }
   },
   "cell_type": "code",
   "source": "all_post_obs_expos[0].mean(axis=0).shape",
   "id": "761a6bf80dec80c2",
   "outputs": [
    {
     "data": {
      "text/plain": [
       "(136,)"
      ]
     },
     "execution_count": 38,
     "metadata": {},
     "output_type": "execute_result"
    }
   ],
   "execution_count": 38
  },
  {
   "metadata": {
    "ExecuteTime": {
     "end_time": "2024-09-05T07:57:06.883365Z",
     "start_time": "2024-09-05T07:56:27.958879Z"
    }
   },
   "cell_type": "code",
   "source": [
    "# onestage inference \n",
    "\n",
    "tst_onestage_one_noisy_net = util.Onestage_MCMC(obs_trts=all_data['trts'],\n",
    "                                                post_exposures= all_post_obs_expos[0].mean(axis=0),\n",
    "                                                sch_trts = all_data['sch_trts'],\n",
    "                                                fixed_df=all_data['X'],\n",
    "                                                grade = all_data['grade'],\n",
    "                                                school = all_data['school'],\n",
    "                                                Y = all_data['Y'],\n",
    "                                                rng_key=rng_key)\n",
    "\n",
    "tst_onestage_repeated_noisy = util.Onestage_MCMC(obs_trts=all_data['trts'],\n",
    "                                                post_exposures= all_post_obs_expos[1].mean(axis=0),\n",
    "                                                sch_trts = all_data['sch_trts'],\n",
    "                                                fixed_df=all_data['X'],\n",
    "                                                grade = all_data['grade'],\n",
    "                                                school = all_data['school'],\n",
    "                                                Y = all_data['Y'],\n",
    "                                                rng_key=rng_key)\n",
    "\n",
    "tst_onestage_multilayer = util.Onestage_MCMC(obs_trts=all_data['trts'],\n",
    "                                                post_exposures= all_post_obs_expos[2].mean(axis=0),\n",
    "                                                sch_trts = all_data['sch_trts'],\n",
    "                                                fixed_df=all_data['X'],\n",
    "                                                grade = all_data['grade'],\n",
    "                                                school = all_data['school'],\n",
    "                                                Y = all_data['Y'],\n",
    "                                                rng_key=rng_key)\n",
    "\n",
    "\n"
   ],
   "id": "7c35b3db0804f039",
   "outputs": [
    {
     "data": {
      "text/plain": [
       "  0%|          | 0/4500 [00:00<?, ?it/s]"
      ],
      "application/vnd.jupyter.widget-view+json": {
       "version_major": 2,
       "version_minor": 0,
       "model_id": "045c84c3b42741efa2ab334a8bd1dae9"
      }
     },
     "metadata": {},
     "output_type": "display_data"
    },
    {
     "data": {
      "text/plain": [
       "  0%|          | 0/4500 [00:00<?, ?it/s]"
      ],
      "application/vnd.jupyter.widget-view+json": {
       "version_major": 2,
       "version_minor": 0,
       "model_id": "61577d199de44391b2385b0d8af11258"
      }
     },
     "metadata": {},
     "output_type": "display_data"
    },
    {
     "data": {
      "text/plain": [
       "  0%|          | 0/4500 [00:00<?, ?it/s]"
      ],
      "application/vnd.jupyter.widget-view+json": {
       "version_major": 2,
       "version_minor": 0,
       "model_id": "ba090183b7f14fdb910a955b22c5aeae"
      }
     },
     "metadata": {},
     "output_type": "display_data"
    },
    {
     "data": {
      "text/plain": [
       "  0%|          | 0/4500 [00:00<?, ?it/s]"
      ],
      "application/vnd.jupyter.widget-view+json": {
       "version_major": 2,
       "version_minor": 0,
       "model_id": "c75b0a683c2a43368e44ea61a3105518"
      }
     },
     "metadata": {},
     "output_type": "display_data"
    },
    {
     "name": "stdout",
     "output_type": "stream",
     "text": [
      "\n",
      "                       mean       std    median      5.0%     95.0%     n_eff     r_hat\n",
      "           eta[0]     -0.34      0.52     -0.34     -1.21      0.48   8876.45      1.00\n",
      "           eta[1]     -0.89      0.56     -0.89     -1.84     -0.01  10261.93      1.00\n",
      "           eta[2]     -0.51      0.72     -0.49     -1.70      0.65  10119.93      1.00\n",
      "           eta[3]      0.20      0.55      0.19     -0.70      1.08   9760.91      1.00\n",
      "    eta_exposures     -0.11      0.43     -0.13     -0.84      0.53   5499.69      1.00\n",
      " eta_grade_std[0]      0.20      0.93      0.20     -1.31      1.72  11065.77      1.00\n",
      " eta_grade_std[1]     -0.04      0.89     -0.05     -1.50      1.41  10716.20      1.00\n",
      " eta_grade_std[2]     -0.13      0.89     -0.14     -1.61      1.32   9870.50      1.00\n",
      "  eta_interaction      0.19      0.42      0.19     -0.48      0.91   6629.02      1.00\n",
      "   eta_sch_std[0]      0.06      0.94      0.06     -1.52      1.56   9181.61      1.00\n",
      "   eta_sch_std[1]      0.35      0.88      0.34     -1.12      1.76   8878.29      1.00\n",
      "   eta_sch_std[2]     -0.43      0.88     -0.43     -2.01      0.89   8811.27      1.00\n",
      "          eta_trt     -1.04      1.26     -1.02     -3.15      0.99   6822.65      1.00\n",
      "         mu_grade     -0.10      3.56     -0.08     -5.96      5.74   7267.60      1.00\n",
      "           mu_sch     -0.08      3.58     -0.13     -6.18      5.63   7196.95      1.00\n",
      "      sigma_grade      0.36      0.55      0.19      0.00      0.84   5639.63      1.00\n",
      "        sigma_sch      0.70      0.93      0.43      0.00      1.59   5385.82      1.00\n",
      "\n",
      "Number of divergences: 1\n"
     ]
    },
    {
     "data": {
      "text/plain": [
       "  0%|          | 0/4500 [00:00<?, ?it/s]"
      ],
      "application/vnd.jupyter.widget-view+json": {
       "version_major": 2,
       "version_minor": 0,
       "model_id": "a2e9e17c2e2a4a4f936454d0a8d9a6cf"
      }
     },
     "metadata": {},
     "output_type": "display_data"
    },
    {
     "data": {
      "text/plain": [
       "  0%|          | 0/4500 [00:00<?, ?it/s]"
      ],
      "application/vnd.jupyter.widget-view+json": {
       "version_major": 2,
       "version_minor": 0,
       "model_id": "d9b488cc9b734d2697c1f121a2efa84b"
      }
     },
     "metadata": {},
     "output_type": "display_data"
    },
    {
     "data": {
      "text/plain": [
       "  0%|          | 0/4500 [00:00<?, ?it/s]"
      ],
      "application/vnd.jupyter.widget-view+json": {
       "version_major": 2,
       "version_minor": 0,
       "model_id": "278f2eae095a47608182b617d0308e96"
      }
     },
     "metadata": {},
     "output_type": "display_data"
    },
    {
     "data": {
      "text/plain": [
       "  0%|          | 0/4500 [00:00<?, ?it/s]"
      ],
      "application/vnd.jupyter.widget-view+json": {
       "version_major": 2,
       "version_minor": 0,
       "model_id": "2e707f1710a04944ba0f938f04a33b4f"
      }
     },
     "metadata": {},
     "output_type": "display_data"
    },
    {
     "name": "stdout",
     "output_type": "stream",
     "text": [
      "\n",
      "                       mean       std    median      5.0%     95.0%     n_eff     r_hat\n",
      "           eta[0]     -0.32      0.52     -0.32     -1.16      0.55  10887.07      1.00\n",
      "           eta[1]     -0.94      0.59     -0.93     -1.96     -0.01   7434.61      1.00\n",
      "           eta[2]     -0.69      0.75     -0.67     -1.91      0.53   8555.22      1.00\n",
      "           eta[3]     -0.02      0.57     -0.03     -0.89      0.98   8842.44      1.00\n",
      "    eta_exposures     -0.87      0.78     -0.70     -2.14      0.22   2721.39      1.00\n",
      " eta_grade_std[0]      0.29      0.94      0.31     -1.18      1.89   9893.46      1.00\n",
      " eta_grade_std[1]     -0.06      0.89     -0.07     -1.44      1.47  11673.14      1.00\n",
      " eta_grade_std[2]     -0.20      0.89     -0.21     -1.68      1.26  10274.56      1.00\n",
      "  eta_interaction     -0.32      0.52     -0.32     -1.11      0.60   5819.42      1.00\n",
      "   eta_sch_std[0]      0.66      0.89      0.69     -0.79      2.09   8106.07      1.00\n",
      "   eta_sch_std[1]     -0.38      0.93     -0.39     -1.77      1.30   7939.89      1.00\n",
      "   eta_sch_std[2]     -0.21      0.80     -0.18     -1.57      1.04   8014.14      1.00\n",
      "          eta_trt      0.29      1.38      0.30     -2.02      2.55   5590.99      1.00\n",
      "         mu_grade      0.97      3.73      0.92     -5.27      7.00   7146.67      1.00\n",
      "           mu_sch      0.95      3.78      0.93     -5.12      7.27   6929.04      1.00\n",
      "      sigma_grade      0.43      0.67      0.22      0.00      1.01   3960.92      1.00\n",
      "        sigma_sch      1.22      1.67      0.69      0.00      2.85   1803.71      1.00\n",
      "\n",
      "Number of divergences: 6\n"
     ]
    },
    {
     "data": {
      "text/plain": [
       "  0%|          | 0/4500 [00:00<?, ?it/s]"
      ],
      "application/vnd.jupyter.widget-view+json": {
       "version_major": 2,
       "version_minor": 0,
       "model_id": "887c1b91788140598503a4da944a1c3b"
      }
     },
     "metadata": {},
     "output_type": "display_data"
    },
    {
     "data": {
      "text/plain": [
       "  0%|          | 0/4500 [00:00<?, ?it/s]"
      ],
      "application/vnd.jupyter.widget-view+json": {
       "version_major": 2,
       "version_minor": 0,
       "model_id": "43ad526290bf4605aef3438b8626afc8"
      }
     },
     "metadata": {},
     "output_type": "display_data"
    },
    {
     "data": {
      "text/plain": [
       "  0%|          | 0/4500 [00:00<?, ?it/s]"
      ],
      "application/vnd.jupyter.widget-view+json": {
       "version_major": 2,
       "version_minor": 0,
       "model_id": "efa607d0634a4969b8b03e9abe285701"
      }
     },
     "metadata": {},
     "output_type": "display_data"
    },
    {
     "data": {
      "text/plain": [
       "  0%|          | 0/4500 [00:00<?, ?it/s]"
      ],
      "application/vnd.jupyter.widget-view+json": {
       "version_major": 2,
       "version_minor": 0,
       "model_id": "286daab2fa6445629689d86ed238dc11"
      }
     },
     "metadata": {},
     "output_type": "display_data"
    },
    {
     "name": "stdout",
     "output_type": "stream",
     "text": [
      "\n",
      "                       mean       std    median      5.0%     95.0%     n_eff     r_hat\n",
      "           eta[0]     -0.34      0.51     -0.33     -1.15      0.49   9305.43      1.00\n",
      "           eta[1]     -0.70      0.57     -0.71     -1.67      0.21  10704.91      1.00\n",
      "           eta[2]     -0.52      0.71     -0.49     -1.64      0.66   9799.15      1.00\n",
      "           eta[3]      0.07      0.56      0.07     -0.83      1.00   9320.15      1.00\n",
      "    eta_exposures     -0.29      0.44     -0.25     -0.86      0.34   2165.04      1.00\n",
      " eta_grade_std[0]      0.27      0.93      0.29     -1.34      1.69  10805.59      1.00\n",
      " eta_grade_std[1]     -0.06      0.89     -0.07     -1.51      1.42   9628.90      1.00\n",
      " eta_grade_std[2]     -0.20      0.89     -0.22     -1.65      1.28   9768.51      1.00\n",
      "  eta_interaction     -0.07      0.33     -0.07     -0.60      0.46   7227.09      1.00\n",
      "   eta_sch_std[0]      0.31      0.89      0.31     -1.15      1.76   9078.83      1.00\n",
      "   eta_sch_std[1]     -0.09      0.97     -0.09     -1.70      1.46   8960.45      1.00\n",
      "   eta_sch_std[2]     -0.22      0.90     -0.21     -1.72      1.23   8352.51      1.00\n",
      "          eta_trt     -0.35      0.91     -0.34     -1.85      1.11   7383.20      1.00\n",
      "         mu_grade      0.09      3.58      0.07     -5.77      6.04   6570.01      1.00\n",
      "           mu_sch      0.15      3.58      0.12     -5.54      6.34   6874.12      1.00\n",
      "      sigma_grade      0.40      0.57      0.21      0.00      0.94   6856.22      1.00\n",
      "        sigma_sch      0.64      1.01      0.33      0.00      1.48   2273.04      1.00\n",
      "\n",
      "Number of divergences: 3\n"
     ]
    }
   ],
   "execution_count": 76
  },
  {
   "metadata": {
    "ExecuteTime": {
     "end_time": "2024-09-05T10:22:10.322698Z",
     "start_time": "2024-09-05T10:22:09.930058Z"
    }
   },
   "cell_type": "code",
   "source": [
    "print(all_stoch_trt_expos.shape)\n",
    "print(all_post_stoch_expos.shape)\n",
    "print(all_post_stoch_expos[0].shape)\n",
    "print(all_post_stoch_expos[0].mean(axis=1).shape)\n",
    "print(all_post_stoch_expos[1].mean(axis=1).shape)"
   ],
   "id": "9d6aa9f5f72d5b0a",
   "outputs": [
    {
     "name": "stdout",
     "output_type": "stream",
     "text": [
      "(2, 2, 100, 136)\n",
      "(3, 2, 500, 100, 136)\n",
      "(2, 500, 100, 136)\n",
      "(2, 100, 136)\n",
      "(2, 100, 136)\n"
     ]
    }
   ],
   "execution_count": 132
  },
  {
   "metadata": {
    "ExecuteTime": {
     "end_time": "2024-09-05T07:57:24.539183Z",
     "start_time": "2024-09-05T07:57:17.985343Z"
    }
   },
   "cell_type": "code",
   "source": [
    "# get predictions for onestage models \n",
    "\n",
    "tst_onestage_one_noisy_net_pred = tst_onestage_one_noisy_net.get_predicted_values(trts=all_stoch_trt_expos[0],\n",
    "                                                                                  exposures = all_post_stoch_expos[0].mean(axis=1))\n",
    "\n",
    "tst_onestage_repeated_pred = tst_onestage_repeated_noisy.get_predicted_values(trts=all_stoch_trt_expos[0],\n",
    "                                                                                exposures = all_post_stoch_expos[1].mean(axis=1))\n",
    "\n",
    "tst_onestage_multilayer_pred = tst_onestage_multilayer.get_predicted_values(trts=all_stoch_trt_expos[0],\n",
    "                                                                            exposures = all_post_stoch_expos[2].mean(axis=1))\n",
    "\n",
    "print(tst_onestage_one_noisy_net_pred.shape,\n",
    "      tst_onestage_repeated_pred.shape,\n",
    "      tst_onestage_multilayer_pred.shape)\n"
   ],
   "id": "4d1e05e0b346e7bd",
   "outputs": [
    {
     "name": "stdout",
     "output_type": "stream",
     "text": [
      "(2, 10000, 136) (2, 10000, 136) (2, 10000, 136)\n"
     ]
    }
   ],
   "execution_count": 80
  },
  {
   "metadata": {
    "ExecuteTime": {
     "end_time": "2024-09-05T07:57:35.903934Z",
     "start_time": "2024-09-05T07:57:35.529816Z"
    }
   },
   "cell_type": "code",
   "source": [
    "# save mean [95% ci] for each model \n",
    "os_one_noisy_esti_pred = jnp.mean(tst_onestage_one_noisy_net_pred, axis=2)\n",
    "print(os_one_noisy_esti_pred.shape)\n",
    "os_one_noisy_mean_esti= jnp.mean(os_one_noisy_esti_pred, axis=1)\n",
    "print(os_one_noisy_mean_esti.shape)\n",
    "os_one_noisy_quantiles_esti = jnp.quantile(os_one_noisy_esti_pred, q=jnp.array([0.025, 0.975]), axis=1)\n",
    "print(os_one_noisy_quantiles_esti.shape)\n",
    "\n",
    "os_repeated_esti_pred = jnp.mean(tst_onestage_repeated_pred, axis=2)\n",
    "print(os_repeated_esti_pred.shape)\n",
    "os_repeated_mean_esti= jnp.mean(os_repeated_esti_pred, axis=1)\n",
    "print(os_repeated_mean_esti.shape)\n",
    "os_repeated_quantiles_esti = jnp.quantile(os_repeated_esti_pred, q=jnp.array([0.025, 0.975]), axis=1)\n",
    "print(os_repeated_quantiles_esti.shape)\n",
    "\n",
    "os_multilayer_esti_pred = jnp.mean(tst_onestage_multilayer_pred, axis=2)\n",
    "print(os_multilayer_esti_pred.shape)\n",
    "os_multilayer_mean_esti= jnp.mean(os_multilayer_esti_pred, axis=1)\n",
    "print(os_multilayer_mean_esti.shape)\n",
    "os_multilayer_quantiles_esti = jnp.quantile(os_multilayer_esti_pred, q=jnp.array([0.025, 0.975]), axis=1)\n",
    "print(os_multilayer_quantiles_esti.shape)\n",
    "\n",
    "combined_os_mean_pred = jnp.stack([os_one_noisy_mean_esti, os_repeated_mean_esti, os_multilayer_mean_esti])\n",
    "combined_os_quantiles_pred = jnp.stack([os_one_noisy_quantiles_esti, os_repeated_quantiles_esti, os_multilayer_quantiles_esti])\n",
    "print(combined_os_mean_pred.shape, combined_os_quantiles_pred.shape)"
   ],
   "id": "83bb4965571d9ca6",
   "outputs": [
    {
     "name": "stdout",
     "output_type": "stream",
     "text": [
      "(2, 10000)\n",
      "(2,)\n",
      "(2, 2)\n",
      "(2, 10000)\n",
      "(2,)\n",
      "(2, 2)\n",
      "(2, 10000)\n",
      "(2,)\n",
      "(2, 2)\n",
      "(3, 2) (3, 2, 2)\n"
     ]
    }
   ],
   "execution_count": 81
  },
  {
   "metadata": {
    "ExecuteTime": {
     "end_time": "2024-09-05T07:58:17.830243Z",
     "start_time": "2024-09-05T07:58:16.652982Z"
    }
   },
   "cell_type": "code",
   "source": [
    "fig, ax = plt.subplots(figsize=(12, 6))\n",
    "\n",
    "# X-coordinates for the three variables\n",
    "x = np.arange(2)\n",
    "width = 0.1  # Width of each bar\n",
    "\n",
    "# Colors for each model\n",
    "colors = ['blue', 'green', 'red']\n",
    "model_names = ['One noisy', 'Repeated noisy', 'Multilayer']\n",
    "\n",
    "# Plot for each model\n",
    "for i in range(3):\n",
    "    # Plot the mean points\n",
    "    ax.scatter(x + (i - 1) * width, combined_os_mean_pred[i], color=colors[i], s=50, zorder=3, label=model_names[i])\n",
    "    \n",
    "    # Plot the confidence intervals\n",
    "    for j in range(2):\n",
    "        ax.plot([x[j] + (i - 1) * width, x[j] + (i - 1) * width], \n",
    "                combined_os_quantiles_pred[i, :, j], color=colors[i], linewidth=2, zorder=2)\n",
    "\n",
    "# Customize the plot\n",
    "ax.set_xlabel('Alpha')\n",
    "ax.set_ylabel('Values')\n",
    "ax.set_title('Predictions with Confidence Intervals for Multiple Models')\n",
    "ax.set_xticks(x)\n",
    "ax.set_xticklabels(['30%', '70%'])\n",
    "ax.grid(True, linestyle='--', alpha=0.7)\n",
    "\n",
    "# Add legend\n",
    "ax.legend(title='Models')\n",
    "\n",
    "# Adjust x-axis limits for better spacing\n",
    "ax.set_xlim(-0.5, len(x) - 0.5)\n",
    "\n",
    "# Show the plot\n",
    "plt.tight_layout()\n",
    "plt.show()"
   ],
   "id": "e22e674fd96e111a",
   "outputs": [
    {
     "data": {
      "text/plain": [
       "<Figure size 1200x600 with 1 Axes>"
      ],
      "image/png": "[encoded data removed]"
     },
     "metadata": {},
     "output_type": "display_data"
    }
   ],
   "execution_count": 83
  },
  {
   "metadata": {
    "ExecuteTime": {
     "end_time": "2024-09-05T10:31:47.095017Z",
     "start_time": "2024-09-05T10:31:09.339209Z"
    }
   },
   "cell_type": "code",
   "source": [
    "# one stage complete\n",
    "\n",
    "onestage_results = wrap.onestage_run(all_data, \n",
    "                                     all_stoch_trt_expos,\n",
    "                                     all_post_obs_expos,\n",
    "                                     all_post_stoch_expos,\n",
    "                                     rng_key)\n",
    "print(onestage_results)"
   ],
   "id": "58f4f573fae568bc",
   "outputs": [
    {
     "data": {
      "text/plain": [
       "  0%|          | 0/4500 [00:00<?, ?it/s]"
      ],
      "application/vnd.jupyter.widget-view+json": {
       "version_major": 2,
       "version_minor": 0,
       "model_id": "c0b6ffc960674276ab5a111dfd447420"
      }
     },
     "metadata": {},
     "output_type": "display_data"
    },
    {
     "data": {
      "text/plain": [
       "  0%|          | 0/4500 [00:00<?, ?it/s]"
      ],
      "application/vnd.jupyter.widget-view+json": {
       "version_major": 2,
       "version_minor": 0,
       "model_id": "b07fd8dec6a74155ba5e70a1253201c0"
      }
     },
     "metadata": {},
     "output_type": "display_data"
    },
    {
     "data": {
      "text/plain": [
       "  0%|          | 0/4500 [00:00<?, ?it/s]"
      ],
      "application/vnd.jupyter.widget-view+json": {
       "version_major": 2,
       "version_minor": 0,
       "model_id": "299e6e9bcbd54a008a8267720ff94aa8"
      }
     },
     "metadata": {},
     "output_type": "display_data"
    },
    {
     "data": {
      "text/plain": [
       "  0%|          | 0/4500 [00:00<?, ?it/s]"
      ],
      "application/vnd.jupyter.widget-view+json": {
       "version_major": 2,
       "version_minor": 0,
       "model_id": "0390b5842495451592fe8053a7781c25"
      }
     },
     "metadata": {},
     "output_type": "display_data"
    },
    {
     "name": "stdout",
     "output_type": "stream",
     "text": [
      "\n",
      "                       mean       std    median      5.0%     95.0%     n_eff     r_hat\n",
      "           eta[0]     -0.34      0.52     -0.34     -1.21      0.48   8876.45      1.00\n",
      "           eta[1]     -0.89      0.56     -0.89     -1.84     -0.01  10261.93      1.00\n",
      "           eta[2]     -0.51      0.72     -0.49     -1.70      0.65  10119.93      1.00\n",
      "           eta[3]      0.20      0.55      0.19     -0.70      1.08   9760.91      1.00\n",
      "    eta_exposures     -0.11      0.43     -0.13     -0.84      0.53   5499.69      1.00\n",
      " eta_grade_std[0]      0.20      0.93      0.20     -1.31      1.72  11065.77      1.00\n",
      " eta_grade_std[1]     -0.04      0.89     -0.05     -1.50      1.41  10716.20      1.00\n",
      " eta_grade_std[2]     -0.13      0.89     -0.14     -1.61      1.32   9870.50      1.00\n",
      "  eta_interaction      0.19      0.42      0.19     -0.48      0.91   6629.02      1.00\n",
      "   eta_sch_std[0]      0.06      0.94      0.06     -1.52      1.56   9181.61      1.00\n",
      "   eta_sch_std[1]      0.35      0.88      0.34     -1.12      1.76   8878.29      1.00\n",
      "   eta_sch_std[2]     -0.43      0.88     -0.43     -2.01      0.89   8811.27      1.00\n",
      "          eta_trt     -1.04      1.26     -1.02     -3.15      0.99   6822.65      1.00\n",
      "         mu_grade     -0.10      3.56     -0.08     -5.96      5.74   7267.60      1.00\n",
      "           mu_sch     -0.08      3.58     -0.13     -6.18      5.63   7196.95      1.00\n",
      "      sigma_grade      0.36      0.55      0.19      0.00      0.84   5639.63      1.00\n",
      "        sigma_sch      0.70      0.93      0.43      0.00      1.59   5385.82      1.00\n",
      "\n",
      "Number of divergences: 1\n"
     ]
    },
    {
     "data": {
      "text/plain": [
       "  0%|          | 0/4500 [00:00<?, ?it/s]"
      ],
      "application/vnd.jupyter.widget-view+json": {
       "version_major": 2,
       "version_minor": 0,
       "model_id": "acabb0090faf47bba0817733a99a8e64"
      }
     },
     "metadata": {},
     "output_type": "display_data"
    },
    {
     "data": {
      "text/plain": [
       "  0%|          | 0/4500 [00:00<?, ?it/s]"
      ],
      "application/vnd.jupyter.widget-view+json": {
       "version_major": 2,
       "version_minor": 0,
       "model_id": "2d4249aab89a4a4c88f412586699c89e"
      }
     },
     "metadata": {},
     "output_type": "display_data"
    },
    {
     "data": {
      "text/plain": [
       "  0%|          | 0/4500 [00:00<?, ?it/s]"
      ],
      "application/vnd.jupyter.widget-view+json": {
       "version_major": 2,
       "version_minor": 0,
       "model_id": "68c1e5b5a08146b081ac9def7433c8b4"
      }
     },
     "metadata": {},
     "output_type": "display_data"
    },
    {
     "data": {
      "text/plain": [
       "  0%|          | 0/4500 [00:00<?, ?it/s]"
      ],
      "application/vnd.jupyter.widget-view+json": {
       "version_major": 2,
       "version_minor": 0,
       "model_id": "8315b241c78748bd91a9c8712e6b3730"
      }
     },
     "metadata": {},
     "output_type": "display_data"
    },
    {
     "name": "stdout",
     "output_type": "stream",
     "text": [
      "\n",
      "                       mean       std    median      5.0%     95.0%     n_eff     r_hat\n",
      "           eta[0]     -0.32      0.52     -0.32     -1.16      0.55  10887.07      1.00\n",
      "           eta[1]     -0.94      0.59     -0.93     -1.96     -0.01   7434.61      1.00\n",
      "           eta[2]     -0.69      0.75     -0.67     -1.91      0.53   8555.22      1.00\n",
      "           eta[3]     -0.02      0.57     -0.03     -0.89      0.98   8842.44      1.00\n",
      "    eta_exposures     -0.87      0.78     -0.70     -2.14      0.22   2721.39      1.00\n",
      " eta_grade_std[0]      0.29      0.94      0.31     -1.18      1.89   9893.46      1.00\n",
      " eta_grade_std[1]     -0.06      0.89     -0.07     -1.44      1.47  11673.14      1.00\n",
      " eta_grade_std[2]     -0.20      0.89     -0.21     -1.68      1.26  10274.56      1.00\n",
      "  eta_interaction     -0.32      0.52     -0.32     -1.11      0.60   5819.42      1.00\n",
      "   eta_sch_std[0]      0.66      0.89      0.69     -0.79      2.09   8106.07      1.00\n",
      "   eta_sch_std[1]     -0.38      0.93     -0.39     -1.77      1.30   7939.89      1.00\n",
      "   eta_sch_std[2]     -0.21      0.80     -0.18     -1.57      1.04   8014.14      1.00\n",
      "          eta_trt      0.29      1.38      0.30     -2.02      2.55   5590.99      1.00\n",
      "         mu_grade      0.97      3.73      0.92     -5.27      7.00   7146.67      1.00\n",
      "           mu_sch      0.95      3.78      0.93     -5.12      7.27   6929.04      1.00\n",
      "      sigma_grade      0.43      0.67      0.22      0.00      1.01   3960.92      1.00\n",
      "        sigma_sch      1.22      1.67      0.69      0.00      2.85   1803.71      1.00\n",
      "\n",
      "Number of divergences: 6\n"
     ]
    },
    {
     "data": {
      "text/plain": [
       "  0%|          | 0/4500 [00:00<?, ?it/s]"
      ],
      "application/vnd.jupyter.widget-view+json": {
       "version_major": 2,
       "version_minor": 0,
       "model_id": "a18002345abb4acb9cc46c28265508d9"
      }
     },
     "metadata": {},
     "output_type": "display_data"
    },
    {
     "data": {
      "text/plain": [
       "  0%|          | 0/4500 [00:00<?, ?it/s]"
      ],
      "application/vnd.jupyter.widget-view+json": {
       "version_major": 2,
       "version_minor": 0,
       "model_id": "889430046a624da49df1ecb760d223f4"
      }
     },
     "metadata": {},
     "output_type": "display_data"
    },
    {
     "data": {
      "text/plain": [
       "  0%|          | 0/4500 [00:00<?, ?it/s]"
      ],
      "application/vnd.jupyter.widget-view+json": {
       "version_major": 2,
       "version_minor": 0,
       "model_id": "34109bac5951434684015957b61e65c5"
      }
     },
     "metadata": {},
     "output_type": "display_data"
    },
    {
     "data": {
      "text/plain": [
       "  0%|          | 0/4500 [00:00<?, ?it/s]"
      ],
      "application/vnd.jupyter.widget-view+json": {
       "version_major": 2,
       "version_minor": 0,
       "model_id": "7f7a5dc2b5ca4e74b348b5721cdcb488"
      }
     },
     "metadata": {},
     "output_type": "display_data"
    },
    {
     "name": "stdout",
     "output_type": "stream",
     "text": [
      "\n",
      "                       mean       std    median      5.0%     95.0%     n_eff     r_hat\n",
      "           eta[0]     -0.34      0.51     -0.33     -1.15      0.49   9305.43      1.00\n",
      "           eta[1]     -0.70      0.57     -0.71     -1.67      0.21  10704.91      1.00\n",
      "           eta[2]     -0.52      0.71     -0.49     -1.64      0.66   9799.15      1.00\n",
      "           eta[3]      0.07      0.56      0.07     -0.83      1.00   9320.15      1.00\n",
      "    eta_exposures     -0.29      0.44     -0.25     -0.86      0.34   2165.04      1.00\n",
      " eta_grade_std[0]      0.27      0.93      0.29     -1.34      1.69  10805.59      1.00\n",
      " eta_grade_std[1]     -0.06      0.89     -0.07     -1.51      1.42   9628.90      1.00\n",
      " eta_grade_std[2]     -0.20      0.89     -0.22     -1.65      1.28   9768.51      1.00\n",
      "  eta_interaction     -0.07      0.33     -0.07     -0.60      0.46   7227.09      1.00\n",
      "   eta_sch_std[0]      0.31      0.89      0.31     -1.15      1.76   9078.83      1.00\n",
      "   eta_sch_std[1]     -0.09      0.97     -0.09     -1.70      1.46   8960.45      1.00\n",
      "   eta_sch_std[2]     -0.22      0.90     -0.21     -1.72      1.23   8352.51      1.00\n",
      "          eta_trt     -0.35      0.91     -0.34     -1.85      1.11   7383.20      1.00\n",
      "         mu_grade      0.09      3.58      0.07     -5.77      6.04   6570.01      1.00\n",
      "           mu_sch      0.15      3.58      0.12     -5.54      6.34   6874.12      1.00\n",
      "      sigma_grade      0.40      0.57      0.21      0.00      0.94   6856.22      1.00\n",
      "        sigma_sch      0.64      1.01      0.33      0.00      1.48   2273.04      1.00\n",
      "\n",
      "Number of divergences: 3\n",
      "   post_mean  post_median  post_std      q025      q975  estimand  \\\n",
      "0   0.232795     0.225000  0.064613  0.129851  0.389563  stoch_30   \n",
      "0   0.301899     0.237941  0.225826  0.028456  0.807947  stoch_70   \n",
      "0   0.168773     0.162794  0.047971  0.092353  0.286252  stoch_30   \n",
      "0   0.068063     0.044191  0.086940  0.001618  0.306412  stoch_70   \n",
      "0   0.194798     0.186581  0.061357  0.098748  0.341029  stoch_30   \n",
      "0   0.153431     0.106029  0.139531  0.035221  0.616355  stoch_70   \n",
      "\n",
      "            model    method  \n",
      "0       one_noisy  onestage  \n",
      "0       one_noisy  onestage  \n",
      "0  repeated_noisy  onestage  \n",
      "0  repeated_noisy  onestage  \n",
      "0      multilayer  onestage  \n",
      "0      multilayer  onestage  \n"
     ]
    }
   ],
   "execution_count": 134
  },
  {
   "metadata": {
    "ExecuteTime": {
     "end_time": "2024-09-05T08:24:16.931774Z",
     "start_time": "2024-09-05T08:24:16.461545Z"
    }
   },
   "cell_type": "code",
   "source": [
    "print(all_post_obs_expos.shape)\n",
    "print(all_post_obs_expos[0][0:8].shape)\n",
    "print(all_post_stoch_expos[0][:,0:8].shape)\n",
    "print(all_stoch_trt_expos[0].shape)\n",
    "print(all_post_stoch_expos.shape)\n",
    "\n",
    "reshaped_post_stoch_expos = jnp.transpose(all_post_stoch_expos, axes=(0,2,1,3,4))\n",
    "print(reshaped_post_stoch_expos.shape)\n",
    "print(reshaped_post_stoch_expos[0].shape)\n",
    "print(reshaped_post_stoch_expos[0][0:8].shape)"
   ],
   "id": "393d48740da8b53d",
   "outputs": [
    {
     "name": "stdout",
     "output_type": "stream",
     "text": [
      "(3, 500, 136)\n",
      "(8, 136)\n",
      "(2, 8, 100, 136)\n",
      "(2, 100, 136)\n",
      "(3, 2, 500, 100, 136)\n",
      "(3, 500, 2, 100, 136)\n",
      "(500, 2, 100, 136)\n",
      "(8, 2, 100, 136)\n"
     ]
    }
   ],
   "execution_count": 108
  },
  {
   "metadata": {
    "ExecuteTime": {
     "end_time": "2024-09-05T10:39:28.143441Z",
     "start_time": "2024-09-05T10:39:27.113352Z"
    }
   },
   "cell_type": "code",
   "source": [
    "i_range = np.random.choice(a=range(all_post_obs_expos.shape[1]),\n",
    "                           size=88,\n",
    "                           replace=False)\n",
    "\n",
    "print(all_post_obs_expos[0][i_range].shape)\n",
    "print(reshaped_post_stoch_expos[0][i_range].shape)\n"
   ],
   "id": "36fdfdbc84f25051",
   "outputs": [
    {
     "name": "stdout",
     "output_type": "stream",
     "text": [
      "(88, 136)\n",
      "(88, 2, 100, 136)\n"
     ]
    }
   ],
   "execution_count": 136
  },
  {
   "metadata": {
    "ExecuteTime": {
     "end_time": "2024-09-05T08:30:14.135938Z",
     "start_time": "2024-09-05T08:24:54.457047Z"
    }
   },
   "cell_type": "code",
   "source": [
    "# multistage inference\n",
    "\n",
    "ms_one_noisy_net = util.linear_multistage(post_exposures = all_post_obs_expos[0],\n",
    "                                          post_new_exposures = reshaped_post_stoch_expos[0],\n",
    "                                          obs_trts = all_data['trts'],\n",
    "                                          new_trts = all_stoch_trt_expos[0],\n",
    "                                          sch_trts = all_data['sch_trts'],\n",
    "                                          fixed_df = all_data['X'],\n",
    "                                          grade = all_data['grade'],\n",
    "                                          school = all_data['school'],\n",
    "                                          Y = all_data['Y'],\n",
    "                                          key=rng_key)\n",
    "print(ms_one_noisy_net.shape)\n",
    "\n",
    "ms_repeated_noisy_net = util.linear_multistage(post_exposures = all_post_obs_expos[1],\n",
    "                                            post_new_exposures = reshaped_post_stoch_expos[1],\n",
    "                                            obs_trts = all_data['trts'],\n",
    "                                            new_trts = all_stoch_trt_expos[0],\n",
    "                                            sch_trts = all_data['sch_trts'],\n",
    "                                            fixed_df = all_data['X'],\n",
    "                                            grade = all_data['grade'],\n",
    "                                            school = all_data['school'],\n",
    "                                            Y = all_data['Y'],\n",
    "                                            key=rng_key)\n",
    "print(ms_repeated_noisy_net.shape)\n",
    "\n",
    "ms_multilayer_net = util.linear_multistage(post_exposures = all_post_obs_expos[2],\n",
    "                                            post_new_exposures = reshaped_post_stoch_expos[2],\n",
    "                                            obs_trts = all_data['trts'],\n",
    "                                            new_trts = all_stoch_trt_expos[0],\n",
    "                                            sch_trts = all_data['sch_trts'],\n",
    "                                            fixed_df = all_data['X'],\n",
    "                                            grade = all_data['grade'],\n",
    "                                            school = all_data['school'],\n",
    "                                            Y = all_data['Y'],\n",
    "                                            key=rng_key)\n",
    "print(ms_multilayer_net.shape)\n"
   ],
   "id": "5d774db1548077e1",
   "outputs": [
    {
     "name": "stderr",
     "output_type": "stream",
     "text": [
      "Multistage run: 100%|██████████| 125/125 [01:31<00:00,  1.36it/s]\n"
     ]
    },
    {
     "name": "stdout",
     "output_type": "stream",
     "text": [
      "result_c shape:  (500, 2, 250, 136)\n",
      "result transposed shape:  (2, 500, 250, 136)\n",
      "(2, 125000, 136)\n"
     ]
    },
    {
     "name": "stderr",
     "output_type": "stream",
     "text": [
      "Multistage run: 100%|██████████| 125/125 [01:15<00:00,  1.65it/s]\n"
     ]
    },
    {
     "name": "stdout",
     "output_type": "stream",
     "text": [
      "result_c shape:  (500, 2, 250, 136)\n",
      "result transposed shape:  (2, 500, 250, 136)\n",
      "(2, 125000, 136)\n"
     ]
    },
    {
     "name": "stderr",
     "output_type": "stream",
     "text": [
      "Multistage run: 100%|██████████| 125/125 [01:16<00:00,  1.64it/s]\n"
     ]
    },
    {
     "name": "stdout",
     "output_type": "stream",
     "text": [
      "result_c shape:  (500, 2, 250, 136)\n",
      "result transposed shape:  (2, 500, 250, 136)\n",
      "(2, 125000, 136)\n"
     ]
    }
   ],
   "execution_count": 109
  },
  {
   "metadata": {
    "ExecuteTime": {
     "end_time": "2024-09-05T08:36:02.509100Z",
     "start_time": "2024-09-05T08:35:57.189129Z"
    }
   },
   "cell_type": "code",
   "source": [
    "# save mean [95% ci] for each model \n",
    "ms_one_noisy_esti_pred = jnp.mean(ms_one_noisy_net, axis=2)\n",
    "print(ms_one_noisy_esti_pred.shape)\n",
    "ms_one_noisy_mean_esti= jnp.median(ms_one_noisy_esti_pred, axis=1)\n",
    "# ms_one_noisy_mean_esti= jnp.mean(ms_one_noisy_esti_pred, axis=1)\n",
    "print(ms_one_noisy_mean_esti.shape)\n",
    "ms_one_noisy_quantiles_esti = jnp.quantile(ms_one_noisy_esti_pred, q=jnp.array([0.025, 0.975]), axis=1)\n",
    "print(ms_one_noisy_quantiles_esti.shape)\n",
    "\n",
    "ms_repeated_esti_pred = jnp.mean(ms_repeated_noisy_net, axis=2)\n",
    "print(ms_repeated_esti_pred.shape)\n",
    "ms_repeated_mean_esti= jnp.median(ms_repeated_esti_pred, axis=1)\n",
    "# ms_repeated_mean_esti= jnp.mean(ms_repeated_esti_pred, axis=1)\n",
    "print(ms_repeated_mean_esti.shape)\n",
    "ms_repeated_quantiles_esti = jnp.quantile(ms_repeated_esti_pred, q=jnp.array([0.025, 0.975]), axis=1)\n",
    "print(ms_repeated_quantiles_esti.shape)\n",
    "\n",
    "ms_multilayer_esti_pred = jnp.mean(ms_multilayer_net, axis=2)\n",
    "print(ms_multilayer_esti_pred.shape)\n",
    "ms_multilayer_mean_esti= jnp.median(ms_multilayer_esti_pred, axis=1)\n",
    "# ms_multilayer_mean_esti= jnp.mean(ms_multilayer_esti_pred, axis=1)\n",
    "print(ms_multilayer_mean_esti.shape)\n",
    "ms_multilayer_quantiles_esti = jnp.quantile(ms_multilayer_esti_pred, q=jnp.array([0.025, 0.975]), axis=1)\n",
    "print(ms_multilayer_quantiles_esti.shape)\n",
    "\n",
    "combined_ms_mean_pred = jnp.stack([ms_one_noisy_mean_esti, ms_repeated_mean_esti, ms_multilayer_mean_esti])\n",
    "combined_ms_quantiles_pred = jnp.stack([ms_one_noisy_quantiles_esti, ms_repeated_quantiles_esti, ms_multilayer_quantiles_esti])\n",
    "print(combined_ms_mean_pred.shape, combined_ms_quantiles_pred.shape)"
   ],
   "id": "74f839fc02cd19",
   "outputs": [
    {
     "name": "stdout",
     "output_type": "stream",
     "text": [
      "(2, 125000)\n",
      "(2,)\n",
      "(2, 2)\n",
      "(2, 125000)\n",
      "(2,)\n",
      "(2, 2)\n",
      "(2, 125000)\n",
      "(2,)\n",
      "(2, 2)\n",
      "(3, 2) (3, 2, 2)\n"
     ]
    }
   ],
   "execution_count": 113
  },
  {
   "metadata": {
    "ExecuteTime": {
     "end_time": "2024-09-05T10:13:38.933353Z",
     "start_time": "2024-09-05T10:13:38.565339Z"
    }
   },
   "cell_type": "code",
   "source": "jnp.mean(ms_one_noisy_net[0])",
   "id": "a68c644a5a56b12c",
   "outputs": [
    {
     "data": {
      "text/plain": [
       "Array(0.23043236, dtype=float32)"
      ]
     },
     "execution_count": 125,
     "metadata": {},
     "output_type": "execute_result"
    }
   ],
   "execution_count": 125
  },
  {
   "metadata": {
    "ExecuteTime": {
     "end_time": "2024-09-05T10:18:33.225538Z",
     "start_time": "2024-09-05T10:18:31.800325Z"
    }
   },
   "cell_type": "code",
   "source": [
    "ms_stoch_30 = wrap.compute_summary_of_predictions(ms_one_noisy_net[0], 'stoch_30', 'one_noisy', 'multistage')\n",
    "ms_stoch_70 = wrap.compute_summary_of_predictions(ms_one_noisy_net[1], 'stoch_70', 'one_noisy', 'multistage')\n",
    "\n",
    "print(pd.concat([ms_stoch_30, ms_stoch_70]))"
   ],
   "id": "d65841302783429f",
   "outputs": [
    {
     "name": "stdout",
     "output_type": "stream",
     "text": [
      "   post_mean  post_median  post_std      q025      q975  estimand      model  \\\n",
      "0   0.230432     0.220882  0.066737  0.128529  0.394191  stoch_30  one_noisy   \n",
      "0   0.300863     0.236544  0.230091  0.025662  0.823088  stoch_70  one_noisy   \n",
      "\n",
      "       method  \n",
      "0  multistage  \n",
      "0  multistage  \n"
     ]
    }
   ],
   "execution_count": 130
  },
  {
   "metadata": {
    "ExecuteTime": {
     "end_time": "2024-09-05T08:36:04.478500Z",
     "start_time": "2024-09-05T08:36:03.496805Z"
    }
   },
   "cell_type": "code",
   "source": [
    "# plot ms results\n",
    "fig, ax = plt.subplots(figsize=(12, 6))\n",
    "\n",
    "# X-coordinates for the three variables\n",
    "x = np.arange(2)\n",
    "width = 0.1  # Width of each bar\n",
    "\n",
    "# Colors for each model\n",
    "colors = ['blue', 'green', 'red']\n",
    "model_names = ['One noisy', 'Repeated noisy', 'Multilayer']\n",
    "\n",
    "# Plot for each model\n",
    "for i in range(3):\n",
    "    # Plot the mean points\n",
    "    ax.scatter(x + (i - 1) * width, combined_ms_mean_pred[i], color=colors[i], s=50, zorder=3, label=model_names[i])\n",
    "    \n",
    "    # Plot the confidence intervals\n",
    "    for j in range(2):\n",
    "        ax.plot([x[j] + (i - 1) * width, x[j] + (i - 1) * width], \n",
    "                combined_ms_quantiles_pred[i, :, j], color=colors[i], linewidth=2, zorder=2)\n",
    "\n",
    "# Customize the plot\n",
    "ax.set_xlabel('Alpha')\n",
    "ax.set_ylabel('Values')\n",
    "ax.set_title('Predictions with Confidence Intervals for Multiple Models')\n",
    "ax.set_xticks(x)\n",
    "ax.set_xticklabels(['30%', '70%'])\n",
    "ax.grid(True, linestyle='--', alpha=0.7)\n",
    "\n",
    "# Add legend\n",
    "ax.legend(title='Models')\n",
    "\n",
    "# Adjust x-axis limits for better spacing\n",
    "ax.set_xlim(-0.5, len(x) - 0.5)\n",
    "\n",
    "# Show the plot\n",
    "plt.tight_layout()\n",
    "plt.show()"
   ],
   "id": "e5b61511242d5884",
   "outputs": [
    {
     "data": {
      "text/plain": [
       "<Figure size 1200x600 with 1 Axes>"
      ],
      "image/png": "[encoded data removed]"
     },
     "metadata": {},
     "output_type": "display_data"
    }
   ],
   "execution_count": 114
  },
  {
   "metadata": {
    "ExecuteTime": {
     "end_time": "2024-09-05T10:45:21.562533Z",
     "start_time": "2024-09-05T10:42:01.608067Z"
    }
   },
   "cell_type": "code",
   "source": [
    "# multistage wrapped\n",
    "multistage_results = wrap.multistage_run(all_data,\n",
    "                                            all_stoch_trt_expos,\n",
    "                                            all_post_obs_expos,\n",
    "                                            all_post_stoch_expos,\n",
    "                                            300,\n",
    "                                            rng_key)\n",
    "\n",
    "print(multistage_results)"
   ],
   "id": "d7820e0eeea4259c",
   "outputs": [
    {
     "name": "stderr",
     "output_type": "stream",
     "text": [
      "Multistage run: 100%|██████████| 75/75 [00:35<00:00,  2.11it/s]\n",
      "Multistage run: 100%|██████████| 75/75 [00:47<00:00,  1.59it/s] \n",
      "Multistage run: 100%|██████████| 75/75 [00:36<00:00,  2.08it/s] \n"
     ]
    },
    {
     "name": "stdout",
     "output_type": "stream",
     "text": [
      "   post_mean  post_median  post_std      q025      q975  estimand  \\\n",
      "0   0.229723     0.220515  0.065880  0.128750  0.390590  stoch_30   \n",
      "0   0.297508     0.232684  0.227880  0.025588  0.817279  stoch_70   \n",
      "0   0.171705     0.163824  0.052680  0.090588  0.299709  stoch_30   \n",
      "0   0.088688     0.051691  0.115436  0.005956  0.483090  stoch_70   \n",
      "0   0.191751     0.182794  0.063980  0.095441  0.343162  stoch_30   \n",
      "0   0.158293     0.101066  0.152399  0.030956  0.650882  stoch_70   \n",
      "\n",
      "            model      method  \n",
      "0       one_noisy  multistage  \n",
      "0       one_noisy  multistage  \n",
      "0  repeated_noisy  multistage  \n",
      "0  repeated_noisy  multistage  \n",
      "0      multilayer  multistage  \n",
      "0      multilayer  multistage  \n"
     ]
    }
   ],
   "execution_count": 139
  },
  {
   "cell_type": "code",
   "id": "dfff89a110f0a2a1",
   "metadata": {
    "ExecuteTime": {
     "end_time": "2024-09-05T08:23:20.087613Z",
     "start_time": "2024-09-05T08:23:19.679345Z"
    }
   },
   "source": [
    "# Clean data\n",
    "# Remove all observations for which both the school-id and the block-number of the school are unknown (1.14% of the observations, or 280 observations)\n",
    "all_schools['ID'] = pd.to_numeric(all_schools['ID'], errors='coerce').fillna(0.0)\n",
    "all_schools['SCHRB'] = pd.to_numeric(all_schools['SCHRB'], errors='coerce')\n",
    "# all_schools = all_schools[~all_schools['SCHRB'].isna() & (all_schools['ID'] != 999.0)]\n",
    "all_schools = all_schools[~all_schools['SCHRB'].isna() &\n",
    "                          (all_schools['ID'] != 999.0) & \n",
    "                          (all_schools['ID'] != 0.0) &\n",
    "                          (all_schools['UID'] != 100284.0)] \n",
    "\n",
    "# Create unique id\n",
    "all_schools['unique_id'] = all_schools['SCHID']*1000 + all_schools['ID']\n",
    "all_schools['unique_id'] = all_schools['unique_id'].astype(int)\n",
    "\n",
    "# Convert treatment variables to numeric\n",
    "def extract_numeric(x):\n",
    "    match = re.search(r'\\(?([0-9,.]+)\\)?', str(x))\n",
    "    return float(match.group(1)) if match else np.nan\n",
    "\n",
    "all_schools['TREAT_NUMERIC'] = all_schools['TREAT'].apply(extract_numeric).fillna(0.0).astype(int)\n",
    "all_schools['SCHTREAT_NUMERIC'] = all_schools['SCHTREAT'].apply(extract_numeric).fillna(0.0).astype(int)\n",
    "# \n",
    "# # Create indicator of eligible units\n",
    "all_schools['ELIGIBLE'] = (all_schools['TREAT_NUMERIC'] != 0.0).fillna(0.0).astype(int)\n",
    "# all_schools['ELIGIBLE'] = all_schools['ELIGIBLE'].fillna(0)\n",
    "# \n",
    "# # Numeric version of OUTOFBLOCK\n",
    "all_schools['OUTOFBLOCK_NUMERIC'] = all_schools['OUTOFBLOCK'].apply(extract_numeric).fillna(0.0).astype(int)\n",
    "# \n",
    "# # Get numeric version of outcome (wearing orange band)\n",
    "all_schools['WRISTOW2_NUMERIC'] = all_schools['WRISTOW2'].apply(extract_numeric).fillna(0.0).astype(int)\n",
    "\n",
    "N_all = all_schools.shape[0]\n",
    "N_elig = all_schools['ELIGIBLE'].sum()\n",
    "print(\"N subject:\" , N_all,\n",
    "      \"N eligible:\", N_elig)"
   ],
   "outputs": [
    {
     "name": "stdout",
     "output_type": "stream",
     "text": [
      "N subject: 24182 N eligible: 2943\n"
     ]
    },
    {
     "name": "stderr",
     "output_type": "stream",
     "text": [
      "C:\\Users\\bar21\\AppData\\Local\\Temp\\ipykernel_21040\\1760337585.py:12: SettingWithCopyWarning: \n",
      "A value is trying to be set on a copy of a slice from a DataFrame.\n",
      "Try using .loc[row_indexer,col_indexer] = value instead\n",
      "\n",
      "See the caveats in the documentation: https://pandas.pydata.org/pandas-docs/stable/user_guide/indexing.html#returning-a-view-versus-a-copy\n",
      "  all_schools['unique_id'] = all_schools['SCHID']*1000 + all_schools['ID']\n",
      "C:\\Users\\bar21\\AppData\\Local\\Temp\\ipykernel_21040\\1760337585.py:13: SettingWithCopyWarning: \n",
      "A value is trying to be set on a copy of a slice from a DataFrame.\n",
      "Try using .loc[row_indexer,col_indexer] = value instead\n",
      "\n",
      "See the caveats in the documentation: https://pandas.pydata.org/pandas-docs/stable/user_guide/indexing.html#returning-a-view-versus-a-copy\n",
      "  all_schools['unique_id'] = all_schools['unique_id'].astype(int)\n",
      "C:\\Users\\bar21\\AppData\\Local\\Temp\\ipykernel_21040\\1760337585.py:20: SettingWithCopyWarning: \n",
      "A value is trying to be set on a copy of a slice from a DataFrame.\n",
      "Try using .loc[row_indexer,col_indexer] = value instead\n",
      "\n",
      "See the caveats in the documentation: https://pandas.pydata.org/pandas-docs/stable/user_guide/indexing.html#returning-a-view-versus-a-copy\n",
      "  all_schools['TREAT_NUMERIC'] = all_schools['TREAT'].apply(extract_numeric).fillna(0.0).astype(int)\n",
      "C:\\Users\\bar21\\AppData\\Local\\Temp\\ipykernel_21040\\1760337585.py:21: SettingWithCopyWarning: \n",
      "A value is trying to be set on a copy of a slice from a DataFrame.\n",
      "Try using .loc[row_indexer,col_indexer] = value instead\n",
      "\n",
      "See the caveats in the documentation: https://pandas.pydata.org/pandas-docs/stable/user_guide/indexing.html#returning-a-view-versus-a-copy\n",
      "  all_schools['SCHTREAT_NUMERIC'] = all_schools['SCHTREAT'].apply(extract_numeric).fillna(0.0).astype(int)\n",
      "C:\\Users\\bar21\\AppData\\Local\\Temp\\ipykernel_21040\\1760337585.py:24: SettingWithCopyWarning: \n",
      "A value is trying to be set on a copy of a slice from a DataFrame.\n",
      "Try using .loc[row_indexer,col_indexer] = value instead\n",
      "\n",
      "See the caveats in the documentation: https://pandas.pydata.org/pandas-docs/stable/user_guide/indexing.html#returning-a-view-versus-a-copy\n",
      "  all_schools['ELIGIBLE'] = (all_schools['TREAT_NUMERIC'] != 0.0).fillna(0.0).astype(int)\n",
      "C:\\Users\\bar21\\AppData\\Local\\Temp\\ipykernel_21040\\1760337585.py:28: SettingWithCopyWarning: \n",
      "A value is trying to be set on a copy of a slice from a DataFrame.\n",
      "Try using .loc[row_indexer,col_indexer] = value instead\n",
      "\n",
      "See the caveats in the documentation: https://pandas.pydata.org/pandas-docs/stable/user_guide/indexing.html#returning-a-view-versus-a-copy\n",
      "  all_schools['OUTOFBLOCK_NUMERIC'] = all_schools['OUTOFBLOCK'].apply(extract_numeric).fillna(0.0).astype(int)\n",
      "C:\\Users\\bar21\\AppData\\Local\\Temp\\ipykernel_21040\\1760337585.py:31: SettingWithCopyWarning: \n",
      "A value is trying to be set on a copy of a slice from a DataFrame.\n",
      "Try using .loc[row_indexer,col_indexer] = value instead\n",
      "\n",
      "See the caveats in the documentation: https://pandas.pydata.org/pandas-docs/stable/user_guide/indexing.html#returning-a-view-versus-a-copy\n",
      "  all_schools['WRISTOW2_NUMERIC'] = all_schools['WRISTOW2'].apply(extract_numeric).fillna(0.0).astype(int)\n"
     ]
    }
   ],
   "execution_count": 107
  },
  {
   "cell_type": "code",
   "id": "4007197633897760",
   "metadata": {},
   "source": [
    "# Get subset of 'all_schools' with relevant columns for analysis (outcome, treatents, covariates)\n",
    "df_subset = all_schools[['SCHID', 'SCHTREAT_NUMERIC', 'TREAT_NUMERIC', 'unique_id', 'ELIGIBLE', 'WRISTOW2_NUMERIC']]\n",
    "# cov_list = [\"GENC\", \"GRC\", \"ETHW\", \"ETHB\", \"ETHH\", \"ETHA\", \"ETHC\", \"ETHSA\",\"MOVE\", \"FSCH\",\"LIVEWB\", \"ACTSS\", \"ACTT\", \"ACTM\", \"ACTR\",\"GAME\", \"FLIB\"]\n",
    "# cov_list = [\"GENC\", \"GRC\", \"ETHW\", \"ETHB\", \"ETHH\", \"ETHA\", \"ETHC\", \"ETHSA\", \"MOVE\", \"ACTSS\", \"ACTT\", \"ACTM\", \"ACTR\", \"FLIB\", \"GAME\"]\n",
    "cov_list = [\"GENC\", \"GRC\", \"ETHW\", \"ETHB\", \"ETHH\", \"ETHA\", \"ETHC\", \"ETHSA\", \"ACTSS\", \"ACTT\", \"ACTM\", \"ACTR\", \"GAME\"]\n",
    "# cov_list = [\"GENC\", \"GRC\", \"ETHW\", \"ETHB\", \"ETHH\", \"ETHA\", \"ETHC\", \"ETHSA\", \"MOVE\"]\n",
    "for cov in cov_list:\n",
    "    if type(all_schools[cov].iloc[1])==str:\n",
    "        val = all_schools[cov].apply(extract_numeric).fillna(0.0).astype(int)\n",
    "        # df_subset.loc[:,cov] = val\n",
    "        df_subset = df_subset.assign(**{cov: val})\n",
    "    else:\n",
    "        # df_subset.loc[:,cov] = all_schools[cov]\n",
    "        df_subset = df_subset.assign(**{cov: all_schools[cov]})\n",
    "        \n",
    "# Get dummies of 'GRC' (grade) variable\n",
    "GRC_dummy = pd.get_dummies(df_subset['GRC'], drop_first=True).astype(int)\n",
    "GRC_dummy.columns = ['GRC_' + str(col) for col in [6,7,8]]\n",
    "df_subset = pd.concat([df_subset.drop(columns=['GRC']), GRC_dummy], axis=1)\n",
    "df_subset.describe()\n",
    "print(df_subset.shape)"
   ],
   "outputs": [],
   "execution_count": null
  },
  {
   "metadata": {},
   "cell_type": "code",
   "source": [
    "pd.crosstab(df_subset[\"SCHTREAT_NUMERIC\"], df_subset[\"WRISTOW2_NUMERIC\"])\n",
    "# pd.crosstab(df_subset[\"ELIGIBLE\"], df_subset[\"WRISTOW2_NUMERIC\"])\n",
    "# Almost no one in the control schools is wearing the orange band"
   ],
   "id": "98c78ea2cc80a47b",
   "outputs": [],
   "execution_count": null
  },
  {
   "metadata": {},
   "cell_type": "code",
   "source": "pd.crosstab(df_subset[\"SCHTREAT_NUMERIC\"], df_subset[\"ELIGIBLE\"])\n",
   "id": "5ccea3c96ac8c8d7",
   "outputs": [],
   "execution_count": null
  },
  {
   "cell_type": "code",
   "id": "7895a3899d3a1a50",
   "metadata": {},
   "source": "pd.crosstab(df_subset[\"TREAT_NUMERIC\"], df_subset[\"ELIGIBLE\"])",
   "outputs": [],
   "execution_count": null
  },
  {
   "cell_type": "code",
   "id": "443fe023d7f4e6d2",
   "metadata": {},
   "source": [
    "all_schools['SCHID'].value_counts().describe()"
   ],
   "outputs": [],
   "execution_count": null
  },
  {
   "metadata": {},
   "cell_type": "code",
   "source": "all_schools['SCHTREAT_NUMERIC'].value_counts()\n",
   "id": "d9c1aaffd42c8c1",
   "outputs": [],
   "execution_count": null
  },
  {
   "metadata": {},
   "cell_type": "code",
   "source": "len(np.unique(all_schools[all_schools['SCHTREAT_NUMERIC']==1.0]['SCHID']))",
   "id": "4b0297722c1e7d81",
   "outputs": [],
   "execution_count": null
  },
  {
   "cell_type": "code",
   "id": "8dd5b423488457e1",
   "metadata": {},
   "source": [
    "all_schools[all_schools['SCHTREAT_NUMERIC']==0.0].groupby('SCHID')['TREAT_NUMERIC'].value_counts()\n",
    "# all_schools[all_schools['SCHTREAT_NUMERIC']==1.0].groupby('SCHID')['WRISTOW2_NUMERIC'].value_counts()"
   ],
   "outputs": [],
   "execution_count": null
  },
  {
   "cell_type": "code",
   "id": "6dd71093d80f8d29",
   "metadata": {},
   "source": [
    "school_treat = all_schools[['SCHID', 'SCHTREAT_NUMERIC']].groupby('SCHID').agg({'SCHTREAT_NUMERIC': ['mean', 'count']}).reset_index()\n",
    "school_treat"
   ],
   "outputs": [],
   "execution_count": null
  },
  {
   "cell_type": "code",
   "id": "9c2658b27730aec8",
   "metadata": {},
   "source": [
    "def network_by_school(df: np.ndarray, school_id: float | int , cols: list[str]) -> np.ndarray:\n",
    "    # Save subset of df\n",
    "    # school_df = df[df['SCHID'] == school_id]\n",
    "    school_mask = df['SCHID'] == school_id\n",
    "    school_df = df[school_mask].copy()  # Create a copy to avoid warnings\n",
    "    school_df['unique_id'] = (school_df['SCHID']*1000 + school_df['ID']).astype(int)\n",
    "    # school_df['unique_id'] = school_df['unique_id'].astype(int)\n",
    "    # Replace 999 with NaN as 999 is the code for missing values\n",
    "    for col in cols:\n",
    "        row_mask = school_df[col] == 999\n",
    "        # school_df[col][row_mask] = np.nan\n",
    "        school_df.loc[row_mask,col] = np.nan\n",
    "        # school_df[col][school_df[col] == 999] = np.nan\n",
    "    # Add SCHID * 1000 to survey data (to obtain edge list with `unique_id` values)  \n",
    "    for col in cols:\n",
    "        school_df[col] += school_df['SCHID'] * 1000\n",
    "    # Save edgelists\n",
    "    school_edgelist = []\n",
    "    for col in cols:\n",
    "        school_edgelist.extend(zip(school_df['unique_id'], school_df[col]))\n",
    "        \n",
    "    valid_ids = set(school_df['unique_id'])\n",
    "    school_edgelist = [\n",
    "        (int(a), int(b)) \n",
    "        for a, b in school_edgelist \n",
    "        if not np.isnan(a) and not np.isnan(b) \n",
    "        and int(a) in valid_ids and int(b) in valid_ids\n",
    "        and int(a) != int(b)\n",
    "    ]\n",
    "    # Add selfloops\n",
    "    for id in valid_ids:\n",
    "        school_edgelist.append((id, id))\n",
    "    # Convert to nx graph\n",
    "    school_network = nx.Graph(school_edgelist)\n",
    "    # remove self loops\n",
    "    school_network.remove_edges_from(nx.selfloop_edges(school_network))\n",
    "    \n",
    "    nx.draw_circular(school_network, \n",
    "            node_color = school_df['TREAT_NUMERIC'],\n",
    "            node_size=[school_network.degree(node) + 1 for node in school_network.nodes()],\n",
    "            width=0.15)\n",
    "\n",
    "    \n",
    "    # return adj. matrix\n",
    "    return nx.to_numpy_array(school_network)\n"
   ],
   "outputs": [],
   "execution_count": null
  },
  {
   "cell_type": "code",
   "id": "42e61dbe4388a537",
   "metadata": {},
   "source": [
    "ST_cols = ['ST1', 'ST2', 'ST3', 'ST4', 'ST5', 'ST6', 'ST7', 'ST8', 'ST9', 'ST10']\n",
    "ST_W2_cols = ['ST1W2', 'ST2W2', 'ST3W2', 'ST4W2', 'ST5W2', 'ST6W2', 'ST7W2', 'ST8W2', 'ST9W2', 'ST10W2']\n",
    "BF_cols = ['BF1', 'BF2']\n",
    "tst_net = network_by_school(all_schools, school_treat.iloc[0,0], ST_cols)\n",
    "tst_new_W2 = network_by_school(all_schools, school_treat.iloc[0,0], ST_W2_cols)\n",
    "tst_new_BF = network_by_school(all_schools, school_treat.iloc[0,0], BF_cols)\n",
    "\n",
    "print(tst_net.shape, school_treat.iloc[0,2], type(tst_net))\n",
    "print(tst_new_W2.shape, school_treat.iloc[0,2], type(tst_new_W2))\n",
    "print(tst_new_BF.shape, school_treat.iloc[0,2], type(tst_new_BF))\n",
    "eig_cen = aux.eigen_centrality(tst_net)\n",
    "print(np.mean(eig_cen), np.min(eig_cen), np.max(eig_cen), np.median(eig_cen))\n",
    "\n",
    "trts = jnp.array((all_schools[all_schools['SCHID'] == school_treat.iloc[0,0]]['TREAT_NUMERIC']==1).astype(int))\n",
    "cntrl = jnp.array((all_schools[all_schools['SCHID'] == school_treat.iloc[0,0]]['TREAT_NUMERIC']==2).astype(int))\n",
    "print(trts.shape, trts.mean())\n",
    "print(cntrl.shape, cntrl.mean())\n",
    "zeigen = aux.zeigen_value(trts, eig_cen , tst_net)\n",
    "print(\"Zeigen:\", np.mean(zeigen), np.min(zeigen), np.max(zeigen), np.median(zeigen))\n",
    "zeigen_standratized = (aux.zeigen_value(trts, eig_cen , tst_net)) / (jnp.dot(tst_net, eig_cen)+1)\n",
    "print(\"Zegien / sum_eigcen:\", np.mean(zeigen_standratized), np.min(zeigen_standratized), np.max(zeigen_standratized), np.median(zeigen_standratized))\n",
    "n_trts = jnp.dot(tst_net, trts) \n",
    "print(np.mean(n_trts), np.min(n_trts), np.max(n_trts), np.median(n_trts), np.std(n_trts))\n",
    "n_cntrl = jnp.dot(tst_net, cntrl)\n",
    "print(np.mean(n_cntrl), np.min(n_cntrl), np.max(n_cntrl), np.median(n_cntrl), np.std(n_cntrl))\n",
    "# plt.hist(np.sum(tst_net, 1), bins=30)"
   ],
   "outputs": [],
   "execution_count": null
  },
  {
   "cell_type": "code",
   "id": "a2a90bfb9f89ca77",
   "metadata": {},
   "source": [
    "plt.hist(n_trts , bins=30)\n",
    "print(np.mean(n_trts>0), np.mean(n_cntrl>0), np.mean(((n_trts > 0) | (n_cntrl > 0))))\n",
    "# plt.scatter(zeigen, np.dot(tst_net, trts), c=trts)\n",
    "# plt.scatter(n_trts[n_trts>0], zeigen_standratized[n_trts>0], c=trts[n_trts>0])\n",
    "# plt.scatter(zeigen, zeigen_standratized, c=trts)"
   ],
   "outputs": [],
   "execution_count": null
  },
  {
   "cell_type": "code",
   "id": "f44bb567798fba31",
   "metadata": {},
   "source": [
    "tab_df = pd.DataFrame({'n_trt': n_trts>0, 'zeig': zeigen >0})\n",
    "pd.crosstab(tab_df['n_trt'], tab_df['zeig'])"
   ],
   "outputs": [],
   "execution_count": null
  },
  {
   "cell_type": "code",
   "id": "10f2d7ef3dc1ce0c",
   "metadata": {},
   "source": [
    "# Get df for network analysis\n",
    "# generate covariates as indicator of equality in unit-level covariates: X_ij = I(X_i = X_j)\n",
    "\n",
    "school_mask = df_subset['SCHID'] == school_treat.iloc[0,0]\n",
    "school_df = df_subset[school_mask].copy()  # Create a copy to avoid warnings\n",
    "\n",
    "idx_pairs = list(combinations(range(school_df.shape[0]), 2))\n",
    "\n",
    "def cov_equal(X: pd.DataFrame, idx_pairs: list) -> list[int]:\n",
    "    return [int(np.all(X.iloc[i] == X.iloc[j])) for i, j in idx_pairs]\n",
    "\n",
    "def create_net_covar_df(df: pd.DataFrame, cov_groups: list) -> pd.DataFrame:\n",
    "    idx_pairs = list(combinations(range(df.shape[0]), 2))\n",
    "    cov_eq = [cov_equal(df[cov], idx_pairs) for cov in cov_groups]\n",
    "    df_network = pd.DataFrame(dict(zip(['+'.join(cov) for cov in cov_groups], cov_eq)))\n",
    "   \n",
    "    expected_rows = df.shape[0] * (df.shape[0] - 1) // 2\n",
    "    assert df_network.shape[0] == expected_rows, f\"Expected {expected_rows} rows, got {df_network.shape[0]}\"\n",
    "    \n",
    "    return df_network\n",
    "    \n",
    "cov_for_network = [[\"GENC\"],\n",
    "                   [\"ETHW\", \"ETHB\", \"ETHH\", \"ETHA\", \"ETHC\", \"ETHSA\"],\n",
    "                   # [\"ACTSS\", \"ACTT\", \"ACTM\", \"ACTR\"],\n",
    "                   [\"GAME\"],\n",
    "                   [\"GRC_6\", \"GRC_7\", \"GRC_8\"]]\n",
    "# cov_eq = [cov_equal(school_df[cov], idx_pairs) for cov in cov_for_network]\n",
    "# df_for_network = pd.DataFrame(cov_eq).T\n",
    "# df_for_network.columns = [\"GENC\", \"ETH\", \"MOVE\", \"FSCH\", \"LIVEWB\", \"ACT\", \"GAME\", \"FLIB\", \"GRC\"]\n",
    "df_for_network = create_net_covar_df(school_df, cov_for_network)\n",
    "\n",
    "print(school_df.shape[0]*(school_df.shape[0]-1)/2, df_for_network.shape[0])\n",
    "print(df_for_network.describe())\n",
    "    "
   ],
   "outputs": [],
   "execution_count": null
  },
  {
   "cell_type": "code",
   "id": "d5fbe65df113e04e",
   "metadata": {},
   "source": [
    "print(jnp.array(df_for_network).shape, jnp.array(df_for_network).sum(axis=1).mean())"
   ],
   "outputs": [],
   "execution_count": null
  },
  {
   "cell_type": "code",
   "id": "e7f9e30a1b924c4b",
   "metadata": {},
   "source": [
    "# # adj mat to triu vals\n",
    "# @jit\n",
    "# def adj_to_triu(mat: np.ndarray) -> jnp.ndarray:\n",
    "#     return jnp.array(mat[np.triu_indices(mat.shape[0], k=1)])\n",
    "\n",
    "def adj_to_triu(mat: np.ndarray) -> np.ndarray:\n",
    "    return mat[np.triu_indices(mat.shape[0], k=1)]\n",
    "\n",
    "triu_sch = adj_to_triu(tst_net)\n",
    "print(triu_sch.shape, triu_sch.sum(), tst_net.sum()/2, type(triu_sch))\n"
   ],
   "outputs": [],
   "execution_count": null
  },
  {
   "cell_type": "code",
   "id": "2f52a500d4c7783a",
   "metadata": {},
   "source": [
    "print(jnp.array([adj_to_triu(tst_net), adj_to_triu(tst_new_W2)]).shape)\n",
    "print(jnp.array([adj_to_triu(tst_net), adj_to_triu(tst_new_W2)])[0,:].shape)\n",
    "print(jnp.array([adj_to_triu(tst_net), adj_to_triu(tst_new_W2)])[1,:].shape)\n",
    "print(jnp.array([adj_to_triu(tst_net), adj_to_triu(tst_new_W2)]).ndim)\n",
    "print(jnp.array(adj_to_triu(tst_net)).ndim)\n",
    "print(jnp.array(adj_to_triu(tst_net)).shape)"
   ],
   "outputs": [],
   "execution_count": null
  },
  {
   "metadata": {},
   "cell_type": "code",
   "source": [
    "print(jnp.array(df_for_network).shape)\n",
    "print(jnp.dot(jnp.array(df_for_network),jnp.ones(4)).shape)\n"
   ],
   "id": "1945d704cd7eb5c4",
   "outputs": [],
   "execution_count": null
  },
  {
   "metadata": {},
   "cell_type": "code",
   "source": "torch.from_numpy(adj_to_triu(tst_net)).shape",
   "id": "327dbbc4980f1be1",
   "outputs": [],
   "execution_count": null
  },
  {
   "metadata": {},
   "cell_type": "code",
   "source": "torch.tensor(np.array(df_for_network)).shape[1]\n",
   "id": "5f678f1da98a64f2",
   "outputs": [],
   "execution_count": null
  },
  {
   "metadata": {},
   "cell_type": "code",
   "source": [
    "tst_ST_triu = torch.tensor(adj_to_triu(tst_net),dtype=torch.float32)\n",
    "tst_STW2_triu = torch.tensor(adj_to_triu(tst_new_W2),dtype=torch.float32)\n",
    "tst_BF_triu = torch.tensor(adj_to_triu(tst_new_BF),dtype=torch.float32)"
   ],
   "id": "848148f57bdab8d4",
   "outputs": [],
   "execution_count": null
  },
  {
   "metadata": {
    "ExecuteTime": {
     "end_time": "2024-09-04T07:21:02.585009Z",
     "start_time": "2024-09-04T07:21:02.367537Z"
    }
   },
   "cell_type": "code",
   "source": [
    "rng_key = random.PRNGKey(1)\n",
    "rng_key, rng_key_ = random.split(rng_key)\n",
    "\n",
    "school_svi_tst = util.Network_SVI(x_df = torch.tensor(np.array(df_for_network), dtype=torch.float32), \n",
    "                                  # triu_obs = torch.tensor(adj_to_triu(tst_net),dtype=torch.float32))\n",
    "                                  triu_obs = torch.stack([tst_ST_triu, tst_STW2_triu]),\n",
    "                                  # triu_obs = torch.stack([tst_ST_triu, tst_BF_triu]),\n",
    "                                  # network_model=models.multilayer_networks_model)\n",
    "                                  network_model=models.repeated_noisy_networks_model,\n",
    "                                  n_iter = 1000,\n",
    "                                  n_samples = 1000)\n",
    "\n",
    "school_svi_tst.train_model()"
   ],
   "id": "40868a82d1d0d8eb",
   "outputs": [
    {
     "name": "stderr",
     "output_type": "stream",
     "text": [
      "[autoreload of wrapper_functions failed: Traceback (most recent call last):\n",
      "  File \"C:\\Users\\bar21\\.conda\\envs\\STAT\\Lib\\site-packages\\IPython\\extensions\\autoreload.py\", line 276, in check\n",
      "    superreload(m, reload, self.old_objects)\n",
      "    \n",
      "  File \"C:\\Users\\bar21\\.conda\\envs\\STAT\\Lib\\site-packages\\IPython\\extensions\\autoreload.py\", line 475, in superreload\n",
      "    module = reload(module)\n",
      "    \n",
      "  File \"C:\\Users\\bar21\\.conda\\envs\\STAT\\Lib\\importlib\\__init__.py\", line 169, in reload\n",
      "    _bootstrap._exec(spec, module)\n",
      "    \n",
      "  File \"<frozen importlib._bootstrap>\", line 621, in _exec\n",
      "  File \"<frozen importlib._bootstrap_external>\", line 936, in exec_module\n",
      "  File \"<frozen importlib._bootstrap_external>\", line 1074, in get_code\n",
      "  File \"<frozen importlib._bootstrap_external>\", line 1004, in source_to_code\n",
      "  File \"<frozen importlib._bootstrap>\", line 241, in _call_with_frames_removed\n",
      "  File \"C:\\Users\\bar21\\Dropbox\\My PC (LAPTOP-6NAJD2IQ)\\Desktop\\Gate\\University\\TAU\\PhD\\Writing\\Drafts\\Sampled networks\\Bayes_incorrect_network\\Data\\Palluck_et_al\\wrapper_functions.py\", line 85\n",
      "    def posterior_exposures_\n",
      "                            ^\n",
      "SyntaxError: expected '('\n",
      "]\n"
     ]
    },
    {
     "ename": "NameError",
     "evalue": "name 'df_for_network' is not defined",
     "output_type": "error",
     "traceback": [
      "\u001B[1;31m---------------------------------------------------------------------------\u001B[0m",
      "\u001B[1;31mNameError\u001B[0m                                 Traceback (most recent call last)",
      "Cell \u001B[1;32mIn[79], line 4\u001B[0m\n\u001B[0;32m      1\u001B[0m rng_key \u001B[38;5;241m=\u001B[39m random\u001B[38;5;241m.\u001B[39mPRNGKey(\u001B[38;5;241m1\u001B[39m)\n\u001B[0;32m      2\u001B[0m rng_key, rng_key_ \u001B[38;5;241m=\u001B[39m random\u001B[38;5;241m.\u001B[39msplit(rng_key)\n\u001B[1;32m----> 4\u001B[0m school_svi_tst \u001B[38;5;241m=\u001B[39m util\u001B[38;5;241m.\u001B[39mNetwork_SVI(x_df \u001B[38;5;241m=\u001B[39m torch\u001B[38;5;241m.\u001B[39mtensor(np\u001B[38;5;241m.\u001B[39marray(\u001B[43mdf_for_network\u001B[49m), dtype\u001B[38;5;241m=\u001B[39mtorch\u001B[38;5;241m.\u001B[39mfloat32), \n\u001B[0;32m      5\u001B[0m                                   \u001B[38;5;66;03m# triu_obs = torch.tensor(adj_to_triu(tst_net),dtype=torch.float32))\u001B[39;00m\n\u001B[0;32m      6\u001B[0m                                   triu_obs \u001B[38;5;241m=\u001B[39m torch\u001B[38;5;241m.\u001B[39mstack([tst_ST_triu, tst_STW2_triu]),\n\u001B[0;32m      7\u001B[0m                                   \u001B[38;5;66;03m# triu_obs = torch.stack([tst_ST_triu, tst_BF_triu]),\u001B[39;00m\n\u001B[0;32m      8\u001B[0m                                   \u001B[38;5;66;03m# network_model=models.multilayer_networks_model)\u001B[39;00m\n\u001B[0;32m      9\u001B[0m                                   network_model\u001B[38;5;241m=\u001B[39mmodels\u001B[38;5;241m.\u001B[39mrepeated_noisy_networks_model,\n\u001B[0;32m     10\u001B[0m                                   n_iter \u001B[38;5;241m=\u001B[39m \u001B[38;5;241m1000\u001B[39m,\n\u001B[0;32m     11\u001B[0m                                   n_samples \u001B[38;5;241m=\u001B[39m \u001B[38;5;241m1000\u001B[39m)\n\u001B[0;32m     13\u001B[0m school_svi_tst\u001B[38;5;241m.\u001B[39mtrain_model()\n",
      "\u001B[1;31mNameError\u001B[0m: name 'df_for_network' is not defined"
     ]
    }
   ],
   "execution_count": 79
  },
  {
   "metadata": {},
   "cell_type": "code",
   "source": "school_posterior_samps_svi = school_svi_tst.network_samples()",
   "id": "371ecd8027933abd",
   "outputs": [],
   "execution_count": null
  },
  {
   "metadata": {},
   "cell_type": "code",
   "source": "school_posterior_samps_svi.shape",
   "id": "9afe595a3cbb1ffa",
   "outputs": [],
   "execution_count": null
  },
  {
   "metadata": {},
   "cell_type": "code",
   "source": [
    "school_triu_obs_pred = school_svi_tst.sample_triu_obs_predictive(num_samples = 10000)\n",
    "school_triu_obs_pred.shape"
   ],
   "id": "2c79a2faa7bb43fd",
   "outputs": [],
   "execution_count": null
  },
  {
   "metadata": {},
   "cell_type": "code",
   "source": "school_triu_obs_pred[0,0].shape",
   "id": "4ba7df9bec76a69d",
   "outputs": [],
   "execution_count": null
  },
  {
   "metadata": {},
   "cell_type": "code",
   "source": "school_triu_obs_pred.std(axis=0)",
   "id": "65d2f205fed0ed88",
   "outputs": [],
   "execution_count": null
  },
  {
   "metadata": {},
   "cell_type": "code",
   "source": [
    "def triu_to_mat(triu_values, N):\n",
    "    \"\"\"\n",
    "    Convert upper triangular values to a full adjacency matrix.\n",
    "    \n",
    "    Parameters:\n",
    "    triu_values (torch.Tensor): Upper triangular values, shape (num_triu_elements,)\n",
    "    N (int): Number of nodes in the network\n",
    "    \n",
    "    Returns:\n",
    "    torch.Tensor: Full adjacency matrix, shape (N, N)\n",
    "    \"\"\"\n",
    "    # Create an empty N x N matrix\n",
    "    adj_matrix = torch.zeros((N, N), dtype=triu_values.dtype)\n",
    "    \n",
    "    # Get the indices for the upper triangular part\n",
    "    triu_indices = torch.triu_indices(N, N, offset=1)\n",
    "    \n",
    "    # Fill the upper triangular part\n",
    "    adj_matrix[triu_indices[0], triu_indices[1]] = triu_values\n",
    "    \n",
    "    # Make the matrix symmetric by adding its transpose\n",
    "    adj_matrix = adj_matrix + adj_matrix.T\n",
    "    \n",
    "    return adj_matrix\n",
    "\n",
    "N_units = school_df.shape[0]\n",
    "\n",
    "degs_post = torch.zeros(N_units, dtype=school_triu_obs_pred.dtype)\n",
    "degs_post2 = torch.zeros(N_units, dtype=school_triu_obs_pred.dtype)\n",
    "deg_post_star = torch.zeros(N_units, dtype=school_triu_obs_pred.dtype)\n",
    "\n",
    "for i in tqdm(range(10000)):\n",
    "    mat_i = triu_to_mat(school_triu_obs_pred[0,i], N_units)\n",
    "    mat_i2 = triu_to_mat(school_triu_obs_pred[1,i], N_units)\n",
    "    cur_deg = mat_i.sum(axis=1)\n",
    "    cur_deg2 = mat_i2.sum(axis=1)\n",
    "    degs_post += cur_deg\n",
    "    degs_post2 += cur_deg2\n",
    "    star_mat_i = triu_to_mat(torch.from_numpy(np.array(school_posterior_samps_svi[i])), N_units)\n",
    "    deg_post_star += star_mat_i.sum(axis=1)\n",
    "\n",
    "degs_post /= 10000\n",
    "degs_post2 /= 10000\n",
    "deg_post_star /= 10000\n",
    "\n",
    "# obs_deg = torch.tensor((tst_new_W2.sum(axis=1) + tst_net.sum(axis=1))/2, dtype=deg_post_star.dtype)\n",
    "obs_deg = torch.tensor(tst_net.sum(axis=1), dtype=deg_post_star.dtype)\n",
    "obs_deg2 = torch.tensor(tst_new_BF.sum(axis=1), dtype=deg_post_star.dtype)\n",
    "\n",
    "# print(\"MAE:\", torch.mean(torch.abs((obs_deg - degs_post))))\n",
    "\n",
    "# plt.figure(figsize=(4,3))\n",
    "# plt.scatter(obs_deg, degs_post)\n",
    "# x axis label = \"Observed degree\"\n",
    "# y axis label = \"Posterior predictive degree\"\n",
    "# plt.xlabel(\"Observed degree\")\n",
    "# plt.ylabel(\"Posterior predictive degree\")\n",
    "# plt.axline((0, 0), slope=1, color=\"orange\", linestyle=\"--\")   \n",
    "    "
   ],
   "id": "6fddc11297a8b15e",
   "outputs": [],
   "execution_count": null
  },
  {
   "metadata": {},
   "cell_type": "code",
   "source": [
    "# plt.figure(figsize=(4,3))\n",
    "fig, (ax1, ax2) = plt.subplots(1, 2, figsize=(8, 4))\n",
    "\n",
    "# plt.scatter(obs_deg, deg_post_star)\n",
    "ax1.scatter(obs_deg, degs_post)\n",
    "ax1.axline((0, 0), slope=1, color=\"orange\", linestyle=\"--\")\n",
    "ax2.scatter(obs_deg2, degs_post2)\n",
    "ax2.axline((0, 0), slope=1, color=\"orange\", linestyle=\"--\")\n",
    "# x axis label = \"Observed degree\"\n",
    "# y axis label = \"Posterior predictive degree\"\n",
    "# plt.xlabel(\"Observed degree\")\n",
    "# plt.ylabel(\"Posterior star degree\")\n",
    "# plt.axline((0, 0), slope=1, color=\"orange\", linestyle=\"--\")  "
   ],
   "id": "87d00224b0feddd6",
   "outputs": [],
   "execution_count": null
  },
  {
   "metadata": {},
   "cell_type": "code",
   "source": [
    "plt.figure(figsize=(4,3))\n",
    "plt.scatter(obs_deg, deg_post_star)\n",
    "plt.axline((0, 0), slope=1, color=\"orange\", linestyle=\"--\")"
   ],
   "id": "abb7973616b4db2a",
   "outputs": [],
   "execution_count": null
  },
  {
   "cell_type": "code",
   "id": "fa12096f4814174",
   "metadata": {},
   "source": [
    "# TODO: Think the outcome analysis should be limited to the eligible students only (due to positivity)\n",
    "# TODO: think about estimands. Good options is to take stochastic estimands with different alphas (e.g., alpha = 0.3,0.5,0.7) vs baseline of treating no one\n",
    "# TODO: limit outcome analysis for only students in SCHTREAT == 1 as other schools are not given the outcome.\n",
    "# Nonetheless, the network analysis should be done on the full network of each school (avoid network sampling)\n"
   ],
   "outputs": [],
   "execution_count": null
  },
  {
   "metadata": {},
   "cell_type": "code",
   "source": [
    "\n",
    "def group_indicators_to_indices(df):\n",
    "    \"\"\"\n",
    "    Convert a DataFrame of binary group indicators to a vector of indices.\n",
    "    Parameters:\n",
    "    df (pandas.DataFrame): N x K DataFrame of binary indicators.\n",
    "                           Each row should sum to 1.\n",
    "    Returns:\n",
    "    numpy.ndarray: N-length vector of indices in the range [0, K-1]\n",
    "    \"\"\"\n",
    "    # Check if each row sums to 1\n",
    "    if not (df.sum(axis=1) == 1).all():\n",
    "        raise ValueError(\"Each row in the DataFrame must sum to 1\")\n",
    "    \n",
    "    indices = jnp.argmax(df.values, axis=1)\n",
    "    \n",
    "    return indices"
   ],
   "id": "c7bff732d4df80fc",
   "outputs": [],
   "execution_count": null
  },
  {
   "metadata": {},
   "cell_type": "code",
   "source": [
    "school_df_eligibles = school_df[school_df['ELIGIBLE']==1]\n",
    "print(school_df.shape, school_df_eligibles.shape)\n",
    "tst_grades = group_indicators_to_indices(school_df_eligibles[['GRC_6', 'GRC_7', 'GRC_8']])\n",
    "print(len(np.unique(tst_grades)), tst_grades.shape, type(tst_grades))"
   ],
   "id": "10698d42f80ef85",
   "outputs": [],
   "execution_count": null
  },
  {
   "metadata": {},
   "cell_type": "code",
   "source": [
    "# school_df['SCHID'].values - 1\n",
    "fixed_df = jnp.array(school_df_eligibles[[\"GENC\", \"ETHW\", \"ETHH\", \"GAME\"]].values)\n",
    "# fixed_df = school_df_eligibles[[\"GENC\", \"ETHW\", \"ETHB\", \"ETHH\", \"ETHA\", \"ETHC\", \"GAME\"]].values\n",
    "# all_trts = jnp.array(school_df['TREAT_NUMERIC'].values - 1)\n",
    "all_trts = jnp.array(school_df['TREAT_NUMERIC'].values==2, dtype=int)\n",
    "# obs_trts = jnp.array(school_df_eligibles['TREAT_NUMERIC'].values - 1)\n",
    "obs_trts = jnp.array(school_df_eligibles['TREAT_NUMERIC'].values==2, dtype=int)\n",
    "obs_outcome = jnp.array(school_df_eligibles['WRISTOW2_NUMERIC'].values)\n",
    "sch_trt = jnp.array(school_df_eligibles['SCHTREAT_NUMERIC'].values)\n",
    "tst_school = jnp.array(school_df_eligibles['SCHID'].values - 1, dtype=int)\n",
    "\n",
    "exposures_all = util.zeigen_value(Z=all_trts, adj_mat=tst_net)\n",
    "exposures_elig = exposures_all[(school_df['ELIGIBLE']==1).values]\n",
    "# exposure_elig_sub = util.zeigen_value(Z=all_trts, adj_mat=tst_net, subset = (school_df['ELIGIBLE']==1).values)\n",
    "print(len(exposures_all), len(exposures_elig))\n",
    "print(fixed_df.shape, '\\n', obs_trts.shape, '\\n', obs_outcome.shape, '\\n', sch_trt.shape,\n",
    "      '\\n', tst_school.shape, '\\n', tst_grades.shape, '\\n', exposures_elig.shape)\n",
    "\n",
    "obs_data = {'X' : fixed_df, 'school' : tst_school,  'grade' : tst_grades,\n",
    "            'trts' : obs_trts, 'sch_trts' : sch_trt ,\n",
    "             'exposures' : exposures_elig, 'Y' : obs_outcome}"
   ],
   "id": "68a8f2f1639e84c5",
   "outputs": [],
   "execution_count": null
  },
  {
   "metadata": {},
   "cell_type": "code",
   "source": "print(len(jnp.unique(obs_data['school'])), len(jnp.unique(obs_data['grade'])))",
   "id": "bbdbbb243153b109",
   "outputs": [],
   "execution_count": null
  },
  {
   "metadata": {},
   "cell_type": "code",
   "source": [
    "# Outcome model with observed network\n",
    "rng_key = random.PRNGKey(0)\n",
    "_, rng_key = random.split(rng_key)\n",
    "\n",
    "outcome_obs = util.Outcome_MCMC(data=obs_data, rng_key=rng_key)\n"
   ],
   "id": "27ad81cb95166540",
   "outputs": [],
   "execution_count": null
  },
  {
   "metadata": {},
   "cell_type": "code",
   "source": [
    "# stoch_30 = util.stochastic_intervention(alpha=0.3, n=len(sch_trt))\n",
    "stoch_30 = util.stochastic_intervention(alpha=0.3, n=school_df.shape[0])\n",
    "exposures_stoch_30 = util.zeigen_value(Z=stoch_30, adj_mat=tst_net)\n",
    "print(exposures_stoch_30.shape, stoch_30.shape)\n",
    "stoch_30_elig = exposures_stoch_30[:,(school_df['ELIGIBLE']==1).values]\n",
    "exposures_stoch_30_elig = exposures_stoch_30[:,(school_df['ELIGIBLE']==1).values]\n",
    "stoch_70 = util.stochastic_intervention(alpha=0.7, n=school_df.shape[0])\n",
    "stoch_70_elig = stoch_70[:,(school_df['ELIGIBLE']==1).values]\n",
    "exposures_stoch_70 = util.zeigen_value(Z=stoch_70, adj_mat=tst_net)\n",
    "exposures_stoch_70_elig = exposures_stoch_70[:,(school_df['ELIGIBLE']==1).values]\n",
    "print(exposures_stoch_70.shape, stoch_70.shape, stoch_70_elig.shape, exposures_stoch_70_elig.shape)\n",
    "print(exposures_stoch_30.shape, stoch_30.shape, stoch_30_elig.shape, exposures_stoch_30_elig.shape)"
   ],
   "id": "1d383df6a2f84e1",
   "outputs": [],
   "execution_count": null
  },
  {
   "metadata": {},
   "cell_type": "code",
   "source": [
    "pred_stoch_30 = outcome_obs.get_predicted_values(trts = stoch_30_elig, exposures = exposures_stoch_30_elig)\n",
    "print(pred_stoch_30.shape)\n",
    "pred_stoch_70 = outcome_obs.get_predicted_values(trts = stoch_70_elig, exposures = exposures_stoch_70_elig)\n",
    "print(pred_stoch_70.shape)"
   ],
   "id": "b676e212774a8ec7",
   "outputs": [],
   "execution_count": null
  },
  {
   "metadata": {},
   "cell_type": "code",
   "source": [
    "post_esti =  jnp.mean(pred_stoch_70, axis=1) - jnp.mean(pred_stoch_30, axis=1)\n",
    "print(\"mean esti [95% CI]:\", jnp.mean(post_esti), jnp.percentile(post_esti, 2.5), jnp.percentile(post_esti, 97.5))\n",
    "\n",
    "plt.figure(figsize=(4,3))\n",
    "plt.hist(post_esti, bins=30, color='skyblue', density = True)\n"
   ],
   "id": "db60da4ac3c3af93",
   "outputs": [],
   "execution_count": null
  },
  {
   "metadata": {},
   "cell_type": "code",
   "source": [
    "post_obs_exposure = util.vectorized_post_exposures(school_posterior_samps_svi[0:1000], all_trts, all_trts.shape[0])\n",
    "print(post_obs_exposure.shape)\n",
    "post_obs_expos_elig = post_obs_exposure[:,(school_df['ELIGIBLE']==1).values]\n",
    "print(post_obs_expos_elig.shape)"
   ],
   "id": "2205ec63ee9892f5",
   "outputs": [],
   "execution_count": null
  },
  {
   "metadata": {},
   "cell_type": "code",
   "source": [
    "plt.figure(figsize=(4,3))\n",
    "# plt.scatter(post_obs_exposure.mean(axis=0), exposures_all)\n",
    "plt.scatter(post_obs_expos_elig.mean(axis=0), exposures_elig)\n",
    "plt.axline((0, 0), slope=1, color=\"orange\", linestyle=\"--\")"
   ],
   "id": "807d9c113af96c8f",
   "outputs": [],
   "execution_count": null
  },
  {
   "metadata": {},
   "cell_type": "code",
   "source": [
    "# Run onestage\n",
    "onestage_tst = util.Onestage_MCMC(obs_trts=obs_trts, post_exposures=post_obs_expos_elig.mean(axis=0), sch_trts=sch_trt, \n",
    "                                  fixed_df = fixed_df, grade = tst_grades, school=tst_school, Y=obs_outcome, rng_key=rng_key)\n"
   ],
   "id": "4aa44026969c478d",
   "outputs": [],
   "execution_count": null
  },
  {
   "metadata": {},
   "cell_type": "code",
   "source": [
    "pred_stoch_30_OS = onestage_tst.get_predicted_values(stoch_30_elig, exposures_stoch_30_elig)\n",
    "print(pred_stoch_30_OS.shape)\n",
    "pred_stoch_70_OS = onestage_tst.get_predicted_values(stoch_70_elig, exposures_stoch_70_elig)\n",
    "print(pred_stoch_70_OS.shape)"
   ],
   "id": "3d2ad57c101654a8",
   "outputs": [],
   "execution_count": null
  },
  {
   "metadata": {},
   "cell_type": "code",
   "source": [
    "post_esti_OS =  jnp.mean(pred_stoch_70_OS, axis=1) - jnp.mean(pred_stoch_30_OS, axis=1)\n",
    "print(\"mean esti [95% CI]:\", jnp.mean(post_esti_OS), jnp.percentile(post_esti_OS, 2.5), jnp.percentile(post_esti_OS, 97.5))\n",
    "\n",
    "fig, (ax1, ax2) = plt.subplots(1, 2, figsize=(8, 4))\n",
    "\n",
    "ax1.hist(post_esti, bins=30, color='skyblue', density = True)\n",
    "ax2.hist(post_esti_OS, bins=30, color='skyblue', density = True)\n",
    "\n",
    "plt.show()\n"
   ],
   "id": "bbcd8e1c61a1cbf6",
   "outputs": [],
   "execution_count": null
  },
  {
   "metadata": {
    "ExecuteTime": {
     "end_time": "2024-09-04T07:17:06.902188Z",
     "start_time": "2024-09-04T07:17:06.690114Z"
    }
   },
   "cell_type": "code",
   "source": [
    "post_a30_exposure = util.vectorized_post_exposures(school_posterior_samps_svi[0:1000], stoch_30, all_trts.shape[0])\n",
    "print(post_a30_exposure.shape)\n",
    "post_a30_exposure_elig = post_a30_exposure[:,:, (school_df['ELIGIBLE'] == 1).values]\n",
    "print(post_a30_exposure_elig.shape)\n",
    "\n",
    "post_a70_exposure = util.vectorized_post_exposures(school_posterior_samps_svi[0:1000], stoch_70, all_trts.shape[0])\n",
    "print(post_a70_exposure.shape)\n",
    "post_a70_exposure_elig = post_a70_exposure[:,:, (school_df['ELIGIBLE'] == 1).values]\n",
    "print(post_a70_exposure_elig.shape)"
   ],
   "id": "5e3ba472cc0997a0",
   "outputs": [
    {
     "ename": "NameError",
     "evalue": "name 'school_posterior_samps_svi' is not defined",
     "output_type": "error",
     "traceback": [
      "\u001B[1;31m---------------------------------------------------------------------------\u001B[0m",
      "\u001B[1;31mNameError\u001B[0m                                 Traceback (most recent call last)",
      "Cell \u001B[1;32mIn[78], line 1\u001B[0m\n\u001B[1;32m----> 1\u001B[0m post_a30_exposure \u001B[38;5;241m=\u001B[39m util\u001B[38;5;241m.\u001B[39mvectorized_post_exposures(\u001B[43mschool_posterior_samps_svi\u001B[49m[\u001B[38;5;241m0\u001B[39m:\u001B[38;5;241m1000\u001B[39m], stoch_30, all_trts\u001B[38;5;241m.\u001B[39mshape[\u001B[38;5;241m0\u001B[39m])\n\u001B[0;32m      2\u001B[0m \u001B[38;5;28mprint\u001B[39m(post_a30_exposure\u001B[38;5;241m.\u001B[39mshape)\n\u001B[0;32m      3\u001B[0m post_a30_exposure_elig \u001B[38;5;241m=\u001B[39m post_a30_exposure[:,:, (school_df[\u001B[38;5;124m'\u001B[39m\u001B[38;5;124mELIGIBLE\u001B[39m\u001B[38;5;124m'\u001B[39m] \u001B[38;5;241m==\u001B[39m \u001B[38;5;241m1\u001B[39m)\u001B[38;5;241m.\u001B[39mvalues]\n",
      "\u001B[1;31mNameError\u001B[0m: name 'school_posterior_samps_svi' is not defined"
     ]
    }
   ],
   "execution_count": 78
  },
  {
   "metadata": {},
   "cell_type": "code",
   "source": [
    "post_stoch_exposures = jnp.transpose(jnp.stack([post_a30_exposure_elig, post_a70_exposure_elig]),axes=(1,0,2,3))\n",
    "print(post_stoch_exposures.shape)\n",
    "stoch_trt_all = jnp.stack([stoch_30_elig, stoch_70_elig])\n",
    "print(stoch_trt_all.shape)"
   ],
   "id": "d751846f173bdea3",
   "outputs": [],
   "execution_count": null
  },
  {
   "metadata": {},
   "cell_type": "code",
   "source": [
    "print(post_stoch_exposures[0:4].shape)\n",
    "print(post_obs_expos_elig[0:4].shape)"
   ],
   "id": "3d257348ce925888",
   "outputs": [],
   "execution_count": null
  },
  {
   "metadata": {},
   "cell_type": "code",
   "source": [
    "# TODO: debug multistage inference \n",
    "# TODO: write function that wrap evertything: network sampling and posterior for each school (seperately), join the data for outcome regressions, and predictions of estimands"
   ],
   "id": "1760f368a7350839",
   "outputs": [],
   "execution_count": null
  },
  {
   "metadata": {},
   "cell_type": "code",
   "source": [
    "# Run multistage\n",
    "multistage_tst = util.linear_multistage(post_exposures=post_obs_expos_elig, post_new_expsoures=post_stoch_exposures,\n",
    "                                        obs_trts=obs_trts, new_trts=stoch_trt_all, sch_trts=sch_trt,\n",
    "                                        fixed_df=fixed_df, grade=tst_grades, school=tst_school, Y=obs_outcome, key=rng_key)"
   ],
   "id": "c0deb23baeca735e",
   "outputs": [],
   "execution_count": null
  },
  {
   "metadata": {},
   "cell_type": "code",
   "source": "print(multistage_tst.shape, multistage_tst[0].shape)",
   "id": "c802d3e01b765ee7",
   "outputs": [],
   "execution_count": null
  },
  {
   "metadata": {},
   "cell_type": "code",
   "source": [
    "post_esti_MS =  jnp.mean(multistage_tst[1], axis=1) - jnp.mean(multistage_tst[0], axis=1)\n",
    "print(post_esti_MS.shape)\n",
    "print(\"mean esti [95% CI]:\", jnp.mean(post_esti_MS), jnp.percentile(post_esti_MS, 2.5), jnp.percentile(post_esti_MS, 97.5))\n",
    "\n",
    "fig, (ax1, ax2, ax3) = plt.subplots(1, 3, figsize=(8, 4))\n",
    "\n",
    "ax1.hist(post_esti, bins=30, color='skyblue', density = True)\n",
    "ax2.hist(post_esti_OS, bins=30, color='darkgreen', density = True)\n",
    "ax3.hist(post_esti_MS, bins=30, color='darkorange', density = True)\n",
    "\n",
    "plt.show()"
   ],
   "id": "f69efef954ad402e",
   "outputs": [],
   "execution_count": null
  },
  {
   "metadata": {},
   "cell_type": "code",
   "source": "",
   "id": "e2df97a2c4e59419",
   "outputs": [],
   "execution_count": null
  }
 ],
 "metadata": {
  "kernelspec": {
   "display_name": "Python 3 (ipykernel)",
   "language": "python",
   "name": "python3"
  },
  "language_info": {
   "codemirror_mode": {
    "name": "ipython",
    "version": 3
   },
   "file_extension": ".py",
   "mimetype": "text/x-python",
   "name": "python",
   "nbconvert_exporter": "python",
   "pygments_lexer": "ipython3",
   "version": "3.11.8"
  }
 },
 "nbformat": 4,
 "nbformat_minor": 5
}
