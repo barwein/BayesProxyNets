{
 "cells": [
  {
   "cell_type": "code",
   "execution_count": 23,
   "metadata": {},
   "outputs": [
    {
     "name": "stdout",
     "output_type": "stream",
     "text": [
      "[CpuDevice(id=0), CpuDevice(id=1), CpuDevice(id=2), CpuDevice(id=3)] 4\n"
     ]
    }
   ],
   "source": [
    "\n",
    "# --- Set cores and seed ---\n",
    "import os\n",
    "N_CORES = 4\n",
    "os.environ[\"XLA_FLAGS\"] = f\"--xla_force_host_platform_device_count={N_CORES}\"\n",
    "\n",
    "# --- Import Libraries ---\n",
    "import jax.numpy as jnp\n",
    "import jax\n",
    "\n",
    "print(jax.devices(), jax.device_count())\n",
    "\n",
    "import pandas as pd\n",
    "import numpy as np\n",
    "import pyreadr\n",
    "\n",
    "from numpyro.infer import SVI, Trace_ELBO, Predictive, MCMC, NUTS\n",
    "from numpyro.optim import ClippedAdam\n",
    "from numpyro.infer.autoguide import AutoMultivariateNormal, AutoLowRankMultivariateNormal, AutoNormal\n",
    "import numpyro.distributions as dist\n",
    "import numpyro\n",
    "\n",
    "import matplotlib.pyplot as plt\n",
    "\n",
    "import src.utils as utils\n",
    "\n",
    "import Data.Palluck_et_al.data_wrangle as dw\n",
    "\n"
   ]
  },
  {
   "cell_type": "code",
   "execution_count": 2,
   "metadata": {},
   "outputs": [
    {
     "name": "stdout",
     "output_type": "stream",
     "text": [
      "(24182, 41)\n",
      "Index(['SCHID', 'SCHTREAT_NUMERIC', 'TREAT_NUMERIC', 'unique_id', 'ELIGIBLE',\n",
      "       'WRISTOW2_NUMERIC', 'ST1', 'ST2', 'ST3', 'ST4', 'ST5', 'ST6', 'ST7',\n",
      "       'ST8', 'ST9', 'ST10', 'ST1W2', 'ST2W2', 'ST3W2', 'ST4W2', 'ST5W2',\n",
      "       'ST6W2', 'ST7W2', 'ST8W2', 'ST9W2', 'ST10W2', 'BF1', 'BF2', 'BF1W2',\n",
      "       'BF2W2', 'GENC', 'ETHW', 'ETHB', 'ETHH', 'ETHA', 'ETHC', 'ETHSA',\n",
      "       'GAME', 'GRC_6', 'GRC_7', 'GRC_8'],\n",
      "      dtype='object')\n"
     ]
    }
   ],
   "source": [
    "all_schools = pyreadr.read_r('Data/Palluck_et_al/37070-0001-Data.rda')\n",
    "all_schools = pd.DataFrame(all_schools['da37070.0001'])\n",
    "\n",
    "df_cleaned = dw.clean_data(all_schools)\n",
    "\n",
    "print(df_cleaned.shape)\n",
    "print(df_cleaned.columns)"
   ]
  },
  {
   "cell_type": "code",
   "execution_count": 3,
   "metadata": {},
   "outputs": [
    {
     "data": {
      "text/plain": [
       "array([ 1.,  2.,  3.,  5.,  6.,  7.,  8.,  9., 10., 11., 12., 13., 14.,\n",
       "       16., 17., 18., 19., 20., 21., 22., 23., 24., 25., 26., 27., 28.,\n",
       "       29., 30., 31., 32., 33., 34., 35., 36., 37., 38., 39., 40., 41.,\n",
       "       42., 43., 44., 45., 46., 47., 48., 49., 50., 51., 53., 55., 56.,\n",
       "       57., 58., 59., 60.])"
      ]
     },
     "execution_count": 3,
     "metadata": {},
     "output_type": "execute_result"
    }
   ],
   "source": [
    "df_cleaned[\"SCHID\"].unique()"
   ]
  },
  {
   "cell_type": "code",
   "execution_count": 102,
   "metadata": {},
   "outputs": [
    {
     "name": "stdout",
     "output_type": "stream",
     "text": [
      "(1459, 41)\n"
     ]
    }
   ],
   "source": [
    "# test one school\n",
    "\n",
    "# df_min = df_cleaned[df_cleaned['SCHID'] == 41.0]\n",
    "df_min = df_cleaned[df_cleaned['SCHID'].isin([41.0,49.0, 51.0])]\n",
    "# df_min = df_cleaned[df_cleaned['SCHID'] == 49.0]\n",
    "print(df_min.shape)"
   ]
  },
  {
   "cell_type": "code",
   "execution_count": 105,
   "metadata": {},
   "outputs": [
    {
     "name": "stdout",
     "output_type": "stream",
     "text": [
      "3 [503 409 547] [  0 503 912] 1459 [126253.  83436. 149331.] 359020.0\n"
     ]
    }
   ],
   "source": [
    "n_schools = df_min[\"SCHID\"].nunique()\n",
    "# get number of students in each school\n",
    "n_within_school = df_min.groupby(\"SCHID\").size().values\n",
    "\n",
    "offsets = jnp.concatenate([jnp.array([0]), jnp.cumsum(jnp.array(n_within_school))[:-1]]) \n",
    "\n",
    "total_n = df_min.shape[0]\n",
    "\n",
    "total_edges = n_within_school * (n_within_school - 1) / 2\n",
    "\n",
    "print(n_schools, n_within_school, offsets, total_n, total_edges, total_edges.sum())"
   ]
  },
  {
   "cell_type": "code",
   "execution_count": 106,
   "metadata": {},
   "outputs": [
    {
     "data": {
      "text/plain": [
       "16839    41001\n",
       "16840    41002\n",
       "16841    41003\n",
       "16842    41004\n",
       "16843    41005\n",
       "         ...  \n",
       "20526    51555\n",
       "20527    51556\n",
       "20528    51558\n",
       "20529    51559\n",
       "20530    51560\n",
       "Name: unique_id, Length: 1459, dtype: int32"
      ]
     },
     "execution_count": 106,
     "metadata": {},
     "output_type": "execute_result"
    }
   ],
   "source": [
    "# jnp.concatenate(jnp.array([0]),jnp.cumsum(jnp.array(n_within_school))[:-1]) \n",
    "df_min[\"unique_id\"]"
   ]
  },
  {
   "cell_type": "code",
   "execution_count": 107,
   "metadata": {},
   "outputs": [
    {
     "data": {
      "text/plain": [
       "Array([1., 2., 3.], dtype=float32)"
      ]
     },
     "execution_count": 107,
     "metadata": {},
     "output_type": "execute_result"
    }
   ],
   "source": [
    "jnp.concatenate([jnp.array([]), jnp.array([1,2,3])])"
   ]
  },
  {
   "cell_type": "code",
   "execution_count": 109,
   "metadata": {},
   "outputs": [
    {
     "name": "stdout",
     "output_type": "stream",
     "text": [
      "(359020,) (359020,) (359020,) (359020,)\n"
     ]
    }
   ],
   "source": [
    "# nets by schools \n",
    "st_triu = jnp.array([])\n",
    "stw2_triu = jnp.array([])\n",
    "bf_triu = jnp.array([])\n",
    "bfw2_triu = jnp.array([])\n",
    "\n",
    "\n",
    "\n",
    "for s_id in df_min[\"SCHID\"].unique():\n",
    "    df_s = df_min[df_min[\"SCHID\"] == s_id]\n",
    "    triu_idx = np.triu_indices(df_s.shape[0], 1)\n",
    "    \n",
    "    st_net = dw.network_by_school(df_s, dw.ST_COLS, False)\n",
    "    st_triu = jnp.concatenate([st_triu, jnp.array(st_net[triu_idx], dtype=jnp.float32)])\n",
    "\n",
    "    stw2_net = dw.network_by_school(df_s, dw.ST_W2_COLS, False)\n",
    "    stw2_triu = jnp.concatenate([stw2_triu, jnp.array(stw2_net[triu_idx], dtype=jnp.float32)])\n",
    "\n",
    "    bf_net = dw.network_by_school(df_s, dw.BF_COLS, False)\n",
    "    bf_triu = jnp.concatenate([bf_triu, jnp.array(bf_net[triu_idx], dtype=jnp.float32)])\n",
    "\n",
    "    bfw2_net = dw.network_by_school(df_s, dw.BF_W2_COLS, False)\n",
    "    bfw2_triu = jnp.concatenate([bfw2_triu, jnp.array(bfw2_net[triu_idx], dtype=jnp.float32)])\n",
    "    \n",
    "\n",
    "\n",
    "\n",
    "# st_net = dw.network_by_school(df_min, dw.ST_COLS, False)\n",
    "# st_net_triu = jnp.array(st_net[triu_idx], dtype=jnp.float32)\n",
    "\n",
    "# # ST_w2 net \n",
    "\n",
    "# stw2_net = dw.network_by_school(df_min, dw.ST_W2_COLS, False)\n",
    "# stw2_net_triu = jnp.array(stw2_net[triu_idx], dtype=jnp.float32)\n",
    "\n",
    "# # BF net\n",
    "\n",
    "# bf_net = dw.network_by_school(df_min, dw.BF_COLS, False)\n",
    "# bf_net_triu = jnp.array(bf_net[triu_idx], dtype=jnp.float32)\n",
    "\n",
    "# # BF_w2 net\n",
    "\n",
    "# bfw2_net = dw.network_by_school(df_min, dw.BF_W2_COLS, False)\n",
    "# bfw2_net_triu = jnp.array(bfw2_net[triu_idx], dtype=jnp.float32)\n",
    "\n",
    "# print(st_net_triu.shape, stw2_net_triu.shape, bf_net_triu.shape, bfw2_net_triu.shape)\n",
    "\n",
    "print(st_triu.shape, stw2_triu.shape, bf_triu.shape, bfw2_triu.shape)"
   ]
  },
  {
   "cell_type": "code",
   "execution_count": 6,
   "metadata": {},
   "outputs": [
    {
     "name": "stdout",
     "output_type": "stream",
     "text": [
      "(409, 11)\n"
     ]
    }
   ],
   "source": [
    "NODE_COV = [\"GENC\", \"ETHW\", \"ETHB\", \"ETHH\", \"ETHA\", \"ETHC\", \"ETHSA\", \"GAME\", \"GRC_6\", \"GRC_7\", \"GRC_8\"]\n",
    "df_min_node_cov = jnp.array(df_min[NODE_COV])\n",
    "print(df_min_node_cov.shape)\n"
   ]
  },
  {
   "cell_type": "code",
   "execution_count": 34,
   "metadata": {},
   "outputs": [
    {
     "name": "stdout",
     "output_type": "stream",
     "text": [
      "(126253, 5) float32 <class 'jaxlib.xla_extension.ArrayImpl'>\n",
      "CPU times: total: 1.22 s\n",
      "Wall time: 1.28 s\n"
     ]
    }
   ],
   "source": [
    "%%time \n",
    "# df_min_net_cov = cov_for_net(df_min, NODE_COV)\n",
    "df_min_net_cov = dw.cov_for_net(df_min, dw.COV_FOR_NETWORK)\n",
    "\n",
    "print(df_min_net_cov.shape, df_min_net_cov.dtype, type(df_min_net_cov))"
   ]
  },
  {
   "cell_type": "code",
   "execution_count": null,
   "metadata": {},
   "outputs": [],
   "source": [
    "PRIOR_SCALE = jnp.sqrt(5.0)\n",
    "\n",
    "def networks_marginalized_model(data):\n",
    "    \"\"\"\n",
    "    Model for network only models with marginalized A*\n",
    "    Used in cut-posterior sampling\n",
    "\n",
    "    We embed it as mixture model of A edges\n",
    "\n",
    "    Args:\n",
    "      data: an object with attributes:\n",
    "           - x_diff: a 1D array (one per edge) of differences in covariates,\n",
    "           - x2_or: a 1D array of indicators (one per edge) for whether x2_i + x2_j = 1,\n",
    "           - triu_obs: a 1D array of observed edge indicators (binary; one per edge).\n",
    "    \"\"\"\n",
    "    # --- Priors ---\n",
    "\n",
    "    with numpyro.plate(\"latent_u\", data[\"n\"]):\n",
    "        u = numpyro.sample(\"u\", dist.Normal(0, 1))\n",
    "        # u = numpyro.sample(\"u\", dist.MultivariateNormal(jnp.zeros(2), jnp.eye(2)))\n",
    "\n",
    "    idx = np.triu_indices(n=data[\"n\"], k=1)\n",
    "    u_diff = u[idx[0]] - u[idx[1]]\n",
    "    u_norm = jnp.abs(u_diff)\n",
    "\n",
    "    n_cols = data[\"cov\"].shape[1]\n",
    "    theta = numpyro.sample(\"theta\", dist.Normal(0, PRIOR_SCALE).expand([n_cols]))\n",
    "    # with numpyro.plate(\"theta_plate\", n_cols):\n",
    "        # theta = numpyro.sample(\"theta\", dist.Normal(0, PRIOR_SCALE))\n",
    "    \n",
    "    # with numpyro.plate(\"gamma_plate\", n_cols + 1):\n",
    "        # gamma = numpyro.sample(\"gamma\", dist.Normal(0, PRIOR_SCALE))\n",
    "\n",
    "        # P(A*_ij=1)\n",
    "    # gamma = numpyro.sample(\"gamma\", dist.Normal(0, PRIOR_SCALE).expand([2*n_cols]))\n",
    "    gamma = numpyro.sample(\"gamma\", dist.Normal(0, PRIOR_SCALE).expand([2]))\n",
    "\n",
    "        # P(A*_ij=1)\n",
    "    # star_probs = jax.nn.sigmoid(data[\"cov\"] @ theta - u_diff)\n",
    "    star_probs = jax.nn.sigmoid(data[\"cov\"] @ theta - u_norm)\n",
    "    star_probs = jnp.clip(star_probs, 1e-6, 1 - 1e-6)\n",
    "\n",
    "    # P(A_ij = 1 | A*_ij = 0)\n",
    "    # obs_probs_k0 = jax.nn.sigmoid(data[\"cov\"] @ gamma[1:])\n",
    "    # obs_probs_k0 = jax.nn.sigmoid(data[\"cov\"] @ gamma[:n_cols])\n",
    "    obs_probs_k0 = jax.nn.sigmoid(gamma[0])\n",
    "    obs_probs_k0 = jnp.clip(obs_probs_k0, 1e-6, 1 - 1e-6)\n",
    "\n",
    "    # P(A_ij = 1 | A*_ij = 1)\n",
    "    # obs_probs_k1 = jax.nn.sigmoid(gamma[0] + data[\"cov\"] @ gamma[1:])\n",
    "    # obs_probs_k1 = jax.nn.sigmoid(data[\"cov\"]  @ gamma[n_cols:])\n",
    "    obs_probs_k1 = jax.nn.sigmoid(gamma[1])\n",
    "    obs_probs_k1 = jnp.clip(obs_probs_k1, 1e-6, 1 - 1e-6)\n",
    "\n",
    "    # marginalized probs P(A_ij=1)\n",
    "    mixed_probs = star_probs * obs_probs_k1 + (1 - star_probs) * obs_probs_k0\n",
    "\n",
    "    with numpyro.plate(\"edges\", data[\"STW2_triu\"].shape[0]):\n",
    "        numpyro.sample(\"obs\", dist.BernoulliProbs(mixed_probs), obs=data[\"STW2_triu\"])\n",
    "\n",
    "    # save posterior A_star probs\n",
    "    # let  p_1 = P(A*_ij=1)*P(A_ij| A*_ij=1)\n",
    "    #      p_0 = P(A*_ij=0 )*P(A_ij| A*_ij=0)\n",
    "    # then posterior probs P(A*_ij | A, \\theta,\\ gamma) = p_1 / (p_1 + p_0)\n",
    "\n",
    "    # numerator aka p_1\n",
    "    numerator = jnp.where(\n",
    "        data[\"STW2_triu\"] == 1.0, star_probs * obs_probs_k1, star_probs * (1 - obs_probs_k1)\n",
    "    )\n",
    "    # denominator aka p_1 + p_0\n",
    "    denominator = numerator + jnp.where(\n",
    "        data[\"STW2_triu\"] == 1.0,\n",
    "        (1 - star_probs) * obs_probs_k0,\n",
    "        (1 - star_probs) * (1 - obs_probs_k0),\n",
    "    )\n",
    "\n",
    "    numpyro.deterministic(\"triu_star_probs\", numerator / denominator)\n",
    "\n"
   ]
  },
  {
   "cell_type": "code",
   "execution_count": null,
   "metadata": {},
   "outputs": [],
   "source": [
    "\n",
    "def networks_marginalized_multi_school(data):\n",
    "    \"\"\"\n",
    "    Model for network only models with marginalized A*\n",
    "    Used in cut-posterior sampling\n",
    "\n",
    "    We embed it as mixture model of A edges\n",
    "\n",
    "    Args:\n",
    "      data: an object with attributes:\n",
    "           - x_diff: a 1D array (one per edge) of differences in covariates,\n",
    "           - x2_or: a 1D array of indicators (one per edge) for whether x2_i + x2_j = 1,\n",
    "           - triu_obs: a 1D array of observed edge indicators (binary; one per edge).\n",
    "    \"\"\"\n",
    "    # --- Global parameters ---\n",
    "\n",
    "    n_cols = data[\"cov\"].shape[1]\n",
    "    theta = numpyro.sample(\"theta\", dist.Normal(0, PRIOR_SCALE).expand([n_cols]))\n",
    "  \n",
    "    gamma = numpyro.sample(\"gamma\", dist.Normal(0, PRIOR_SCALE).expand([2]))\n",
    "\n",
    "     # 2. School-specific random intercepts -----------------------------------\n",
    "\n",
    "    # We'll allow each school s to have an intercept alpha_s\n",
    "    #   alpha_s ~ Normal(0, prior_scale)   or something hierarchical if you prefer\n",
    "    n_schools = data[\"n_schools\"]\n",
    "    alpha = numpyro.sample(\"alpha\", dist.Normal(0, PRIOR_SCALE).expand([n_schools]))\n",
    "\n",
    "    \n",
    "    with numpyro.plate(\"latent_u\", data[\"n\"]):\n",
    "        u = numpyro.sample(\"u\", dist.Normal(0, 1))\n",
    "        # u = numpyro.sample(\"u\", dist.MultivariateNormal(jnp.zeros(2), jnp.eye(2)))\n",
    "\n",
    "    idx = np.triu_indices(n=data[\"n\"], k=1)\n",
    "    u_diff = u[idx[0]] - u[idx[1]]\n",
    "    u_norm = jnp.abs(u_diff)\n",
    "\n",
    "    n_cols = data[\"cov\"].shape[1]\n",
    "    theta = numpyro.sample(\"theta\", dist.Normal(0, PRIOR_SCALE).expand([n_cols]))\n",
    "    # with numpyro.plate(\"theta_plate\", n_cols):\n",
    "        # theta = numpyro.sample(\"theta\", dist.Normal(0, PRIOR_SCALE))\n",
    "    \n",
    "    # with numpyro.plate(\"gamma_plate\", n_cols + 1):\n",
    "        # gamma = numpyro.sample(\"gamma\", dist.Normal(0, PRIOR_SCALE))\n",
    "\n",
    "        # P(A*_ij=1)\n",
    "    # gamma = numpyro.sample(\"gamma\", dist.Normal(0, PRIOR_SCALE).expand([2*n_cols]))\n",
    "    gamma = numpyro.sample(\"gamma\", dist.Normal(0, PRIOR_SCALE).expand([2]))\n",
    "\n",
    "        # P(A*_ij=1)\n",
    "    # star_probs = jax.nn.sigmoid(data[\"cov\"] @ theta - u_diff)\n",
    "    star_probs = jax.nn.sigmoid(data[\"cov\"] @ theta - u_norm)\n",
    "    star_probs = jnp.clip(star_probs, 1e-6, 1 - 1e-6)\n",
    "\n",
    "    # P(A_ij = 1 | A*_ij = 0)\n",
    "    # obs_probs_k0 = jax.nn.sigmoid(data[\"cov\"] @ gamma[1:])\n",
    "    # obs_probs_k0 = jax.nn.sigmoid(data[\"cov\"] @ gamma[:n_cols])\n",
    "    obs_probs_k0 = jax.nn.sigmoid(gamma[0])\n",
    "    obs_probs_k0 = jnp.clip(obs_probs_k0, 1e-6, 1 - 1e-6)\n",
    "\n",
    "    # P(A_ij = 1 | A*_ij = 1)\n",
    "    # obs_probs_k1 = jax.nn.sigmoid(gamma[0] + data[\"cov\"] @ gamma[1:])\n",
    "    # obs_probs_k1 = jax.nn.sigmoid(data[\"cov\"]  @ gamma[n_cols:])\n",
    "    obs_probs_k1 = jax.nn.sigmoid(gamma[1])\n",
    "    obs_probs_k1 = jnp.clip(obs_probs_k1, 1e-6, 1 - 1e-6)\n",
    "\n",
    "    # marginalized probs P(A_ij=1)\n",
    "    mixed_probs = star_probs * obs_probs_k1 + (1 - star_probs) * obs_probs_k0\n",
    "\n",
    "    with numpyro.plate(\"edges\", data[\"STW2_triu\"].shape[0]):\n",
    "        numpyro.sample(\"obs\", dist.BernoulliProbs(mixed_probs), obs=data[\"STW2_triu\"])\n",
    "\n",
    "    # save posterior A_star probs\n",
    "    # let  p_1 = P(A*_ij=1)*P(A_ij| A*_ij=1)\n",
    "    #      p_0 = P(A*_ij=0 )*P(A_ij| A*_ij=0)\n",
    "    # then posterior probs P(A*_ij | A, \\theta,\\ gamma) = p_1 / (p_1 + p_0)\n",
    "\n",
    "    # numerator aka p_1\n",
    "    numerator = jnp.where(\n",
    "        data[\"STW2_triu\"] == 1.0, star_probs * obs_probs_k1, star_probs * (1 - obs_probs_k1)\n",
    "    )\n",
    "    # denominator aka p_1 + p_0\n",
    "    denominator = numerator + jnp.where(\n",
    "        data[\"STW2_triu\"] == 1.0,\n",
    "        (1 - star_probs) * obs_probs_k0,\n",
    "        (1 - star_probs) * (1 - obs_probs_k0),\n",
    "    )\n",
    "\n",
    "    numpyro.deterministic(\"triu_star_probs\", numerator / denominator)\n",
    "\n"
   ]
  },
  {
   "cell_type": "code",
   "execution_count": 9,
   "metadata": {},
   "outputs": [],
   "source": [
    "\n",
    "def networks_marginalized_model_rep(data):\n",
    "    \"\"\"\n",
    "    Model for network only models with marginalized A*\n",
    "    Used in cut-posterior sampling\n",
    "\n",
    "    We have repeated proxy measures A^r, A\n",
    "\n",
    "    We embed it as mixture model of (A^r, A) edges (4 categories)\n",
    "\n",
    "    Args:\n",
    "      data: an object with attributes:\n",
    "           - x_diff: a 1D array (one per edge) of differences in covariates,\n",
    "           - x2_or: a 1D array of indicators (one per edge) for whether x2_i + x2_j = 1,\n",
    "           - triu_obs: a 1D array of observed edge indicators (binary; one per edge).\n",
    "           - triu_obs_rep: a 1D array of repeated observed edge indicators (binary; one per edge).\n",
    "    \"\"\"\n",
    "\n",
    "    # latent positions\n",
    "    with numpyro.plate(\"latent_u\", data[\"n\"]):\n",
    "        u = numpyro.sample(\"u\", dist.Normal(0, 1))\n",
    "        # u = numpyro.sample(\"u\", dist.MultivariateNormal(jnp.zeros(2), jnp.eye(2)))\n",
    "\n",
    "    idx = np.triu_indices(n=data[\"n\"], k=1)\n",
    "    u_diff = u[idx[0]] - u[idx[1]]\n",
    "    u_norm = jnp.abs(u_diff)\n",
    "\n",
    "    # priors\n",
    "    theta = numpyro.sample(\"theta\", dist.Normal(0, PRIOR_SCALE).expand([2]))\n",
    "    gamma = numpyro.sample(\"gamma\", dist.Normal(0, PRIOR_SCALE).expand([7]))\n",
    "\n",
    "    # P(A*_ij=1)\n",
    "    star_probs = jax.nn.sigmoid(theta[0] + theta[1] * data.x2_or)\n",
    "    star_probs = jnp.clip(star_probs, 1e-6, 1 - 1e-6)\n",
    "\n",
    "    # P(A_ij = 1 | A*_ij = 1)\n",
    "    obs_probs_k1 = jax.nn.sigmoid(gamma[0])\n",
    "    obs_probs_k1 = jnp.clip(obs_probs_k1, 1e-6, 1 - 1e-6)\n",
    "\n",
    "    # P(A_ij = 1 | A*_ij = 0)\n",
    "    obs_probs_k0 = jax.nn.sigmoid(gamma[1] + gamma[2] * data.x_diff)\n",
    "    obs_probs_k0 = jnp.clip(obs_probs_k0, 1e-6, 1 - 1e-6)\n",
    "\n",
    "    # P(A^r_ij=1 | A*_ij=1, A_ij)\n",
    "    obs_rep_probs_k1 = jax.nn.sigmoid(gamma[3] + gamma[4] * data.triu_obs)\n",
    "    obs_rep_probs_k1 = jnp.clip(obs_rep_probs_k1, 1e-6, 1 - 1e-6)\n",
    "\n",
    "    # P(A^r_ij=1 | A*_ij=0, A_ij)\n",
    "    obs_rep_probs_k0 = jax.nn.sigmoid(gamma[5] + gamma[6] * data.triu_obs)\n",
    "    obs_rep_probs_k0 = jnp.clip(obs_rep_probs_k0, 1e-6, 1 - 1e-6)\n",
    "\n",
    "    # compute marginalize probs of (A^_ij=r, A_ij=a), a,r \\in {0,1}\n",
    "    # represent as categorical $C_ij = 2 A_ij + A^r_ij \\in {0,1,2,3}\n",
    "    # Given A*_ij=1\n",
    "    # p(A_ij=r, A^r_ij=a | A*_ij=1)*P(A*_ij=1)\n",
    "    pj_star1_cat0 = star_probs * (1 - obs_probs_k1) * (1 - obs_rep_probs_k1)\n",
    "    pj_star1_cat1 = star_probs * (1 - obs_probs_k1) * obs_rep_probs_k1\n",
    "    pj_star1_cat2 = star_probs * obs_probs_k1 * (1 - obs_rep_probs_k1)\n",
    "    pj_star1_cat3 = star_probs * obs_probs_k1 * obs_rep_probs_k1\n",
    "\n",
    "    # Given A*_ij=0\n",
    "    # p(A_ij=r, A^r_ij=a | A*_ij=0)*P(A*_ij=0)\n",
    "    pj_star0_cat0 = (1 - star_probs) * (1 - obs_probs_k0) * (1 - obs_rep_probs_k0)\n",
    "    pj_star0_cat1 = (1 - star_probs) * (1 - obs_probs_k0) * obs_rep_probs_k0\n",
    "    pj_star0_cat2 = (1 - star_probs) * obs_probs_k0 * (1 - obs_rep_probs_k0)\n",
    "    pj_star0_cat3 = (1 - star_probs) * obs_probs_k0 * obs_rep_probs_k0\n",
    "\n",
    "    # marginalized probs P(C_ij=c) = \\sum_{0,1} p(A_ij=r, A^r_ij=a | A*_ij=k)*P(A*_ij=k)\n",
    "    p_cat0 = pj_star1_cat0 + pj_star0_cat0\n",
    "    p_cat1 = pj_star1_cat1 + pj_star0_cat1\n",
    "    p_cat2 = pj_star1_cat2 + pj_star0_cat2\n",
    "    p_cat3 = pj_star1_cat3 + pj_star0_cat3\n",
    "\n",
    "    probs = jnp.stack([p_cat0, p_cat1, p_cat2, p_cat3], axis=-1)\n",
    "    probs = probs / jnp.sum(probs, axis=-1, keepdims=True)\n",
    "\n",
    "    # observed categorical data\n",
    "    obs_cat = jnp.astype(2 * data.triu_obs + data.triu_obs_rep, jnp.int32)\n",
    "\n",
    "    with numpyro.plate(\"edges\", data.triu_obs.shape[0]):\n",
    "        numpyro.sample(\"obs_joint\", dist.Categorical(probs=probs), obs=obs_cat)\n",
    "\n",
    "    # --- Compute the posterior probability of A*_ij=1 given the joint observation ---\n",
    "    # Select the appropriate terms based on the observed category\n",
    "    # p_1 = p(C_ij = c | A*_ij = 1)p(A*_ij = 1)\n",
    "    numerator = jnp.where(\n",
    "        obs_cat == 0,\n",
    "        pj_star1_cat0,\n",
    "        jnp.where(\n",
    "            obs_cat == 1,\n",
    "            pj_star1_cat1,\n",
    "            jnp.where(obs_cat == 2, pj_star1_cat2, pj_star1_cat3),\n",
    "        ),\n",
    "    )\n",
    "\n",
    "    # p_0 = p(C_ij = c | A*_ij = 0)p(A*_ij = 0)\n",
    "    # denom is p_0 + p_1\n",
    "    denominator = numerator + jnp.where(\n",
    "        obs_cat == 0,\n",
    "        pj_star0_cat0,\n",
    "        jnp.where(\n",
    "            obs_cat == 1,\n",
    "            pj_star0_cat1,\n",
    "            jnp.where(obs_cat == 2, pj_star0_cat2, pj_star0_cat3),\n",
    "        ),\n",
    "    )\n",
    "    # p_1 / (p_0 + p_1)\n",
    "    posterior_star = numerator / denominator\n",
    "\n",
    "    # Save the posterior probabilities for A* (for example, on the upper triangle of the network)\n",
    "    numpyro.deterministic(\"triu_star_probs\", posterior_star)\n",
    "\n"
   ]
  },
  {
   "cell_type": "code",
   "execution_count": 10,
   "metadata": {},
   "outputs": [],
   "source": [
    "data_st = {\"STW2_triu\": stw2_net_triu,\n",
    "            \"cov\": df_min_net_cov,\n",
    "            \"ST_triu\" : st_net_triu,\n",
    "            \"BF_triu\" : bf_net_triu,\n",
    "            \"BFW2_triu\" : bfw2_net_triu,\n",
    "            \"n\" : df_min.shape[0]}"
   ]
  },
  {
   "cell_type": "code",
   "execution_count": 11,
   "metadata": {},
   "outputs": [
    {
     "name": "stdout",
     "output_type": "stream",
     "text": [
      "ST vs ST_w2\n",
      "A1 \\ A2 |  0  |  1  |\n",
      "---------|-----|-----|\n",
      "   0    | 80303 | 1458 |\n",
      "   1    | 1585 |  90 |\n",
      "ST vs BF\n",
      "A1 \\ A2 |  0  |  1  |\n",
      "---------|-----|-----|\n",
      "   0    | 81433 | 328 |\n",
      "   1    | 1619 |  56 |\n",
      "ST vs BF_w2\n",
      "A1 \\ A2 |  0  |  1  |\n",
      "---------|-----|-----|\n",
      "   0    | 81481 | 280 |\n",
      "   1    | 1634 |  41 |\n",
      "BF vs BF_w2\n",
      "A1 \\ A2 |  0  |  1  |\n",
      "---------|-----|-----|\n",
      "   0    | 82771 | 281 |\n",
      "   1    | 344 |  40 |\n"
     ]
    }
   ],
   "source": [
    "def binary_contingency_table(A1, A2):\n",
    "    # Table structure:\n",
    "    #     A2=0  A2=1\n",
    "    # A1=0  n00   n01\n",
    "    # A1=1  n10   n11\n",
    "    \n",
    "    n00 = jnp.sum((A1 == 0) & (A2 == 0))\n",
    "    n01 = jnp.sum((A1 == 0) & (A2 == 1))\n",
    "    n10 = jnp.sum((A1 == 1) & (A2 == 0))\n",
    "    n11 = jnp.sum((A1 == 1) & (A2 == 1))\n",
    "    \n",
    "    print(\"A1 \\ A2 |  0  |  1  |\")\n",
    "    print(\"---------|-----|-----|\")\n",
    "    print(f\"   0    | {n00:3d} | {n01:3d} |\")\n",
    "    print(f\"   1    | {n10:3d} | {n11:3d} |\")\n",
    "\n",
    "\n",
    "\n",
    "print(\"ST vs ST_w2\")\n",
    "binary_contingency_table(st_net_triu, stw2_net_triu)\n",
    "print(\"ST vs BF\")\n",
    "binary_contingency_table(st_net_triu, bf_net_triu)\n",
    "print(\"ST vs BF_w2\")\n",
    "binary_contingency_table(st_net_triu, bfw2_net_triu)\n",
    "print(\"BF vs BF_w2\")\n",
    "binary_contingency_table(bf_net_triu, bfw2_net_triu)"
   ]
  },
  {
   "cell_type": "code",
   "execution_count": 12,
   "metadata": {},
   "outputs": [
    {
     "name": "stdout",
     "output_type": "stream",
     "text": [
      "(83436,) (83436, 5)\n"
     ]
    }
   ],
   "source": [
    "print(data_st[\"STW2_triu\"].shape, data_st[\"cov\"].shape)"
   ]
  },
  {
   "cell_type": "code",
   "execution_count": 53,
   "metadata": {},
   "outputs": [
    {
     "data": {
      "text/plain": [
       "(Array(1675., dtype=float32),\n",
       " Array(1548., dtype=float32),\n",
       " Array(384., dtype=float32),\n",
       " Array(321., dtype=float32))"
      ]
     },
     "execution_count": 53,
     "metadata": {},
     "output_type": "execute_result"
    }
   ],
   "source": [
    "data_st[\"ST_triu\"].sum(), data_st[\"STW2_triu\"].sum(), data_st[\"BF_triu\"].sum(), data_st[\"BFW2_triu\"].sum()"
   ]
  },
  {
   "cell_type": "code",
   "execution_count": 42,
   "metadata": {},
   "outputs": [
    {
     "name": "stderr",
     "output_type": "stream",
     "text": [
      "100%|██████████| 10000/10000 [01:26<00:00, 115.40it/s, init loss: 137910.4688, avg. loss [9501-10000]: 7727.1487]\n"
     ]
    },
    {
     "name": "stdout",
     "output_type": "stream",
     "text": [
      "{'u': Array([-4.22202758e-02, -1.02847759e-02,  1.94148105e-02, -1.27057940e-01,\n",
      "        1.38943375e-03,  1.03907976e-02, -1.28388461e-02,  1.54916883e-01,\n",
      "        1.87343918e-03, -1.10749871e-01, -2.15215459e-02,  2.30540778e-03,\n",
      "       -2.43938770e-02,  1.31882904e-02,  1.98646113e-02, -4.77152382e-04,\n",
      "        1.74012110e-02, -4.31632437e-02,  7.91301206e-03,  7.26027088e-03,\n",
      "        4.94199954e-02, -1.25859724e-03, -2.70339511e-02, -1.88900088e-03,\n",
      "        1.88664682e-02, -8.74431804e-02, -8.36301446e-02, -9.51837674e-02,\n",
      "        4.63346718e-03,  2.72600725e-03,  5.50348423e-02,  7.16266781e-02,\n",
      "        9.45109688e-03, -1.65592790e-01, -2.02729926e-03,  8.64937494e-04,\n",
      "       -5.80800232e-03, -1.48800448e-01, -1.95424701e-03, -9.35102813e-04,\n",
      "        9.46339369e-02, -3.74162868e-02, -1.21319406e-02, -6.93107629e-03,\n",
      "        1.99563652e-02,  7.33145177e-02,  1.39424354e-01,  5.31280972e-03,\n",
      "       -1.60776317e-01,  3.55696529e-02,  3.84073816e-02,  3.42075117e-02,\n",
      "        1.70762599e-01,  1.26743596e-02, -9.24648158e-03,  2.44069938e-03,\n",
      "       -1.04038380e-01,  3.75940930e-03, -1.00181043e-01,  2.76214015e-02,\n",
      "        3.04211359e-02,  1.87807288e-02,  1.09508669e-03,  9.07118805e-03,\n",
      "        2.83135548e-02, -3.87283824e-02,  4.61903438e-02, -2.69969110e-04,\n",
      "       -1.49358183e-01,  2.25507990e-02,  1.24371098e-02,  1.80515256e-02,\n",
      "        1.93745494e-02,  2.08442844e-02, -3.22135016e-02,  3.17146331e-02,\n",
      "       -1.24809138e-01,  1.08229943e-01,  1.84797850e-02, -2.86720879e-02,\n",
      "        7.89188519e-02,  1.04966357e-01, -6.09968118e-02,  8.76888912e-03,\n",
      "       -1.58738587e-02, -6.47249669e-02,  2.45110914e-02, -3.66010405e-02,\n",
      "       -8.10800120e-03, -1.25610009e-01,  1.70478188e-02,  8.88240524e-04,\n",
      "        1.39942721e-01, -6.57148380e-03,  1.01042897e-01,  8.81965272e-03,\n",
      "        1.11149261e-02, -2.49377303e-02,  1.33007258e-01, -1.72051303e-02,\n",
      "        8.81675624e-06, -6.27954900e-02, -7.42985215e-03, -9.99854580e-02,\n",
      "       -9.19534452e-03, -1.65111065e-01,  1.37232069e-03,  6.61942959e-02,\n",
      "        9.14817676e-02,  2.55346242e-02, -5.73305339e-02,  1.71014946e-03,\n",
      "        4.17762063e-02, -2.88683213e-02, -1.81924028e-03, -1.42311994e-02,\n",
      "       -1.50512233e-02,  3.87835912e-02,  3.04821916e-02, -1.58911329e-02,\n",
      "        1.63034666e-02,  1.25339523e-01, -6.05040602e-02, -7.12126493e-03,\n",
      "        2.26903744e-02,  1.91487595e-02, -5.42314239e-02, -7.74480999e-02,\n",
      "       -5.83777614e-02, -2.14767437e-02,  4.17268556e-03,  1.69721637e-02,\n",
      "        2.82893963e-02, -5.51475100e-02, -6.21658145e-03,  2.36824810e-04,\n",
      "        2.95579303e-02,  1.97481345e-02, -8.78822058e-02, -1.54673845e-01,\n",
      "        1.72526781e-02,  6.08754866e-02, -5.06457649e-02,  7.70239308e-02,\n",
      "        2.19780132e-02,  1.84008870e-02,  1.28646828e-02,  8.10847059e-03,\n",
      "       -1.09598283e-02,  9.44831595e-02,  2.78803986e-02,  4.09118924e-03,\n",
      "       -4.98281047e-03, -7.37120360e-02, -6.24410771e-02, -1.05103485e-01,\n",
      "       -1.24328882e-01, -8.79226848e-02,  3.87327448e-02,  1.26344144e-01,\n",
      "       -7.32272193e-02,  4.18475829e-02,  3.03039164e-03,  1.38792954e-02,\n",
      "        1.86055899e-02, -6.77433237e-03, -1.13741010e-02,  1.47885326e-02,\n",
      "       -1.36182278e-01,  1.96259208e-02,  1.96028091e-02,  7.37085799e-03,\n",
      "       -2.93272156e-02,  9.06753913e-03, -3.44425105e-02, -4.65793721e-02,\n",
      "        1.33600030e-02,  2.35441215e-02, -9.65210050e-02, -5.67676611e-02,\n",
      "        3.53004900e-03, -2.47576684e-02, -1.52586643e-02,  1.22353904e-01,\n",
      "       -1.53455094e-01,  2.64979266e-02,  7.97873586e-02, -1.79141890e-02,\n",
      "        1.49292927e-02, -4.09858394e-03,  3.06575224e-02,  2.78349128e-02,\n",
      "        5.76162525e-02, -1.58422701e-02, -3.22438516e-02, -1.98764578e-02,\n",
      "       -1.36160657e-01,  3.51597331e-02,  1.00394569e-01, -1.01834260e-01,\n",
      "       -1.57304760e-02, -1.32198492e-02, -3.07688862e-02, -5.66409230e-02,\n",
      "        4.54464136e-03, -3.27678882e-02,  1.79172754e-02,  2.40877531e-02,\n",
      "       -2.27795169e-03, -2.24600695e-02,  1.12615013e-02,  1.37618510e-02,\n",
      "       -2.42246240e-02, -7.69881457e-02, -1.24557979e-01,  1.18246637e-02,\n",
      "       -6.71955720e-02,  1.10228427e-01,  1.91376451e-02,  1.09416107e-02,\n",
      "        6.37011556e-03,  1.29645497e-01, -2.33652778e-02,  4.83072456e-03,\n",
      "       -3.75439823e-02, -1.44495582e-03,  1.27133891e-01, -2.91577005e-03,\n",
      "       -8.89760628e-02, -1.97673906e-02, -1.01529919e-02, -3.31447087e-02,\n",
      "        5.75208617e-03, -1.47992298e-01,  2.88011953e-02,  8.98631737e-02,\n",
      "        1.88168008e-02,  7.62284994e-02, -1.14414543e-02,  5.14348671e-02,\n",
      "        6.38337284e-02, -4.54657376e-02, -1.04622915e-03, -2.27350276e-03,\n",
      "        2.51015369e-02,  8.89085513e-03,  1.81612566e-01, -8.03138539e-02,\n",
      "       -4.99952771e-03, -7.17170015e-02, -1.04106311e-02,  3.45705450e-02,\n",
      "        4.58089169e-03,  3.10598034e-02,  9.30722132e-02, -6.93561956e-02,\n",
      "       -3.20166610e-02,  4.97496724e-02,  1.48739070e-01,  6.62070587e-02,\n",
      "       -1.55979404e-02, -8.84828158e-03, -8.57395586e-03, -3.05865984e-03,\n",
      "        1.54118957e-02,  2.79686190e-02,  3.25536132e-02, -5.25749400e-02,\n",
      "        1.39683159e-02,  5.64835034e-03, -1.64089397e-01,  5.38490936e-02,\n",
      "       -2.26740236e-03, -3.29124629e-02, -3.56551483e-02, -5.78092365e-03,\n",
      "        9.55962241e-02, -9.08057950e-03, -1.71887666e-01,  1.62454206e-03,\n",
      "        2.30163652e-02,  4.73849587e-02, -1.20331079e-01,  3.50427069e-02,\n",
      "        7.22025754e-03, -1.15919508e-01,  1.18294852e-02, -2.83112489e-02,\n",
      "       -2.52492838e-02,  3.80194224e-02, -1.27767678e-02,  1.58414513e-01,\n",
      "       -3.66619453e-02, -5.09991981e-02, -6.78543150e-02, -2.27361545e-02,\n",
      "       -1.29131943e-01,  9.13249403e-02, -1.19543867e-02, -5.37916273e-02,\n",
      "        3.11729610e-02,  6.80300146e-02, -6.76258877e-02,  2.27819197e-02,\n",
      "       -9.45750065e-03,  6.21758774e-02, -1.05420060e-01, -5.80777973e-03,\n",
      "        5.47978617e-02,  2.65132599e-02,  1.05871344e-02,  1.68563083e-01,\n",
      "       -1.04935221e-01, -7.64713297e-03, -1.09755270e-01,  1.22885466e-01,\n",
      "        2.05411256e-04, -1.19921453e-01,  1.50171416e-02,  5.15170693e-02,\n",
      "       -5.02066035e-03,  7.29618147e-02, -4.37571062e-03,  2.09340900e-02,\n",
      "        1.17067590e-01, -3.84712406e-02, -7.71881640e-03, -1.76076349e-02,\n",
      "       -8.80942568e-02, -2.64813211e-02,  2.15508696e-03,  6.86179847e-03,\n",
      "        9.71082877e-03, -1.84375599e-01, -4.77538556e-02,  2.00069807e-02,\n",
      "        1.57835349e-01,  1.39641929e-02, -6.51502237e-02,  1.95799500e-01,\n",
      "        8.39278996e-02, -4.85004671e-03, -1.08315319e-01, -8.62974152e-02,\n",
      "        3.51872435e-03,  1.20613649e-01,  3.76903601e-02,  1.24242574e-01,\n",
      "       -4.41433601e-02, -1.70111686e-01, -1.88165007e-03,  7.25548416e-02,\n",
      "       -4.59664874e-03,  7.07126642e-03,  1.42381668e-01, -5.28088100e-02,\n",
      "        3.33170146e-02, -5.92927914e-03, -3.42147835e-02, -2.38610804e-02,\n",
      "       -9.24665481e-02,  4.66621574e-03,  9.96782258e-02,  1.91892162e-02,\n",
      "       -1.82819545e-01, -1.66437313e-01, -2.32591890e-02,  1.80097464e-02,\n",
      "        4.06917837e-03,  1.28346086e-02,  3.54388095e-02,  3.91128436e-02,\n",
      "       -1.93350948e-02, -3.88358198e-02,  1.75958627e-03,  8.86357017e-03,\n",
      "        7.61651108e-03,  1.29875363e-04,  6.39064834e-02, -1.13400295e-02,\n",
      "        1.46668315e-01, -4.09180485e-02, -2.69728564e-02, -1.78993866e-03,\n",
      "       -3.98164475e-03, -1.73880234e-02,  1.50253192e-01,  9.30486433e-03,\n",
      "       -4.51455824e-04,  1.00247574e-03, -5.60639426e-02, -5.59636671e-03,\n",
      "        1.65970195e-02, -1.02831952e-01, -1.71610527e-02,  1.07554227e-01,\n",
      "        8.40315479e-04, -5.06027713e-02,  5.54061271e-02,  1.92974713e-02,\n",
      "       -9.38803190e-04, -6.83488548e-02,  2.46289279e-02,  7.67647624e-02,\n",
      "       -1.24685623e-01, -4.25330326e-02,  8.11500251e-02,  1.53167238e-02,\n",
      "        1.24598674e-01], dtype=float32), 'theta': Array([-1.1712428 , -1.7423006 , -0.781967  , -0.49346915, -1.1168174 ],      dtype=float32), 'gamma': Array([-0.82968855, -3.097542  , -4.2479267 ], dtype=float32), 'triu_star_probs': Array([0.00548963, 0.01664755, 0.0075108 , ..., 0.0759128 , 0.01449805,\n",
      "       0.0250995 ], dtype=float32)}\n"
     ]
    }
   ],
   "source": [
    "init_vals = {\n",
    "    \"theta\": jnp.zeros(data_st[\"cov\"].shape[1]),\n",
    "    # \"gamma\": jnp.zeros(data_st[\"cov\"].shape[1] + 1),\n",
    "    # \"gamma\": jnp.zeros(2*data_st[\"cov\"].shape[1]),\n",
    "    \"gamma\": jnp.zeros(2),\n",
    "}\n",
    "\n",
    "guide = AutoMultivariateNormal(networks_marginalized_model)\n",
    "\n",
    "svi = SVI(\n",
    "    model=networks_marginalized_model,\n",
    "    guide=guide,\n",
    "    optim=ClippedAdam(0.0005),\n",
    "    loss=Trace_ELBO(),\n",
    ")\n",
    "\n",
    "rng_key = jax.random.PRNGKey(0)\n",
    "rng_key, _ = jax.random.split(rng_key)\n",
    "\n",
    "svi_result = svi.run(rng_key=rng_key,\n",
    "                    num_steps=10000,\n",
    "                    progress_bar=True,\n",
    "                    data=data_st,\n",
    "                    init_params=init_vals)\n",
    "map_params = guide.median(svi_result.params)\n",
    "\n",
    "print(map_params)"
   ]
  },
  {
   "cell_type": "code",
   "execution_count": null,
   "metadata": {},
   "outputs": [
    {
     "name": "stdout",
     "output_type": "stream",
     "text": [
      "(83436,)\n"
     ]
    }
   ],
   "source": [
    "\n",
    "rng_key, _ = jax.random.split(rng_key)\n",
    "preds = Predictive(\n",
    "    model=networks_marginalized_model,\n",
    "    guide=guide,\n",
    "    params=svi_result.params,\n",
    "    num_samples=1,\n",
    ")(rng_key, data_st)\n",
    "\n",
    "triu_star_probs = preds[\"triu_star_probs\"][0]\n",
    "print(triu_star_probs.shape)"
   ]
  },
  {
   "cell_type": "code",
   "execution_count": null,
   "metadata": {},
   "outputs": [
    {
     "data": {
      "text/plain": [
       "(array([29334., 17836., 10430.,  6002.,  4814.,  3484.,  2455.,  1850.,\n",
       "         1439.,  1260.,  1132.,   849.,   384.,   384.,   338.,   334.,\n",
       "          310.,   282.,   269.,   250.]),\n",
       " array([9.10657218e-06, 4.41654678e-03, 8.82398710e-03, 1.32314274e-02,\n",
       "        1.76388677e-02, 2.20463090e-02, 2.64537483e-02, 3.08611896e-02,\n",
       "        3.52686308e-02, 3.96760702e-02, 4.40835096e-02, 4.84909527e-02,\n",
       "        5.28983921e-02, 5.73058315e-02, 6.17132708e-02, 6.61207139e-02,\n",
       "        7.05281496e-02, 7.49355927e-02, 7.93430358e-02, 8.37504715e-02,\n",
       "        8.81579146e-02]),\n",
       " <BarContainer object of 20 artists>)"
      ]
     },
     "execution_count": 44,
     "metadata": {},
     "output_type": "execute_result"
    },
    {
     "data": {
      "image/png": "[encoded data removed]",
      "text/plain": [
       "<Figure size 640x480 with 1 Axes>"
      ]
     },
     "metadata": {},
     "output_type": "display_data"
    }
   ],
   "source": [
    "plt.hist(triu_star_probs, bins=20)"
   ]
  },
  {
   "cell_type": "code",
   "execution_count": 45,
   "metadata": {},
   "outputs": [
    {
     "data": {
      "text/plain": [
       "[<matplotlib.lines.Line2D at 0x16de7fe97d0>]"
      ]
     },
     "execution_count": 45,
     "metadata": {},
     "output_type": "execute_result"
    },
    {
     "data": {
      "image/png": "[encoded data removed]",
      "text/plain": [
       "<Figure size 640x480 with 1 Axes>"
      ]
     },
     "metadata": {},
     "output_type": "display_data"
    }
   ],
   "source": [
    "plt.plot(svi_result.losses)"
   ]
  },
  {
   "cell_type": "code",
   "execution_count": 46,
   "metadata": {},
   "outputs": [
    {
     "name": "stdout",
     "output_type": "stream",
     "text": [
      "(3000, 83436)\n"
     ]
    }
   ],
   "source": [
    "from src.MWG_sampler import sample_posterior_triu_star\n",
    "\n",
    "rng_key, _ = jax.random.split(rng_key)\n",
    "post_triu = sample_posterior_triu_star(rng_key, triu_star_probs, 3000)\n",
    "print(post_triu.shape)"
   ]
  },
  {
   "cell_type": "code",
   "execution_count": 35,
   "metadata": {},
   "outputs": [],
   "source": [
    "N = df_min.shape[0]\n",
    "\n",
    "@jax.jit\n",
    "def triu_to_mat(triu):\n",
    "    mat = jnp.zeros((N, N))\n",
    "    mat = mat.at[np.triu_indices(n=N, k=1)].set(triu)\n",
    "    return mat + mat.T\n",
    "\n",
    "@jax.jit\n",
    "def compute_deg(triu):\n",
    "    mat = triu_to_mat(triu)\n",
    "    return jnp.sum(mat, axis=1)\n",
    "\n",
    "vmap_deg = jax.vmap(compute_deg)\n",
    "\n"
   ]
  },
  {
   "cell_type": "code",
   "execution_count": null,
   "metadata": {},
   "outputs": [
    {
     "name": "stdout",
     "output_type": "stream",
     "text": [
      "(3000, 409)\n"
     ]
    }
   ],
   "source": [
    "true_deg = jnp.sum(st_net, axis=1)\n",
    "stw2_deg = jnp.sum(stw2_net, axis=1)\n",
    "bf_deg = jnp.sum(bf_net, axis=1)\n",
    "\n",
    "post_deg = vmap_deg(post_triu)\n",
    "\n",
    "\n",
    "\n",
    "print(post_deg.shape)\n",
    "\n",
    "\n",
    "# plt.scatter(true_deg, stw2_deg)\n"
   ]
  },
  {
   "cell_type": "code",
   "execution_count": 50,
   "metadata": {},
   "outputs": [
    {
     "name": "stdout",
     "output_type": "stream",
     "text": [
      "cor ST and ST w2 0.24244009\n",
      "cor ST and Post -0.05010764\n",
      "cor ST and BF 0.26703674\n"
     ]
    },
    {
     "data": {
      "image/png": "[encoded data removed]",
      "text/plain": [
       "<Figure size 1000x500 with 3 Axes>"
      ]
     },
     "metadata": {},
     "output_type": "display_data"
    }
   ],
   "source": [
    "fig, axs = plt.subplots(1, 3, figsize=(10, 5))\n",
    "\n",
    "axs[0].scatter(true_deg, stw2_deg)\n",
    "axs[0].set_xlabel(\"ST degree\")\n",
    "axs[0].set_ylabel(\"ST w2 degree\")\n",
    "\n",
    "axs[1].scatter(true_deg, post_deg.mean(axis=0))\n",
    "axs[1].set_xlabel(\"ST degree\")\n",
    "axs[1].set_ylabel(\"Posterior degree\")\n",
    "\n",
    "axs[2].scatter(stw2_deg, bf_deg)\n",
    "axs[2].set_xlabel(\"ST w2 degree\")\n",
    "axs[2].set_ylabel(\"BF degree\")\n",
    "\n",
    "print(\"cor ST and ST w2\", jnp.corrcoef(true_deg, stw2_deg)[0, 1])\n",
    "print(\"cor ST and Post\", jnp.corrcoef(true_deg, post_deg.mean(axis=0))[0, 1])\n",
    "print(\"cor ST and BF\", jnp.corrcoef(true_deg, bf_deg)[0, 1])"
   ]
  },
  {
   "cell_type": "code",
   "execution_count": null,
   "metadata": {},
   "outputs": [],
   "source": [
    "# TODO: keep tinkering. options:\n",
    "# 1. Run models with known st_triu values and perform posterior predictive checks for model fit\n",
    "# 2. Run model with combined st_w2 and bf proxy networks -- think about these models form and prior p(ST) model "
   ]
  },
  {
   "cell_type": "code",
   "execution_count": 36,
   "metadata": {},
   "outputs": [
    {
     "name": "stderr",
     "output_type": "stream",
     "text": [
      "100%|██████████| 10000/10000 [00:41<00:00, 240.17it/s, init loss: 63750.4883, avg. loss [9501-10000]: 10180.0634]\n"
     ]
    },
    {
     "name": "stdout",
     "output_type": "stream",
     "text": [
      "{'theta_auto_loc': Array([-3.4695828e+00,  2.0042977e-01, -1.6675236e-02,  1.9515734e-03,\n",
      "        4.4946852e-01], dtype=float32), 'theta_auto_scale': Array([0.031184  , 0.03695186, 0.04914178, 0.03640843, 0.04848412],      dtype=float32), 'u_auto_loc': Array([-8.55326414e-01, -6.91663742e-01, -7.78363645e-01, -3.87680799e-01,\n",
      "       -9.55013514e-01, -1.15252268e+00, -9.85370755e-01, -1.45421815e+00,\n",
      "       -1.15428591e+00, -1.23788798e+00, -1.44665885e+00, -1.23459208e+00,\n",
      "        9.25605774e-01, -7.21631706e-01, -6.39822245e-01, -5.97121775e-01,\n",
      "       -2.07615107e-01, -4.60302562e-01, -6.51606679e-01, -3.67773086e-01,\n",
      "        8.44940022e-02, -3.11440110e-01, -3.71619105e-01, -1.69964209e-01,\n",
      "        1.58955306e-01, -4.87818033e-01, -7.03590930e-01, -9.58887577e-01,\n",
      "       -4.85452741e-01, -7.31882513e-01, -6.15555704e-01, -6.37028456e-01,\n",
      "       -3.73188347e-01, -5.47956765e-01,  7.98394501e-01, -1.66611776e-01,\n",
      "       -1.01175714e+00, -3.65844786e-01, -4.95705187e-01, -5.61826766e-01,\n",
      "       -2.06089556e-01, -2.44452447e-01,  1.01761484e+00, -7.88737476e-01,\n",
      "        2.92052209e-01,  5.29027544e-02,  1.08376181e+00,  1.20700991e+00,\n",
      "       -1.06447652e-01,  1.00458369e-01, -2.28214506e-02,  5.24417639e-01,\n",
      "        1.41669124e-01,  9.70539033e-01,  9.43405151e-01,  1.24174953e+00,\n",
      "        8.69477689e-01,  9.81341600e-01,  9.39201057e-01,  7.84694552e-02,\n",
      "        1.10674851e-01,  2.66545713e-01,  3.59335810e-01,  1.09622374e-01,\n",
      "        5.37188351e-01,  5.18972278e-01,  1.59136319e+00,  3.21068406e-01,\n",
      "        3.73192996e-01,  4.16490942e-01,  4.24330741e-01,  7.35399246e-01,\n",
      "        2.11853147e-01,  5.52112877e-01,  2.81727523e-01,  3.67751598e-01,\n",
      "        1.53142536e+00,  2.73249865e-01,  2.63407707e-01,  9.47075337e-02,\n",
      "        1.67182910e+00,  1.24469988e-01,  6.19327538e-02,  4.93341163e-02,\n",
      "        1.02975678e+00,  5.42191267e-01,  2.96267241e-01,  1.64065373e+00,\n",
      "       -4.95506264e-02,  6.64456844e-01,  7.76819944e-01,  5.30681610e-01,\n",
      "        8.02433670e-01,  5.91025651e-01,  5.97729504e-01,  3.60919744e-01,\n",
      "        5.39518297e-01,  4.16243374e-01,  1.55351532e+00,  1.19405568e+00,\n",
      "        1.12225199e+00,  1.01896167e+00,  1.16799235e+00,  5.64304709e-01,\n",
      "       -1.89569732e-03,  8.02353680e-01,  6.71093106e-01,  5.73345125e-01,\n",
      "        7.55398273e-01,  7.48646796e-01,  4.04488832e-01, -1.07151389e+00,\n",
      "       -1.41443920e+00, -1.80339110e+00, -1.35039771e+00,  3.61604095e-01,\n",
      "        2.72317529e-01,  5.69370449e-01,  4.88106996e-01,  2.14711681e-01,\n",
      "        1.38129428e-01, -3.52495074e-01,  3.90594691e-01,  5.74216485e-01,\n",
      "        5.21551609e-01,  4.93412554e-01,  5.37192881e-01,  4.28544015e-01,\n",
      "        6.17239773e-01,  7.87248731e-01,  2.24280104e-01,  5.80478489e-01,\n",
      "        4.95675296e-01,  5.01255035e-01,  6.08790994e-01,  4.68622684e-01,\n",
      "        6.17110252e-01, -1.21893120e+00, -1.22812605e+00, -1.15971637e+00,\n",
      "       -1.66918802e+00,  4.34742011e-02, -7.34478384e-02,  1.04552381e-01,\n",
      "        4.13091481e-01, -1.21710098e+00, -1.26308429e+00,  5.81319213e-01,\n",
      "        5.37171304e-01, -1.26446915e+00, -1.15685713e+00,  9.55973208e-01,\n",
      "       -1.80803034e-02, -7.74771869e-02, -5.23581803e-01, -8.24975729e-01,\n",
      "       -1.04491127e+00, -9.73751903e-01, -7.69317448e-01, -1.00730586e+00,\n",
      "       -6.29793480e-02,  6.20884776e-01, -7.65619695e-01, -1.15556395e+00,\n",
      "        2.83783246e-02,  2.50539053e-02,  7.16782391e-01, -7.98472166e-01,\n",
      "       -1.75953060e-01,  5.75646222e-01,  8.47167492e-01, -1.66619167e-01,\n",
      "        1.02294959e-01,  5.17957032e-01,  1.66806400e+00,  1.87669289e+00,\n",
      "        6.75769150e-01,  8.67053628e-01,  1.32304084e+00,  1.84483081e-01,\n",
      "       -4.91446644e-01, -1.03211582e+00, -1.23169684e+00,  7.14069724e-01,\n",
      "        6.50899529e-01,  8.60471964e-01,  5.88121474e-01, -8.44535112e-01,\n",
      "       -2.63731360e-01, -2.47857615e-01, -1.33787835e+00, -7.41411686e-01,\n",
      "       -1.04541433e+00, -1.79195213e+00, -1.91836154e+00, -8.91592979e-01,\n",
      "       -2.82380939e-01, -5.47355413e-01,  2.28071064e-01, -3.34838271e-01,\n",
      "       -8.35916460e-01, -3.80184859e-01, -8.47362459e-01, -7.93227911e-01,\n",
      "       -6.60629034e-01,  1.37907612e+00, -3.87359768e-01, -5.90954900e-01,\n",
      "        1.68408763e+00, -7.27546334e-01, -3.78980815e-01, -3.66635025e-01,\n",
      "       -4.11080092e-01,  2.02881366e-01, -4.55111831e-01, -9.01175380e-01,\n",
      "        6.97489679e-01,  7.49156415e-01,  7.64866948e-01, -7.32198715e-01,\n",
      "        1.43888399e-01,  8.97589087e-01,  1.55902863e+00,  4.04332757e-01,\n",
      "       -2.49687806e-01,  7.61240944e-02,  1.16117191e+00,  1.94391847e-01,\n",
      "        3.25377524e-01,  5.25694013e-01,  4.14601415e-01,  8.27933729e-01,\n",
      "        1.56868649e+00,  1.53318584e-01,  1.23030865e+00, -1.98035848e+00,\n",
      "        9.42000747e-01,  2.87476808e-01,  1.90517634e-01,  1.82673186e-02,\n",
      "       -4.39475365e-02,  8.74588728e-01,  5.23659348e-01,  4.17425424e-01,\n",
      "        3.23224068e-01,  1.02883942e-01, -1.71999007e-01, -8.34465772e-03,\n",
      "       -1.34412110e-01,  3.78077954e-01,  1.61826706e+00, -7.38971978e-02,\n",
      "       -5.47773600e-01,  1.25748068e-01,  1.03829217e+00, -2.11333588e-01,\n",
      "        7.68906832e-01,  3.46783221e-01,  1.96930557e-01,  6.24875426e-01,\n",
      "        5.52219450e-01,  2.75543272e-01,  1.16307378e+00,  7.50584781e-01,\n",
      "        9.43860531e-01,  7.39012182e-01,  4.76313591e-01,  7.75667071e-01,\n",
      "        7.81596363e-01, -2.87276894e-01,  1.19798458e+00, -1.57681155e+00,\n",
      "       -1.23606896e+00,  4.52868134e-01, -7.45621741e-01,  1.28872573e+00,\n",
      "        1.23039329e+00,  6.32140100e-01,  6.24873757e-01,  2.36206859e-01,\n",
      "        5.40574610e-01,  6.12305045e-01,  1.19506311e+00,  1.02131414e+00,\n",
      "       -3.60109627e-01,  5.66925466e-01,  3.57743502e-01,  3.53460610e-01,\n",
      "        1.98898271e-01,  1.10213971e+00,  3.82144600e-01,  9.32312965e-01,\n",
      "       -7.00225979e-02,  1.12645388e+00, -1.38396287e+00,  4.68570262e-01,\n",
      "        6.88297927e-01,  2.96915472e-01, -2.23546252e-01, -6.89918637e-01,\n",
      "       -1.70132864e+00,  1.78503740e+00,  1.04853117e+00, -1.24282885e+00,\n",
      "        1.10914779e+00, -5.30118883e-01,  6.36867404e-01,  8.46333206e-01,\n",
      "       -5.60176551e-01, -7.04905242e-02, -4.42474276e-01, -1.58572644e-01,\n",
      "        3.41952771e-01, -1.33136404e+00, -6.02453649e-01, -1.10995686e+00,\n",
      "       -1.31143451e+00, -9.40102935e-01, -4.58158553e-01, -6.37283325e-01,\n",
      "        1.95387709e+00, -4.79642972e-02,  8.14833999e-01, -2.37189487e-01,\n",
      "       -1.63416207e-01, -8.62162530e-01, -9.88515854e-01, -3.73782545e-01,\n",
      "       -1.00881439e-02, -1.41114116e+00, -1.18646955e+00, -9.90174472e-01,\n",
      "        4.33005273e-01, -1.26353014e+00, -8.83649528e-01, -7.64031053e-01,\n",
      "       -1.35220444e+00, -8.55394602e-01, -6.86249673e-01, -7.20626175e-01,\n",
      "       -7.30328143e-01, -1.46269107e+00, -1.75339490e-01, -1.56427574e+00,\n",
      "       -4.41233248e-01,  5.91374874e-01,  6.52060866e-01, -1.06724930e+00,\n",
      "       -1.23299348e+00, -4.40596938e-01, -1.29296708e+00, -9.56764340e-01,\n",
      "       -1.97881490e-01, -1.24887145e+00, -4.93650049e-01, -5.97718596e-01,\n",
      "        1.13745773e+00, -5.70488513e-01, -6.34338617e-01,  5.07511914e-01,\n",
      "        1.48098266e+00,  1.06253445e+00,  6.37231529e-01,  3.92952710e-02,\n",
      "        8.75723541e-01,  6.91721618e-01,  8.30590248e-01,  9.62262452e-01,\n",
      "        1.16582346e+00,  1.05457354e+00,  1.61796582e+00, -5.25506198e-01,\n",
      "        5.98429620e-01,  1.15863657e+00, -8.55880603e-02,  3.21980745e-01,\n",
      "        7.81463459e-03, -5.03793538e-01,  5.24833202e-01,  2.82699555e-01,\n",
      "        6.96903527e-01,  5.62355280e-01,  1.11541831e+00,  5.43132901e-01,\n",
      "        7.45670617e-01,  6.52496815e-01,  5.06063759e-01,  4.57787067e-01,\n",
      "        6.02394402e-01,  8.23952854e-01,  5.20224929e-01, -1.58787712e-01,\n",
      "        1.92225349e+00,  4.38837707e-01,  3.01231086e-01, -1.65162027e+00,\n",
      "        4.49740648e-01,  3.55045676e-01, -1.23000193e+00, -4.51005906e-01,\n",
      "        7.82596111e-01, -8.11137676e-01, -1.74731672e+00, -1.50583720e+00,\n",
      "       -1.29330385e+00, -9.59411144e-01, -7.15193987e-01,  5.47230721e-01,\n",
      "        5.29996216e-01,  3.63851070e-01, -7.53992379e-01,  5.51568270e-01,\n",
      "       -6.69645607e-01, -4.57660824e-01, -1.36161602e+00, -3.42707098e-01,\n",
      "       -1.10898876e+00,  1.05950820e+00, -2.96646416e-01, -5.46365201e-01,\n",
      "       -6.54986739e-01,  3.31315309e-01,  2.85925895e-01,  3.62697840e-01,\n",
      "        3.20837289e-01,  3.19611728e-01, -2.56980509e-01,  5.84297955e-01,\n",
      "        7.41085052e-01,  5.50646901e-01, -1.84588596e-01, -1.58089209e+00,\n",
      "        6.19995415e-01,  5.10651112e-01,  1.00452554e+00, -1.36622930e+00,\n",
      "        2.37263769e-01, -6.21751547e-01,  1.85590953e-01,  4.33068305e-01,\n",
      "       -4.44630563e-01, -1.29188561e+00,  1.17816246e+00, -1.21344793e+00,\n",
      "        3.08419317e-01,  3.86320144e-01, -7.53396630e-01, -8.11299622e-01,\n",
      "       -1.81927407e+00, -1.28917336e+00, -1.98019063e+00,  7.22436368e-01,\n",
      "        8.90599132e-01,  2.11929917e+00, -1.71076521e-01, -1.71301699e+00,\n",
      "        1.56814420e+00, -1.22177541e+00, -5.06900728e-01, -1.31408775e+00,\n",
      "        7.56061673e-01,  6.18507385e-01,  9.91614640e-01, -1.12081683e+00,\n",
      "        1.56590092e+00,  3.12399030e-01,  1.52840292e+00,  6.61894917e-01,\n",
      "        1.83610773e+00, -1.72345579e+00, -2.30504364e-01, -1.24920523e+00,\n",
      "       -1.60407448e+00, -1.97908491e-01, -1.10230005e+00,  1.66238737e+00,\n",
      "        9.30613756e-01, -1.54572439e+00, -1.37843394e+00, -6.17602527e-01,\n",
      "        5.11924207e-01, -1.43577611e+00,  2.10448885e+00,  1.83262706e+00,\n",
      "        1.44695187e+00,  1.64985573e+00,  2.25364065e+00, -2.42942309e+00,\n",
      "       -2.39067984e+00, -2.36943412e+00,  2.45561075e+00, -2.38280869e+00,\n",
      "       -2.38064408e+00, -2.38174987e+00, -2.39543438e+00, -2.42293215e+00,\n",
      "       -2.39993048e+00,  2.45449090e+00, -2.40264249e+00, -2.41568661e+00,\n",
      "        2.49649763e+00, -2.40154743e+00, -2.42656946e+00], dtype=float32), 'u_auto_scale': Array([0.30209976, 0.28238332, 0.34449452, 0.44523942, 0.2782792 ,\n",
      "       0.30188015, 0.43638352, 0.46788013, 0.28803974, 0.4403214 ,\n",
      "       0.2807791 , 0.4597658 , 0.43616664, 0.2826411 , 0.24479784,\n",
      "       0.28826714, 0.37035233, 0.17357475, 0.48081893, 0.24753138,\n",
      "       0.17302826, 0.67299324, 0.35740703, 0.5435622 , 0.32270578,\n",
      "       0.30938157, 0.32146645, 0.38615933, 0.43260267, 0.4006787 ,\n",
      "       0.34132177, 0.39308584, 0.5256561 , 0.2586675 , 0.34881   ,\n",
      "       0.3098673 , 0.573467  , 0.2960291 , 0.31456476, 0.3298424 ,\n",
      "       0.305168  , 0.288334  , 0.5291076 , 0.25112873, 0.25919014,\n",
      "       0.62565356, 0.30699435, 0.34310788, 0.44146577, 0.2950103 ,\n",
      "       0.21856853, 0.34178287, 0.34687656, 0.43820328, 0.4105859 ,\n",
      "       0.3273806 , 0.32189214, 0.30899853, 0.29894668, 0.30261606,\n",
      "       0.23755448, 0.22612594, 0.33780244, 0.23835933, 0.28217417,\n",
      "       0.20811766, 0.5028336 , 0.35376486, 0.25647324, 0.6087369 ,\n",
      "       0.5236709 , 0.5356018 , 0.2727117 , 0.32754403, 0.26290855,\n",
      "       0.31197393, 0.74035585, 0.27205288, 0.2444931 , 1.0323267 ,\n",
      "       0.3443451 , 0.22866586, 0.2516011 , 0.21253997, 0.6261302 ,\n",
      "       0.35604343, 0.2580794 , 0.36434907, 0.2574252 , 0.27088124,\n",
      "       0.22938646, 0.2582722 , 0.36998475, 0.37632176, 0.17949466,\n",
      "       0.23690388, 0.35076848, 0.21006702, 0.6624119 , 0.5041488 ,\n",
      "       0.37984762, 0.3595415 , 0.57312393, 0.21192129, 0.23851408,\n",
      "       0.44201627, 0.21341832, 0.21445814, 0.3659154 , 0.30569452,\n",
      "       0.2630672 , 0.43758065, 0.2884231 , 0.56632817, 0.2435046 ,\n",
      "       0.4737057 , 0.29177716, 0.3586222 , 0.33202383, 0.45512655,\n",
      "       0.27604917, 0.33583876, 0.30784255, 0.18923448, 0.31069556,\n",
      "       0.26038495, 0.21385501, 0.18088119, 0.2109871 , 0.39575312,\n",
      "       0.61574453, 0.5645617 , 0.19274636, 0.4863706 , 0.20681424,\n",
      "       0.1589046 , 0.23771222, 0.4713338 , 0.3879272 , 0.48404938,\n",
      "       0.65690196, 0.34094164, 0.3391862 , 0.5581033 , 1.0620753 ,\n",
      "       0.23234503, 0.30958423, 0.1821876 , 0.22900085, 0.2814777 ,\n",
      "       0.28308094, 0.5209244 , 0.3447161 , 0.47542197, 0.5545614 ,\n",
      "       0.53910196, 0.30781054, 0.28317025, 0.5089462 , 0.35547194,\n",
      "       0.42185095, 0.25161523, 0.33222187, 0.33481997, 0.2785542 ,\n",
      "       0.47295547, 0.34125787, 0.28706956, 0.45848882, 0.44795823,\n",
      "       0.32824293, 0.26896894, 0.25606194, 0.23432451, 0.28137726,\n",
      "       0.42749438, 0.2378675 , 0.47234032, 0.4233459 , 0.30693448,\n",
      "       0.3239257 , 0.28853232, 0.2610464 , 0.34287658, 0.3308327 ,\n",
      "       0.40887424, 0.29781222, 0.44117993, 0.229438  , 0.31771904,\n",
      "       0.43711907, 0.3139777 , 0.44607514, 0.48012364, 0.54877913,\n",
      "       0.36138362, 0.33920768, 0.25505555, 0.6298875 , 0.2908462 ,\n",
      "       0.404224  , 0.2660643 , 0.29366553, 0.43554386, 0.41969898,\n",
      "       0.6127265 , 0.29284003, 0.2700268 , 0.39208898, 0.2872622 ,\n",
      "       0.19914012, 0.30630285, 0.29364884, 0.32056588, 0.3547142 ,\n",
      "       0.39648798, 0.6761307 , 0.698404  , 0.32466957, 0.7992887 ,\n",
      "       0.59478754, 0.37000436, 0.4074763 , 0.29002824, 0.30449572,\n",
      "       0.4048537 , 0.60998803, 0.43126407, 0.4859401 , 0.31005257,\n",
      "       0.35270688, 0.47569323, 0.530321  , 0.4195634 , 0.3442284 ,\n",
      "       0.6588092 , 0.52813315, 0.36955622, 0.30796477, 0.19623993,\n",
      "       0.35696322, 0.4976405 , 0.26238593, 0.37189174, 0.26064155,\n",
      "       0.28717804, 0.32999095, 0.4510513 , 0.3309647 , 1.1659057 ,\n",
      "       0.41775596, 0.33594504, 0.89572453, 0.26404148, 0.29961953,\n",
      "       0.6078035 , 0.39786476, 0.33041048, 0.87230647, 0.29968616,\n",
      "       0.5016764 , 0.4999205 , 0.28879517, 0.43524784, 0.2964589 ,\n",
      "       0.35698217, 0.2115763 , 0.2756647 , 0.3076692 , 0.6384357 ,\n",
      "       0.3758031 , 0.73038834, 0.3108258 , 0.29192448, 0.70468694,\n",
      "       0.5705489 , 0.6882004 , 0.22416872, 0.29755682, 0.24331531,\n",
      "       0.32255325, 0.22255372, 0.42126754, 0.32515156, 0.3386442 ,\n",
      "       0.24796629, 0.31816122, 0.26737204, 0.23700333, 0.68331504,\n",
      "       0.19949958, 0.39389384, 0.51966447, 0.44278976, 0.36020204,\n",
      "       0.37659192, 0.29348838, 0.4318923 , 0.2394166 , 0.45632756,\n",
      "       0.63311154, 0.59107417, 0.34897962, 0.31529224, 0.34798995,\n",
      "       0.57935727, 0.6867136 , 0.5796522 , 0.77537745, 0.39943945,\n",
      "       0.3567993 , 0.7038839 , 0.7545607 , 0.35951194, 0.3912007 ,\n",
      "       0.55017805, 0.33283728, 0.26274523, 1.0993599 , 0.3054013 ,\n",
      "       0.40315408, 0.35278246, 0.2698471 , 0.23171383, 0.2968484 ,\n",
      "       0.3828501 , 0.48878235, 0.36427918, 0.31553453, 0.44019943,\n",
      "       0.28783092, 0.2092271 , 0.5352982 , 0.5970993 , 0.2920143 ,\n",
      "       0.5766358 , 0.3576945 , 0.5829797 , 0.41784042, 0.36249942,\n",
      "       0.33781445, 0.52422845, 0.6729182 , 0.4877179 , 0.28034124,\n",
      "       0.6308497 , 0.5121075 , 0.34420854, 0.3238188 , 0.33972818,\n",
      "       0.49121034, 0.674945  , 0.8462135 , 0.4500675 , 0.23209111,\n",
      "       0.2554422 , 0.9801997 , 0.44476837, 0.7858682 , 0.523862  ,\n",
      "       0.5891638 , 0.28985313, 0.4146967 , 0.44722372, 0.34573826,\n",
      "       0.36276475, 0.30288658, 0.3538136 , 0.3109042 , 0.5090384 ,\n",
      "       0.5313108 , 0.63852924, 0.50220424, 0.3269321 , 0.55737805,\n",
      "       0.34660047, 0.29131797, 0.53520733, 0.25985193, 0.51483035,\n",
      "       0.2689715 , 0.17481337, 0.43827122, 0.25043172, 0.3827723 ,\n",
      "       0.36537933, 0.33486587, 0.6473019 , 0.46101034, 0.34929273,\n",
      "       0.3198377 , 0.89083564, 0.31743664, 0.32765222, 0.70015544,\n",
      "       0.37261784, 0.25779656, 0.20086941, 0.4570241 , 0.5724005 ,\n",
      "       0.81430346, 0.2931905 , 0.44727835, 0.38256043, 0.44300482,\n",
      "       0.37184045, 0.35522655, 0.3927261 , 0.2741878 , 0.7394615 ,\n",
      "       0.2822634 , 0.44349575, 0.46196675, 1.1621877 , 0.38090822,\n",
      "       0.25939706, 0.590644  , 0.7638736 , 0.28906527, 0.2956466 ,\n",
      "       0.58324933, 0.8432112 , 0.4856031 , 0.30102712, 0.3463905 ,\n",
      "       0.67963433, 0.5680148 , 0.30268604, 0.34276158, 0.22540979,\n",
      "       0.4983583 , 0.36894917, 0.38838568, 0.37515676, 0.46442044,\n",
      "       0.47329193, 0.8004099 , 0.31523156, 0.25419426, 0.25781178,\n",
      "       0.85917413, 0.66831833, 0.4278956 , 0.37272412, 0.47281164,\n",
      "       0.89122105, 1.1334844 , 0.68139756, 0.78306663, 0.3117719 ,\n",
      "       0.65652764, 0.9432945 , 0.9551834 , 0.6005335 , 1.0521263 ,\n",
      "       0.59993666, 0.71950424, 0.34880918, 0.5307984 , 0.48845452,\n",
      "       0.5670785 , 0.5238219 , 0.39255312, 0.90810734, 0.41788036,\n",
      "       0.54658306, 0.54296243, 0.35322922, 0.55399644, 0.4554296 ,\n",
      "       0.7638758 , 0.413588  , 0.49420857, 1.6678034 , 0.49919432,\n",
      "       0.6953653 , 0.8774434 , 0.36158806, 0.3916525 , 1.124006  ,\n",
      "       0.9455246 , 0.44539118, 0.57860404, 0.55188656, 0.4750376 ,\n",
      "       0.6732722 , 0.53035367, 0.6515713 , 0.6413397 , 0.67104286,\n",
      "       0.6078255 , 0.67480886, 0.67836654, 0.67125374, 0.67327523,\n",
      "       0.65378755, 0.64853996, 0.6173121 , 0.66331285, 0.6367372 ,\n",
      "       0.6024687 , 0.68691105, 0.6574886 ], dtype=float32)}\n"
     ]
    }
   ],
   "source": [
    "\n",
    "def prior_model(data):\n",
    "    with numpyro.plate(\"latent_u\", data[\"n\"]):\n",
    "        u = numpyro.sample(\"u\", dist.Normal(0, 1))\n",
    "        # u = numpyro.sample(\"u\", dist.MultivariateNormal(jnp.zeros(2), jnp.eye(2)))\n",
    "\n",
    "    idx = np.triu_indices(n=data[\"n\"], k=1)\n",
    "    u_diff = u[idx[0]] - u[idx[1]]\n",
    "    u_norm = jnp.abs(u_diff)\n",
    "\n",
    "    n_cols = data[\"cov\"].shape[1]\n",
    "    theta = numpyro.sample(\"theta\", dist.Normal(0, PRIOR_SCALE).expand([n_cols]))\n",
    "   \n",
    "        # P(A*_ij=1)\n",
    "    # star_probs = jax.nn.sigmoid(data[\"cov\"] @ theta - u_diff)\n",
    "    star_probs = jax.nn.sigmoid(data[\"cov\"] @ theta - u_norm)\n",
    "    star_probs = jnp.clip(star_probs, 1e-6, 1 - 1e-6)\n",
    "\n",
    "    with numpyro.plate(\"edges\", data[\"cov\"].shape[0]):\n",
    "        numpyro.sample(\"obs\", dist.BernoulliProbs(star_probs), obs=data[\"ST_triu\"])\n",
    "\n",
    "\n",
    "# run model with svi \n",
    "\n",
    "data_st_prior = {\"ST_triu\": st_net_triu,\n",
    "            \"cov\": df_min_net_cov,\n",
    "            \"n\" : df_min.shape[0]}\n",
    "\n",
    "init_vals = {\n",
    "    \"theta\": jnp.zeros(data_st_prior[\"cov\"].shape[1]),\n",
    "}\n",
    "\n",
    "# guide = AutoMultivariateNormal(prior_model)\n",
    "# guide = AutoLowRankMultivariateNormal(prior_model)\n",
    "guide = AutoNormal(prior_model)\n",
    "\n",
    "svi = SVI(\n",
    "    model=prior_model,\n",
    "    guide=guide,\n",
    "    optim=ClippedAdam(0.0005),\n",
    "    loss=Trace_ELBO(),\n",
    ")\n",
    "\n",
    "rng_key = jax.random.PRNGKey(5)\n",
    "rng_key, _ = jax.random.split(rng_key)\n",
    "\n",
    "svi_result = svi.run(rng_key=rng_key,\n",
    "                    num_steps=10000,\n",
    "                    progress_bar=True,\n",
    "                    data=data_st_prior,\n",
    "                    init_params=init_vals)\n",
    "\n",
    "print(svi_result.params)\n"
   ]
  },
  {
   "cell_type": "code",
   "execution_count": 37,
   "metadata": {},
   "outputs": [
    {
     "data": {
      "text/plain": [
       "[<matplotlib.lines.Line2D at 0x2136d42c650>]"
      ]
     },
     "execution_count": 37,
     "metadata": {},
     "output_type": "execute_result"
    },
    {
     "data": {
      "image/png": "[encoded data removed]",
      "text/plain": [
       "<Figure size 640x480 with 1 Axes>"
      ]
     },
     "metadata": {},
     "output_type": "display_data"
    }
   ],
   "source": [
    "plt.plot(svi_result.losses)"
   ]
  },
  {
   "cell_type": "code",
   "execution_count": 38,
   "metadata": {},
   "outputs": [
    {
     "name": "stdout",
     "output_type": "stream",
     "text": [
      "(3000, 126253)\n"
     ]
    }
   ],
   "source": [
    "\n",
    "data_pred = {\n",
    "    \"ST_triu\": None,\n",
    "    \"cov\": df_min_net_cov,\n",
    "    \"n\" : df_min.shape[0]\n",
    "}\n",
    "\n",
    "rng_key, _ = jax.random.split(rng_key)\n",
    "preds_st = Predictive(\n",
    "    model=prior_model,\n",
    "    guide=guide,\n",
    "    params=svi_result.params,\n",
    "    num_samples=3000,\n",
    ")(rng_key, data_pred)[\"obs\"]\n",
    "\n",
    "print(preds_st.shape)"
   ]
  },
  {
   "cell_type": "code",
   "execution_count": 39,
   "metadata": {},
   "outputs": [
    {
     "name": "stdout",
     "output_type": "stream",
     "text": [
      "cor ST and Post 0.69677037\n"
     ]
    },
    {
     "data": {
      "image/png": "[encoded data removed]",
      "text/plain": [
       "<Figure size 640x480 with 1 Axes>"
      ]
     },
     "metadata": {},
     "output_type": "display_data"
    }
   ],
   "source": [
    "vmap_pred_deg = vmap_deg(preds_st)\n",
    "true_deg = jnp.sum(st_net, axis=1)\n",
    "\n",
    "plt.scatter(true_deg, vmap_pred_deg.mean(axis=0))\n",
    "\n",
    "print(\"cor ST and Post\", jnp.corrcoef(true_deg, vmap_pred_deg.mean(axis=0))[0, 1])"
   ]
  },
  {
   "cell_type": "code",
   "execution_count": null,
   "metadata": {},
   "outputs": [],
   "source": []
  }
 ],
 "metadata": {
  "kernelspec": {
   "display_name": "Python 3",
   "language": "python",
   "name": "python3"
  },
  "language_info": {
   "codemirror_mode": {
    "name": "ipython",
    "version": 3
   },
   "file_extension": ".py",
   "mimetype": "text/x-python",
   "name": "python",
   "nbconvert_exporter": "python",
   "pygments_lexer": "ipython3",
   "version": "3.11.8"
  }
 },
 "nbformat": 4,
 "nbformat_minor": 2
}
