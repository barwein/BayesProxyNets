{
 "cells": [
  {
   "cell_type": "code",
   "execution_count": 1,
   "metadata": {},
   "outputs": [],
   "source": [
    "import jax.numpy as jnp\n",
    "import jax\n",
    "import pandas as pd\n",
    "import numpy as np\n",
    "import pyreadr\n",
    "\n",
    "from numpyro.infer import SVI, Trace_ELBO\n",
    "from numpyro.optim import ClippedAdam\n",
    "from numpyro.infer.autoguide import AutoMultivariateNormal\n",
    "import numpyro.distributions as dist\n",
    "import numpyro\n",
    "\n",
    "import src.utils as utils\n",
    "\n",
    "import os \n",
    "\n",
    "import Data.Palluck_et_al.data_wrangle as dw\n",
    "\n",
    "# --- Set cores and seed ---\n",
    "N_CORES = 4\n",
    "os.environ[\"XLA_FLAGS\"] = f\"--xla_force_host_platform_device_count={N_CORES}\"\n"
   ]
  },
  {
   "cell_type": "code",
   "execution_count": 2,
   "metadata": {},
   "outputs": [
    {
     "name": "stdout",
     "output_type": "stream",
     "text": [
      "(24182, 41)\n",
      "Index(['SCHID', 'SCHTREAT_NUMERIC', 'TREAT_NUMERIC', 'unique_id', 'ELIGIBLE',\n",
      "       'WRISTOW2_NUMERIC', 'ST1', 'ST2', 'ST3', 'ST4', 'ST5', 'ST6', 'ST7',\n",
      "       'ST8', 'ST9', 'ST10', 'ST1W2', 'ST2W2', 'ST3W2', 'ST4W2', 'ST5W2',\n",
      "       'ST6W2', 'ST7W2', 'ST8W2', 'ST9W2', 'ST10W2', 'BF1', 'BF2', 'BF1W2',\n",
      "       'BF2W2', 'GENC', 'ETHW', 'ETHB', 'ETHH', 'ETHA', 'ETHC', 'ETHSA',\n",
      "       'GAME', 'GRC_6', 'GRC_7', 'GRC_8'],\n",
      "      dtype='object')\n"
     ]
    }
   ],
   "source": [
    "all_schools = pyreadr.read_r('Data/Palluck_et_al/37070-0001-Data.rda')\n",
    "all_schools = pd.DataFrame(all_schools['da37070.0001'])\n",
    "\n",
    "df_cleaned = dw.clean_data(all_schools)\n",
    "\n",
    "print(df_cleaned.shape)\n",
    "print(df_cleaned.columns)"
   ]
  },
  {
   "cell_type": "code",
   "execution_count": 3,
   "metadata": {},
   "outputs": [
    {
     "name": "stdout",
     "output_type": "stream",
     "text": [
      "(503, 41)\n"
     ]
    }
   ],
   "source": [
    "# test one school\n",
    "\n",
    "df_min = df_cleaned[df_cleaned['SCHID'] == 41.0]\n",
    "print(df_min.shape)"
   ]
  },
  {
   "cell_type": "code",
   "execution_count": 4,
   "metadata": {},
   "outputs": [
    {
     "name": "stdout",
     "output_type": "stream",
     "text": [
      "(126253,) (126253,) (126253,) (126253,)\n"
     ]
    }
   ],
   "source": [
    "\n",
    "triu_idx = np.triu_indices(df_min.shape[0], 1)\n",
    "\n",
    "# ST net\n",
    "st_net = dw.network_by_school(df_min, dw.ST_COLS, False)\n",
    "st_net_triu = jnp.array(st_net[triu_idx], dtype=jnp.float32)\n",
    "\n",
    "# ST_w2 net \n",
    "\n",
    "stw2_net = dw.network_by_school(df_min, dw.ST_W2_COLS, False)\n",
    "stw2_net_triu = jnp.array(stw2_net[triu_idx], dtype=jnp.float32)\n",
    "\n",
    "# BF net\n",
    "\n",
    "bf_net = dw.network_by_school(df_min, dw.BF_COLS, False)\n",
    "bf_net_triu = jnp.array(bf_net[triu_idx], dtype=jnp.float32)\n",
    "\n",
    "# BF_w2 net\n",
    "\n",
    "bfw2_net = dw.network_by_school(df_min, dw.BF_W2_COLS, False)\n",
    "bfw2_net_triu = jnp.array(bfw2_net[triu_idx], dtype=jnp.float32)\n",
    "\n",
    "print(st_net_triu.shape, stw2_net_triu.shape, bf_net_triu.shape, bfw2_net_triu.shape)"
   ]
  },
  {
   "cell_type": "code",
   "execution_count": null,
   "metadata": {},
   "outputs": [
    {
     "name": "stdout",
     "output_type": "stream",
     "text": [
      "(503, 11)\n",
      "[[0 0 0 ... 0 0 0]\n",
      " [0 0 0 ... 0 0 0]\n",
      " [0 0 1 ... 0 0 0]\n",
      " ...\n",
      " [1 0 0 ... 0 1 0]\n",
      " [1 0 0 ... 0 0 1]\n",
      " [1 0 0 ... 0 0 1]]\n"
     ]
    }
   ],
   "source": [
    "NODE_COV = [\"GENC\", \"ETHW\", \"ETHB\", \"ETHH\", \"ETHA\", \"ETHC\", \"ETHSA\", \"GAME\", \"GRC_6\", \"GRC_7\", \"GRC_8\"]\n",
    "df_min_node_cov = jnp.array(df_min[NODE_COV])\n",
    "print(df_min_node_cov.shape)\n"
   ]
  },
  {
   "cell_type": "code",
   "execution_count": 102,
   "metadata": {},
   "outputs": [],
   "source": [
    "def cov_for_net(df, cov_name_list):\n",
    "    idx = jnp.triu_indices(n=df.shape[0], k=1)\n",
    "    # x2_or = (x2[idx[0]] + x2[idx[1]] == 1).astype(jnp.float32)\n",
    "    cov_list = [jnp.ones(idx[0].shape[0])]\n",
    "    for cov in cov_name_list:\n",
    "        cur_cov = jnp.all(df[cov].values[idx[0]] == df[cov].values[idx[1]], axis=1).astype(jnp.float32)\n",
    "        cov_list.append(cur_cov)\n",
    "    return jnp.stack(cov_list, axis=1)"
   ]
  },
  {
   "cell_type": "code",
   "execution_count": 101,
   "metadata": {},
   "outputs": [
    {
     "data": {
      "text/plain": [
       "Array(0.499101, dtype=float32)"
      ]
     },
     "execution_count": 101,
     "metadata": {},
     "output_type": "execute_result"
    }
   ],
   "source": [
    "cv = [\"GENC\"]\n",
    "# cv = [\"ETHW\", \"ETHB\", \"ETHH\", \"ETHA\", \"ETHC\", \"ETHSA\"]\n",
    "\n",
    "idx = jnp.triu_indices(n=df_min.shape[0], k=1)\n",
    "\n",
    "jnp.all(df_min[cv].values[idx[0]] == df_min[cv].values[idx[1]], axis=1).astype(jnp.float32).mean()\n",
    "# (df_min[\"GENC\"].values[idx[0]] == df_min[\"GENC\"].values[idx[1]]).astype(jnp.float32).mean()"
   ]
  },
  {
   "cell_type": "code",
   "execution_count": 103,
   "metadata": {},
   "outputs": [
    {
     "name": "stdout",
     "output_type": "stream",
     "text": [
      "(126253, 5) float32 <class 'jaxlib.xla_extension.ArrayImpl'>\n"
     ]
    }
   ],
   "source": [
    "# df_min_net_cov = cov_for_net(df_min, NODE_COV)\n",
    "df_min_net_cov = cov_for_net(df_min, dw.COV_FOR_NETWORK)\n",
    "\n",
    "print(df_min_net_cov.shape, df_min_net_cov.dtype, type(df_min_net_cov))"
   ]
  },
  {
   "cell_type": "code",
   "execution_count": 154,
   "metadata": {},
   "outputs": [],
   "source": [
    "PRIOR_SCALE = jnp.sqrt(5.0)\n",
    "\n",
    "def networks_marginalized_model(data):\n",
    "    \"\"\"\n",
    "    Model for network only models with marginalized A*\n",
    "    Used in cut-posterior sampling\n",
    "\n",
    "    We embed it as mixture model of A edges\n",
    "\n",
    "    Args:\n",
    "      data: an object with attributes:\n",
    "           - x_diff: a 1D array (one per edge) of differences in covariates,\n",
    "           - x2_or: a 1D array of indicators (one per edge) for whether x2_i + x2_j = 1,\n",
    "           - triu_obs: a 1D array of observed edge indicators (binary; one per edge).\n",
    "    \"\"\"\n",
    "    # --- Priors ---\n",
    "\n",
    "    with numpyro.plate(\"latent_u\", data[\"n\"]):\n",
    "        # u = numpyro.sample(\"u\", dist.Normal(0, 1))\n",
    "        u = numpyro.sample(\"u\", dist.MultivariateNormal(jnp.zeros(2), jnp.eye(2)))\n",
    "\n",
    "    idx = np.triu_indices(n=data[\"n\"], k=1)\n",
    "    u_diff = u[idx[0]] - u[idx[1]]\n",
    "    u_norm = jnp.linalg.norm(u_diff, axis=1)\n",
    "\n",
    "    n_cols = data[\"cov\"].shape[1]\n",
    "    theta = numpyro.sample(\"theta\", dist.Normal(0, PRIOR_SCALE).expand([n_cols]))\n",
    "    # with numpyro.plate(\"theta_plate\", n_cols):\n",
    "        # theta = numpyro.sample(\"theta\", dist.Normal(0, PRIOR_SCALE))\n",
    "    \n",
    "    # with numpyro.plate(\"gamma_plate\", n_cols + 1):\n",
    "        # gamma = numpyro.sample(\"gamma\", dist.Normal(0, PRIOR_SCALE))\n",
    "\n",
    "        # P(A*_ij=1)\n",
    "    gamma = numpyro.sample(\"gamma\", dist.Normal(0, PRIOR_SCALE).expand([2*n_cols]))\n",
    "    # gamma = numpyro.sample(\"gamma\", dist.Normal(0, PRIOR_SCALE).expand([2]))\n",
    "\n",
    "        # P(A*_ij=1)\n",
    "    # star_probs = jax.nn.sigmoid(data[\"cov\"] @ theta - u_diff)\n",
    "    star_probs = jax.nn.sigmoid(data[\"cov\"] @ theta - u_norm)\n",
    "    star_probs = jnp.clip(star_probs, 1e-6, 1 - 1e-6)\n",
    "\n",
    "    # P(A_ij = 1 | A*_ij = 0)\n",
    "    # obs_probs_k0 = jax.nn.sigmoid(data[\"cov\"] @ gamma[1:])\n",
    "    obs_probs_k0 = jax.nn.sigmoid(data[\"cov\"] @ gamma[:n_cols])\n",
    "    # obs_probs_k0 = jax.nn.sigmoid(gamma[0])\n",
    "    obs_probs_k0 = jnp.clip(obs_probs_k0, 1e-6, 1 - 1e-6)\n",
    "\n",
    "    # P(A_ij = 1 | A*_ij = 1)\n",
    "    # obs_probs_k1 = jax.nn.sigmoid(gamma[0] + data[\"cov\"] @ gamma[1:])\n",
    "    obs_probs_k1 = jax.nn.sigmoid(data[\"cov\"]  @ gamma[n_cols:])\n",
    "    # obs_probs_k1 = jax.nn.sigmoid(gamma[1])\n",
    "    obs_probs_k1 = jnp.clip(obs_probs_k1, 1e-6, 1 - 1e-6)\n",
    "\n",
    "    # marginalized probs P(A_ij=1)\n",
    "    mixed_probs = star_probs * obs_probs_k1 + (1 - star_probs) * obs_probs_k0\n",
    "\n",
    "    with numpyro.plate(\"edges\", data[\"STW2_triu\"].shape[0]):\n",
    "        numpyro.sample(\"obs\", dist.BernoulliProbs(mixed_probs), obs=data[\"STW2_triu\"])\n",
    "\n",
    "    # save posterior A_star probs\n",
    "    # let  p_1 = P(A*_ij=1)*P(A_ij| A*_ij=1)\n",
    "    #      p_0 = P(A*_ij=0 )*P(A_ij| A*_ij=0)\n",
    "    # then posterior probs P(A*_ij | A, \\theta,\\ gamma) = p_1 / (p_1 + p_0)\n",
    "\n",
    "    # numerator aka p_1\n",
    "    numerator = jnp.where(\n",
    "        data[\"STW2_triu\"] == 1.0, star_probs * obs_probs_k1, star_probs * (1 - obs_probs_k1)\n",
    "    )\n",
    "    # denominator aka p_1 + p_0\n",
    "    denominator = numerator + jnp.where(\n",
    "        data[\"STW2_triu\"] == 1.0,\n",
    "        (1 - star_probs) * obs_probs_k0,\n",
    "        (1 - star_probs) * (1 - obs_probs_k0),\n",
    "    )\n",
    "\n",
    "    numpyro.deterministic(\"triu_star_probs\", numerator / denominator)\n",
    "\n"
   ]
  },
  {
   "cell_type": "code",
   "execution_count": 71,
   "metadata": {},
   "outputs": [
    {
     "data": {
      "text/plain": [
       "((126253,), (126253,))"
      ]
     },
     "execution_count": 71,
     "metadata": {},
     "output_type": "execute_result"
    }
   ],
   "source": [
    "theta = jnp.ones(df_min_net_cov.shape[1])\n",
    "gamma = jnp.ones(2*df_min_net_cov.shape[1])\n",
    "\n",
    "\n",
    "(df_min_net_cov @ theta).shape, jnp.dot(df_min_net_cov, gamma[:df_min_net_cov.shape[1]]).shape"
   ]
  },
  {
   "cell_type": "code",
   "execution_count": 73,
   "metadata": {},
   "outputs": [
    {
     "data": {
      "text/plain": [
       "(12,)"
      ]
     },
     "execution_count": 73,
     "metadata": {},
     "output_type": "execute_result"
    }
   ],
   "source": [
    "gamma[df_min_net_cov.shape[1]:].shape "
   ]
  },
  {
   "cell_type": "code",
   "execution_count": 74,
   "metadata": {},
   "outputs": [
    {
     "data": {
      "text/plain": [
       "([1, 2, 3, 4, 5], [6, 7, 8, 9, 10])"
      ]
     },
     "execution_count": 74,
     "metadata": {},
     "output_type": "execute_result"
    }
   ],
   "source": [
    "a = [1,2,3,4,5,6,7,8,9,10]\n",
    "\n",
    "a[:5], a[5:]"
   ]
  },
  {
   "cell_type": "code",
   "execution_count": 135,
   "metadata": {},
   "outputs": [],
   "source": [
    "data_st = {\"STW2_triu\": stw2_net_triu,\n",
    "            \"cov\": df_min_net_cov,\n",
    "            \"ST_triu\" : st_net_triu,\n",
    "            \"BF_triu\" : bf_net_triu,\n",
    "            \"BFW2_triu\" : bfw2_net_triu,\n",
    "            \"n\" : df_min.shape[0]}"
   ]
  },
  {
   "cell_type": "code",
   "execution_count": 110,
   "metadata": {},
   "outputs": [
    {
     "name": "stdout",
     "output_type": "stream",
     "text": [
      "(126253,) (126253, 5)\n"
     ]
    }
   ],
   "source": [
    "print(data_st[\"STW2_triu\"].shape, data_st[\"cov\"].shape)"
   ]
  },
  {
   "cell_type": "code",
   "execution_count": 155,
   "metadata": {},
   "outputs": [
    {
     "name": "stderr",
     "output_type": "stream",
     "text": [
      "100%|██████████| 20000/20000 [17:05<00:00, 19.50it/s, init loss: 98561.1172, avg. loss [19001-20000]: 10309.0474]\n"
     ]
    },
    {
     "name": "stdout",
     "output_type": "stream",
     "text": [
      "{'u': Array([[ 0.00190367,  0.00616967],\n",
      "       [ 0.03460601,  0.03233643],\n",
      "       [-0.04327706,  0.0145499 ],\n",
      "       ...,\n",
      "       [-0.0081852 ,  0.01111579],\n",
      "       [-0.0161706 , -0.03076095],\n",
      "       [-0.01511599,  0.01175062]], dtype=float32), 'theta': Array([ 3.695182  ,  0.4391562 , -0.17172164, -0.01959702,  3.2938807 ],      dtype=float32), 'gamma': Array([-2.7513564 , -2.9073784 ,  0.16992389, -0.04496252, -2.0303812 ,\n",
      "       -5.2064357 ,  0.949013  , -0.03599646,  0.0482372 ,  0.7843366 ],      dtype=float32), 'triu_star_probs': Array([0.9999872 , 0.99934554, 0.9993675 , ..., 0.9799663 , 0.9806546 ,\n",
      "       0.9992266 ], dtype=float32)}\n"
     ]
    }
   ],
   "source": [
    "init_vals = {\n",
    "    \"theta\": jnp.zeros(data_st[\"cov\"].shape[1]),\n",
    "    # \"gamma\": jnp.zeros(data_st[\"cov\"].shape[1] + 1),\n",
    "    \"gamma\": jnp.zeros(2*data_st[\"cov\"].shape[1]),\n",
    "    # \"gamma\": jnp.zeros(2),\n",
    "}\n",
    "\n",
    "guide = AutoMultivariateNormal(networks_marginalized_model)\n",
    "\n",
    "svi = SVI(\n",
    "    model=networks_marginalized_model,\n",
    "    guide=guide,\n",
    "    optim=ClippedAdam(0.0005),\n",
    "    loss=Trace_ELBO(),\n",
    ")\n",
    "\n",
    "rng_key = jax.random.PRNGKey(0)\n",
    "rng_key, _ = jax.random.split(rng_key)\n",
    "\n",
    "svi_result = svi.run(rng_key=rng_key,\n",
    "                    num_steps=20000,\n",
    "                    progress_bar=True,\n",
    "                    data=data_st,\n",
    "                    init_params=init_vals)\n",
    "map_params = guide.median(svi_result.params)\n",
    "\n",
    "print(map_params)"
   ]
  },
  {
   "cell_type": "code",
   "execution_count": 156,
   "metadata": {},
   "outputs": [
    {
     "name": "stdout",
     "output_type": "stream",
     "text": [
      "(126253,)\n"
     ]
    }
   ],
   "source": [
    "from numpyro.infer import Predictive\n",
    "\n",
    "rng_key, _ = jax.random.split(rng_key)\n",
    "preds = Predictive(\n",
    "    model=networks_marginalized_model,\n",
    "    guide=guide,\n",
    "    params=svi_result.params,\n",
    "    num_samples=1,\n",
    ")(rng_key, data_st)\n",
    "\n",
    "triu_star_probs = preds[\"triu_star_probs\"][0]\n",
    "print(triu_star_probs.shape)"
   ]
  },
  {
   "cell_type": "code",
   "execution_count": 157,
   "metadata": {},
   "outputs": [
    {
     "data": {
      "text/plain": [
       "(array([4.9000e+01, 8.1000e+01, 8.8000e+01, 1.0700e+02, 1.4900e+02,\n",
       "        1.9200e+02, 2.3500e+02, 3.0500e+02, 3.8900e+02, 4.5700e+02,\n",
       "        6.8800e+02, 9.0400e+02, 1.3150e+03, 1.7880e+03, 2.6000e+03,\n",
       "        4.0870e+03, 6.8250e+03, 1.2512e+04, 2.6696e+04, 6.6786e+04]),\n",
       " array([0.00394941, 0.05375159, 0.10355378, 0.15335597, 0.20315816,\n",
       "        0.25296035, 0.30276254, 0.35256472, 0.40236691, 0.45216909,\n",
       "        0.5019713 , 0.55177349, 0.60157567, 0.65137786, 0.70118004,\n",
       "        0.75098222, 0.80078441, 0.85058659, 0.90038878, 0.95019096,\n",
       "        0.99999315]),\n",
       " <BarContainer object of 20 artists>)"
      ]
     },
     "execution_count": 157,
     "metadata": {},
     "output_type": "execute_result"
    },
    {
     "data": {
      "image/png": "[encoded data removed]",
      "text/plain": [
       "<Figure size 640x480 with 1 Axes>"
      ]
     },
     "metadata": {},
     "output_type": "display_data"
    }
   ],
   "source": [
    "import matplotlib.pyplot as plt\n",
    "plt.hist(triu_star_probs, bins=20)"
   ]
  },
  {
   "cell_type": "code",
   "execution_count": 158,
   "metadata": {},
   "outputs": [
    {
     "data": {
      "text/plain": [
       "[<matplotlib.lines.Line2D at 0x263b401c850>]"
      ]
     },
     "execution_count": 158,
     "metadata": {},
     "output_type": "execute_result"
    },
    {
     "data": {
      "image/png": "[encoded data removed]",
      "text/plain": [
       "<Figure size 640x480 with 1 Axes>"
      ]
     },
     "metadata": {},
     "output_type": "display_data"
    }
   ],
   "source": [
    "plt.plot(svi_result.losses)"
   ]
  },
  {
   "cell_type": "code",
   "execution_count": 159,
   "metadata": {},
   "outputs": [
    {
     "name": "stdout",
     "output_type": "stream",
     "text": [
      "(3000, 126253)\n"
     ]
    }
   ],
   "source": [
    "from src.MWG_sampler import sample_posterior_triu_star\n",
    "\n",
    "rng_key, _ = jax.random.split(rng_key)\n",
    "post_triu = sample_posterior_triu_star(rng_key, triu_star_probs, 3000)\n",
    "print(post_triu.shape)"
   ]
  },
  {
   "cell_type": "code",
   "execution_count": 163,
   "metadata": {},
   "outputs": [
    {
     "name": "stdout",
     "output_type": "stream",
     "text": [
      "(3000, 503)\n"
     ]
    }
   ],
   "source": [
    "true_deg = jnp.sum(st_net, axis=1)\n",
    "stw2_deg = jnp.sum(stw2_net, axis=1)\n",
    "bf_deg = jnp.sum(bf_net, axis=1)\n",
    "N = df_min.shape[0]\n",
    "\n",
    "@jax.jit\n",
    "def triu_to_mat(triu):\n",
    "    mat = jnp.zeros((N, N))\n",
    "    mat = mat.at[np.triu_indices(n=N, k=1)].set(triu)\n",
    "    return mat + mat.T\n",
    "\n",
    "@jax.jit\n",
    "def compute_deg(triu):\n",
    "    mat = triu_to_mat(triu)\n",
    "    return jnp.sum(mat, axis=1)\n",
    "\n",
    "vmap_deg = jax.vmap(compute_deg)\n",
    "\n",
    "post_deg = vmap_deg(post_triu)\n",
    "\n",
    "print(post_deg.shape)\n",
    "\n",
    "\n",
    "# plt.scatter(true_deg, stw2_deg)\n"
   ]
  },
  {
   "cell_type": "code",
   "execution_count": 164,
   "metadata": {},
   "outputs": [
    {
     "name": "stdout",
     "output_type": "stream",
     "text": [
      "cor ST and ST w2 0.2918907\n",
      "cor ST and Post 0.032520775\n",
      "cor ST w2 and BF 0.31267422\n"
     ]
    },
    {
     "data": {
      "image/png": "[encoded data removed]",
      "text/plain": [
       "<Figure size 1000x500 with 3 Axes>"
      ]
     },
     "metadata": {},
     "output_type": "display_data"
    }
   ],
   "source": [
    "fig, axs = plt.subplots(1, 3, figsize=(10, 5))\n",
    "\n",
    "axs[0].scatter(true_deg, stw2_deg)\n",
    "axs[0].set_xlabel(\"ST degree\")\n",
    "axs[0].set_ylabel(\"ST w2 degree\")\n",
    "\n",
    "axs[1].scatter(true_deg, post_deg.mean(axis=0))\n",
    "axs[1].set_xlabel(\"ST degree\")\n",
    "axs[1].set_ylabel(\"Posterior degree\")\n",
    "\n",
    "axs[2].scatter(stw2_deg, bf_deg)\n",
    "axs[2].set_xlabel(\"ST w2 degree\")\n",
    "axs[2].set_ylabel(\"BF degree\")\n",
    "\n",
    "print(\"cor ST and ST w2\", jnp.corrcoef(true_deg, stw2_deg)[0, 1])\n",
    "print(\"cor ST and Post\", jnp.corrcoef(true_deg, post_deg.mean(axis=0))[0, 1])\n",
    "print(\"cor ST w2 and BF\", jnp.corrcoef(stw2_deg, bf_deg)[0, 1])"
   ]
  },
  {
   "cell_type": "code",
   "execution_count": null,
   "metadata": {},
   "outputs": [],
   "source": [
    "# TODO: keep tinkering. options:\n",
    "# 1. Run models with known st_triu values and perform posterior predictive checks for model fit\n",
    "# 2. Run model with combined st_w2 and bf proxy networks -- think about these models form and prior p(ST) model "
   ]
  },
  {
   "cell_type": "code",
   "execution_count": null,
   "metadata": {},
   "outputs": [],
   "source": []
  }
 ],
 "metadata": {
  "kernelspec": {
   "display_name": "Python 3",
   "language": "python",
   "name": "python3"
  },
  "language_info": {
   "codemirror_mode": {
    "name": "ipython",
    "version": 3
   },
   "file_extension": ".py",
   "mimetype": "text/x-python",
   "name": "python",
   "nbconvert_exporter": "python",
   "pygments_lexer": "ipython3",
   "version": "3.11.8"
  }
 },
 "nbformat": 4,
 "nbformat_minor": 2
}
