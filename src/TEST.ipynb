{
 "cells": [
  {
   "cell_type": "code",
   "id": "initial_id",
   "metadata": {
    "collapsed": true,
    "ExecuteTime": {
     "end_time": "2024-07-18T11:55:39.534895Z",
     "start_time": "2024-07-18T11:55:39.506644Z"
    }
   },
   "source": [
    "import time\n",
    "import arviz as az\n",
    "import matplotlib.pyplot as plt\n",
    "import numpy as np\n",
    "import pandas as pd\n",
    "import pymc as pm\n",
    "import networkx as nx\n",
    "# import xarray as xr\n",
    "import seaborn as sns \n",
    "# from scipy.special import expit, logit\n",
    "import scipy as sp\n",
    "from itertools import combinations\n",
    "from scipy.spatial.distance import cdist\n",
    "\n",
    "import os\n",
    "\n",
    "\n",
    "import jax\n",
    "import jax.numpy as jnp\n",
    "from jax import random, jit, vmap\n",
    "from jax.scipy.special import expit, logsumexp, logit\n",
    "from functools import partial\n",
    "import numpyro.distributions as dist \n",
    "import numpyro\n",
    "from numpyro.contrib.funsor import config_enumerate\n",
    "from numpyro.infer.reparam import LocScaleReparam\n",
    "\n",
    "from numpyro.util import set_host_device_count\n",
    "from numpyro.contrib.control_flow import scan\n",
    "from numpyro.ops.indexing import Vindex\n",
    "from tqdm import tqdm\n",
    "from joblib import Parallel, delayed\n",
    "\n",
    "from numpyro import handlers\n",
    "from numpyro.infer import MCMC, HMC, NUTS, DiscreteHMCGibbs, MixedHMC, Predictive\n",
    "import pyro\n",
    "# import pymc_experimental as pmx\n",
    "\n",
    "import multiprocessing\n",
    "import socket\n",
    "from hsgp.approximation import hsgp_squared_exponential\n",
    "\n",
    "\n",
    "print(f\"Running on PyMC v{pm.__version__}\")\n",
    "# print(f\"Running on PyMC-experimental v{pmx.__version__}\")\n",
    "print(f\"Running on NumPyro v{numpyro.__version__}\")\n",
    "print(f\"Running on Pyro v{pyro.__version__}\")\n",
    "print(f\"Running on JAX v{jax.__version__}\")\n"
   ],
   "outputs": [
    {
     "name": "stdout",
     "output_type": "stream",
     "text": [
      "Running on PyMC v5.15.1\n",
      "Running on NumPyro v0.14.0\n",
      "Running on Pyro v1.9.0+f02dfb9\n",
      "Running on JAX v0.4.25\n"
     ]
    }
   ],
   "execution_count": 19
  },
  {
   "cell_type": "code",
   "source": [
    "# Set CPU for JAX\n",
    "os.environ[\"XLA_FLAGS\"] = \"--xla_force_host_platform_device_count=4\"\n",
    "print(jax.devices('cpu'))"
   ],
   "metadata": {
    "collapsed": false,
    "ExecuteTime": {
     "end_time": "2024-07-18T11:54:05.077576Z",
     "start_time": "2024-07-18T11:54:05.021063Z"
    }
   },
   "id": "f7910fe36bb7d5b3",
   "outputs": [
    {
     "name": "stdout",
     "output_type": "stream",
     "text": [
      "[CpuDevice(id=0), CpuDevice(id=1), CpuDevice(id=2), CpuDevice(id=3)]\n"
     ]
    }
   ],
   "execution_count": 2
  },
  {
   "cell_type": "code",
   "source": [
    "RANDOM_SEED = 892357143\n",
    "rng = np.random.default_rng(RANDOM_SEED)\n",
    "\n",
    "%config InlineBackend.figure_format = 'retina'\n",
    "az.style.use(\"arviz-white\")"
   ],
   "metadata": {
    "collapsed": false,
    "ExecuteTime": {
     "end_time": "2024-07-18T11:54:06.001293Z",
     "start_time": "2024-07-18T11:54:05.992022Z"
    }
   },
   "id": "c3feb392ce909051",
   "outputs": [],
   "execution_count": 3
  },
  {
   "cell_type": "code",
   "source": [
    "n=300\n",
    "tril_dim = int(n*(n-1)/2)  \n",
    "# x = rng.integers(low=0,high=1,size=n,endpoint=True)\n",
    "x = rng.normal(loc=0,scale=3,size=n)\n",
    "# x = rng.standard_t(df=10, size= n)\n",
    "# x = rng.uniform(size=n,low=-3,high=3)\n",
    "# x = rng.standard_t(size=n,df=5)\n",
    "x2 = rng.binomial(n=1,p=0.3,size=n)\n",
    "# x2 = np.random.choice([\"A\",\"B\",\"C\"], size = n, p=[0.1,0.3,0.6])\n",
    "# x_diff = []\n",
    "# # x2_equal =[]\n",
    "# for i in range(n):\n",
    "#     for j in range(i+1,n):\n",
    "#         x_diff.append(np.abs(x[i]-x[j]))\n",
    "#         # x2_equal.append(x2[i]==x2[j])\n",
    "# x_diff = np.array(x_diff)\n",
    "# x2_equal = np.array(x2_equal)\n",
    "# plt.hist(x_diff)\n",
    "# Create probs\n",
    "# beta = -3, -.5,2 \n",
    "# beta = -2, -.5\n",
    "\n",
    "idx_pairs = list(combinations(range(len(x)),2))\n",
    "x_diff = np.array([abs(x[i] - x[j]) for i, j in idx_pairs])\n",
    "\n",
    "x2_equal = np.array([1 if x2[i]==1 and x2[j]==1 else 0 for i,j in idx_pairs])\n",
    "\n",
    "plt.figure(figsize=(3,2))\n",
    "plt.hist(x_diff)\n"
   ],
   "metadata": {
    "collapsed": false,
    "ExecuteTime": {
     "end_time": "2024-07-18T11:54:08.422811Z",
     "start_time": "2024-07-18T11:54:06.987393Z"
    }
   },
   "id": "6999d54995908789",
   "outputs": [
    {
     "data": {
      "text/plain": [
       "(array([1.3632e+04, 1.1625e+04, 8.6880e+03, 5.4650e+03, 3.1560e+03,\n",
       "        1.4630e+03, 5.9200e+02, 1.7700e+02, 4.7000e+01, 5.0000e+00]),\n",
       " array([1.68074152e-04, 1.52644491e+00, 3.05272175e+00, 4.57899859e+00,\n",
       "        6.10527543e+00, 7.63155226e+00, 9.15782910e+00, 1.06841059e+01,\n",
       "        1.22103828e+01, 1.37366596e+01, 1.52629365e+01]),\n",
       " <BarContainer object of 10 artists>)"
      ]
     },
     "execution_count": 4,
     "metadata": {},
     "output_type": "execute_result"
    },
    {
     "data": {
      "text/plain": [
       "<Figure size 300x200 with 1 Axes>"
      ],
      "image/png": "[encoded data removed]"
     },
     "metadata": {
      "image/png": {
       "width": 311,
       "height": 211
      }
     },
     "output_type": "display_data"
    }
   ],
   "execution_count": 4
  },
  {
   "cell_type": "code",
   "source": [
    "beta = -2, -.5\n",
    "# beta = -2, -1\n",
    "# probs = expit(beta[0] + beta[1]*x_diff + rng.normal(-.5,1,tril_dim))\n",
    "# probs = expit(beta[0] + beta[1]*x_diff + beta[2]*x2_equal)\n",
    "# probs = expit(beta[0] + beta[1]*x_diff + beta[2]*x2_equal)\n",
    "probs = expit(beta[0] + beta[1]*x_diff + 2*x2_equal)\n",
    "\n",
    "plt.figure(figsize=(3,2))\n",
    "plt.scatter(x_diff,probs, c=x2_equal)\n",
    "\n",
    "# Generate adj. matrix\n",
    "mat = np.zeros((n,n))\n",
    "# idx_lt = np.tril_indices(n=n,k=-1)\n",
    "idx_ut = np.triu_indices(n=n,k=1)\n",
    "# edges = rng.binomial(n=1,p=0.5,size=tril_dim)\n",
    "edges = rng.binomial(n=1,p=probs,size=tril_dim)\n",
    "\n",
    "mat[idx_ut] = edges\n",
    "# mat[idx_lt] = edges\n",
    "mat = mat + mat.T\n",
    "triu_vals = mat[np.triu_indices(n,k=1)]\n",
    "\n",
    "\n",
    "\n"
   ],
   "metadata": {
    "collapsed": false,
    "ExecuteTime": {
     "end_time": "2024-07-18T11:54:19.163269Z",
     "start_time": "2024-07-18T11:54:08.981562Z"
    }
   },
   "id": "a8ada7876be596ce",
   "outputs": [
    {
     "data": {
      "text/plain": [
       "<Figure size 300x200 with 1 Axes>"
      ],
      "image/png": "[encoded data removed]"
     },
     "metadata": {
      "image/png": {
       "width": 311,
       "height": 211
      }
     },
     "output_type": "display_data"
    }
   ],
   "execution_count": 5
  },
  {
   "cell_type": "code",
   "source": [
    "# def eigen_centrality(adj_mat):\n",
    "#     sparse_mat = sp.sparse.csr_matrix(adj_mat)\n",
    "#     _, eig_vec = sp.sparse.linalg.eigs(sparse_mat, k=1, which = 'LR')\n",
    "#     largest_v = eig_vec.flatten().real\n",
    "#     norm = np.sign(largest_v.sum()) * sp.linalg.norm(largest_v)\n",
    "#     return largest_v / norm\n",
    "\n",
    "@jit\n",
    "def eigen_centrality(adj_mat):\n",
    "    # Ensure the matrix is symmetric\n",
    "    # adj_mat = (adj_mat + adj_mat.T) / 2\n",
    "    \n",
    "    # Compute the eigenvalues and eigenvectors\n",
    "    eigenvalues, eigenvectors = jnp.linalg.eigh(adj_mat)\n",
    "    \n",
    "    # Find the index of the largest eigenvalue\n",
    "    largest_eigenvalue_index = jnp.argmax(eigenvalues)\n",
    "    \n",
    "    # Get the corresponding eigenvector\n",
    "    largest_eigenvector = eigenvectors[:, largest_eigenvalue_index]\n",
    "    \n",
    "    # Scale the eigenvector\n",
    "    norm = jnp.sign(largest_eigenvector.sum()) * jnp.linalg.norm(largest_eigenvector)\n",
    "    scaled_eigenvector = largest_eigenvector / norm\n",
    "    \n",
    "    return scaled_eigenvector"
   ],
   "metadata": {
    "collapsed": false,
    "ExecuteTime": {
     "end_time": "2024-07-18T11:54:21.875254Z",
     "start_time": "2024-07-18T11:54:21.862219Z"
    }
   },
   "id": "d3909316e33a5898",
   "outputs": [],
   "execution_count": 6
  },
  {
   "cell_type": "code",
   "source": [
    "eigen_center = eigen_centrality(mat)\n",
    "# eigen_center_jx = eigen_centrality_jax(mat)\n",
    "\n",
    "# print(jnp.array_equal(jnp.round(eigen_center,5), jnp.round(eigen_center_jx,5)))\n",
    "\n",
    "# plt.figure(figsize=(3,2))\n",
    "# plt.scatter(eigen_center, eigen_center_jx)\n"
   ],
   "metadata": {
    "collapsed": false,
    "ExecuteTime": {
     "end_time": "2024-07-18T11:54:26.352857Z",
     "start_time": "2024-07-18T11:54:25.733850Z"
    }
   },
   "id": "e6edcd32fc256128",
   "outputs": [],
   "execution_count": 7
  },
  {
   "metadata": {
    "ExecuteTime": {
     "end_time": "2024-07-18T11:54:27.669438Z",
     "start_time": "2024-07-18T11:54:26.583530Z"
    }
   },
   "cell_type": "code",
   "source": [
    "plt.figure(figsize=(3,2))\n",
    "plt.hist(np.sum(mat,axis=1))"
   ],
   "id": "c493b8053c346523",
   "outputs": [
    {
     "data": {
      "text/plain": [
       "(array([ 5., 33., 64., 94., 37., 23., 24., 12.,  6.,  2.]),\n",
       " array([ 0. ,  4.3,  8.6, 12.9, 17.2, 21.5, 25.8, 30.1, 34.4, 38.7, 43. ]),\n",
       " <BarContainer object of 10 artists>)"
      ]
     },
     "execution_count": 8,
     "metadata": {},
     "output_type": "execute_result"
    },
    {
     "data": {
      "text/plain": [
       "<Figure size 300x200 with 1 Axes>"
      ],
      "image/png": "[encoded data removed]"
     },
     "metadata": {
      "image/png": {
       "width": 311,
       "height": 211
      }
     },
     "output_type": "display_data"
    }
   ],
   "execution_count": 8
  },
  {
   "cell_type": "code",
   "source": [
    "print(\"sum eigen\", np.sum(eigen_center))\n",
    "plt.figure(figsize=(3,2))\n",
    "plt.hist(eigen_center)"
   ],
   "metadata": {
    "collapsed": false,
    "ExecuteTime": {
     "end_time": "2024-07-18T11:54:28.684268Z",
     "start_time": "2024-07-18T11:54:27.669438Z"
    }
   },
   "id": "9482eb4e7666de9f",
   "outputs": [
    {
     "name": "stdout",
     "output_type": "stream",
     "text": [
      "sum eigen 14.236554\n"
     ]
    },
    {
     "data": {
      "text/plain": [
       "(array([34., 88., 77., 36., 12., 13., 22., 11.,  4.,  3.]),\n",
       " array([0.        , 0.01606171, 0.03212343, 0.04818514, 0.06424686,\n",
       "        0.08030857, 0.09637029, 0.112432  , 0.12849371, 0.14455543,\n",
       "        0.16061714]),\n",
       " <BarContainer object of 10 artists>)"
      ]
     },
     "execution_count": 9,
     "metadata": {},
     "output_type": "execute_result"
    },
    {
     "data": {
      "text/plain": [
       "<Figure size 300x200 with 1 Axes>"
      ],
      "image/png": "[encoded data removed]"
     },
     "metadata": {
      "image/png": {
       "width": 311,
       "height": 211
      }
     },
     "output_type": "display_data"
    }
   ],
   "execution_count": 9
  },
  {
   "cell_type": "code",
   "source": [
    "# mat_net = nx.from_numpy_array(mat)\n",
    "# \n",
    "# degrees = np.array([degree for _, degree in mat_net.degree()])\n",
    "# deg_center = np.array(list(nx.degree_centrality(mat_net).values()))\n",
    "# eigen_center = np.array(list(nx.eigenvector_centrality_numpy(mat_net).values()))\n",
    "# closeness = np.array(list(nx.closeness_centrality(mat_net).values()))\n",
    "# betweeness = np.array(list(nx.betweenness_centrality(mat_net).values()))\n",
    "# # flow_betweeness = np.array(list(nx.current_flow_betweenness_centrality(mat_net).values()))\n",
    "# # flow_betweeness = np.array(list(nx.approximate_current_flow_betweenness_centrality(mat_net,epsilon=0.1).values()))\n",
    "# triangles = np.array(list(nx.triangles(mat_net).values()))\n",
    "# clustering = np.array(list(nx.clustering(mat_net).values()))\n"
   ],
   "metadata": {
    "collapsed": false
   },
   "id": "f31eba8ce35f20f0",
   "outputs": [],
   "execution_count": null
  },
  {
   "cell_type": "code",
   "source": [
    "# print(min(betweeness),max(betweeness))\n",
    "# print(min(eigen_center),max(eigen_center))\n",
    "# print(min(triangles),max(triangles))\n"
   ],
   "metadata": {
    "collapsed": false
   },
   "id": "1b92b4a2d2e076bc",
   "outputs": [],
   "execution_count": null
  },
  {
   "cell_type": "code",
   "source": [
    "@jit\n",
    "def zeigen_value(Z, eig_cen, A_mat):\n",
    "    if Z.ndim == 1:  # Case when Z has shape (N,)\n",
    "        return jnp.dot(A_mat, Z * eig_cen)\n",
    "    elif Z.ndim == 2:  # Case when Z has shape (M, N)\n",
    "        return jnp.dot(Z * eig_cen, A_mat.T)  # Transpose A_mat for correct dimensions\n",
    "    # return jnp.dot(Z*eig_cen, A_mat.T)\n",
    "    # return jnp.dot(A_mat, Z*eig_cen)\n",
    "    # return jnp.dot(A_mat, Z*eig_cen)\n",
    "    # return jnp.dot(A_mat, jnp.multiply(Z, eig_cen))"
   ],
   "metadata": {
    "collapsed": false,
    "ExecuteTime": {
     "end_time": "2024-07-18T11:54:34.008208Z",
     "start_time": "2024-07-18T11:54:33.988610Z"
    }
   },
   "id": "1d2f687789ca8e3a",
   "outputs": [],
   "execution_count": 10
  },
  {
   "cell_type": "code",
   "source": [
    "# Create outcome data\n",
    "\n",
    "Z = rng.binomial(n=1,p=0.5,size=n)\n",
    "degrees = np.sum(mat,1)\n",
    "exposures = np.dot(mat,Z) / degrees\n",
    "exposures_inv_deg = np.dot(mat,Z*degrees)\n",
    "# print(pd.DataFrame(exposures).describe())\n",
    "# x_neighbors = np.dot(mat,x) / degrees\n",
    "# print(pd.DataFrame(x_neighbors).describe())\n",
    "# print(pd.DataFrame(x).describe())\n",
    "\n",
    "# Zeigen = np.dot(mat, Z*eigen_center)\n",
    "Zeigen = zeigen_value(Z, eigen_center, mat)\n",
    "\n",
    "print(pd.DataFrame({\"zeigen\": Zeigen,\"expos\" : exposures, \"exposinv\":exposures_inv_deg,\n",
    "                    \"Z\" : Z}).describe())\n",
    "print(np.corrcoef(Zeigen,exposures))\n",
    "# expos_binary = exposures > 0.5\n",
    "# print(np.mean(expos_binary))\n",
    "\n",
    "plt.figure(figsize=(4,3))\n",
    "plt.hist(Zeigen)\n",
    "# plt.scatter(exposures, Zeigen)\n",
    "# plt.scatter(exposures_inv_deg, exposures)"
   ],
   "metadata": {
    "collapsed": false,
    "ExecuteTime": {
     "end_time": "2024-07-18T11:54:36.259920Z",
     "start_time": "2024-07-18T11:54:34.782745Z"
    }
   },
   "id": "43ffa2ae3e1b333f",
   "outputs": [
    {
     "name": "stderr",
     "output_type": "stream",
     "text": [
      "C:\\Users\\bar21\\AppData\\Local\\Temp\\ipykernel_11300\\305800546.py:5: RuntimeWarning: invalid value encountered in divide\n",
      "  exposures = np.dot(mat,Z) / degrees\n"
     ]
    },
    {
     "name": "stdout",
     "output_type": "stream",
     "text": [
      "           zeigen       expos    exposinv           Z\n",
      "count  300.000000  299.000000  300.000000  300.000000\n",
      "mean     0.516604    0.482733  165.446667    0.466667\n",
      "std      0.389746    0.127309  109.149037    0.499721\n",
      "min      0.000000    0.142857    0.000000    0.000000\n",
      "25%      0.255188    0.407670   89.750000    0.000000\n",
      "50%      0.393362    0.500000  139.000000    0.000000\n",
      "75%      0.685779    0.562500  218.000000    1.000000\n",
      "max      2.163176    1.000000  624.000000    1.000000\n",
      "[[ 1. nan]\n",
      " [nan nan]]\n"
     ]
    },
    {
     "data": {
      "text/plain": [
       "(array([ 62., 105.,  55.,  23.,  21.,  19.,   8.,   4.,   1.,   2.]),\n",
       " array([0.        , 0.21631761, 0.43263522, 0.64895284, 0.86527044,\n",
       "        1.08158803, 1.29790568, 1.51422322, 1.73054087, 1.94685841,\n",
       "        2.16317606]),\n",
       " <BarContainer object of 10 artists>)"
      ]
     },
     "execution_count": 11,
     "metadata": {},
     "output_type": "execute_result"
    },
    {
     "data": {
      "text/plain": [
       "<Figure size 400x300 with 1 Axes>"
      ],
      "image/png": "[encoded data removed]"
     },
     "metadata": {
      "image/png": {
       "width": 411,
       "height": 311
      }
     },
     "output_type": "display_data"
    }
   ],
   "execution_count": 11
  },
  {
   "cell_type": "code",
   "source": [
    "oned = zeigen_value(Z, eigen_center, mat)\n",
    "multid = zeigen_value(Z.reshape((1,n)), eigen_center, mat)\n",
    "multid_m = jnp.mean(multid, axis=0)\n",
    "print(oned.shape)\n",
    "print(multid.shape)\n",
    "print(multid_m.shape)\n",
    "print(jnp.array_equal(jnp.round(oned, 4), jnp.round(multid_m,4)))"
   ],
   "metadata": {
    "collapsed": false,
    "ExecuteTime": {
     "end_time": "2024-07-18T11:54:36.915489Z",
     "start_time": "2024-07-18T11:54:36.606215Z"
    }
   },
   "id": "7bf543e167904a7d",
   "outputs": [
    {
     "name": "stdout",
     "output_type": "stream",
     "text": [
      "(300,)\n",
      "(1, 300)\n",
      "(300,)\n",
      "False\n"
     ]
    }
   ],
   "execution_count": 12
  },
  {
   "cell_type": "code",
   "source": [
    "s = np.sort(Zeigen)\n",
    "# f1 = 2.5*s\n",
    "# f2 = 0*(x < 0.25) + 0.2*np.exp(2*x)*(x>=0.25)\n",
    "# f2 = 0*(s < 0.2) + 5*2.5*np.power(s-0.2, 2)*(s>=0.2)\n",
    "\n",
    "def f2(s):\n",
    "    return np.piecewise(s, \n",
    "                        [s < 0.2, (s >= 0.2) & (s < 0.6), s >= 0.6], \n",
    "                        [lambda s: 0, lambda s: 8*2.5*np.power(s-0.2, 2), 8*2.5*np.power(0.6-0.2, 2)])\n",
    "\n",
    "def f(x):\n",
    "    # return 2.5*(np.sin(10 * x) + np.cos(3 * x))\n",
    "    # return 2.5*(np.sin(4*np.pi * x) + np.log(x+1))\n",
    "    return 2.5*(np.sin(5 * x) + np.log(x + 1))\n",
    "\n",
    "\n",
    "f1 = f(s)\n",
    "f2v= f2(s)\n",
    "f3 = 2.5 / (1+np.exp(-15*(s-0.4)))\n",
    "\n",
    "plt.figure(figsize=(3,2))\n",
    "plt.scatter(s,f1, c=\"red\")\n",
    "plt.scatter(s,f2v, c=\"blue\")\n",
    "plt.scatter(s,f3, c=\"violet\")\n",
    "# plt.axvline(0.25, c=\"black\")\n"
   ],
   "metadata": {
    "collapsed": false,
    "ExecuteTime": {
     "end_time": "2024-07-18T11:54:44.615845Z",
     "start_time": "2024-07-18T11:54:43.810407Z"
    }
   },
   "id": "ee45364d7d4d32ed",
   "outputs": [
    {
     "data": {
      "text/plain": [
       "<matplotlib.collections.PathCollection at 0x17f1b2741d0>"
      ]
     },
     "execution_count": 13,
     "metadata": {},
     "output_type": "execute_result"
    },
    {
     "data": {
      "text/plain": [
       "<Figure size 300x200 with 1 Axes>"
      ],
      "image/png": "[encoded data removed]"
     },
     "metadata": {
      "image/png": {
       "width": 311,
       "height": 211
      }
     },
     "output_type": "display_data"
    }
   ],
   "execution_count": 13
  },
  {
   "cell_type": "code",
   "source": [
    "# alpha = -.5, 2, 1, -1\n",
    "# alpha = -1, 3, 1, 0.5, -0.25\n",
    "# alpha = -.5, 2, .5, 0.25, -0.25\n",
    "# alpha = -.5, 2, 0.5, -0.25, -0.25\n",
    "# alpha = -2, 3, 1, -.5\n",
    "# alpha = -1, 3, 2, -.25, 5, 5 \n",
    "# alpha = -1, 3, -.25, 2.5, 2 \n",
    "\n",
    "alpha = -1, 3, -.25, 1, 2.5 \n",
    "\n",
    "def gen_y(df_lin, Zeigen, alpha, lin=True):\n",
    "    Nn = Zeigen.shape[0]\n",
    "    epsi = rng.normal(loc=0,scale=1,size=Nn)\n",
    "    if lin:\n",
    "        mean_y = np.dot(np.column_stack((df_lin,Zeigen)), alpha)\n",
    "    else:\n",
    "        mean_lin = np.dot(df_lin, alpha[0:4]) \n",
    "        # mean_nonlin = 0*(Zeigen < 0.2) + (alpha[3]*3)*(Zeigen-0.2)*(Zeigen>=0.2)        \n",
    "        # mean_nonlin = 0*(Zeigen < 0.2)  - alpha[3]*(np.log(1-(Zeigen-0.2)/1.1))*(Zeigen>=0.2)        \n",
    "        # mean_nonlin = alpha[3] / (1+np.exp(-15*(Zeigen-0.4)))        \n",
    "        # mean_nonlin = alpha[3]*(np.sin(10 * Zeigen) + np.log(Zeigen + 1))\n",
    "        mean_nonlin = alpha[4]*(np.sin(10 * Zeigen) + np.log(Zeigen + 1))        \n",
    "        # mean_nonlin = alpha[3]*(np.sin(15 * Zeigen) + 2*np.log(Zeigen + 1))        \n",
    "        # mean_nonlin = alpha[3]*(np.sin(4*np.pi * Zeigen) + np.log(Zeigen + 1))        \n",
    "        mean_y = mean_lin + mean_nonlin\n",
    "\n",
    "    Y = mean_y + epsi\n",
    "    return Y, epsi\n",
    "\n"
   ],
   "metadata": {
    "collapsed": false,
    "ExecuteTime": {
     "end_time": "2024-07-18T11:55:04.493811Z",
     "start_time": "2024-07-18T11:55:04.484614Z"
    }
   },
   "id": "bbb9c575f0152175",
   "outputs": [],
   "execution_count": 14
  },
  {
   "cell_type": "code",
   "source": [
    "# df_array = np.transpose(np.array([[1]*n,Z,exposures,x,eigen_center,betweeness]))\n",
    "# df_array = np.transpose(np.array([[1]*n, Z, x, Zeigen,exposures]))\n",
    "df_array = np.transpose(np.array([[1]*n, Z, x,x2, Zeigen]))\n",
    "df_lin = np.transpose(np.array([[1]*n, Z, x, x2]))\n",
    "# mean_y = np.dot(df_array,alpha)\n",
    "# # Y = alpha[0] + alpha[1]*Z + alpha[2]*exposures + alpha[3]*x + alpha[4] + rng.normal(loc=0,scale=1,size=n)\n",
    "# epsilon = rng.normal(loc=0,scale=1,size=n)\n",
    "# Y = mean_y + epsilon\n",
    "\n",
    "# Y, epsilon = gen_y(df_lin, Zeigen, alpha, lin=True)\n",
    "# Y, epsilon = gen_y(df_lin, Zeigen, alpha, lin=False)\n",
    "Y, epsilon = gen_y(df_lin, Zeigen, alpha, lin=True)\n",
    "\n",
    "plt.figure(figsize=(3,2))\n",
    "plt.hist(Y)\n"
   ],
   "metadata": {
    "collapsed": false,
    "ExecuteTime": {
     "end_time": "2024-07-18T11:55:05.952044Z",
     "start_time": "2024-07-18T11:55:05.447320Z"
    }
   },
   "id": "862926e231d08a6f",
   "outputs": [
    {
     "data": {
      "text/plain": [
       "(array([11., 23., 48., 42., 50., 58., 32., 19., 11.,  6.]),\n",
       " array([-3.32063616, -2.17148251, -1.02232887,  0.12682478,  1.27597843,\n",
       "         2.42513207,  3.57428572,  4.72343937,  5.87259301,  7.02174666,\n",
       "         8.17090031]),\n",
       " <BarContainer object of 10 artists>)"
      ]
     },
     "execution_count": 15,
     "metadata": {},
     "output_type": "execute_result"
    },
    {
     "data": {
      "text/plain": [
       "<Figure size 300x200 with 1 Axes>"
      ],
      "image/png": "[encoded data removed]"
     },
     "metadata": {
      "image/png": {
       "width": 311,
       "height": 211
      }
     },
     "output_type": "display_data"
    }
   ],
   "execution_count": 15
  },
  {
   "cell_type": "code",
   "source": [
    "plt.figure(figsize=(3,2))\n",
    "plt.hist(degrees)"
   ],
   "metadata": {
    "collapsed": false,
    "ExecuteTime": {
     "end_time": "2024-07-18T11:55:08.695272Z",
     "start_time": "2024-07-18T11:55:08.298489Z"
    }
   },
   "id": "dcc7616cbed6aaa1",
   "outputs": [
    {
     "data": {
      "text/plain": [
       "(array([ 5., 33., 64., 94., 37., 23., 24., 12.,  6.,  2.]),\n",
       " array([ 0. ,  4.3,  8.6, 12.9, 17.2, 21.5, 25.8, 30.1, 34.4, 38.7, 43. ]),\n",
       " <BarContainer object of 10 artists>)"
      ]
     },
     "execution_count": 16,
     "metadata": {},
     "output_type": "execute_result"
    },
    {
     "data": {
      "text/plain": [
       "<Figure size 300x200 with 1 Axes>"
      ],
      "image/png": "[encoded data removed]"
     },
     "metadata": {
      "image/png": {
       "width": 311,
       "height": 211
      }
     },
     "output_type": "display_data"
    }
   ],
   "execution_count": 16
  },
  {
   "cell_type": "code",
   "source": [
    "plt.figure(figsize=(4,3))\n",
    "# plt.scatter(exposures,betweeness)\n",
    "# plt.scatter(exposures,eigen_center)\n",
    "\n",
    "# print(np.corrcoef(eigen_center,Zeigen))\n",
    "print(np.corrcoef(Zeigen,Y))\n",
    "# plt.scatter(eigen_center,Zeigen)\n",
    "plt.scatter(Zeigen,Y-epsilon,c=Z)\n",
    "# plt.scatter(exposures,Zeigen)\n",
    "# plt.scatter(exposures/degrees,Zeigen)\n",
    "# plt.scatter(betweeness,eigen_center)\n",
    "# plt.hist(Zeigen)\n",
    "# plt.hist(exposures/degrees)"
   ],
   "metadata": {
    "collapsed": false,
    "ExecuteTime": {
     "end_time": "2024-07-18T11:55:09.863204Z",
     "start_time": "2024-07-18T11:55:09.152007Z"
    }
   },
   "id": "9013f4ab2398044e",
   "outputs": [
    {
     "name": "stdout",
     "output_type": "stream",
     "text": [
      "[[1.         0.55507624]\n",
      " [0.55507624 1.        ]]\n"
     ]
    },
    {
     "data": {
      "text/plain": [
       "<matplotlib.collections.PathCollection at 0x17f16d43790>"
      ]
     },
     "execution_count": 17,
     "metadata": {},
     "output_type": "execute_result"
    },
    {
     "data": {
      "text/plain": [
       "<Figure size 400x300 with 1 Axes>"
      ],
      "image/png": "[encoded data removed]"
     },
     "metadata": {
      "image/png": {
       "width": 411,
       "height": 311
      }
     },
     "output_type": "display_data"
    }
   ],
   "execution_count": 17
  },
  {
   "cell_type": "code",
   "source": [
    "# DG = nx.from_numpy_array(mat)\n",
    "# nx.set_node_attributes(DG, Z, \"Treatments\") \n",
    "# nx.draw(DG, with_labels=True,  node_color = Z)\n",
    "# plt.legend()\n",
    "# plt.show()"
   ],
   "metadata": {
    "collapsed": false
   },
   "id": "e14827155b8509da",
   "outputs": [],
   "execution_count": null
  },
  {
   "cell_type": "code",
   "source": [
    "# Create noisy measurement of `mat`\n",
    "# gamma1 = 0.25  # Remove existing edge with prob `alph`\n",
    "# gamma1 = 0.25  # Remove existing edge with prob `alph`\n",
    "# gamma2 = 0.01\n",
    "# \n",
    "# # gamma0 = gamma1/5 # add non-existing edge with prob `bet` \n",
    "# # gamma0 = 0.05 # add non-existing edge with prob `bet` \n",
    "# gamma0 = 0.025 # add non-existing edge with prob `bet` \n",
    "# \n",
    "# obs_mat = np.zeros((n,n)) # create nXn matrix of zeros\n",
    "# # obs_mat[np.tril_indices(n=n,k=-1)] = tril_vals # init as true network\n",
    "# obs_mat[np.triu_indices(n=n,k=1)] = triu_vals # init as true network\n",
    "# for i in range(0,n): # add noise\n",
    "#     for j in range(i+1,n):\n",
    "#         if mat[i,j] == 1:\n",
    "#             # obs_mat[i,j] = rng.binomial(n=1,p=1-gamma1,size=1)[0] # retain existing edge w.p. `1-gamma1`\n",
    "#             obs_mat[i,j] = rng.binomial(n=1,p=1-expit(2 - 3*x_diff[]),size=1)[0] # retain existing edge w.p. `1-gamma1`\n",
    "#         else:\n",
    "#             obs_mat[i,j] = rng.binomial(n=1,p=gamma0,size=1)[0] # add non-existing edge w.p. `gamma0` \n",
    "#             \n",
    "# obs_mat = obs_mat + obs_mat.T\n",
    "# triu_obs = obs_mat[np.triu_indices(n=n,k=1)]\n",
    "# # tril_obs = obs_mat[np.tril_indices(n=n,k=-1)]\n"
   ],
   "metadata": {
    "collapsed": false,
    "ExecuteTime": {
     "end_time": "2024-07-18T12:22:40.254188Z",
     "start_time": "2024-07-18T12:22:40.247180Z"
    }
   },
   "id": "9957375b934c1830",
   "outputs": [],
   "execution_count": 61
  },
  {
   "metadata": {
    "ExecuteTime": {
     "end_time": "2024-07-18T12:34:46.522267Z",
     "start_time": "2024-07-18T12:34:46.501122Z"
    }
   },
   "cell_type": "code",
   "source": "print(logit(1-0.25), expit(1.0986123), expit(-1), expit(-3.5))",
   "id": "1fc04f516acd1496",
   "outputs": [
    {
     "name": "stdout",
     "output_type": "stream",
     "text": [
      "1.0986123 0.75000006 0.26894143 0.02931223\n"
     ]
    }
   ],
   "execution_count": 82
  },
  {
   "metadata": {
    "ExecuteTime": {
     "end_time": "2024-07-18T12:23:42.291739Z",
     "start_time": "2024-07-18T12:23:42.260896Z"
    }
   },
   "cell_type": "code",
   "source": [
    "# prob_nois = triu_vals*(1-0.3) + (1-triu_vals)*expit(-1 - .25*x_diff)\n",
    "# logit_nois = triu_vals*logit(1-0.25) + (1-triu_vals)*(-1.5 - .1*x_diff + .5*x2_equal)\n",
    "logit_nois = triu_vals*logit(1-0.25) + (1-triu_vals)*(-2.5 - 1*x2_equal)\n",
    "\n",
    "# prob_nois = triu_vals*(1-0.25) + (1-triu_vals)*0.05\n",
    "obs_mat = np.zeros((n,n))\n",
    "# idx_lt = np.tril_indices(n=n,k=-1)\n",
    "idx_ut = np.triu_indices(n=n,k=1)\n",
    "# edges = rng.binomial(n=1,p=0.5,size=tril_dim)\n",
    "edges_noisy = rng.binomial(n=1,p=expit(logit_nois),size=tril_dim)\n",
    "\n",
    "obs_mat[idx_ut] = edges_noisy\n",
    "# mat[idx_lt] = edges\n",
    "obs_mat = obs_mat + obs_mat.T\n",
    "triu_obs = obs_mat[np.triu_indices(n,k=1)]\n",
    "\n",
    "\n"
   ],
   "id": "7fd2558a6cc65c87",
   "outputs": [],
   "execution_count": 73
  },
  {
   "cell_type": "code",
   "source": [
    "# Plot noisy observed network \n",
    "# DG_noise = nx.from_numpy_array(obs_mat)\n",
    "# nx.draw(DG_noise, with_labels=True,  node_color = Z)\n",
    "# plt.show()\n",
    "plt.figure(figsize=(4,3))\n",
    "plt.hist(np.sum(obs_mat,1))"
   ],
   "metadata": {
    "collapsed": false,
    "ExecuteTime": {
     "end_time": "2024-07-18T12:23:43.653763Z",
     "start_time": "2024-07-18T12:23:42.922481Z"
    }
   },
   "id": "2af4da8a120d34db",
   "outputs": [
    {
     "data": {
      "text/plain": [
       "(array([ 7., 22., 33., 77., 55., 45., 29., 17., 11.,  4.]),\n",
       " array([17. , 20.6, 24.2, 27.8, 31.4, 35. , 38.6, 42.2, 45.8, 49.4, 53. ]),\n",
       " <BarContainer object of 10 artists>)"
      ]
     },
     "execution_count": 74,
     "metadata": {},
     "output_type": "execute_result"
    },
    {
     "data": {
      "text/plain": [
       "<Figure size 400x300 with 1 Axes>"
      ],
      "image/png": "[encoded data removed]"
     },
     "metadata": {
      "image/png": {
       "width": 411,
       "height": 311
      }
     },
     "output_type": "display_data"
    }
   ],
   "execution_count": 74
  },
  {
   "cell_type": "code",
   "source": [
    "trils_pd = pd.DataFrame({'true' : triu_vals, 'obs' : triu_obs})\n",
    "pd.crosstab(index=trils_pd['true'], columns=trils_pd['obs'])\n"
   ],
   "metadata": {
    "collapsed": false,
    "ExecuteTime": {
     "end_time": "2024-07-18T12:23:45.001642Z",
     "start_time": "2024-07-18T12:23:44.967328Z"
    }
   },
   "id": "edb0b09737e7ec75",
   "outputs": [
    {
     "data": {
      "text/plain": [
       "obs     0.0   1.0\n",
       "true             \n",
       "0.0   39321  3058\n",
       "1.0     578  1893"
      ],
      "text/html": [
       "<div>\n",
       "<style scoped>\n",
       "    .dataframe tbody tr th:only-of-type {\n",
       "        vertical-align: middle;\n",
       "    }\n",
       "\n",
       "    .dataframe tbody tr th {\n",
       "        vertical-align: top;\n",
       "    }\n",
       "\n",
       "    .dataframe thead th {\n",
       "        text-align: right;\n",
       "    }\n",
       "</style>\n",
       "<table border=\"1\" class=\"dataframe\">\n",
       "  <thead>\n",
       "    <tr style=\"text-align: right;\">\n",
       "      <th>obs</th>\n",
       "      <th>0.0</th>\n",
       "      <th>1.0</th>\n",
       "    </tr>\n",
       "    <tr>\n",
       "      <th>true</th>\n",
       "      <th></th>\n",
       "      <th></th>\n",
       "    </tr>\n",
       "  </thead>\n",
       "  <tbody>\n",
       "    <tr>\n",
       "      <th>0.0</th>\n",
       "      <td>39321</td>\n",
       "      <td>3058</td>\n",
       "    </tr>\n",
       "    <tr>\n",
       "      <th>1.0</th>\n",
       "      <td>578</td>\n",
       "      <td>1893</td>\n",
       "    </tr>\n",
       "  </tbody>\n",
       "</table>\n",
       "</div>"
      ]
     },
     "execution_count": 75,
     "metadata": {},
     "output_type": "execute_result"
    }
   ],
   "execution_count": 75
  },
  {
   "cell_type": "code",
   "source": [
    "\n",
    "# obs_exposures = np.dot(obs_mat,Z)/np.sum(obs_mat,1) > 0.5\n",
    "# # obs_exposures = np.dot(obs_mat,Z)\n",
    "# obs_exposures = np.dot(obs_mat,Z)\n",
    "\n",
    "\n",
    "# obs_net = nx.from_numpy_array(obs_mat)\n",
    "# obs_deg = np.array([degree for _, degree in obs_net.degree()])\n",
    "# obs_betweeness = np.array(list(nx.betweenness_centrality(obs_net).values()))\n",
    "# obs_triangles = np.array(list(nx.triangles(obs_net).values()))\n",
    "# obs_eigen_center = np.array(list(nx.eigenvector_centrality_numpy(obs_net).values()))\n",
    "obs_degrees = np.sum(obs_mat,1)\n",
    "obs_eigen_cent = eigen_centrality(obs_mat)\n",
    "obs_exposures = np.dot(obs_mat,Z) / obs_degrees\n",
    "# obs_Zeigen = np.dot(obs_mat, Z*obs_eigen_cent)\n",
    "obs_Zeigen = zeigen_value(Z, obs_eigen_cent, obs_mat)\n",
    "\n",
    "# obs_df = np.transpose(np.array([[1]*n, Z, obs_exposures,x, obs_eigen_center, obs_betweeness]))\n",
    "# obs_df = np.transpose(np.array([[1]*n, Z, x, obs_Zeigen, obs_exposures]))\n",
    "obs_df = np.transpose(np.array([[1]*n, Z, x, x2, obs_Zeigen]))\n",
    "\n",
    "print(pd.DataFrame(obs_exposures).describe())\n",
    "\n",
    "print(\"Corr obs~true exposures: \", np.corrcoef(exposures, obs_exposures)[1,0])\n",
    "print(\"Corr obs~true Zeigen: \", np.corrcoef(Zeigen, obs_Zeigen)[1,0])\n",
    "print(\"Corr true_zeigen~Y : \", np.corrcoef(Zeigen, Y)[1,0])\n",
    "print(\"Corr obs_zeigen~Y : \", np.corrcoef(obs_Zeigen, Y)[1,0])\n",
    "\n",
    "# obs_exposures = np.dot(obs_mat,Z)/np.sum(obs_mat,1)\n",
    "# expos_pd = pd.DataFrame({'true' : exposures, 'obs' : obs_exposures})\n",
    "# pd.crosstab(index=expos_pd['true'], columns=expos_pd['obs'])\n",
    "plt.figure(figsize=(4,3))\n",
    "# plt.scatter(obs_exposures,exposures, c=Z)\n",
    "plt.scatter(obs_Zeigen,Zeigen, c=Z)"
   ],
   "metadata": {
    "collapsed": false,
    "ExecuteTime": {
     "end_time": "2024-07-18T12:23:47.685931Z",
     "start_time": "2024-07-18T12:23:47.023110Z"
    }
   },
   "id": "930b23ed1fd1ac16",
   "outputs": [
    {
     "name": "stdout",
     "output_type": "stream",
     "text": [
      "                0\n",
      "count  300.000000\n",
      "mean     0.474877\n",
      "std      0.079827\n",
      "min      0.255319\n",
      "25%      0.416667\n",
      "50%      0.470588\n",
      "75%      0.533333\n",
      "max      0.689655\n",
      "Corr obs~true exposures:  nan\n",
      "Corr obs~true Zeigen:  0.6253726534937488\n",
      "Corr true_zeigen~Y :  0.5550762383493929\n",
      "Corr obs_zeigen~Y :  0.3263165267136303\n"
     ]
    },
    {
     "data": {
      "text/plain": [
       "<matplotlib.collections.PathCollection at 0x17f25abee50>"
      ]
     },
     "execution_count": 76,
     "metadata": {},
     "output_type": "execute_result"
    },
    {
     "data": {
      "text/plain": [
       "<Figure size 400x300 with 1 Axes>"
      ],
      "image/png": "[encoded data removed]"
     },
     "metadata": {
      "image/png": {
       "width": 411,
       "height": 311
      }
     },
     "output_type": "display_data"
    }
   ],
   "execution_count": 76
  },
  {
   "cell_type": "code",
   "source": [
    "plt.figure(figsize=(4,3))\n",
    "# plt.scatter(obs_betweeness, betweeness)\n",
    "plt.scatter(obs_eigen_cent, eigen_center)"
   ],
   "metadata": {
    "collapsed": false,
    "ExecuteTime": {
     "end_time": "2024-07-18T12:23:52.237438Z",
     "start_time": "2024-07-18T12:23:51.057781Z"
    }
   },
   "id": "dae638d13172f3c2",
   "outputs": [
    {
     "data": {
      "text/plain": [
       "<matplotlib.collections.PathCollection at 0x17f25f26c90>"
      ]
     },
     "execution_count": 77,
     "metadata": {},
     "output_type": "execute_result"
    },
    {
     "data": {
      "text/plain": [
       "<Figure size 400x300 with 1 Axes>"
      ],
      "image/png": "[encoded data removed]"
     },
     "metadata": {
      "image/png": {
       "width": 411,
       "height": 311
      }
     },
     "output_type": "display_data"
    }
   ],
   "execution_count": 77
  },
  {
   "cell_type": "markdown",
   "source": [],
   "metadata": {
    "collapsed": false
   },
   "id": "e17579ab8fecd8b8"
  },
  {
   "cell_type": "code",
   "source": [
    "# NumPyro model\n",
    "# def triu_to_mat(triu, n):\n",
    "#     adj_mat = jnp.zeros((n,n))\n",
    "#     idx_utri = np.triu_indices(n=n,k=1)\n",
    "#     adj_mat = adj_mat.at[idx_utri].set(triu) \n",
    "#     return adj_mat + adj_mat.T\n",
    "\n",
    "NN = n\n",
    "\n",
    "@jit\n",
    "def Triu_to_mat(triu_v):\n",
    "    adj_mat = jnp.zeros((NN,NN))\n",
    "    # idx_utri = np.triu_indices(n=NN,k=1)\n",
    "    adj_mat = adj_mat.at[np.triu_indices(n=NN,k=1)].set(triu_v) \n",
    "    return adj_mat + adj_mat.T\n",
    "\n",
    "# @numpyro.handlers.reparam(config={\"beta\": LocScaleReparam(), \"gamma\": LocScaleReparam()})\n",
    "@config_enumerate\n",
    "def network_model(X, X2, TriU):\n",
    "    # Network model\n",
    "    # beta_0 = numpyro.sample(\"beta0\",dist.Normal(0,10))\n",
    "    # beta_1 = numpyro.sample(\"beta1\",dist.Normal(0,10))\n",
    "    with numpyro.plate(\"beta_i\",3):\n",
    "        beta = numpyro.sample(\"beta\", dist.Normal(0,3))\n",
    "    mu_net = beta[0] + beta[1]*X + beta[2]*X2\n",
    "    # triu_n = int(n*(n-1)/2)\n",
    "    \n",
    "    # gamma0 = numpyro.sample(\"gamma0\", dist.Uniform(low=0,high=0.5))\n",
    "    # gamma1 = numpyro.sample(\"gamma1\", dist.Uniform(low=0,high=0.5))\n",
    "    with numpyro.plate(\"gamma_i\",3):\n",
    "        gamma = numpyro.sample(\"gamma\", dist.Normal(0,3))\n",
    "    \n",
    "    # gamma0 = numpyro.sample(\"gamma0\", dist.Beta(2,5))\n",
    "    # gamma1 = numpyro.sample(\"gamma1\", dist.Beta(2,5))\n",
    "    \n",
    "    with numpyro.plate(\"A* and A\", TriU.shape[0]):\n",
    "        triu_star = numpyro.sample(\"triu_star\",dist.Bernoulli(logits=mu_net),\n",
    "                                   infer={\"enumerate\": \"parallel\"})\n",
    "        # prob_misspec = jnp.where(triu_star==1, 1-gamma1, gamma0)\n",
    "        # prob_misspec = triu_star*(1-gamma1) + (1-triu_star)*gamma0\n",
    "        # prob_misspec = triu_star*(1-gamma1) + (1-triu_star)*expit(gamma[0] + gamma[1]*X + gamma[2]*X2)\n",
    "        # logit_misspec = triu_star*gamma[0] + (1-triu_star)*(gamma[1] + gamma[2]*X + gamma[3]*X2)\n",
    "        logit_misspec = triu_star*gamma[0] + (1-triu_star)*(gamma[1] + gamma[2]*X2)\n",
    "        # numpyro.sample(\"obs_triu\", dist.Bernoulli(probs = prob_misspec), obs = TriU)\n",
    "        numpyro.sample(\"obs_triu\", dist.Bernoulli(logits = logit_misspec), obs = TriU)\n",
    "        \n",
    "    # def triu_fn(carry, inp):\n",
    "    #     # print(\"Starting tril_fn carry no.\", carry)\n",
    "    #     # mu_n = inp\n",
    "    #     mu_n, triu_val = inp\n",
    "    #     # logp of A* \n",
    "    #     # with numpyro.plate(\"Edges A*\", triu_n):\n",
    "    #     triu_star = numpyro.sample(\"triu_star\",dist.Bernoulli(logits=mu_n),\n",
    "    #                                infer={\"enumerate\": \"parallel\"})\n",
    "    #     # print(\"Triu_Star shape (within) is\", triu_star.shape)\n",
    "    #     # # logp of A|A*\n",
    "    #     # # with numpyro.plate(\"A|A*\", 1):\n",
    "    #     prob_misspec = jnp.where(triu_star==1, 1-gamma1, gamma0)\n",
    "    #     # print(\"prob_misspec shape is: \", prob_misspec.shape)\n",
    "    #     # obs_triu_vals = numpyro.sample(\"obs_triu\", dist.Bernoulli(probs = prob_misspec), obs = TriU)\n",
    "    #     return carry+1, triu_star  \n",
    "    # \n",
    "    # sc_input = jnp.array((mu_net, TriU)).T\n",
    "    # _, triu_var = scan(triu_fn, jnp.array(0), sc_input)\n",
    "    # print(\"triu_var shape is: \", triu_var.shape)\n",
    "    # scan(triu_fn, jnp.array(0), sc_input)    \n",
    "    # \n",
    "\n",
    "\n",
    "# def outcome_model(Y,Z,X,A,n):\n",
    "\n",
    "def outcome_model(X, Y=None):\n",
    "    with numpyro.plate(\"Lin coef.\",X.shape[1]):\n",
    "        alpha = numpyro.sample(\"alpha\",dist.Normal(0,5))\n",
    "    sig = numpyro.sample(\"sig\",dist.HalfNormal(scale=2))\n",
    "    # sig = numpyro.sample(\"sig\",dist.Exponential(0.5))\n",
    "    \n",
    "    # expos = jnp.dot(A,Z)\n",
    "    # expos = (jnp.dot(A,Z) / jnp.sum(A,1)) > 0.5\n",
    "    # sum_expos = jnp.dot(A,Z)\n",
    "    # deg = jnp.sum(A,1)\n",
    "    # expos = jnp.where(jnp.equal(deg,0), 0, sum_expos/deg)\n",
    "    # mu_y = alpha[0] + alpha[1]*Z + alpha[2]*expos + alpha[3]*X \n",
    "    mu_y = jnp.dot(X, alpha)\n",
    "    # mu_y = numpyro.deterministic(\"mu\", jnp.dot(X, alpha))\n",
    "    # mu_y = alpha[0] + alpha[1]*Z + alpha[2]*expos + alpha[3]*deg  + alpha[4]*X\n",
    "    # mu_y = alpha[0] + alpha[1]*Z + alpha[2]*expos + alpha[3]*expos*Z + alpha[4]*deg\n",
    "    # mu_y = alpha[0] + alpha[1]*Z + alpha[2]*expos + alpha[3]*expos*Z + alpha[4]*deg\n",
    "    with numpyro.plate(\"obs\",X.shape[0]):\n",
    "        numpyro.sample(\"Y\", dist.Normal(loc=mu_y,scale=sig), obs=Y)\n",
    "        \n",
    "        \n",
    "def HSGP_model(Xlin, Xgp, ell, m, Y=None, non_centered=True):\n",
    "    # --- Priors ---\n",
    "    magn = numpyro.sample(\"magn\", dist.HalfNormal(2))\n",
    "    length = numpyro.sample(\"length\", dist.HalfNormal(5))\n",
    "    sig = numpyro.sample(\"sig\", dist.HalfNormal(2))\n",
    "    # --- Parametrization ---\n",
    "    f = hsgp_squared_exponential(\n",
    "        x=Xgp, alpha=magn, length=length, ell=ell, m=m, non_centered=non_centered\n",
    "    )\n",
    "    with numpyro.plate(\"Lin coef.\",Xlin.shape[1]):\n",
    "        alpha = numpyro.sample(\"alpha\",dist.Normal(0,5))\n",
    "    # mu = numpyro.deterministic(\"mu\", jnp.dot(Xlin, alpha) + f)\n",
    "    mu = jnp.dot(Xlin, alpha) + f\n",
    "    # mu = beta0 + beta1*x_lin + f\n",
    "    # --- Likelihood ---\n",
    "    with numpyro.plate(\"obs\", Xlin.shape[0]):\n",
    "        # numpyro.sample(\"likelihood\", dist.Normal(loc=mu, scale=noise), obs=y)\n",
    "        # numpyro.sample(\"Y\", dist.Normal(loc=f, scale=noise), obs=y)\n",
    "        # numpyro.sample(\"Y\", dist.Normal(loc=mu, scale=sig), obs=Y, sample_shape=(Xgp.shape[0],))\n",
    "        numpyro.sample(\"Y\", dist.Normal(loc=mu, scale=sig), obs=Y)\n",
    "        \n",
    "\n",
    "# numpyro.render_model(model, model_args=(Y,Z,x_diff,triu_obs,n), render_distributions=True)\n",
    "numpyro.render_model(network_model, model_args=(x_diff, x2_equal,triu_obs), render_distributions=True)\n",
    "# numpyro.render_model(model, model_args=(Y,Z,x_diff,tril_vals))"
   ],
   "metadata": {
    "collapsed": false,
    "ExecuteTime": {
     "end_time": "2024-07-18T12:24:15.773357Z",
     "start_time": "2024-07-18T12:24:15.445530Z"
    }
   },
   "id": "b16d10dbe16c0b09",
   "outputs": [
    {
     "data": {
      "image/svg+xml": "<?xml version=\"1.0\" encoding=\"UTF-8\" standalone=\"no\"?>\n<!DOCTYPE svg PUBLIC \"-//W3C//DTD SVG 1.1//EN\"\n \"http://www.w3.org/Graphics/SVG/1.1/DTD/svg11.dtd\">\n<!-- Generated by graphviz version 10.0.1 (20240210.2158)\n -->\n<!-- Pages: 1 -->\n<svg width=\"273pt\" height=\"267pt\"\n viewBox=\"0.00 0.00 273.12 266.50\" xmlns=\"http://www.w3.org/2000/svg\" xmlns:xlink=\"http://www.w3.org/1999/xlink\">\n<g id=\"graph0\" class=\"graph\" transform=\"scale(1 1) rotate(0) translate(4 262.5)\">\n<polygon fill=\"white\" stroke=\"none\" points=\"-4,4 -4,-262.5 269.12,-262.5 269.12,4 -4,4\"/>\n<g id=\"clust1\" class=\"cluster\">\n<title>cluster_beta_i</title>\n<polygon fill=\"none\" stroke=\"black\" points=\"23,-173.25 23,-249 93,-249 93,-173.25 23,-173.25\"/>\n<text text-anchor=\"middle\" x=\"68.12\" y=\"-179.7\" font-family=\"Times New Roman,serif\" font-size=\"14.00\">beta_i</text>\n</g>\n<g id=\"clust2\" class=\"cluster\">\n<title>cluster_gamma_i</title>\n<polygon fill=\"none\" stroke=\"black\" points=\"116,-83.75 116,-159.5 206,-159.5 206,-83.75 116,-83.75\"/>\n<text text-anchor=\"middle\" x=\"172.88\" y=\"-90.2\" font-family=\"Times New Roman,serif\" font-size=\"14.00\">gamma_i</text>\n</g>\n<g id=\"clust3\" class=\"cluster\">\n<title>cluster_A* and A</title>\n<polygon fill=\"none\" stroke=\"black\" points=\"8,-8 8,-159.5 108,-159.5 108,-8 8,-8\"/>\n<text text-anchor=\"middle\" x=\"73\" y=\"-14.45\" font-family=\"Times New Roman,serif\" font-size=\"14.00\">A* and A</text>\n</g>\n<!-- beta -->\n<g id=\"node1\" class=\"node\">\n<title>beta</title>\n<ellipse fill=\"white\" stroke=\"black\" cx=\"58\" cy=\"-223\" rx=\"27\" ry=\"18\"/>\n<text text-anchor=\"middle\" x=\"58\" y=\"-217.57\" font-family=\"Times New Roman,serif\" font-size=\"14.00\">beta</text>\n</g>\n<!-- triu_star -->\n<g id=\"node3\" class=\"node\">\n<title>triu_star</title>\n<ellipse fill=\"white\" stroke=\"black\" cx=\"58\" cy=\"-133.5\" rx=\"41.08\" ry=\"18\"/>\n<text text-anchor=\"middle\" x=\"58\" y=\"-128.07\" font-family=\"Times New Roman,serif\" font-size=\"14.00\">triu_star</text>\n</g>\n<!-- beta&#45;&gt;triu_star -->\n<g id=\"edge1\" class=\"edge\">\n<title>beta&#45;&gt;triu_star</title>\n<path fill=\"none\" stroke=\"black\" d=\"M58,-204.71C58,-192.85 58,-176.82 58,-163.08\"/>\n<polygon fill=\"black\" stroke=\"black\" points=\"61.5,-163.26 58,-153.26 54.5,-163.26 61.5,-163.26\"/>\n</g>\n<!-- gamma -->\n<g id=\"node2\" class=\"node\">\n<title>gamma</title>\n<ellipse fill=\"white\" stroke=\"black\" cx=\"161\" cy=\"-133.5\" rx=\"37.09\" ry=\"18\"/>\n<text text-anchor=\"middle\" x=\"161\" y=\"-128.07\" font-family=\"Times New Roman,serif\" font-size=\"14.00\">gamma</text>\n</g>\n<!-- obs_triu -->\n<g id=\"node4\" class=\"node\">\n<title>obs_triu</title>\n<ellipse fill=\"grey\" stroke=\"black\" cx=\"58\" cy=\"-57.75\" rx=\"41.58\" ry=\"18\"/>\n<text text-anchor=\"middle\" x=\"58\" y=\"-52.33\" font-family=\"Times New Roman,serif\" font-size=\"14.00\">obs_triu</text>\n</g>\n<!-- gamma&#45;&gt;obs_triu -->\n<g id=\"edge2\" class=\"edge\">\n<title>gamma&#45;&gt;obs_triu</title>\n<path fill=\"none\" stroke=\"black\" d=\"M147.62,-116.55C138.39,-106.25 125.39,-93.08 112,-83.75 107.78,-80.82 103.17,-78.08 98.47,-75.57\"/>\n<polygon fill=\"black\" stroke=\"black\" points=\"100.04,-72.44 89.52,-71.14 96.93,-78.71 100.04,-72.44\"/>\n</g>\n<!-- triu_star&#45;&gt;obs_triu -->\n<g id=\"edge3\" class=\"edge\">\n<title>triu_star&#45;&gt;obs_triu</title>\n<path fill=\"none\" stroke=\"black\" d=\"M58,-115.02C58,-106.76 58,-96.67 58,-87.34\"/>\n<polygon fill=\"black\" stroke=\"black\" points=\"61.5,-87.62 58,-77.62 54.5,-87.62 61.5,-87.62\"/>\n</g>\n<!-- distribution_description_node -->\n<g id=\"node5\" class=\"node\">\n<title>distribution_description_node</title>\n<text text-anchor=\"start\" x=\"110.88\" y=\"-241.2\" font-family=\"Times New Roman,serif\" font-size=\"14.00\">beta ~ Normal</text>\n<text text-anchor=\"start\" x=\"110.88\" y=\"-225.45\" font-family=\"Times New Roman,serif\" font-size=\"14.00\">gamma ~ Normal</text>\n<text text-anchor=\"start\" x=\"110.88\" y=\"-209.7\" font-family=\"Times New Roman,serif\" font-size=\"14.00\">triu_star ~ BernoulliLogits</text>\n<text text-anchor=\"start\" x=\"110.88\" y=\"-193.95\" font-family=\"Times New Roman,serif\" font-size=\"14.00\">obs_triu ~ BernoulliLogits</text>\n</g>\n</g>\n</svg>\n",
      "text/plain": [
       "<graphviz.graphs.Digraph at 0x17f1e1165d0>"
      ]
     },
     "execution_count": 78,
     "metadata": {},
     "output_type": "execute_result"
    }
   ],
   "execution_count": 78
  },
  {
   "cell_type": "code",
   "source": [
    "# numpyro.render_model(outcome_model, model_args=(Y,Z,x,mat,n), render_distributions=True)\n",
    "\n",
    "df_array = jnp.array(df_array)\n",
    "Y = jnp.array(Y)\n",
    "\n",
    "numpyro.render_model(outcome_model, model_args=(df_array,Y), render_distributions=True)"
   ],
   "metadata": {
    "collapsed": false,
    "ExecuteTime": {
     "end_time": "2024-07-18T12:24:18.221728Z",
     "start_time": "2024-07-18T12:24:18.014712Z"
    }
   },
   "id": "389e6f5d9dd220f2",
   "outputs": [
    {
     "data": {
      "image/svg+xml": "<?xml version=\"1.0\" encoding=\"UTF-8\" standalone=\"no\"?>\n<!DOCTYPE svg PUBLIC \"-//W3C//DTD SVG 1.1//EN\"\n \"http://www.w3.org/Graphics/SVG/1.1/DTD/svg11.dtd\">\n<!-- Generated by graphviz version 10.0.1 (20240210.2158)\n -->\n<!-- Pages: 1 -->\n<svg width=\"270pt\" height=\"184pt\"\n viewBox=\"0.00 0.00 269.62 183.50\" xmlns=\"http://www.w3.org/2000/svg\" xmlns:xlink=\"http://www.w3.org/1999/xlink\">\n<g id=\"graph0\" class=\"graph\" transform=\"scale(1 1) rotate(0) translate(4 179.5)\">\n<polygon fill=\"white\" stroke=\"none\" points=\"-4,4 -4,-179.5 265.62,-179.5 265.62,4 -4,4\"/>\n<g id=\"clust1\" class=\"cluster\">\n<title>cluster_Lin coef.</title>\n<polygon fill=\"none\" stroke=\"black\" points=\"64,-91.75 64,-167.5 140,-167.5 140,-91.75 64,-91.75\"/>\n<text text-anchor=\"middle\" x=\"106.88\" y=\"-98.2\" font-family=\"Times New Roman,serif\" font-size=\"14.00\">Lin coef.</text>\n</g>\n<g id=\"clust2\" class=\"cluster\">\n<title>cluster_obs</title>\n<polygon fill=\"none\" stroke=\"black\" points=\"29,-8 29,-83.75 99,-83.75 99,-8 29,-8\"/>\n<text text-anchor=\"middle\" x=\"80.5\" y=\"-14.45\" font-family=\"Times New Roman,serif\" font-size=\"14.00\">obs</text>\n</g>\n<!-- sig -->\n<g id=\"node1\" class=\"node\">\n<title>sig</title>\n<ellipse fill=\"white\" stroke=\"black\" cx=\"27\" cy=\"-141.5\" rx=\"27\" ry=\"18\"/>\n<text text-anchor=\"middle\" x=\"27\" y=\"-136.07\" font-family=\"Times New Roman,serif\" font-size=\"14.00\">sig</text>\n</g>\n<!-- Y -->\n<g id=\"node3\" class=\"node\">\n<title>Y</title>\n<ellipse fill=\"grey\" stroke=\"black\" cx=\"64\" cy=\"-57.75\" rx=\"27\" ry=\"18\"/>\n<text text-anchor=\"middle\" x=\"64\" y=\"-52.33\" font-family=\"Times New Roman,serif\" font-size=\"14.00\">Y</text>\n</g>\n<!-- sig&#45;&gt;Y -->\n<g id=\"edge2\" class=\"edge\">\n<title>sig&#45;&gt;Y</title>\n<path fill=\"none\" stroke=\"black\" d=\"M34.49,-123.96C39.45,-112.99 46.08,-98.34 51.8,-85.71\"/>\n<polygon fill=\"black\" stroke=\"black\" points=\"54.96,-87.2 55.9,-76.65 48.59,-84.31 54.96,-87.2\"/>\n</g>\n<!-- alpha -->\n<g id=\"node2\" class=\"node\">\n<title>alpha</title>\n<ellipse fill=\"white\" stroke=\"black\" cx=\"102\" cy=\"-141.5\" rx=\"30.11\" ry=\"18\"/>\n<text text-anchor=\"middle\" x=\"102\" y=\"-136.07\" font-family=\"Times New Roman,serif\" font-size=\"14.00\">alpha</text>\n</g>\n<!-- alpha&#45;&gt;Y -->\n<g id=\"edge1\" class=\"edge\">\n<title>alpha&#45;&gt;Y</title>\n<path fill=\"none\" stroke=\"black\" d=\"M94.31,-123.96C89.21,-112.99 82.4,-98.34 76.53,-85.71\"/>\n<polygon fill=\"black\" stroke=\"black\" points=\"79.71,-84.23 72.32,-76.64 73.36,-87.18 79.71,-84.23\"/>\n</g>\n<!-- distribution_description_node -->\n<g id=\"node4\" class=\"node\">\n<title>distribution_description_node</title>\n<text text-anchor=\"start\" x=\"158.38\" y=\"-151.82\" font-family=\"Times New Roman,serif\" font-size=\"14.00\">alpha ~ Normal</text>\n<text text-anchor=\"start\" x=\"158.38\" y=\"-136.07\" font-family=\"Times New Roman,serif\" font-size=\"14.00\">sig ~ HalfNormal</text>\n<text text-anchor=\"start\" x=\"158.38\" y=\"-120.33\" font-family=\"Times New Roman,serif\" font-size=\"14.00\">Y ~ Normal</text>\n</g>\n</g>\n</svg>\n",
      "text/plain": [
       "<graphviz.graphs.Digraph at 0x17f1fdf2410>"
      ]
     },
     "execution_count": 79,
     "metadata": {},
     "output_type": "execute_result"
    }
   ],
   "execution_count": 79
  },
  {
   "cell_type": "code",
   "source": [
    "c = 3.5\n",
    "\n",
    "Xgp = jnp.array(df_array[:,4:])\n",
    "Xlin = jnp.array(df_array[:,0:4])\n",
    "# ell = 3.5*np.max(np.abs(df_array[:,3:]))\n",
    "ell = jnp.array(c*np.max(np.abs(Xgp))).reshape(1,1)\n",
    "m = 20\n",
    "# m = 10\n",
    "# m = 50\n",
    "\n",
    "numpyro.render_model(HSGP_model, model_args=(Xgp, Xlin, ell, m, Y), render_distributions=True)"
   ],
   "metadata": {
    "collapsed": false,
    "ExecuteTime": {
     "end_time": "2024-07-18T12:24:19.126450Z",
     "start_time": "2024-07-18T12:24:18.839600Z"
    }
   },
   "id": "b1234e5bbb77d6e6",
   "outputs": [
    {
     "data": {
      "image/svg+xml": "<?xml version=\"1.0\" encoding=\"UTF-8\" standalone=\"no\"?>\n<!DOCTYPE svg PUBLIC \"-//W3C//DTD SVG 1.1//EN\"\n \"http://www.w3.org/Graphics/SVG/1.1/DTD/svg11.dtd\">\n<!-- Generated by graphviz version 10.0.1 (20240210.2158)\n -->\n<!-- Pages: 1 -->\n<svg width=\"527pt\" height=\"222pt\"\n viewBox=\"0.00 0.00 526.86 222.25\" xmlns=\"http://www.w3.org/2000/svg\" xmlns:xlink=\"http://www.w3.org/1999/xlink\">\n<g id=\"graph0\" class=\"graph\" transform=\"scale(1 1) rotate(0) translate(4 218.25)\">\n<polygon fill=\"white\" stroke=\"none\" points=\"-4,4 -4,-218.25 522.86,-218.25 522.86,4 -4,4\"/>\n<g id=\"clust1\" class=\"cluster\">\n<title>cluster_basis</title>\n<polygon fill=\"none\" stroke=\"black\" points=\"226.61,-113.25 226.61,-189 296.61,-189 296.61,-113.25 226.61,-113.25\"/>\n<text text-anchor=\"middle\" x=\"274.36\" y=\"-119.7\" font-family=\"Times New Roman,serif\" font-size=\"14.00\">basis</text>\n</g>\n<g id=\"clust2\" class=\"cluster\">\n<title>cluster_Lin coef.</title>\n<polygon fill=\"none\" stroke=\"black\" points=\"304.61,-113.25 304.61,-189 380.61,-189 380.61,-113.25 304.61,-113.25\"/>\n<text text-anchor=\"middle\" x=\"347.48\" y=\"-119.7\" font-family=\"Times New Roman,serif\" font-size=\"14.00\">Lin coef.</text>\n</g>\n<g id=\"clust3\" class=\"cluster\">\n<title>cluster_obs</title>\n<polygon fill=\"none\" stroke=\"black\" points=\"154.61,-8 154.61,-83.75 224.61,-83.75 224.61,-8 154.61,-8\"/>\n<text text-anchor=\"middle\" x=\"206.11\" y=\"-14.45\" font-family=\"Times New Roman,serif\" font-size=\"14.00\">obs</text>\n</g>\n<!-- magn -->\n<g id=\"node1\" class=\"node\">\n<title>magn</title>\n<ellipse fill=\"white\" stroke=\"black\" cx=\"30.61\" cy=\"-163\" rx=\"30.61\" ry=\"18\"/>\n<text text-anchor=\"middle\" x=\"30.61\" y=\"-157.57\" font-family=\"Times New Roman,serif\" font-size=\"14.00\">magn</text>\n</g>\n<!-- Y -->\n<g id=\"node6\" class=\"node\">\n<title>Y</title>\n<ellipse fill=\"grey\" stroke=\"black\" cx=\"189.61\" cy=\"-57.75\" rx=\"27\" ry=\"18\"/>\n<text text-anchor=\"middle\" x=\"189.61\" y=\"-52.33\" font-family=\"Times New Roman,serif\" font-size=\"14.00\">Y</text>\n</g>\n<!-- magn&#45;&gt;Y -->\n<g id=\"edge1\" class=\"edge\">\n<title>magn&#45;&gt;Y</title>\n<path fill=\"none\" stroke=\"black\" d=\"M40.17,-145.79C47.2,-135 57.6,-121.13 69.61,-111.75 95.09,-91.84 129.22,-77.71 154.56,-69.07\"/>\n<polygon fill=\"black\" stroke=\"black\" points=\"155.33,-72.51 163.74,-66.07 153.15,-65.85 155.33,-72.51\"/>\n</g>\n<!-- length -->\n<g id=\"node2\" class=\"node\">\n<title>length</title>\n<ellipse fill=\"white\" stroke=\"black\" cx=\"111.61\" cy=\"-163\" rx=\"32.6\" ry=\"18\"/>\n<text text-anchor=\"middle\" x=\"111.61\" y=\"-157.57\" font-family=\"Times New Roman,serif\" font-size=\"14.00\">length</text>\n</g>\n<!-- length&#45;&gt;Y -->\n<g id=\"edge2\" class=\"edge\">\n<title>length&#45;&gt;Y</title>\n<path fill=\"none\" stroke=\"black\" d=\"M123.79,-145.87C136.4,-129.18 156.26,-102.89 170.86,-83.56\"/>\n<polygon fill=\"black\" stroke=\"black\" points=\"173.61,-85.73 176.85,-75.64 168.03,-81.51 173.61,-85.73\"/>\n</g>\n<!-- sig -->\n<g id=\"node3\" class=\"node\">\n<title>sig</title>\n<ellipse fill=\"white\" stroke=\"black\" cx=\"189.61\" cy=\"-163\" rx=\"27\" ry=\"18\"/>\n<text text-anchor=\"middle\" x=\"189.61\" y=\"-157.57\" font-family=\"Times New Roman,serif\" font-size=\"14.00\">sig</text>\n</g>\n<!-- sig&#45;&gt;Y -->\n<g id=\"edge3\" class=\"edge\">\n<title>sig&#45;&gt;Y</title>\n<path fill=\"none\" stroke=\"black\" d=\"M189.61,-144.95C189.61,-129.35 189.61,-105.96 189.61,-87.48\"/>\n<polygon fill=\"black\" stroke=\"black\" points=\"193.11,-87.68 189.61,-77.68 186.11,-87.68 193.11,-87.68\"/>\n</g>\n<!-- beta -->\n<g id=\"node4\" class=\"node\">\n<title>beta</title>\n<ellipse fill=\"white\" stroke=\"black\" cx=\"261.61\" cy=\"-163\" rx=\"27\" ry=\"18\"/>\n<text text-anchor=\"middle\" x=\"261.61\" y=\"-157.57\" font-family=\"Times New Roman,serif\" font-size=\"14.00\">beta</text>\n</g>\n<!-- beta&#45;&gt;Y -->\n<g id=\"edge4\" class=\"edge\">\n<title>beta&#45;&gt;Y</title>\n<path fill=\"none\" stroke=\"black\" d=\"M250.67,-146.32C239.09,-129.72 220.65,-103.27 207.06,-83.78\"/>\n<polygon fill=\"black\" stroke=\"black\" points=\"210.1,-82.02 201.51,-75.82 204.36,-86.03 210.1,-82.02\"/>\n</g>\n<!-- alpha -->\n<g id=\"node5\" class=\"node\">\n<title>alpha</title>\n<ellipse fill=\"white\" stroke=\"black\" cx=\"342.61\" cy=\"-163\" rx=\"30.11\" ry=\"18\"/>\n<text text-anchor=\"middle\" x=\"342.61\" y=\"-157.57\" font-family=\"Times New Roman,serif\" font-size=\"14.00\">alpha</text>\n</g>\n<!-- alpha&#45;&gt;Y -->\n<g id=\"edge5\" class=\"edge\">\n<title>alpha&#45;&gt;Y</title>\n<path fill=\"none\" stroke=\"black\" d=\"M331.96,-145.95C324.24,-135.22 313,-121.37 300.61,-111.75 277.41,-93.75 247.11,-79.79 224.03,-70.73\"/>\n<polygon fill=\"black\" stroke=\"black\" points=\"225.35,-67.49 214.75,-67.22 222.86,-74.03 225.35,-67.49\"/>\n</g>\n<!-- distribution_description_node -->\n<g id=\"node7\" class=\"node\">\n<title>distribution_description_node</title>\n<text text-anchor=\"start\" x=\"398.36\" y=\"-196.95\" font-family=\"Times New Roman,serif\" font-size=\"14.00\">magn ~ HalfNormal</text>\n<text text-anchor=\"start\" x=\"398.36\" y=\"-181.2\" font-family=\"Times New Roman,serif\" font-size=\"14.00\">length ~ HalfNormal</text>\n<text text-anchor=\"start\" x=\"398.36\" y=\"-165.45\" font-family=\"Times New Roman,serif\" font-size=\"14.00\">sig ~ HalfNormal</text>\n<text text-anchor=\"start\" x=\"398.36\" y=\"-149.7\" font-family=\"Times New Roman,serif\" font-size=\"14.00\">beta ~ Normal</text>\n<text text-anchor=\"start\" x=\"398.36\" y=\"-133.95\" font-family=\"Times New Roman,serif\" font-size=\"14.00\">alpha ~ Normal</text>\n<text text-anchor=\"start\" x=\"398.36\" y=\"-118.2\" font-family=\"Times New Roman,serif\" font-size=\"14.00\">Y ~ Normal</text>\n</g>\n</g>\n</svg>\n",
      "text/plain": [
       "<graphviz.graphs.Digraph at 0x17f25ea3cd0>"
      ]
     },
     "execution_count": 80,
     "metadata": {},
     "output_type": "execute_result"
    }
   ],
   "execution_count": 80
  },
  {
   "cell_type": "code",
   "source": [
    "# A* and A|A* models\n",
    "\n",
    "rng_key = random.PRNGKey(0)\n",
    "rng_key, rng_key_ = random.split(rng_key)\n",
    "\n",
    "start = time.time()\n",
    "# kernel = DiscreteHMCGibbs(NUTS(model))\n",
    "# kernel = MixedHMC(HMC(model, trajectory_length=1.2))  \n",
    "# kernel = NUTS(model, dense_mass=True)\n",
    "kernel_network = NUTS(network_model)\n",
    "mcmc_network = MCMC(kernel_network, num_warmup=1000, num_samples=2000,num_chains=4)\n",
    "# mcmc_network = MCMC(kernel_network, num_warmup=2000, num_samples=4000,num_chains=4)\n",
    "# mcmc.run(rng_key_,Y=Y,Z=Z,expos=obs_exposures,X=x_diff,TriL=tril_obs,n=100)\n",
    "# mcmc.run(rng_key_,Y=Y,Z=Z,X=x_diff,TriU=triu_obs,n=n)\n",
    "mcmc_network.run(rng_key_,X=x_diff,X2=x2_equal,TriU=triu_obs)\n",
    "mcmc_network.print_summary()\n",
    "samples_network = mcmc_network.get_samples()\n",
    "print(time.time() - start)"
   ],
   "metadata": {
    "collapsed": false,
    "ExecuteTime": {
     "end_time": "2024-07-18T12:32:59.469264Z",
     "start_time": "2024-07-18T12:24:20.049775Z"
    }
   },
   "id": "818342fc9090d3fc",
   "outputs": [
    {
     "data": {
      "text/plain": [
       "  0%|          | 0/3000 [00:00<?, ?it/s]"
      ],
      "application/vnd.jupyter.widget-view+json": {
       "version_major": 2,
       "version_minor": 0,
       "model_id": "fed63148ff9146ab8224c76a00a883f0"
      }
     },
     "metadata": {},
     "output_type": "display_data"
    },
    {
     "data": {
      "text/plain": [
       "  0%|          | 0/3000 [00:00<?, ?it/s]"
      ],
      "application/vnd.jupyter.widget-view+json": {
       "version_major": 2,
       "version_minor": 0,
       "model_id": "085f8004944249ed9792b8ce2f38b03a"
      }
     },
     "metadata": {},
     "output_type": "display_data"
    },
    {
     "data": {
      "text/plain": [
       "  0%|          | 0/3000 [00:00<?, ?it/s]"
      ],
      "application/vnd.jupyter.widget-view+json": {
       "version_major": 2,
       "version_minor": 0,
       "model_id": "92cd7a5caaf94f19bfa07bca81c98eab"
      }
     },
     "metadata": {},
     "output_type": "display_data"
    },
    {
     "data": {
      "text/plain": [
       "  0%|          | 0/3000 [00:00<?, ?it/s]"
      ],
      "application/vnd.jupyter.widget-view+json": {
       "version_major": 2,
       "version_minor": 0,
       "model_id": "1b0e98fe57ac4d418ec22fb96d6db357"
      }
     },
     "metadata": {},
     "output_type": "display_data"
    },
    {
     "name": "stdout",
     "output_type": "stream",
     "text": [
      "\n",
      "                mean       std    median      5.0%     95.0%     n_eff     r_hat\n",
      "   beta[0]     -1.86      0.40     -1.89     -2.43     -1.22    467.07      1.01\n",
      "   beta[1]     -0.45      0.08     -0.43     -0.58     -0.33    391.33      1.01\n",
      "   beta[2]      1.99      0.26      1.94      1.60      2.38    377.31      1.02\n",
      "  gamma[0]      1.29      1.70      0.71     -0.61      3.75    786.79      1.00\n",
      "  gamma[1]     -2.53      0.06     -2.53     -2.63     -2.42    784.68      1.01\n",
      "  gamma[2]     -1.78      1.12     -1.44     -3.28     -0.54   1018.21      1.00\n",
      "\n",
      "Number of divergences: 8\n",
      "519.4167320728302\n"
     ]
    }
   ],
   "execution_count": 81
  },
  {
   "cell_type": "code",
   "source": [
    "@jit\n",
    "def Astar_pred(key, post_samples, Xd, triu):\n",
    "    # if mean_post:\n",
    "    pred_func = Predictive(model=network_model, posterior_samples=post_samples, infer_discrete=True,num_samples=1)\n",
    "    # else:\n",
    "    #     pred_func = Predictive(model=network_model, posterior_samples=post_samples, infer_discrete=True)\n",
    "    return pred_func(key, X=Xd, TriU=triu)\n",
    "        "
   ],
   "metadata": {
    "collapsed": false,
    "ExecuteTime": {
     "end_time": "2024-07-18T12:35:27.005430Z",
     "start_time": "2024-07-18T12:35:26.990147Z"
    }
   },
   "id": "e4ad7bda20e92e6b",
   "outputs": [],
   "execution_count": 84
  },
  {
   "cell_type": "code",
   "source": [
    "# Outcome model with A* (true network)\n",
    "\n",
    "# start = time.time()\n",
    "kernel_outcome = NUTS(outcome_model)\n",
    "mcmc_network_true = MCMC(kernel_outcome, num_warmup=2000, num_samples=4000,num_chains=4, jit_model_args=True, chain_method=\"vectorized\")\n",
    "                         # chain_method=\"vectorized\")\n",
    "# mcmc_network_true = MCMC(kernel_outcome, num_warmup=2000, num_samples=4000,num_chains=4)\n",
    "# mcmc_network_true = MCMC(kernel_outcome, num_warmup=100, num_samples=10,num_chains=1)\n",
    "# mcmc_network_true.run(rng_key_,Y=Y,Z=Z,A=obs_mat,n=n)\n",
    "# mcmc_network_true.run(rng_key_,Y=Y,Z=Z,X=x,A=mat,n=n)\n",
    "mcmc_network_true.run(rng_key_,X=df_array,Y=Y)\n",
    "mcmc_network_true.print_summary()\n",
    "samples_net_true = mcmc_network_true.get_samples()\n",
    "true_net_lin_predictive = Predictive(outcome_model, samples_net_true)\n",
    "\n",
    "# print(time.time() - start)"
   ],
   "metadata": {
    "collapsed": false
   },
   "id": "2d513060616ffd48",
   "outputs": [],
   "execution_count": null
  },
  {
   "cell_type": "code",
   "source": [
    "start = time.time()\n",
    "mcmc_network_true.run(rng_key,X=df_array,Y=Y)\n",
    "true_samps = mcmc_network_true.get_samples()\n",
    "# mcmc_network_true.print_summary()\n",
    "print(time.time()-start)"
   ],
   "metadata": {
    "collapsed": false
   },
   "id": "465d099c8a034c48",
   "outputs": [],
   "execution_count": null
  },
  {
   "cell_type": "code",
   "source": [
    "rng_key = random.PRNGKey(0)\n",
    "rng_key, rng_key_ = random.split(rng_key)\n",
    "\n",
    "\n",
    "@jit\n",
    "def linear_model_samples(key, Y, df):\n",
    "    kernel_outcome = NUTS(outcome_model)\n",
    "    # lin_mcmc = MCMC(kernel_outcome, num_warmup=2000, num_samples=4000,num_chains=4, progress_bar=False)\n",
    "    lin_mcmc = MCMC(kernel_outcome, num_warmup=1000, num_samples=2500,num_chains=4, progress_bar=False, chain_method=\"vectorized\")\n",
    "    # lin_mcmc = MCMC(kernel_outcome, num_warmup=2000, num_samples=4000,num_chains=4, progress_bar=False, chain_method=\"vectorized\")\n",
    "    # mcmc.run(key, Y=Y, Z=Z, X=X, A=A, n=NN)\n",
    "    lin_mcmc.run(key, X=df, Y=Y)\n",
    "    return lin_mcmc.get_samples()\n",
    "\n",
    "@jit\n",
    "def outcome_jit_pred(post_samples, df_arr, key=rng_key):\n",
    "    pred_func = Predictive(outcome_model, post_samples)\n",
    "    return pred_func(key, df_arr)\n",
    "\n"
   ],
   "metadata": {
    "collapsed": false,
    "ExecuteTime": {
     "end_time": "2024-07-18T12:35:23.193612Z",
     "start_time": "2024-07-18T12:35:23.166616Z"
    }
   },
   "id": "bfc5cac0da2be48c",
   "outputs": [],
   "execution_count": 83
  },
  {
   "cell_type": "code",
   "source": [
    "start = time.time()\n",
    "samples_net_true = linear_model_samples(rng_key,Y=Y, df=df_array)\n",
    "print(time.time()-start)"
   ],
   "metadata": {
    "collapsed": false,
    "ExecuteTime": {
     "end_time": "2024-07-18T12:36:01.826132Z",
     "start_time": "2024-07-18T12:35:38.980982Z"
    }
   },
   "id": "e419773379c49748",
   "outputs": [
    {
     "name": "stdout",
     "output_type": "stream",
     "text": [
      "22.831335306167603\n"
     ]
    }
   ],
   "execution_count": 85
  },
  {
   "cell_type": "code",
   "source": [
    "# Outcome model with A (observed network)\n",
    "\n",
    "# start = time.time()\n",
    "kernel_outcome = NUTS(outcome_model)\n",
    "mcmc_network_obs = MCMC(kernel_outcome, num_warmup=2000, num_samples=4000,num_chains=4)\n",
    "# mcmc_network_obs.run(rng_key_,Y=Y,Z=Z,X=x,A=obs_mat,n=n)\n",
    "mcmc_network_obs.run(rng_key_, X=obs_df, Y=Y)\n",
    "# mcmc_network_obs.run(rng_key_,Y=Y,Z=Z,A=mat,n=n)\n",
    "mcmc_network_obs.print_summary()\n",
    "samples_net_obs = mcmc_network_obs.get_samples()\n",
    "obs_net_lin_predictive = Predictive(outcome_model, samples_net_obs)\n",
    "\n",
    "# print(time.time() - start)"
   ],
   "metadata": {
    "collapsed": false
   },
   "id": "f7027822d4d0e646",
   "outputs": [],
   "execution_count": null
  },
  {
   "cell_type": "code",
   "source": [
    "samples_net_obs = linear_model_samples(rng_key_,Y=Y, df=jnp.array(obs_df))"
   ],
   "metadata": {
    "collapsed": false,
    "ExecuteTime": {
     "end_time": "2024-07-18T12:36:03.384044Z",
     "start_time": "2024-07-18T12:36:01.828136Z"
    }
   },
   "id": "19cafff8d3b65e29",
   "outputs": [],
   "execution_count": 86
  },
  {
   "cell_type": "code",
   "source": [
    "plt.figure(figsize=(3,2))\n",
    "plt.hist(samples_net_true[\"alpha\"][:,4])\n",
    "plt.axvline(x=alpha[4], color=\"red\")"
   ],
   "metadata": {
    "collapsed": false,
    "ExecuteTime": {
     "end_time": "2024-07-18T12:36:10.109769Z",
     "start_time": "2024-07-18T12:36:09.406753Z"
    }
   },
   "id": "6073a50a018be492",
   "outputs": [
    {
     "data": {
      "text/plain": [
       "<matplotlib.lines.Line2D at 0x17f26d43010>"
      ]
     },
     "execution_count": 88,
     "metadata": {},
     "output_type": "execute_result"
    },
    {
     "data": {
      "text/plain": [
       "<Figure size 300x200 with 1 Axes>"
      ],
      "image/png": "[encoded data removed]"
     },
     "metadata": {
      "image/png": {
       "width": 311,
       "height": 211
      }
     },
     "output_type": "display_data"
    }
   ],
   "execution_count": 88
  },
  {
   "cell_type": "code",
   "source": [
    "# print([f\"beta_{i} = {bet}\" for i,bet in enumerate(beta)], \"gamma0:\", gamma0, \"gamma1:\", gamma1)\n",
    "# print([f\"alpha_{i} = {al}\" for i,al in enumerate(alpha)],\"sig:\", 1)"
   ],
   "metadata": {
    "collapsed": false
   },
   "id": "91c7915d0d6264c9",
   "outputs": [],
   "execution_count": null
  },
  {
   "cell_type": "code",
   "source": [
    "# start = time.time()\n",
    "kernel_gp_outcome = NUTS(HSGP_model)\n",
    "mcmc_GP_network_true = MCMC(kernel_gp_outcome, num_warmup=2000, num_samples=4000,num_chains=4)\n",
    "# mcmc_network_true = MCMC(kernel_outcome, num_warmup=100, num_samples=10,num_chains=1)\n",
    "# mcmc_network_true.run(rng_key_,Y=Y,Z=Z,A=obs_mat,n=n)\n",
    "# mcmc_network_true.run(rng_key_,Y=Y,Z=Z,X=x,A=mat,n=n)\n",
    "mcmc_GP_network_true.run(rng_key_,Xgp=Xgp, Xlin=Xlin, ell=ell ,m=m, Y=Y)\n",
    "# mcmc_GP_network_true.run(rng_key_,Xgp=Zeigen, Xlin=Xlin, Y=Y, ell=ell ,m=m)\n",
    "mcmc_GP_network_true.print_summary()\n",
    "samples_GP_net_true = mcmc_GP_network_true.get_samples()\n",
    "# print(time.time() - start)\n",
    "HSGP_true_predictive = Predictive(HSGP_model, samples_GP_net_true)\n"
   ],
   "metadata": {
    "collapsed": false
   },
   "id": "4f52680a9a3f4638",
   "outputs": [],
   "execution_count": null
  },
  {
   "cell_type": "code",
   "source": [
    "M = m\n",
    "num_warmup=1000\n",
    "# num_warmup=2000\n",
    "# num_warmup=250\n",
    "# num_samples=25\n",
    "num_samples=2500\n",
    "# num_samples=4000\n",
    "num_chains=4\n",
    "\n",
    "@jit    \n",
    "def HSGP_model_samples(key, Y, Xgp, Xlin, ell):\n",
    "    kernel_hsgp = NUTS(HSGP_model)\n",
    "    hsgp_mcmc = MCMC(kernel_hsgp, num_warmup=num_warmup, num_samples=num_samples,num_chains=num_chains, progress_bar=False, chain_method=\"vectorized\")\n",
    "    # mcmc.run(key, Y=Y, Z=Z, X=X, A=A, n=NN)\n",
    "    hsgp_mcmc.run(key, Xgp=Xgp, Xlin=Xlin, ell=ell ,m=M, Y=Y)\n",
    "    # hsgp_mcmc.print_summary()\n",
    "    # samples = hsgp_mcmc.get_samples()\n",
    "    # hsgp_pred = Predictive(HSGP_model, hsgp_mcmc.get_samples())\n",
    "    # return hsgp_pred\n",
    "    return hsgp_mcmc.get_samples()\n",
    "\n",
    "@jit\n",
    "def HSGP_jit_pred(post_samples, Xgp, Xlin, ell):\n",
    "    pred_func = Predictive(HSGP_model, post_samples)\n",
    "    return pred_func(rng_key, Xgp=Xgp, Xlin = Xlin, ell=ell, m=M)\n",
    "\n",
    "\n"
   ],
   "metadata": {
    "collapsed": false,
    "ExecuteTime": {
     "end_time": "2024-07-18T12:36:14.540303Z",
     "start_time": "2024-07-18T12:36:14.508787Z"
    }
   },
   "id": "c5df2ae46cd8f600",
   "outputs": [],
   "execution_count": 89
  },
  {
   "cell_type": "code",
   "source": [
    "\n",
    "samples_GP_net_true = HSGP_model_samples(rng_key_,Y=Y, Xgp=Xgp, Xlin=Xlin, ell=ell)\n",
    "# HSGP_true_predictive = Predictive(HSGP_model, samples_GP_net_true)\n"
   ],
   "metadata": {
    "collapsed": false,
    "ExecuteTime": {
     "end_time": "2024-07-18T12:37:14.546824Z",
     "start_time": "2024-07-18T12:36:16.668805Z"
    }
   },
   "id": "738dc3d783679108",
   "outputs": [],
   "execution_count": 90
  },
  {
   "cell_type": "code",
   "source": [
    "# HSGP with noisy data\n",
    "Xlin_obs = jnp.array(obs_df[:,0:4])\n",
    "Xgp_obs = jnp.array(obs_df[:,4:])\n",
    "ell_obs = jnp.array(c*jnp.max(jnp.abs(Xgp_obs))).reshape(1,1)\n",
    "\n"
   ],
   "metadata": {
    "collapsed": false,
    "ExecuteTime": {
     "end_time": "2024-07-18T12:37:14.696424Z",
     "start_time": "2024-07-18T12:37:14.548832Z"
    }
   },
   "id": "6f9af3adb7ce2d55",
   "outputs": [],
   "execution_count": 91
  },
  {
   "cell_type": "code",
   "source": [
    "\n",
    "kernel_gp_outcome = NUTS(HSGP_model)\n",
    "mcmc_GP_network_obs = MCMC(kernel_gp_outcome, num_warmup=2000, num_samples=4000,num_chains=4)\n",
    "mcmc_GP_network_obs.run(rng_key_,Xgp=Xgp_obs, Xlin=Xlin_obs, ell=ell ,m=m, Y=Y)\n",
    "# mcmc_GP_network_true.run(rng_key_,Xgp=Zeigen, Xlin=Xlin, Y=Y, ell=ell ,m=m)\n",
    "mcmc_GP_network_obs.print_summary()\n",
    "mcmc_GP_network_obs = mcmc_GP_network_obs.get_samples()\n",
    "# print(time.time() - start)\n",
    "HSGP_obs_predictive = Predictive(HSGP_model, mcmc_GP_network_obs)\n",
    "\n"
   ],
   "metadata": {
    "collapsed": false
   },
   "id": "42d7d20f57414e91",
   "outputs": [],
   "execution_count": null
  },
  {
   "cell_type": "code",
   "source": [
    "\n",
    "samples_GP_net_obs = HSGP_model_samples(rng_key_,Y=Y, Xgp=Xgp_obs, Xlin=Xlin_obs, ell=ell_obs)\n",
    "# mcmc_GP_network_obs = HSGP_model_samples(rng_key_,Y=Y, Xgp=jnp.array(Xgp_obs), Xlin=jnp.array(Xlin_obs), ell=jnp.array(ell_obs).reshape(1,1))\n",
    "# HSGP_obs_predictive = Predictive(HSGP_model, samples_GP_net_obs)\n",
    "\n"
   ],
   "metadata": {
    "collapsed": false,
    "ExecuteTime": {
     "end_time": "2024-07-18T12:37:25.777417Z",
     "start_time": "2024-07-18T12:37:14.696424Z"
    }
   },
   "id": "6cf1bad4900b7606",
   "outputs": [],
   "execution_count": 92
  },
  {
   "cell_type": "code",
   "source": [
    "# h_x = ((x > 1.5) | (x < -1.5)).astype(int)\n",
    "# h_x2 = ((x > 2) | (x < 2)).astype(int)\n",
    "\n",
    "def Dynamic_intervention(x, threshold = 1.5):\n",
    "    return np.where((x > threshold) | (x < -threshold), 1, 0)\n",
    "    # return ((x > threshold) | (x < threshold)).astype(int)\n",
    "\n",
    "def Stochastic_interention(alph, n_approx = 1e4):\n",
    "    return rng.binomial(n=1, p=alph, size=(n_approx,n))\n",
    "# \n",
    "# # h_x = np.array([1]*n)\n",
    "# h_x = rng.binomial(n=1,p=0.6,size=n)\n",
    "# h_x2 = rng.binomial(n=1,p=0.2,size=n)\n",
    "\n",
    "h_1 = Dynamic_intervention(x)\n",
    "h_2 = Dynamic_intervention(x, threshold=2)\n",
    "Z_stoch = Stochastic_interention(alph=0.7, n_approx=100)\n",
    "Z_stoch2 = Stochastic_interention(alph=0.3, n_approx=100)\n",
    "Z_all = np.array([1]*n)\n",
    "Z_none = np.array([0]*n)\n",
    "\n",
    "h_zeigen = zeigen_value(h_1, eigen_center, mat)\n",
    "h2_zeigen = zeigen_value(h_2, eigen_center, mat)\n",
    "h_zeigen_obs = zeigen_value(h_1, obs_eigen_cent, obs_mat)\n",
    "\n",
    "Stoch_zeigen = zeigen_value(Z_stoch, eigen_center, mat)\n",
    "Stoch_zeigen2 = zeigen_value(Z_stoch2, eigen_center, mat)\n",
    "\n",
    "all_zeigen = zeigen_value(Z_all, eigen_center, mat)\n",
    "none_zeigen = zeigen_value(Z_none, eigen_center, mat)\n",
    "\n",
    "print(h_1.shape)\n",
    "print(h_zeigen.shape)\n",
    "print(Z_stoch.shape)\n",
    "print(Z_stoch[0,].shape)\n",
    "print(Z_stoch[0].shape)\n",
    "print(Stoch_zeigen.shape)\n",
    "# print(np.mean(Stoch_zeigen,axis=1))"
   ],
   "metadata": {
    "collapsed": false,
    "ExecuteTime": {
     "end_time": "2024-07-18T12:37:25.826478Z",
     "start_time": "2024-07-18T12:37:25.777417Z"
    }
   },
   "id": "6778b1facc18b955",
   "outputs": [
    {
     "name": "stdout",
     "output_type": "stream",
     "text": [
      "(300,)\n",
      "(300,)\n",
      "(100, 300)\n",
      "(300,)\n",
      "(300,)\n",
      "(100, 300)\n"
     ]
    }
   ],
   "execution_count": 93
  },
  {
   "cell_type": "code",
   "source": [
    "X_h_true = jnp.transpose(jnp.array([[1]*n, h_1, x, x2, h_zeigen]))\n",
    "X_h_obs = jnp.transpose(jnp.array([[1]*n, h_1, x, x2, h_zeigen_obs]))\n",
    "\n",
    "ell_h = jnp.array(c*jnp.max(jnp.abs(h_zeigen))).reshape(1,1)\n",
    "ell_h_obs = jnp.array(c*jnp.max(jnp.abs(h_zeigen_obs))).reshape(1,1)\n",
    "\n",
    "# Y_test,epsi_test = gen_y(X_h_true[:,0:3], h_zeigen, alpha, lin=False)\n",
    "# Y_test,epsi_test = gen_y(X_h_true[:,0:3], h_zeigen, alpha, lin=True)\n",
    "Y_test, epsi_test = gen_y(X_h_true[:,0:4], h_zeigen, alpha, lin=True)\n",
    "# Y_test2,_ = gen_y(X_test_true2[:,0:3], true_h_x_eigen2,alpha,lin=False)\n",
    "\n",
    "mu_test = Y_test - epsi_test\n",
    "true_estimand = np.mean(mu_test)\n",
    "print(true_estimand)\n",
    "# true_ce = Y_test - Y_test2\n",
    "\n",
    "plt.figure(figsize=(3,2))\n",
    "plt.scatter(h_zeigen,mu_test, c=h_1)\n",
    "# plt.scatter(mean_y,mu_test, c =h_x)"
   ],
   "metadata": {
    "collapsed": false,
    "ExecuteTime": {
     "end_time": "2024-07-18T12:37:26.215714Z",
     "start_time": "2024-07-18T12:37:25.826478Z"
    }
   },
   "id": "f95bf009fb5931d1",
   "outputs": [
    {
     "name": "stdout",
     "output_type": "stream",
     "text": [
      "2.3005897496349643\n"
     ]
    },
    {
     "data": {
      "text/plain": [
       "<matplotlib.collections.PathCollection at 0x17f2b04e1d0>"
      ]
     },
     "execution_count": 94,
     "metadata": {},
     "output_type": "execute_result"
    },
    {
     "data": {
      "text/plain": [
       "<Figure size 300x200 with 1 Axes>"
      ],
      "image/png": "[encoded data removed]"
     },
     "metadata": {
      "image/png": {
       "width": 311,
       "height": 211
      }
     },
     "output_type": "display_data"
    }
   ],
   "execution_count": 94
  },
  {
   "cell_type": "code",
   "source": [
    "# @jit\n",
    "def get_true_estimand(z_new, zeigen_new , x,x2, alpha, lin=True):\n",
    "    n = x.shape[0]\n",
    "    if z_new.ndim == 2:\n",
    "        n_stoch = z_new.shape[0]\n",
    "        results = np.zeros((n_stoch,1))\n",
    "        for i in range(n_stoch):\n",
    "            df = np.transpose(jnp.array([[1]*n, z_new[i,], x, x2]))\n",
    "            y, epsi = gen_y(df, zeigen_new[i,], alpha, lin=lin)\n",
    "            results[i,] = np.mean(y-epsi)\n",
    "        return np.mean(results, axis=0).squeeze()\n",
    "    else:\n",
    "        # assert Z_stoch.ndim == 1\n",
    "        df = np.transpose(jnp.array([[1]*n, z_new, x, x2]))\n",
    "        y, epsi = gen_y(df, zeigen_new, alpha, lin=lin)\n",
    "        return np.mean(y-epsi)\n",
    "    \n",
    "stoch_estimand = get_true_estimand(Z_stoch, Stoch_zeigen, x,x2, alpha, True)\n",
    "print(stoch_estimand)"
   ],
   "metadata": {
    "collapsed": false,
    "ExecuteTime": {
     "end_time": "2024-07-18T12:37:26.519054Z",
     "start_time": "2024-07-18T12:37:26.215714Z"
    }
   },
   "id": "1e080ab51c9c2fd4",
   "outputs": [
    {
     "name": "stdout",
     "output_type": "stream",
     "text": [
      "3.1944156039729097\n"
     ]
    }
   ],
   "execution_count": 95
  },
  {
   "cell_type": "code",
   "source": [
    "hestimand = get_true_estimand(h_1, h_zeigen, x, x2, alpha, True)\n",
    "print(hestimand)"
   ],
   "metadata": {
    "collapsed": false,
    "ExecuteTime": {
     "end_time": "2024-07-18T12:37:26.527863Z",
     "start_time": "2024-07-18T12:37:26.519054Z"
    }
   },
   "id": "32a320ee0af2433a",
   "outputs": [
    {
     "name": "stdout",
     "output_type": "stream",
     "text": [
      "2.3005897496349643\n"
     ]
    }
   ],
   "execution_count": 96
  },
  {
   "metadata": {
    "ExecuteTime": {
     "end_time": "2024-07-18T12:37:26.543393Z",
     "start_time": "2024-07-18T12:37:26.528868Z"
    }
   },
   "cell_type": "code",
   "source": [
    "all_esti = get_true_estimand(Z_all, all_zeigen, x,x2,  alpha, True)\n",
    "none_esti = get_true_estimand(Z_none, none_zeigen, x,x2,  alpha, True)\n",
    "gte = all_esti - none_esti\n",
    "print(all_esti, none_esti, gte)\n"
   ],
   "id": "ea5e50faec1856d6",
   "outputs": [
    {
     "name": "stdout",
     "output_type": "stream",
     "text": [
      "4.8788177585543595 -0.6915741175098811 5.570391876064241\n"
     ]
    }
   ],
   "execution_count": 97
  },
  {
   "metadata": {
    "ExecuteTime": {
     "end_time": "2024-07-18T12:37:26.554689Z",
     "start_time": "2024-07-18T12:37:26.543393Z"
    }
   },
   "cell_type": "code",
   "source": [
    "h1_esti = get_true_estimand(h_1, h_zeigen, x,x2,  alpha, True)\n",
    "h2_esti = get_true_estimand(h_2, h2_zeigen, x, x2, alpha, True)\n",
    "hte = h1_esti - h2_esti\n",
    "print(h1_esti, h2_esti, hte)"
   ],
   "id": "83dfa64231743943",
   "outputs": [
    {
     "name": "stdout",
     "output_type": "stream",
     "text": [
      "2.3005897496349643 1.6327491313455782 0.6678406182893861\n"
     ]
    }
   ],
   "execution_count": 98
  },
  {
   "metadata": {
    "ExecuteTime": {
     "end_time": "2024-07-18T12:37:27.021704Z",
     "start_time": "2024-07-18T12:37:26.554689Z"
    }
   },
   "cell_type": "code",
   "source": [
    "stoch_esti = get_true_estimand(Z_stoch, Stoch_zeigen, x,x2,  alpha, True)\n",
    "stoch_esti2 = get_true_estimand(Z_stoch2, Stoch_zeigen2, x,x2,  alpha, True)\n",
    "te_stoch = stoch_esti - stoch_esti2\n",
    "print(stoch_esti, stoch_esti2, te_stoch)"
   ],
   "id": "150b27b9167f1d48",
   "outputs": [
    {
     "name": "stdout",
     "output_type": "stream",
     "text": [
      "3.1944156039729097 0.9869833813052352 2.2074322226676744\n"
     ]
    }
   ],
   "execution_count": 99
  },
  {
   "cell_type": "code",
   "source": [
    "def compute_error_stats(esti_post_draws, true_estimand, method=\"TEST\", idx=None):\n",
    "    mean = np.round(np.mean(esti_post_draws),3) \n",
    "    medi = np.round(np.median(esti_post_draws),3) \n",
    "    std = np.round(np.std(esti_post_draws),3)\n",
    "    RMSE = np.round(np.sqrt(np.mean(np.power(esti_post_draws - true_estimand, 2))),3)\n",
    "    q025 = np.quantile(esti_post_draws, 0.025)\n",
    "    q975 = np.quantile(esti_post_draws, 0.975)\n",
    "    cover = q025 <= true_estimand <= q975\n",
    "    return pd.DataFrame([{\"idx\" : idx, \"method\" : method,\n",
    "            \"mean\" : mean, \"median\" : medi, \"true\" : np.round(true_estimand,3), \n",
    "            \"bias\" : np.round(mean - true_estimand,3), \"std\" : std, \"RMSE\" : RMSE,\n",
    "            \"q025\" : np.round(q025,3), \"q975\" : np.round(q975,3), \"covering\" : cover}])\n"
   ],
   "metadata": {
    "collapsed": false,
    "ExecuteTime": {
     "end_time": "2024-07-18T12:37:27.031355Z",
     "start_time": "2024-07-18T12:37:27.022212Z"
    }
   },
   "id": "7910df5f081f0d15",
   "outputs": [],
   "execution_count": 100
  },
  {
   "cell_type": "code",
   "source": [
    "print(Z_stoch.ndim, h_1.ndim, h_1.shape[0], h_1.reshape((1, h_1.shape[0])).shape)"
   ],
   "metadata": {
    "collapsed": false,
    "ExecuteTime": {
     "end_time": "2024-07-18T12:37:27.047113Z",
     "start_time": "2024-07-18T12:37:27.033512Z"
    }
   },
   "id": "3e6a930d6f6b6119",
   "outputs": [
    {
     "name": "stdout",
     "output_type": "stream",
     "text": [
      "2 1 300 (1, 300)\n"
     ]
    }
   ],
   "execution_count": 101
  },
  {
   "cell_type": "code",
   "source": [
    "@jit\n",
    "def linear_model_outcome_pred(z, zeigen, post_samples, x, x2):\n",
    "    df = jnp.transpose(jnp.array([[1]*x.shape[0], z, x, x2, zeigen]))\n",
    "    pred = outcome_jit_pred(post_samples, df)\n",
    "    return jnp.mean(pred[\"Y\"], axis=1)\n",
    "\n",
    "linear_model_pred = jax.vmap(linear_model_outcome_pred, in_axes= (0, 0, None, None, None))\n",
    "\n",
    "def linear_pred(z, zeigen, post_samples, x,x2):\n",
    "    if z.ndim == 2:\n",
    "        return linear_model_pred(z, zeigen, post_samples, x, x2)\n",
    "    if z.ndim == 1:\n",
    "        n_z = z.shape[0]\n",
    "        return linear_model_pred(z.reshape((1,n_z)), zeigen.reshape((1,n_z)), post_samples, x,x2)\n",
    "        \n",
    "@jit\n",
    "def hsgp_model_outcome_pred(z, zeigen, post_samples, x, x2, ell):\n",
    "    # ell_ = jnp.array(c*jnp.max(jnp.abs(zeigen))).reshape(1,1)\n",
    "    df = jnp.transpose(jnp.array([[1]*x.shape[0], z, x, x2, zeigen]))\n",
    "    pred = HSGP_jit_pred(post_samples, Xgp=df[:,4:], Xlin = df[:,0:4], ell=ell)\n",
    "    return jnp.mean(pred[\"Y\"], axis=1)\n",
    "\n",
    "hsgp_model_pred = jax.vmap(hsgp_model_outcome_pred, in_axes= (0, 0, None, None, None, None))\n",
    "\n",
    "def hsgp_pred(z, zeigen, post_samples, x, x2, ell):\n",
    "    if z.ndim == 2:\n",
    "        return hsgp_model_pred(z, zeigen, post_samples, x,x2,  ell)\n",
    "    if z.ndim == 1:\n",
    "        n_z = z.shape[0]\n",
    "        return hsgp_model_pred(z.reshape((1,n_z)), zeigen.reshape((1,n_z)), post_samples, x,x2,  ell)\n",
    "        "
   ],
   "metadata": {
    "collapsed": false,
    "ExecuteTime": {
     "end_time": "2024-07-18T12:37:27.062270Z",
     "start_time": "2024-07-18T12:37:27.047113Z"
    }
   },
   "id": "3b3ed08374c89af5",
   "outputs": [],
   "execution_count": 102
  },
  {
   "metadata": {
    "ExecuteTime": {
     "end_time": "2024-07-18T12:37:28.114388Z",
     "start_time": "2024-07-18T12:37:27.062270Z"
    }
   },
   "cell_type": "code",
   "source": [
    "# GTE\n",
    "lin_all_pred = linear_pred(Z_all, all_zeigen, samples_net_true, x, x2)\n",
    "lin_none_pred = linear_pred(Z_none, none_zeigen, samples_net_true, x, x2)\n",
    "# lin_gte_pred = jnp.mean(lin_all_pred,axis=0) - jnp.mean(lin_none_pred, axis=0)\n",
    "lin_gte_pred = jnp.mean(lin_all_pred - lin_none_pred,axis=0) \n",
    "print(compute_error_stats(lin_gte_pred, gte))"
   ],
   "id": "564a37ab35c465fc",
   "outputs": [
    {
     "name": "stdout",
     "output_type": "stream",
     "text": [
      "    idx method       mean  median  true         bias         std   RMSE  \\\n",
      "0  None   TEST  5.3100004   5.312  5.57  -0.26000002  0.26000002  0.368   \n",
      "\n",
      "    q025   q975  covering  \n",
      "0  4.787  5.814      True  \n"
     ]
    }
   ],
   "execution_count": 103
  },
  {
   "metadata": {
    "ExecuteTime": {
     "end_time": "2024-07-18T12:37:29.065572Z",
     "start_time": "2024-07-18T12:37:28.115897Z"
    }
   },
   "cell_type": "code",
   "source": [
    "# GTE HSGP\n",
    "hsgp_all_pred = hsgp_pred(Z_all, all_zeigen, samples_GP_net_true, x, x2, ell)   \n",
    "hsgp_none_pred = hsgp_pred(Z_none, none_zeigen, samples_GP_net_true, x,x2,  ell)\n",
    "# hsgp_gte_pred = jnp.mean(hsgp_all_pred,axis=0) - jnp.mean(hsgp_none_pred, axis=0)\n",
    "hsgp_gte_pred = jnp.mean(hsgp_all_pred - hsgp_none_pred,axis=0)\n",
    "print(compute_error_stats(hsgp_gte_pred, gte))"
   ],
   "id": "f533498cc968931c",
   "outputs": [
    {
     "name": "stdout",
     "output_type": "stream",
     "text": [
      "    idx method   mean  median  true    bias         std   RMSE   q025   q975  \\\n",
      "0  None   TEST  4.959   4.958  5.57  -0.611  0.28100002  0.673  4.407  5.512   \n",
      "\n",
      "   covering  \n",
      "0     False  \n"
     ]
    }
   ],
   "execution_count": 104
  },
  {
   "metadata": {
    "ExecuteTime": {
     "end_time": "2024-07-18T12:37:29.232430Z",
     "start_time": "2024-07-18T12:37:29.065572Z"
    }
   },
   "cell_type": "code",
   "source": [
    "# HTE\n",
    "lin_h1_pred = linear_pred(h_1, h_zeigen, samples_net_true, x,x2)\n",
    "lin_h2_pred = linear_pred(h_2, h2_zeigen, samples_net_true, x, x2)\n",
    "lin_hte_pred = jnp.mean(lin_h1_pred,axis=0) - jnp.mean(lin_h2_pred, axis=0)\n",
    "print(compute_error_stats(lin_hte_pred, hte))"
   ],
   "id": "a474233035dd5f5d",
   "outputs": [
    {
     "name": "stdout",
     "output_type": "stream",
     "text": [
      "    idx method   mean  median   true          bias          std   RMSE   q025  \\\n",
      "0  None   TEST  0.637   0.637  0.668  -0.031000001  0.031000001  0.044  0.574   \n",
      "\n",
      "    q975  covering  \n",
      "0  0.697      True  \n"
     ]
    }
   ],
   "execution_count": 105
  },
  {
   "metadata": {
    "ExecuteTime": {
     "end_time": "2024-07-18T12:37:29.393359Z",
     "start_time": "2024-07-18T12:37:29.233938Z"
    }
   },
   "cell_type": "code",
   "source": [
    "# HTE HSGP\n",
    "hsgp_h1_pred = hsgp_pred(h_1, h_zeigen, samples_GP_net_true, x, x2, ell)\n",
    "hsgp_h2_pred = hsgp_pred(h_2, h2_zeigen, samples_GP_net_true, x,x2,  ell)\n",
    "hsgp_hte_pred = jnp.mean(hsgp_h1_pred,axis=0) - jnp.mean(hsgp_h2_pred, axis=0)\n",
    "print(compute_error_stats(hsgp_hte_pred, hte))\n"
   ],
   "id": "3261de6b8feda334",
   "outputs": [
    {
     "name": "stdout",
     "output_type": "stream",
     "text": [
      "    idx method   mean  median   true          bias    std   RMSE   q025  \\\n",
      "0  None   TEST  0.637   0.637  0.668  -0.031000001  0.033  0.045  0.573   \n",
      "\n",
      "    q975  covering  \n",
      "0  0.702      True  \n"
     ]
    }
   ],
   "execution_count": 106
  },
  {
   "metadata": {
    "ExecuteTime": {
     "end_time": "2024-07-18T12:37:29.547148Z",
     "start_time": "2024-07-18T12:37:29.393359Z"
    }
   },
   "cell_type": "code",
   "source": [
    "# HTE Obs\n",
    "lin_h1_pred_obs = linear_pred(h_1, h_zeigen, samples_net_obs, x, x2)\n",
    "lin_h2_pred_obs = linear_pred(h_2, h2_zeigen, samples_net_obs, x, x2)\n",
    "lin_hte_pred_obs = jnp.mean(lin_h1_pred_obs,axis=0) - jnp.mean(lin_h2_pred_obs, axis=0)\n",
    "print(compute_error_stats(lin_hte_pred_obs, hte))\n"
   ],
   "id": "330e52b210fec074",
   "outputs": [
    {
     "name": "stdout",
     "output_type": "stream",
     "text": [
      "    idx method        mean  median   true         bias          std   RMSE  \\\n",
      "0  None   TEST  0.51500005   0.515  0.668  -0.15300001  0.038000003  0.158   \n",
      "\n",
      "   q025   q975  covering  \n",
      "0  0.44  0.588     False  \n"
     ]
    }
   ],
   "execution_count": 107
  },
  {
   "metadata": {
    "ExecuteTime": {
     "end_time": "2024-07-18T12:37:34.993037Z",
     "start_time": "2024-07-18T12:37:29.547148Z"
    }
   },
   "cell_type": "code",
   "source": [
    "# Stochastic TE\n",
    "lin_stoch_pred = linear_pred(Z_stoch, Stoch_zeigen, samples_net_true, x, x2)\n",
    "lin_stoch_pred2 = linear_pred(Z_stoch2, Stoch_zeigen2, samples_net_true, x, x2)\n",
    "lin_te_stoch_pred = jnp.mean(lin_stoch_pred,axis=0) - jnp.mean(lin_stoch_pred2, axis=0)\n",
    "print(compute_error_stats(lin_te_stoch_pred, te_stoch))"
   ],
   "id": "e5b26eb768397dbd",
   "outputs": [
    {
     "name": "stdout",
     "output_type": "stream",
     "text": [
      "    idx method   mean  median   true         bias         std   RMSE   q025  \\\n",
      "0  None   TEST  2.104   2.105  2.207  -0.10300001  0.10300001  0.146  1.896   \n",
      "\n",
      "    q975  covering  \n",
      "0  2.304      True  \n"
     ]
    }
   ],
   "execution_count": 108
  },
  {
   "metadata": {
    "ExecuteTime": {
     "end_time": "2024-07-18T12:37:42.953082Z",
     "start_time": "2024-07-18T12:37:34.993037Z"
    }
   },
   "cell_type": "code",
   "source": [
    "# Stochastic TE HSGP\n",
    "hsgp_stoch_pred = hsgp_pred(Z_stoch, Stoch_zeigen, samples_GP_net_true, x,x2,  ell)\n",
    "hsgp_stoch_pred2 = hsgp_pred(Z_stoch2, Stoch_zeigen2, samples_GP_net_true, x,x2,  ell)\n",
    "hsgp_te_stoch_pred = jnp.mean(hsgp_stoch_pred,axis=0) - jnp.mean(hsgp_stoch_pred2, axis=0)\n",
    "print(compute_error_stats(hsgp_te_stoch_pred, te_stoch))\n"
   ],
   "id": "bf2e6299cc5f3a09",
   "outputs": [
    {
     "name": "stdout",
     "output_type": "stream",
     "text": [
      "    idx method   mean  median   true    bias         std   RMSE   q025   q975  \\\n",
      "0  None   TEST  2.042   2.041  2.207  -0.165  0.10300001  0.195  1.842  2.243   \n",
      "\n",
      "   covering  \n",
      "0      True  \n"
     ]
    }
   ],
   "execution_count": 109
  },
  {
   "metadata": {
    "ExecuteTime": {
     "end_time": "2024-07-18T12:37:47.025835Z",
     "start_time": "2024-07-18T12:37:42.953082Z"
    }
   },
   "cell_type": "code",
   "source": [
    "# Stochastic TE obs\n",
    "lin_stoch_pred_obs = linear_pred(Z_stoch, Stoch_zeigen, samples_net_obs, x,x2)\n",
    "lin_stoch_pred2_obs = linear_pred(Z_stoch2, Stoch_zeigen2, samples_net_obs, x, x2)\n",
    "lin_te_stoch_pred_obs = jnp.mean(lin_stoch_pred_obs,axis=0) - jnp.mean(lin_stoch_pred2_obs, axis=0)\n",
    "print(compute_error_stats(lin_te_stoch_pred_obs, te_stoch))"
   ],
   "id": "79a130367c673c74",
   "outputs": [
    {
     "name": "stdout",
     "output_type": "stream",
     "text": [
      "    idx method mean  median   true    bias    std   RMSE   q025   q975  \\\n",
      "0  None   TEST  1.7     1.7  2.207  -0.507  0.125  0.523  1.453  1.944   \n",
      "\n",
      "   covering  \n",
      "0     False  \n"
     ]
    }
   ],
   "execution_count": 110
  },
  {
   "metadata": {
    "ExecuteTime": {
     "end_time": "2024-07-18T12:37:54.513322Z",
     "start_time": "2024-07-18T12:37:47.025835Z"
    }
   },
   "cell_type": "code",
   "source": [
    "# Stochastic TE HSGP obs\n",
    "hsgp_stoch_pred_obs = hsgp_pred(Z_stoch, Stoch_zeigen, samples_GP_net_obs, x, x2, ell_obs)\n",
    "hsgp_stoch_pred2_obs = hsgp_pred(Z_stoch2, Stoch_zeigen2, samples_GP_net_obs, x, x2, ell_obs)\n",
    "hsgp_te_stoch_pred_obs = jnp.mean(hsgp_stoch_pred_obs,axis=0) - jnp.mean(hsgp_stoch_pred2_obs, axis=0)\n",
    "print(compute_error_stats(hsgp_te_stoch_pred_obs, te_stoch))"
   ],
   "id": "d63b2bd6dbdc6f1e",
   "outputs": [
    {
     "name": "stdout",
     "output_type": "stream",
     "text": [
      "    idx method       mean  median   true         bias         std   RMSE  \\\n",
      "0  None   TEST  1.5350001   1.559  2.207  -0.67200005  0.21900001  0.707   \n",
      "\n",
      "    q025   q975  covering  \n",
      "0  1.033  1.908     False  \n"
     ]
    }
   ],
   "execution_count": 111
  },
  {
   "cell_type": "code",
   "source": [
    "lin_zstoch_pred = linear_pred(Z_stoch, Stoch_zeigen, samples_net_true, x)\n",
    "print(lin_zstoch_pred.shape)\n",
    "print(jnp.mean(lin_zstoch_pred, axis=0).shape)"
   ],
   "metadata": {
    "collapsed": false
   },
   "id": "d0c45f9973697fb7",
   "outputs": [],
   "execution_count": null
  },
  {
   "cell_type": "code",
   "source": [
    "print(compute_error_stats(jnp.mean(lin_zstoch_pred, axis=0), stoch_estimand))"
   ],
   "metadata": {
    "collapsed": false
   },
   "id": "ff7971b7ce0a07aa",
   "outputs": [],
   "execution_count": null
  },
  {
   "cell_type": "code",
   "source": [
    "hsgp_zstoch_pred = hsgp_pred(Z_stoch, Stoch_zeigen, samples_GP_net_true, x, ell)\n",
    "print(hsgp_zstoch_pred.shape)\n",
    "print(jnp.mean(hsgp_zstoch_pred, axis=0).shape)"
   ],
   "metadata": {
    "collapsed": false
   },
   "id": "20cc234e7069901f",
   "outputs": [],
   "execution_count": null
  },
  {
   "cell_type": "code",
   "source": [
    "print(compute_error_stats(jnp.mean(hsgp_zstoch_pred, axis=0), stoch_estimand))"
   ],
   "metadata": {
    "collapsed": false
   },
   "id": "731f3376fe72dc46",
   "outputs": [],
   "execution_count": null
  },
  {
   "cell_type": "code",
   "source": [
    "lin_h_1_pred = linear_pred(h_1, h_zeigen, samples_net_true, x)\n",
    "print(lin_h_1_pred.shape)\n",
    "print(jnp.mean(lin_h_1_pred, axis=0).shape)\n",
    "print(compute_error_stats(jnp.mean(lin_h_1_pred, axis=0), hestimand))\n"
   ],
   "metadata": {
    "collapsed": false
   },
   "id": "303d3b82a3aa226a",
   "outputs": [],
   "execution_count": null
  },
  {
   "cell_type": "code",
   "source": [
    "hsgp_h_1_pred = hsgp_pred(h_1, h_zeigen, samples_GP_net_true, x, ell)\n",
    "print(hsgp_zstoch_pred.shape)\n",
    "print(jnp.mean(hsgp_zstoch_pred, axis=0).shape)\n",
    "print(compute_error_stats(jnp.mean(hsgp_h_1_pred, axis=0), hestimand))"
   ],
   "metadata": {
    "collapsed": false
   },
   "id": "ce4d259e0f99e4b1",
   "outputs": [],
   "execution_count": null
  },
  {
   "cell_type": "code",
   "source": [
    "# post_pred_true_net = true_net_lin_predictive(rng_key, X=X_h_true)\n",
    "post_pred_true_net = outcome_jit_pred(samples_net_true, X_h_true)\n",
    "# post_pred_true_net = outcome_jit_pred(samples_net_true, X_h_true)\n",
    "print(post_pred_true_net[\"Y\"].shape)\n",
    "# print(post_pred_true_net[\"mu\"].shape)\n",
    "# post_pred_true_net2 = true_net_lin_predictive(rng_key, X=X_test_true2)\n",
    "# lin_pred_true_net = np.mean(post_pred_true_net[\"mu\"],axis=0)\n",
    "lin_pred_true_net = np.mean(post_pred_true_net[\"Y\"],axis=0)\n",
    "# lin_pred_true_net_it = np.mean(post_pred_true_net[\"mu\"],axis=1)\n",
    "lin_pred_true_net_it = np.mean(post_pred_true_net[\"Y\"],axis=1)\n",
    "print(lin_pred_true_net_it.shape)\n",
    "\n",
    "lin_pred_true_stats = compute_error_stats(lin_pred_true_net_it, hestimand)\n",
    "print(lin_pred_true_stats)\n",
    "\n",
    "plt.figure(figsize=(3,2))\n",
    "plt.scatter(x=lin_pred_true_net,y=mu_test, c=h_1)\n",
    "plt.axline((0,0),slope=1,ls=\"--\",alpha=0.8,lw=1.3)"
   ],
   "metadata": {
    "collapsed": false
   },
   "id": "f1e8b85cdb7c2a3",
   "outputs": [],
   "execution_count": null
  },
  {
   "cell_type": "code",
   "source": [
    "post_pred_obs = outcome_jit_pred(samples_net_obs, X_h_obs)\n",
    "# post_pred_obs = outcome_jit_pred(samples_net_obs, X_h_obs)\n",
    "lin_pred_obs = np.mean(post_pred_obs[\"Y\"],axis=0)\n",
    "lin_pred_obs_it = np.mean(post_pred_obs[\"Y\"],axis=1)\n",
    "print(lin_pred_obs.shape, lin_pred_obs_it.shape)\n",
    "\n",
    "lin_pred_obs_stats = compute_error_stats(np.mean(post_pred_obs[\"Y\"],axis=1), hestimand)\n",
    "print(lin_pred_obs_stats)\n",
    "\n",
    "plt.figure(figsize=(3,2))\n",
    "plt.scatter(x=lin_pred_obs,y=mu_test, c=h_1)\n",
    "plt.axline((0,0),slope=1,ls=\"--\",alpha=0.8,lw=1.3)"
   ],
   "metadata": {
    "collapsed": false
   },
   "id": "289c6f602ba3548d",
   "outputs": [],
   "execution_count": null
  },
  {
   "cell_type": "code",
   "source": [
    "# HSGP_posterior_predictive = HSGP_true_predictive(rng_key, Xgp=X_h_true[:,3:], Xlin = X_h_true[:,0:3],ell=ell, m=M)\n",
    "HSGP_posterior_predictive = HSGP_jit_pred(samples_GP_net_true, Xgp=X_h_true[:,3:], Xlin = X_h_true[:,0:3],ell=ell)\n",
    "# HSGP_posterior_predictive = HSGP_true_predictive(rng_key, Xgp=X_h_true[:,3:], Xlin = X_h_true[:,0:3],ell=ell, m=m)\n",
    "# HSGP_posterior_predictive = HSGP_jit_pred(samples_GP_net_true,Xgp=X_h_true[:,3:], Xlin = X_h_true[:,0:3],ell=ell, m=m)\n",
    "print(HSGP_posterior_predictive[\"Y\"].shape)\n",
    "post_mu = np.mean(HSGP_posterior_predictive[\"Y\"],axis=0)\n",
    "post_mu_iter = np.mean(HSGP_posterior_predictive[\"Y\"],axis=1)\n",
    "\n",
    "hsgp_pred_true_stats = compute_error_stats(post_mu_iter, hestimand)\n",
    "print(hsgp_pred_true_stats)\n",
    "\n",
    "plt.figure(figsize=(3,2))\n",
    "plt.scatter(x=post_mu,y=mu_test, c=h_1)\n",
    "# plt.scatter(x=post_mu2,y=mu_test2, c=true_h_x_eigen2)\n",
    "plt.axline((0,0),slope=1,ls=\"--\",alpha=0.8,lw=1.3)"
   ],
   "metadata": {
    "collapsed": false
   },
   "id": "9dd24860efc085be",
   "outputs": [],
   "execution_count": null
  },
  {
   "cell_type": "code",
   "source": [
    "HSGP_posterior_predictive_obs = HSGP_jit_pred(samples_GP_net_obs, Xgp=X_h_obs[:,3:], Xlin = X_h_obs[:,0:3],ell=ell_obs)\n",
    "# HSGP_posterior_predictive_obs = HSGP_obs_predictive(rng_key, Xgp=X_h_obs[:,3:], Xlin = X_h_obs[:,0:3], ell=ell_obs, m=M)\n",
    "# HSGP_posterior_predictive = HSGP_jit_pred(samples_GP_net_true,Xgp=X_h_true[:,3:], Xlin = X_h_true[:,0:3],ell=ell, m=m)\n",
    "print(HSGP_posterior_predictive_obs[\"Y\"].shape)\n",
    "obs_post_mu = np.mean(HSGP_posterior_predictive_obs[\"Y\"],axis=0)\n",
    "obs_post_mu_iter = np.mean(HSGP_posterior_predictive_obs[\"Y\"],axis=1)\n",
    "\n",
    "hsgp_pred_obs_stats = compute_error_stats(np.mean(HSGP_posterior_predictive_obs[\"Y\"],axis=1), hestimand)\n",
    "print(hsgp_pred_obs_stats)\n",
    "\n",
    "plt.figure(figsize=(3,2))\n",
    "plt.scatter(x=obs_post_mu,y=mu_test, c=h_1)\n",
    "# plt.scatter(x=post_mu2,y=mu_test2, c=true_h_x_eigen2)\n",
    "plt.axline((0,0),slope=1,ls=\"--\",alpha=0.8,lw=1.3)\n"
   ],
   "metadata": {
    "collapsed": false
   },
   "id": "5e9c5b8ae1959a94",
   "outputs": [],
   "execution_count": null
  },
  {
   "cell_type": "code",
   "source": [
    "post_pred_mean = {\"beta\" : jnp.expand_dims(jnp.mean(samples_network[\"beta\"],axis=0),-2),\n",
    "                  \"gamma0\" : jnp.expand_dims(jnp.mean(samples_network[\"gamma0\"]),-1),\n",
    "                  \"gamma1\" : jnp.expand_dims(jnp.mean(samples_network[\"gamma1\"]),-1)}\n",
    "print(post_pred_mean)"
   ],
   "metadata": {
    "collapsed": false,
    "ExecuteTime": {
     "end_time": "2024-07-18T12:38:36.284512Z",
     "start_time": "2024-07-18T12:38:36.166434Z"
    }
   },
   "id": "69c784f97661a2b4",
   "outputs": [
    {
     "ename": "KeyError",
     "evalue": "'gamma0'",
     "output_type": "error",
     "traceback": [
      "\u001B[1;31m---------------------------------------------------------------------------\u001B[0m",
      "\u001B[1;31mKeyError\u001B[0m                                  Traceback (most recent call last)",
      "Cell \u001B[1;32mIn[112], line 2\u001B[0m\n\u001B[0;32m      1\u001B[0m post_pred_mean \u001B[38;5;241m=\u001B[39m {\u001B[38;5;124m\"\u001B[39m\u001B[38;5;124mbeta\u001B[39m\u001B[38;5;124m\"\u001B[39m : jnp\u001B[38;5;241m.\u001B[39mexpand_dims(jnp\u001B[38;5;241m.\u001B[39mmean(samples_network[\u001B[38;5;124m\"\u001B[39m\u001B[38;5;124mbeta\u001B[39m\u001B[38;5;124m\"\u001B[39m],axis\u001B[38;5;241m=\u001B[39m\u001B[38;5;241m0\u001B[39m),\u001B[38;5;241m-\u001B[39m\u001B[38;5;241m2\u001B[39m),\n\u001B[1;32m----> 2\u001B[0m                   \u001B[38;5;124m\"\u001B[39m\u001B[38;5;124mgamma0\u001B[39m\u001B[38;5;124m\"\u001B[39m : jnp\u001B[38;5;241m.\u001B[39mexpand_dims(jnp\u001B[38;5;241m.\u001B[39mmean(\u001B[43msamples_network\u001B[49m\u001B[43m[\u001B[49m\u001B[38;5;124;43m\"\u001B[39;49m\u001B[38;5;124;43mgamma0\u001B[39;49m\u001B[38;5;124;43m\"\u001B[39;49m\u001B[43m]\u001B[49m),\u001B[38;5;241m-\u001B[39m\u001B[38;5;241m1\u001B[39m),\n\u001B[0;32m      3\u001B[0m                   \u001B[38;5;124m\"\u001B[39m\u001B[38;5;124mgamma1\u001B[39m\u001B[38;5;124m\"\u001B[39m : jnp\u001B[38;5;241m.\u001B[39mexpand_dims(jnp\u001B[38;5;241m.\u001B[39mmean(samples_network[\u001B[38;5;124m\"\u001B[39m\u001B[38;5;124mgamma1\u001B[39m\u001B[38;5;124m\"\u001B[39m]),\u001B[38;5;241m-\u001B[39m\u001B[38;5;241m1\u001B[39m)}\n\u001B[0;32m      4\u001B[0m \u001B[38;5;28mprint\u001B[39m(post_pred_mean)\n",
      "\u001B[1;31mKeyError\u001B[0m: 'gamma0'"
     ]
    }
   ],
   "execution_count": 112
  },
  {
   "cell_type": "code",
   "source": [
    "print(samples_network[\"beta\"].shape)\n",
    "print(samples_network[\"gamma0\"].shape)\n",
    "post_pred_mean = {\"beta\" : jnp.expand_dims(jnp.mean(samples_network[\"beta\"],axis=0),-2),\n",
    "                  \"gamma0\" : jnp.expand_dims(jnp.mean(samples_network[\"gamma0\"]),-1),\n",
    "                  \"gamma1\" : jnp.expand_dims(jnp.mean(samples_network[\"gamma1\"]),-1)}\n",
    "# print(jnp.array(post_pred_mean))\n",
    "# The following is how to sample multiple different A* with the mean posterior of A* and A|A* parameters\n",
    "# a_star_pred1 = a_star_pred(random.PRNGKey(0), X=x_diff,TriU=triu_obs,n=n)\n",
    "# a_star_pred1 = Astar_pred(random.PRNGKey(0),post_samples=samples_network, Xd=x_diff,triu=triu_obs)\n",
    "a_star_pred1 = Astar_pred(random.PRNGKey(0),post_samples=post_pred_mean, Xd=x_diff,triu=triu_obs)\n",
    "a_star_pred2 = Astar_pred(random.PRNGKey(3),post_samples=post_pred_mean, Xd=x_diff,triu=triu_obs)\n",
    "# a_star_pred2 = Astar_pred(random.PRNGKey(),post_samples=jnp.array(post_pred_mean), Xd=x_diff,triu=triu_obs, mean_post=True)\n",
    "# a_star_pred2 = a_star_pred(random.PRNGKey(1), X=x_diff,TriU=triu_obs,n=n)\n",
    "# a_star_pred2 = a_star_pred(random.PRNGKey(1), X=x_diff,TriU=triu_obs,n=n)\n",
    "# print(a_star_pred)\n",
    "# print(a_star_pred1[\"triu_star\"])\n",
    "print(a_star_pred1[\"triu_star\"].shape)\n",
    "print(a_star_pred1[\"triu_star\"][0].shape)\n",
    "print(a_star_pred2[\"triu_star\"].shape)\n",
    "print(jnp.array_equal(a_star_pred1[\"triu_star\"],a_star_pred2[\"triu_star\"]))\n",
    "\n",
    "twoAst = pd.DataFrame({'first' : a_star_pred1[\"triu_star\"][1], 'sec' : a_star_pred2[\"triu_star\"][1]})\n",
    "# print(twoAst)\n",
    "pd.crosstab(index=twoAst['first'], columns=twoAst['sec'])"
   ],
   "metadata": {
    "collapsed": false
   },
   "id": "c196f5a2954cdacf",
   "outputs": [],
   "execution_count": null
  },
  {
   "cell_type": "code",
   "source": [
    "post_predictive = Predictive(network_model, samples_network, infer_discrete=True)\n",
    "post_predictive = post_predictive(rng_key, X=x_diff, X2=x2_equal, TriU=triu_obs)\n",
    "# samples_network[\"triu_star\"] = post_predictive[\"triu_star\"]\n",
    "# print(post_predictive[\"triu_star\"])\n",
    "print(post_predictive[\"triu_star\"].shape)\n",
    "print(post_predictive[\"triu_star\"][0,].shape)"
   ],
   "metadata": {
    "collapsed": false,
    "ExecuteTime": {
     "end_time": "2024-07-18T12:40:20.460345Z",
     "start_time": "2024-07-18T12:39:21.286989Z"
    }
   },
   "id": "c52677fbf71e4079",
   "outputs": [
    {
     "name": "stdout",
     "output_type": "stream",
     "text": [
      "(8000, 44850)\n",
      "(44850,)\n"
     ]
    }
   ],
   "execution_count": 114
  },
  {
   "cell_type": "code",
   "source": [
    "# NN = n\n",
    "\n",
    "n_warmup = 350\n",
    "n_samples = 150\n",
    "n_chains = 1\n",
    "# M = m\n",
    "\n",
    "@jit\n",
    "def linear_model_sampless(key, Y, df):\n",
    "    kernel_outcome = NUTS(outcome_model)\n",
    "    lin_mcmc = MCMC(kernel_outcome, num_warmup=n_warmup, num_samples=n_samples,num_chains=n_chains, progress_bar=False, chain_method=\"vectorized\")\n",
    "    # mcmc.run(key, Y=Y, Z=Z, X=X, A=A, n=NN)\n",
    "    lin_mcmc.run(key, X=df, Y=Y)\n",
    "    return lin_mcmc.get_samples()\n",
    "\n",
    "@jit    \n",
    "def HSGP_model_sampless(key, Y, Xgp, Xlin, ell):\n",
    "    kernel_hsgp = NUTS(HSGP_model)\n",
    "    hsgp_mcmc = MCMC(kernel_hsgp, num_warmup=n_warmup, num_samples=n_samples,num_chains=n_chains, progress_bar=False, chain_method=\"vectorized\")\n",
    "    # mcmc.run(key, Y=Y, Z=Z, X=X, A=A, n=NN)\n",
    "    hsgp_mcmc.run(key, Xgp=Xgp, Xlin=Xlin, ell=ell ,m=M, Y=Y)\n",
    "    # samples = hsgp_mcmc.get_samples()\n",
    "    # hsgp_pred = Predictive(HSGP_model, hsgp_mcmc.get_samples())\n",
    "    # return hsgp_pred\n",
    "    return hsgp_mcmc.get_samples()\n",
    "\n",
    "@jit\n",
    "def compute_net_stats(Astar, Z):\n",
    "    cur_eigen_cen = eigen_centrality(Astar)\n",
    "    cur_Zeigen = zeigen_value(Z, cur_eigen_cen, Astar)\n",
    "    # if return_ell:\n",
    "    cur_ell = c*jnp.max(jnp.abs(cur_Zeigen))\n",
    "        # cur_ell = jnp.array(cur_ell)[..., None]\n",
    "    cur_ell = jnp.array(cur_ell).reshape(1,1)\n",
    "    return cur_Zeigen, cur_ell\n",
    "    # else:\n",
    "    #     return cur_Zeigen\n",
    "    \n",
    "@jit    \n",
    "def get_samples_new_Astar(Y, Z, X, X2, curr_Astar):\n",
    "        cur_Zeigen, ell = compute_net_stats(curr_Astar, Z)\n",
    "        # get df\n",
    "        # cur_df = np.transpose(np.array([[1]*NN, Z, X, cur_Zeigen]))\n",
    "        cur_df = jnp.transpose(jnp.array([[1]*NN, Z, X, X2, cur_Zeigen]))\n",
    "        # Run MCMC\n",
    "        cur_lin_samples = linear_model_sampless(rng_key_, Y, cur_df)\n",
    "        cur_hsgp_samples = HSGP_model_sampless(rng_key_, Y=Y, Xgp=cur_df[:,4:],\n",
    "                                                    Xlin=cur_df[:,0:4], ell=ell)\n",
    "        # cur_hsgp_predictive = Predictive(HSGP_model, HSGP_model_samples(key, Y=Y, Xgp=cur_df[:,3:],\n",
    "        #                                     Xlin=cur_df[:,0:3], ell=ell))\n",
    "        # cur_hsgp_predictive = HSGP_model_samples(key, Y=Y, Xgp=cur_df[:,3:],\n",
    "        #                                     Xlin=cur_df[:,0:3], ell=ell)\n",
    "                                                 # m=jnp.array(m).reshape(1,1))\n",
    "        return cur_lin_samples, cur_hsgp_samples, ell \n",
    "        # return cur_lin_samples, cur_hsgp_samples, cur_df, ell \n",
    "        # return cur_lin_samples, cur_hsgp_predictive, cur_df, ell \n",
    "\n",
    "@jit        \n",
    "def get_predicted_values(z, zeigen, x, x2, lin_samples, hsgp_samples, ell):\n",
    "        # get predicted values \n",
    "        # each has shape (#lin_samples, n)\n",
    "        cur_lin_pred = linear_pred(z, zeigen, lin_samples, x, x2)\n",
    "        cur_hsgp_pred = hsgp_pred(z, zeigen, hsgp_samples, x, x2, ell)\n",
    "        # cur_lin_pred = outcome_jit_pred(lin_samples, curr_df, key)\n",
    "        # cur_hsgp_pred = HSGP_jit_pred(hsgp_samples,Xgp=curr_df[:,3:], Xlin = curr_df[:,0:3],ell=ell)\n",
    "        # cur_hsgp_pred = hsgp_pred(key, Xgp=curr_df[:,3:], Xlin=curr_df[:,0:3],\n",
    "        #                                     ell=ell, m=M)\n",
    "                                            # m=m)\n",
    "        # get estimands for each sample (sample mean across units)\n",
    "        # lin_estimates = jnp.mean(cur_lin_pred[\"Y\"],axis=1)\n",
    "        lin_estimates =  jnp.mean(cur_lin_pred, axis=0)\n",
    "        # hsgp_estimates = jnp.mean(cur_hsgp_pred[\"Y\"],axis=1)\n",
    "        hsgp_estimates = jnp.mean(cur_hsgp_pred,axis=0)\n",
    "        return lin_estimates, hsgp_estimates\n",
    "               \n",
    "@jit\n",
    "def multistage_mcmc(samp_net, Y, Z_obs, Z_new, X, X2):\n",
    "    # cur_key = random.PRNGKey(i)\n",
    "    # sample network\n",
    "    # curr_triu_star = Astar_pred(cur_key, post_samples=post_mean, Xd=x_diff,triu=triu_obs)\n",
    "    # curr_Astar = Triu_to_mat(curr_triu_star[\"triu_star\"][0])\n",
    "    curr_Astar = Triu_to_mat(samp_net)\n",
    "    # re-run MCMC with new network\n",
    "    curr_lin_samples, curr_hsgp_samples, cur_ell = get_samples_new_Astar(Y, Z_obs, X, X2, curr_Astar)\n",
    "    # curr_lin_samples, curr_hsgp_samples, cur_df, cur_ell = get_samples_new_Astar(rng_key_, Y, Z_obs, X, curr_Astar)\n",
    "    # curr_lin_samples, curr_hsgp_pred, cur_df, cur_ell = get_samples_new_Astar(cur_key, Y, Z_obs, X, curr_Astar, m)\n",
    "    zeigen_new, _ = compute_net_stats(curr_Astar, Z_new)\n",
    "    # get predicted estimands for new `Z' values\n",
    "    # if Z_new.ndim == 1:\n",
    "        # new_df = np.copy(cur_df)\n",
    "        # new_df[:,1] = Z_new\n",
    "        # new_df = cur_df.at[:,1].set(Z_new)\n",
    "    lin_estimates, hsgp_estimates = get_predicted_values(Z_new, zeigen_new, x, x2, curr_lin_samples, curr_hsgp_samples, cur_ell)\n",
    "        # lin_estimates, hsgp_estimates = get_predicted_values(cur_key, new_df, curr_lin_samples, curr_hsgp_pred, cur_ell, m)\n",
    "    return jnp.array([lin_estimates, hsgp_estimates])\n",
    "    # if Z_new.ndim == 2:\n",
    "    #     n_iter = Z_new.shape[0]\n",
    "    #     lin_results = []\n",
    "    #     hsgp_results = []\n",
    "    #     for j in range(n_iter):\n",
    "    #         new_df = np.copy(cur_df)\n",
    "    #         new_df[:,1] = Z_new[j]\n",
    "    #         lin_estimates, hsgp_estimates = get_predicted_values(rng_key_, new_df, curr_lin_samples, curr_hsgp_pred, cur_ell, M)\n",
    "    #         lin_results.append([lin_estimates])\n",
    "    #         hsgp_results.append([hsgp_estimates])\n",
    "    #         return np.array(lin_results), np.array(hsgp_results)\n",
    "     \n",
    "\n",
    "@jit\n",
    "def Astar_pred(i, post_samples, Xd, X2, triu):\n",
    "    # if mean_post:\n",
    "    pred_func = Predictive(model=network_model, posterior_samples=post_samples, infer_discrete=True,num_samples=1)\n",
    "    # else:\n",
    "    #     pred_func = Predictive(model=network_model, posterior_samples=post_samples, infer_discrete=True)\n",
    "    samp_net = pred_func(random.PRNGKey(i**2), X=Xd, X2=X2, TriU=triu)[\"triu_star\"]\n",
    "    return jnp.squeeze(samp_net, axis=0)     \n",
    "     \n",
    "     \n",
    "vectorized_astar_pred = jax.vmap(Astar_pred, in_axes=(0, None, None, None, None))\n",
    "vectorized_multistage = jax.vmap(multistage_mcmc, in_axes=(0, None, None, None, None, None))\n",
    "parallel_multistage = jax.pmap(multistage_mcmc, in_axes=(0, None, None, None, None, None))\n",
    "\n",
    "\n",
    "\n",
    "#      \n",
    "# start = time.time()\n",
    "# # twostage_post_samp_jit = pd.DataFrame()\n",
    "# twostage_linear = []\n",
    "# twostage_hsgp = []\n",
    "# # for i in tqdm(range(50)):\n",
    "# for i in tqdm(range(3)):\n",
    "#     cur_lin, cur_hsgp = twostage_jj(Astar_pred, post_pred_mean, Y, Z, h_1, x, x_diff, triu_obs, i)\n",
    "#     # cur_lin, cur_hsgp = twostage_jj(Astar_pred, post_pred_mean, Y, Z, h_1, x, x_diff, triu_obs, i, m)\n",
    "#     twostage_linear.append(cur_lin)\n",
    "#     twostage_hsgp.append(cur_hsgp)\n",
    "#     # twostage_post_samp_jit = pd.concat([twostage_post_samp_jit,cur_res])    \n",
    "# # print(twostage_post_samp_jit)\n",
    "# twostage_linear = np.array(twostage_linear)\n",
    "# twostage_hsgp = np.array(twostage_hsgp)\n",
    "# print(\"lin shape:\", twostage_linear.shape, \"\\n\",\n",
    "#       \"hsgp shape:\", twostage_hsgp.shape)\n",
    "# print(\"with JIT (non parallel) takes: \", time.time() - start)\n"
   ],
   "metadata": {
    "collapsed": false,
    "ExecuteTime": {
     "end_time": "2024-07-18T12:41:44.295207Z",
     "start_time": "2024-07-18T12:41:44.245608Z"
    }
   },
   "id": "739b60168409e8f4",
   "outputs": [],
   "execution_count": 116
  },
  {
   "cell_type": "code",
   "source": [
    "import datetime\n",
    "print(\"Start time:\", datetime.datetime.now())\n",
    "start = time.time()\n",
    "K = 120\n",
    "irange = jnp.arange(K)\n",
    "many_samp_triu = vectorized_astar_pred(irange, post_pred_mean, jnp.array(x_diff), jnp.array(triu_obs))\n",
    "print(time.time() -start)\n"
   ],
   "metadata": {
    "collapsed": false
   },
   "id": "9ae5d6e2cf095950",
   "outputs": [],
   "execution_count": null
  },
  {
   "cell_type": "code",
   "source": [
    "many_samp_triu.shape"
   ],
   "metadata": {
    "collapsed": false
   },
   "id": "67e94c2ebe133bb1",
   "outputs": [],
   "execution_count": null
  },
  {
   "cell_type": "code",
   "source": [
    "start = time.time()\n",
    "test_twos = vectorized_multistage(many_samp_triu, Y, jnp.array(Z), jnp.array(h_1), jnp.array(x))\n",
    "print(test_twos.shape)\n",
    "print(time.time() - start)"
   ],
   "metadata": {
    "collapsed": false
   },
   "id": "94a979b026294df0",
   "outputs": [],
   "execution_count": null
  },
  {
   "cell_type": "code",
   "source": [
    "samp = test_twos.shape[2]\n",
    "twostage_lin = test_twos[:, 0, :]\n",
    "twostage_hsgp = test_twos[:, 1, :]\n",
    "twostage_linear_long = twostage_lin.reshape(K*samp)\n",
    "twostage_hsgp_long = twostage_hsgp.reshape(K*samp)\n",
    "\n",
    "print(compute_error_stats(twostage_linear_long, true_estimand, \"linear two stage\"), \"\\n\",\n",
    "      compute_error_stats(twostage_hsgp_long, true_estimand, \"hsgp two stage\"))\n"
   ],
   "metadata": {
    "collapsed": false
   },
   "id": "44c9f3086b245808",
   "outputs": [],
   "execution_count": null
  },
  {
   "cell_type": "code",
   "source": [
    "print(\"Start time:\", datetime.datetime.now())\n",
    "start = time.time()\n",
    "test_twos_pm = []\n",
    "for i in range(0,K,4):\n",
    "    # i_results = parallel_multistage(many_samp_triu[i:(i+4),], Y, jnp.array(Z), jnp.array(h_1), jnp.array(x))\n",
    "    i_results = parallel_multistage(many_samp_triu[i:(i+4),], Y, jnp.array(Z), jnp.array(Z_stoch), jnp.array(x))\n",
    "    test_twos_pm.append(i_results)\n",
    "    # test_twos_pm = test_twos_pm.at[i:(i+3),:,:].set(i_samp)\n",
    "test_twos_pm = jnp.concatenate(test_twos_pm, axis=0)\n",
    "print(test_twos_pm.shape)\n",
    "print(time.time() - start)"
   ],
   "metadata": {
    "collapsed": false
   },
   "id": "3da8768149af7e57",
   "outputs": [],
   "execution_count": null
  },
  {
   "cell_type": "code",
   "source": [
    "samp = test_twos_pm.shape[2]\n",
    "twostage_lin = test_twos_pm[:, 0, :]\n",
    "twostage_hsgp = test_twos_pm[:, 1, :]\n",
    "twostage_linear_long = twostage_lin.reshape(K*samp)\n",
    "twostage_hsgp_long = twostage_hsgp.reshape(K*samp)\n",
    "\n",
    "print(compute_error_stats(twostage_linear_long, stoch_estimand, \"linear two stage\"), \"\\n\",\n",
    "      compute_error_stats(twostage_hsgp_long, stoch_estimand, \"hsgp two stage\"))\n",
    "\n",
    "# print(compute_error_stats(twostage_linear_long, true_estimand, \"linear two stage\"), \"\\n\",\n",
    "#       compute_error_stats(twostage_hsgp_long, true_estimand, \"hsgp two stage\"))"
   ],
   "metadata": {
    "collapsed": false
   },
   "id": "c67576da12906557",
   "outputs": [],
   "execution_count": null
  },
  {
   "cell_type": "code",
   "source": [
    "\n",
    "# import importlib\n",
    "# import sys\n",
    "# modules_to_reload = list(sys.modules.keys())\n",
    "# \n",
    "# for module_name in modules_to_reload:\n",
    "#     if module_name.startswith(\"hsgp\"):  # Specify the module prefix or condition\n",
    "#         importlib.reload(sys.modules[module_name])\n",
    "#         print(f\"Reloaded module: {module_name}\")\n",
    "        "
   ],
   "metadata": {
    "collapsed": false
   },
   "id": "fe6ae28c8fc9ed40",
   "outputs": [],
   "execution_count": null
  },
  {
   "cell_type": "code",
   "source": [
    "\n",
    "# print(\"Start time:\", datetime.datetime.now())\n",
    "K=200\n",
    "# threestage\n",
    "i_range = np.random.choice(a = range(post_predictive[\"triu_star\"].shape[0]), size = K, replace = False)\n",
    "multi_post_triu = post_predictive[\"triu_star\"][i_range,]\n",
    "\n",
    "start = time.time()\n",
    "test_threes_pm = []\n",
    "for i in range(0,K,4):\n",
    "    i_results = parallel_multistage(multi_post_triu[i:(i+4),], Y, jnp.array(Z), jnp.array(h_1), jnp.array(x), jnp.array(x2))\n",
    "    test_threes_pm.append(i_results)\n",
    "    # test_twos_pm = test_twos_pm.at[i:(i+3),:,:].set(i_samp)\n",
    "test_threes_pm = jnp.concatenate(test_threes_pm, axis=0)\n",
    "print(test_threes_pm.shape)\n",
    "print(time.time() - start)"
   ],
   "metadata": {
    "collapsed": false,
    "ExecuteTime": {
     "end_time": "2024-07-18T12:44:15.307004Z",
     "start_time": "2024-07-18T12:42:47.133641Z"
    }
   },
   "id": "4743d2f318b5a582",
   "outputs": [
    {
     "name": "stdout",
     "output_type": "stream",
     "text": [
      "(200, 2, 150)\n",
      "87.82533001899719\n"
     ]
    }
   ],
   "execution_count": 119
  },
  {
   "cell_type": "code",
   "source": [
    "samp = test_threes_pm.shape[2]\n",
    "threestage_lin = test_threes_pm[:, 0, :]\n",
    "threestage_hsgp = test_threes_pm[:, 1, :]\n",
    "threestage_linear_long = threestage_lin.reshape(K*samp)\n",
    "threestage_hsgp_long = threestage_hsgp.reshape(K*samp)\n",
    "print(compute_error_stats(threestage_linear_long, hestimand, \"linear 3-stage\"), \"\\n\",\n",
    "      compute_error_stats(threestage_hsgp_long, hestimand, \"hsgp 3-stage\"))"
   ],
   "metadata": {
    "collapsed": false,
    "ExecuteTime": {
     "end_time": "2024-07-18T12:44:41.561869Z",
     "start_time": "2024-07-18T12:44:41.273252Z"
    }
   },
   "id": "c06888779d4f60b8",
   "outputs": [
    {
     "name": "stdout",
     "output_type": "stream",
     "text": [
      "    idx          method  mean  median   true    bias    std   RMSE   q025  \\\n",
      "0  None  linear 3-stage  2.22    2.22  2.301  -0.081  0.104  0.131  2.014   \n",
      "\n",
      "    q975  covering  \n",
      "0  2.418      True   \n",
      "     idx        method       mean  median   true         bias  std   RMSE  \\\n",
      "0  None  hsgp 3-stage  2.2240002   2.223  2.301  -0.07700001  0.1  0.126   \n",
      "\n",
      "    q025   q975  covering  \n",
      "0  2.028  2.417      True  \n"
     ]
    }
   ],
   "execution_count": 120
  },
  {
   "cell_type": "code",
   "source": [
    "\n",
    "def threestage_jj(triu_post_samp, Y, Z_obs, Z_new, X, i):\n",
    "    cur_key = random.PRNGKey(i)\n",
    "    # triu to adj mat\n",
    "    curr_Astar = Triu_to_mat(triu_post_samp)\n",
    "    # re-run MCMC with new network\n",
    "    curr_lin_samples, curr_hsgp_pred, cur_df, cur_ell = get_samples_new_Astar(cur_key, Y, Z_obs, X, curr_Astar)\n",
    "    # curr_lin_samples, curr_hsgp_pred, cur_df, cur_ell = get_samples_new_Astar(cur_key, Y, Z_obs, X, curr_Astar, m)\n",
    "    # get predicted estimands for new `Z' values\n",
    "    if Z_new.ndim == 1:\n",
    "        # new_df = np.copy(cur_df)\n",
    "        # new_df[:,1] = Z_new\n",
    "        new_df = cur_df.at[:,1].set(Z_new)\n",
    "        lin_estimates, hsgp_estimates = get_predicted_values(cur_key, new_df, curr_lin_samples, curr_hsgp_pred, cur_ell)\n",
    "        # lin_estimates, hsgp_estimates = get_predicted_values(cur_key, new_df, curr_lin_samples, curr_hsgp_pred, cur_ell, m)\n",
    "        return lin_estimates, hsgp_estimates\n",
    "    if Z_new.ndim == 2:\n",
    "        n_iter = Z_new.shape[0]\n",
    "        lin_results = []\n",
    "        hsgp_results = []\n",
    "        for j in range(n_iter):\n",
    "            new_df = np.copy(cur_df)\n",
    "            new_df[:,1] = Z_new[j]\n",
    "            lin_estimates, hsgp_estimates = get_predicted_values(cur_key, new_df, curr_lin_samples, curr_hsgp_pred, cur_ell, m)\n",
    "            lin_results.append(lin_estimates)\n",
    "            hsgp_results.append(hsgp_estimates)\n",
    "            return np.array(lin_results), np.array(hsgp_results)\n",
    "     \n",
    "     \n",
    "start = time.time()\n",
    "K = 100\n",
    "i_range = np.random.choice(a = range(post_predictive[\"triu_star\"].shape[0]), size = K, replace = False)\n",
    "# twostage_post_samp_jit = pd.DataFrame()\n",
    "threestage_linear = []\n",
    "threestage_hsgp = []\n",
    "# for i in tqdm(range(50)):\n",
    "for i in tqdm(i_range):\n",
    "    cur_lin, cur_hsgp = threestage_jj(post_predictive[\"triu_star\"][i,], Y, Z, h_1, x, i)\n",
    "    # cur_lin, cur_hsgp = twostage_jj(Astar_pred, post_pred_mean, Y, Z, h_1, x, x_diff, triu_obs, i, m)\n",
    "    threestage_linear.append(cur_lin)\n",
    "    threestage_hsgp.append(cur_hsgp)\n",
    "    # twostage_post_samp_jit = pd.concat([twostage_post_samp_jit,cur_res])    \n",
    "# print(twostage_post_samp_jit)\n",
    "threestage_linear = np.array(threestage_linear)\n",
    "threestage_hsgp = np.array(threestage_hsgp)\n",
    "print(\"lin shape:\", threestage_linear.shape, \"\\n\",\n",
    "      \"hsgp shape:\", threestage_hsgp.shape)\n",
    "print(\"with JIT (non parallel) takes: \", time.time() - start)\n"
   ],
   "metadata": {
    "collapsed": false
   },
   "id": "d89cd4bf5f75ee0b",
   "outputs": [],
   "execution_count": null
  },
  {
   "cell_type": "code",
   "source": [
    "m, samp = threestage_linear.shape\n",
    "threestage_linear_long = threestage_linear.reshape(m*samp)\n",
    "threestage_hsgp_long = threestage_hsgp.reshape(m*samp)\n",
    "print(compute_error_stats(threestage_linear_long, true_estimand, \"linear three stage\"), \"\\n\",\n",
    "      compute_error_stats(threestage_hsgp_long, true_estimand, \"hsgp three stage\"))"
   ],
   "metadata": {
    "collapsed": false
   },
   "id": "65c42630a5828aef",
   "outputs": [],
   "execution_count": null
  },
  {
   "cell_type": "code",
   "source": [
    "mean_alpha2 = np.mean(threestage_post_samp_jit[\"alpha_2\"])\n",
    "\n",
    "def between_var(x, mean_all):\n",
    "    n_rep = len(x)\n",
    "    return (1/(n_rep - 1))*np.sum(np.square(x-mean_alpha2))\n",
    "\n",
    "alpha2_agg_by_iter = threestage_post_samp_jit[[\"iter\",\"alpha_2\"]].groupby(\"iter\").agg([\"mean\",\"var\"])\n",
    "alpha2_agg_by_iter.columns = [\"mean\",\"var\"]\n",
    "alpha2_VB = between_var(alpha2_agg_by_iter[\"mean\"], mean_alpha2)\n",
    "alpha2_VW = np.mean(alpha2_agg_by_iter[\"var\"])\n",
    "\n",
    "alpha2_MI_var = alpha2_VB*(1 + 1/K) + alpha2_VW\n",
    "print(\"VB: \", alpha2_VB, \"VW: \", alpha2_VW, \" Total var: \", alpha2_MI_var,\n",
    "      \" Naive var: \", np.var(threestage_post_samp_jit[\"alpha_2\"]))\n",
    "\n"
   ],
   "metadata": {
    "collapsed": false
   },
   "id": "3ad6a7559b22dfd",
   "outputs": [],
   "execution_count": null
  },
  {
   "cell_type": "code",
   "source": [
    "\n",
    "# `cut posterior` : for each A* and A|A* param, sample one A*, and compute network statistics distribution (e.g., degrees and exposures)\n",
    "# The uncertainty in A* and A|A* *doesn't* propagate into the outcome model which depends on the network statistics\n",
    "# Use the mean network stat in the outcome model (i.e., only one outcome model run!).\n",
    "\n",
    "@jit\n",
    "def network_posterior_stats(triu_sample, z):\n",
    "    curr_Astar = Triu_to_mat(triu_sample)    \n",
    "    # curr_degree = jnp.sum(curr_Astar,1)\n",
    "    cur_eig_cen = eigen_centrality(curr_Astar)\n",
    "    zeigen = zeigen_value(z, cur_eig_cen, curr_Astar)\n",
    "    # Zeigen_old = zeigen_value(Z_old, cur_eig_cen, curr_Astar)\n",
    "    # Zeigen_new = zeigen_value(Z_new, cur_eig_cen, curr_Astar)\n",
    "    return zeigen\n",
    "    # return jnp.array(Zeigen_old, Zeigen_new)\n",
    "    \n",
    "parallel_network_post_stats = jax.pmap(network_posterior_stats, in_axes=(0, None))\n",
    "vectorized_network_post_stats = jax.vmap(network_posterior_stats, in_axes=(0, None))\n"
   ],
   "metadata": {
    "collapsed": false,
    "ExecuteTime": {
     "end_time": "2024-07-18T12:45:27.937609Z",
     "start_time": "2024-07-18T12:45:27.915711Z"
    }
   },
   "id": "d38c438349af4a3a",
   "outputs": [],
   "execution_count": 121
  },
  {
   "cell_type": "code",
   "source": [
    "# start = time.time()\n",
    "# mean_zeigen_vec = vectorized_network_post_stats(post_predictive[\"triu_star\"], Z, h_1)\n",
    "# print(mean_zeigen_vec.shape)\n",
    "# print(time.time() - start)"
   ],
   "metadata": {
    "collapsed": false
   },
   "id": "8acc690cba1025c7",
   "outputs": [],
   "execution_count": null
  },
  {
   "cell_type": "code",
   "source": [
    "stt = network_posterior_stats(post_predictive[\"triu_star\"][0,], h_1)\n",
    "print(stt.shape)"
   ],
   "metadata": {
    "collapsed": false
   },
   "id": "f869d8e0ce427854",
   "outputs": [],
   "execution_count": null
  },
  {
   "cell_type": "code",
   "source": [
    "start = time.time()\n",
    "mean_obs_zeigen = []\n",
    "mean_h_zeigen = []\n",
    "mean_h2_zeigen = []\n",
    "mean_stoch_zeigen = []\n",
    "mean_stoch2_zeigen = []\n",
    "for i in range(0,post_predictive[\"triu_star\"].shape[0],4):\n",
    "    # i_results = parallel_network_post_stats(post_predictive[\"triu_star\"][i:(i+4),], Z, h_1)\n",
    "    obs_results = parallel_network_post_stats(post_predictive[\"triu_star\"][i:(i+4),], Z)\n",
    "    mean_obs_zeigen.append(obs_results)\n",
    "    new_results = parallel_network_post_stats(post_predictive[\"triu_star\"][i:(i+4),], h_1)\n",
    "    mean_h_zeigen.append(new_results)\n",
    "    new_h2_results = parallel_network_post_stats(post_predictive[\"triu_star\"][i:(i+4),], h_2)\n",
    "    mean_h2_zeigen.append(new_h2_results)\n",
    "    stoch_results = parallel_network_post_stats(post_predictive[\"triu_star\"][i:(i+4),], Z_stoch)\n",
    "    mean_stoch_zeigen.append(stoch_results)\n",
    "    stoch2_results = parallel_network_post_stats(post_predictive[\"triu_star\"][i:(i+4),], Z_stoch2)\n",
    "    mean_stoch2_zeigen.append(stoch2_results)\n",
    "    # test_twos_pm = test_twos_pm.at[i:(i+3),:,:].set(i_samp)\n",
    "mean_obs_zeigen = jnp.concatenate(mean_obs_zeigen, axis=0)\n",
    "mean_h_zeigen = jnp.concatenate(mean_h_zeigen, axis=0)\n",
    "mean_h2_zeigen = jnp.concatenate(mean_h2_zeigen, axis=0)\n",
    "mean_stoch_zeigen = jnp.concatenate(mean_stoch_zeigen, axis=0)\n",
    "mean_stoch2_zeigen = jnp.concatenate(mean_stoch2_zeigen, axis=0)\n",
    "print(mean_obs_zeigen.shape)\n",
    "print(mean_h_zeigen.shape)\n",
    "print(mean_stoch_zeigen.shape)\n",
    "print(time.time() - start)"
   ],
   "metadata": {
    "collapsed": false,
    "ExecuteTime": {
     "end_time": "2024-07-18T12:51:22.469804Z",
     "start_time": "2024-07-18T12:45:40.179153Z"
    }
   },
   "id": "56447a7f6a51a9e6",
   "outputs": [
    {
     "name": "stdout",
     "output_type": "stream",
     "text": [
      "(8000, 300)\n",
      "(8000, 300)\n",
      "(8000, 100, 300)\n",
      "342.26960015296936\n"
     ]
    }
   ],
   "execution_count": 122
  },
  {
   "cell_type": "code",
   "source": [
    "post_zeigen_obs = jnp.mean(mean_obs_zeigen, axis=0)\n",
    "post_zeigen_h = jnp.mean(mean_h_zeigen, axis=0)\n",
    "post_zeigen_h2 = jnp.mean(mean_h2_zeigen, axis=0)\n",
    "post_zeigen_stoch = jnp.mean(mean_stoch_zeigen, axis=0)\n",
    "post_zeigen_stoch2 = jnp.mean(mean_stoch2_zeigen, axis=0)\n"
   ],
   "metadata": {
    "collapsed": false,
    "ExecuteTime": {
     "end_time": "2024-07-18T12:52:21.047834Z",
     "start_time": "2024-07-18T12:52:20.409814Z"
    }
   },
   "id": "34b761670f9d9275",
   "outputs": [],
   "execution_count": 123
  },
  {
   "cell_type": "code",
   "source": [
    "n_warmup = 2000\n",
    "n_samples = 4000\n",
    "n_chains = 4\n",
    "M = m\n",
    "\n",
    "@jit\n",
    "def linear_model_samples(key, Y, df):\n",
    "    kernel_outcome = NUTS(outcome_model)\n",
    "    lin_mcmc = MCMC(kernel_outcome, num_warmup=n_warmup, num_samples=n_samples,num_chains=n_chains, progress_bar=False, chain_method=\"vectorized\")\n",
    "    # mcmc.run(key, Y=Y, Z=Z, X=X, A=A, n=NN)\n",
    "    lin_mcmc.run(key, X=df, Y=Y)\n",
    "    return lin_mcmc.get_samples()\n",
    "\n",
    "\n",
    "@jit    \n",
    "def HSGP_model_samples(key, Y, Xgp, Xlin, ell):\n",
    "    kernel_hsgp = NUTS(HSGP_model)\n",
    "    hsgp_mcmc = MCMC(kernel_hsgp, num_warmup=num_warmup, num_samples=num_samples,num_chains=num_chains, progress_bar=False, chain_method=\"vectorized\")\n",
    "    # mcmc.run(key, Y=Y, Z=Z, X=X, A=A, n=NN)\n",
    "    hsgp_mcmc.run(key, Xgp=Xgp, Xlin=Xlin, ell=ell ,m=M, Y=Y)\n",
    "    # hsgp_mcmc.print_summary()\n",
    "    # samples = hsgp_mcmc.get_samples()\n",
    "    # hsgp_pred = Predictive(HSGP_model, hsgp_mcmc.get_samples())\n",
    "    # return hsgp_pred\n",
    "    return hsgp_mcmc.get_samples()"
   ],
   "metadata": {
    "collapsed": false,
    "ExecuteTime": {
     "end_time": "2024-07-18T12:52:31.825058Z",
     "start_time": "2024-07-18T12:52:31.393008Z"
    }
   },
   "id": "79feb508275afe2f",
   "outputs": [],
   "execution_count": 124
  },
  {
   "cell_type": "code",
   "source": [
    "one_stage_df_obs = jnp.array(np.transpose(np.array([[1]*n, Z, x,x2, post_zeigen_obs])))\n",
    "one_stage_ell = jnp.array(c*jnp.max(jnp.abs(post_zeigen_obs))).reshape(1,1)\n"
   ],
   "metadata": {
    "collapsed": false,
    "ExecuteTime": {
     "end_time": "2024-07-18T12:52:38.532816Z",
     "start_time": "2024-07-18T12:52:38.513986Z"
    }
   },
   "id": "68e564dcd89a0f45",
   "outputs": [],
   "execution_count": 125
  },
  {
   "cell_type": "code",
   "source": [
    "onestage_samples_linear = linear_model_samples(rng_key_,Y=Y, df=one_stage_df_obs)\n",
    "onestage_samples_hsgp = HSGP_model_samples(rng_key_,Y=Y, Xgp=one_stage_df_obs[:,4], Xlin=one_stage_df_obs[:,:4], ell=one_stage_ell)"
   ],
   "metadata": {
    "collapsed": false,
    "ExecuteTime": {
     "end_time": "2024-07-18T12:53:43.605727Z",
     "start_time": "2024-07-18T12:52:49.604859Z"
    }
   },
   "id": "98c08b497bf3f7b4",
   "outputs": [],
   "execution_count": 126
  },
  {
   "metadata": {
    "ExecuteTime": {
     "end_time": "2024-07-18T12:54:37.747957Z",
     "start_time": "2024-07-18T12:54:36.222525Z"
    }
   },
   "cell_type": "code",
   "source": [
    "# Onestage linear HTE\n",
    "lin_h1_pred_os = linear_pred(h_1, post_zeigen_h, onestage_samples_linear, x, x2)\n",
    "lin_h2_pred_os = linear_pred(h_2, post_zeigen_h2, onestage_samples_linear, x, x2)\n",
    "lin_hte_pred_os = jnp.mean(lin_h1_pred,axis=0) - jnp.mean(lin_h2_pred, axis=0)\n",
    "print(compute_error_stats(lin_hte_pred_os, hte))"
   ],
   "id": "1570aefe0f309c82",
   "outputs": [
    {
     "name": "stdout",
     "output_type": "stream",
     "text": [
      "    idx method   mean  median   true          bias          std   RMSE   q025  \\\n",
      "0  None   TEST  0.637   0.637  0.668  -0.031000001  0.031000001  0.044  0.574   \n",
      "\n",
      "    q975  covering  \n",
      "0  0.697      True  \n"
     ]
    }
   ],
   "execution_count": 128
  },
  {
   "metadata": {
    "ExecuteTime": {
     "end_time": "2024-07-18T12:54:55.572749Z",
     "start_time": "2024-07-18T12:54:55.368438Z"
    }
   },
   "cell_type": "code",
   "source": [
    "# Onestage HSGP HTE\n",
    "hsgp_h1_pred_os = hsgp_pred(h_1, post_zeigen_h, onestage_samples_hsgp, x, x2, one_stage_ell)\n",
    "hsgp_h2_pred_os = hsgp_pred(h_2, post_zeigen_h2, onestage_samples_hsgp, x, x2, one_stage_ell)\n",
    "hsgp_hte_pred_os = jnp.mean(hsgp_h1_pred_os,axis=0) - jnp.mean(hsgp_h2_pred_os, axis=0)\n",
    "print(compute_error_stats(hsgp_hte_pred_os, hte))\n"
   ],
   "id": "16f6b9b607c4bc0a",
   "outputs": [
    {
     "name": "stdout",
     "output_type": "stream",
     "text": [
      "    idx method        mean  median   true   bias          std   RMSE   q025  \\\n",
      "0  None   TEST  0.67200005   0.672  0.668  0.004  0.049000002  0.049  0.578   \n",
      "\n",
      "    q975  covering  \n",
      "0  0.769      True  \n"
     ]
    }
   ],
   "execution_count": 129
  },
  {
   "metadata": {
    "ExecuteTime": {
     "end_time": "2024-07-18T12:55:18.603300Z",
     "start_time": "2024-07-18T12:55:06.142045Z"
    }
   },
   "cell_type": "code",
   "source": [
    "# Onestage linear Stoch\n",
    "lin_stoch_pred_os = linear_pred(Z_stoch, post_zeigen_stoch, onestage_samples_linear, x, x2)\n",
    "lin_stoch2_pred_os = linear_pred(Z_stoch2, post_zeigen_stoch2, onestage_samples_linear, x, x2)\n",
    "lin_stoch_pred_os = jnp.mean(lin_stoch_pred_os,axis=0) - jnp.mean(lin_stoch2_pred_os, axis=0)\n",
    "print(compute_error_stats(lin_stoch_pred_os, te_stoch))\n"
   ],
   "id": "c0649772ffecac47",
   "outputs": [
    {
     "name": "stdout",
     "output_type": "stream",
     "text": [
      "    idx method       mean  median   true    bias         std   RMSE   q025  \\\n",
      "0  None   TEST  2.1910002   2.191  2.207  -0.016  0.14400001  0.145  1.905   \n",
      "\n",
      "    q975  covering  \n",
      "0  2.468      True  \n"
     ]
    }
   ],
   "execution_count": 130
  },
  {
   "metadata": {
    "ExecuteTime": {
     "end_time": "2024-07-18T12:55:37.546149Z",
     "start_time": "2024-07-18T12:55:23.574214Z"
    }
   },
   "cell_type": "code",
   "source": [
    "# Onestage HSGP Stoch\n",
    "hsgp_stoch_pred_os = hsgp_pred(Z_stoch, post_zeigen_stoch, onestage_samples_hsgp, x, x2, one_stage_ell)\n",
    "hsgp_stoch2_pred_os = hsgp_pred(Z_stoch2, post_zeigen_stoch2, onestage_samples_hsgp, x, x2, one_stage_ell)\n",
    "hsgp_stoch_pred_os = jnp.mean(hsgp_stoch_pred_os,axis=0) - jnp.mean(hsgp_stoch2_pred_os, axis=0)\n",
    "print(compute_error_stats(hsgp_stoch_pred_os, te_stoch))"
   ],
   "id": "8a15b3a200915075",
   "outputs": [
    {
     "name": "stdout",
     "output_type": "stream",
     "text": [
      "    idx method       mean  median   true         bias         std   RMSE  \\\n",
      "0  None   TEST  2.0310001   2.034  2.207  -0.17600001  0.15400001  0.234   \n",
      "\n",
      "    q025   q975  covering  \n",
      "0  1.712  2.323      True  \n"
     ]
    }
   ],
   "execution_count": 131
  },
  {
   "cell_type": "code",
   "source": [
    "lin_h_1_onestage_pred = linear_pred(h_1, post_zeigen_h, onestage_samples_linear, x)\n",
    "print(lin_h_1_onestage_pred.shape)\n",
    "print(jnp.mean(lin_h_1_onestage_pred, axis=0).shape)\n",
    "print(compute_error_stats(jnp.mean(lin_h_1_onestage_pred, axis=0), hestimand))"
   ],
   "metadata": {
    "collapsed": false
   },
   "id": "a073a1066105e7ee",
   "outputs": [],
   "execution_count": null
  },
  {
   "cell_type": "code",
   "source": [
    "hsgp_h_1_onestage_pred = hsgp_pred(h_1, post_zeigen_h, onestage_samples_hsgp, x, one_stage_ell)\n",
    "print(hsgp_h_1_onestage_pred.shape)\n",
    "print(jnp.mean(hsgp_h_1_onestage_pred, axis=0).shape)\n",
    "print(compute_error_stats(jnp.mean(hsgp_h_1_onestage_pred, axis=0), hestimand))"
   ],
   "metadata": {
    "collapsed": false
   },
   "id": "45a63b56a5857649",
   "outputs": [],
   "execution_count": null
  },
  {
   "cell_type": "code",
   "source": [
    "lin_stoch_onestage_pred = linear_pred(Z_stoch, post_zeigen_stoch, onestage_samples_linear, x)\n",
    "print(lin_stoch_onestage_pred.shape)\n",
    "print(jnp.mean(lin_stoch_onestage_pred, axis=0).shape)\n",
    "linstoch_stat = compute_error_stats(jnp.mean(lin_stoch_onestage_pred, axis=0), stoch_estimand, \"Onestage_linear\")\n",
    "print(linstoch_stat)\n",
    "# print(compute_error_stats(jnp.mean(lin_stoch_onestage_pred, axis=0), stoch_estimand))"
   ],
   "metadata": {
    "collapsed": false
   },
   "id": "4ddd57e7d4218364",
   "outputs": [],
   "execution_count": null
  },
  {
   "cell_type": "code",
   "source": [
    "hsgp_stoch_onestage_pred = hsgp_pred(Z_stoch, post_zeigen_stoch, onestage_samples_hsgp, x, one_stage_ell)\n",
    "print(hsgp_stoch_onestage_pred.shape)\n",
    "print(jnp.mean(hsgp_stoch_onestage_pred, axis=0).shape)\n",
    "hsgpstoch_stat = compute_error_stats(jnp.mean(hsgp_stoch_onestage_pred, axis=0), stoch_estimand, \"Onestage_hsgp\")\n",
    "print(hsgpstoch_stat)\n",
    "# print(compute_error_stats(jnp.mean(hsgp_stoch_onestage_pred, axis=0), stoch_estimand))"
   ],
   "metadata": {
    "collapsed": false
   },
   "id": "8da94571a73d54a5",
   "outputs": [],
   "execution_count": null
  },
  {
   "cell_type": "code",
   "source": [
    "pd.concat([linstoch_stat, hsgpstoch_stat])"
   ],
   "metadata": {
    "collapsed": false
   },
   "id": "71135fd7053c03a8",
   "outputs": [],
   "execution_count": null
  },
  {
   "cell_type": "code",
   "source": [
    "\n",
    "true_deg = np.sum(mat,1)\n",
    "obs_deg = np.sum(obs_mat,1)\n",
    "\n",
    "beige_color = '#FFFDFA'\n",
    "pastel_purple_dark = (0.4, 0.2, 0.6)\n",
    "# sns.set_theme(style=\"ticks\", rc={'figure.facecolor': beige_color, 'axes.facecolor' : beige_color})\n",
    "# sns.set_context(\"poster\")\n",
    "\n",
    "\n",
    "fig, axes = plt.subplots(nrows=1,ncols=2, sharex=True, sharey=True)\n",
    "ax1, ax2 = axes.flatten()\n",
    "# fig.patch.set_facecolor(beige_color)\n",
    "# for ax in axes:\n",
    "    # ax.set_facecolor(beige_color) \n",
    "\n",
    "# ax1.plot(a_star_pred_deg, a_star_true_deg,\"o\")\n",
    "ax1.scatter(x=obs_deg,y=true_deg, marker = 'o',alpha=0.8,color=pastel_purple_dark,edgecolors=\"none\")\n",
    "ax1.axline((0,0),slope=1,c=\"black\",ls=\"--\",alpha=0.8,lw=1.3)\n",
    "# plt.gca().set_facecolor(beige_color)\n",
    "# ax2.plot(a_obs_deg, a_star_true_deg,\"o\")\n",
    "ax2.scatter(x=mean_deg, y=true_deg, marker = 'o',alpha=0.8,color=pastel_purple_dark,edgecolors=\"none\")\n",
    "ax2.axline((0,0),slope=1,c=\"black\",ls=\"--\",alpha=0.8,lw=1.3)\n",
    "# plt.gca().set_facecolor(beige_color)\n",
    "ax2.set_xlabel(\"Posterior mean\")\n",
    "ax1.set_xlabel(\"Observed\")\n",
    "ax1.set_ylabel(\"True\")\n",
    "ax2.set_ylabel(\"True\")\n",
    "\n",
    "fig.suptitle('Degree distribution', fontsize=16)\n",
    "\n",
    "fig = plt.gcf()\n",
    "fig.set_size_inches(8, 4)\n",
    "fig.savefig('deg_dist.png', dpi=300)"
   ],
   "metadata": {
    "collapsed": false
   },
   "id": "97d238fcf0b34475",
   "outputs": [],
   "execution_count": null
  }
 ],
 "metadata": {
  "kernelspec": {
   "display_name": "Python 3",
   "language": "python",
   "name": "python3"
  },
  "language_info": {
   "codemirror_mode": {
    "name": "ipython",
    "version": 2
   },
   "file_extension": ".py",
   "mimetype": "text/x-python",
   "name": "python",
   "nbconvert_exporter": "python",
   "pygments_lexer": "ipython2",
   "version": "2.7.6"
  }
 },
 "nbformat": 4,
 "nbformat_minor": 5
}
