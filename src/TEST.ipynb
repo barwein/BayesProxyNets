{
 "cells": [
  {
   "cell_type": "code",
   "id": "initial_id",
   "metadata": {
    "collapsed": true,
    "ExecuteTime": {
     "end_time": "2024-08-05T14:15:51.314965Z",
     "start_time": "2024-08-05T14:15:40.730007Z"
    }
   },
   "source": [
    "import time\n",
    "import arviz as az\n",
    "import matplotlib.pyplot as plt\n",
    "import numpy as np\n",
    "import numpyro.handlers\n",
    "import pandas as pd\n",
    "import pymc as pm\n",
    "import networkx as nx\n",
    "# import xarray as xr\n",
    "import seaborn as sns \n",
    "# from scipy.special import expit, logit\n",
    "import scipy as sp\n",
    "from itertools import combinations\n",
    "from scipy.spatial.distance import cdist\n",
    "\n",
    "import os\n",
    "\n",
    "\n",
    "import jax\n",
    "import jax.numpy as jnp\n",
    "from jax import random, jit, vmap\n",
    "from jax.scipy.special import expit, logsumexp, logit\n",
    "from functools import partial\n",
    "import numpyro.distributions as dist \n",
    "import numpyro\n",
    "from numpyro.contrib.funsor import config_enumerate\n",
    "# from numpyro.infer.reparam import LocScaleReparam\n",
    "\n",
    "# from numpyro.util import set_host_device_count\n",
    "# from numpyro.contrib.control_flow import scan\n",
    "# from numpyro.ops.indexing import Vindex\n",
    "from tqdm import tqdm\n",
    "# from joblib import Parallel, delayed\n",
    "\n",
    "from numpyro import handlers\n",
    "from numpyro.infer import MCMC, HMC, NUTS, DiscreteHMCGibbs, MixedHMC, Predictive\n",
    "import pyro\n",
    "# import pymc_experimental as pmx\n",
    "\n",
    "import multiprocessing\n",
    "import socket\n",
    "from hsgp.approximation import hsgp_squared_exponential\n",
    "# from numpyro.contrib.hsgp.approximation import hsgp_squared_exponential\n",
    "\n",
    "print(f\"Running on PyMC v{pm.__version__}\")\n",
    "# print(f\"Running on PyMC-experimental v{pmx.__version__}\")\n",
    "print(f\"Running on NumPyro v{numpyro.__version__}\")\n",
    "print(f\"Running on Pyro v{pyro.__version__}\")\n",
    "print(f\"Running on JAX v{jax.__version__}\")\n"
   ],
   "outputs": [
    {
     "name": "stderr",
     "output_type": "stream",
     "text": [
      "WARNING (pytensor.tensor.blas): Using NumPy C-API based implementation for BLAS functions.\n"
     ]
    },
    {
     "name": "stdout",
     "output_type": "stream",
     "text": [
      "Running on PyMC v5.15.1\n",
      "Running on NumPyro v0.15.2\n",
      "Running on Pyro v1.9.0+f02dfb9\n",
      "Running on JAX v0.4.25\n"
     ]
    }
   ],
   "execution_count": 1
  },
  {
   "cell_type": "code",
   "source": [
    "# Set CPU for JAX\n",
    "os.environ[\"XLA_FLAGS\"] = \"--xla_force_host_platform_device_count=4\"\n",
    "print(jax.devices('cpu'))"
   ],
   "metadata": {
    "collapsed": false,
    "ExecuteTime": {
     "end_time": "2024-08-05T14:16:34.972822Z",
     "start_time": "2024-08-05T14:16:34.862399Z"
    }
   },
   "id": "f7910fe36bb7d5b3",
   "outputs": [
    {
     "name": "stdout",
     "output_type": "stream",
     "text": [
      "[CpuDevice(id=0), CpuDevice(id=1), CpuDevice(id=2), CpuDevice(id=3)]\n"
     ]
    }
   ],
   "execution_count": 2
  },
  {
   "cell_type": "code",
   "source": [
    "RANDOM_SEED = 89253\n",
    "# rng = np.random.default_rng(RANDOM_SEED)\n",
    "rng = np.random.default_rng(7)\n",
    "\n",
    "%config InlineBackend.figure_format = 'retina'\n",
    "az.style.use(\"arviz-white\")"
   ],
   "metadata": {
    "collapsed": false,
    "ExecuteTime": {
     "end_time": "2024-08-05T14:16:35.890212Z",
     "start_time": "2024-08-05T14:16:35.872183Z"
    }
   },
   "id": "c3feb392ce909051",
   "outputs": [],
   "execution_count": 3
  },
  {
   "cell_type": "code",
   "source": [
    "# n=300\n",
    "n=500\n",
    "tril_dim = int(n*(n-1)/2)  \n",
    "# x = rng.integers(low=0,high=1,size=n,endpoint=True)\n",
    "x = rng.normal(loc=0,scale=3,size=n)\n",
    "# x = rng.standard_t(df=10, size= n)\n",
    "# x = rng.uniform(size=n,low=-3,high=3)\n",
    "# x = rng.standard_t(size=n,df=5)\n",
    "x2 = rng.binomial(n=1,p=0.1,size=n)\n",
    "# x2 = np.random.choice([\"A\",\"B\",\"C\"], size = n, p=[0.25,0.35,0.6])\n",
    "# x_diff = []\n",
    "# # x2_equal =[]\n",
    "# for i in range(n):\n",
    "#     for j in range(i+1,n):\n",
    "#         x_diff.append(np.abs(x[i]-x[j]))\n",
    "#         # x2_equal.append(x2[i]==x2[j])\n",
    "# x_diff = np.array(x_diff)\n",
    "# x2_equal = np.array(x2_equal)\n",
    "# plt.hist(x_diff)\n",
    "# Create probs\n",
    "# beta = -3, -.5,2 \n",
    "# beta = -2, -.5\n",
    "\n",
    "idx_pairs = list(combinations(range(len(x)),2))\n",
    "x_diff = jnp.array([abs(x[i] - x[j]) for i, j in idx_pairs])\n",
    "\n",
    "x2_equal = jnp.array([1 if x2[i]==1 and x2[j]==1 else 0 for i,j in idx_pairs])\n",
    "# x2_or = np.array([1 if (x2[i]==1 or x2[j]==1) and (x2[i]!=x2[j]) else 0 for i,j in idx_pairs])\n",
    "# x2_or = jnp.array([1 if (x2[i]==1 or x2[j]==1) else 0 for i,j in idx_pairs])\n",
    "x2_or = jnp.array([1 if (x2[i] + x2[j] == 1) else 0 for i,j in idx_pairs])\n",
    "\n",
    "plt.figure(figsize=(3,2))\n",
    "plt.hist(x_diff)\n"
   ],
   "metadata": {
    "collapsed": false,
    "ExecuteTime": {
     "end_time": "2024-08-05T14:17:02.568053Z",
     "start_time": "2024-08-05T14:16:37.014945Z"
    }
   },
   "id": "6999d54995908789",
   "outputs": [
    {
     "data": {
      "text/plain": [
       "(array([4.1671e+04, 3.5104e+04, 2.4059e+04, 1.3812e+04, 6.5970e+03,\n",
       "        2.5040e+03, 7.5600e+02, 1.9600e+02, 4.4000e+01, 7.0000e+00]),\n",
       " array([3.35014265e-05, 1.73654068e+00, 3.47304773e+00, 5.20955467e+00,\n",
       "        6.94606209e+00, 8.68256950e+00, 1.04190760e+01, 1.21555834e+01,\n",
       "        1.38920908e+01, 1.56285973e+01, 1.73651047e+01]),\n",
       " <BarContainer object of 10 artists>)"
      ]
     },
     "execution_count": 4,
     "metadata": {},
     "output_type": "execute_result"
    },
    {
     "data": {
      "text/plain": [
       "<Figure size 300x200 with 1 Axes>"
      ],
      "image/png": "[encoded data removed]"
     },
     "metadata": {
      "image/png": {
       "width": 311,
       "height": 211
      }
     },
     "output_type": "display_data"
    }
   ],
   "execution_count": 4
  },
  {
   "metadata": {},
   "cell_type": "code",
   "source": "x2_or.mean()",
   "id": "b38b83e8640f4782",
   "outputs": [],
   "execution_count": null
  },
  {
   "metadata": {},
   "cell_type": "code",
   "source": "expit(-1*2)",
   "id": "8406ce018c475cc6",
   "outputs": [],
   "execution_count": null
  },
  {
   "cell_type": "code",
   "source": [
    "# beta = -2, -.5\n",
    "beta = -2, -.5\n",
    "# beta = -2, -1\n",
    "# probs = expit(beta[0] + beta[1]*x_diff + rng.normal(-.5,1,tril_dim))\n",
    "# probs = expit(beta[0] + beta[1]*x_diff + beta[2]*x2_equal)\n",
    "# probs = expit(beta[0] + beta[1]*x_diff + beta[2]*x2_equal)\n",
    "# probs = expit(beta[0] + beta[1]*x_diff + 2*x2_or)\n",
    "probs = expit(-2.5  + 1.5*x2_or)\n",
    "\n",
    "plt.figure(figsize=(3,2))\n",
    "plt.scatter(x_diff,probs, c=x2_or)\n",
    "\n",
    "# Generate adj. matrix\n",
    "mat = np.zeros((n,n))\n",
    "# idx_lt = np.tril_indices(n=n,k=-1)\n",
    "idx_ut = np.triu_indices(n=n,k=1)\n",
    "# edges = rng.binomial(n=1,p=0.5,size=tril_dim)\n",
    "edges = rng.binomial(n=1,p=probs,size=tril_dim)\n",
    "\n",
    "mat[idx_ut] = edges\n",
    "# mat[idx_lt] = edges\n",
    "mat = mat + mat.T\n",
    "triu_vals = mat[np.triu_indices(n,k=1)]\n",
    "\n",
    "\n",
    "\n"
   ],
   "metadata": {
    "collapsed": false,
    "ExecuteTime": {
     "end_time": "2024-08-05T14:17:25.531470Z",
     "start_time": "2024-08-05T14:17:02.593670Z"
    }
   },
   "id": "a8ada7876be596ce",
   "outputs": [
    {
     "data": {
      "text/plain": [
       "<Figure size 300x200 with 1 Axes>"
      ],
      "image/png": "[encoded data removed]"
     },
     "metadata": {
      "image/png": {
       "width": 311,
       "height": 211
      }
     },
     "output_type": "display_data"
    }
   ],
   "execution_count": 5
  },
  {
   "cell_type": "code",
   "source": [
    "# def eigen_centrality(adj_mat):\n",
    "#     sparse_mat = sp.sparse.csr_matrix(adj_mat)\n",
    "#     _, eig_vec = sp.sparse.linalg.eigs(sparse_mat, k=1, which = 'LR')\n",
    "#     largest_v = eig_vec.flatten().real\n",
    "#     norm = np.sign(largest_v.sum()) * sp.linalg.norm(largest_v)\n",
    "#     return largest_v / norm\n",
    "\n",
    "@jit\n",
    "def eigen_centrality(adj_mat):\n",
    "    # Ensure the matrix is symmetric\n",
    "    # adj_mat = (adj_mat + adj_mat.T) / 2\n",
    "    \n",
    "    # Compute the eigenvalues and eigenvectors\n",
    "    eigenvalues, eigenvectors = jnp.linalg.eigh(adj_mat)\n",
    "    \n",
    "    # Find the index of the largest eigenvalue\n",
    "    largest_eigenvalue_index = jnp.argmax(eigenvalues)\n",
    "    \n",
    "    # Get the corresponding eigenvector\n",
    "    largest_eigenvector = eigenvectors[:, largest_eigenvalue_index]\n",
    "    \n",
    "    # Scale the eigenvector\n",
    "    norm = jnp.sign(largest_eigenvector.sum()) * jnp.linalg.norm(largest_eigenvector)\n",
    "    scaled_eigenvector = largest_eigenvector / norm\n",
    "    \n",
    "    return scaled_eigenvector"
   ],
   "metadata": {
    "collapsed": false,
    "ExecuteTime": {
     "end_time": "2024-08-05T14:17:25.538129Z",
     "start_time": "2024-08-05T14:17:25.531470Z"
    }
   },
   "id": "d3909316e33a5898",
   "outputs": [],
   "execution_count": 6
  },
  {
   "cell_type": "code",
   "source": [
    "eigen_center = eigen_centrality(mat)\n",
    "# eigen_center_jx = eigen_centrality_jax(mat)\n",
    "\n",
    "# print(jnp.array_equal(jnp.round(eigen_center,5), jnp.round(eigen_center_jx,5)))\n",
    "\n",
    "# plt.figure(figsize=(3,2))\n",
    "# plt.scatter(eigen_center, eigen_center_jx)\n"
   ],
   "metadata": {
    "collapsed": false,
    "ExecuteTime": {
     "end_time": "2024-08-05T14:17:25.714068Z",
     "start_time": "2024-08-05T14:17:25.541136Z"
    }
   },
   "id": "e6edcd32fc256128",
   "outputs": [],
   "execution_count": 7
  },
  {
   "metadata": {},
   "cell_type": "code",
   "source": [
    "plt.figure(figsize=(3,2))\n",
    "print(np.mean(np.sum(mat,axis=1)))\n",
    "plt.hist(np.sum(mat,axis=1))"
   ],
   "id": "c493b8053c346523",
   "outputs": [],
   "execution_count": null
  },
  {
   "metadata": {},
   "cell_type": "code",
   "source": [
    "def ecdf(data):\n",
    "    \"\"\"Compute ECDF for a one-dimensional array of measurements.\"\"\"\n",
    "    n = len(data)\n",
    "    x = np.sort(data)\n",
    "    y = np.arange(1, n+1) / n\n",
    "    return x, y\n",
    "\n",
    "deg_, cdf_ = ecdf(np.sum(mat,axis=1))\n",
    "\n",
    "plt.figure(figsize=(4, 3))\n",
    "plt.scatter(deg_, 1-cdf_)\n",
    "plt.xscale('log')\n",
    "plt.yscale('log')\n",
    "plt.xlabel('Data Points')\n",
    "plt.ylabel('ECDF')\n",
    "plt.title('Empirical Cumulative Distribution Function (Log-Log Scale)')\n",
    "plt.grid(True, which='both', linestyle='--')\n",
    "plt.show()\n"
   ],
   "id": "5226a43352231b05",
   "outputs": [],
   "execution_count": null
  },
  {
   "cell_type": "code",
   "source": [
    "print(\"sum eigen\", np.sum(eigen_center))\n",
    "plt.figure(figsize=(3,2))\n",
    "plt.hist(eigen_center)"
   ],
   "metadata": {
    "collapsed": false
   },
   "id": "9482eb4e7666de9f",
   "outputs": [],
   "execution_count": null
  },
  {
   "cell_type": "code",
   "source": [
    "# mat_net = nx.from_numpy_array(mat)\n",
    "# \n",
    "# degrees = np.array([degree for _, degree in mat_net.degree()])\n",
    "# deg_center = np.array(list(nx.degree_centrality(mat_net).values()))\n",
    "# eigen_center = np.array(list(nx.eigenvector_centrality_numpy(mat_net).values()))\n",
    "# closeness = np.array(list(nx.closeness_centrality(mat_net).values()))\n",
    "# betweeness = np.array(list(nx.betweenness_centrality(mat_net).values()))\n",
    "# # flow_betweeness = np.array(list(nx.current_flow_betweenness_centrality(mat_net).values()))\n",
    "# # flow_betweeness = np.array(list(nx.approximate_current_flow_betweenness_centrality(mat_net,epsilon=0.1).values()))\n",
    "# triangles = np.array(list(nx.triangles(mat_net).values()))\n",
    "# clustering = np.array(list(nx.clustering(mat_net).values()))\n"
   ],
   "metadata": {
    "collapsed": false
   },
   "id": "f31eba8ce35f20f0",
   "outputs": [],
   "execution_count": null
  },
  {
   "cell_type": "code",
   "source": [
    "# print(min(betweeness),max(betweeness))\n",
    "# print(min(eigen_center),max(eigen_center))\n",
    "# print(min(triangles),max(triangles))\n"
   ],
   "metadata": {
    "collapsed": false
   },
   "id": "1b92b4a2d2e076bc",
   "outputs": [],
   "execution_count": null
  },
  {
   "cell_type": "code",
   "source": [
    "@jit\n",
    "def zeigen_value(Z, eig_cen, A_mat):\n",
    "    if Z.ndim == 1:  # Case when Z has shape (N,)\n",
    "        return jnp.dot(A_mat, Z * eig_cen)\n",
    "    elif Z.ndim == 2:  # Case when Z has shape (M, N)\n",
    "        return jnp.dot(Z * eig_cen, A_mat.T)  # Transpose A_mat for correct dimensions\n",
    "    # return jnp.dot(Z*eig_cen, A_mat.T)\n",
    "    # return jnp.dot(A_mat, Z*eig_cen)\n",
    "    # return jnp.dot(A_mat, Z*eig_cen)\n",
    "    # return jnp.dot(A_mat, jnp.multiply(Z, eig_cen))"
   ],
   "metadata": {
    "collapsed": false,
    "ExecuteTime": {
     "end_time": "2024-08-05T14:17:25.723155Z",
     "start_time": "2024-08-05T14:17:25.714068Z"
    }
   },
   "id": "1d2f687789ca8e3a",
   "outputs": [],
   "execution_count": 8
  },
  {
   "cell_type": "code",
   "source": [
    "# Create outcome data\n",
    "\n",
    "Z = rng.binomial(n=1,p=0.5,size=n)\n",
    "degrees = np.sum(mat,1)\n",
    "exposures = np.dot(mat,Z) / degrees\n",
    "exposures_inv_deg = np.dot(mat,Z*degrees)\n",
    "# print(pd.DataFrame(exposures).describe())\n",
    "# x_neighbors = np.dot(mat,x) / degrees\n",
    "# print(pd.DataFrame(x_neighbors).describe())\n",
    "# print(pd.DataFrame(x).describe())\n",
    "\n",
    "# Zeigen = np.dot(mat, Z*eigen_center)\n",
    "Zeigen = zeigen_value(Z, eigen_center, mat)\n",
    "\n",
    "print(pd.DataFrame({\"zeigen\": Zeigen,\"expos\" : exposures, \"exposinv\":exposures_inv_deg,\n",
    "                    \"Z\" : Z}).describe())\n",
    "print(np.corrcoef(Zeigen,exposures))\n",
    "# expos_binary = exposures > 0.5\n",
    "# print(np.mean(expos_binary))\n",
    "\n",
    "plt.figure(figsize=(4,3))\n",
    "plt.hist(Zeigen)\n",
    "# plt.scatter(exposures, Zeigen)\n",
    "# plt.scatter(exposures_inv_deg, exposures)"
   ],
   "metadata": {
    "collapsed": false,
    "ExecuteTime": {
     "end_time": "2024-08-05T14:17:26.422040Z",
     "start_time": "2024-08-05T14:17:25.723155Z"
    }
   },
   "id": "43ffa2ae3e1b333f",
   "outputs": [
    {
     "name": "stdout",
     "output_type": "stream",
     "text": [
      "           zeigen       expos     exposinv           Z\n",
      "count  500.000000  500.000000   500.000000  500.000000\n",
      "mean     1.403247    0.521619  1904.006000    0.514000\n",
      "std      0.487922    0.067645   585.478478    0.500305\n",
      "min      0.467793    0.312500   626.000000    0.000000\n",
      "25%      1.112251    0.474671  1529.750000    0.000000\n",
      "50%      1.292473    0.520833  1790.500000    1.000000\n",
      "75%      1.503333    0.566038  2088.250000    1.000000\n",
      "max      3.533144    0.720000  4417.000000    1.000000\n",
      "[[1.         0.30939184]\n",
      " [0.30939184 1.        ]]\n"
     ]
    },
    {
     "data": {
      "text/plain": [
       "(array([  9.,  99., 205., 107.,  28.,  11.,  14.,  17.,   9.,   1.]),\n",
       " array([0.46779284, 0.77432799, 1.08086312, 1.38739824, 1.69393337,\n",
       "        2.00046849, 2.30700374, 2.61353874, 2.92007399, 3.22660899,\n",
       "        3.53314424]),\n",
       " <BarContainer object of 10 artists>)"
      ]
     },
     "execution_count": 9,
     "metadata": {},
     "output_type": "execute_result"
    },
    {
     "data": {
      "text/plain": [
       "<Figure size 400x300 with 1 Axes>"
      ],
      "image/png": "[encoded data removed]"
     },
     "metadata": {
      "image/png": {
       "width": 411,
       "height": 311
      }
     },
     "output_type": "display_data"
    }
   ],
   "execution_count": 9
  },
  {
   "cell_type": "code",
   "source": [
    "oned = zeigen_value(Z, eigen_center, mat)\n",
    "multid = zeigen_value(Z.reshape((1,n)), eigen_center, mat)\n",
    "multid_m = jnp.mean(multid, axis=0)\n",
    "print(oned.shape)\n",
    "print(multid.shape)\n",
    "print(multid_m.shape)\n",
    "print(jnp.array_equal(jnp.round(oned, 4), jnp.round(multid_m,4)))"
   ],
   "metadata": {
    "collapsed": false
   },
   "id": "7bf543e167904a7d",
   "outputs": [],
   "execution_count": null
  },
  {
   "metadata": {},
   "cell_type": "code",
   "source": [
    "print(np.mean((0.7 < Zeigen) & (Zeigen < 1)))\n",
    "print(np.mean((0.8 >= Zeigen)))\n",
    "print(np.mean((1 <= Zeigen)))\n",
    "print(np.mean((1.7 <= Zeigen)))\n",
    "print(np.mean((1.2 > Zeigen)))\n"
   ],
   "id": "3db65867baa38287",
   "outputs": [],
   "execution_count": null
  },
  {
   "cell_type": "code",
   "source": [
    "s = np.sort(Zeigen)\n",
    "# f1 = 2.5*s\n",
    "# f2 = 0*(x < 0.25) + 0.2*np.exp(2*x)*(x>=0.25)\n",
    "# f2 = 0*(s < 0.2) + 5*2.5*np.power(s-0.2, 2)*(s>=0.2)\n",
    "\n",
    "def f2(s):\n",
    "    return np.piecewise(s, \n",
    "                        # [s < .8, (s >= .8) & (s < 1), s >= 1], \n",
    "                        # [s <= 0.6, (s < 1) & (s > 0.6), s >= 1], \n",
    "                        [s <= 1.3, s > 1.3], \n",
    "                        # [lambda s: 0, lambda s: 15*2.5*np.power(s-0.3, 2), 15*2.5*np.power(0.6-0.3, 2)])\n",
    "                        # [lambda s: np.maximum(5*2.5*(s-1), 0), lambda s: np.maximum(5*2.5*0.4 - 2.5*2.5*(s - 1), 0)])\n",
    "                        [lambda s: np.maximum(6*2.5*(s-.8), 0), lambda s: np.maximum(6*2.5*0.5 - 3*2.5*(s - 1.3), 0)])\n",
    "\n",
    "def f(x):\n",
    "    # return 2.5*(np.sin(10 * x) + np.cos(3 * x))\n",
    "    # return 2.5*(np.sin(4*np.pi * x) + np.log(x+1))\n",
    "    # return 1.5*2.5*(np.sin(2.5*(x-.25)) + np.log(x + 1))\n",
    "    return 1.2*2.5*(np.sin(4*(x-np.pi)) + np.log(x + 1))\n",
    "\n",
    "\n",
    "f0 = 2.5*s\n",
    "f1 = f(s)\n",
    "f2v= f2(s)\n",
    "# f3 = 2.5*2 / (1+np.exp(-10*(s-0.8)))\n",
    "# f3 = 2.5*2.5 / (1+np.exp(-5*s + 7.5))\n",
    "# f3 = np.exp(2.5*s)/150\n",
    "f3 = np.maximum(-5*np.power(s-1,2) + 2.5*3*np.log(s+1), 0)\n",
    "f4 = np.maximum(0, np.minimum(10*2.5*(s-1.4),10*2.5*0.2))\n",
    "print(np.mean(f2v), np.median(f2v))\n",
    "# f4 = np.maximum(0, 2*2.5*(s-1.5))\n",
    "# f3 = -2.5*3*np.power(s- 1,2) + 3*2.5*s\n",
    "\n",
    "plt.figure(figsize=(3,2))\n",
    "plt.scatter(s,f0, c=\"darkgreen\")\n",
    "# plt.scatter(s,f1, c=\"red\")\n",
    "plt.scatter(s,s*Z + f4, c=\"red\")\n",
    "plt.scatter(s,f2v, c=\"blue\")\n",
    "# plt.scatter(s,f3, c=\"violet\")\n",
    "plt.scatter(s,f4, c=\"orange\")\n",
    "# plt.axvline(0.25, c=\"black\")\n"
   ],
   "metadata": {
    "collapsed": false
   },
   "id": "ee45364d7d4d32ed",
   "outputs": [],
   "execution_count": null
  },
  {
   "metadata": {},
   "cell_type": "code",
   "source": "f2(np.array(Zeigen))",
   "id": "e46cbaa9b4aa3d50",
   "outputs": [],
   "execution_count": null
  },
  {
   "cell_type": "code",
   "source": [
    "# alpha = -.5, 2, 1, -1\n",
    "# alpha = -1, 3, 1, 0.5, -0.25\n",
    "# alpha = -.5, 2, .5, 0.25, -0.25\n",
    "# alpha = -.5, 2, 0.5, -0.25, -0.25\n",
    "# alpha = -2, 3, 1, -.5\n",
    "# alpha = -1, 3, 2, -.25, 5, 5 \n",
    "# alpha = -1, 3, -.25, 2.5, 2 \n",
    "\n",
    "def f_zeigen(s, param):\n",
    "    # Conditions\n",
    "    cond1 = s <= 1.3\n",
    "    # cond1 = s < .8\n",
    "    # cond2 = (s >= .6) & (s < 1)\n",
    "    # cond3 = s >= 1\n",
    "    # Functions\n",
    "    # f1 = 0\n",
    "    # f1 = 4 * param * s\n",
    "    f2 = np.maximum(6 * param * (s - .8) ,0)\n",
    "    f3 = np.maximum(15*param*(1.3-0.6) - 3*param*(s-1.3), 0)\n",
    "    # f2 = 4 * param * (0.9 - 0.3)\n",
    "    # f3 = 10 * param * (1 - .8)\n",
    "    # Using jnp.where to implement piecewise function\n",
    "    result = jnp.where(cond1, f2, f3)\n",
    "    # result = jnp.where(cond1, f1, jnp.where(cond2, f2, f3))\n",
    "    return result\n",
    "\n",
    "# alpha = -1, 3, -.25, 3, 2.5 \n",
    "# alpha = -1, 3, -.25, 0, 2.5 \n",
    "alpha = -1, 3, -.25, 1, 2.5 \n",
    "\n",
    "def gen_y(Z,x, Zeigen, alpha, lin=True):\n",
    "    epsi = rng.normal(loc=0,scale=1,size=n)\n",
    "    dflin = np.transpose(np.array([[1]*n, Z, x, Z*x]))\n",
    "    if lin:\n",
    "        mean_y = np.dot(np.column_stack((dflin,Zeigen)), alpha)\n",
    "        # mean_y += df_lin[:,1]*df_lin[:,2]\n",
    "    else:\n",
    "        mean_lin = np.dot(dflin[:,0:3], alpha[0:3]) \n",
    "        # mean_lin = np.dot(dflin, alpha[0:4]) \n",
    "        # mean_nonlin = 0*(Zeigen < 0.2) + (alpha[3]*3)*(Zeigen-0.2)*(Zeigen>=0.2)        \n",
    "        # mean_nonlin = 0*(Zeigen < 0.2)  - alpha[3]*(np.log(1-(Zeigen-0.2)/1.1))*(Zeigen>=0.2)        \n",
    "        # mean_nonlin = alpha[3]*1.5 / (1+np.exp(-15*(Zeigen-0.4)))        \n",
    "        # mean_nonlin = alpha[3]*(np.sin(10 * Zeigen) + np.log(Zeigen + 1))\n",
    "        # mean_nonlin = 1.5*alpha[4]*(np.sin(2.5 * (Zeigen-.25)) + np.log(Zeigen + 1))        \n",
    "        # mean_nonlin = 1.2*alpha[4]*(np.sin(4 * (Zeigen - np.pi)) + np.log(Zeigen + 1))\n",
    "        # mean_nonlin = np.exp(alpha[4]*Zeigen)/40    \n",
    "        # mean_nonlin =  -3*alpha[4]*np.power(Zeigen-1,2) + 3*alpha[4]*Zeigen \n",
    "        # mean_nonlin = f_zeigen(Zeigen, alpha[4])        \n",
    "        # mean_nonlin = np.maximum(-2*alpha[4]*np.power(Zeigen-1.2,2) + 2*alpha[4]*Zeigen, 0)        \n",
    "        # mean_nonlin = np.maximum(-2*alpha[4]*np.power(Zeigen-1.5,2) + 3*alpha[4]*np.log(Zeigen+1), 0)        \n",
    "        mean_nonlin = np.maximum(0, np.minimum(10*alpha[4]*(Zeigen-1.4), 10*alpha[4]*0.2))\n",
    "        mean_nonlin += Z*Zeigen\n",
    "        # mean_nonlin = np.maximum(0, 2*alpha[4]*(Zeigen-1.5))\n",
    "        # mean_nonlin = 2*alpha[4] / (1+np.exp(-5*Zeigen + 7.5))  \n",
    "        # mean_nonlin = alpha[3]*(np.sin(15 * Zeigen) + 2*np.log(Zeigen + 1))        \n",
    "        # mean_nonlin = alpha[3]*(np.sin(4*np.pi * Zeigen) + np.log(Zeigen + 1))       \n",
    "        xz_interaction_sq = np.power(Z*x)\n",
    "        mean_y = mean_lin + mean_nonlin + alpha[3]*xz_interaction_sq \n",
    "        # mean_y = mean_lin + mean_nonlin\n",
    "\n",
    "    Y = mean_y + epsi\n",
    "    return Y, epsi\n",
    "\n"
   ],
   "metadata": {
    "collapsed": false,
    "ExecuteTime": {
     "end_time": "2024-08-05T14:19:45.267326Z",
     "start_time": "2024-08-05T14:19:45.237111Z"
    }
   },
   "id": "bbb9c575f0152175",
   "outputs": [],
   "execution_count": 15
  },
  {
   "metadata": {
    "ExecuteTime": {
     "end_time": "2024-08-05T14:19:46.147842Z",
     "start_time": "2024-08-05T14:19:45.826905Z"
    }
   },
   "cell_type": "code",
   "source": [
    "# df_array = np.transpose(np.array([[1]*n,Z,exposures,x,eigen_center,betweeness]))\n",
    "# df_array = np.transpose(np.array([[1]*n, Z, x, Zeigen,exposures]))\n",
    "\n",
    "# df_array = np.transpose(np.array([[1]*n, Z, Zeigen]))\n",
    "df_array = np.transpose(np.array([[1]*n, Z, x, Z*x, Zeigen]))\n",
    "# df_array = np.transpose(np.array([[1]*n, Z, x,x2, Zeigen]))\n",
    "\n",
    "df_lin = np.transpose(np.array([[1]*n, Z, x, x2]))\n",
    "# mean_y = np.dot(df_array,alpha)\n",
    "# # Y = alpha[0] + alpha[1]*Z + alpha[2]*exposures + alpha[3]*x + alpha[4] + rng.normal(loc=0,scale=1,size=n)\n",
    "# epsilon = rng.normal(loc=0,scale=1,size=n)\n",
    "# Y = mean_y + epsilon\n",
    "\n",
    "# Y, epsilon = gen_y(df_lin, Zeigen, alpha, lin=True)\n",
    "# Y, epsilon = gen_y(df_lin, Zeigen, alpha, lin=False)\n",
    "# Y, epsilon = gen_y(df_lin, Zeigen, alpha, lin=False)\n",
    "Y, epsilon = gen_y(Z, x, Zeigen, alpha, lin=True)\n",
    "\n",
    "plt.figure(figsize=(3,2))\n",
    "plt.hist(Y)\n"
   ],
   "id": "862926e231d08a6f",
   "outputs": [
    {
     "data": {
      "text/plain": [
       "(array([  1.,   8.,  57., 148., 110.,  81.,  46.,  34.,  11.,   4.]),\n",
       " array([-3.51638209, -1.89568988, -0.27499768,  1.34569453,  2.96638674,\n",
       "         4.58707895,  6.20777116,  7.82846337,  9.44915558, 11.06984779,\n",
       "        12.69053999]),\n",
       " <BarContainer object of 10 artists>)"
      ]
     },
     "execution_count": 16,
     "metadata": {},
     "output_type": "execute_result"
    },
    {
     "data": {
      "text/plain": [
       "<Figure size 300x200 with 1 Axes>"
      ],
      "image/png": "[encoded data removed]"
     },
     "metadata": {
      "image/png": {
       "width": 311,
       "height": 211
      }
     },
     "output_type": "display_data"
    }
   ],
   "execution_count": 16
  },
  {
   "cell_type": "code",
   "source": [
    "plt.figure(figsize=(4,3))\n",
    "# plt.scatter(exposures,betweeness)\n",
    "# plt.scatter(exposures,eigen_center)\n",
    "\n",
    "# print(np.corrcoef(eigen_center,Zeigen))\n",
    "print(np.corrcoef(Zeigen,Y))\n",
    "# plt.scatter(eigen_center,Zeigen)\n",
    "# plt.scatter(Zeigen,Y,c=Z)\n",
    "# plt.scatter(Zeigen,Y-epsilon,c=Z)\n",
    "#create basic scatterplot\n",
    "# plt.plot(Zeigen, Y, 'o')\n",
    "# plt.plot(Zeigen, Y, 'o')\n",
    "plt.scatter(Zeigen, Y, c= Z)\n",
    "#obtain m (slope) and b(intercept) of linear regression line\n",
    "m, b = np.polyfit(Zeigen, Y, 1)\n",
    "#add linear regression line to scatterplot \n",
    "plt.plot(Zeigen, m*Zeigen+b)\n",
    "\n",
    "# plt.scatter(exposures,Zeigen)\n",
    "# plt.scatter(exposures/degrees,Zeigen)\n",
    "# plt.scatter(betweeness,eigen_center)\n",
    "# plt.hist(Zeigen)\n",
    "# plt.hist(exposures/degrees)"
   ],
   "metadata": {
    "collapsed": false,
    "ExecuteTime": {
     "end_time": "2024-08-05T14:19:48.457492Z",
     "start_time": "2024-08-05T14:19:47.948818Z"
    }
   },
   "id": "9013f4ab2398044e",
   "outputs": [
    {
     "name": "stdout",
     "output_type": "stream",
     "text": [
      "[[1.        0.4332217]\n",
      " [0.4332217 1.       ]]\n"
     ]
    },
    {
     "data": {
      "text/plain": [
       "[<matplotlib.lines.Line2D at 0x1a3ba6db190>]"
      ]
     },
     "execution_count": 17,
     "metadata": {},
     "output_type": "execute_result"
    },
    {
     "data": {
      "text/plain": [
       "<Figure size 400x300 with 1 Axes>"
      ],
      "image/png": "[encoded data removed]"
     },
     "metadata": {
      "image/png": {
       "width": 411,
       "height": 311
      }
     },
     "output_type": "display_data"
    }
   ],
   "execution_count": 17
  },
  {
   "cell_type": "code",
   "source": [
    "DG = nx.from_numpy_array(mat)\n",
    "nx.set_node_attributes(DG, Z, \"Treatments\") \n",
    "node_sizes = [DG.degree(node) for node in DG.nodes()]\n",
    "# nx.draw(DG,node_color = Z, node_size=node_sizes, width=0.05)\n",
    "# nx.draw(DG, nx.kamada_kawai_layout(DG), node_color = eigen_center, node_size=node_sizes, width=0.05)\n",
    "nx.draw(DG, nx.kamada_kawai_layout(DG), node_color = Zeigen, node_size=node_sizes, width=0.05)\n",
    "# nx.draw(DG, nx.shell_layout(DG), node_color = Zeigen, node_size=node_sizes, width=0.05)\n",
    "plt.legend()\n",
    "plt.show()"
   ],
   "metadata": {
    "collapsed": false
   },
   "id": "e14827155b8509da",
   "outputs": [],
   "execution_count": null
  },
  {
   "cell_type": "code",
   "source": [
    "# Create noisy measurement of `mat`\n",
    "# gamma1 = 0.25  # Remove existing edge with prob `alph`\n",
    "# gamma1 = 0.25  # Remove existing edge with prob `alph`\n",
    "# gamma2 = 0.01\n",
    "# \n",
    "# # gamma0 = gamma1/5 # add non-existing edge with prob `bet` \n",
    "# # gamma0 = 0.05 # add non-existing edge with prob `bet` \n",
    "# gamma0 = 0.025 # add non-existing edge with prob `bet` \n",
    "# \n",
    "# obs_mat = np.zeros((n,n)) # create nXn matrix of zeros\n",
    "# # obs_mat[np.tril_indices(n=n,k=-1)] = tril_vals # init as true network\n",
    "# obs_mat[np.triu_indices(n=n,k=1)] = triu_vals # init as true network\n",
    "# for i in range(0,n): # add noise\n",
    "#     for j in range(i+1,n):\n",
    "#         if mat[i,j] == 1:\n",
    "#             # obs_mat[i,j] = rng.binomial(n=1,p=1-gamma1,size=1)[0] # retain existing edge w.p. `1-gamma1`\n",
    "#             obs_mat[i,j] = rng.binomial(n=1,p=1-expit(2 - 3*x_diff[]),size=1)[0] # retain existing edge w.p. `1-gamma1`\n",
    "#         else:\n",
    "#             obs_mat[i,j] = rng.binomial(n=1,p=gamma0,size=1)[0] # add non-existing edge w.p. `gamma0` \n",
    "#             \n",
    "# obs_mat = obs_mat + obs_mat.T\n",
    "# triu_obs = obs_mat[np.triu_indices(n=n,k=1)]\n",
    "# # tril_obs = obs_mat[np.tril_indices(n=n,k=-1)]\n"
   ],
   "metadata": {
    "collapsed": false
   },
   "id": "9957375b934c1830",
   "outputs": [],
   "execution_count": null
  },
  {
   "metadata": {},
   "cell_type": "code",
   "source": "print(logit(1-0.25), expit(1.1), expit(-1), expit(-3.5), expit(-1))",
   "id": "1fc04f516acd1496",
   "outputs": [],
   "execution_count": null
  },
  {
   "metadata": {
    "ExecuteTime": {
     "end_time": "2024-08-05T14:19:51.434506Z",
     "start_time": "2024-08-05T14:19:51.298912Z"
    }
   },
   "cell_type": "code",
   "source": [
    "# prob_nois = triu_vals*(1-0.3) + (1-triu_vals)*expit(-1 - .25*x_diff)\n",
    "# logit_nois = triu_vals*logit(1-0.25) + (1-triu_vals)*(-1.5 - .1*x_diff + .5*x2_equal)\n",
    "# logit_nois = triu_vals*logit(1-0.25) + (1-triu_vals)*(-2.5 - 1*x2_equal)\n",
    "# logit_nois = triu_vals*logit(1-0.2) + (1-triu_vals)*(-2 + 1*x2_equal + 0.5*x2_or)\n",
    "# logit_nois = triu_vals*logit(1-0.2) + (1-triu_vals)*(-2 + 1*x2_equal + 0.5*x2_or)\n",
    "# logit_nois = triu_vals*logit(0.75) + (1-triu_vals)*(-2 + 1.5*x2_or)\n",
    "# logit_nois = triu_vals*logit(0.75) + (1-triu_vals)*(-2 - .15*x_diff)\n",
    "logit_nois = triu_vals*1.1 + (1-triu_vals)*(-1*x_diff)\n",
    "# logit_nois = triu_vals*1.1 + (1-triu_vals)*(-2)\n",
    "# logit_nois = triu_vals*logit(0.75) + (1-triu_vals)*(-4  - .5*x_diff)\n",
    "\n",
    "# prob_nois = triu_vals*(1-0.25) + (1-triu_vals)*0.05\n",
    "obs_mat = np.zeros((n,n))\n",
    "# idx_lt = np.tril_indices(n=n,k=-1)\n",
    "idx_ut = np.triu_indices(n=n,k=1)\n",
    "# edges = rng.binomial(n=1,p=0.5,size=tril_dim)\n",
    "edges_noisy = rng.binomial(n=1,p=expit(logit_nois),size=tril_dim)\n",
    "\n",
    "obs_mat[idx_ut] = edges_noisy\n",
    "# mat[idx_lt] = edges\n",
    "obs_mat = obs_mat + obs_mat.T\n",
    "triu_obs = obs_mat[np.triu_indices(n,k=1)]\n",
    "\n",
    "print(np.array_equal(triu_obs, edges_noisy))\n"
   ],
   "id": "7fd2558a6cc65c87",
   "outputs": [
    {
     "name": "stdout",
     "output_type": "stream",
     "text": [
      "True\n"
     ]
    }
   ],
   "execution_count": 18
  },
  {
   "cell_type": "code",
   "source": [
    "# Plot noisy observed network \n",
    "# DG_noise = nx.from_numpy_array(obs_mat)\n",
    "# nx.draw(DG_noise, with_labels=True,  node_color = Z)\n",
    "# plt.show()\n",
    "plt.figure(figsize=(4,3))\n",
    "print(np.mean(np.sum(obs_mat,1)))\n",
    "plt.hist(np.sum(obs_mat,1))"
   ],
   "metadata": {
    "collapsed": false
   },
   "id": "2af4da8a120d34db",
   "outputs": [],
   "execution_count": null
  },
  {
   "metadata": {},
   "cell_type": "code",
   "source": [
    "plt.figure(figsize=(4,3))\n",
    "plt.scatter(np.sum(obs_mat,1), np.sum(mat,1))"
   ],
   "id": "59464224c5c24205",
   "outputs": [],
   "execution_count": null
  },
  {
   "cell_type": "code",
   "source": [
    "trils_pd = pd.DataFrame({'true' : triu_vals, 'obs' : triu_obs})\n",
    "print(pd.crosstab(index=trils_pd['true'], columns=trils_pd['obs']))\n"
   ],
   "metadata": {
    "collapsed": false
   },
   "id": "edb0b09737e7ec75",
   "outputs": [],
   "execution_count": null
  },
  {
   "metadata": {
    "ExecuteTime": {
     "end_time": "2024-08-05T14:19:54.896802Z",
     "start_time": "2024-08-05T14:19:54.301190Z"
    }
   },
   "cell_type": "code",
   "source": [
    " \n",
    "# obs_exposures = np.dot(obs_mat,Z)/np.sum(obs_mat,1) > 0.5\n",
    "# # obs_exposures = np.dot(obs_mat,Z)\n",
    "# obs_exposures = np.dot(obs_mat,Z)\n",
    "\n",
    "\n",
    "# obs_net = nx.from_numpy_array(obs_mat)\n",
    "# obs_deg = np.array([degree for _, degree in obs_net.degree()])\n",
    "# obs_betweeness = np.array(list(nx.betweenness_centrality(obs_net).values()))\n",
    "# obs_triangles = np.array(list(nx.triangles(obs_net).values()))\n",
    "# obs_eigen_center = np.array(list(nx.eigenvector_centrality_numpy(obs_net).values()))\n",
    "obs_degrees = np.sum(obs_mat,1)\n",
    "obs_eigen_cent = eigen_centrality(obs_mat)\n",
    "obs_exposures = np.dot(obs_mat,Z) / obs_degrees\n",
    "# obs_Zeigen = np.dot(obs_mat, Z*obs_eigen_cent)\n",
    "obs_Zeigen = zeigen_value(Z, obs_eigen_cent, obs_mat)\n",
    "\n",
    "# obs_df = np.transpose(np.array([[1]*n, Z, obs_exposures,x, obs_eigen_center, obs_betweeness]))\n",
    "# obs_df = np.transpose(np.array([[1]*n, Z, x, obs_Zeigen, obs_exposures]))\n",
    "\n",
    "# obs_df = np.transpose(np.array([[1]*n, Z, x, x2, obs_Zeigen]))\n",
    "obs_df = np.transpose(np.array([[1]*n, Z, x, Z*x, obs_Zeigen]))\n",
    "# obs_df = np.transpose(np.array([[1]*n, Z, obs_Zeigen]))\n",
    "\n",
    "print(pd.DataFrame(obs_Zeigen).describe())\n",
    "\n",
    "print(\"Corr obs~true exposures: \", np.corrcoef(exposures, obs_exposures)[1,0])\n",
    "print(\"Corr obs~true Zeigen: \", np.corrcoef(Zeigen, obs_Zeigen)[1,0])\n",
    "print(\"Corr true_zeigen~Y : \", np.corrcoef(Zeigen, Y)[1,0])\n",
    "print(\"Corr obs_zeigen~Y : \", np.corrcoef(obs_Zeigen, Y)[1,0])\n",
    "\n",
    "# obs_exposures = np.dot(obs_mat,Z)/np.sum(obs_mat,1)\n",
    "# expos_pd = pd.DataFrame({'true' : exposures, 'obs' : obs_exposures})\n",
    "# pd.crosstab(index=expos_pd['true'], columns=expos_pd['obs'])\n",
    "plt.figure(figsize=(4,3))\n",
    "# plt.scatter(obs_exposures,exposures, c=Z)\n",
    "# plt.scatter(obs_Zeigen,Zeigen, c=x2)\n",
    "\n",
    "\n",
    "plt.plot(obs_Zeigen, Y, 'o')\n",
    "#obtain m (slope) and b(intercept) of linear regression line\n",
    "m, b = np.polyfit(obs_Zeigen, Y, 1)\n",
    "#add linear regression line to scatterplot \n",
    "plt.plot(obs_Zeigen, m*obs_Zeigen+b)\n",
    "\n",
    "# plt.scatter(obs_Zeigen,Y, c=x2)"
   ],
   "id": "930b23ed1fd1ac16",
   "outputs": [
    {
     "name": "stdout",
     "output_type": "stream",
     "text": [
      "                0\n",
      "count  500.000000\n",
      "mean     2.240161\n",
      "std      0.670914\n",
      "min      0.744070\n",
      "25%      1.755414\n",
      "50%      2.290627\n",
      "75%      2.716364\n",
      "max      3.994508\n",
      "Corr obs~true exposures:  0.49308334555780614\n",
      "Corr obs~true Zeigen:  0.4740720874384769\n",
      "Corr true_zeigen~Y :  0.43322169805663374\n",
      "Corr obs_zeigen~Y :  0.16299297507693486\n"
     ]
    },
    {
     "data": {
      "text/plain": [
       "[<matplotlib.lines.Line2D at 0x1a3ba5306d0>]"
      ]
     },
     "execution_count": 19,
     "metadata": {},
     "output_type": "execute_result"
    },
    {
     "data": {
      "text/plain": [
       "<Figure size 400x300 with 1 Axes>"
      ],
      "image/png": "[encoded data removed]"
     },
     "metadata": {
      "image/png": {
       "width": 411,
       "height": 311
      }
     },
     "output_type": "display_data"
    }
   ],
   "execution_count": 19
  },
  {
   "metadata": {},
   "cell_type": "code",
   "source": [
    "import statsmodels.api as sm\n",
    "import statsmodels.formula.api as smf\n",
    "data = {\n",
    "    'obs_Zigen': obs_Zeigen,\n",
    "    'Zeigen': Zeigen,\n",
    "    'x2': x2,\n",
    "    'x': x\n",
    "}\n",
    "df = pd.DataFrame(data)\n",
    "formula = 'obs_Zigen ~ Zeigen + x2 + x'\n",
    "# Fit the model\n",
    "model = smf.ols(formula=formula, data=df).fit()\n",
    "# Print the summary of the regression\n",
    "print(model.summary())"
   ],
   "id": "858697b9f6b2fec5",
   "outputs": [],
   "execution_count": null
  },
  {
   "metadata": {},
   "cell_type": "code",
   "source": [
    "import statsmodels.api as sm\n",
    "import statsmodels.formula.api as smf\n",
    "data = {\n",
    "    'obs_Zigen': obs_Zeigen,\n",
    "    'Zeigen': Zeigen,\n",
    "    'x2': x2,\n",
    "    'x': x\n",
    "}\n",
    "df = pd.DataFrame(data)\n",
    "formula = 'Zeigen ~ x2 + x'\n",
    "# Fit the model\n",
    "model = smf.ols(formula=formula, data=df).fit()\n",
    "# Print the summary of the regression\n",
    "print(model.summary())"
   ],
   "id": "aa5f0c18c590f345",
   "outputs": [],
   "execution_count": null
  },
  {
   "metadata": {},
   "cell_type": "code",
   "source": [
    "print(np.corrcoef(obs_Zeigen, x2))\n",
    "print(np.corrcoef(Zeigen, x2))\n",
    "\n",
    "print(np.corrcoef(obs_Zeigen, x))\n",
    "print(np.corrcoef(Zeigen, x))\n"
   ],
   "id": "76bf8f7f6e3486ff",
   "outputs": [],
   "execution_count": null
  },
  {
   "cell_type": "markdown",
   "source": [],
   "metadata": {
    "collapsed": false
   },
   "id": "e17579ab8fecd8b8"
  },
  {
   "cell_type": "code",
   "source": [
    "# NumPyro model\n",
    "# def triu_to_mat(triu, n):\n",
    "#     adj_mat = jnp.zeros((n,n))\n",
    "#     idx_utri = np.triu_indices(n=n,k=1)\n",
    "#     adj_mat = adj_mat.at[idx_utri].set(triu) \n",
    "#     return adj_mat + adj_mat.T\n",
    "\n",
    "NN = n\n",
    "\n",
    "@jit\n",
    "def Triu_to_mat(triu_v):\n",
    "    adj_mat = jnp.zeros((NN,NN))\n",
    "    # idx_utri = np.triu_indices(n=NN,k=1)\n",
    "    adj_mat = adj_mat.at[np.triu_indices(n=NN,k=1)].set(triu_v) \n",
    "    return adj_mat + adj_mat.T\n",
    "\n",
    "@config_enumerate\n",
    "def network_model(X, X2, TriU):\n",
    "    # Network model\n",
    "    # beta_0 = numpyro.sample(\"beta0\",dist.Normal(0,10))\n",
    "    # beta_1 = numpyro.sample(\"beta1\",dist.Normal(0,10))\n",
    "    with numpyro.plate(\"beta_i\",2):\n",
    "        beta = numpyro.sample(\"beta\", dist.Normal(0,5))\n",
    "    # mu_net = beta[0] + beta[1]*X + beta[2]*X2\n",
    "    mu_net = beta[0] + beta[1]*X2\n",
    "    # triu_n = int(n*(n-1)/2)\n",
    "    \n",
    "    # gamma0 = numpyro.sample(\"gamma0\", dist.Uniform(low=0,high=0.5))\n",
    "    # gamma1 = numpyro.sample(\"gamma1\", dist.Uniform(low=0,high=0.5))\n",
    "    with numpyro.plate(\"gamma_i\",2):\n",
    "        gamma = numpyro.sample(\"gamma\", dist.Normal(0,5))\n",
    "    \n",
    "    # gamma0 = numpyro.sample(\"gamma0\", dist.Beta(2,5))\n",
    "    # gamma1 = numpyro.sample(\"gamma1\", dist.Beta(2,5))\n",
    "    \n",
    "    with numpyro.plate(\"A* and A\", TriU.shape[0]):\n",
    "        triu_star = numpyro.sample(\"triu_star\",dist.Bernoulli(logits=mu_net),\n",
    "                                   infer={\"enumerate\": \"parallel\"})\n",
    "        # prob_misspec = jnp.where(triu_star==1, 1-gamma1, gamma0)\n",
    "        # prob_misspec = triu_star*(1-gamma1) + (1-triu_star)*gamma0\n",
    "        # prob_misspec = triu_star*(1-gamma1) + (1-triu_star)*expit(gamma[0] + gamma[1]*X + gamma[2]*X2)\n",
    "        # logit_misspec = triu_star*gamma[0] + (1-triu_star)*(gamma[1] + gamma[2]*X + gamma[3]*X2)\n",
    "        # logit_misspec = triu_star*gamma[0] + (1-triu_star)*(gamma[1] + gamma[2]*X2)\n",
    "        # logit_misspec = jnp.where(triu_star, gamma[0], gamma[1]*X)\n",
    "        logit_misspec = triu_star*gamma[0] + (1-triu_star)*gamma[1]*X\n",
    "        # logit_misspec = triu_star*gamma[0] + (1-triu_star)*gamma[1]\n",
    "        # numpyro.sample(\"obs_triu\", dist.Bernoulli(probs = prob_misspec), obs = TriU)\n",
    "        numpyro.sample(\"obs_triu\", dist.Bernoulli(logits = logit_misspec), obs = TriU)\n",
    "        \n",
    "    # def triu_fn(carry, inp):\n",
    "    #     # print(\"Starting tril_fn carry no.\", carry)\n",
    "    #     # mu_n = inp\n",
    "    #     mu_n, triu_val = inp\n",
    "    #     # logp of A* \n",
    "    #     # with numpyro.plate(\"Edges A*\", triu_n):\n",
    "    #     triu_star = numpyro.sample(\"triu_star\",dist.Bernoulli(logits=mu_n),\n",
    "    #                                infer={\"enumerate\": \"parallel\"})\n",
    "    #     # print(\"Triu_Star shape (within) is\", triu_star.shape)\n",
    "    #     # # logp of A|A*\n",
    "    #     # # with numpyro.plate(\"A|A*\", 1):\n",
    "    #     prob_misspec = jnp.where(triu_star==1, 1-gamma1, gamma0)\n",
    "    #     # print(\"prob_misspec shape is: \", prob_misspec.shape)\n",
    "    #     # obs_triu_vals = numpyro.sample(\"obs_triu\", dist.Bernoulli(probs = prob_misspec), obs = TriU)\n",
    "    #     return carry+1, triu_star  \n",
    "    # \n",
    "    # sc_input = jnp.array((mu_net, TriU)).T\n",
    "    # _, triu_var = scan(triu_fn, jnp.array(0), sc_input)\n",
    "    # print(\"triu_var shape is: \", triu_var.shape)\n",
    "    # scan(triu_fn, jnp.array(0), sc_input)    \n",
    "    # \n",
    "\n",
    "\n",
    "# def outcome_model(Y,Z,X,A,n):\n",
    "\n",
    "def outcome_model(X, Y=None):\n",
    "    with numpyro.plate(\"Lin coef.\",X.shape[1]):\n",
    "        alpha = numpyro.sample(\"alpha\",dist.Normal(0,5))\n",
    "    sig = numpyro.sample(\"sig\",dist.HalfNormal(scale=2))\n",
    "    # sig = numpyro.sample(\"sig\",dist.Exponential(0.5))\n",
    "    \n",
    "    # expos = jnp.dot(A,Z)\n",
    "    # expos = (jnp.dot(A,Z) / jnp.sum(A,1)) > 0.5\n",
    "    # sum_expos = jnp.dot(A,Z)\n",
    "    # deg = jnp.sum(A,1)\n",
    "    # expos = jnp.where(jnp.equal(deg,0), 0, sum_expos/deg)\n",
    "    # mu_y = alpha[0] + alpha[1]*Z + alpha[2]*expos + alpha[3]*X \n",
    "    # mu_y = numpyro.deterministic(\n",
    "    #             \"mu_star\",\n",
    "    #              jnp.dot(X, alpha),\n",
    "    # )\n",
    "    mu_y = jnp.dot(X, alpha)\n",
    "    # mu_y = numpyro.deterministic(\"mu\", jnp.dot(X, alpha))\n",
    "    # mu_y = alpha[0] + alpha[1]*Z + alpha[2]*expos + alpha[3]*deg  + alpha[4]*X\n",
    "    # mu_y = alpha[0] + alpha[1]*Z + alpha[2]*expos + alpha[3]*expos*Z + alpha[4]*deg\n",
    "    # mu_y = alpha[0] + alpha[1]*Z + alpha[2]*expos + alpha[3]*expos*Z + alpha[4]*deg\n",
    "    with numpyro.plate(\"obs\",X.shape[0]):\n",
    "        numpyro.sample(\"Y\", dist.Normal(loc=mu_y,scale=sig), obs=Y)\n",
    "        \n",
    "        \n",
    "def HSGP_model(Xlin, Xgp, ell, m, Y=None, non_centered=True):\n",
    "    # --- Priors ---\n",
    "    magn = numpyro.sample(\"magn\", dist.HalfNormal(2))\n",
    "    length = numpyro.sample(\"length\", dist.HalfNormal(5))\n",
    "    sig = numpyro.sample(\"sig\", dist.HalfNormal(2))\n",
    "    # --- Parametrization ---\n",
    "    f = numpyro.deterministic(\n",
    "                  \"f_star\",\n",
    "                  hsgp_squared_exponential(\n",
    "                      x=Xgp, alpha=magn, length=length,\n",
    "                      ell=ell, m=m, non_centered=non_centered\n",
    "              ),\n",
    "    )\n",
    "    with numpyro.plate(\"Lin coef.\",Xlin.shape[1]):\n",
    "        alpha = numpyro.sample(\"alpha\",dist.Normal(0,5))\n",
    "    # mu = numpyro.deterministic(\"mu\", jnp.dot(Xlin, alpha) + f)\n",
    "    mu = numpyro.deterministic(\n",
    "            \"mu_star\",\n",
    "             jnp.dot(Xlin, alpha) + f,\n",
    "    )\n",
    "    # mu = beta0 + beta1*x_lin + f\n",
    "    # --- Likelihood ---\n",
    "    with numpyro.plate(\"obs\", Xlin.shape[0]):\n",
    "        # numpyro.sample(\"likelihood\", dist.Normal(loc=mu, scale=noise), obs=y)\n",
    "        # numpyro.sample(\"Y\", dist.Normal(loc=f, scale=noise), obs=y)\n",
    "        # numpyro.sample(\"Y\", dist.Normal(loc=mu, scale=sig), obs=Y, sample_shape=(Xgp.shape[0],))\n",
    "        numpyro.sample(\"Y\", dist.Normal(loc=mu, scale=sig), obs=Y)\n",
    "        \n",
    "        \n",
    "def HSGP_model_full(df1, df2, ell1, ell2, m, y=None):\n",
    "        amplitude1 = numpyro.sample(\"amplitude1\", dist.HalfNormal(2))\n",
    "        length1 = numpyro.sample(\"lengthscale1\", dist.HalfNormal(5))\n",
    "        amplitude2 = numpyro.sample(\"amplitude2\", dist.HalfNormal(2))\n",
    "        length2 = numpyro.sample(\"lengthscale2\", dist.HalfNormal(5))\n",
    "        noise = numpyro.sample(\"noise\", dist.HalfNormal(2))\n",
    "\n",
    "        f1 = numpyro.deterministic(\n",
    "            \"f1_star\",\n",
    "            hsgp_squared_exponential(\n",
    "                df1, alpha=amplitude1, length=length1, ell=ell1, m=m\n",
    "            ),\n",
    "        )\n",
    "        f2 = numpyro.deterministic(\n",
    "            \"f2_star\",\n",
    "            hsgp_squared_exponential(\n",
    "                df2, alpha=amplitude2, length=length2, ell=ell2, m=m\n",
    "            ),\n",
    "        )\n",
    "        intercept = numpyro.sample(\"intercept\",dist.Normal(0,5))\n",
    "        f = numpyro.deterministic(\"f_star\", intercept + f1 + f2)\n",
    "        site = \"y\" if y is not None else \"y_test\"\n",
    "        numpyro.sample(site, dist.Normal(f, noise), obs=y)\n",
    "        \n",
    "        \n",
    "@jax.tree_util.register_pytree_node_class\n",
    "class HSGPModel:\n",
    "    def __init__(self, m: int, L1: float | list[float | int], L2: float | list[float | int]) -> None:\n",
    "        self.m = m\n",
    "        self.L1 = L1\n",
    "        self.L2 = L2\n",
    "\n",
    "    def model(\n",
    "        self,\n",
    "        df1: jax.Array,\n",
    "        df2: jax.Array,\n",
    "        y: jax.Array | None = None,\n",
    "    ):\n",
    "        amplitude1 = numpyro.sample(\"amplitude1\", dist.HalfNormal(2))\n",
    "        length1 = numpyro.sample(\"lengthscale1\", dist.HalfNormal(5))\n",
    "        amplitude2 = numpyro.sample(\"amplitude2\", dist.HalfNormal(2))\n",
    "        length2 = numpyro.sample(\"lengthscale2\", dist.HalfNormal(5))\n",
    "        noise = numpyro.sample(\"noise\", dist.HalfNormal(2))\n",
    "\n",
    "        # f = numpyro.deterministic(\n",
    "        #     \"f_star\",\n",
    "        #     hsgp_squared_exponential(\n",
    "        #         df1, alpha=amplitude1, length=length1, ell=self.L1, m=self.m\n",
    "        #     ),\n",
    "        # )\n",
    "        # f1 = hsgp_squared_exponential(\n",
    "        #         df1, alpha=amplitude1, length=length1, ell=self.L1, m=self.m, i=str(1)\n",
    "        #     )\n",
    "        # \n",
    "        # f2 = hsgp_squared_exponential(\n",
    "        #         df2, alpha=amplitude2, length=length2, ell=self.L2, m=self.m, i=str(2)\n",
    "        #     )\n",
    "        \n",
    "        f1 = numpyro.deterministic(\n",
    "            \"f1_star\",\n",
    "            hsgp_squared_exponential(\n",
    "                df1, alpha=amplitude1, length=length1, ell=self.L1, m=self.m, i=str(1)\n",
    "            ),\n",
    "        )        \n",
    "        f2 = numpyro.deterministic(\n",
    "            \"f2_star\",\n",
    "            hsgp_squared_exponential(\n",
    "                df2, alpha=amplitude2, length=length2, ell=self.L2, m=self.m, i=str(2)\n",
    "            ),\n",
    "        )\n",
    "        # intercept = numpyro.sample(\"intercept\",dist.Normal(0,5))\n",
    "        f = numpyro.deterministic(\"f_star\", f1 + f2)\n",
    "        # f = numpyro.deterministic(\"f_star\", intercept + f1 + f2)\n",
    "        site = \"y\" if y is not None else \"y_test\"\n",
    "        numpyro.sample(site, dist.Normal(f, noise), obs=y)\n",
    "        # numpyro.sample(site, dist.Normal(f1 + f2 + intercept, noise), obs=y)\n",
    "\n",
    "    def tree_flatten(self):\n",
    "        children = ()  # arrays / dynamic values\n",
    "        aux_data = (\n",
    "            self.L1,\n",
    "            self.L2,\n",
    "            self.m,\n",
    "        )  # static values\n",
    "        return (children, aux_data)\n",
    "\n",
    "    @classmethod\n",
    "    def tree_unflatten(cls, aux_data, children):\n",
    "        return cls(*children, **aux_data)\n",
    "        \n",
    "        \n",
    "# numpyro.render_model(model, model_args=(Y,Z,x_diff,triu_obs,n), render_distributions=True)\n",
    "numpyro.render_model(network_model, model_args=(x_diff, x2_or ,triu_obs), render_distributions=True)\n",
    "# numpyro.render_model(model, model_args=(Y,Z,x_diff,tril_vals))"
   ],
   "metadata": {
    "collapsed": false,
    "ExecuteTime": {
     "end_time": "2024-08-05T14:32:48.938034Z",
     "start_time": "2024-08-05T14:32:48.636210Z"
    }
   },
   "id": "b16d10dbe16c0b09",
   "outputs": [
    {
     "data": {
      "image/svg+xml": "<?xml version=\"1.0\" encoding=\"UTF-8\" standalone=\"no\"?>\n<!DOCTYPE svg PUBLIC \"-//W3C//DTD SVG 1.1//EN\"\n \"http://www.w3.org/Graphics/SVG/1.1/DTD/svg11.dtd\">\n<!-- Generated by graphviz version 10.0.1 (20240210.2158)\n -->\n<!-- Pages: 1 -->\n<svg width=\"273pt\" height=\"267pt\"\n viewBox=\"0.00 0.00 273.12 266.50\" xmlns=\"http://www.w3.org/2000/svg\" xmlns:xlink=\"http://www.w3.org/1999/xlink\">\n<g id=\"graph0\" class=\"graph\" transform=\"scale(1 1) rotate(0) translate(4 262.5)\">\n<polygon fill=\"white\" stroke=\"none\" points=\"-4,4 -4,-262.5 269.12,-262.5 269.12,4 -4,4\"/>\n<g id=\"clust1\" class=\"cluster\">\n<title>cluster_beta_i</title>\n<polygon fill=\"none\" stroke=\"black\" points=\"23,-173.25 23,-249 93,-249 93,-173.25 23,-173.25\"/>\n<text text-anchor=\"middle\" x=\"68.12\" y=\"-179.7\" font-family=\"Times New Roman,serif\" font-size=\"14.00\">beta_i</text>\n</g>\n<g id=\"clust2\" class=\"cluster\">\n<title>cluster_gamma_i</title>\n<polygon fill=\"none\" stroke=\"black\" points=\"116,-83.75 116,-159.5 206,-159.5 206,-83.75 116,-83.75\"/>\n<text text-anchor=\"middle\" x=\"172.88\" y=\"-90.2\" font-family=\"Times New Roman,serif\" font-size=\"14.00\">gamma_i</text>\n</g>\n<g id=\"clust3\" class=\"cluster\">\n<title>cluster_A* and A</title>\n<polygon fill=\"none\" stroke=\"black\" points=\"8,-8 8,-159.5 108,-159.5 108,-8 8,-8\"/>\n<text text-anchor=\"middle\" x=\"73\" y=\"-14.45\" font-family=\"Times New Roman,serif\" font-size=\"14.00\">A* and A</text>\n</g>\n<!-- beta -->\n<g id=\"node1\" class=\"node\">\n<title>beta</title>\n<ellipse fill=\"white\" stroke=\"black\" cx=\"58\" cy=\"-223\" rx=\"27\" ry=\"18\"/>\n<text text-anchor=\"middle\" x=\"58\" y=\"-217.57\" font-family=\"Times New Roman,serif\" font-size=\"14.00\">beta</text>\n</g>\n<!-- triu_star -->\n<g id=\"node3\" class=\"node\">\n<title>triu_star</title>\n<ellipse fill=\"white\" stroke=\"black\" cx=\"58\" cy=\"-133.5\" rx=\"41.08\" ry=\"18\"/>\n<text text-anchor=\"middle\" x=\"58\" y=\"-128.07\" font-family=\"Times New Roman,serif\" font-size=\"14.00\">triu_star</text>\n</g>\n<!-- beta&#45;&gt;triu_star -->\n<g id=\"edge1\" class=\"edge\">\n<title>beta&#45;&gt;triu_star</title>\n<path fill=\"none\" stroke=\"black\" d=\"M58,-204.71C58,-192.85 58,-176.82 58,-163.08\"/>\n<polygon fill=\"black\" stroke=\"black\" points=\"61.5,-163.26 58,-153.26 54.5,-163.26 61.5,-163.26\"/>\n</g>\n<!-- gamma -->\n<g id=\"node2\" class=\"node\">\n<title>gamma</title>\n<ellipse fill=\"white\" stroke=\"black\" cx=\"161\" cy=\"-133.5\" rx=\"37.09\" ry=\"18\"/>\n<text text-anchor=\"middle\" x=\"161\" y=\"-128.07\" font-family=\"Times New Roman,serif\" font-size=\"14.00\">gamma</text>\n</g>\n<!-- obs_triu -->\n<g id=\"node4\" class=\"node\">\n<title>obs_triu</title>\n<ellipse fill=\"grey\" stroke=\"black\" cx=\"58\" cy=\"-57.75\" rx=\"41.58\" ry=\"18\"/>\n<text text-anchor=\"middle\" x=\"58\" y=\"-52.33\" font-family=\"Times New Roman,serif\" font-size=\"14.00\">obs_triu</text>\n</g>\n<!-- gamma&#45;&gt;obs_triu -->\n<g id=\"edge2\" class=\"edge\">\n<title>gamma&#45;&gt;obs_triu</title>\n<path fill=\"none\" stroke=\"black\" d=\"M147.62,-116.55C138.39,-106.25 125.39,-93.08 112,-83.75 107.78,-80.82 103.17,-78.08 98.47,-75.57\"/>\n<polygon fill=\"black\" stroke=\"black\" points=\"100.04,-72.44 89.52,-71.14 96.93,-78.71 100.04,-72.44\"/>\n</g>\n<!-- triu_star&#45;&gt;obs_triu -->\n<g id=\"edge3\" class=\"edge\">\n<title>triu_star&#45;&gt;obs_triu</title>\n<path fill=\"none\" stroke=\"black\" d=\"M58,-115.02C58,-106.76 58,-96.67 58,-87.34\"/>\n<polygon fill=\"black\" stroke=\"black\" points=\"61.5,-87.62 58,-77.62 54.5,-87.62 61.5,-87.62\"/>\n</g>\n<!-- distribution_description_node -->\n<g id=\"node5\" class=\"node\">\n<title>distribution_description_node</title>\n<text text-anchor=\"start\" x=\"110.88\" y=\"-241.2\" font-family=\"Times New Roman,serif\" font-size=\"14.00\">beta ~ Normal</text>\n<text text-anchor=\"start\" x=\"110.88\" y=\"-225.45\" font-family=\"Times New Roman,serif\" font-size=\"14.00\">gamma ~ Normal</text>\n<text text-anchor=\"start\" x=\"110.88\" y=\"-209.7\" font-family=\"Times New Roman,serif\" font-size=\"14.00\">triu_star ~ BernoulliLogits</text>\n<text text-anchor=\"start\" x=\"110.88\" y=\"-193.95\" font-family=\"Times New Roman,serif\" font-size=\"14.00\">obs_triu ~ BernoulliLogits</text>\n</g>\n</g>\n</svg>\n",
      "text/plain": [
       "<graphviz.graphs.Digraph at 0x1a380218990>"
      ]
     },
     "execution_count": 44,
     "metadata": {},
     "output_type": "execute_result"
    }
   ],
   "execution_count": 44
  },
  {
   "cell_type": "code",
   "source": [
    "# numpyro.render_model(outcome_model, model_args=(Y,Z,x,mat,n), render_distributions=True)\n",
    "\n",
    "df_array = jnp.array(df_array)\n",
    "Y = jnp.array(Y)\n",
    "\n",
    "numpyro.render_model(outcome_model, model_args=(df_array,Y), render_distributions=True)"
   ],
   "metadata": {
    "collapsed": false,
    "ExecuteTime": {
     "end_time": "2024-08-05T14:20:01.415821Z",
     "start_time": "2024-08-05T14:20:01.176860Z"
    }
   },
   "id": "389e6f5d9dd220f2",
   "outputs": [
    {
     "data": {
      "image/svg+xml": "<?xml version=\"1.0\" encoding=\"UTF-8\" standalone=\"no\"?>\n<!DOCTYPE svg PUBLIC \"-//W3C//DTD SVG 1.1//EN\"\n \"http://www.w3.org/Graphics/SVG/1.1/DTD/svg11.dtd\">\n<!-- Generated by graphviz version 10.0.1 (20240210.2158)\n -->\n<!-- Pages: 1 -->\n<svg width=\"270pt\" height=\"184pt\"\n viewBox=\"0.00 0.00 269.62 183.50\" xmlns=\"http://www.w3.org/2000/svg\" xmlns:xlink=\"http://www.w3.org/1999/xlink\">\n<g id=\"graph0\" class=\"graph\" transform=\"scale(1 1) rotate(0) translate(4 179.5)\">\n<polygon fill=\"white\" stroke=\"none\" points=\"-4,4 -4,-179.5 265.62,-179.5 265.62,4 -4,4\"/>\n<g id=\"clust1\" class=\"cluster\">\n<title>cluster_Lin coef.</title>\n<polygon fill=\"none\" stroke=\"black\" points=\"64,-91.75 64,-167.5 140,-167.5 140,-91.75 64,-91.75\"/>\n<text text-anchor=\"middle\" x=\"106.88\" y=\"-98.2\" font-family=\"Times New Roman,serif\" font-size=\"14.00\">Lin coef.</text>\n</g>\n<g id=\"clust2\" class=\"cluster\">\n<title>cluster_obs</title>\n<polygon fill=\"none\" stroke=\"black\" points=\"29,-8 29,-83.75 99,-83.75 99,-8 29,-8\"/>\n<text text-anchor=\"middle\" x=\"80.5\" y=\"-14.45\" font-family=\"Times New Roman,serif\" font-size=\"14.00\">obs</text>\n</g>\n<!-- sig -->\n<g id=\"node1\" class=\"node\">\n<title>sig</title>\n<ellipse fill=\"white\" stroke=\"black\" cx=\"27\" cy=\"-141.5\" rx=\"27\" ry=\"18\"/>\n<text text-anchor=\"middle\" x=\"27\" y=\"-136.07\" font-family=\"Times New Roman,serif\" font-size=\"14.00\">sig</text>\n</g>\n<!-- Y -->\n<g id=\"node3\" class=\"node\">\n<title>Y</title>\n<ellipse fill=\"grey\" stroke=\"black\" cx=\"64\" cy=\"-57.75\" rx=\"27\" ry=\"18\"/>\n<text text-anchor=\"middle\" x=\"64\" y=\"-52.33\" font-family=\"Times New Roman,serif\" font-size=\"14.00\">Y</text>\n</g>\n<!-- sig&#45;&gt;Y -->\n<g id=\"edge2\" class=\"edge\">\n<title>sig&#45;&gt;Y</title>\n<path fill=\"none\" stroke=\"black\" d=\"M34.49,-123.96C39.45,-112.99 46.08,-98.34 51.8,-85.71\"/>\n<polygon fill=\"black\" stroke=\"black\" points=\"54.96,-87.2 55.9,-76.65 48.59,-84.31 54.96,-87.2\"/>\n</g>\n<!-- alpha -->\n<g id=\"node2\" class=\"node\">\n<title>alpha</title>\n<ellipse fill=\"white\" stroke=\"black\" cx=\"102\" cy=\"-141.5\" rx=\"30.11\" ry=\"18\"/>\n<text text-anchor=\"middle\" x=\"102\" y=\"-136.07\" font-family=\"Times New Roman,serif\" font-size=\"14.00\">alpha</text>\n</g>\n<!-- alpha&#45;&gt;Y -->\n<g id=\"edge1\" class=\"edge\">\n<title>alpha&#45;&gt;Y</title>\n<path fill=\"none\" stroke=\"black\" d=\"M94.31,-123.96C89.21,-112.99 82.4,-98.34 76.53,-85.71\"/>\n<polygon fill=\"black\" stroke=\"black\" points=\"79.71,-84.23 72.32,-76.64 73.36,-87.18 79.71,-84.23\"/>\n</g>\n<!-- distribution_description_node -->\n<g id=\"node4\" class=\"node\">\n<title>distribution_description_node</title>\n<text text-anchor=\"start\" x=\"158.38\" y=\"-151.82\" font-family=\"Times New Roman,serif\" font-size=\"14.00\">alpha ~ Normal</text>\n<text text-anchor=\"start\" x=\"158.38\" y=\"-136.07\" font-family=\"Times New Roman,serif\" font-size=\"14.00\">sig ~ HalfNormal</text>\n<text text-anchor=\"start\" x=\"158.38\" y=\"-120.33\" font-family=\"Times New Roman,serif\" font-size=\"14.00\">Y ~ Normal</text>\n</g>\n</g>\n</svg>\n",
      "text/plain": [
       "<graphviz.graphs.Digraph at 0x1a3ba587e10>"
      ]
     },
     "execution_count": 21,
     "metadata": {},
     "output_type": "execute_result"
    }
   ],
   "execution_count": 21
  },
  {
   "cell_type": "code",
   "source": [
    "c = 3\n",
    "# c = 3.5\n",
    "\n",
    "# Xgp = jnp.array(df_array[:,2:])\n",
    "Xgp = jnp.array(df_array[:,3:])\n",
    "# Xgp = jnp.array(df_array[:,4:])\n",
    "# Xlin = jnp.array(df_array[:,0:4])\n",
    "Xlin = jnp.array(df_array[:,0:3])\n",
    "# Xlin = jnp.array(df_array[:,0:2])\n",
    "\n",
    "# ell = 3.5*np.max(np.abs(df_array[:,3:]))\n",
    "ell = jnp.array(c*np.max(np.abs(Xgp))).reshape((1,1))\n",
    "# m = 20\n",
    "# m = 20\n",
    "m = 15\n",
    "# m = 50\n",
    "\n",
    "\n",
    "\n",
    "# numpyro.render_model(HSGP_model, model_args=(Xgp, Xlin, ell, m, Y), render_distributions=True)"
   ],
   "metadata": {
    "collapsed": false,
    "ExecuteTime": {
     "end_time": "2024-08-05T14:20:05.654461Z",
     "start_time": "2024-08-05T14:20:05.463274Z"
    }
   },
   "id": "b1234e5bbb77d6e6",
   "outputs": [],
   "execution_count": 22
  },
  {
   "cell_type": "code",
   "source": [
    "# A* and A|A* models\n",
    "\n",
    "rng_key = random.PRNGKey(1)\n",
    "rng_key, rng_key_ = random.split(rng_key)\n",
    "\n",
    "start = time.time()\n",
    "# kernel = DiscreteHMCGibbs(NUTS(model))\n",
    "# kernel = MixedHMC(HMC(model, trajectory_length=1.2))  \n",
    "# kernel = NUTS(model, dense_mass=True)\n",
    "# kernel_network = NUTS(network_model, dense_mass=[(\"gamma\",\"beta\")], max_tree_depth=15)\n",
    "# kernel_network = NUTS(network_model)\n",
    "kernel_network = NUTS(network_model, init_strategy=numpyro.infer.init_to_median(num_samples=30))\n",
    "# kernel_network = NUTS(network_model, \n",
    "                      # init_strategy=numpyro.infer.init_to_value(values={\"beta\": jnp.array([0.0,0.0,0.0]),\"gamma\" : jnp.array([0.0, 0.0])}))\n",
    "mcmc_network = MCMC(kernel_network, num_warmup=1000, num_samples=1000,num_chains=4)\n",
    "# mcmc_network = MCMC(kernel_network, num_warmup=2000, num_samples=4000,num_chains=4)\n",
    "# mcmc.run(rng_key_,Y=Y,Z=Z,expos=obs_exposures,X=x_diff,TriL=tril_obs,n=100)\n",
    "# mcmc.run(rng_key_,Y=Y,Z=Z,X=x_diff,TriU=triu_obs,n=n)\n",
    "mcmc_network.run(rng_key_,X=x_diff,X2  = x2_or, TriU=triu_obs)\n",
    "mcmc_network.print_summary()\n",
    "samples_network = mcmc_network.get_samples()\n",
    "print(time.time() - start)"
   ],
   "metadata": {
    "collapsed": false
   },
   "id": "818342fc9090d3fc",
   "outputs": [],
   "execution_count": null
  },
  {
   "cell_type": "code",
   "source": [
    "@jit\n",
    "def Astar_pred(key, post_samples, Xd, triu):\n",
    "    # if mean_post:\n",
    "    pred_func = Predictive(model=network_model, posterior_samples=post_samples, infer_discrete=True,num_samples=1)\n",
    "    # else:\n",
    "    #     pred_func = Predictive(model=network_model, posterior_samples=post_samples, infer_discrete=True)\n",
    "    return pred_func(key, X=Xd, TriU=triu)\n",
    "        "
   ],
   "metadata": {
    "collapsed": false
   },
   "id": "e4ad7bda20e92e6b",
   "outputs": [],
   "execution_count": null
  },
  {
   "cell_type": "code",
   "source": [
    "# Outcome model with A* (true network)\n",
    "rng_key = random.PRNGKey(1)\n",
    "rng_key, rng_key_ = random.split(rng_key)\n",
    "# start = time.time()\n",
    "kernel_outcome = NUTS(outcome_model)\n",
    "mcmc_network_true = MCMC(kernel_outcome, num_warmup=2000, num_samples=4000,num_chains=4, jit_model_args=True)\n",
    "                         # chain_method=\"vectorized\")\n",
    "# mcmc_network_true = MCMC(kernel_outcome, num_warmup=2000, num_samples=4000,num_chains=4)\n",
    "# mcmc_network_true = MCMC(kernel_outcome, num_warmup=100, num_samples=10,num_chains=1)\n",
    "# mcmc_network_true.run(rng_key_,Y=Y,Z=Z,A=obs_mat,n=n)\n",
    "# mcmc_network_true.run(rng_key_,Y=Y,Z=Z,X=x,A=mat,n=n)\n",
    "mcmc_network_true.run(rng_key_,X=df_array,Y=Y)\n",
    "mcmc_network_true.print_summary()\n",
    "samples_net_true = mcmc_network_true.get_samples()\n",
    "true_net_lin_predictive = Predictive(outcome_model, samples_net_true)\n",
    "# print(time.time() - start)"
   ],
   "metadata": {
    "collapsed": false
   },
   "id": "2d513060616ffd48",
   "outputs": [],
   "execution_count": null
  },
  {
   "metadata": {},
   "cell_type": "code",
   "source": [
    "print(true_net_lin_predictive(rng_key_,df_array).keys())\n",
    "print(samples_net_true.keys())"
   ],
   "id": "45e5be2ba9dab855",
   "outputs": [],
   "execution_count": null
  },
  {
   "metadata": {},
   "cell_type": "code",
   "source": "print(samples_net_true[\"alpha\"].shape, df_array.shape, np.transpose(df_array).shape, np.dot(samples_net_true[\"alpha\"],np.transpose(df_array)).shape)",
   "id": "12880003f7b0c67b",
   "outputs": [],
   "execution_count": null
  },
  {
   "metadata": {},
   "cell_type": "code",
   "source": [
    "mu_hat = true_net_lin_predictive(rng_key_,df_array)[\"Y\"]\n",
    "# mu_hat = true_net_lin_predictive(rng_key_,df_array)[\"mu_star\"]\n",
    "# y_hat = true_net_lin_predictive(rng_key_,df_array)[\"Y\"]\n",
    "q025 = np.quantile(mu_hat,0.025,axis=0)\n",
    "q975 = np.quantile(mu_hat,0.975,axis=0)\n",
    "mean_mu_hat = mu_hat.mean(axis=0)\n",
    "\n",
    "train_esti = Y-epsilon\n",
    "\n",
    "print(\"MAE (point): \", np.mean(np.abs(mean_mu_hat - train_esti)),\n",
    "      # \"MAE (all): \", np.mean(np.abs(mu_hat - train_esti)),\n",
    "      \"RMSE: \", np.sqrt(np.mean((mean_mu_hat - train_esti)**2)),\n",
    "      \"mean_ind_coverage: \", np.mean((train_esti > q025) & (train_esti < q975)))\n",
    "\n",
    "plt.figure(figsize=(4,3))\n",
    "plt.plot(train_esti, mean_mu_hat, 'o')\n",
    "# plt.plot(mu_hat.mean(axis=0), y_hat.mean(axis=0), 'o')\n",
    "plt.fill_between(train_esti, q025, q975, alpha=0.5)\n",
    "plt.xlabel(\"True estimand\")\n",
    "plt.ylabel(\"Posterior mean\")"
   ],
   "id": "8bd7724bdf91ec1f",
   "outputs": [],
   "execution_count": null
  },
  {
   "metadata": {},
   "cell_type": "code",
   "source": [
    "z_samp = rng.binomial(n=1, p=0.7, size=n)\n",
    "zeigen_sample = zeigen_value(z_samp, eigen_center, mat)\n",
    "dflin = jnp.transpose(jnp.array([[1]*n, z_samp ,x, z_samp*x, zeigen_sample]))\n",
    "y_samp, eps = gen_y(z_samp, x, zeigen_sample, alpha, lin=True)\n",
    "samp_esti = y_samp - eps\n",
    "\n",
    "# mu_hat2 = true_net_lin_predictive(rng_key_, dflin)[\"mu_star\"]\n",
    "mu_hat2 = true_net_lin_predictive(rng_key_, dflin)[\"Y\"]\n",
    "# mu_hat = np.dot(samples_net_true[\"alpha\"],np.transpose(dflin))\n",
    "q025 = np.quantile(mu_hat2,0.025,axis=0)\n",
    "q975 = np.quantile(mu_hat2,0.975,axis=0)\n",
    "mean_mu_hat = mu_hat2.mean(axis=0)\n",
    "\n",
    "print(\"MAE (point): \", np.mean(np.abs(mean_mu_hat - samp_esti)),\n",
    "      # \"MAE (all): \", np.mean(np.abs(mu_hat - samp_esti)),\n",
    "      \"RMSE: \", np.sqrt(np.mean((mean_mu_hat - samp_esti)**2)),\n",
    "      \"mean_ind_coverage: \", np.mean((samp_esti > q025) & (samp_esti < q975)),\n",
    "      \"mean true estimand: \", np.mean(samp_esti),\n",
    "      \"mean posterior mean: \", np.mean(mean_mu_hat))\n",
    "\n",
    "plt.figure(figsize=(4,3))\n",
    "plt.plot(samp_esti, mean_mu_hat, 'o')\n",
    "plt.xlabel(\"Posterior mean\")\n",
    "plt.ylabel(\"True estimand\")\n",
    "plt.fill_between(samp_esti, q025, q975, alpha=0.5)\n",
    "\n"
   ],
   "id": "a9ecb822189cc12",
   "outputs": [],
   "execution_count": null
  },
  {
   "cell_type": "code",
   "source": [
    "start = time.time()\n",
    "mcmc_network_true.run(rng_key,X=df_array,Y=Y)\n",
    "true_samps = mcmc_network_true.get_samples()\n",
    "# mcmc_network_true.print_summary()\n",
    "print(time.time()-start)"
   ],
   "metadata": {
    "collapsed": false
   },
   "id": "465d099c8a034c48",
   "outputs": [],
   "execution_count": null
  },
  {
   "cell_type": "code",
   "source": [
    "rng_key = random.PRNGKey(0)\n",
    "rng_key, rng_key_ = random.split(rng_key)\n",
    "\n",
    "\n",
    "@jit\n",
    "def linear_model_samples(key, Y, df):\n",
    "    kernel_outcome = NUTS(outcome_model)\n",
    "    # lin_mcmc = MCMC(kernel_outcome, num_warmup=2000, num_samples=4000,num_chains=4, progress_bar=False)\n",
    "    lin_mcmc = MCMC(kernel_outcome, num_warmup=2000, num_samples=4000,num_chains=4, progress_bar=False, chain_method=\"vectorized\")\n",
    "    # lin_mcmc = MCMC(kernel_outcome, num_warmup=2000, num_samples=4000,num_chains=4, progress_bar=False, chain_method=\"vectorized\")\n",
    "    # mcmc.run(key, Y=Y, Z=Z, X=X, A=A, n=NN)\n",
    "    lin_mcmc.run(key, X=df, Y=Y)\n",
    "    return lin_mcmc.get_samples()\n",
    "\n",
    "@jit\n",
    "def outcome_jit_pred(post_samples, df_arr, key=rng_key):\n",
    "    pred_func = Predictive(outcome_model, post_samples)\n",
    "    return pred_func(key, df_arr)\n",
    "\n"
   ],
   "metadata": {
    "collapsed": false,
    "ExecuteTime": {
     "end_time": "2024-08-05T14:20:15.401944Z",
     "start_time": "2024-08-05T14:20:15.012313Z"
    }
   },
   "id": "bfc5cac0da2be48c",
   "outputs": [],
   "execution_count": 23
  },
  {
   "cell_type": "code",
   "source": [
    "start = time.time()\n",
    "samples_net_true = linear_model_samples(rng_key,Y=Y, df=df_array)\n",
    "print(time.time()-start)"
   ],
   "metadata": {
    "collapsed": false,
    "ExecuteTime": {
     "end_time": "2024-08-05T14:20:35.886675Z",
     "start_time": "2024-08-05T14:20:18.122317Z"
    }
   },
   "id": "e419773379c49748",
   "outputs": [
    {
     "name": "stdout",
     "output_type": "stream",
     "text": [
      "17.758660554885864\n"
     ]
    }
   ],
   "execution_count": 24
  },
  {
   "metadata": {
    "ExecuteTime": {
     "end_time": "2024-08-05T14:20:35.992306Z",
     "start_time": "2024-08-05T14:20:35.889871Z"
    }
   },
   "cell_type": "code",
   "source": "print({\"alpha\" : jnp.expand_dims(jnp.mean(samples_net_true[\"alpha\"],axis=0),-2)})",
   "id": "abc11d36d8155ded",
   "outputs": [
    {
     "name": "stdout",
     "output_type": "stream",
     "text": [
      "{'alpha': Array([[-0.6306071 ,  3.0529714 , -0.25810423,  1.009531  ,  2.2400677 ]],      dtype=float32)}\n"
     ]
    }
   ],
   "execution_count": 25
  },
  {
   "metadata": {},
   "cell_type": "code",
   "source": "print(outcome_jit_pred(samples_net_true, df_array).keys())",
   "id": "4f5c5d16a211a8c2",
   "outputs": [],
   "execution_count": null
  },
  {
   "metadata": {
    "ExecuteTime": {
     "end_time": "2024-08-05T14:20:42.558327Z",
     "start_time": "2024-08-05T14:20:39.632114Z"
    }
   },
   "cell_type": "code",
   "source": [
    "mu_hat = outcome_jit_pred(samples_net_true, df_array)[\"Y\"]\n",
    "q025 = np.quantile(mu_hat,0.025,axis=0)\n",
    "q975 = np.quantile(mu_hat,0.975,axis=0)\n",
    "mean_mu_hat = mu_hat.mean(axis=0)\n",
    "\n",
    "train_esti = Y-epsilon\n",
    "\n",
    "print(\"MAE (point): \", np.mean(np.abs(mean_mu_hat - train_esti)),\n",
    "      \"MAE (all): \", np.mean(np.abs(mu_hat - train_esti)),\n",
    "      \"RMSE: \", np.sqrt(np.mean((mean_mu_hat - train_esti)**2)),\n",
    "      \"mean_ind_coverage: \", np.mean((train_esti > q025) & (train_esti < q975)))\n",
    "\n",
    "plt.figure(figsize=(4,3))\n",
    "plt.plot(Y-epsilon, mean_mu_hat, 'o')"
   ],
   "id": "1c84cad302150fca",
   "outputs": [
    {
     "name": "stdout",
     "output_type": "stream",
     "text": [
      "MAE (point):  0.1026828 MAE (all):  0.7928006 RMSE:  0.1340477 mean_ind_coverage:  1.0\n"
     ]
    },
    {
     "data": {
      "text/plain": [
       "[<matplotlib.lines.Line2D at 0x1a3bef8fcd0>]"
      ]
     },
     "execution_count": 26,
     "metadata": {},
     "output_type": "execute_result"
    },
    {
     "data": {
      "text/plain": [
       "<Figure size 400x300 with 1 Axes>"
      ],
      "image/png": "[encoded data removed]"
     },
     "metadata": {
      "image/png": {
       "width": 411,
       "height": 311
      }
     },
     "output_type": "display_data"
    }
   ],
   "execution_count": 26
  },
  {
   "metadata": {
    "ExecuteTime": {
     "end_time": "2024-08-05T14:21:35.351836Z",
     "start_time": "2024-08-05T14:21:33.193873Z"
    }
   },
   "cell_type": "code",
   "source": [
    "z_samp = rng.binomial(n=1, p=0.7, size=n)\n",
    "zeigen_sample = zeigen_value(z_samp, eigen_center, mat)\n",
    "dflin = jnp.transpose(jnp.array([[1]*n, z_samp ,x, z_samp*x, zeigen_sample]))\n",
    "y_samp, eps = gen_y(z_samp, x, zeigen_sample, alpha, lin=True)\n",
    "samp_esti = y_samp - eps\n",
    "\n",
    "# mu_hat2 = true_net_lin_predictive(rng_key_, dflin)[\"mu_star\"]\n",
    "mu_hat2 = outcome_jit_pred(samples_net_true, dflin)[\"Y\"]\n",
    "# mu_hat = np.dot(samples_net_true[\"alpha\"],np.transpose(dflin))\n",
    "q025 = np.quantile(mu_hat2,0.025,axis=0)\n",
    "q975 = np.quantile(mu_hat2,0.975,axis=0)\n",
    "mean_mu_hat = mu_hat2.mean(axis=0)\n",
    "\n",
    "print(\"MAE (point): \", np.mean(np.abs(mean_mu_hat - samp_esti)),\n",
    "      # \"MAE (all): \", np.mean(np.abs(mu_hat - samp_esti)),\n",
    "      \"RMSE: \", np.sqrt(np.mean((mean_mu_hat - samp_esti)**2)),\n",
    "      \"mean_ind_coverage: \", np.mean((samp_esti > q025) & (samp_esti < q975)),\n",
    "      \"mean true estimand: \", np.mean(samp_esti),\n",
    "      \"mean posterior mean: \", np.mean(mean_mu_hat))\n",
    "\n",
    "plt.figure(figsize=(4,3))\n",
    "plt.plot(samp_esti, mean_mu_hat, 'o')\n",
    "plt.xlabel(\"Posterior mean\")\n",
    "plt.ylabel(\"True estimand\")\n",
    "plt.fill_between(samp_esti, q025, q975, alpha=0.5)"
   ],
   "id": "d2b0928a0b42fc9d",
   "outputs": [
    {
     "name": "stdout",
     "output_type": "stream",
     "text": [
      "MAE (point):  0.10767943 RMSE:  0.1791579 mean_ind_coverage:  1.0 mean true estimand:  5.337044155740374 mean posterior mean:  5.274389\n"
     ]
    },
    {
     "data": {
      "text/plain": [
       "<matplotlib.collections.PolyCollection at 0x1a3d16eba50>"
      ]
     },
     "execution_count": 28,
     "metadata": {},
     "output_type": "execute_result"
    },
    {
     "data": {
      "text/plain": [
       "<Figure size 400x300 with 1 Axes>"
      ],
      "image/png": "[encoded data removed]"
     },
     "metadata": {
      "image/png": {
       "width": 411,
       "height": 311
      }
     },
     "output_type": "display_data"
    }
   ],
   "execution_count": 28
  },
  {
   "cell_type": "code",
   "source": [
    "# Outcome model with A (observed network)\n",
    "\n",
    "# start = time.time()\n",
    "kernel_outcome = NUTS(outcome_model)\n",
    "mcmc_network_obs = MCMC(kernel_outcome, num_warmup=2000, num_samples=4000,num_chains=4)\n",
    "# mcmc_network_obs.run(rng_key_,Y=Y,Z=Z,X=x,A=obs_mat,n=n)\n",
    "mcmc_network_obs.run(rng_key_, X=obs_df, Y=Y)\n",
    "# mcmc_network_obs.run(rng_key_,Y=Y,Z=Z,A=mat,n=n)\n",
    "mcmc_network_obs.print_summary()\n",
    "samples_net_obs = mcmc_network_obs.get_samples()\n",
    "obs_net_lin_predictive = Predictive(outcome_model, samples_net_obs)\n",
    "\n",
    "# print(time.time() - start)"
   ],
   "metadata": {
    "collapsed": false
   },
   "id": "f7027822d4d0e646",
   "outputs": [],
   "execution_count": null
  },
  {
   "cell_type": "code",
   "source": [
    "samples_net_obs = linear_model_samples(rng_key_,Y=Y, df=jnp.array(obs_df))\n",
    "print({\"alpha\" : jnp.expand_dims(jnp.mean(samples_net_obs[\"alpha\"],axis=0),-2)})"
   ],
   "metadata": {
    "collapsed": false,
    "ExecuteTime": {
     "end_time": "2024-08-05T14:21:53.783255Z",
     "start_time": "2024-08-05T14:21:44.933574Z"
    }
   },
   "id": "19cafff8d3b65e29",
   "outputs": [
    {
     "name": "stdout",
     "output_type": "stream",
     "text": [
      "{'alpha': Array([[ 0.56632006,  3.1640692 , -0.23222871,  1.0040267 ,  0.84728533]],      dtype=float32)}\n"
     ]
    }
   ],
   "execution_count": 29
  },
  {
   "cell_type": "code",
   "source": [
    "plt.figure(figsize=(3,2))\n",
    "plt.hist(samples_net_true[\"alpha\"][:,4])\n",
    "# plt.axvline(x=alpha[4], color=\"red\")"
   ],
   "metadata": {
    "collapsed": false
   },
   "id": "6073a50a018be492",
   "outputs": [],
   "execution_count": null
  },
  {
   "cell_type": "code",
   "source": [
    "# print([f\"beta_{i} = {bet}\" for i,bet in enumerate(beta)], \"gamma0:\", gamma0, \"gamma1:\", gamma1)\n",
    "# print([f\"alpha_{i} = {al}\" for i,al in enumerate(alpha)],\"sig:\", 1)"
   ],
   "metadata": {
    "collapsed": false
   },
   "id": "91c7915d0d6264c9",
   "outputs": [],
   "execution_count": null
  },
  {
   "cell_type": "code",
   "source": [
    "# start = time.time()\n",
    "kernel_gp_outcome = NUTS(HSGP_model, target_accept_prob=0.9)\n",
    "mcmc_GP_network_true = MCMC(kernel_gp_outcome, num_warmup=2000, num_samples=4000,num_chains=4)\n",
    "# mcmc_network_true = MCMC(kernel_outcome, num_warmup=100, num_samples=10,num_chains=1)\n",
    "# mcmc_network_true.run(rng_key_,Y=Y,Z=Z,A=obs_mat,n=n)\n",
    "# mcmc_network_true.run(rng_key_,Y=Y,Z=Z,X=x,A=mat,n=n)\n",
    "mcmc_GP_network_true.run(rng_key_,Xgp=Xgp, Xlin=Xlin, ell=ell ,m=m, Y=Y)\n",
    "# mcmc_GP_network_true.run(rng_key_,Xgp=Zeigen, Xlin=Xlin, Y=Y, ell=ell ,m=m)\n",
    "mcmc_GP_network_true.print_summary()\n",
    "# idata_gp_true = az.from_numpyro(posterior=mcmc_GP_network_true)\n",
    "\n",
    "samples_GP_net_true = mcmc_GP_network_true.get_samples()\n",
    "# print(time.time() - start)\n",
    "HSGP_true_predictive = Predictive(HSGP_model, samples_GP_net_true)\n",
    "\n",
    "# axes = az.plot_trace(\n",
    "#     data=idata_gp_true,\n",
    "#     kind=\"rank_bars\",\n",
    "#     backend_kwargs={\"figsize\": (10, 7), \"layout\": \"constrained\"})"
   ],
   "metadata": {
    "collapsed": false
   },
   "id": "4f52680a9a3f4638",
   "outputs": [],
   "execution_count": null
  },
  {
   "metadata": {},
   "cell_type": "code",
   "source": "print(HSGP_true_predictive(rng_key_,Xgp=Xgp, Xlin = Xlin, ell=ell, m=m).keys())",
   "id": "fcd37d4c6257be6d",
   "outputs": [],
   "execution_count": null
  },
  {
   "metadata": {},
   "cell_type": "code",
   "source": [
    "mu_hat = HSGP_true_predictive(rng_key_,Xgp=Xgp, Xlin = Xlin, ell=ell, m=m)[\"mu_star\"]\n",
    "# mu_hat = HSGP_true_predictive(rng_key_,Xgp=Xgp, Xlin = Xlin, ell=ell, m=m)[\"f_star\"]\n",
    "q025 = np.quantile(mu_hat,0.025,axis=0)\n",
    "q975 = np.quantile(mu_hat,0.975,axis=0)\n",
    "mean_mu_hat = mu_hat.mean(axis=0)\n",
    "\n",
    "print(\"MAE: \", np.mean(np.abs(Y-epsilon - mean_mu_hat)),\n",
    "      \"RMSE: \", np.sqrt(np.mean((Y-epsilon - mean_mu_hat)**2)),\n",
    "      \"mean_ind_coverage: \", np.mean((Y-epsilon > q025) & (Y-epsilon < q975)))\n",
    "\n",
    "plt.figure(figsize=(4,3))\n",
    "plt.plot(Zeigen, mean_mu_hat, 'o')\n",
    "plt.fill_between(Zeigen, q025, q975, alpha=0.5)\n",
    "# plt.plot(Y-epsilon, mean_mu_hat, 'o')\n",
    "# plt.fill_between(Y-epsilon, q025, q975, alpha=0.5)"
   ],
   "id": "78833bb97c38e761",
   "outputs": [],
   "execution_count": null
  },
  {
   "cell_type": "code",
   "source": [
    "M = m\n",
    "num_warmup=2000\n",
    "# num_warmup=2000\n",
    "# num_warmup=250\n",
    "# num_samples=25\n",
    "num_samples=4000\n",
    "# num_samples=4000\n",
    "num_chains=4\n",
    "\n",
    "@jit    \n",
    "def HSGP_model_samples(key, Y, Xgp, Xlin, ell):\n",
    "    kernel_hsgp = NUTS(HSGP_model)\n",
    "    hsgp_mcmc = MCMC(kernel_hsgp, num_warmup=num_warmup, num_samples=num_samples,num_chains=num_chains, progress_bar=False, chain_method=\"vectorized\")\n",
    "    # mcmc.run(key, Y=Y, Z=Z, X=X, A=A, n=NN)\n",
    "    hsgp_mcmc.run(key, Xgp=Xgp, Xlin=Xlin, ell=ell ,m=M, Y=Y)\n",
    "    # hsgp_mcmc.print_summary()\n",
    "    # samples = hsgp_mcmc.get_samples()\n",
    "    # hsgp_pred = Predictive(HSGP_model, hsgp_mcmc.get_samples())\n",
    "    # return hsgp_pred\n",
    "    return hsgp_mcmc.get_samples()\n",
    "\n",
    "@jit\n",
    "def HSGP_jit_pred(post_samples, Xgp, Xlin, ell):\n",
    "    pred_func = Predictive(HSGP_model, post_samples)\n",
    "    return pred_func(rng_key, Xgp=Xgp, Xlin = Xlin, ell=ell, m=M)\n",
    "\n",
    "\n"
   ],
   "metadata": {
    "collapsed": false
   },
   "id": "c5df2ae46cd8f600",
   "outputs": [],
   "execution_count": null
  },
  {
   "cell_type": "code",
   "source": [
    "\n",
    "samples_GP_net_true = HSGP_model_samples(rng_key_,Y=Y, Xgp=Xgp, Xlin=Xlin, ell=ell)\n",
    "# HSGP_true_predictive = Predictive(HSGP_model, samples_GP_net_true)\n"
   ],
   "metadata": {
    "collapsed": false
   },
   "id": "738dc3d783679108",
   "outputs": [],
   "execution_count": null
  },
  {
   "metadata": {},
   "cell_type": "code",
   "source": [
    "print({\"GP\" : jnp.expand_dims(jnp.mean(samples_GP_net_true[\"alpha\"],axis=0),-2)})\n",
    "print({\"GP\" : jnp.expand_dims(jnp.mean(samples_GP_net_true[\"sig\"],axis=0),-1)})\n",
    "print({\"GP\" : jnp.expand_dims(jnp.mean(samples_GP_net_true[\"magn\"],axis=0),-1)})\n",
    "print({\"GP\" : jnp.expand_dims(jnp.mean(samples_GP_net_true[\"length\"],axis=0),-1)})\n",
    "print(samples_GP_net_true['beta'].shape)\n",
    "# samples_GP_net_true"
   ],
   "id": "f79b970d0fa426e3",
   "outputs": [],
   "execution_count": null
  },
  {
   "cell_type": "code",
   "source": [
    "# HSGP with noisy data\n",
    "Xlin_obs = jnp.array(obs_df[:,0:3])\n",
    "# Xlin_obs = jnp.array(obs_df[:,0:4])\n",
    "Xgp_obs = jnp.array(obs_df[:,3:])\n",
    "# Xgp_obs = jnp.array(obs_df[:,4:])\n",
    "ell_obs = jnp.array(c*jnp.max(jnp.abs(Xgp_obs))).reshape(1,1)"
   ],
   "metadata": {
    "collapsed": false
   },
   "id": "6f9af3adb7ce2d55",
   "outputs": [],
   "execution_count": null
  },
  {
   "cell_type": "code",
   "source": [
    "\n",
    "samples_GP_net_obs = HSGP_model_samples(rng_key_,Y=Y, Xgp=Xgp_obs, Xlin=Xlin_obs, ell=ell_obs)\n",
    "# mcmc_GP_network_obs = HSGP_model_samples(rng_key_,Y=Y, Xgp=jnp.array(Xgp_obs), Xlin=jnp.array(Xlin_obs), ell=jnp.array(ell_obs).reshape(1,1))\n",
    "# HSGP_obs_predictive = Predictive(HSGP_model, samples_GP_net_obs)\n"
   ],
   "metadata": {
    "collapsed": false
   },
   "id": "6cf1bad4900b7606",
   "outputs": [],
   "execution_count": null
  },
  {
   "metadata": {},
   "cell_type": "code",
   "source": [
    "print({\"GP\" : jnp.expand_dims(jnp.mean(samples_GP_net_obs[\"alpha\"],axis=0),-2)})\n",
    "print({\"GP\" : jnp.expand_dims(jnp.mean(samples_GP_net_obs[\"sig\"],axis=0),-1)})\n",
    "print({\"GP\" : jnp.expand_dims(jnp.mean(samples_GP_net_obs[\"magn\"],axis=0),-1)})\n",
    "print({\"GP\" : jnp.expand_dims(jnp.mean(samples_GP_net_obs[\"length\"],axis=0),-1)})\n"
   ],
   "id": "2cf0ec687dfd5a4c",
   "outputs": [],
   "execution_count": null
  },
  {
   "metadata": {},
   "cell_type": "code",
   "source": "df_array[:,1:3].shape",
   "id": "9afe11e39176e440",
   "outputs": [],
   "execution_count": null
  },
  {
   "metadata": {
    "ExecuteTime": {
     "end_time": "2024-08-05T14:31:24.205178Z",
     "start_time": "2024-08-05T14:31:24.191910Z"
    }
   },
   "cell_type": "code",
   "source": [
    "df1_gp = jnp.transpose(jnp.array([Z, x]))\n",
    "# df1_gp = jnp.transpose(jnp.array([Z, x]))\n",
    "df2_gp = jnp.transpose(jnp.array([Z, Zeigen]))\n",
    "# df2_gp = jnp.array(df_array[:,(1,3)])\n",
    "# ell_gp_comb = jnp.max(c*jnp.max(df_gp))\n",
    "# ell_gp_comb = jnp.array(c*jnp.max(jnp.abs(df_gp))).reshape((1,1))\n",
    "ell_x = c*np.max(np.abs(x))\n",
    "ell_zeigen = c*np.max(np.abs(Zeigen))\n",
    "# ell1_gp_comb = c*np.max(np.abs(df1_gp))\n",
    "# ell2_gp_comb = c*np.max(np.abs(df1_gp))\n",
    "# ell2_gp_comb = c*np.max(np.abs(df2_gp))\n",
    "print(ell_x, ell_zeigen)\n",
    "# print(type(ell2_gp_comb), ell2_gp_comb)\n",
    "print(df1_gp.shape[-1])\n",
    "print(df2_gp.shape[-1])"
   ],
   "id": "4aa89fa9089f3032",
   "outputs": [
    {
     "name": "stdout",
     "output_type": "stream",
     "text": [
      "29.262945739468844 10.599432706832886\n",
      "2\n",
      "2\n"
     ]
    }
   ],
   "execution_count": 43
  },
  {
   "metadata": {
    "ExecuteTime": {
     "end_time": "2024-08-05T14:36:13.714277Z",
     "start_time": "2024-08-05T14:33:35.171560Z"
    }
   },
   "cell_type": "code",
   "source": [
    "m=20\n",
    "def fit_mcmc(\n",
    "    seed: int,\n",
    "    model: callable,\n",
    "    num_warmup: int = 1000,\n",
    "    num_samples: int = 4000,\n",
    "    target_accept_prob: float = 0.8,\n",
    "    init_strategy: callable = numpyro.infer.init_to_uniform,\n",
    "    **model_kwargs,\n",
    "):\n",
    "    rng_key = random.PRNGKey(seed)\n",
    "    kernel = NUTS(\n",
    "        model, target_accept_prob=target_accept_prob, init_strategy=init_strategy\n",
    "    )\n",
    "    mcmc = MCMC(\n",
    "        kernel,\n",
    "        num_warmup=num_warmup,\n",
    "        num_samples=num_samples,\n",
    "        num_chains=4,\n",
    "        progress_bar=True,\n",
    "    )\n",
    "    mcmc.run(rng_key, **model_kwargs)\n",
    "    return mcmc\n",
    "\n",
    "\n",
    "# HSGP full\n",
    "# hsgp_full = HSGPModel(m=m, L1=ell1_gp_comb, L2=ell2_gp_comb)\n",
    "# hsgp_full = HSGPModel(m=m, L1=ell1_gp_comb)\n",
    "hsgp_full = HSGPModel(m=m, L1=[2,ell_x], L2=[2,ell_zeigen])\n",
    "\n",
    "hsgp_mcmc = fit_mcmc(\n",
    "        2,\n",
    "        hsgp_full.model,\n",
    "        df1=df1_gp,\n",
    "        df2=df2_gp,\n",
    "        y=Y,\n",
    "        num_warmup=2000,\n",
    "        num_samples=4000,\n",
    "        target_accept_prob=0.95,\n",
    "        # init_strategy=numpyro.infer.init_to_median(num_samples=25),\n",
    "    )\n",
    "\n",
    "# idata_hsgp = az.from_numpyro(posterior=hsgp_mcmc)\n",
    "hsgp_mcmc.print_summary()\n",
    "# \n",
    "# VAR_NAMES = [\"amplitude\", \"lengthscale\", \"noise\"]\n",
    "# axes = az.plot_trace(\n",
    "#         data=idata_hsgp,\n",
    "#         var_names=VAR_NAMES,\n",
    "#         kind=\"rank_bars\",\n",
    "#         backend_kwargs={\"figsize\": (10, 7), \"layout\": \"constrained\"})"
   ],
   "id": "f5f889964abcbd67",
   "outputs": [
    {
     "data": {
      "text/plain": [
       "  0%|          | 0/6000 [00:00<?, ?it/s]"
      ],
      "application/vnd.jupyter.widget-view+json": {
       "version_major": 2,
       "version_minor": 0,
       "model_id": "cec1fe45fc174558954f625cde5f8387"
      }
     },
     "metadata": {},
     "output_type": "display_data"
    },
    {
     "data": {
      "text/plain": [
       "  0%|          | 0/6000 [00:00<?, ?it/s]"
      ],
      "application/vnd.jupyter.widget-view+json": {
       "version_major": 2,
       "version_minor": 0,
       "model_id": "69c820b6872e440798ba66bb19102894"
      }
     },
     "metadata": {},
     "output_type": "display_data"
    },
    {
     "data": {
      "text/plain": [
       "  0%|          | 0/6000 [00:00<?, ?it/s]"
      ],
      "application/vnd.jupyter.widget-view+json": {
       "version_major": 2,
       "version_minor": 0,
       "model_id": "c336a815658e4ee49358bf29b5dd0f72"
      }
     },
     "metadata": {},
     "output_type": "display_data"
    },
    {
     "data": {
      "text/plain": [
       "  0%|          | 0/6000 [00:00<?, ?it/s]"
      ],
      "application/vnd.jupyter.widget-view+json": {
       "version_major": 2,
       "version_minor": 0,
       "model_id": "8a5217c3d0974dd0b307bc9f289f2f4c"
      }
     },
     "metadata": {},
     "output_type": "display_data"
    },
    {
     "name": "stdout",
     "output_type": "stream",
     "text": [
      "\n",
      "                    mean       std    median      5.0%     95.0%     n_eff     r_hat\n",
      "    amplitude1      7.00      1.12      6.95      5.17      8.78    901.41      1.00\n",
      "    amplitude2      4.38      1.15      4.31      2.47      6.18    880.06      1.01\n",
      "      beta1[0]      1.12      0.99      1.10     -0.46      2.78   1144.69      1.00\n",
      "      beta1[1]     -0.90      0.93     -0.87     -2.33      0.72   1051.85      1.00\n",
      "      beta1[2]     -1.13      0.92     -1.14     -2.65      0.37   1086.29      1.00\n",
      "      beta1[3]      1.05      0.89      1.07     -0.39      2.58    841.77      1.01\n",
      "      beta1[4]      0.85      0.93      0.84     -0.57      2.50   1044.82      1.00\n",
      "      beta1[5]     -0.29      0.85     -0.29     -1.68      1.12    809.52      1.00\n",
      "      beta1[6]     -0.27      0.89     -0.26     -1.72      1.20    757.06      1.00\n",
      "      beta1[7]     -0.52      0.88     -0.51     -1.95      0.91    861.79      1.00\n",
      "      beta1[8]     -0.43      0.86     -0.42     -1.88      0.95    750.74      1.01\n",
      "      beta1[9]      0.75      0.86      0.75     -0.72      2.12    811.37      1.00\n",
      "     beta1[10]      0.55      0.86      0.55     -0.92      1.94    972.97      1.00\n",
      "     beta1[11]     -0.25      0.84     -0.25     -1.58      1.23    867.17      1.00\n",
      "     beta1[12]     -0.19      0.88     -0.19     -1.63      1.31    779.66      1.01\n",
      "     beta1[13]     -0.34      0.85     -0.36     -1.77      1.05   1017.72      1.00\n",
      "     beta1[14]     -0.36      0.83     -0.37     -1.70      1.03    686.03      1.01\n",
      "     beta1[15]      0.54      0.85      0.54     -0.80      1.96    899.42      1.00\n",
      "     beta1[16]      0.31      0.81      0.32     -1.05      1.63    832.68      1.01\n",
      "     beta1[17]     -0.13      0.83     -0.13     -1.47      1.24    731.66      1.00\n",
      "     beta1[18]      0.26      0.64      0.26     -0.92      1.19    759.70      1.01\n",
      "     beta1[19]     -0.32      0.63     -0.34     -1.33      0.71    689.94      1.00\n",
      "     beta1[20]     -0.90      0.96     -0.90     -2.50      0.65   1039.10      1.00\n",
      "     beta1[21]      1.91      0.97      1.92      0.36      3.49    912.98      1.00\n",
      "     beta1[22]      0.96      0.94      0.96     -0.63      2.45   1120.07      1.00\n",
      "     beta1[23]     -2.63      0.93     -2.64     -4.10     -1.06    809.22      1.01\n",
      "     beta1[24]     -0.91      0.90     -0.91     -2.36      0.61   1151.99      1.00\n",
      "     beta1[25]      1.94      0.95      1.92      0.28      3.43    708.10      1.00\n",
      "     beta1[26]      0.32      0.90      0.32     -1.14      1.83    960.30      1.00\n",
      "     beta1[27]     -0.50      0.92     -0.49     -2.01      0.99    899.58      1.01\n",
      "     beta1[28]      0.34      0.88      0.34     -1.14      1.77   1210.54      1.00\n",
      "     beta1[29]     -0.40      0.90     -0.41     -1.89      1.05   1173.69      1.00\n",
      "     beta1[30]     -0.55      0.88     -0.55     -2.06      0.83   1157.84      1.00\n",
      "     beta1[31]      0.50      0.92      0.49     -0.95      2.09    942.19      1.00\n",
      "     beta1[32]      0.13      0.89      0.14     -1.35      1.58   1054.32      1.00\n",
      "     beta1[33]     -0.08      0.91     -0.11     -1.64      1.34    969.46      1.01\n",
      "     beta1[34]      0.32      0.88      0.31     -1.06      1.81   1003.71      1.00\n",
      "     beta1[35]     -0.20      0.86     -0.20     -1.63      1.19   1087.96      1.00\n",
      "     beta1[36]     -0.46      0.87     -0.45     -1.95      0.91    726.12      1.00\n",
      "     beta1[37]      0.06      0.90      0.07     -1.41      1.58    867.37      1.00\n",
      "     beta1[38]     -0.04      0.81     -0.07     -1.34      1.29    646.31      1.00\n",
      "     beta1[39]      0.14      0.78      0.16     -1.17      1.40    825.28      1.01\n",
      "     beta1[40]      0.29      0.99      0.28     -1.29      1.97   1013.24      1.00\n",
      "     beta1[41]     -1.30      0.98     -1.31     -2.96      0.31   1149.78      1.00\n",
      "     beta1[42]     -0.30      0.98     -0.29     -1.87      1.32   1199.71      1.00\n",
      "     beta1[43]      1.87      0.96      1.91      0.31      3.45    943.77      1.00\n",
      "     beta1[44]      0.31      0.95      0.32     -1.25      1.90   1048.97      1.00\n",
      "     beta1[45]     -1.57      0.91     -1.56     -3.07     -0.09    956.25      1.00\n",
      "     beta1[46]     -0.12      0.92     -0.11     -1.67      1.36   1123.45      1.00\n",
      "     beta1[47]      0.70      0.94      0.71     -0.87      2.16    916.01      1.00\n",
      "     beta1[48]     -0.12      0.93     -0.12     -1.61      1.41    967.08      1.00\n",
      "     beta1[49]      0.01      0.94      0.00     -1.54      1.52   1130.04      1.00\n",
      "     beta1[50]      0.21      0.95      0.21     -1.38      1.70    870.39      1.01\n",
      "     beta1[51]     -0.36      0.93     -0.37     -1.98      1.08    949.67      1.01\n",
      "     beta1[52]     -0.11      0.95     -0.11     -1.69      1.47    907.99      1.01\n",
      "     beta1[53]      0.17      0.93      0.20     -1.32      1.69   1137.25      1.01\n",
      "     beta1[54]     -0.10      0.94     -0.11     -1.67      1.41    920.30      1.00\n",
      "     beta1[55]     -0.10      0.89     -0.08     -1.58      1.39   1018.72      1.00\n",
      "     beta1[56]      0.23      0.92      0.23     -1.32      1.75    950.74      1.01\n",
      "     beta1[57]      0.02      0.92      0.02     -1.50      1.55    771.24      1.00\n",
      "     beta1[58]      0.00      0.81     -0.01     -1.36      1.33    790.75      1.00\n",
      "     beta1[59]     -0.00      0.83     -0.01     -1.40      1.37    653.91      1.00\n",
      "     beta1[60]      0.01      0.98      0.01     -1.51      1.73   1168.90      1.00\n",
      "     beta1[61]     -0.01      0.98     -0.01     -1.64      1.57   1017.02      1.01\n",
      "     beta1[62]     -0.04      0.99     -0.07     -1.59      1.64   1200.81      1.00\n",
      "     beta1[63]     -0.02      0.99     -0.00     -1.70      1.56   1043.43      1.01\n",
      "     beta1[64]     -0.03      1.01     -0.03     -1.70      1.61   1089.20      1.00\n",
      "     beta1[65]     -0.01      1.02     -0.02     -1.71      1.65   1281.32      1.00\n",
      "     beta1[66]     -0.04      0.99     -0.03     -1.62      1.64   1081.88      1.00\n",
      "     beta1[67]      0.01      1.00     -0.00     -1.59      1.69   1026.40      1.00\n",
      "     beta1[68]      0.01      1.01      0.01     -1.68      1.65   1250.08      1.00\n",
      "     beta1[69]     -0.03      1.02     -0.04     -1.64      1.75   1246.97      1.00\n",
      "     beta1[70]     -0.03      1.01     -0.01     -1.64      1.69   1036.69      1.01\n",
      "     beta1[71]      0.02      1.02      0.02     -1.66      1.70   1002.63      1.00\n",
      "     beta1[72]     -0.04      1.03     -0.04     -1.63      1.77    935.69      1.00\n",
      "     beta1[73]      0.00      1.04      0.02     -1.69      1.73    943.51      1.00\n",
      "     beta1[74]     -0.00      0.99     -0.02     -1.66      1.61   1161.75      1.00\n",
      "     beta1[75]     -0.02      1.00     -0.03     -1.60      1.74   1308.34      1.00\n",
      "     beta1[76]     -0.03      1.01     -0.03     -1.71      1.64    848.78      1.01\n",
      "     beta1[77]     -0.01      0.97     -0.00     -1.52      1.68   1073.27      1.00\n",
      "     beta1[78]     -0.00      1.00     -0.00     -1.66      1.60   1377.60      1.00\n",
      "     beta1[79]      0.00      0.97      0.01     -1.60      1.59   1188.15      1.00\n",
      "     beta1[80]     -0.10      1.01     -0.11     -1.70      1.62   1035.47      1.00\n",
      "     beta1[81]      0.39      1.04      0.39     -1.32      2.13    856.80      1.00\n",
      "     beta1[82]      0.09      0.97      0.10     -1.60      1.57   1094.23      1.00\n",
      "     beta1[83]     -0.52      0.98     -0.52     -2.15      1.08   1004.78      1.00\n",
      "     beta1[84]     -0.12      1.03     -0.11     -1.84      1.55    890.46      1.00\n",
      "     beta1[85]      0.50      1.01      0.48     -1.15      2.17   1089.92      1.00\n",
      "     beta1[86]      0.05      1.00      0.05     -1.59      1.68   1052.16      1.00\n",
      "     beta1[87]     -0.12      0.99     -0.16     -1.73      1.51   1006.93      1.00\n",
      "     beta1[88]      0.01      0.98      0.02     -1.58      1.62    983.43      1.00\n",
      "     beta1[89]      0.02      1.01      0.03     -1.63      1.69   1323.28      1.00\n",
      "     beta1[90]     -0.02      1.03     -0.01     -1.72      1.65    932.85      1.00\n",
      "     beta1[91]      0.13      0.97      0.12     -1.47      1.72   1116.18      1.00\n",
      "     beta1[92]      0.01      0.98     -0.00     -1.66      1.56    664.19      1.01\n",
      "     beta1[93]     -0.08      0.97     -0.07     -1.72      1.48   1150.61      1.00\n",
      "     beta1[94]      0.07      1.00      0.06     -1.60      1.65   1048.85      1.00\n",
      "     beta1[95]     -0.01      1.00      0.01     -1.69      1.58    998.48      1.01\n",
      "     beta1[96]     -0.11      1.04     -0.10     -1.82      1.62    881.73      1.00\n",
      "     beta1[97]     -0.00      1.00      0.01     -1.61      1.66   1012.51      1.00\n",
      "     beta1[98]     -0.01      0.96     -0.02     -1.58      1.62    942.90      1.00\n",
      "     beta1[99]     -0.04      0.94     -0.03     -1.59      1.51   1286.62      1.00\n",
      "    beta1[100]      0.08      1.00      0.08     -1.53      1.71   1374.36      1.00\n",
      "    beta1[101]     -0.17      1.00     -0.18     -1.80      1.44   1247.38      1.01\n",
      "    beta1[102]     -0.13      0.99     -0.14     -1.73      1.51   1195.16      1.00\n",
      "    beta1[103]      0.24      1.02      0.22     -1.44      1.93   1144.68      1.00\n",
      "    beta1[104]      0.08      1.01      0.09     -1.59      1.72   1104.01      1.00\n",
      "    beta1[105]     -0.13      1.03     -0.16     -1.76      1.63    884.22      1.00\n",
      "    beta1[106]     -0.08      0.99     -0.09     -1.72      1.53   1296.22      1.00\n",
      "    beta1[107]      0.04      1.00      0.03     -1.60      1.70    989.26      1.00\n",
      "    beta1[108]     -0.03      1.01     -0.01     -1.69      1.58    970.46      1.01\n",
      "    beta1[109]      0.06      1.01      0.05     -1.61      1.69   1080.05      1.00\n",
      "    beta1[110]      0.06      1.00      0.06     -1.60      1.69   1000.81      1.00\n",
      "    beta1[111]     -0.02      0.99     -0.01     -1.69      1.54   1410.22      1.00\n",
      "    beta1[112]      0.02      1.02      0.01     -1.66      1.70    994.64      1.00\n",
      "    beta1[113]      0.03      0.98      0.03     -1.57      1.61   1128.15      1.00\n",
      "    beta1[114]     -0.04      0.99     -0.05     -1.71      1.54   1217.85      1.00\n",
      "    beta1[115]      0.00      1.00      0.01     -1.59      1.72   1208.97      1.00\n",
      "    beta1[116]      0.02      1.02      0.01     -1.66      1.68   1183.05      1.00\n",
      "    beta1[117]      0.03      1.02      0.05     -1.62      1.68    898.82      1.00\n",
      "    beta1[118]      0.02      1.04      0.05     -1.76      1.67    934.96      1.00\n",
      "    beta1[119]     -0.01      0.98     -0.02     -1.65      1.59   1207.45      1.00\n",
      "    beta1[120]     -0.07      0.97     -0.07     -1.60      1.61   1107.32      1.00\n",
      "    beta1[121]      0.06      1.00      0.07     -1.52      1.71   1169.98      1.01\n",
      "    beta1[122]      0.02      1.02      0.01     -1.59      1.76    889.59      1.00\n",
      "    beta1[123]     -0.01      1.01     -0.01     -1.66      1.65   1093.33      1.00\n",
      "    beta1[124]     -0.01      1.00     -0.00     -1.72      1.59   1026.61      1.00\n",
      "    beta1[125]     -0.04      1.03     -0.02     -1.71      1.63    954.63      1.00\n",
      "    beta1[126]      0.02      0.99      0.02     -1.62      1.62   1153.08      1.00\n",
      "    beta1[127]     -0.01      1.01     -0.00     -1.69      1.65   1047.34      1.00\n",
      "    beta1[128]      0.06      1.00      0.02     -1.59      1.66   1265.59      1.00\n",
      "    beta1[129]      0.02      0.99      0.04     -1.54      1.75   1024.48      1.00\n",
      "    beta1[130]     -0.04      0.98     -0.05     -1.57      1.67   1109.95      1.00\n",
      "    beta1[131]      0.03      1.00      0.02     -1.62      1.65   1017.49      1.00\n",
      "    beta1[132]      0.00      0.98      0.00     -1.63      1.58   1258.15      1.00\n",
      "    beta1[133]      0.03      0.99      0.04     -1.62      1.63   1085.31      1.00\n",
      "    beta1[134]      0.04      1.03      0.07     -1.67      1.72   1044.34      1.00\n",
      "    beta1[135]     -0.06      1.01     -0.06     -1.71      1.60   1214.01      1.00\n",
      "    beta1[136]     -0.05      0.99     -0.05     -1.68      1.56   1131.21      1.00\n",
      "    beta1[137]      0.02      0.97      0.04     -1.58      1.58   1308.66      1.00\n",
      "    beta1[138]      0.03      1.02      0.04     -1.57      1.77    965.87      1.00\n",
      "    beta1[139]     -0.02      0.99     -0.01     -1.65      1.61   1155.37      1.00\n",
      "    beta1[140]     -0.06      0.99     -0.05     -1.76      1.49   1005.69      1.01\n",
      "    beta1[141]     -0.03      0.98     -0.02     -1.70      1.54   1115.79      1.00\n",
      "    beta1[142]     -0.03      0.99     -0.04     -1.69      1.56   1247.48      1.00\n",
      "    beta1[143]      0.01      1.00      0.01     -1.70      1.60   1056.27      1.00\n",
      "    beta1[144]     -0.05      0.99     -0.05     -1.65      1.58   1348.33      1.00\n",
      "    beta1[145]      0.07      0.99      0.07     -1.59      1.65   1023.24      1.00\n",
      "    beta1[146]      0.03      1.00      0.05     -1.71      1.66   1277.97      1.00\n",
      "    beta1[147]     -0.00      1.00      0.01     -1.78      1.50   1278.06      1.00\n",
      "    beta1[148]     -0.05      1.01     -0.05     -1.61      1.69    928.29      1.00\n",
      "    beta1[149]     -0.02      0.99     -0.03     -1.56      1.64   1272.98      1.00\n",
      "    beta1[150]     -0.06      0.98     -0.07     -1.72      1.54   1311.01      1.00\n",
      "    beta1[151]      0.05      1.02      0.05     -1.66      1.67   1068.24      1.00\n",
      "    beta1[152]     -0.01      0.98     -0.03     -1.53      1.73   1456.94      1.00\n",
      "    beta1[153]     -0.05      1.01     -0.06     -1.74      1.57    998.45      1.00\n",
      "    beta1[154]     -0.04      1.01     -0.04     -1.58      1.76   1080.21      1.00\n",
      "    beta1[155]      0.01      1.00     -0.01     -1.53      1.73    994.03      1.01\n",
      "    beta1[156]      0.02      1.00      0.01     -1.64      1.64   1005.69      1.00\n",
      "    beta1[157]     -0.04      1.00     -0.04     -1.68      1.58   1003.66      1.00\n",
      "    beta1[158]      0.03      0.98      0.04     -1.60      1.66   1193.71      1.00\n",
      "    beta1[159]      0.00      1.02      0.02     -1.71      1.64    894.60      1.00\n",
      "    beta1[160]     -0.01      1.01      0.01     -1.70      1.63   1186.00      1.00\n",
      "    beta1[161]      0.00      1.00     -0.00     -1.63      1.61   1169.52      1.00\n",
      "    beta1[162]     -0.01      1.02     -0.01     -1.74      1.60   1105.68      1.01\n",
      "    beta1[163]      0.01      0.98     -0.00     -1.59      1.63   1160.98      1.00\n",
      "    beta1[164]      0.02      1.02      0.01     -1.64      1.75   1291.17      1.00\n",
      "    beta1[165]     -0.04      0.97     -0.04     -1.63      1.53   1312.68      1.00\n",
      "    beta1[166]      0.03      0.96      0.04     -1.52      1.65   1321.97      1.00\n",
      "    beta1[167]     -0.04      0.99     -0.06     -1.71      1.53   1103.68      1.00\n",
      "    beta1[168]      0.01      1.00      0.03     -1.59      1.65   1127.14      1.00\n",
      "    beta1[169]      0.03      0.97      0.02     -1.49      1.67   1115.37      1.00\n",
      "    beta1[170]     -0.02      0.99     -0.03     -1.69      1.58   1187.51      1.00\n",
      "    beta1[171]     -0.02      1.02     -0.03     -1.76      1.62   1273.93      1.00\n",
      "    beta1[172]      0.01      1.01      0.02     -1.65      1.62   1035.36      1.00\n",
      "    beta1[173]      0.03      0.99      0.03     -1.59      1.60   1170.57      1.00\n",
      "    beta1[174]      0.03      0.99      0.02     -1.68      1.59   1148.89      1.00\n",
      "    beta1[175]      0.05      1.01      0.05     -1.69      1.67   1093.35      1.00\n",
      "    beta1[176]     -0.05      1.02     -0.05     -1.72      1.59    899.48      1.01\n",
      "    beta1[177]     -0.03      1.00     -0.02     -1.76      1.52   1071.51      1.00\n",
      "    beta1[178]     -0.02      1.01     -0.03     -1.61      1.69   1204.58      1.00\n",
      "    beta1[179]     -0.03      1.00     -0.02     -1.58      1.70   1140.10      1.00\n",
      "    beta1[180]     -0.05      1.00     -0.06     -1.80      1.49   1103.10      1.00\n",
      "    beta1[181]     -0.02      1.00     -0.02     -1.65      1.67   1303.00      1.00\n",
      "    beta1[182]     -0.05      1.01     -0.04     -1.79      1.51   1468.90      1.00\n",
      "    beta1[183]      0.01      1.01     -0.01     -1.65      1.66   1125.57      1.00\n",
      "    beta1[184]      0.01      1.00     -0.01     -1.62      1.66   1197.74      1.00\n",
      "    beta1[185]     -0.01      1.01     -0.00     -1.68      1.63   1161.11      1.00\n",
      "    beta1[186]     -0.04      1.04     -0.04     -1.74      1.67    877.85      1.00\n",
      "    beta1[187]     -0.01      1.01     -0.01     -1.61      1.69   1106.41      1.00\n",
      "    beta1[188]      0.03      1.02      0.03     -1.58      1.78   1078.62      1.01\n",
      "    beta1[189]     -0.00      1.02     -0.01     -1.66      1.70   1088.05      1.00\n",
      "    beta1[190]      0.01      1.00      0.00     -1.66      1.65   1154.33      1.00\n",
      "    beta1[191]     -0.02      1.00     -0.04     -1.74      1.60   1205.30      1.00\n",
      "    beta1[192]     -0.03      1.00     -0.01     -1.65      1.63   1155.91      1.00\n",
      "    beta1[193]      0.00      0.98     -0.00     -1.64      1.58   1085.12      1.00\n",
      "    beta1[194]      0.00      1.04      0.02     -1.61      1.76   1066.38      1.00\n",
      "    beta1[195]      0.00      1.03      0.01     -1.71      1.71   1019.16      1.00\n",
      "    beta1[196]      0.05      1.03      0.04     -1.64      1.72    983.25      1.00\n",
      "    beta1[197]      0.05      1.00      0.07     -1.57      1.70    949.23      1.00\n",
      "    beta1[198]      0.01      1.00      0.02     -1.56      1.76   1252.05      1.00\n",
      "    beta1[199]      0.05      0.97      0.05     -1.57      1.62   1430.40      1.00\n",
      "    beta1[200]     -0.01      0.99      0.02     -1.63      1.63   1092.72      1.00\n",
      "    beta1[201]      0.04      0.99      0.05     -1.58      1.67    925.06      1.01\n",
      "    beta1[202]      0.03      0.99      0.03     -1.68      1.54   1064.94      1.00\n",
      "    beta1[203]      0.02      0.99      0.04     -1.60      1.65   1091.62      1.00\n",
      "    beta1[204]      0.02      0.99      0.03     -1.68      1.57   1139.24      1.00\n",
      "    beta1[205]     -0.10      1.03     -0.10     -1.82      1.57   1079.31      1.00\n",
      "    beta1[206]      0.01      0.99     -0.01     -1.55      1.64   1183.48      1.00\n",
      "    beta1[207]      0.01      0.97      0.02     -1.67      1.50   1223.75      1.00\n",
      "    beta1[208]     -0.02      0.99     -0.03     -1.66      1.61    983.66      1.00\n",
      "    beta1[209]     -0.05      0.98     -0.05     -1.77      1.52   1244.85      1.00\n",
      "    beta1[210]     -0.03      1.01     -0.03     -1.65      1.65   1103.79      1.00\n",
      "    beta1[211]      0.03      1.01      0.02     -1.55      1.71    890.56      1.00\n",
      "    beta1[212]     -0.02      1.01     -0.03     -1.72      1.58   1063.75      1.01\n",
      "    beta1[213]      0.01      1.01      0.03     -1.66      1.68   1017.98      1.01\n",
      "    beta1[214]      0.02      1.02      0.04     -1.60      1.71    877.01      1.00\n",
      "    beta1[215]      0.00      1.00      0.00     -1.59      1.71   1047.55      1.00\n",
      "    beta1[216]     -0.01      1.01      0.01     -1.70      1.62   1198.89      1.00\n",
      "    beta1[217]      0.05      0.99      0.03     -1.59      1.62   1037.15      1.01\n",
      "    beta1[218]      0.05      1.00      0.06     -1.58      1.67   1035.53      1.00\n",
      "    beta1[219]     -0.01      1.04     -0.03     -1.73      1.70    938.68      1.00\n",
      "    beta1[220]     -0.00      1.00      0.02     -1.66      1.66   1218.38      1.00\n",
      "    beta1[221]      0.02      1.00      0.02     -1.59      1.66   1119.16      1.00\n",
      "    beta1[222]     -0.04      1.01     -0.01     -1.73      1.59   1191.56      1.00\n",
      "    beta1[223]      0.01      1.02      0.04     -1.67      1.67    879.20      1.01\n",
      "    beta1[224]      0.04      0.97      0.04     -1.57      1.66   1191.00      1.00\n",
      "    beta1[225]      0.01      1.01     -0.00     -1.67      1.64    967.52      1.00\n",
      "    beta1[226]      0.00      1.01      0.03     -1.70      1.61   1016.40      1.00\n",
      "    beta1[227]     -0.03      1.01     -0.04     -1.72      1.60   1086.93      1.00\n",
      "    beta1[228]     -0.00      0.99      0.00     -1.56      1.67   1221.02      1.00\n",
      "    beta1[229]      0.00      0.98     -0.00     -1.58      1.65   1169.11      1.00\n",
      "    beta1[230]      0.05      1.01      0.05     -1.61      1.68    928.65      1.00\n",
      "    beta1[231]     -0.01      1.00     -0.01     -1.59      1.68   1025.14      1.00\n",
      "    beta1[232]      0.03      0.99      0.05     -1.64      1.62   1254.52      1.00\n",
      "    beta1[233]      0.05      1.00      0.06     -1.58      1.72   1104.24      1.01\n",
      "    beta1[234]     -0.01      0.96     -0.01     -1.60      1.54   1079.88      1.00\n",
      "    beta1[235]      0.02      1.03      0.01     -1.60      1.77   1125.72      1.00\n",
      "    beta1[236]      0.01      1.01     -0.01     -1.64      1.67   1197.34      1.00\n",
      "    beta1[237]      0.02      1.03      0.05     -1.76      1.68   1140.12      1.00\n",
      "    beta1[238]     -0.01      1.00     -0.00     -1.64      1.63   1125.14      1.00\n",
      "    beta1[239]     -0.02      1.00     -0.02     -1.56      1.68   1134.96      1.00\n",
      "    beta1[240]     -0.03      0.99     -0.02     -1.61      1.60   1078.65      1.00\n",
      "    beta1[241]      0.05      0.99      0.05     -1.50      1.72    948.48      1.00\n",
      "    beta1[242]      0.04      1.01      0.04     -1.60      1.74   1023.25      1.00\n",
      "    beta1[243]      0.03      0.99      0.03     -1.54      1.66   1029.53      1.00\n",
      "    beta1[244]      0.00      1.00      0.01     -1.70      1.57   1185.90      1.00\n",
      "    beta1[245]      0.02      0.99      0.04     -1.60      1.63   1047.29      1.00\n",
      "    beta1[246]     -0.00      1.00      0.01     -1.65      1.63   1255.48      1.00\n",
      "    beta1[247]     -0.02      1.01     -0.03     -1.63      1.66   1154.94      1.01\n",
      "    beta1[248]     -0.04      0.99     -0.01     -1.63      1.62    871.38      1.01\n",
      "    beta1[249]     -0.01      1.00     -0.01     -1.58      1.66    921.58      1.00\n",
      "    beta1[250]     -0.03      0.99     -0.03     -1.77      1.53   1138.84      1.00\n",
      "    beta1[251]      0.02      1.01      0.01     -1.61      1.68    992.14      1.00\n",
      "    beta1[252]     -0.00      0.99     -0.00     -1.64      1.58   1549.18      1.00\n",
      "    beta1[253]      0.05      1.03      0.04     -1.67      1.66    994.23      1.00\n",
      "    beta1[254]      0.03      0.95      0.03     -1.53      1.62   1358.32      1.00\n",
      "    beta1[255]      0.02      1.01      0.04     -1.62      1.67   1110.48      1.00\n",
      "    beta1[256]     -0.04      1.00     -0.01     -1.68      1.58    999.54      1.00\n",
      "    beta1[257]      0.03      0.96      0.04     -1.54      1.60   1104.27      1.00\n",
      "    beta1[258]     -0.02      1.03     -0.02     -1.67      1.73   1147.52      1.00\n",
      "    beta1[259]     -0.00      0.98     -0.01     -1.57      1.68   1111.61      1.01\n",
      "    beta1[260]     -0.01      1.02      0.01     -1.64      1.69   1098.39      1.00\n",
      "    beta1[261]     -0.03      0.99     -0.05     -1.62      1.61    968.10      1.00\n",
      "    beta1[262]     -0.03      1.00     -0.02     -1.69      1.58   1288.48      1.00\n",
      "    beta1[263]     -0.04      0.98     -0.04     -1.61      1.56   1157.27      1.00\n",
      "    beta1[264]     -0.02      0.98     -0.02     -1.59      1.64   1426.88      1.00\n",
      "    beta1[265]     -0.01      0.99      0.02     -1.73      1.52   1426.92      1.00\n",
      "    beta1[266]      0.02      0.98      0.01     -1.59      1.65   1209.21      1.00\n",
      "    beta1[267]      0.04      1.00      0.05     -1.56      1.74   1142.29      1.00\n",
      "    beta1[268]      0.01      0.97      0.01     -1.50      1.72    821.63      1.01\n",
      "    beta1[269]      0.02      1.01      0.02     -1.80      1.55   1148.38      1.00\n",
      "    beta1[270]     -0.01      0.98      0.00     -1.58      1.65   1121.35      1.00\n",
      "    beta1[271]     -0.01      1.00     -0.01     -1.72      1.58   1061.21      1.00\n",
      "    beta1[272]      0.05      1.01      0.04     -1.62      1.65   1040.36      1.00\n",
      "    beta1[273]      0.01      1.05      0.01     -1.69      1.74   1023.34      1.00\n",
      "    beta1[274]     -0.02      0.99     -0.01     -1.64      1.64   1173.38      1.01\n",
      "    beta1[275]     -0.02      1.02     -0.01     -1.75      1.60   1168.79      1.00\n",
      "    beta1[276]     -0.05      1.00     -0.05     -1.65      1.64   1086.79      1.00\n",
      "    beta1[277]     -0.03      1.00     -0.04     -1.64      1.62    846.65      1.00\n",
      "    beta1[278]     -0.07      1.02     -0.08     -1.76      1.61   1208.56      1.00\n",
      "    beta1[279]     -0.06      1.01     -0.06     -1.78      1.50    911.84      1.01\n",
      "    beta1[280]      0.01      1.02      0.02     -1.69      1.60   1076.62      1.00\n",
      "    beta1[281]     -0.02      0.98     -0.02     -1.60      1.62   1321.09      1.00\n",
      "    beta1[282]     -0.05      1.04     -0.04     -1.73      1.71    925.14      1.00\n",
      "    beta1[283]     -0.04      1.00     -0.03     -1.69      1.59    904.17      1.01\n",
      "    beta1[284]     -0.02      0.99     -0.02     -1.65      1.55   1008.97      1.00\n",
      "    beta1[285]      0.01      1.01      0.02     -1.67      1.64   1119.29      1.00\n",
      "    beta1[286]      0.03      0.99      0.00     -1.62      1.63    955.80      1.01\n",
      "    beta1[287]      0.01      0.96      0.03     -1.58      1.57   1107.32      1.01\n",
      "    beta1[288]      0.02      1.03      0.03     -1.64      1.73   1024.51      1.00\n",
      "    beta1[289]     -0.06      0.97     -0.06     -1.54      1.64   1059.89      1.00\n",
      "    beta1[290]      0.04      1.02      0.05     -1.69      1.67   1143.03      1.00\n",
      "    beta1[291]      0.02      0.97      0.02     -1.60      1.57   1251.57      1.01\n",
      "    beta1[292]      0.00      0.99      0.01     -1.53      1.72   1040.76      1.00\n",
      "    beta1[293]      0.01      1.01      0.02     -1.66      1.68   1197.21      1.00\n",
      "    beta1[294]      0.01      1.00     -0.01     -1.58      1.72   1170.31      1.00\n",
      "    beta1[295]     -0.03      0.99     -0.03     -1.63      1.63   1222.38      1.00\n",
      "    beta1[296]     -0.02      1.00     -0.02     -1.66      1.65   1125.56      1.00\n",
      "    beta1[297]      0.03      1.02      0.01     -1.73      1.58   1084.52      1.01\n",
      "    beta1[298]     -0.03      0.96     -0.06     -1.49      1.65   1317.57      1.00\n",
      "    beta1[299]     -0.04      0.97     -0.04     -1.55      1.62   1642.36      1.00\n",
      "    beta1[300]      0.02      1.00      0.05     -1.65      1.62   1167.31      1.00\n",
      "    beta1[301]      0.01      1.02      0.02     -1.63      1.74   1163.39      1.00\n",
      "    beta1[302]      0.05      0.99      0.07     -1.54      1.73   1162.68      1.00\n",
      "    beta1[303]      0.00      0.99      0.01     -1.60      1.64   1212.61      1.00\n",
      "    beta1[304]     -0.04      1.00     -0.05     -1.55      1.73   1066.50      1.00\n",
      "    beta1[305]      0.05      1.00      0.05     -1.55      1.78   1194.43      1.00\n",
      "    beta1[306]      0.02      0.99      0.02     -1.53      1.77   1249.50      1.00\n",
      "    beta1[307]      0.00      1.00      0.00     -1.62      1.69   1288.00      1.00\n",
      "    beta1[308]     -0.02      0.99     -0.01     -1.62      1.61   1246.62      1.00\n",
      "    beta1[309]      0.02      0.97      0.02     -1.52      1.69   1248.79      1.00\n",
      "    beta1[310]      0.05      0.98      0.05     -1.55      1.70   1114.82      1.00\n",
      "    beta1[311]      0.00      0.97     -0.00     -1.61      1.61   1497.49      1.00\n",
      "    beta1[312]     -0.04      0.99     -0.03     -1.63      1.61   1099.89      1.00\n",
      "    beta1[313]      0.01      1.00      0.01     -1.60      1.64   1038.84      1.00\n",
      "    beta1[314]      0.00      0.97      0.02     -1.55      1.65   1184.37      1.00\n",
      "    beta1[315]     -0.06      1.03     -0.07     -1.70      1.65   1067.38      1.01\n",
      "    beta1[316]      0.02      0.99      0.00     -1.63      1.63   1375.26      1.00\n",
      "    beta1[317]     -0.01      0.98     -0.01     -1.55      1.71    933.54      1.01\n",
      "    beta1[318]      0.06      1.01      0.04     -1.61      1.71   1241.02      1.00\n",
      "    beta1[319]     -0.01      0.97     -0.02     -1.63      1.56   1255.15      1.00\n",
      "    beta1[320]      0.02      0.99      0.03     -1.63      1.61   1053.96      1.00\n",
      "    beta1[321]     -0.02      1.00     -0.00     -1.63      1.69   1507.41      1.00\n",
      "    beta1[322]      0.00      1.01      0.02     -1.65      1.66   1001.25      1.01\n",
      "    beta1[323]     -0.03      0.99     -0.04     -1.64      1.61   1068.94      1.01\n",
      "    beta1[324]     -0.01      1.04     -0.03     -1.75      1.68    967.74      1.00\n",
      "    beta1[325]      0.02      0.96      0.01     -1.49      1.59   1023.11      1.01\n",
      "    beta1[326]     -0.02      0.99     -0.01     -1.62      1.63   1334.19      1.00\n",
      "    beta1[327]      0.05      1.00      0.06     -1.64      1.66   1279.07      1.00\n",
      "    beta1[328]      0.02      0.98      0.02     -1.58      1.66   1278.11      1.00\n",
      "    beta1[329]     -0.02      1.00     -0.02     -1.62      1.70   1158.64      1.01\n",
      "    beta1[330]      0.02      0.98      0.00     -1.60      1.66   1286.48      1.00\n",
      "    beta1[331]     -0.01      0.98     -0.02     -1.61      1.60   1139.50      1.00\n",
      "    beta1[332]      0.01      0.99      0.00     -1.61      1.64   1214.17      1.00\n",
      "    beta1[333]      0.02      0.99      0.05     -1.65      1.56   1184.22      1.00\n",
      "    beta1[334]     -0.04      1.00     -0.03     -1.76      1.54   1284.09      1.00\n",
      "    beta1[335]      0.00      0.98      0.02     -1.63      1.63   1235.84      1.00\n",
      "    beta1[336]      0.04      0.99      0.03     -1.58      1.64   1232.37      1.00\n",
      "    beta1[337]      0.03      0.98      0.04     -1.66      1.57   1097.77      1.00\n",
      "    beta1[338]      0.03      0.99      0.04     -1.66      1.58    958.62      1.00\n",
      "    beta1[339]     -0.02      0.98     -0.00     -1.64      1.57   1162.92      1.00\n",
      "    beta1[340]     -0.02      1.01     -0.00     -1.78      1.57    962.39      1.00\n",
      "    beta1[341]     -0.00      1.00     -0.01     -1.62      1.68   1016.49      1.01\n",
      "    beta1[342]     -0.01      1.04      0.00     -1.73      1.70   1084.62      1.00\n",
      "    beta1[343]      0.01      0.98     -0.01     -1.64      1.63   1174.50      1.00\n",
      "    beta1[344]      0.03      0.99      0.01     -1.57      1.70   1005.54      1.00\n",
      "    beta1[345]     -0.07      0.99     -0.09     -1.68      1.55   1079.15      1.00\n",
      "    beta1[346]     -0.01      1.00     -0.00     -1.74      1.57   1161.11      1.00\n",
      "    beta1[347]      0.02      0.97      0.01     -1.67      1.54   1124.88      1.00\n",
      "    beta1[348]     -0.02      0.99     -0.02     -1.61      1.61   1101.43      1.00\n",
      "    beta1[349]      0.04      1.01      0.04     -1.56      1.75   1239.96      1.01\n",
      "    beta1[350]      0.02      1.03      0.05     -1.61      1.76   1220.51      1.00\n",
      "    beta1[351]     -0.03      1.01     -0.01     -1.66      1.60   1194.46      1.00\n",
      "    beta1[352]      0.03      0.99      0.05     -1.66      1.56   1092.08      1.00\n",
      "    beta1[353]     -0.03      1.02     -0.05     -1.67      1.70   1187.12      1.00\n",
      "    beta1[354]     -0.01      1.01     -0.01     -1.61      1.70   1279.39      1.01\n",
      "    beta1[355]      0.03      1.00      0.02     -1.67      1.64   1128.11      1.00\n",
      "    beta1[356]     -0.03      0.99     -0.02     -1.64      1.58   1137.53      1.00\n",
      "    beta1[357]     -0.01      1.02     -0.04     -1.69      1.63   1005.79      1.00\n",
      "    beta1[358]      0.02      1.00      0.02     -1.61      1.65   1228.60      1.00\n",
      "    beta1[359]     -0.04      1.01     -0.03     -1.78      1.59   1057.22      1.00\n",
      "    beta1[360]     -0.01      0.98     -0.01     -1.56      1.64   1194.72      1.00\n",
      "    beta1[361]      0.01      1.02      0.01     -1.62      1.72    946.20      1.00\n",
      "    beta1[362]      0.02      1.00      0.05     -1.63      1.63   1034.05      1.00\n",
      "    beta1[363]      0.00      0.99      0.00     -1.67      1.59   1123.06      1.00\n",
      "    beta1[364]      0.00      1.01     -0.00     -1.70      1.64   1089.87      1.00\n",
      "    beta1[365]     -0.00      1.01      0.02     -1.65      1.70   1394.93      1.00\n",
      "    beta1[366]     -0.01      0.96     -0.02     -1.56      1.60   1226.34      1.00\n",
      "    beta1[367]     -0.02      0.99     -0.04     -1.58      1.64   1373.61      1.00\n",
      "    beta1[368]     -0.03      0.97     -0.03     -1.59      1.59   1311.03      1.00\n",
      "    beta1[369]     -0.02      0.98     -0.02     -1.59      1.62   1267.72      1.00\n",
      "    beta1[370]      0.02      1.00      0.01     -1.60      1.66   1058.66      1.01\n",
      "    beta1[371]     -0.03      0.98     -0.03     -1.69      1.50    968.22      1.00\n",
      "    beta1[372]      0.00      0.99     -0.01     -1.67      1.56   1167.05      1.00\n",
      "    beta1[373]     -0.04      1.02     -0.03     -1.78      1.57   1193.70      1.00\n",
      "    beta1[374]     -0.04      1.01     -0.01     -1.77      1.56   1267.10      1.00\n",
      "    beta1[375]     -0.02      1.00     -0.02     -1.64      1.66   1019.76      1.00\n",
      "    beta1[376]     -0.01      1.00     -0.01     -1.69      1.58   1176.21      1.00\n",
      "    beta1[377]     -0.02      1.00     -0.02     -1.66      1.62   1054.63      1.01\n",
      "    beta1[378]      0.02      0.98      0.00     -1.61      1.54   1190.09      1.00\n",
      "    beta1[379]     -0.01      1.01      0.01     -1.70      1.55   1201.47      1.00\n",
      "    beta1[380]     -0.04      0.98     -0.06     -1.70      1.56   1159.57      1.01\n",
      "    beta1[381]     -0.01      1.01     -0.01     -1.67      1.67   1041.07      1.00\n",
      "    beta1[382]     -0.03      1.01     -0.03     -1.65      1.71   1141.48      1.01\n",
      "    beta1[383]      0.02      1.01      0.01     -1.61      1.71    949.68      1.00\n",
      "    beta1[384]     -0.04      1.02     -0.06     -1.75      1.63   1114.76      1.00\n",
      "    beta1[385]      0.01      1.04      0.01     -1.67      1.72   1091.83      1.00\n",
      "    beta1[386]      0.01      0.98      0.02     -1.59      1.63   1233.43      1.00\n",
      "    beta1[387]      0.01      0.98      0.00     -1.60      1.62   1233.74      1.01\n",
      "    beta1[388]     -0.04      0.99     -0.04     -1.71      1.55   1093.14      1.00\n",
      "    beta1[389]      0.01      1.03      0.00     -1.70      1.71    949.29      1.01\n",
      "    beta1[390]     -0.00      1.00     -0.01     -1.62      1.62   1104.68      1.00\n",
      "    beta1[391]      0.06      1.00      0.06     -1.57      1.77   1023.57      1.00\n",
      "    beta1[392]      0.02      1.01      0.04     -1.67      1.64   1024.40      1.00\n",
      "    beta1[393]      0.03      1.01      0.03     -1.59      1.73   1097.26      1.00\n",
      "    beta1[394]      0.02      1.02      0.02     -1.61      1.72    897.20      1.00\n",
      "    beta1[395]      0.01      1.01      0.00     -1.61      1.71   1047.24      1.00\n",
      "    beta1[396]      0.01      1.01      0.03     -1.69      1.58   1056.56      1.01\n",
      "    beta1[397]     -0.05      0.99     -0.05     -1.68      1.56    931.13      1.00\n",
      "    beta1[398]      0.00      1.00     -0.01     -1.66      1.64   1208.23      1.00\n",
      "    beta1[399]      0.01      0.98      0.03     -1.59      1.60    922.51      1.00\n",
      "      beta2[0]      1.35      0.89      1.35     -0.05      2.84   1150.75      1.00\n",
      "      beta2[1]     -1.19      0.95     -1.20     -2.75      0.36   1218.64      1.00\n",
      "      beta2[2]     -0.40      0.92     -0.40     -1.98      1.07   1071.19      1.01\n",
      "      beta2[3]      1.37      0.89      1.39     -0.08      2.85   1152.51      1.00\n",
      "      beta2[4]     -0.72      0.93     -0.72     -2.20      0.83   1066.57      1.00\n",
      "      beta2[5]     -0.60      0.95     -0.60     -2.19      0.97    950.84      1.01\n",
      "      beta2[6]      1.11      0.91      1.12     -0.37      2.62    883.75      1.01\n",
      "      beta2[7]     -0.39      0.90     -0.40     -1.83      1.12    916.14      1.00\n",
      "      beta2[8]     -0.67      0.90     -0.64     -2.18      0.77    952.20      1.00\n",
      "      beta2[9]      0.88      0.91      0.87     -0.58      2.44    888.01      1.01\n",
      "     beta2[10]     -0.14      0.92     -0.11     -1.69      1.34    776.57      1.01\n",
      "     beta2[11]     -0.53      0.95     -0.53     -2.08      1.03    875.22      1.00\n",
      "     beta2[12]      0.42      0.91      0.42     -1.04      1.92    863.87      1.01\n",
      "     beta2[13]     -0.09      0.92     -0.11     -1.61      1.42   1018.26      1.00\n",
      "     beta2[14]     -0.13      0.92     -0.14     -1.62      1.39    891.79      1.00\n",
      "     beta2[15]      0.41      0.86      0.42     -1.06      1.77    948.28      1.00\n",
      "     beta2[16]     -0.49      0.90     -0.49     -1.92      1.03    993.83      1.00\n",
      "     beta2[17]      0.01      0.90      0.00     -1.53      1.44    832.36      1.01\n",
      "     beta2[18]      0.77      0.84      0.78     -0.67      2.12   1122.49      1.00\n",
      "     beta2[19]     -0.63      0.90     -0.60     -2.15      0.81    732.89      1.00\n",
      "     beta2[20]     -1.03      0.92     -1.02     -2.51      0.54    947.55      1.01\n",
      "     beta2[21]      0.68      1.01      0.68     -0.95      2.34   1122.99      1.00\n",
      "     beta2[22]      0.57      0.94      0.58     -0.97      2.09   1289.21      1.00\n",
      "     beta2[23]     -0.93      0.95     -0.91     -2.39      0.69   1036.27      1.00\n",
      "     beta2[24]      0.13      0.92      0.12     -1.48      1.55    807.44      1.00\n",
      "     beta2[25]      0.70      0.96      0.73     -0.84      2.25   1196.68      1.00\n",
      "     beta2[26]     -0.49      0.91     -0.49     -1.94      1.03   1089.43      1.01\n",
      "     beta2[27]     -0.12      0.94     -0.12     -1.72      1.37   1199.81      1.00\n",
      "     beta2[28]      0.49      0.93      0.49     -1.05      2.04    930.65      1.01\n",
      "     beta2[29]     -0.19      0.96     -0.22     -1.74      1.48    912.81      1.00\n",
      "     beta2[30]     -0.16      0.96     -0.16     -1.79      1.41   1019.15      1.00\n",
      "     beta2[31]      0.36      0.93      0.38     -1.13      1.89   1230.82      1.00\n",
      "     beta2[32]     -0.20      0.97     -0.18     -1.73      1.45   1025.54      1.01\n",
      "     beta2[33]     -0.04      0.97     -0.05     -1.69      1.51    938.57      1.00\n",
      "     beta2[34]      0.22      0.90      0.22     -1.26      1.67   1309.99      1.01\n",
      "     beta2[35]     -0.18      0.93     -0.20     -1.67      1.37   1119.34      1.00\n",
      "     beta2[36]      0.03      0.95      0.03     -1.58      1.61   1206.47      1.00\n",
      "     beta2[37]      0.20      0.93      0.21     -1.28      1.73   1203.90      1.00\n",
      "     beta2[38]     -0.26      0.92     -0.27     -1.74      1.30   1211.95      1.00\n",
      "     beta2[39]     -0.01      0.95     -0.01     -1.48      1.61    943.33      1.01\n",
      "     beta2[40]      0.34      0.93      0.35     -1.19      1.82   1070.67      1.01\n",
      "     beta2[41]     -0.08      0.97     -0.09     -1.68      1.48   1056.31      1.00\n",
      "     beta2[42]     -0.30      0.95     -0.29     -1.96      1.16    989.74      1.00\n",
      "     beta2[43]      0.18      0.94      0.19     -1.34      1.74   1033.72      1.00\n",
      "     beta2[44]      0.28      0.92      0.28     -1.31      1.75   1139.53      1.00\n",
      "     beta2[45]     -0.35      0.94     -0.34     -1.88      1.17   1164.76      1.00\n",
      "     beta2[46]     -0.05      0.95     -0.05     -1.62      1.50   1047.15      1.00\n",
      "     beta2[47]      0.33      0.96      0.34     -1.31      1.84   1014.95      1.00\n",
      "     beta2[48]     -0.09      0.97     -0.10     -1.68      1.47    909.21      1.00\n",
      "     beta2[49]     -0.17      0.95     -0.15     -1.83      1.24    775.61      1.00\n",
      "     beta2[50]      0.15      0.97      0.16     -1.42      1.73    898.83      1.01\n",
      "     beta2[51]      0.00      0.93     -0.00     -1.63      1.46   1178.79      1.00\n",
      "     beta2[52]     -0.10      0.95     -0.10     -1.67      1.45    950.40      1.00\n",
      "     beta2[53]      0.12      0.98      0.10     -1.48      1.74   1067.17      1.00\n",
      "     beta2[54]     -0.07      0.96     -0.07     -1.64      1.49   1099.48      1.01\n",
      "     beta2[55]     -0.00      0.93     -0.01     -1.43      1.60   1267.10      1.00\n",
      "     beta2[56]      0.21      0.93      0.23     -1.31      1.71   1051.48      1.00\n",
      "     beta2[57]     -0.22      0.95     -0.22     -1.83      1.26    826.37      1.01\n",
      "     beta2[58]     -0.11      0.95     -0.11     -1.72      1.46    964.33      1.01\n",
      "     beta2[59]      0.33      0.97      0.33     -1.22      1.97    907.43      1.00\n",
      "     beta2[60]     -0.03      1.00     -0.04     -1.72      1.59   1262.03      1.01\n",
      "     beta2[61]     -0.02      1.04     -0.04     -1.76      1.67    868.12      1.00\n",
      "     beta2[62]      0.02      1.01     -0.00     -1.66      1.60   1069.45      1.00\n",
      "     beta2[63]      0.04      0.97      0.02     -1.57      1.62   1114.92      1.01\n",
      "     beta2[64]      0.05      1.03      0.08     -1.71      1.69   1123.49      1.00\n",
      "     beta2[65]      0.05      1.01      0.04     -1.62      1.68   1054.52      1.00\n",
      "     beta2[66]      0.01      1.00      0.02     -1.52      1.73   1173.40      1.01\n",
      "     beta2[67]     -0.02      0.99     -0.04     -1.68      1.60   1093.23      1.00\n",
      "     beta2[68]     -0.03      1.00     -0.03     -1.67      1.63    912.26      1.00\n",
      "     beta2[69]      0.00      0.99     -0.02     -1.67      1.61   1278.44      1.00\n",
      "     beta2[70]     -0.04      1.01     -0.08     -1.65      1.66   1230.01      1.00\n",
      "     beta2[71]     -0.00      1.01     -0.01     -1.71      1.61   1027.88      1.00\n",
      "     beta2[72]     -0.01      1.02     -0.00     -1.68      1.63    989.85      1.00\n",
      "     beta2[73]      0.00      1.00     -0.01     -1.62      1.66   1145.55      1.01\n",
      "     beta2[74]      0.01      1.00     -0.01     -1.56      1.73   1082.71      1.00\n",
      "     beta2[75]      0.02      1.01      0.01     -1.59      1.73   1079.89      1.00\n",
      "     beta2[76]     -0.02      1.01     -0.02     -1.73      1.57   1129.52      1.00\n",
      "     beta2[77]     -0.02      1.00     -0.02     -1.70      1.60   1059.65      1.00\n",
      "     beta2[78]     -0.05      1.00     -0.05     -1.81      1.50    926.14      1.00\n",
      "     beta2[79]     -0.01      0.98     -0.02     -1.59      1.58   1084.92      1.00\n",
      "     beta2[80]     -0.04      1.03     -0.06     -1.73      1.66   1022.03      1.00\n",
      "     beta2[81]      0.06      0.99      0.05     -1.56      1.73   1233.97      1.00\n",
      "     beta2[82]      0.07      0.97      0.06     -1.55      1.62   1256.27      1.00\n",
      "     beta2[83]     -0.04      1.01     -0.05     -1.75      1.53   1066.27      1.00\n",
      "     beta2[84]     -0.07      0.99     -0.05     -1.71      1.53   1189.39      1.00\n",
      "     beta2[85]      0.02      0.97      0.03     -1.58      1.67   1200.66      1.00\n",
      "     beta2[86]      0.05      1.01      0.04     -1.62      1.70   1161.98      1.01\n",
      "     beta2[87]     -0.09      1.00     -0.10     -1.82      1.51   1135.08      1.00\n",
      "     beta2[88]     -0.03      0.97     -0.01     -1.64      1.54   1036.69      1.00\n",
      "     beta2[89]      0.09      0.99      0.10     -1.54      1.67   1097.12      1.00\n",
      "     beta2[90]      0.02      0.99      0.00     -1.61      1.68   1150.13      1.00\n",
      "     beta2[91]      0.02      0.99      0.04     -1.63      1.62   1078.64      1.00\n",
      "     beta2[92]     -0.00      1.00      0.01     -1.64      1.63   1008.70      1.00\n",
      "     beta2[93]      0.02      1.00      0.05     -1.65      1.62   1206.61      1.00\n",
      "     beta2[94]      0.05      0.98      0.06     -1.63      1.60    978.31      1.00\n",
      "     beta2[95]     -0.03      1.00     -0.05     -1.72      1.59    792.52      1.00\n",
      "     beta2[96]     -0.05      0.96     -0.04     -1.66      1.48   1279.99      1.00\n",
      "     beta2[97]      0.06      0.98      0.06     -1.56      1.67   1090.83      1.01\n",
      "     beta2[98]      0.05      1.00      0.05     -1.60      1.66   1366.38      1.00\n",
      "     beta2[99]     -0.13      0.96     -0.12     -1.76      1.40   1108.66      1.01\n",
      "    beta2[100]      0.08      1.03      0.10     -1.67      1.69   1142.56      1.00\n",
      "    beta2[101]     -0.07      1.03     -0.08     -1.78      1.62    788.91      1.00\n",
      "    beta2[102]     -0.02      1.01     -0.06     -1.74      1.60   1027.08      1.00\n",
      "    beta2[103]      0.11      1.00      0.12     -1.45      1.86   1131.61      1.00\n",
      "    beta2[104]     -0.03      0.99     -0.03     -1.71      1.51   1051.77      1.00\n",
      "    beta2[105]     -0.04      1.03     -0.04     -1.73      1.66    991.76      1.00\n",
      "    beta2[106]      0.04      1.05      0.05     -1.69      1.77    934.35      1.00\n",
      "    beta2[107]      0.01      0.99      0.00     -1.59      1.66   1349.59      1.01\n",
      "    beta2[108]     -0.05      0.99     -0.03     -1.71      1.50    979.41      1.01\n",
      "    beta2[109]     -0.03      0.99     -0.03     -1.69      1.58   1270.11      1.00\n",
      "    beta2[110]      0.04      0.98      0.04     -1.64      1.56   1321.53      1.00\n",
      "    beta2[111]     -0.01      1.02     -0.03     -1.63      1.68   1161.58      1.00\n",
      "    beta2[112]      0.01      0.96      0.00     -1.57      1.60   1080.45      1.01\n",
      "    beta2[113]     -0.02      1.01      0.01     -1.65      1.64    986.48      1.00\n",
      "    beta2[114]     -0.05      1.01     -0.03     -1.75      1.54   1203.78      1.00\n",
      "    beta2[115]      0.04      0.97      0.04     -1.54      1.64   1161.49      1.00\n",
      "    beta2[116]     -0.03      1.04     -0.03     -1.76      1.64   1047.81      1.00\n",
      "    beta2[117]     -0.02      0.98     -0.01     -1.61      1.62   1055.90      1.00\n",
      "    beta2[118]      0.01      0.99     -0.01     -1.55      1.70   1156.00      1.00\n",
      "    beta2[119]     -0.06      0.98     -0.07     -1.62      1.56    979.78      1.00\n",
      "    beta2[120]     -0.01      0.99     -0.00     -1.64      1.65   1072.23      1.01\n",
      "    beta2[121]      0.04      0.96      0.05     -1.51      1.65   1421.14      1.00\n",
      "    beta2[122]      0.02      1.01      0.01     -1.60      1.67    995.18      1.01\n",
      "    beta2[123]     -0.05      1.00     -0.04     -1.67      1.60   1559.17      1.00\n",
      "    beta2[124]     -0.01      1.02     -0.00     -1.69      1.67   1082.76      1.00\n",
      "    beta2[125]      0.03      0.96      0.06     -1.51      1.64   1450.96      1.00\n",
      "    beta2[126]     -0.04      0.97     -0.05     -1.59      1.60   1097.59      1.01\n",
      "    beta2[127]      0.05      1.01      0.05     -1.61      1.70   1071.92      1.00\n",
      "    beta2[128]      0.05      0.97      0.05     -1.51      1.69   1499.35      1.00\n",
      "    beta2[129]      0.01      0.97     -0.01     -1.65      1.51   1085.78      1.00\n",
      "    beta2[130]      0.04      1.00      0.05     -1.61      1.68   1198.80      1.00\n",
      "    beta2[131]      0.02      0.98      0.01     -1.71      1.50   1209.28      1.00\n",
      "    beta2[132]     -0.05      0.99     -0.06     -1.71      1.59   1126.15      1.00\n",
      "    beta2[133]      0.01      1.04     -0.02     -1.68      1.69   1081.20      1.01\n",
      "    beta2[134]     -0.01      1.03     -0.01     -1.82      1.60    955.53      1.00\n",
      "    beta2[135]      0.06      1.03      0.06     -1.65      1.72   1047.08      1.00\n",
      "    beta2[136]      0.02      0.98      0.02     -1.59      1.60    993.57      1.01\n",
      "    beta2[137]      0.01      1.01      0.00     -1.59      1.71   1111.64      1.00\n",
      "    beta2[138]     -0.02      1.01     -0.04     -1.69      1.63   1310.12      1.00\n",
      "    beta2[139]     -0.00      0.99      0.00     -1.65      1.59   1071.57      1.00\n",
      "    beta2[140]      0.05      1.01      0.07     -1.66      1.69   1095.77      1.00\n",
      "    beta2[141]     -0.01      0.99     -0.03     -1.54      1.71    880.91      1.00\n",
      "    beta2[142]     -0.05      0.99     -0.05     -1.76      1.51   1255.79      1.00\n",
      "    beta2[143]     -0.00      0.99     -0.01     -1.61      1.66   1172.12      1.00\n",
      "    beta2[144]      0.03      0.99      0.01     -1.78      1.52   1047.60      1.00\n",
      "    beta2[145]     -0.04      0.99     -0.02     -1.61      1.63   1171.85      1.00\n",
      "    beta2[146]      0.01      1.01      0.02     -1.60      1.71   1192.32      1.00\n",
      "    beta2[147]     -0.00      1.03      0.01     -1.67      1.76   1068.13      1.00\n",
      "    beta2[148]     -0.00      1.00     -0.02     -1.65      1.62   1255.08      1.00\n",
      "    beta2[149]      0.00      1.04      0.00     -1.77      1.61    920.09      1.00\n",
      "    beta2[150]      0.01      1.00      0.01     -1.64      1.64   1290.34      1.00\n",
      "    beta2[151]      0.08      1.02      0.08     -1.61      1.74    745.24      1.01\n",
      "    beta2[152]      0.03      0.98      0.03     -1.67      1.57   1167.66      1.01\n",
      "    beta2[153]     -0.00      1.02     -0.00     -1.60      1.76   1205.67      1.00\n",
      "    beta2[154]      0.02      0.99      0.01     -1.54      1.74   1115.01      1.00\n",
      "    beta2[155]     -0.01      1.00      0.02     -1.66      1.64   1183.63      1.00\n",
      "    beta2[156]     -0.08      1.00     -0.09     -1.76      1.53   1051.41      1.00\n",
      "    beta2[157]      0.00      1.00      0.01     -1.64      1.62    969.78      1.00\n",
      "    beta2[158]      0.02      1.00      0.02     -1.59      1.69   1177.37      1.00\n",
      "    beta2[159]      0.03      1.04      0.03     -1.67      1.76    950.46      1.00\n",
      "    beta2[160]     -0.04      1.03     -0.03     -1.75      1.64   1016.49      1.01\n",
      "    beta2[161]      0.01      1.00      0.04     -1.67      1.56    985.98      1.00\n",
      "    beta2[162]      0.00      0.99      0.00     -1.66      1.65   1177.34      1.00\n",
      "    beta2[163]      0.05      0.98      0.05     -1.61      1.66   1155.40      1.00\n",
      "    beta2[164]     -0.01      0.98      0.00     -1.54      1.66   1502.33      1.00\n",
      "    beta2[165]     -0.03      1.01     -0.02     -1.71      1.59   1091.22      1.01\n",
      "    beta2[166]      0.00      0.99     -0.01     -1.63      1.64   1054.44      1.00\n",
      "    beta2[167]     -0.05      0.98     -0.04     -1.72      1.49    812.31      1.00\n",
      "    beta2[168]     -0.01      0.99     -0.01     -1.70      1.53   1207.53      1.00\n",
      "    beta2[169]     -0.02      1.01     -0.01     -1.63      1.67   1033.87      1.00\n",
      "    beta2[170]     -0.00      1.01     -0.03     -1.70      1.65   1333.07      1.00\n",
      "    beta2[171]      0.02      1.01      0.02     -1.69      1.60   1123.61      1.00\n",
      "    beta2[172]     -0.00      1.01     -0.00     -1.63      1.66   1228.98      1.00\n",
      "    beta2[173]     -0.04      1.05     -0.07     -1.83      1.62    685.44      1.00\n",
      "    beta2[174]      0.00      1.01     -0.00     -1.63      1.68   1076.60      1.00\n",
      "    beta2[175]      0.03      1.00      0.02     -1.58      1.72   1205.83      1.00\n",
      "    beta2[176]     -0.01      1.04     -0.02     -1.71      1.69    887.31      1.00\n",
      "    beta2[177]     -0.01      0.97      0.01     -1.57      1.61   1289.84      1.01\n",
      "    beta2[178]     -0.01      1.01     -0.03     -1.69      1.65   1016.57      1.00\n",
      "    beta2[179]      0.02      1.00      0.02     -1.68      1.60   1107.60      1.00\n",
      "    beta2[180]     -0.03      0.99     -0.01     -1.70      1.49   1076.05      1.00\n",
      "    beta2[181]      0.02      1.00      0.02     -1.60      1.68    798.70      1.01\n",
      "    beta2[182]     -0.02      0.97     -0.03     -1.60      1.61   1411.22      1.00\n",
      "    beta2[183]     -0.00      0.98     -0.00     -1.60      1.56   1095.54      1.00\n",
      "    beta2[184]      0.02      1.00      0.04     -1.57      1.72   1096.76      1.00\n",
      "    beta2[185]     -0.01      0.99      0.00     -1.62      1.64   1281.61      1.00\n",
      "    beta2[186]      0.02      1.00      0.01     -1.62      1.64   1001.04      1.01\n",
      "    beta2[187]      0.03      1.02      0.05     -1.67      1.65   1194.47      1.00\n",
      "    beta2[188]     -0.00      1.01     -0.00     -1.73      1.61   1061.63      1.00\n",
      "    beta2[189]      0.01      1.02      0.01     -1.68      1.67    978.16      1.00\n",
      "    beta2[190]      0.02      0.98      0.02     -1.60      1.63   1371.65      1.00\n",
      "    beta2[191]      0.02      0.97      0.02     -1.57      1.60   1195.28      1.00\n",
      "    beta2[192]      0.02      0.97      0.03     -1.60      1.62    990.33      1.01\n",
      "    beta2[193]      0.01      1.01      0.03     -1.55      1.74    918.81      1.00\n",
      "    beta2[194]     -0.01      1.01     -0.01     -1.64      1.71   1008.92      1.00\n",
      "    beta2[195]      0.02      1.01      0.01     -1.65      1.69   1237.77      1.00\n",
      "    beta2[196]     -0.06      0.98     -0.07     -1.66      1.56   1280.48      1.00\n",
      "    beta2[197]     -0.01      0.99     -0.01     -1.63      1.63   1231.04      1.00\n",
      "    beta2[198]      0.01      0.99     -0.00     -1.59      1.68    981.51      1.00\n",
      "    beta2[199]      0.04      0.97      0.04     -1.56      1.63   1007.60      1.00\n",
      "    beta2[200]     -0.02      0.97     -0.03     -1.69      1.52   1121.79      1.00\n",
      "    beta2[201]     -0.06      1.00     -0.04     -1.62      1.68   1128.01      1.00\n",
      "    beta2[202]      0.02      1.01      0.02     -1.68      1.64   1041.45      1.00\n",
      "    beta2[203]     -0.02      1.00     -0.01     -1.72      1.56   1201.72      1.00\n",
      "    beta2[204]      0.00      0.99      0.00     -1.60      1.62   1232.85      1.00\n",
      "    beta2[205]     -0.02      1.00     -0.01     -1.64      1.62   1084.47      1.00\n",
      "    beta2[206]      0.01      0.98      0.01     -1.57      1.67   1242.26      1.00\n",
      "    beta2[207]     -0.02      1.01     -0.01     -1.70      1.63   1399.05      1.00\n",
      "    beta2[208]      0.01      0.97      0.01     -1.52      1.66   1394.92      1.01\n",
      "    beta2[209]     -0.01      1.01      0.00     -1.72      1.56   1065.54      1.00\n",
      "    beta2[210]     -0.05      1.00     -0.06     -1.72      1.58   1163.56      1.00\n",
      "    beta2[211]     -0.01      0.99     -0.02     -1.63      1.63   1103.60      1.00\n",
      "    beta2[212]     -0.01      0.97     -0.01     -1.56      1.62   1300.44      1.00\n",
      "    beta2[213]     -0.04      1.00     -0.02     -1.70      1.58   1301.03      1.00\n",
      "    beta2[214]      0.00      1.01      0.00     -1.70      1.66   1125.91      1.00\n",
      "    beta2[215]     -0.04      0.97     -0.05     -1.64      1.54   1404.49      1.00\n",
      "    beta2[216]      0.01      1.00      0.02     -1.67      1.63   1082.60      1.00\n",
      "    beta2[217]     -0.05      0.99     -0.05     -1.67      1.55   1322.88      1.00\n",
      "    beta2[218]      0.04      0.99      0.02     -1.60      1.66   1042.20      1.00\n",
      "    beta2[219]     -0.05      1.01     -0.04     -1.65      1.68   1222.45      1.01\n",
      "    beta2[220]     -0.01      1.01     -0.00     -1.75      1.60    949.79      1.00\n",
      "    beta2[221]      0.03      0.99      0.03     -1.60      1.66   1351.30      1.00\n",
      "    beta2[222]      0.00      0.97      0.00     -1.62      1.60   1329.72      1.00\n",
      "    beta2[223]     -0.02      0.99     -0.03     -1.74      1.51   1055.38      1.00\n",
      "    beta2[224]     -0.04      1.00     -0.02     -1.70      1.58   1107.83      1.00\n",
      "    beta2[225]      0.00      0.98      0.02     -1.63      1.52    865.38      1.01\n",
      "    beta2[226]     -0.01      1.00     -0.01     -1.62      1.64   1230.35      1.00\n",
      "    beta2[227]      0.00      0.98      0.01     -1.64      1.60   1258.62      1.00\n",
      "    beta2[228]      0.03      1.03      0.02     -1.71      1.64    874.85      1.00\n",
      "    beta2[229]     -0.00      1.00     -0.01     -1.67      1.62   1182.65      1.00\n",
      "    beta2[230]     -0.01      1.04     -0.01     -1.71      1.70    983.94      1.00\n",
      "    beta2[231]     -0.01      0.98      0.01     -1.63      1.58   1100.47      1.00\n",
      "    beta2[232]     -0.03      1.04     -0.03     -1.80      1.60    975.45      1.01\n",
      "    beta2[233]      0.04      1.01      0.01     -1.66      1.66   1224.39      1.00\n",
      "    beta2[234]     -0.00      0.97     -0.01     -1.56      1.64   1334.19      1.00\n",
      "    beta2[235]     -0.02      0.98     -0.01     -1.57      1.67   1046.61      1.00\n",
      "    beta2[236]     -0.03      1.00     -0.04     -1.67      1.58   1045.93      1.01\n",
      "    beta2[237]      0.01      1.00     -0.03     -1.55      1.70   1203.71      1.01\n",
      "    beta2[238]     -0.06      0.99     -0.05     -1.74      1.48   1123.21      1.00\n",
      "    beta2[239]     -0.02      1.03     -0.02     -1.72      1.69   1068.23      1.00\n",
      "    beta2[240]     -0.06      1.01     -0.05     -1.66      1.65   1118.55      1.00\n",
      "    beta2[241]      0.02      1.02      0.02     -1.62      1.67   1008.54      1.00\n",
      "    beta2[242]      0.02      1.01      0.02     -1.62      1.75   1170.42      1.00\n",
      "    beta2[243]     -0.03      0.97     -0.03     -1.54      1.59   1298.65      1.00\n",
      "    beta2[244]     -0.03      1.01     -0.02     -1.64      1.65    897.11      1.01\n",
      "    beta2[245]     -0.03      1.03     -0.01     -1.81      1.60    919.82      1.00\n",
      "    beta2[246]     -0.01      0.99      0.00     -1.64      1.63   1286.97      1.00\n",
      "    beta2[247]     -0.03      0.96     -0.03     -1.65      1.52   1181.47      1.00\n",
      "    beta2[248]      0.01      0.99      0.01     -1.54      1.76   1070.15      1.00\n",
      "    beta2[249]      0.05      0.97      0.06     -1.55      1.64   1050.74      1.00\n",
      "    beta2[250]     -0.04      0.98     -0.06     -1.73      1.53   1258.87      1.00\n",
      "    beta2[251]     -0.03      1.00     -0.02     -1.67      1.62    950.40      1.01\n",
      "    beta2[252]      0.01      0.99      0.01     -1.55      1.68   1150.29      1.00\n",
      "    beta2[253]     -0.01      0.99     -0.00     -1.58      1.67    981.09      1.00\n",
      "    beta2[254]     -0.05      1.01     -0.04     -1.76      1.58   1181.86      1.01\n",
      "    beta2[255]      0.01      0.98      0.00     -1.65      1.56   1213.14      1.00\n",
      "    beta2[256]      0.02      1.00      0.02     -1.59      1.67   1093.27      1.00\n",
      "    beta2[257]      0.01      1.00      0.00     -1.70      1.60   1303.85      1.00\n",
      "    beta2[258]      0.01      1.00      0.01     -1.63      1.64    935.63      1.00\n",
      "    beta2[259]      0.03      0.99      0.02     -1.56      1.66   1329.82      1.00\n",
      "    beta2[260]     -0.02      0.96     -0.01     -1.53      1.63   1143.63      1.00\n",
      "    beta2[261]     -0.02      0.99      0.01     -1.62      1.64   1111.13      1.01\n",
      "    beta2[262]      0.01      0.98      0.01     -1.53      1.65   1395.31      1.00\n",
      "    beta2[263]     -0.05      0.99     -0.06     -1.72      1.57   1261.11      1.00\n",
      "    beta2[264]     -0.03      1.01     -0.02     -1.74      1.58   1212.28      1.00\n",
      "    beta2[265]     -0.02      1.01     -0.04     -1.75      1.57   1000.36      1.01\n",
      "    beta2[266]      0.00      1.02      0.00     -1.77      1.58   1017.28      1.00\n",
      "    beta2[267]     -0.00      1.01      0.01     -1.60      1.67   1025.12      1.00\n",
      "    beta2[268]     -0.02      1.02      0.01     -1.59      1.73    894.25      1.00\n",
      "    beta2[269]      0.02      1.01      0.03     -1.65      1.64   1170.32      1.01\n",
      "    beta2[270]      0.01      0.98      0.03     -1.65      1.60   1004.12      1.01\n",
      "    beta2[271]     -0.03      1.06     -0.03     -1.74      1.74    605.47      1.01\n",
      "    beta2[272]      0.02      1.01      0.04     -1.67      1.60   1060.62      1.00\n",
      "    beta2[273]      0.02      1.04      0.02     -1.67      1.70   1165.98      1.00\n",
      "    beta2[274]      0.01      1.00      0.01     -1.59      1.67    988.34      1.01\n",
      "    beta2[275]     -0.07      1.00     -0.09     -1.72      1.57    866.45      1.01\n",
      "    beta2[276]     -0.00      0.98     -0.00     -1.47      1.71   1295.89      1.00\n",
      "    beta2[277]      0.06      1.01      0.05     -1.53      1.79   1044.41      1.00\n",
      "    beta2[278]      0.01      1.01      0.02     -1.65      1.71   1015.85      1.00\n",
      "    beta2[279]      0.01      0.99      0.01     -1.60      1.66   1398.54      1.00\n",
      "    beta2[280]      0.06      1.00      0.05     -1.62      1.66   1196.88      1.00\n",
      "    beta2[281]     -0.03      1.00     -0.04     -1.60      1.70   1089.67      1.00\n",
      "    beta2[282]     -0.01      1.03     -0.01     -1.74      1.62    873.33      1.00\n",
      "    beta2[283]      0.03      1.02      0.03     -1.67      1.68    970.09      1.01\n",
      "    beta2[284]      0.06      0.99      0.06     -1.54      1.75   1410.47      1.00\n",
      "    beta2[285]      0.03      1.00      0.04     -1.67      1.62   1049.23      1.00\n",
      "    beta2[286]     -0.00      1.01     -0.01     -1.55      1.78   1180.29      1.00\n",
      "    beta2[287]     -0.02      0.99     -0.02     -1.64      1.64   1136.69      1.01\n",
      "    beta2[288]     -0.00      0.99     -0.02     -1.62      1.63   1367.16      1.00\n",
      "    beta2[289]      0.07      1.00      0.05     -1.47      1.77   1082.45      1.00\n",
      "    beta2[290]     -0.04      0.99     -0.04     -1.68      1.61   1313.70      1.01\n",
      "    beta2[291]      0.03      0.99      0.03     -1.56      1.65   1178.07      1.00\n",
      "    beta2[292]     -0.00      1.02     -0.01     -1.65      1.69   1008.92      1.00\n",
      "    beta2[293]      0.01      1.01     -0.01     -1.70      1.61   1081.61      1.00\n",
      "    beta2[294]      0.04      1.01      0.02     -1.60      1.73    978.85      1.00\n",
      "    beta2[295]      0.03      1.02      0.01     -1.66      1.65   1026.83      1.00\n",
      "    beta2[296]     -0.04      0.99     -0.03     -1.63      1.62   1162.39      1.00\n",
      "    beta2[297]      0.00      1.01     -0.02     -1.60      1.72   1122.21      1.00\n",
      "    beta2[298]     -0.00      0.98     -0.01     -1.63      1.58   1228.79      1.00\n",
      "    beta2[299]     -0.01      1.01      0.01     -1.68      1.56    955.91      1.00\n",
      "    beta2[300]     -0.00      0.97      0.01     -1.56      1.60   1324.07      1.00\n",
      "    beta2[301]     -0.01      0.98     -0.02     -1.66      1.53    877.92      1.00\n",
      "    beta2[302]      0.01      1.05     -0.02     -1.69      1.77    910.62      1.00\n",
      "    beta2[303]     -0.04      0.97     -0.05     -1.59      1.58   1146.07      1.00\n",
      "    beta2[304]     -0.03      1.01     -0.02     -1.68      1.63   1054.14      1.00\n",
      "    beta2[305]     -0.03      0.99     -0.03     -1.67      1.58    962.98      1.00\n",
      "    beta2[306]      0.04      0.97      0.04     -1.49      1.71   1145.51      1.00\n",
      "    beta2[307]      0.05      1.01      0.04     -1.58      1.71   1181.72      1.00\n",
      "    beta2[308]     -0.02      1.00     -0.02     -1.60      1.68   1360.72      1.01\n",
      "    beta2[309]     -0.01      1.00     -0.02     -1.64      1.62   1176.26      1.00\n",
      "    beta2[310]     -0.05      0.97     -0.05     -1.66      1.54   1248.24      1.00\n",
      "    beta2[311]     -0.03      0.97     -0.03     -1.60      1.61   1160.06      1.00\n",
      "    beta2[312]      0.02      0.99      0.02     -1.62      1.57   1077.90      1.00\n",
      "    beta2[313]     -0.05      1.03     -0.04     -1.76      1.58   1028.22      1.00\n",
      "    beta2[314]      0.04      1.01      0.04     -1.61      1.69    940.59      1.01\n",
      "    beta2[315]      0.03      1.01      0.04     -1.57      1.75   1257.77      1.00\n",
      "    beta2[316]     -0.04      0.99     -0.07     -1.68      1.56    962.03      1.01\n",
      "    beta2[317]     -0.04      0.99     -0.05     -1.72      1.54   1280.71      1.01\n",
      "    beta2[318]     -0.00      1.00     -0.00     -1.61      1.64   1013.69      1.01\n",
      "    beta2[319]     -0.02      1.01     -0.01     -1.72      1.64   1257.47      1.00\n",
      "    beta2[320]     -0.01      0.99     -0.03     -1.64      1.59   1070.43      1.00\n",
      "    beta2[321]      0.02      0.97      0.00     -1.54      1.68   1123.53      1.00\n",
      "    beta2[322]     -0.02      0.98     -0.02     -1.52      1.68   1201.23      1.00\n",
      "    beta2[323]      0.04      0.99      0.06     -1.56      1.65   1109.40      1.01\n",
      "    beta2[324]     -0.01      0.97     -0.02     -1.60      1.60   1210.77      1.01\n",
      "    beta2[325]     -0.03      1.01     -0.06     -1.67      1.67   1181.52      1.00\n",
      "    beta2[326]      0.03      1.00      0.01     -1.61      1.66   1070.41      1.00\n",
      "    beta2[327]      0.05      1.00      0.07     -1.63      1.64   1042.31      1.01\n",
      "    beta2[328]     -0.03      1.03     -0.02     -1.73      1.64   1047.08      1.00\n",
      "    beta2[329]     -0.01      1.00     -0.03     -1.61      1.66   1073.58      1.00\n",
      "    beta2[330]      0.02      0.99      0.02     -1.71      1.58    901.24      1.00\n",
      "    beta2[331]      0.02      1.00      0.01     -1.62      1.68   1158.70      1.00\n",
      "    beta2[332]     -0.02      0.99     -0.01     -1.70      1.59    979.22      1.00\n",
      "    beta2[333]     -0.01      1.02     -0.01     -1.67      1.69   1139.29      1.00\n",
      "    beta2[334]      0.01      0.97      0.00     -1.52      1.62   1344.35      1.00\n",
      "    beta2[335]     -0.01      0.99     -0.03     -1.63      1.59    910.69      1.00\n",
      "    beta2[336]      0.01      0.99      0.02     -1.71      1.59   1125.13      1.00\n",
      "    beta2[337]      0.01      1.00      0.01     -1.63      1.66   1209.89      1.00\n",
      "    beta2[338]     -0.00      1.01      0.01     -1.70      1.64    879.27      1.00\n",
      "    beta2[339]      0.04      0.99      0.06     -1.58      1.72   1101.42      1.01\n",
      "    beta2[340]     -0.03      1.01     -0.02     -1.84      1.50   1221.33      1.00\n",
      "    beta2[341]     -0.01      0.99      0.00     -1.66      1.57   1293.07      1.00\n",
      "    beta2[342]      0.02      1.00      0.02     -1.62      1.64   1076.44      1.00\n",
      "    beta2[343]     -0.00      1.00     -0.00     -1.72      1.54   1251.08      1.00\n",
      "    beta2[344]      0.00      1.02     -0.01     -1.65      1.68    999.28      1.00\n",
      "    beta2[345]      0.01      0.98      0.01     -1.59      1.61   1107.80      1.01\n",
      "    beta2[346]     -0.07      0.97     -0.07     -1.70      1.48   1051.99      1.00\n",
      "    beta2[347]     -0.04      0.99     -0.03     -1.68      1.60   1047.43      1.00\n",
      "    beta2[348]      0.05      1.00      0.05     -1.60      1.67   1033.30      1.00\n",
      "    beta2[349]     -0.01      1.00     -0.01     -1.69      1.64   1136.34      1.00\n",
      "    beta2[350]      0.01      0.99     -0.00     -1.67      1.61   1030.16      1.00\n",
      "    beta2[351]     -0.00      0.97     -0.02     -1.56      1.64   1020.58      1.00\n",
      "    beta2[352]     -0.01      1.04     -0.02     -1.73      1.67    734.43      1.01\n",
      "    beta2[353]     -0.00      0.99     -0.00     -1.66      1.58   1074.14      1.01\n",
      "    beta2[354]      0.04      1.00      0.04     -1.70      1.59   1327.33      1.00\n",
      "    beta2[355]      0.04      1.01      0.03     -1.55      1.78   1096.72      1.00\n",
      "    beta2[356]     -0.05      1.01     -0.07     -1.70      1.59   1094.58      1.00\n",
      "    beta2[357]     -0.03      1.00     -0.02     -1.69      1.61   1142.00      1.00\n",
      "    beta2[358]      0.06      0.98      0.07     -1.52      1.64   1123.28      1.00\n",
      "    beta2[359]     -0.03      1.00     -0.04     -1.68      1.60   1065.32      1.00\n",
      "    beta2[360]     -0.02      0.99     -0.00     -1.67      1.60   1191.65      1.00\n",
      "    beta2[361]     -0.01      0.97     -0.02     -1.63      1.54   1150.02      1.01\n",
      "    beta2[362]     -0.06      0.99     -0.07     -1.78      1.51   1240.83      1.00\n",
      "    beta2[363]      0.02      1.01      0.05     -1.64      1.71   1339.12      1.00\n",
      "    beta2[364]     -0.02      1.00     -0.03     -1.76      1.52   1199.37      1.00\n",
      "    beta2[365]      0.00      0.99      0.00     -1.68      1.57   1155.03      1.01\n",
      "    beta2[366]     -0.01      0.99     -0.01     -1.67      1.59   1117.38      1.00\n",
      "    beta2[367]     -0.02      1.02     -0.04     -1.75      1.61   1165.71      1.00\n",
      "    beta2[368]      0.01      1.00      0.02     -1.65      1.63   1159.88      1.00\n",
      "    beta2[369]      0.01      1.01      0.00     -1.68      1.63    925.23      1.00\n",
      "    beta2[370]      0.02      0.97      0.03     -1.58      1.60   1491.42      1.00\n",
      "    beta2[371]     -0.01      0.99     -0.02     -1.62      1.64   1142.38      1.00\n",
      "    beta2[372]      0.00      1.01      0.02     -1.59      1.70   1221.56      1.00\n",
      "    beta2[373]     -0.02      1.03     -0.01     -1.73      1.61    881.76      1.00\n",
      "    beta2[374]     -0.04      1.00     -0.04     -1.69      1.61   1090.07      1.00\n",
      "    beta2[375]     -0.04      0.99     -0.05     -1.62      1.63   1010.00      1.00\n",
      "    beta2[376]     -0.01      1.00     -0.02     -1.64      1.67   1136.38      1.01\n",
      "    beta2[377]     -0.02      0.98     -0.02     -1.59      1.61   1030.01      1.00\n",
      "    beta2[378]      0.06      0.96      0.05     -1.43      1.73   1214.45      1.00\n",
      "    beta2[379]     -0.01      1.00     -0.01     -1.65      1.62   1134.02      1.00\n",
      "    beta2[380]     -0.01      0.98     -0.02     -1.58      1.63   1013.89      1.00\n",
      "    beta2[381]      0.03      0.97      0.04     -1.58      1.65   1233.23      1.00\n",
      "    beta2[382]      0.00      0.99     -0.01     -1.68      1.57   1174.91      1.00\n",
      "    beta2[383]     -0.03      0.98     -0.02     -1.53      1.70   1097.71      1.00\n",
      "    beta2[384]      0.03      0.99      0.03     -1.63      1.62   1281.17      1.00\n",
      "    beta2[385]     -0.04      0.99     -0.04     -1.66      1.59    968.10      1.00\n",
      "    beta2[386]      0.03      0.99      0.02     -1.63      1.66   1089.56      1.00\n",
      "    beta2[387]      0.06      0.99      0.06     -1.49      1.74   1215.67      1.00\n",
      "    beta2[388]     -0.04      1.00     -0.01     -1.82      1.47   1193.55      1.00\n",
      "    beta2[389]      0.03      0.99     -0.00     -1.58      1.66   1317.52      1.01\n",
      "    beta2[390]      0.07      0.99      0.07     -1.54      1.66    899.77      1.01\n",
      "    beta2[391]     -0.02      1.01     -0.03     -1.79      1.52   1087.23      1.00\n",
      "    beta2[392]     -0.00      0.98     -0.01     -1.61      1.57   1066.48      1.00\n",
      "    beta2[393]      0.02      0.97      0.02     -1.56      1.65   1151.45      1.00\n",
      "    beta2[394]     -0.00      1.02     -0.00     -1.65      1.73    983.77      1.00\n",
      "    beta2[395]      0.02      0.99      0.03     -1.67      1.61    865.45      1.00\n",
      "    beta2[396]     -0.01      1.01      0.01     -1.60      1.67   1184.93      1.00\n",
      "    beta2[397]     -0.06      1.03     -0.07     -1.68      1.69   1221.09      1.00\n",
      "    beta2[398]     -0.05      0.99     -0.04     -1.68      1.55   1286.94      1.00\n",
      "    beta2[399]      0.08      1.01      0.07     -1.48      1.82    924.31      1.01\n",
      "  lengthscale1      0.72      0.08      0.74      0.60      0.84    697.71      1.01\n",
      "  lengthscale2      0.75      0.07      0.77      0.65      0.83    538.69      1.00\n",
      "         noise      0.99      0.03      0.99      0.94      1.05    984.71      1.00\n",
      "\n",
      "Number of divergences: 15779\n"
     ]
    }
   ],
   "execution_count": 46
  },
  {
   "metadata": {
    "ExecuteTime": {
     "end_time": "2024-08-05T14:40:01.801956Z",
     "start_time": "2024-08-05T14:39:55.156009Z"
    }
   },
   "cell_type": "code",
   "source": [
    "# HSGP full pred\n",
    "\n",
    "def hsgp_full_pred(\n",
    "    seed: int,\n",
    "    model: callable,\n",
    "    mcmc: MCMC,\n",
    "    **model_kwargs,\n",
    ") -> dict[str, jax.Array]:\n",
    "    samples = mcmc.get_samples()\n",
    "    predictive = Predictive(model, samples, parallel=True)\n",
    "    return predictive(seed, **model_kwargs)\n",
    "\n",
    "post_y_hsgp = hsgp_full_pred(rng_key_, hsgp_full.model, hsgp_mcmc, df1=df1_gp, df2=df2_gp)[\"y_test\"]\n",
    "# post_y_hsgp = hsgp_full_pred(rng_key_, hsgp_full.model, hsgp_mcmc, df1=df1_gp, df2=df2_gp)[\"f_star\"]\n",
    "q025 = np.quantile(post_y_hsgp,0.025,axis=0)\n",
    "q975 = np.quantile(post_y_hsgp,0.975,axis=0)\n",
    "mean_mu_hat = post_y_hsgp.mean(axis=0)\n",
    "\n",
    "print(\"MAE (point): \", np.mean(np.abs(mean_mu_hat - train_esti)),\n",
    "      \"MAE (all): \", np.mean(np.abs(post_y_hsgp - train_esti)),\n",
    "      \"RMSE: \", np.sqrt(np.mean((mean_mu_hat - train_esti)**2)),\n",
    "      \"mean_ind_coverage: \", np.mean((train_esti > q025) & (train_esti < q975)))\n",
    "\n",
    "plt.figure(figsize=(4,3))\n",
    "# plt.scatter(train_esti,mean_mu_hat, c=Z)\n",
    "# add abline y=x\n",
    "plt.axline((0, 0), slope=1, color=\"blue\", linestyle=\"--\")   \n",
    "# plt.plot(train_esti,mean_mu_hat, \"o\")\n",
    "# plt.fill_between(train_esti, q025, q975, alpha=0.5)\n",
    "# plt.scatter(Z,mean_mu_hat, c=Z)\n"
   ],
   "id": "7604e4a46cbc0f62",
   "outputs": [
    {
     "name": "stdout",
     "output_type": "stream",
     "text": [
      "MAE (point):  0.16789444 MAE (all):  0.8265398 RMSE:  0.23617442 mean_ind_coverage:  1.0\n"
     ]
    },
    {
     "data": {
      "text/plain": [
       "<matplotlib.lines.AxLine at 0x1a38039ec10>"
      ]
     },
     "execution_count": 50,
     "metadata": {},
     "output_type": "execute_result"
    },
    {
     "data": {
      "text/plain": [
       "<Figure size 400x300 with 1 Axes>"
      ],
      "image/png": "[encoded data removed]"
     },
     "metadata": {
      "image/png": {
       "width": 411,
       "height": 311
      }
     },
     "output_type": "display_data"
    }
   ],
   "execution_count": 50
  },
  {
   "metadata": {
    "ExecuteTime": {
     "end_time": "2024-08-05T14:38:55.942808Z",
     "start_time": "2024-08-05T14:38:42.188209Z"
    }
   },
   "cell_type": "code",
   "source": [
    "\n",
    "df1_t = jnp.transpose(jnp.array([z_samp, x]))\n",
    "df2_t = jnp.transpose(jnp.array([z_samp, zeigen_sample]))\n",
    "test_y_hsgp = hsgp_full_pred(rng_key_, hsgp_full.model, hsgp_mcmc, df1=df1_t, df2=df2_t)[\"y_test\"]\n",
    "# test_y_hsgp = hsgp_full_pred(rng_key_, hsgp_full.model, hsgp_mcmc, df1=df1_h, df2=df2_h)[\"f2_star\"]\n",
    "q025 = np.quantile(test_y_hsgp,0.025,axis=0)\n",
    "q975 = np.quantile(test_y_hsgp,0.975,axis=0)\n",
    "mean_mu_hat = test_y_hsgp.mean(axis=0)\n",
    "\n",
    "print(\"MAE (point): \", np.mean(np.abs(mean_mu_hat - samp_esti)),\n",
    "      \"MAE (all): \", np.mean(np.abs(test_y_hsgp - samp_esti)),\n",
    "      \"RMSE: \", np.sqrt(np.mean((mean_mu_hat - samp_esti)**2)),\n",
    "      \"mean_ind_coverage: \", np.mean((samp_esti > q025) & (samp_esti < q975)),\n",
    "      \"mean true estimand: \", np.mean(samp_esti),\n",
    "        \"mean posterior mean: \", np.mean(mean_mu_hat))\n",
    "\n",
    "plt.figure(figsize=(4,3))\n",
    "plt.scatter(samp_esti,mean_mu_hat, c = z_samp)\n",
    "plt.axline((0, 0), slope=1, color=\"blue\", linestyle=\"--\")   \n",
    "# plt.plot(zeigen_sample, mean_mu_hat, \"o\")"
   ],
   "id": "12f893f5cff6fd33",
   "outputs": [
    {
     "name": "stdout",
     "output_type": "stream",
     "text": [
      "MAE (point):  0.43815857 MAE (all):  1.0417686 RMSE:  1.0886886 mean_ind_coverage:  0.942 mean true estimand:  5.337044155740374 mean posterior mean:  5.049405\n"
     ]
    },
    {
     "data": {
      "text/plain": [
       "<matplotlib.lines.AxLine at 0x1a3e11596d0>"
      ]
     },
     "execution_count": 49,
     "metadata": {},
     "output_type": "execute_result"
    },
    {
     "data": {
      "text/plain": [
       "<Figure size 400x300 with 1 Axes>"
      ],
      "image/png": "[encoded data removed]"
     },
     "metadata": {
      "image/png": {
       "width": 411,
       "height": 311
      }
     },
     "output_type": "display_data"
    }
   ],
   "execution_count": 49
  },
  {
   "metadata": {},
   "cell_type": "code",
   "source": [
    "\n",
    "num_warmup=2000\n",
    "# num_warmup=2000\n",
    "# num_warmup=250\n",
    "# num_samples=25\n",
    "num_samples=4000\n",
    "# num_samples=4000\n",
    "num_chains=4\n",
    "\n",
    "@jit    \n",
    "def HSGP_mod_model_samples(key, Y, df1, df2, ell1, ell2):\n",
    "    kernel_hsgp = NUTS(HSGP_model_full, target_accept_prob=0.9)\n",
    "    hsgp_mcmc = MCMC(kernel_hsgp, num_warmup=num_warmup, num_samples=num_samples,num_chains=num_chains, progress_bar=False, chain_method=\"vectorized\")\n",
    "    # mcmc.run(key, Y=Y, Z=Z, X=X, A=A, n=NN)\n",
    "    hsgp_mcmc.run(key, df1=df1, df2=df2, ell1=ell1, ell2=ell2 ,m=m, y=Y)\n",
    "    # hsgp_mcmc.print_summary()\n",
    "    # samples = hsgp_mcmc.get_samples()\n",
    "    # hsgp_pred = Predictive(HSGP_model, hsgp_mcmc.get_samples())\n",
    "    # return hsgp_pred\n",
    "    return hsgp_mcmc.get_samples()\n",
    "\n",
    "@jit\n",
    "def HSGP_jit_pred(post_samples, df1, df2, ell1, ell2):\n",
    "    pred_func = Predictive(HSGP_model_full, post_samples)\n",
    "    return pred_func(rng_key, df1=df1, df2=df2, ell1=ell1, ell2=ell2 ,m=m)\n"
   ],
   "id": "73b99df86aaec316",
   "outputs": [],
   "execution_count": null
  },
  {
   "metadata": {},
   "cell_type": "code",
   "source": [
    "\n",
    "# hsgp_full_samples = HSGP_mod_model_samples(rng_key_,Y=Y, df1=df1_gp, df2=df2_gp, ell1=ell1_gp_comb, ell2=ell2_gp_comb)\n",
    "hsgp_full_samples = HSGP_mod_model_samples(rng_key_,Y=Y, df1=df1_gp, df2=df2_gp, ell1=[1,ell1_gp_comb], ell2=[1,ell2_gp_comb],)\n"
   ],
   "id": "2ad75a664347ce0e",
   "outputs": [],
   "execution_count": null
  },
  {
   "metadata": {},
   "cell_type": "code",
   "source": [
    "z_samp = rng.binomial(n=1, p=0.7, size=n)\n",
    "zeigen_sample = zeigen_value(z_samp, eigen_center, mat)\n",
    "df1_h = jnp.transpose(jnp.array([z_samp, x]))\n",
    "df2_h = jnp.transpose(jnp.array([z_samp, zeigen_sample]))\n",
    "dflin = jnp.transpose(jnp.array([[1]*n, z_samp ,x, x2]))\n",
    "y_samp, eps = gen_y(dflin, zeigen_sample, alpha, lin=False)\n",
    "samp_esti = y_samp - eps\n",
    "print(ell2_gp_comb, np.max(np.abs(zeigen_sample)))\n",
    "\n",
    "# post_y_hsgp = HSGP_jit_pred(hsgp_full_samples, df1=df1_h, df2=df2_h, ell1=[ell1_gp_comb]*2, ell2=[ell2_gp_comb]*2)[\"f_star\"]\n",
    "post_y_hsgp = HSGP_jit_pred(hsgp_full_samples, df1=df1_gp, df2=df2_gp, ell1=[ell1_gp_comb]*2, ell2=[ell2_gp_comb]*2)[\"f_star\"]\n",
    "q025 = np.quantile(post_y_hsgp,0.025,axis=0)\n",
    "q975 = np.quantile(post_y_hsgp,0.975,axis=0)\n",
    "mean_mu_hat = post_y_hsgp.mean(axis=0)\n",
    "samp_esti = train_esti\n",
    "\n",
    "print(\"MAE (point): \", np.mean(np.abs(mean_mu_hat - samp_esti)),\n",
    "      \"MAE (all): \", np.mean(np.abs(post_y_hsgp - samp_esti)),\n",
    "      \"RMSE: \", np.sqrt(np.mean((mean_mu_hat - samp_esti)**2)),\n",
    "      \"mean_ind_coverage: \", np.mean((samp_esti > q025) & (samp_esti < q975)))\n",
    "\n",
    "plt.figure(figsize=(4,3))\n",
    "plt.plot(samp_esti,mean_mu_hat, \"o\")\n"
   ],
   "id": "8cdf44a9d55a148d",
   "outputs": [],
   "execution_count": null
  },
  {
   "cell_type": "code",
   "source": [
    "# h_x = ((x > 1.5) | (x < -1.5)).astype(int)\n",
    "# h_x2 = ((x > 2) | (x < 2)).astype(int)\n",
    "\n",
    "def Dynamic_intervention(x, threshold = 1.5):\n",
    "    return np.where((x > threshold) | (x < -threshold), 1, 0)\n",
    "    # return ((x > threshold) | (x < threshold)).astype(int)\n",
    "\n",
    "def Stochastic_interention(alph, n_approx = 1e4):\n",
    "    return rng.binomial(n=1, p=alph, size=(n_approx,n))\n",
    "# \n",
    "# # h_x = np.array([1]*n)\n",
    "# h_x = rng.binomial(n=1,p=0.6,size=n)\n",
    "# h_x2 = rng.binomial(n=1,p=0.2,size=n)\n",
    "\n",
    "# h_1 = np.where(((x >= -1) & (x <= 1)) | (x2 == 1), 1, 0)\n",
    "# h_2 = np.where(x2 == 1, 1, 0)\n",
    "# h_1 = Dynamic_intervention(x)\n",
    "h_1 = Dynamic_intervention(x)\n",
    "h_2 = Dynamic_intervention(x, threshold=2)\n",
    "Z_stoch = Stochastic_interention(alph=0.7, n_approx=100)\n",
    "Z_stoch2 = Stochastic_interention(alph=0.3, n_approx=100)\n",
    "Z_all = np.array([1]*n)\n",
    "Z_none = np.array([0]*n)\n",
    "\n",
    "h_zeigen = zeigen_value(h_1, eigen_center, mat)\n",
    "h2_zeigen = zeigen_value(h_2, eigen_center, mat)\n",
    "h_zeigen_obs = zeigen_value(h_1, obs_eigen_cent, obs_mat)\n",
    "h2_zeigen_obs = zeigen_value(h_2, obs_eigen_cent, obs_mat)\n",
    "\n",
    "Stoch_zeigen = zeigen_value(Z_stoch, eigen_center, mat)\n",
    "Stoch_zeigen2 = zeigen_value(Z_stoch2, eigen_center, mat)\n",
    "\n",
    "all_zeigen = zeigen_value(Z_all, eigen_center, mat)\n",
    "none_zeigen = zeigen_value(Z_none, eigen_center, mat)\n",
    "\n",
    "print(h_1.shape)\n",
    "print(h_zeigen.shape)\n",
    "print(Z_stoch.shape)\n",
    "print(Z_stoch[0,].shape)\n",
    "print(Z_stoch[0].shape)\n",
    "print(Stoch_zeigen.shape)\n",
    "# print(np.mean(Stoch_zeigen,axis=1))"
   ],
   "metadata": {
    "collapsed": false
   },
   "id": "6778b1facc18b955",
   "outputs": [],
   "execution_count": null
  },
  {
   "cell_type": "code",
   "source": [
    "# X_h_true = jnp.transpose(jnp.array([[1]*n, h_1, x, h_zeigen]))\n",
    "# X_h_obs = jnp.transpose(jnp.array([[1]*n, h_1, x, h_zeigen_obs]))\n",
    "X_h_true = jnp.transpose(jnp.array([[1]*n, h_1, x, x2, h_zeigen]))\n",
    "X_h_obs = jnp.transpose(jnp.array([[1]*n, h_1, x, x2, h_zeigen_obs]))\n",
    "\n",
    "ell_h = jnp.array(c*jnp.max(jnp.abs(h_zeigen))).reshape(1,1)\n",
    "ell_h_obs = jnp.array(c*jnp.max(jnp.abs(h_zeigen_obs))).reshape(1,1)\n",
    "\n",
    "# Y_test,epsi_test = gen_y(X_h_true[:,0:3], h_zeigen, alpha, lin=False)\n",
    "# Y_test,epsi_test = gen_y(X_h_true[:,0:3], h_zeigen, alpha, lin=False)\n",
    "Y_test, epsi_test = gen_y(X_h_true[:,0:4], h_zeigen, alpha, lin=False)\n",
    "# Y_test2,_ = gen_y(X_test_true2[:,0:3], true_h_x_eigen2,alpha,lin=False)\n",
    "\n",
    "mu_test = Y_test - epsi_test\n",
    "true_estimand = np.mean(mu_test)\n",
    "print(true_estimand)\n",
    "# true_ce = Y_test - Y_test2\n",
    "\n",
    "plt.figure(figsize=(3,2))\n",
    "plt.scatter(h_zeigen,mu_test, c=h_1)\n",
    "# plt.scatter(mean_y,mu_test, c =h_x)"
   ],
   "metadata": {
    "collapsed": false
   },
   "id": "f95bf009fb5931d1",
   "outputs": [],
   "execution_count": null
  },
  {
   "cell_type": "code",
   "source": [
    "# @jit\n",
    "def get_true_estimand(z_new, zeigen_new , x,x2, alpha, lin=True):\n",
    "    n = x.shape[0]\n",
    "    if z_new.ndim == 2:\n",
    "        n_stoch = z_new.shape[0]\n",
    "        # results = np.zeros((n_stoch,1))\n",
    "        results = np.zeros((n_stoch,n))\n",
    "        for i in range(n_stoch):\n",
    "            df = np.transpose(jnp.array([[1]*n, z_new[i,], x, x2]))\n",
    "            y, epsi = gen_y(df, zeigen_new[i,], alpha, lin=lin)\n",
    "            # results[i,] = np.mean(y-epsi)\n",
    "            results[i,] = y-epsi\n",
    "        return np.mean(results, axis=0).squeeze()\n",
    "        # return results\n",
    "    else:\n",
    "        # assert Z_stoch.ndim == 1\n",
    "        df = np.transpose(jnp.array([[1]*n, z_new, x, x2]))\n",
    "        y, epsi = gen_y(df, zeigen_new, alpha, lin=lin)\n",
    "        # return np.mean(y-epsi)\n",
    "        return y-epsi\n",
    "    \n",
    "stoch_estimand = get_true_estimand(Z_stoch, Stoch_zeigen, x,x2, alpha, False)\n",
    "# print(stoch_estimand)\n",
    "print(stoch_estimand.shape)\n",
    "print(np.mean(stoch_estimand))"
   ],
   "metadata": {
    "collapsed": false
   },
   "id": "1e080ab51c9c2fd4",
   "outputs": [],
   "execution_count": null
  },
  {
   "cell_type": "code",
   "source": [
    "hestimand = get_true_estimand(h_1, h_zeigen, x, x2, alpha, False)\n",
    "# print(hestimand)\n",
    "print(hestimand.shape)\n",
    "print(np.mean(hestimand))"
   ],
   "metadata": {
    "collapsed": false
   },
   "id": "32a320ee0af2433a",
   "outputs": [],
   "execution_count": null
  },
  {
   "metadata": {},
   "cell_type": "code",
   "source": [
    "all_esti = get_true_estimand(Z_all, all_zeigen, x,x2,  alpha, False)\n",
    "none_esti = get_true_estimand(Z_none, none_zeigen, x,x2,  alpha, False)\n",
    "gte = all_esti - none_esti\n",
    "# print(all_esti, none_esti, gte)\n",
    "print(all_esti.shape, none_esti.shape, gte.shape)\n",
    "print(all_esti.mean(), none_esti.mean(), gte.mean())\n"
   ],
   "id": "ea5e50faec1856d6",
   "outputs": [],
   "execution_count": null
  },
  {
   "metadata": {},
   "cell_type": "code",
   "source": [
    "h1_esti = get_true_estimand(h_1, h_zeigen, x,x2,  alpha, False)\n",
    "h2_esti = get_true_estimand(h_2, h2_zeigen, x, x2, alpha, False)\n",
    "hte = h1_esti - h2_esti\n",
    "print(h1_esti.shape, h2_esti.shape, hte.shape)\n",
    "print(h1_esti.mean(), h2_esti.mean(), hte.mean())"
   ],
   "id": "83dfa64231743943",
   "outputs": [],
   "execution_count": null
  },
  {
   "metadata": {},
   "cell_type": "code",
   "source": [
    "stoch_esti = get_true_estimand(Z_stoch, Stoch_zeigen, x,x2,  alpha, False)\n",
    "stoch_esti2 = get_true_estimand(Z_stoch2, Stoch_zeigen2, x,x2,  alpha, False)\n",
    "te_stoch = stoch_esti - stoch_esti2\n",
    "print(stoch_esti.shape, stoch_esti2.shape, te_stoch.shape)\n",
    "print(stoch_esti.mean(), stoch_esti2.mean(), te_stoch.mean())"
   ],
   "id": "150b27b9167f1d48",
   "outputs": [],
   "execution_count": null
  },
  {
   "cell_type": "code",
   "source": [
    "def compute_error_stats(esti_post_draws, true_estimand, method=\"TEST\", idx=None):\n",
    "    # esti_post_draws has shape (M, N)\n",
    "    # true_estimand has shape (N,)\n",
    "    \n",
    "    mean_estimand = np.mean(true_estimand) # scalar\n",
    "    mean_units = np.mean(esti_post_draws, axis=1) # shape (M,)\n",
    "    mean_samples = np.mean(esti_post_draws, axis=0) # shape (N,)\n",
    "    mean_all = np.round(np.mean(esti_post_draws),3) # scalar\n",
    "    # medi = np.round(np.median(esti_post_draws),3) \n",
    "    medi = np.round(np.median(mean_units),3) \n",
    "    # std = np.round(np.std(esti_post_draws),3)\n",
    "    std = np.round(np.std(mean_units),3)\n",
    "    # RMSE_all = np.round(np.sqrt(np.mean(np.power(mean_units - mean_estimand, 2))),3)\n",
    "    # RMSE_ind = np.round(np.sqrt(np.mean(np.power(esti_post_draws - true_estimand, 2))),3)\n",
    "    RMSE = np.round(np.sqrt(np.mean(np.power(mean_samples - true_estimand, 2))),3)\n",
    "    # MAE_all = np.round(np.mean(np.abs(mean_units - mean_estimand)),3)\n",
    "    # MAE_ind = np.round(np.mean(np.abs(esti_post_draws - true_estimand)),3)\n",
    "    MAE_point = np.round(np.mean(np.abs(mean_samples - true_estimand)),3)\n",
    "    MAE_all = np.round(np.mean(np.abs(esti_post_draws - true_estimand)),3)\n",
    "    MAPE_all = np.round(np.mean(np.abs((mean_units - mean_estimand) / mean_estimand)),3)\n",
    "    # MAPE_ind = np.round(np.mean(np.abs((esti_post_draws - true_estimand) / true_estimand)),3)\n",
    "    # MAPE_ind2 = np.round(np.mean(np.abs((mean_samples - true_estimand) / true_estimand)),3)\n",
    "    # MAPE_ind = np.round(np.mean(np.abs(esti_post_draws - true_estimand)/np.abs(true_estimand)),3)\n",
    "    # q025 = np.quantile(esti_post_draws, 0.025)\n",
    "    q025 = np.quantile(mean_units, 0.025)\n",
    "    q025_ind = np.quantile(esti_post_draws, 0.025, axis=0)\n",
    "    # q975 = np.quantile(esti_post_draws, 0.975)\n",
    "    q975 = np.quantile(mean_units, 0.975)\n",
    "    q975_ind = np.quantile(esti_post_draws, 0.975, axis=0)\n",
    "    cover = q025 <= mean_estimand <= q975\n",
    "    mean_cover = (q025_ind <= true_estimand) & (true_estimand <= q975_ind)\n",
    "    return pd.DataFrame([{\"idx\" : idx, \"method\" : method,\n",
    "            \"mean\" : mean_all, \"median\" : medi, \"true\" : np.round(mean_estimand,3), \n",
    "            \"bias\" : np.round(mean_all - mean_estimand,3), \"std\" : std, \n",
    "            \"RMSE\" : RMSE, \"MAE_point\" : MAE_point, \"MAE_all\": MAE_all , \"MAPE_all\" : MAPE_all,\n",
    "                          \"q025\" : np.round(q025,3), \"q975\" : np.round(q975,3), \n",
    "              \"covering\" : cover, \"cover_ind_mean\" : np.mean(mean_cover)}])\n"
   ],
   "metadata": {
    "collapsed": false
   },
   "id": "7910df5f081f0d15",
   "outputs": [],
   "execution_count": null
  },
  {
   "cell_type": "code",
   "source": [
    "@jit\n",
    "def linear_model_outcome_pred(z, zeigen, post_samples, x, x2):\n",
    "    # df = jnp.transpose(jnp.array([[1]*x.shape[0], z, x, x2, zeigen]))\n",
    "    df = jnp.transpose(jnp.array([[1]*x.shape[0], z, x, zeigen]))\n",
    "    # pred = outcome_jit_pred(post_samples, df)\n",
    "    # return jnp.mean(pred[\"Y\"], axis=0)\n",
    "    # return pred[\"Y\"]\n",
    "    # return pred[\"mu_star\"]\n",
    "    return outcome_jit_pred(post_samples, df)[\"mu_star\"]\n",
    "\n",
    "linear_model_pred = jax.vmap(linear_model_outcome_pred, in_axes= (0, 0, None, None, None))\n",
    "\n",
    "def linear_pred(z, zeigen, post_samples, x,x2):\n",
    "    if z.ndim == 2:\n",
    "        # return linear_model_pred(z, zeigen, post_samples, x, x2)\n",
    "        return np.mean(linear_model_pred(z, zeigen, post_samples, x, x2), axis=0)\n",
    "        # return linear_model_pred(z, zeigen, post_samples, x)\n",
    "    if z.ndim == 1:\n",
    "        n_z = z.shape[0]\n",
    "        return linear_model_pred(z.reshape((1,n_z)), zeigen.reshape((1,n_z)), post_samples, x,x2).squeeze()\n",
    "        # return linear_model_pred(z.reshape((1,n_z)), zeigen.reshape((1,n_z)), post_samples, x)\n",
    "        \n",
    "@jit\n",
    "def hsgp_model_outcome_pred(z, zeigen, post_samples, x, x2, ell1, ell2):\n",
    "    # ell_ = jnp.array(c*jnp.max(jnp.abs(zeigen))).reshape(1,1)\n",
    "    # df = jnp.transpose(jnp.array([[1]*x.shape[0], z, x, x2, zeigen]))\n",
    "    # df = jnp.transpose(jnp.array([[1]*x.shape[0], z, x, zeigen]))\n",
    "    df1 = jnp.transpose(jnp.array([z, x]))\n",
    "    df2 = jnp.transpose(jnp.array([z, zeigen]))\n",
    "    # pred = HSGP_jit_pred(post_samples, Xgp=df[:,4:], Xlin = df[:,0:4], ell=ell)\n",
    "    # pred = HSGP_jit_pred(post_samples, Xgp=df[:,3:], Xlin = df[:,0:3], ell=ell)\n",
    "    # pred = HSGP_jit_pred(post_samples, df1=df1, df2=df2, ell1=ell1, ell2=ell2)\n",
    "    # return jnp.mean(pred[\"Y\"], axis=1)\n",
    "    # return jnp.mean(pred[\"Y\"], axis=0)\n",
    "    # return pred[\"Y\"]\n",
    "    return HSGP_jit_pred(post_samples, df1=df1, df2=df2, ell1=ell1, ell2=ell2)[\"f_star\"]\n",
    "\n",
    "hsgp_model_pred = jax.vmap(hsgp_model_outcome_pred, in_axes= (0, 0, None, None, None, None, None))\n",
    "\n",
    "def hsgp_pred(z, zeigen, post_samples, x, x2, ell1, ell2):\n",
    "    if z.ndim == 2:\n",
    "        # return hsgp_model_pred(z, zeigen, post_samples, x,x2,  ell)\n",
    "        return np.mean(hsgp_model_pred(z, zeigen, post_samples, x,x2, ell1, ell2), axis=0)\n",
    "    if z.ndim == 1:\n",
    "        n_z = z.shape[0]\n",
    "        # return hsgp_model_pred(z.reshape((1,n_z)), zeigen.reshape((1,n_z)), post_samples, x,x2,  ell)\n",
    "        return hsgp_model_pred(z.reshape((1,n_z)), zeigen.reshape((1,n_z)), post_samples, x,x2, ell1, ell2).squeeze()\n",
    "        "
   ],
   "metadata": {
    "collapsed": false
   },
   "id": "3b3ed08374c89af5",
   "outputs": [],
   "execution_count": null
  },
  {
   "metadata": {},
   "cell_type": "code",
   "source": [
    "# GTE\n",
    "lin_all_pred = linear_pred(Z_all, all_zeigen, samples_net_true, x, x2)\n",
    "lin_none_pred = linear_pred(Z_none, none_zeigen, samples_net_true, x, x2)\n",
    "# lin_gte_pred = jnp.mean(lin_all_pred,axis=0) - jnp.mean(lin_none_pred, axis=0)\n",
    "lin_gte_pred = lin_all_pred - lin_none_pred \n",
    "# lin_gte_pred =  lin_none_pred \n",
    "# lin_gte_pred =  lin_all_pred \n",
    "print(lin_gte_pred[0:5,0:5])\n",
    "print(compute_error_stats(lin_gte_pred, gte))\n",
    "print(compute_error_stats(lin_all_pred, all_esti))\n"
   ],
   "id": "564a37ab35c465fc",
   "outputs": [],
   "execution_count": null
  },
  {
   "metadata": {},
   "cell_type": "code",
   "source": [
    "# GTE HSGP\n",
    "hsgp_all_pred = hsgp_pred(Z_all, all_zeigen, hsgp_full_samples, x, x2, [ell1_gp_comb]*2, [ell2_gp_comb]*2)   \n",
    "hsgp_none_pred = hsgp_pred(Z_none, none_zeigen, hsgp_full_samples, x,x2,  [ell1_gp_comb]*2, [ell2_gp_comb]*2)\n",
    "hsgp_gte_pred = hsgp_all_pred - hsgp_none_pred\n",
    "# hsgp_gte_pred = jnp.mean(hsgp_all_pred - hsgp_none_pred,axis=0)\n",
    "print(compute_error_stats(hsgp_gte_pred, gte))\n",
    "print(compute_error_stats(hsgp_all_pred, all_esti))"
   ],
   "id": "f533498cc968931c",
   "outputs": [],
   "execution_count": null
  },
  {
   "metadata": {},
   "cell_type": "code",
   "source": [
    "# HTE\n",
    "lin_h1_pred = linear_pred(h_1, h_zeigen, samples_net_true, x,x2)\n",
    "lin_h2_pred = linear_pred(h_2, h2_zeigen, samples_net_true, x, x2)\n",
    "# lin_hte_pred = jnp.mean(lin_h1_pred,axis=0) - jnp.mean(lin_h2_pred, axis=0)\n",
    "lin_hte_pred = lin_h1_pred - lin_h2_pred\n",
    "print(compute_error_stats(lin_hte_pred, hte))\n",
    "# print(compute_error_stats(lin_h1_pred, h1_esti))\n",
    "# print(compute_error_stats(lin_h1_pred, h1_esti))"
   ],
   "id": "a474233035dd5f5d",
   "outputs": [],
   "execution_count": null
  },
  {
   "metadata": {},
   "cell_type": "code",
   "source": [
    "# HTE HSGP\n",
    "hsgp_h1_pred = hsgp_pred(h_1, h_zeigen, hsgp_full_samples, x, x2, [ell1_gp_comb]*2, [ell2_gp_comb]*2)\n",
    "hsgp_h2_pred = hsgp_pred(h_2, h2_zeigen, hsgp_full_samples, x,x2,  [ell1_gp_comb]*2, [ell2_gp_comb]*2)\n",
    "# hsgp_hte_pred = jnp.mean(hsgp_h1_pred,axis=0) - jnp.mean(hsgp_h2_pred, axis=0)\n",
    "hsgp_hte_pred = hsgp_h1_pred - hsgp_h2_pred\n",
    "print(compute_error_stats(hsgp_hte_pred, hte))\n",
    "# print(compute_error_stats(hsgp_h1_pred, h1_esti))\n"
   ],
   "id": "3261de6b8feda334",
   "outputs": [],
   "execution_count": null
  },
  {
   "metadata": {},
   "cell_type": "code",
   "source": [
    "# HTE Obs\n",
    "lin_h1_pred_obs = linear_pred(h_1, h_zeigen_obs, samples_net_obs, x, x2)\n",
    "lin_h2_pred_obs = linear_pred(h_2, h2_zeigen_obs, samples_net_obs, x, x2)\n",
    "# lin_hte_pred_obs = jnp.mean(lin_h1_pred_obs,axis=0) - jnp.mean(lin_h2_pred_obs, axis=0)\n",
    "lin_hte_pred_obs = lin_h1_pred_obs - lin_h2_pred_obs\n",
    "print(compute_error_stats(lin_hte_pred_obs, hte))\n",
    "print(compute_error_stats(lin_h1_pred_obs, h1_esti))\n"
   ],
   "id": "330e52b210fec074",
   "outputs": [],
   "execution_count": null
  },
  {
   "metadata": {},
   "cell_type": "code",
   "source": [
    "# HTE HSGP Obs\n",
    "hsgp_h1_pred_obs = hsgp_pred(h_1, h_zeigen_obs, samples_GP_net_obs, x, x2, ell_obs)\n",
    "hsgp_h2_pred_obs = hsgp_pred(h_2, h2_zeigen_obs, samples_GP_net_obs, x, x2, ell_obs)\n",
    "# hsgp_hte_pred_obs = jnp.mean(hsgp_h1_pred_obs,axis=0) - jnp.mean(hsgp_h2_pred_obs, axis=0)\n",
    "hsgp_hte_pred_obs = hsgp_h1_pred_obs - hsgp_h2_pred_obs\n",
    "print(compute_error_stats(hsgp_hte_pred_obs, hte))\n",
    "print(compute_error_stats(hsgp_h1_pred_obs, h1_esti))"
   ],
   "id": "7a8bbea2b121fb5b",
   "outputs": [],
   "execution_count": null
  },
  {
   "metadata": {},
   "cell_type": "code",
   "source": [
    "# Stochastic TE\n",
    "lin_stoch_pred = linear_pred(Z_stoch, Stoch_zeigen, samples_net_true, x, x2)\n",
    "lin_stoch_pred2 = linear_pred(Z_stoch2, Stoch_zeigen2, samples_net_true, x, x2)\n",
    "# lin_te_stoch_pred = jnp.mean(lin_stoch_pred,axis=0) - jnp.mean(lin_stoch_pred2, axis=0)\n",
    "lin_te_stoch_pred = lin_stoch_pred- lin_stoch_pred2\n",
    "print(compute_error_stats(lin_te_stoch_pred, te_stoch))\n",
    "print(compute_error_stats(lin_stoch_pred, stoch_esti))"
   ],
   "id": "e5b26eb768397dbd",
   "outputs": [],
   "execution_count": null
  },
  {
   "metadata": {},
   "cell_type": "code",
   "source": [
    "# Stochastic TE HSGP\n",
    "hsgp_stoch_pred = hsgp_pred(Z_stoch, Stoch_zeigen, samples_GP_net_true, x,x2,  ell)\n",
    "hsgp_stoch_pred2 = hsgp_pred(Z_stoch2, Stoch_zeigen2, samples_GP_net_true, x,x2,  ell)\n",
    "# hsgp_te_stoch_pred = jnp.mean(hsgp_stoch_pred,axis=0) - jnp.mean(hsgp_stoch_pred2, axis=0)\n",
    "hsgp_te_stoch_pred = hsgp_stoch_pred - hsgp_stoch_pred2\n",
    "print(compute_error_stats(hsgp_te_stoch_pred, te_stoch))\n",
    "print(compute_error_stats(hsgp_stoch_pred, stoch_esti))\n"
   ],
   "id": "bf2e6299cc5f3a09",
   "outputs": [],
   "execution_count": null
  },
  {
   "metadata": {},
   "cell_type": "code",
   "source": [
    "# Stochastic TE obs\n",
    "lin_stoch_pred_obs = linear_pred(Z_stoch, Stoch_zeigen, samples_net_obs, x,x2)\n",
    "lin_stoch_pred2_obs = linear_pred(Z_stoch2, Stoch_zeigen2, samples_net_obs, x, x2)\n",
    "# lin_te_stoch_pred_obs = jnp.mean(lin_stoch_pred_obs,axis=0) - jnp.mean(lin_stoch_pred2_obs, axis=0)\n",
    "lin_te_stoch_pred_obs = lin_stoch_pred_obs - lin_stoch_pred2_obs\n",
    "print(compute_error_stats(lin_te_stoch_pred_obs, te_stoch))\n",
    "print(compute_error_stats(lin_stoch_pred_obs, stoch_esti))"
   ],
   "id": "79a130367c673c74",
   "outputs": [],
   "execution_count": null
  },
  {
   "metadata": {},
   "cell_type": "code",
   "source": [
    "# Stochastic TE HSGP obs\n",
    "hsgp_stoch_pred_obs = hsgp_pred(Z_stoch, Stoch_zeigen, samples_GP_net_obs, x, x2, ell_obs)\n",
    "hsgp_stoch_pred2_obs = hsgp_pred(Z_stoch2, Stoch_zeigen2, samples_GP_net_obs, x, x2, ell_obs)\n",
    "# hsgp_te_stoch_pred_obs = jnp.mean(hsgp_stoch_pred_obs,axis=0) - jnp.mean(hsgp_stoch_pred2_obs, axis=0)\n",
    "hsgp_te_stoch_pred_obs = hsgp_stoch_pred_obs - hsgp_stoch_pred2_obs\n",
    "print(compute_error_stats(hsgp_te_stoch_pred_obs, te_stoch))\n",
    "print(compute_error_stats(hsgp_stoch_pred_obs, stoch_esti))"
   ],
   "id": "d63b2bd6dbdc6f1e",
   "outputs": [],
   "execution_count": null
  },
  {
   "cell_type": "code",
   "source": [
    "# post_pred_true_net = true_net_lin_predictive(rng_key, X=X_h_true)\n",
    "# post_pred_true_net = linear_pred(h_1, h_zeigen, samples_net_true, x,x2)\n",
    "# post_pred_true_net = outcome_jit_pred(samples_net_true, jnp.array([[1]*n, h_1, x, h_zeigen]))\n",
    "# post_pred_true_net = outcome_jit_pred(samples_net_true, X_h_true)\n",
    "# print(post_pred_true_net.shape)\n",
    "# print(post_pred_true_net[\"mu\"].shape)\n",
    "# post_pred_true_net2 = true_net_lin_predictive(rng_key, X=X_test_true2)\n",
    "# lin_pred_true_net = np.mean(post_pred_true_net[\"mu\"],axis=0)\n",
    "# lin_pred_true_net = np.mean(post_pred_true_net,axis=0)\n",
    "# lin_pred_true_net_it = np.mean(post_pred_true_net[\"mu\"],axis=1)\n",
    "# lin_pred_true_net_it = np.mean(post_pred_true_net,axis=1)\n",
    "# print(lin_pred_true_net_it.shape)\n",
    "\n",
    "# lin_pred_true_stats = compute_error_stats(lin_pred_true_net_it, hestimand)\n",
    "# print(lin_pred_true_stats)\n",
    "# lin_hte_pred, hte\n",
    "lin_pred_true_net = np.mean(lin_hte_pred, axis=0)\n",
    "print(\"MAE:\", np.mean(np.abs(lin_pred_true_net - hte)))\n",
    "\n",
    "plt.figure(figsize=(3,2))\n",
    "plt.scatter(x=lin_pred_true_net,y=hte, c=\"orange\")\n",
    "plt.axline((0,0),slope=1,ls=\"--\",alpha=0.8,lw=1.3)"
   ],
   "metadata": {
    "collapsed": false
   },
   "id": "f1e8b85cdb7c2a3",
   "outputs": [],
   "execution_count": null
  },
  {
   "cell_type": "code",
   "source": [
    "# post_pred_obs = outcome_jit_pred(samples_net_obs, X_h_obs)\n",
    "# post_pred_obs = linear_pred(h_1, h_zeigen_obs, samples_net_obs, x,x2)\n",
    "# post_pred_obs = outcome_jit_pred(samples_net_obs, X_h_obs)\n",
    "# lin_pred_obs = np.mean(post_pred_obs,axis=0)\n",
    "# lin_pred_obs_it = np.mean(post_pred_obs,axis=1)\n",
    "# print(lin_pred_obs.shape, lin_pred_obs_it.shape)\n",
    "\n",
    "# lin_pred_obs_stats = compute_error_stats(np.mean(post_pred_obs[\"Y\"],axis=1), hestimand)\n",
    "# print(lin_pred_obs_stats)\n",
    "lin_pred_obs = np.mean(lin_hte_pred_obs,axis=0)\n",
    "print(\"MAE: \", np.mean(np.abs(lin_pred_obs - hte)))\n",
    "plt.figure(figsize=(3,2))\n",
    "plt.scatter(x=lin_pred_obs,y=hte, c=\"orange\")\n",
    "plt.axline((0,0),slope=1,ls=\"--\",alpha=0.8,lw=1.3)"
   ],
   "metadata": {
    "collapsed": false
   },
   "id": "289c6f602ba3548d",
   "outputs": [],
   "execution_count": null
  },
  {
   "cell_type": "code",
   "source": [
    "# HSGP_posterior_predictive = HSGP_true_predictive(rng_key, Xgp=X_h_true[:,3:], Xlin = X_h_true[:,0:3],ell=ell, m=M)\n",
    "# HSGP_posterior_predictive = hsgp_pred(h_1, h_zeigen, samples_GP_net_true, x, x2, ell)\n",
    "# HSGP_posterior_predictive = HSGP_true_predictive(rng_key, Xgp=X_h_true[:,3:], Xlin = X_h_true[:,0:3],ell=ell, m=m)\n",
    "# HSGP_posterior_predictive = HSGP_jit_pred(samples_GP_net_true,Xgp=X_h_true[:,3:], Xlin = X_h_true[:,0:3],ell=ell, m=m)\n",
    "# print(HSGP_posterior_predictive[\"Y\"].shape)\n",
    "# post_mu = np.mean(HSGP_posterior_predictive,axis=0)\n",
    "# post_mu_iter = np.mean(HSGP_posterior_predictive,axis=1)\n",
    "\n",
    "# hsgp_pred_true_stats = compute_error_stats(post_mu_iter, hestimand)\n",
    "# print(hsgp_pred_true_stats)\n",
    "post_mu = np.mean(hsgp_hte_pred,axis=0)\n",
    "print(\"MAE: \", np.mean(np.abs(post_mu - hte)))\n",
    "plt.figure(figsize=(3,2))\n",
    "plt.scatter(x=post_mu,y=hte, c=\"orange\")\n",
    "# plt.scatter(x=post_mu2,y=mu_test2, c=true_h_x_eigen2)\n",
    "plt.axline((0,0),slope=1,ls=\"--\",alpha=0.8,lw=1.3)"
   ],
   "metadata": {
    "collapsed": false
   },
   "id": "9dd24860efc085be",
   "outputs": [],
   "execution_count": null
  },
  {
   "cell_type": "code",
   "source": [
    "# HSGP_posterior_predictive_obs = hsgp_pred(h_1, h_zeigen_obs, samples_GP_net_obs, x, x2, ell_obs)\n",
    "# # HSGP_posterior_predictive_obs = HSGP_obs_predictive(rng_key, Xgp=X_h_obs[:,3:], Xlin = X_h_obs[:,0:3], ell=ell_obs, m=M)\n",
    "# # HSGP_posterior_predictive = HSGP_jit_pred(samples_GP_net_true,Xgp=X_h_true[:,3:], Xlin = X_h_true[:,0:3],ell=ell, m=m)\n",
    "# # print(HSGP_posterior_predictive_obs[\"Y\"].shape)\n",
    "# obs_post_mu = np.mean(HSGP_posterior_predictive_obs,axis=0)\n",
    "# obs_post_mu_iter = np.mean(HSGP_posterior_predictive_obs,axis=1)\n",
    "\n",
    "# hsgp_pred_obs_stats = compute_error_stats(np.mean(HSGP_posterior_predictive_obs[\"Y\"],axis=1), hestimand)\n",
    "# print(hsgp_pred_obs_stats)\n",
    "obs_post_mu = np.mean(hsgp_hte_pred_obs,axis=0)\n",
    "print(\"MAE: \", np.mean(np.abs(obs_post_mu - hte)))\n",
    "plt.figure(figsize=(3,2))\n",
    "plt.scatter(x=obs_post_mu,y=hte, c=\"orange\")\n",
    "# plt.scatter(x=post_mu2,y=mu_test2, c=true_h_x_eigen2)\n",
    "plt.axline((0,0),slope=1,ls=\"--\",alpha=0.8,lw=1.3)\n"
   ],
   "metadata": {
    "collapsed": false
   },
   "id": "5e9c5b8ae1959a94",
   "outputs": [],
   "execution_count": null
  },
  {
   "cell_type": "code",
   "source": [
    "post_pred_mean = {\"beta\" : jnp.expand_dims(jnp.mean(samples_network[\"beta\"],axis=0),-2),\n",
    "                  \"gamma0\" : jnp.expand_dims(jnp.mean(samples_network[\"gamma0\"]),-1),\n",
    "                  \"gamma1\" : jnp.expand_dims(jnp.mean(samples_network[\"gamma1\"]),-1)}\n",
    "print(post_pred_mean)"
   ],
   "metadata": {
    "collapsed": false
   },
   "id": "69c784f97661a2b4",
   "outputs": [],
   "execution_count": null
  },
  {
   "cell_type": "code",
   "source": [
    "print(samples_network[\"beta\"].shape)\n",
    "print(samples_network[\"gamma0\"].shape)\n",
    "post_pred_mean = {\"beta\" : jnp.expand_dims(jnp.mean(samples_network[\"beta\"],axis=0),-2),\n",
    "                  \"gamma0\" : jnp.expand_dims(jnp.mean(samples_network[\"gamma0\"]),-1),\n",
    "                  \"gamma1\" : jnp.expand_dims(jnp.mean(samples_network[\"gamma1\"]),-1)}\n",
    "# print(jnp.array(post_pred_mean))\n",
    "# The following is how to sample multiple different A* with the mean posterior of A* and A|A* parameters\n",
    "# a_star_pred1 = a_star_pred(random.PRNGKey(0), X=x_diff,TriU=triu_obs,n=n)\n",
    "# a_star_pred1 = Astar_pred(random.PRNGKey(0),post_samples=samples_network, Xd=x_diff,triu=triu_obs)\n",
    "a_star_pred1 = Astar_pred(random.PRNGKey(0),post_samples=post_pred_mean, Xd=x_diff,triu=triu_obs)\n",
    "a_star_pred2 = Astar_pred(random.PRNGKey(3),post_samples=post_pred_mean, Xd=x_diff,triu=triu_obs)\n",
    "# a_star_pred2 = Astar_pred(random.PRNGKey(),post_samples=jnp.array(post_pred_mean), Xd=x_diff,triu=triu_obs, mean_post=True)\n",
    "# a_star_pred2 = a_star_pred(random.PRNGKey(1), X=x_diff,TriU=triu_obs,n=n)\n",
    "# a_star_pred2 = a_star_pred(random.PRNGKey(1), X=x_diff,TriU=triu_obs,n=n)\n",
    "# print(a_star_pred)\n",
    "# print(a_star_pred1[\"triu_star\"])\n",
    "print(a_star_pred1[\"triu_star\"].shape)\n",
    "print(a_star_pred1[\"triu_star\"][0].shape)\n",
    "print(a_star_pred2[\"triu_star\"].shape)\n",
    "print(jnp.array_equal(a_star_pred1[\"triu_star\"],a_star_pred2[\"triu_star\"]))\n",
    "\n",
    "twoAst = pd.DataFrame({'first' : a_star_pred1[\"triu_star\"][1], 'sec' : a_star_pred2[\"triu_star\"][1]})\n",
    "# print(twoAst)\n",
    "pd.crosstab(index=twoAst['first'], columns=twoAst['sec'])"
   ],
   "metadata": {
    "collapsed": false
   },
   "id": "c196f5a2954cdacf",
   "outputs": [],
   "execution_count": null
  },
  {
   "cell_type": "code",
   "source": [
    "post_predictive = Predictive(network_model, samples_network, infer_discrete=True)\n",
    "# post_predictive = post_predictive(rng_key, X=x_diff, X2=x2_equal, TriU=triu_obs)\n",
    "post_predictive = post_predictive(rng_key, X=x_diff, X2=x2_or, TriU=triu_obs)\n",
    "# samples_network[\"triu_star\"] = post_predictive[\"triu_star\"]\n",
    "# print(post_predictive[\"triu_star\"])\n",
    "print(post_predictive[\"triu_star\"].shape)\n",
    "print(post_predictive[\"triu_star\"][0,].shape)"
   ],
   "metadata": {
    "collapsed": false
   },
   "id": "c52677fbf71e4079",
   "outputs": [],
   "execution_count": null
  },
  {
   "metadata": {},
   "cell_type": "code",
   "source": [
    "\n",
    "def get_mape_zeig(triu):\n",
    "    mat = Triu_to_mat(triu)\n",
    "    eig_cen = eigen_centrality(mat)\n",
    "    zeig = zeigen_value(Z, eig_cen, mat)\n",
    "    return jnp.mean(jnp.abs(zeig - Zeigen)/jnp.abs(Zeigen))\n",
    "\n",
    "vm_mape_zeig = vmap(get_mape_zeig, in_axes=(0))\n",
    "\n",
    "MS_zeig = vm_mape_zeig(post_predictive[\"triu_star\"])\n",
    "\n",
    "print(\"MS zeigen MAPE:\", jnp.mean(MS_zeig))\n",
    "print(\"Obs zeigen MAPE:\", jnp.mean(jnp.abs(obs_Zeigen - Zeigen)/jnp.abs(Zeigen)))\n",
    "\n",
    "plt.figure(figsize=(4,3))\n",
    "plt.hist(MS_zeig)\n",
    "      "
   ],
   "id": "982fec7e97c351fd",
   "outputs": [],
   "execution_count": null
  },
  {
   "metadata": {},
   "cell_type": "code",
   "source": [
    "rand_mat = Triu_to_mat(post_predictive[\"triu_star\"][77,])\n",
    "rand_eig_cen = eigen_centrality(rand_mat)\n",
    "rand_zeigen = zeigen_value(Z, rand_eig_cen, rand_mat)\n",
    "\n",
    "plt.figure(figsize=(3,2))\n",
    "plt.scatter(rand_zeigen, Zeigen)\n",
    "print(np.corrcoef(rand_zeigen, Zeigen))\n",
    "print(np.corrcoef(obs_Zeigen, Zeigen))"
   ],
   "id": "d60f877aa8b7f0a3",
   "outputs": [],
   "execution_count": null
  },
  {
   "metadata": {},
   "cell_type": "code",
   "source": [
    "# rand_df = np.transpose(np.array([[1]*n, Z, x, x2, rand_zeigen]))\n",
    "rand_df = np.transpose(np.array([[1]*n, Z, x, rand_zeigen]))\n",
    "rand_samples_net = linear_model_samples(rng_key,Y=Y, df=rand_df)\n"
   ],
   "id": "c5785a6e0c534481",
   "outputs": [],
   "execution_count": null
  },
  {
   "metadata": {},
   "cell_type": "code",
   "source": [
    "# print rand_samples_net posterior mean by item\n",
    "rand_post_mean = {\"alpha\" : jnp.expand_dims(jnp.mean(rand_samples_net[\"alpha\"],axis=0),-2)}\n",
    "rand_post_mean"
   ],
   "id": "405bab528bc35069",
   "outputs": [],
   "execution_count": null
  },
  {
   "cell_type": "code",
   "source": [
    "# NN = n\n",
    "\n",
    "n_warmup = 500\n",
    "n_samples = 100\n",
    "n_chains = 1\n",
    "# M = m\n",
    "\n",
    "@jit\n",
    "def linear_model_sampless(key, Y, df):\n",
    "    kernel_outcome = NUTS(outcome_model)\n",
    "    lin_mcmc = MCMC(kernel_outcome, num_warmup=n_warmup, num_samples=n_samples,num_chains=n_chains, progress_bar=False, chain_method=\"vectorized\")\n",
    "    # mcmc.run(key, Y=Y, Z=Z, X=X, A=A, n=NN)\n",
    "    lin_mcmc.run(key, X=df, Y=Y)\n",
    "    return lin_mcmc.get_samples()\n",
    "\n",
    "@jit    \n",
    "def HSGP_model_sampless(key, Y, Xgp, Xlin, ell):\n",
    "    kernel_hsgp = NUTS(HSGP_model)\n",
    "    hsgp_mcmc = MCMC(kernel_hsgp, num_warmup=n_warmup, num_samples=n_samples,num_chains=n_chains, progress_bar=False, chain_method=\"vectorized\")\n",
    "    # mcmc.run(key, Y=Y, Z=Z, X=X, A=A, n=NN)\n",
    "    hsgp_mcmc.run(key, Xgp=Xgp, Xlin=Xlin, ell=ell ,m=M, Y=Y)\n",
    "    # samples = hsgp_mcmc.get_samples()\n",
    "    # hsgp_pred = Predictive(HSGP_model, hsgp_mcmc.get_samples())\n",
    "    # return hsgp_pred\n",
    "    return hsgp_mcmc.get_samples()\n",
    "\n",
    "@jit\n",
    "def compute_net_stats(Astar, Z):\n",
    "    cur_eigen_cen = eigen_centrality(Astar)\n",
    "    cur_Zeigen = zeigen_value(Z, cur_eigen_cen, Astar)\n",
    "    # if return_ell:\n",
    "    cur_ell = c*jnp.max(jnp.abs(cur_Zeigen))\n",
    "        # cur_ell = jnp.array(cur_ell)[..., None]\n",
    "    cur_ell = jnp.array(cur_ell).reshape(1,1)\n",
    "    return cur_Zeigen, cur_ell\n",
    "    # else:\n",
    "    #     return cur_Zeigen\n",
    "    \n",
    "@jit    \n",
    "def get_samples_new_Astar(Y, Z, X, X2, curr_Astar):\n",
    "        cur_Zeigen, ell = compute_net_stats(curr_Astar, Z)\n",
    "        # get df\n",
    "        cur_df = jnp.transpose(jnp.array([[1]*NN, Z, X, cur_Zeigen]))\n",
    "        # cur_df = jnp.transpose(jnp.array([[1]*NN, Z, X, X2, cur_Zeigen]))\n",
    "        # Run MCMC\n",
    "        cur_lin_samples = linear_model_sampless(rng_key_, Y, cur_df)\n",
    "        cur_hsgp_samples = HSGP_model_sampless(rng_key_, Y=Y, Xgp=cur_df[:,3:],\n",
    "                                                    Xlin=cur_df[:,0:3], ell=ell)\n",
    "        # cur_hsgp_samples = HSGP_model_sampless(rng_key_, Y=Y, Xgp=cur_df[:,4:],\n",
    "        #                                             Xlin=cur_df[:,0:4], ell=ell)\n",
    "        # cur_hsgp_predictive = Predictive(HSGP_model, HSGP_model_samples(key, Y=Y, Xgp=cur_df[:,3:],\n",
    "        #                                     Xlin=cur_df[:,0:3], ell=ell))\n",
    "        # cur_hsgp_predictive = HSGP_model_samples(key, Y=Y, Xgp=cur_df[:,3:],\n",
    "        #                                     Xlin=cur_df[:,0:3], ell=ell)\n",
    "                                                 # m=jnp.array(m).reshape(1,1))\n",
    "        return cur_lin_samples, cur_hsgp_samples, ell \n",
    "        # return cur_lin_samples, cur_hsgp_samples, cur_df, ell \n",
    "        # return cur_lin_samples, cur_hsgp_predictive, cur_df, ell \n",
    "\n",
    "@jit        \n",
    "def get_predicted_values(z, zeigen, x, x2, lin_samples, hsgp_samples, ell):\n",
    "        # get predicted values \n",
    "        # each has shape (#lin_samples, n)\n",
    "        cur_lin_pred = linear_pred(z, zeigen, lin_samples, x, x2)\n",
    "        cur_hsgp_pred = hsgp_pred(z, zeigen, hsgp_samples, x, x2, ell)\n",
    "        # cur_lin_pred = outcome_jit_pred(lin_samples, curr_df, key)\n",
    "        # cur_hsgp_pred = HSGP_jit_pred(hsgp_samples,Xgp=curr_df[:,3:], Xlin = curr_df[:,0:3],ell=ell)\n",
    "        # cur_hsgp_pred = hsgp_pred(key, Xgp=curr_df[:,3:], Xlin=curr_df[:,0:3],\n",
    "        #                                     ell=ell, m=M)\n",
    "                                            # m=m)\n",
    "        # get estimands for each sample (sample mean across units)\n",
    "        # lin_estimates = jnp.mean(cur_lin_pred[\"Y\"],axis=1)\n",
    "        # lin_estimates =  jnp.mean(cur_lin_pred, axis=0)\n",
    "        # hsgp_estimates = jnp.mean(cur_hsgp_pred[\"Y\"],axis=1)\n",
    "        # hsgp_estimates = jnp.mean(cur_hsgp_pred,axis=0)\n",
    "        # return lin_estimates, hsgp_estimates\n",
    "        return cur_lin_pred, cur_hsgp_pred\n",
    "               \n",
    "@jit\n",
    "def multistage_mcmc(samp_net, Y, Z_obs, Z_new, X, X2):\n",
    "    # cur_key = random.PRNGKey(i)\n",
    "    # sample network\n",
    "    # curr_triu_star = Astar_pred(cur_key, post_samples=post_mean, Xd=x_diff,triu=triu_obs)\n",
    "    # curr_Astar = Triu_to_mat(curr_triu_star[\"triu_star\"][0])\n",
    "    curr_Astar = Triu_to_mat(samp_net)\n",
    "    # re-run MCMC with new network\n",
    "    curr_lin_samples, curr_hsgp_samples, cur_ell = get_samples_new_Astar(Y, Z_obs, X, X2, curr_Astar)\n",
    "    # curr_lin_samples, curr_hsgp_samples, cur_df, cur_ell = get_samples_new_Astar(rng_key_, Y, Z_obs, X, curr_Astar)\n",
    "    # curr_lin_samples, curr_hsgp_pred, cur_df, cur_ell = get_samples_new_Astar(cur_key, Y, Z_obs, X, curr_Astar, m)\n",
    "    zeigen_new, _ = compute_net_stats(curr_Astar, Z_new)\n",
    "    # get predicted estimands for new `Z' values\n",
    "    # if Z_new.ndim == 1:\n",
    "        # new_df = np.copy(cur_df)\n",
    "        # new_df[:,1] = Z_new\n",
    "        # new_df = cur_df.at[:,1].set(Z_new)\n",
    "    lin_estimates, hsgp_estimates = get_predicted_values(Z_new, zeigen_new, x, x2, curr_lin_samples, curr_hsgp_samples, cur_ell)\n",
    "        # lin_estimates, hsgp_estimates = get_predicted_values(cur_key, new_df, curr_lin_samples, curr_hsgp_pred, cur_ell, m)\n",
    "    return jnp.array([lin_estimates, hsgp_estimates])\n",
    "    # if Z_new.ndim == 2:\n",
    "    #     n_iter = Z_new.shape[0]\n",
    "    #     lin_results = []\n",
    "    #     hsgp_results = []\n",
    "    #     for j in range(n_iter):\n",
    "    #         new_df = np.copy(cur_df)\n",
    "    #         new_df[:,1] = Z_new[j]\n",
    "    #         lin_estimates, hsgp_estimates = get_predicted_values(rng_key_, new_df, curr_lin_samples, curr_hsgp_pred, cur_ell, M)\n",
    "    #         lin_results.append([lin_estimates])\n",
    "    #         hsgp_results.append([hsgp_estimates])\n",
    "    #         return np.array(lin_results), np.array(hsgp_results)\n",
    "     \n",
    "\n",
    "@jit\n",
    "def Astar_pred(i, post_samples, Xd, X2, triu):\n",
    "    # if mean_post:\n",
    "    pred_func = Predictive(model=network_model, posterior_samples=post_samples, infer_discrete=True,num_samples=1)\n",
    "    # else:\n",
    "    #     pred_func = Predictive(model=network_model, posterior_samples=post_samples, infer_discrete=True)\n",
    "    samp_net = pred_func(random.PRNGKey(i**2), X=Xd, X2=X2, TriU=triu)[\"triu_star\"]\n",
    "    return jnp.squeeze(samp_net, axis=0)     \n",
    "     \n",
    "     \n",
    "vectorized_astar_pred = jax.vmap(Astar_pred, in_axes=(0, None, None, None, None))\n",
    "vectorized_multistage = jax.vmap(multistage_mcmc, in_axes=(0, None, None, None, None, None))\n",
    "parallel_multistage = jax.pmap(multistage_mcmc, in_axes=(0, None, None, None, None, None))\n",
    "\n",
    "\n",
    "\n",
    "#      \n",
    "# start = time.time()\n",
    "# # twostage_post_samp_jit = pd.DataFrame()\n",
    "# twostage_linear = []\n",
    "# twostage_hsgp = []\n",
    "# # for i in tqdm(range(50)):\n",
    "# for i in tqdm(range(3)):\n",
    "#     cur_lin, cur_hsgp = twostage_jj(Astar_pred, post_pred_mean, Y, Z, h_1, x, x_diff, triu_obs, i)\n",
    "#     # cur_lin, cur_hsgp = twostage_jj(Astar_pred, post_pred_mean, Y, Z, h_1, x, x_diff, triu_obs, i, m)\n",
    "#     twostage_linear.append(cur_lin)\n",
    "#     twostage_hsgp.append(cur_hsgp)\n",
    "#     # twostage_post_samp_jit = pd.concat([twostage_post_samp_jit,cur_res])    \n",
    "# # print(twostage_post_samp_jit)\n",
    "# twostage_linear = np.array(twostage_linear)\n",
    "# twostage_hsgp = np.array(twostage_hsgp)\n",
    "# print(\"lin shape:\", twostage_linear.shape, \"\\n\",\n",
    "#       \"hsgp shape:\", twostage_hsgp.shape)\n",
    "# print(\"with JIT (non parallel) takes: \", time.time() - start)\n"
   ],
   "metadata": {
    "collapsed": false
   },
   "id": "739b60168409e8f4",
   "outputs": [],
   "execution_count": null
  },
  {
   "cell_type": "code",
   "source": [
    "import datetime\n",
    "print(\"Start time:\", datetime.datetime.now())\n",
    "start = time.time()\n",
    "K = 200\n",
    "irange = jnp.arange(K)\n",
    "many_samp_triu = vectorized_astar_pred(irange, post_pred_mean, jnp.array(x_diff), jnp.array(triu_obs))\n",
    "print(time.time() -start)\n"
   ],
   "metadata": {
    "collapsed": false
   },
   "id": "9ae5d6e2cf095950",
   "outputs": [],
   "execution_count": null
  },
  {
   "cell_type": "code",
   "source": [
    "many_samp_triu.shape"
   ],
   "metadata": {
    "collapsed": false
   },
   "id": "67e94c2ebe133bb1",
   "outputs": [],
   "execution_count": null
  },
  {
   "cell_type": "code",
   "source": [
    "start = time.time()\n",
    "test_twos = vectorized_multistage(many_samp_triu, Y, jnp.array(Z), jnp.array(h_1), jnp.array(x))\n",
    "print(test_twos.shape)\n",
    "print(time.time() - start)"
   ],
   "metadata": {
    "collapsed": false
   },
   "id": "94a979b026294df0",
   "outputs": [],
   "execution_count": null
  },
  {
   "cell_type": "code",
   "source": [
    "samp = test_twos.shape[2]\n",
    "twostage_lin = test_twos[:, 0, :]\n",
    "twostage_hsgp = test_twos[:, 1, :]\n",
    "twostage_linear_long = twostage_lin.reshape(K*samp)\n",
    "twostage_hsgp_long = twostage_hsgp.reshape(K*samp)\n",
    "\n",
    "print(compute_error_stats(twostage_linear_long, true_estimand, \"linear two stage\"), \"\\n\",\n",
    "      compute_error_stats(twostage_hsgp_long, true_estimand, \"hsgp two stage\"))\n"
   ],
   "metadata": {
    "collapsed": false
   },
   "id": "44c9f3086b245808",
   "outputs": [],
   "execution_count": null
  },
  {
   "cell_type": "code",
   "source": [
    "print(\"Start time:\", datetime.datetime.now())\n",
    "start = time.time()\n",
    "test_twos_pm = []\n",
    "for i in range(0,K,4):\n",
    "    # i_results = parallel_multistage(many_samp_triu[i:(i+4),], Y, jnp.array(Z), jnp.array(h_1), jnp.array(x))\n",
    "    i_results = parallel_multistage(many_samp_triu[i:(i+4),], Y, jnp.array(Z), jnp.array(Z_stoch), jnp.array(x))\n",
    "    test_twos_pm.append(i_results)\n",
    "    # test_twos_pm = test_twos_pm.at[i:(i+3),:,:].set(i_samp)\n",
    "test_twos_pm = jnp.concatenate(test_twos_pm, axis=0)\n",
    "print(test_twos_pm.shape)\n",
    "print(time.time() - start)"
   ],
   "metadata": {
    "collapsed": false
   },
   "id": "3da8768149af7e57",
   "outputs": [],
   "execution_count": null
  },
  {
   "cell_type": "code",
   "source": [
    "samp = test_twos_pm.shape[2]\n",
    "twostage_lin = test_twos_pm[:, 0, :]\n",
    "twostage_hsgp = test_twos_pm[:, 1, :]\n",
    "twostage_linear_long = twostage_lin.reshape(K*samp)\n",
    "twostage_hsgp_long = twostage_hsgp.reshape(K*samp)\n",
    "\n",
    "print(compute_error_stats(twostage_linear_long, stoch_estimand, \"linear two stage\"), \"\\n\",\n",
    "      compute_error_stats(twostage_hsgp_long, stoch_estimand, \"hsgp two stage\"))\n",
    "\n",
    "# print(compute_error_stats(twostage_linear_long, true_estimand, \"linear two stage\"), \"\\n\",\n",
    "#       compute_error_stats(twostage_hsgp_long, true_estimand, \"hsgp two stage\"))"
   ],
   "metadata": {
    "collapsed": false
   },
   "id": "c67576da12906557",
   "outputs": [],
   "execution_count": null
  },
  {
   "cell_type": "code",
   "source": [
    "\n",
    "# import importlib\n",
    "# import sys\n",
    "# modules_to_reload = list(sys.modules.keys())\n",
    "# \n",
    "# for module_name in modules_to_reload:\n",
    "#     if module_name.startswith(\"hsgp\"):  # Specify the module prefix or condition\n",
    "#         importlib.reload(sys.modules[module_name])\n",
    "#         print(f\"Reloaded module: {module_name}\")\n",
    "        "
   ],
   "metadata": {
    "collapsed": false
   },
   "id": "fe6ae28c8fc9ed40",
   "outputs": [],
   "execution_count": null
  },
  {
   "cell_type": "code",
   "source": [
    "\n",
    "# print(\"Start time:\", datetime.datetime.now())\n",
    "K=200\n",
    "# threestage\n",
    "i_range = np.random.choice(a = range(post_predictive[\"triu_star\"].shape[0]), size = K, replace = False)\n",
    "multi_post_triu = post_predictive[\"triu_star\"][i_range,]\n",
    "\n",
    "start = time.time()\n",
    "test_threes_pm = []\n",
    "for i in range(0,K,4):\n",
    "    i_results = parallel_multistage(multi_post_triu[i:(i+4),], Y, jnp.array(Z), jnp.array(h_1), jnp.array(x), jnp.array(x2))\n",
    "    test_threes_pm.append(i_results)\n",
    "    # test_twos_pm = test_twos_pm.at[i:(i+3),:,:].set(i_samp)\n",
    "test_threes_pm = jnp.concatenate(test_threes_pm, axis=0)\n",
    "print(test_threes_pm.shape)\n",
    "print(time.time() - start)"
   ],
   "metadata": {
    "collapsed": false
   },
   "id": "4743d2f318b5a582",
   "outputs": [],
   "execution_count": null
  },
  {
   "cell_type": "code",
   "source": [
    "samp = test_threes_pm.shape[2]\n",
    "threestage_lin = test_threes_pm[:,0,:,:]\n",
    "threestage_hsgp = test_threes_pm[:,1,:,:]\n",
    "print(threestage_lin.shape, threestage_hsgp.shape)\n",
    "threestage_linear_long = threestage_lin.reshape((K*samp,n))\n",
    "threestage_hsgp_long = threestage_hsgp.reshape((K*samp,n))\n",
    "print(threestage_linear_long.shape, threestage_hsgp_long.shape)\n",
    "print(compute_error_stats(threestage_linear_long, hestimand, \"linear 3-stage\"), \"\\n\",\n",
    "      compute_error_stats(threestage_hsgp_long, hestimand, \"hsgp 3-stage\"))"
   ],
   "metadata": {
    "collapsed": false
   },
   "id": "c06888779d4f60b8",
   "outputs": [],
   "execution_count": null
  },
  {
   "cell_type": "code",
   "source": [
    "\n",
    "def threestage_jj(triu_post_samp, Y, Z_obs, Z_new, X, i):\n",
    "    cur_key = random.PRNGKey(i)\n",
    "    # triu to adj mat\n",
    "    curr_Astar = Triu_to_mat(triu_post_samp)\n",
    "    # re-run MCMC with new network\n",
    "    curr_lin_samples, curr_hsgp_pred, cur_df, cur_ell = get_samples_new_Astar(cur_key, Y, Z_obs, X, curr_Astar)\n",
    "    # curr_lin_samples, curr_hsgp_pred, cur_df, cur_ell = get_samples_new_Astar(cur_key, Y, Z_obs, X, curr_Astar, m)\n",
    "    # get predicted estimands for new `Z' values\n",
    "    if Z_new.ndim == 1:\n",
    "        # new_df = np.copy(cur_df)\n",
    "        # new_df[:,1] = Z_new\n",
    "        new_df = cur_df.at[:,1].set(Z_new)\n",
    "        lin_estimates, hsgp_estimates = get_predicted_values(cur_key, new_df, curr_lin_samples, curr_hsgp_pred, cur_ell)\n",
    "        # lin_estimates, hsgp_estimates = get_predicted_values(cur_key, new_df, curr_lin_samples, curr_hsgp_pred, cur_ell, m)\n",
    "        return lin_estimates, hsgp_estimates\n",
    "    if Z_new.ndim == 2:\n",
    "        n_iter = Z_new.shape[0]\n",
    "        lin_results = []\n",
    "        hsgp_results = []\n",
    "        for j in range(n_iter):\n",
    "            new_df = np.copy(cur_df)\n",
    "            new_df[:,1] = Z_new[j]\n",
    "            lin_estimates, hsgp_estimates = get_predicted_values(cur_key, new_df, curr_lin_samples, curr_hsgp_pred, cur_ell, m)\n",
    "            lin_results.append(lin_estimates)\n",
    "            hsgp_results.append(hsgp_estimates)\n",
    "            return np.array(lin_results), np.array(hsgp_results)\n",
    "     \n",
    "     \n",
    "start = time.time()\n",
    "K = 100\n",
    "i_range = np.random.choice(a = range(post_predictive[\"triu_star\"].shape[0]), size = K, replace = False)\n",
    "# twostage_post_samp_jit = pd.DataFrame()\n",
    "threestage_linear = []\n",
    "threestage_hsgp = []\n",
    "# for i in tqdm(range(50)):\n",
    "for i in tqdm(i_range):\n",
    "    cur_lin, cur_hsgp = threestage_jj(post_predictive[\"triu_star\"][i,], Y, Z, h_1, x, i)\n",
    "    # cur_lin, cur_hsgp = twostage_jj(Astar_pred, post_pred_mean, Y, Z, h_1, x, x_diff, triu_obs, i, m)\n",
    "    threestage_linear.append(cur_lin)\n",
    "    threestage_hsgp.append(cur_hsgp)\n",
    "    # twostage_post_samp_jit = pd.concat([twostage_post_samp_jit,cur_res])    \n",
    "# print(twostage_post_samp_jit)\n",
    "threestage_linear = np.array(threestage_linear)\n",
    "threestage_hsgp = np.array(threestage_hsgp)\n",
    "print(\"lin shape:\", threestage_linear.shape, \"\\n\",\n",
    "      \"hsgp shape:\", threestage_hsgp.shape)\n",
    "print(\"with JIT (non parallel) takes: \", time.time() - start)\n"
   ],
   "metadata": {
    "collapsed": false
   },
   "id": "d89cd4bf5f75ee0b",
   "outputs": [],
   "execution_count": null
  },
  {
   "cell_type": "code",
   "source": [
    "m, samp = threestage_linear.shape\n",
    "threestage_linear_long = threestage_linear.reshape(m*samp)\n",
    "threestage_hsgp_long = threestage_hsgp.reshape(m*samp)\n",
    "print(compute_error_stats(threestage_linear_long, true_estimand, \"linear three stage\"), \"\\n\",\n",
    "      compute_error_stats(threestage_hsgp_long, true_estimand, \"hsgp three stage\"))"
   ],
   "metadata": {
    "collapsed": false
   },
   "id": "65c42630a5828aef",
   "outputs": [],
   "execution_count": null
  },
  {
   "cell_type": "code",
   "source": [
    "mean_alpha2 = np.mean(threestage_post_samp_jit[\"alpha_2\"])\n",
    "\n",
    "def between_var(x, mean_all):\n",
    "    n_rep = len(x)\n",
    "    return (1/(n_rep - 1))*np.sum(np.square(x-mean_alpha2))\n",
    "\n",
    "alpha2_agg_by_iter = threestage_post_samp_jit[[\"iter\",\"alpha_2\"]].groupby(\"iter\").agg([\"mean\",\"var\"])\n",
    "alpha2_agg_by_iter.columns = [\"mean\",\"var\"]\n",
    "alpha2_VB = between_var(alpha2_agg_by_iter[\"mean\"], mean_alpha2)\n",
    "alpha2_VW = np.mean(alpha2_agg_by_iter[\"var\"])\n",
    "\n",
    "alpha2_MI_var = alpha2_VB*(1 + 1/K) + alpha2_VW\n",
    "print(\"VB: \", alpha2_VB, \"VW: \", alpha2_VW, \" Total var: \", alpha2_MI_var,\n",
    "      \" Naive var: \", np.var(threestage_post_samp_jit[\"alpha_2\"]))\n",
    "\n"
   ],
   "metadata": {
    "collapsed": false
   },
   "id": "3ad6a7559b22dfd",
   "outputs": [],
   "execution_count": null
  },
  {
   "cell_type": "code",
   "source": [
    "\n",
    "# `cut posterior` : for each A* and A|A* param, sample one A*, and compute network statistics distribution (e.g., degrees and exposures)\n",
    "# The uncertainty in A* and A|A* *doesn't* propagate into the outcome model which depends on the network statistics\n",
    "# Use the mean network stat in the outcome model (i.e., only one outcome model run!).\n",
    "\n",
    "@jit\n",
    "def network_posterior_stats(triu_sample, z):\n",
    "    curr_Astar = Triu_to_mat(triu_sample)    \n",
    "    # curr_degree = jnp.sum(curr_Astar,1)\n",
    "    cur_eig_cen = eigen_centrality(curr_Astar)\n",
    "    zeigen = zeigen_value(z, cur_eig_cen, curr_Astar)\n",
    "    # Zeigen_old = zeigen_value(Z_old, cur_eig_cen, curr_Astar)\n",
    "    # Zeigen_new = zeigen_value(Z_new, cur_eig_cen, curr_Astar)\n",
    "    return zeigen\n",
    "    # return jnp.array(Zeigen_old, Zeigen_new)\n",
    "    \n",
    "parallel_network_post_stats = jax.pmap(network_posterior_stats, in_axes=(0, None))\n",
    "vectorized_network_post_stats = jax.vmap(network_posterior_stats, in_axes=(0, None))\n"
   ],
   "metadata": {
    "collapsed": false
   },
   "id": "d38c438349af4a3a",
   "outputs": [],
   "execution_count": null
  },
  {
   "cell_type": "code",
   "source": [
    "# start = time.time()\n",
    "# mean_zeigen_vec = vectorized_network_post_stats(post_predictive[\"triu_star\"], Z, h_1)\n",
    "# print(mean_zeigen_vec.shape)\n",
    "# print(time.time() - start)"
   ],
   "metadata": {
    "collapsed": false
   },
   "id": "8acc690cba1025c7",
   "outputs": [],
   "execution_count": null
  },
  {
   "cell_type": "code",
   "source": [
    "stt = network_posterior_stats(post_predictive[\"triu_star\"][0,], h_1)\n",
    "print(stt.shape)"
   ],
   "metadata": {
    "collapsed": false
   },
   "id": "f869d8e0ce427854",
   "outputs": [],
   "execution_count": null
  },
  {
   "cell_type": "code",
   "source": [
    "start = time.time()\n",
    "mean_obs_zeigen = []\n",
    "mean_h_zeigen = []\n",
    "mean_h2_zeigen = []\n",
    "mean_stoch_zeigen = []\n",
    "mean_stoch2_zeigen = []\n",
    "for i in range(0,post_predictive[\"triu_star\"].shape[0],4):\n",
    "    # i_results = parallel_network_post_stats(post_predictive[\"triu_star\"][i:(i+4),], Z, h_1)\n",
    "    obs_results = parallel_network_post_stats(post_predictive[\"triu_star\"][i:(i+4),], Z)\n",
    "    mean_obs_zeigen.append(obs_results)\n",
    "    new_results = parallel_network_post_stats(post_predictive[\"triu_star\"][i:(i+4),], h_1)\n",
    "    mean_h_zeigen.append(new_results)\n",
    "    new_h2_results = parallel_network_post_stats(post_predictive[\"triu_star\"][i:(i+4),], h_2)\n",
    "    mean_h2_zeigen.append(new_h2_results)\n",
    "    stoch_results = parallel_network_post_stats(post_predictive[\"triu_star\"][i:(i+4),], Z_stoch)\n",
    "    mean_stoch_zeigen.append(stoch_results)\n",
    "    stoch2_results = parallel_network_post_stats(post_predictive[\"triu_star\"][i:(i+4),], Z_stoch2)\n",
    "    mean_stoch2_zeigen.append(stoch2_results)\n",
    "    # test_twos_pm = test_twos_pm.at[i:(i+3),:,:].set(i_samp)\n",
    "mean_obs_zeigen = jnp.concatenate(mean_obs_zeigen, axis=0)\n",
    "mean_h_zeigen = jnp.concatenate(mean_h_zeigen, axis=0)\n",
    "mean_h2_zeigen = jnp.concatenate(mean_h2_zeigen, axis=0)\n",
    "mean_stoch_zeigen = jnp.concatenate(mean_stoch_zeigen, axis=0)\n",
    "mean_stoch2_zeigen = jnp.concatenate(mean_stoch2_zeigen, axis=0)\n",
    "print(mean_obs_zeigen.shape)\n",
    "print(mean_h_zeigen.shape)\n",
    "print(mean_stoch_zeigen.shape)\n",
    "print(time.time() - start)"
   ],
   "metadata": {
    "collapsed": false
   },
   "id": "56447a7f6a51a9e6",
   "outputs": [],
   "execution_count": null
  },
  {
   "cell_type": "code",
   "source": [
    "post_zeigen_obs = jnp.mean(mean_obs_zeigen, axis=0)\n",
    "post_zeigen_h = jnp.mean(mean_h_zeigen, axis=0)\n",
    "post_zeigen_h2 = jnp.mean(mean_h2_zeigen, axis=0)\n",
    "post_zeigen_stoch = jnp.mean(mean_stoch_zeigen, axis=0)\n",
    "post_zeigen_stoch2 = jnp.mean(mean_stoch2_zeigen, axis=0)\n"
   ],
   "metadata": {
    "collapsed": false
   },
   "id": "34b761670f9d9275",
   "outputs": [],
   "execution_count": null
  },
  {
   "metadata": {},
   "cell_type": "code",
   "source": [
    "print(np.mean(np.abs(post_zeigen_obs-Zeigen)))\n",
    "print(np.mean(np.abs(obs_Zeigen-Zeigen)))"
   ],
   "id": "34a77716e991966e",
   "outputs": [],
   "execution_count": null
  },
  {
   "cell_type": "code",
   "source": [
    "n_warmup = 1000\n",
    "n_samples = 2000\n",
    "n_chains = 4\n",
    "M = m\n",
    "\n",
    "@jit\n",
    "def linear_model_samples(key, Y, df):\n",
    "    kernel_outcome = NUTS(outcome_model)\n",
    "    lin_mcmc = MCMC(kernel_outcome, num_warmup=n_warmup, num_samples=n_samples,num_chains=n_chains, progress_bar=False, chain_method=\"vectorized\")\n",
    "    # mcmc.run(key, Y=Y, Z=Z, X=X, A=A, n=NN)\n",
    "    lin_mcmc.run(key, X=df, Y=Y)\n",
    "    return lin_mcmc.get_samples()\n",
    "\n",
    "\n",
    "@jit    \n",
    "def HSGP_model_samples(key, Y, Xgp, Xlin, ell):\n",
    "    kernel_hsgp = NUTS(HSGP_model)\n",
    "    hsgp_mcmc = MCMC(kernel_hsgp, num_warmup=num_warmup, num_samples=num_samples,num_chains=num_chains, progress_bar=False, chain_method=\"vectorized\")\n",
    "    # mcmc.run(key, Y=Y, Z=Z, X=X, A=A, n=NN)\n",
    "    hsgp_mcmc.run(key, Xgp=Xgp, Xlin=Xlin, ell=ell ,m=M, Y=Y)\n",
    "    # hsgp_mcmc.print_summary()\n",
    "    # samples = hsgp_mcmc.get_samples()\n",
    "    # hsgp_pred = Predictive(HSGP_model, hsgp_mcmc.get_samples())\n",
    "    # return hsgp_pred\n",
    "    return hsgp_mcmc.get_samples()"
   ],
   "metadata": {
    "collapsed": false
   },
   "id": "79feb508275afe2f",
   "outputs": [],
   "execution_count": null
  },
  {
   "cell_type": "code",
   "source": [
    "# one_stage_df_obs = jnp.array(np.transpose(np.array([[1]*n, Z, x,x2, post_zeigen_obs])))\n",
    "one_stage_df_obs = jnp.array(np.transpose(np.array([[1]*n, Z, x, post_zeigen_obs])))\n",
    "one_stage_ell = jnp.array(c*jnp.max(jnp.abs(post_zeigen_obs))).reshape(1,1)\n"
   ],
   "metadata": {
    "collapsed": false
   },
   "id": "68e564dcd89a0f45",
   "outputs": [],
   "execution_count": null
  },
  {
   "metadata": {},
   "cell_type": "code",
   "source": "print(ell, ell_obs, one_stage_ell)",
   "id": "8202cd6ac7f47b55",
   "outputs": [],
   "execution_count": null
  },
  {
   "cell_type": "code",
   "source": [
    "onestage_samples_linear = linear_model_samples(rng_key_,Y=Y, df=one_stage_df_obs)\n",
    "onestage_samples_hsgp = HSGP_model_samples(rng_key_,Y=Y, Xgp=one_stage_df_obs[:,3], Xlin=one_stage_df_obs[:,:3], ell=one_stage_ell)"
   ],
   "metadata": {
    "collapsed": false
   },
   "id": "98c08b497bf3f7b4",
   "outputs": [],
   "execution_count": null
  },
  {
   "metadata": {},
   "cell_type": "code",
   "source": [
    "# Onestage linear HTE\n",
    "lin_h1_pred_os = linear_pred(h_1, post_zeigen_h, onestage_samples_linear, x, x2)\n",
    "lin_h2_pred_os = linear_pred(h_2, post_zeigen_h2, onestage_samples_linear, x, x2)\n",
    "# lin_hte_pred_os = jnp.mean(lin_h1_pred - lin_h2_pred, axis=0)\n",
    "lin_hte_pred_os = lin_h1_pred - lin_h2_pred\n",
    "print(compute_error_stats(lin_hte_pred_os, hte))"
   ],
   "id": "1570aefe0f309c82",
   "outputs": [],
   "execution_count": null
  },
  {
   "metadata": {},
   "cell_type": "code",
   "source": [
    "# Onestage HSGP HTE\n",
    "hsgp_h1_pred_os = hsgp_pred(h_1, post_zeigen_h, onestage_samples_hsgp, x, x2, one_stage_ell)\n",
    "hsgp_h2_pred_os = hsgp_pred(h_2, post_zeigen_h2, onestage_samples_hsgp, x, x2, one_stage_ell)\n",
    "# hsgp_hte_pred_os = jnp.mean(hsgp_h1_pred_os - hsgp_h2_pred_os, axis=0)\n",
    "hsgp_hte_pred_os = hsgp_h1_pred_os - hsgp_h2_pred_os\n",
    "print(compute_error_stats(hsgp_hte_pred_os, hte))\n"
   ],
   "id": "16f6b9b607c4bc0a",
   "outputs": [],
   "execution_count": null
  },
  {
   "metadata": {},
   "cell_type": "code",
   "source": [
    "# Onestage linear Stoch\n",
    "lin_stoch_pred_os = linear_pred(Z_stoch, post_zeigen_stoch, onestage_samples_linear, x, x2)\n",
    "lin_stoch2_pred_os = linear_pred(Z_stoch2, post_zeigen_stoch2, onestage_samples_linear, x, x2)\n",
    "lin_stoch_pred_os = jnp.mean(lin_stoch_pred_os - lin_stoch2_pred_os, axis=0)\n",
    "print(compute_error_stats(lin_stoch_pred_os, te_stoch))\n"
   ],
   "id": "c0649772ffecac47",
   "outputs": [],
   "execution_count": null
  },
  {
   "metadata": {},
   "cell_type": "code",
   "source": [
    "# Onestage HSGP Stoch\n",
    "hsgp_stoch_pred_os = hsgp_pred(Z_stoch, post_zeigen_stoch, onestage_samples_hsgp, x, x2, one_stage_ell)\n",
    "hsgp_stoch2_pred_os = hsgp_pred(Z_stoch2, post_zeigen_stoch2, onestage_samples_hsgp, x, x2, one_stage_ell)\n",
    "hsgp_stoch_pred_os = jnp.mean(hsgp_stoch_pred_os - hsgp_stoch2_pred_os, axis=0)\n",
    "print(compute_error_stats(hsgp_stoch_pred_os, te_stoch))"
   ],
   "id": "8a15b3a200915075",
   "outputs": [],
   "execution_count": null
  },
  {
   "cell_type": "code",
   "source": [
    "lin_h_1_onestage_pred = linear_pred(h_1, post_zeigen_h, onestage_samples_linear, x, x2)\n",
    "print(lin_h_1_onestage_pred.shape)\n",
    "print(jnp.mean(lin_h_1_onestage_pred, axis=0).shape)\n",
    "print(compute_error_stats(jnp.mean(lin_h_1_onestage_pred, axis=0), hestimand))"
   ],
   "metadata": {
    "collapsed": false
   },
   "id": "a073a1066105e7ee",
   "outputs": [],
   "execution_count": null
  },
  {
   "cell_type": "code",
   "source": [
    "hsgp_h_1_onestage_pred = hsgp_pred(h_1, post_zeigen_h, onestage_samples_hsgp, x, one_stage_ell)\n",
    "print(hsgp_h_1_onestage_pred.shape)\n",
    "print(jnp.mean(hsgp_h_1_onestage_pred, axis=0).shape)\n",
    "print(compute_error_stats(jnp.mean(hsgp_h_1_onestage_pred, axis=0), hestimand))"
   ],
   "metadata": {
    "collapsed": false
   },
   "id": "45a63b56a5857649",
   "outputs": [],
   "execution_count": null
  },
  {
   "cell_type": "code",
   "source": [
    "lin_stoch_onestage_pred = linear_pred(Z_stoch, post_zeigen_stoch, onestage_samples_linear, x)\n",
    "print(lin_stoch_onestage_pred.shape)\n",
    "print(jnp.mean(lin_stoch_onestage_pred, axis=0).shape)\n",
    "linstoch_stat = compute_error_stats(jnp.mean(lin_stoch_onestage_pred, axis=0), stoch_estimand, \"Onestage_linear\")\n",
    "print(linstoch_stat)\n",
    "# print(compute_error_stats(jnp.mean(lin_stoch_onestage_pred, axis=0), stoch_estimand))"
   ],
   "metadata": {
    "collapsed": false
   },
   "id": "4ddd57e7d4218364",
   "outputs": [],
   "execution_count": null
  },
  {
   "cell_type": "code",
   "source": [
    "hsgp_stoch_onestage_pred = hsgp_pred(Z_stoch, post_zeigen_stoch, onestage_samples_hsgp, x, one_stage_ell)\n",
    "print(hsgp_stoch_onestage_pred.shape)\n",
    "print(jnp.mean(hsgp_stoch_onestage_pred, axis=0).shape)\n",
    "hsgpstoch_stat = compute_error_stats(jnp.mean(hsgp_stoch_onestage_pred, axis=0), stoch_estimand, \"Onestage_hsgp\")\n",
    "print(hsgpstoch_stat)\n",
    "# print(compute_error_stats(jnp.mean(hsgp_stoch_onestage_pred, axis=0), stoch_estimand))"
   ],
   "metadata": {
    "collapsed": false
   },
   "id": "8da94571a73d54a5",
   "outputs": [],
   "execution_count": null
  },
  {
   "cell_type": "code",
   "source": [
    "pd.concat([linstoch_stat, hsgpstoch_stat])"
   ],
   "metadata": {
    "collapsed": false
   },
   "id": "71135fd7053c03a8",
   "outputs": [],
   "execution_count": null
  },
  {
   "cell_type": "code",
   "source": [
    "\n",
    "true_deg = np.sum(mat,1)\n",
    "obs_deg = np.sum(obs_mat,1)\n",
    "\n",
    "beige_color = '#FFFDFA'\n",
    "pastel_purple_dark = (0.4, 0.2, 0.6)\n",
    "# sns.set_theme(style=\"ticks\", rc={'figure.facecolor': beige_color, 'axes.facecolor' : beige_color})\n",
    "# sns.set_context(\"poster\")\n",
    "\n",
    "\n",
    "fig, axes = plt.subplots(nrows=1,ncols=2, sharex=True, sharey=True)\n",
    "ax1, ax2 = axes.flatten()\n",
    "# fig.patch.set_facecolor(beige_color)\n",
    "# for ax in axes:\n",
    "    # ax.set_facecolor(beige_color) \n",
    "\n",
    "# ax1.plot(a_star_pred_deg, a_star_true_deg,\"o\")\n",
    "ax1.scatter(x=obs_deg,y=true_deg, marker = 'o',alpha=0.8,color=pastel_purple_dark,edgecolors=\"none\")\n",
    "ax1.axline((0,0),slope=1,c=\"black\",ls=\"--\",alpha=0.8,lw=1.3)\n",
    "# plt.gca().set_facecolor(beige_color)\n",
    "# ax2.plot(a_obs_deg, a_star_true_deg,\"o\")\n",
    "ax2.scatter(x=mean_deg, y=true_deg, marker = 'o',alpha=0.8,color=pastel_purple_dark,edgecolors=\"none\")\n",
    "ax2.axline((0,0),slope=1,c=\"black\",ls=\"--\",alpha=0.8,lw=1.3)\n",
    "# plt.gca().set_facecolor(beige_color)\n",
    "ax2.set_xlabel(\"Posterior mean\")\n",
    "ax1.set_xlabel(\"Observed\")\n",
    "ax1.set_ylabel(\"True\")\n",
    "ax2.set_ylabel(\"True\")\n",
    "\n",
    "fig.suptitle('Degree distribution', fontsize=16)\n",
    "\n",
    "fig = plt.gcf()\n",
    "fig.set_size_inches(8, 4)\n",
    "fig.savefig('deg_dist.png', dpi=300)"
   ],
   "metadata": {
    "collapsed": false
   },
   "id": "97d238fcf0b34475",
   "outputs": [],
   "execution_count": null
  }
 ],
 "metadata": {
  "kernelspec": {
   "display_name": "Python 3",
   "language": "python",
   "name": "python3"
  },
  "language_info": {
   "codemirror_mode": {
    "name": "ipython",
    "version": 2
   },
   "file_extension": ".py",
   "mimetype": "text/x-python",
   "name": "python",
   "nbconvert_exporter": "python",
   "pygments_lexer": "ipython2",
   "version": "2.7.6"
  }
 },
 "nbformat": 4,
 "nbformat_minor": 5
}
