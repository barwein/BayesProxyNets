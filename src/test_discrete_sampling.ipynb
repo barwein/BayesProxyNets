{
 "cells": [
  {
   "cell_type": "code",
   "execution_count": 95,
   "metadata": {},
   "outputs": [],
   "source": [
    "import jax\n",
    "import jax.numpy as jnp\n",
    "import jax.random as random\n",
    "from jax.scipy.special import expit, logit\n",
    "import numpy as np\n",
    "from tqdm import tqdm\n",
    "import numpyro\n",
    "import numpyro.distributions as dist\n",
    "import src.Aux_functions as aux\n",
    "from itertools import combinations\n",
    "import matplotlib.pyplot as plt \n",
    "\n"
   ]
  },
  {
   "cell_type": "code",
   "execution_count": 58,
   "metadata": {},
   "outputs": [
    {
     "name": "stdout",
     "output_type": "stream",
     "text": [
      "(500,) (500,) (124750,) (124750,)\n",
      "(124750,) (124750,)\n",
      "(500,)\n"
     ]
    }
   ],
   "source": [
    "key = random.PRNGKey(0)\n",
    "\n",
    "# Generate some data\n",
    "n = 500\n",
    "triu_dim = n*(n-1)//2\n",
    "\n",
    "x = random.normal(key, shape=(n,))*3\n",
    "x2 = random.binomial(key, n=1, p=0.1, shape=(n,))\n",
    "idx_pairs = list(combinations(range(len(x)), 2))\n",
    "x_diff = jnp.array([abs(x[i] - x[j]) for i, j in idx_pairs])\n",
    "x2_or = jnp.array([1 if (x2[i] + x2[j] == 1) else 0 for i, j in idx_pairs])\n",
    "\n",
    "\n",
    "print(x.shape, x2.shape, x_diff.shape, x2_or.shape)\n",
    "\n",
    "# Network data\n",
    "\n",
    "df_edges = jnp.transpose(jnp.stack([x_diff, x2_or]))\n",
    "theta = jnp.array([-2, 1.5])\n",
    "gamma = jnp.array([1.1, 0.2, -1, 1])\n",
    "\n",
    "triu_star_probs = expit(jnp.dot(df_edges, theta))\n",
    "triu_star = random.binomial(key, n=1, p=triu_star_probs, shape=(triu_dim,))\n",
    "\n",
    "\n",
    "triu_obs_probs = expit((triu_star * gamma[0]) + (1 - triu_star) * (gamma[1] + jnp.dot(df_edges, gamma[2:])))\n",
    "triu_obs = random.binomial(key, n=1, p=triu_obs_probs, shape=(triu_dim,))\n",
    "\n",
    "print(triu_star.shape, triu_obs.shape)\n",
    "\n",
    "# Outcome data\n",
    "\n",
    "mat_star = aux.Triu_to_mat(triu_star)\n",
    "Z = random.binomial(key, n=1, p=0.5, shape=(n,))\n",
    "exposures = jnp.dot(mat_star, Z)\n",
    "\n",
    "df_nodes = jnp.transpose(jnp.stack([jnp.ones(n), Z, x, exposures]))\n",
    "eta = jnp.array([-1, 3, -0.25, 3])\n",
    "\n",
    "mean_y = jnp.dot(df_nodes, eta)\n",
    "sig_y = 1\n",
    "\n",
    "Y = random.normal(key, shape=(n,))*sig_y + mean_y\n",
    "\n",
    "print(Y.shape)\n",
    "\n"
   ]
  },
  {
   "cell_type": "code",
   "execution_count": 17,
   "metadata": {},
   "outputs": [
    {
     "name": "stdout",
     "output_type": "stream",
     "text": [
      "[0. 0. 0. 1.] \n",
      " [1. 0. 0. 1.]\n"
     ]
    }
   ],
   "source": [
    "print(triu_star[1:5], \"\\n\", triu_obs[1:5])"
   ]
  },
  {
   "cell_type": "code",
   "execution_count": 74,
   "metadata": {},
   "outputs": [
    {
     "data": {
      "text/plain": [
       "<matplotlib.collections.PathCollection at 0x20aa77fbe90>"
      ]
     },
     "execution_count": 74,
     "metadata": {},
     "output_type": "execute_result"
    },
    {
     "data": {
      "image/png": "[encoded data removed]",
      "text/plain": [
       "<Figure size 640x480 with 1 Axes>"
      ]
     },
     "metadata": {},
     "output_type": "display_data"
    }
   ],
   "source": [
    "plt.scatter(exposures, Y)"
   ]
  },
  {
   "cell_type": "code",
   "execution_count": 84,
   "metadata": {},
   "outputs": [],
   "source": [
    "@jax.jit\n",
    "def A_star_cond_log_post(triu_star, triu_obs, df_edges, theta, gamma, Y, X, Z, eta):\n",
    "    logits_a_star = jnp.dot(df_edges, theta)\n",
    "    a_star_log_likelihood = triu_star * (-jnp.log1p(jnp.exp(-logits_a_star))) + (1 - triu_star) * (-jnp.log1p(jnp.exp(logits_a_star)))\n",
    "\n",
    "    logits_a_obs = (triu_star * gamma[0]) + (1 - triu_star) * (gamma[1] + jnp.dot(df_edges, gamma[2:]))\n",
    "    a_obs_log_likelihood = triu_obs * (-jnp.log1p(jnp.exp(-logits_a_obs))) + (1 - triu_obs) * (-jnp.log1p(jnp.exp(logits_a_obs)))\n",
    "\n",
    "\n",
    "    # curr_a_star = aux.Triu_to_mat(triu_star)\n",
    "    # exposures = jnp.dot(curr_a_star, Z)\n",
    "    # df_nodes = jnp.transpose(jnp.stack([jnp.ones(n), Z, X, exposures]))\n",
    "    # mean_y = jnp.dot(df_nodes, eta)\n",
    "    # y_log_likelihood = - jnp.sum((Y - mean_y)**2)\n",
    "    y_log_likelihood = 0\n",
    "    # TODO: need to check why adding the outcome makes the likelihood (and gradients) act weird\n",
    "    # TODO: probably need to consider which units are affected by each A*_{ij} and their outcome probs to the likelihood\n",
    "\n",
    "    log_prob = a_star_log_likelihood + a_obs_log_likelihood + y_log_likelihood\n",
    "    log_prob_sum = jnp.sum(log_prob)\n",
    "\n",
    "    # return jnp.sum(a_star_log_likelihood) + jnp.sum(a_obs_log_likelihood) + y_log_likelihood\n",
    "    return log_prob_sum, log_prob"
   ]
  },
  {
   "cell_type": "code",
   "execution_count": 85,
   "metadata": {},
   "outputs": [
    {
     "name": "stdout",
     "output_type": "stream",
     "text": [
      "(Array(-60142.33, dtype=float32), Array([-0.48001826, -2.3502064 , -0.01477553, ..., -0.46822965,\n",
      "       -0.12236725, -3.2227528 ], dtype=float32))\n"
     ]
    }
   ],
   "source": [
    "print(A_star_cond_log_post(triu_star, triu_obs, df_edges, theta, gamma, Y, x, Z, eta))"
   ]
  },
  {
   "cell_type": "code",
   "execution_count": 86,
   "metadata": {},
   "outputs": [
    {
     "name": "stdout",
     "output_type": "stream",
     "text": [
      "(124750,) (124750,)\n",
      "-60142.33 \n",
      " [ -1.8626964  -8.911947  -12.396516    1.1397066  -6.0584917  -8.6966505\n",
      "  -6.223612   -8.753494  -11.499445 ]\n"
     ]
    },
    {
     "data": {
      "text/plain": [
       "(array([1.000e+00, 0.000e+00, 1.000e+00, 0.000e+00, 1.000e+00, 0.000e+00,\n",
       "        0.000e+00, 2.000e+00, 3.000e+00, 3.000e+00, 2.000e+00, 6.000e+00,\n",
       "        4.000e+00, 5.000e+00, 6.000e+00, 8.000e+00, 6.000e+00, 3.000e+00,\n",
       "        9.000e+00, 4.000e+00, 8.000e+00, 1.000e+01, 8.000e+00, 1.700e+01,\n",
       "        1.400e+01, 1.800e+01, 1.600e+01, 1.800e+01, 2.700e+01, 2.900e+01,\n",
       "        2.400e+01, 4.200e+01, 4.600e+01, 5.900e+01, 6.200e+01, 9.400e+01,\n",
       "        8.500e+01, 1.040e+02, 1.340e+02, 1.310e+02, 1.670e+02, 1.710e+02,\n",
       "        1.960e+02, 2.490e+02, 2.530e+02, 3.010e+02, 3.440e+02, 4.030e+02,\n",
       "        3.860e+02, 4.760e+02, 5.200e+02, 5.900e+02, 6.130e+02, 6.700e+02,\n",
       "        7.860e+02, 8.270e+02, 9.180e+02, 1.006e+03, 1.114e+03, 1.194e+03,\n",
       "        1.250e+03, 1.297e+03, 1.441e+03, 1.536e+03, 1.635e+03, 1.796e+03,\n",
       "        1.915e+03, 1.958e+03, 2.173e+03, 2.209e+03, 2.363e+03, 2.508e+03,\n",
       "        2.525e+03, 2.824e+03, 2.873e+03, 2.981e+03, 3.185e+03, 3.242e+03,\n",
       "        3.403e+03, 3.509e+03, 3.712e+03, 3.787e+03, 3.671e+03, 3.946e+03,\n",
       "        3.986e+03, 3.885e+03, 3.982e+03, 3.983e+03, 3.957e+03, 4.053e+03,\n",
       "        4.156e+03, 4.386e+03, 4.377e+03, 3.490e+03, 2.203e+03, 2.588e+03,\n",
       "        3.568e+03, 7.670e+02, 7.810e+02, 6.550e+02]),\n",
       " array([-3.68700104e+01, -3.64855881e+01, -3.61011696e+01, -3.57167473e+01,\n",
       "        -3.53323288e+01, -3.49479065e+01, -3.45634842e+01, -3.41790657e+01,\n",
       "        -3.37946434e+01, -3.34102249e+01, -3.30258026e+01, -3.26413803e+01,\n",
       "        -3.22569618e+01, -3.18725395e+01, -3.14881191e+01, -3.11036987e+01,\n",
       "        -3.07192783e+01, -3.03348579e+01, -2.99504356e+01, -2.95660152e+01,\n",
       "        -2.91815948e+01, -2.87971745e+01, -2.84127541e+01, -2.80283337e+01,\n",
       "        -2.76439114e+01, -2.72594910e+01, -2.68750706e+01, -2.64906502e+01,\n",
       "        -2.61062298e+01, -2.57218075e+01, -2.53373871e+01, -2.49529667e+01,\n",
       "        -2.45685463e+01, -2.41841259e+01, -2.37997036e+01, -2.34152832e+01,\n",
       "        -2.30308628e+01, -2.26464424e+01, -2.22620220e+01, -2.18775997e+01,\n",
       "        -2.14931793e+01, -2.11087589e+01, -2.07243385e+01, -2.03399181e+01,\n",
       "        -1.99554958e+01, -1.95710754e+01, -1.91866550e+01, -1.88022346e+01,\n",
       "        -1.84178143e+01, -1.80333920e+01, -1.76489716e+01, -1.72645512e+01,\n",
       "        -1.68801308e+01, -1.64957104e+01, -1.61112881e+01, -1.57268677e+01,\n",
       "        -1.53424473e+01, -1.49580269e+01, -1.45736055e+01, -1.41891851e+01,\n",
       "        -1.38047647e+01, -1.34203434e+01, -1.30359230e+01, -1.26515017e+01,\n",
       "        -1.22670813e+01, -1.18826609e+01, -1.14982395e+01, -1.11138191e+01,\n",
       "        -1.07293978e+01, -1.03449774e+01, -9.96055698e+00, -9.57613564e+00,\n",
       "        -9.19171524e+00, -8.80729389e+00, -8.42287350e+00, -8.03845310e+00,\n",
       "        -7.65403223e+00, -7.26961136e+00, -6.88519049e+00, -6.50076962e+00,\n",
       "        -6.11634874e+00, -5.73192835e+00, -5.34750748e+00, -4.96308661e+00,\n",
       "        -4.57866573e+00, -4.19424486e+00, -3.80982423e+00, -3.42540359e+00,\n",
       "        -3.04098272e+00, -2.65656209e+00, -2.27214122e+00, -1.88772047e+00,\n",
       "        -1.50329971e+00, -1.11887896e+00, -7.34458208e-01, -3.50037426e-01,\n",
       "         3.43833528e-02,  4.18804109e-01,  8.03224862e-01,  1.18764567e+00,\n",
       "         1.57206643e+00]),\n",
       " <BarContainer object of 100 artists>)"
      ]
     },
     "execution_count": 86,
     "metadata": {},
     "output_type": "execute_result"
    },
    {
     "data": {
      "image/png": "[encoded data removed]",
      "text/plain": [
       "<Figure size 640x480 with 1 Axes>"
      ]
     },
     "metadata": {},
     "output_type": "display_data"
    }
   ],
   "source": [
    "val_grad_fn = jax.value_and_grad(A_star_cond_log_post, argnums=0, has_aux=True) \n",
    "\n",
    "(sum_logprob, log_prob), gradient = val_grad_fn(triu_star, triu_obs, df_edges, theta, gamma, Y, x, Z, eta)\n",
    "\n",
    "print(log_prob.shape, gradient.shape)\n",
    "print(sum_logprob, \"\\n\", gradient[1:10])\n",
    "\n",
    "# create histogram of gradient\n",
    "\n",
    "plt.hist(gradient, bins=100)"
   ]
  },
  {
   "cell_type": "code",
   "execution_count": 97,
   "metadata": {},
   "outputs": [],
   "source": [
    "# create a function that `flip` triu_star value (0->1, 1->0), each at a time\n",
    "#  and for each flip compute difference in log prob (sum)\n",
    "\n",
    "@jax.jit\n",
    "def flip_triu_star(triu_star, triu_obs, df_edges, theta, gamma, Y, X, Z, eta, idx):\n",
    "    new_triu_star = triu_star.at[idx].set(1 - triu_star[idx])\n",
    "    log_prob_sum, _ = A_star_cond_log_post(new_triu_star, triu_obs, df_edges, theta, gamma, Y, X, Z, eta)\n",
    "    return log_prob_sum\n",
    "\n",
    "# now wrap for all idx\n",
    "\n",
    "@jax.jit\n",
    "def flip_triu_star_all(triu_star, triu_obs, df_edges, theta, gamma, Y, X, Z, eta):\n",
    "    return jnp.array([flip_triu_star(triu_star, triu_obs, df_edges, theta, gamma, Y, X, Z, eta, idx) for idx in range(len(triu_star))])"
   ]
  },
  {
   "cell_type": "code",
   "execution_count": 88,
   "metadata": {},
   "outputs": [
    {
     "data": {
      "text/plain": [
       "[<matplotlib.lines.Line2D at 0x20a9d6b84d0>]"
      ]
     },
     "execution_count": 88,
     "metadata": {},
     "output_type": "execute_result"
    },
    {
     "data": {
      "image/png": "[encoded data removed]",
      "text/plain": [
       "<Figure size 640x480 with 1 Axes>"
      ]
     },
     "metadata": {},
     "output_type": "display_data"
    }
   ],
   "source": [
    "#  manual diff\n",
    "\n",
    "_, f_a = A_star_cond_log_post(triu_star, triu_obs, df_edges, theta, gamma, Y, x, Z, eta)\n",
    "_, f_a_tag = A_star_cond_log_post(1-triu_star, triu_obs, df_edges, theta, gamma, Y, x, Z, eta)\n",
    "\n",
    "grad_manual = f_a_tag - f_a\n",
    "\n",
    "# score_grad = jnp.sum(-(2*triu_star-1)*gradient)\n",
    "score_grad = -(2*triu_star-1)*gradient\n",
    "\n",
    "# plt.hist(score_grad, bins=100)\n",
    "plt.scatter(grad_manual, score_grad)\n",
    "#  add y~x line\n",
    "plt.plot([min(grad_manual), max(grad_manual)], [min(grad_manual), max(grad_manual)], color='red')\n",
    "# plt.hist(grad_manual - score_grad, bins=100)"
   ]
  },
  {
   "cell_type": "code",
   "execution_count": 96,
   "metadata": {},
   "outputs": [
    {
     "name": "stderr",
     "output_type": "stream",
     "text": [
      "jax grad: 100%|██████████| 2000/2000 [00:11<00:00, 176.47it/s]\n"
     ]
    },
    {
     "name": "stdout",
     "output_type": "stream",
     "text": [
      "jax time:  11.409334897994995\n"
     ]
    },
    {
     "name": "stderr",
     "output_type": "stream",
     "text": [
      "manual grad: 100%|██████████| 2000/2000 [00:12<00:00, 162.62it/s]"
     ]
    },
    {
     "name": "stdout",
     "output_type": "stream",
     "text": [
      "manual time:  12.29876184463501\n"
     ]
    },
    {
     "name": "stderr",
     "output_type": "stream",
     "text": [
      "\n"
     ]
    }
   ],
   "source": [
    "# compare jax grad with manual grad running time by changing theta[0] values \n",
    "\n",
    "import time \n",
    "\n",
    "start = time.time()\n",
    "for theta_0 in tqdm(jnp.arange(-3, -1, 0.001), desc = \"jax grad\"):\n",
    "    c_theta = jnp.array([theta_0, 1.5])\n",
    "    (_, _), gradient = val_grad_fn(triu_star, triu_obs, df_edges, c_theta, gamma, Y, x, Z, eta)\n",
    "\n",
    "print(\"jax time: \", time.time() - start)\n",
    "\n",
    "start = time.time()\n",
    "for theta_0 in tqdm(jnp.arange(-3, -1, 0.001), desc = \"manual grad\"):\n",
    "    c_theta = np.array([theta_0, 1.5])\n",
    "    _, f_a = A_star_cond_log_post(triu_star, triu_obs, df_edges, c_theta, gamma, Y, x, Z, eta)\n",
    "    _, f_a_tag = A_star_cond_log_post(1-triu_star, triu_obs, df_edges, c_theta, gamma, Y, x, Z, eta)\n",
    "    grad_manual = f_a_tag - f_a\n",
    "\n",
    "print(\"manual time: \", time.time() - start)\n",
    "\n"
   ]
  },
  {
   "cell_type": "code",
   "execution_count": 93,
   "metadata": {},
   "outputs": [
    {
     "ename": "TypeError",
     "evalue": "'float' object cannot be interpreted as an integer",
     "output_type": "error",
     "traceback": [
      "\u001b[1;31m---------------------------------------------------------------------------\u001b[0m",
      "\u001b[1;31mTypeError\u001b[0m                                 Traceback (most recent call last)",
      "Cell \u001b[1;32mIn[93], line 1\u001b[0m\n\u001b[1;32m----> 1\u001b[0m \u001b[38;5;28mprint\u001b[39m(\u001b[38;5;28mlen\u001b[39m(\u001b[38;5;28;43mrange\u001b[39;49m\u001b[43m(\u001b[49m\u001b[38;5;241;43m-\u001b[39;49m\u001b[38;5;241;43m3.\u001b[39;49m\u001b[43m,\u001b[49m\u001b[38;5;241;43m-\u001b[39;49m\u001b[38;5;241;43m1.\u001b[39;49m\u001b[43m,\u001b[49m\u001b[38;5;241;43m.1\u001b[39;49m\u001b[43m)\u001b[49m))\n",
      "\u001b[1;31mTypeError\u001b[0m: 'float' object cannot be interpreted as an integer"
     ]
    }
   ],
   "source": [
    "print(len(range(-3.,-1.,.1)))"
   ]
  }
 ],
 "metadata": {
  "kernelspec": {
   "display_name": "Python 3",
   "language": "python",
   "name": "python3"
  },
  "language_info": {
   "codemirror_mode": {
    "name": "ipython",
    "version": 3
   },
   "file_extension": ".py",
   "mimetype": "text/x-python",
   "name": "python",
   "nbconvert_exporter": "python",
   "pygments_lexer": "ipython3",
   "version": "3.11.8"
  }
 },
 "nbformat": 4,
 "nbformat_minor": 2
}
