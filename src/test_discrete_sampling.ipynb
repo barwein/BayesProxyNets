{
 "cells": [
  {
   "cell_type": "code",
   "execution_count": 1,
   "metadata": {},
   "outputs": [],
   "source": [
    "import jax\n",
    "import jax.numpy as jnp\n",
    "import jax.random as random\n",
    "from jax.scipy.special import expit, logit\n",
    "import numpy as np\n",
    "from tqdm import tqdm\n",
    "import numpyro\n",
    "import numpyro.distributions as dist\n",
    "import src.Aux_functions as aux\n",
    "from itertools import combinations\n",
    "import matplotlib.pyplot as plt \n",
    "import time \n",
    "\n",
    "\n"
   ]
  },
  {
   "cell_type": "code",
   "execution_count": 2,
   "metadata": {},
   "outputs": [
    {
     "name": "stdout",
     "output_type": "stream",
     "text": [
      "(500,) (500,) (124750,) (124750,)\n",
      "(124750,) (124750,)\n",
      "(500,)\n"
     ]
    }
   ],
   "source": [
    "key = random.PRNGKey(0)\n",
    "\n",
    "# Generate some data\n",
    "n = 500\n",
    "triu_dim = n*(n-1)//2\n",
    "\n",
    "x = random.normal(key, shape=(n,))*3\n",
    "x2 = random.binomial(key, n=1, p=0.1, shape=(n,))\n",
    "idx_pairs = list(combinations(range(len(x)), 2))\n",
    "x_diff = jnp.array([abs(x[i] - x[j]) for i, j in idx_pairs])\n",
    "x2_or = jnp.array([1 if (x2[i] + x2[j] == 1) else 0 for i, j in idx_pairs])\n",
    "\n",
    "\n",
    "print(x.shape, x2.shape, x_diff.shape, x2_or.shape)\n",
    "\n",
    "# Network data\n",
    "\n",
    "df_edges = jnp.transpose(jnp.stack([x_diff, x2_or]))\n",
    "theta = jnp.array([-3, 1.5])\n",
    "gamma = jnp.array([1.1, 0.2, -1, 1])\n",
    "\n",
    "triu_star_probs = expit(jnp.dot(df_edges, theta))\n",
    "triu_star = random.binomial(key, n=1, p=triu_star_probs, shape=(triu_dim,))\n",
    "\n",
    "\n",
    "triu_obs_probs = expit((triu_star * gamma[0]) + (1 - triu_star) * (gamma[1] + jnp.dot(df_edges, gamma[2:])))\n",
    "triu_obs = random.binomial(key, n=1, p=triu_obs_probs, shape=(triu_dim,))\n",
    "\n",
    "print(triu_star.shape, triu_obs.shape)\n",
    "\n",
    "# Outcome data\n",
    "\n",
    "mat_star = aux.Triu_to_mat(triu_star)\n",
    "Z = random.binomial(key, n=1, p=0.5, shape=(n,))\n",
    "exposures = jnp.dot(mat_star, Z)\n",
    "\n",
    "df_nodes = jnp.transpose(jnp.stack([jnp.ones(n), Z, x, exposures]))\n",
    "eta = jnp.array([-1, 3, -0.25, 3])\n",
    "\n",
    "mean_y = jnp.dot(df_nodes, eta)\n",
    "sig_y = 1\n",
    "\n",
    "Y = random.normal(key, shape=(n,))*sig_y + mean_y\n",
    "\n",
    "print(Y.shape)\n",
    "\n"
   ]
  },
  {
   "cell_type": "code",
   "execution_count": 3,
   "metadata": {},
   "outputs": [
    {
     "name": "stdout",
     "output_type": "stream",
     "text": [
      "[0. 0. 0. 0.] \n",
      " [1. 0. 0. 0.]\n"
     ]
    }
   ],
   "source": [
    "print(triu_star[1:5], \"\\n\", triu_obs[1:5])"
   ]
  },
  {
   "cell_type": "code",
   "execution_count": 4,
   "metadata": {},
   "outputs": [
    {
     "data": {
      "text/plain": [
       "<matplotlib.collections.PathCollection at 0x29948834ad0>"
      ]
     },
     "execution_count": 4,
     "metadata": {},
     "output_type": "execute_result"
    },
    {
     "data": {
      "image/png": "[encoded data removed]",
      "text/plain": [
       "<Figure size 640x480 with 1 Axes>"
      ]
     },
     "metadata": {},
     "output_type": "display_data"
    }
   ],
   "source": [
    "plt.scatter(exposures, Y)"
   ]
  },
  {
   "cell_type": "code",
   "execution_count": 9,
   "metadata": {},
   "outputs": [],
   "source": [
    "@jax.jit\n",
    "def A_star_cond_log_post(triu_star, triu_obs, df_edges, theta, gamma):\n",
    "    logits_a_star = jnp.dot(df_edges, theta)\n",
    "    a_star_log_likelihood = triu_star * (-jnp.log1p(jnp.exp(-logits_a_star))) + (1 - triu_star) * (-jnp.log1p(jnp.exp(logits_a_star)))\n",
    "\n",
    "    logits_a_obs = (triu_star * gamma[0]) + (1 - triu_star) * (gamma[1] + jnp.dot(df_edges, gamma[2:]))\n",
    "    a_obs_log_likelihood = triu_obs * (-jnp.log1p(jnp.exp(-logits_a_obs))) + (1 - triu_obs) * (-jnp.log1p(jnp.exp(logits_a_obs)))\n",
    "\n",
    "    log_prob = a_star_log_likelihood + a_obs_log_likelihood \n",
    "    log_prob_sum = jnp.sum(log_prob)\n",
    "\n",
    "    return log_prob_sum, log_prob\n",
    "\n",
    "@jax.jit\n",
    "def compute_exposures(triu_star, Z):\n",
    "    mat_star = aux.Triu_to_mat(triu_star)\n",
    "    return jnp.dot(mat_star, Z)\n",
    "\n",
    "@jax.jit\n",
    "def A_star_cond_log_post_with_Y(triu_star, triu_obs, df_edges, theta, gamma, Y, X, Z, eta):\n",
    "    log_prob_sum_n, log_prob_n = A_star_cond_log_post(triu_star, triu_obs, df_edges, theta, gamma)\n",
    "    # curr_a_star = aux.Triu_to_mat(triu_star)\n",
    "    # exposures = jnp.dot(curr_a_star, Z)\n",
    "    exposures = compute_exposures(triu_star, Z)\n",
    "    df_nodes = jnp.transpose(jnp.stack([jnp.ones(n), Z, X, exposures]))\n",
    "    mean_y = jnp.dot(df_nodes, eta)\n",
    "    y_log_likelihood = - 0.5 * jnp.sum((Y - mean_y)**2)\n",
    "\n",
    "    return log_prob_sum_n + y_log_likelihood, log_prob_n + y_log_likelihood\n"
   ]
  },
  {
   "cell_type": "code",
   "execution_count": 10,
   "metadata": {},
   "outputs": [
    {
     "name": "stdout",
     "output_type": "stream",
     "text": [
      "(Array(-53764.203, dtype=float32), Array([-0.40488562, -2.3433218 , -0.01463171, ..., -0.39524946,\n",
      "       -0.1137819 , -3.2216356 ], dtype=float32))\n",
      "(Array(-54012.17, dtype=float32), Array([-248.37363, -250.31206, -247.98337, ..., -248.36398, -248.08252,\n",
      "       -251.19037], dtype=float32))\n"
     ]
    }
   ],
   "source": [
    "print(A_star_cond_log_post(triu_star, triu_obs, df_edges, theta, gamma))\n",
    "print(A_star_cond_log_post_with_Y(triu_star, triu_obs, df_edges, theta, gamma, Y, x, Z, eta))"
   ]
  },
  {
   "cell_type": "code",
   "execution_count": 11,
   "metadata": {},
   "outputs": [
    {
     "name": "stdout",
     "output_type": "stream",
     "text": [
      "(124750,) (124750,)\n",
      "-54012.17 \n",
      " [ -4.498211  -15.498867  -22.527515    1.790453   -4.934593   -6.4488516\n",
      "  -5.0997133 -16.300667  -10.375546 ]\n"
     ]
    },
    {
     "data": {
      "text/plain": [
       "(array([1.000e+00, 0.000e+00, 0.000e+00, 0.000e+00, 0.000e+00, 0.000e+00,\n",
       "        1.000e+00, 3.000e+00, 3.000e+00, 5.000e+00, 8.000e+00, 2.000e+00,\n",
       "        6.000e+00, 9.000e+00, 2.000e+00, 8.000e+00, 6.000e+00, 7.000e+00,\n",
       "        1.400e+01, 1.300e+01, 2.400e+01, 2.300e+01, 3.900e+01, 3.100e+01,\n",
       "        5.200e+01, 5.700e+01, 6.800e+01, 9.200e+01, 9.400e+01, 8.500e+01,\n",
       "        1.330e+02, 1.370e+02, 1.630e+02, 1.950e+02, 2.380e+02, 2.380e+02,\n",
       "        2.980e+02, 3.370e+02, 3.730e+02, 4.460e+02, 5.200e+02, 5.040e+02,\n",
       "        6.810e+02, 7.290e+02, 7.650e+02, 8.970e+02, 1.005e+03, 1.031e+03,\n",
       "        1.176e+03, 1.258e+03, 1.374e+03, 1.515e+03, 1.638e+03, 1.726e+03,\n",
       "        1.933e+03, 2.069e+03, 2.255e+03, 2.307e+03, 2.424e+03, 2.660e+03,\n",
       "        2.811e+03, 2.933e+03, 3.085e+03, 3.346e+03, 3.436e+03, 3.541e+03,\n",
       "        3.654e+03, 3.829e+03, 4.018e+03, 4.169e+03, 4.066e+03, 4.222e+03,\n",
       "        4.329e+03, 4.388e+03, 4.338e+03, 4.393e+03, 4.458e+03, 4.398e+03,\n",
       "        4.341e+03, 4.069e+03, 3.486e+03, 3.100e+03, 2.530e+03, 2.095e+03,\n",
       "        1.275e+03, 9.500e+02, 5.730e+02, 4.390e+02, 2.930e+02, 1.520e+02,\n",
       "        1.200e+02, 6.000e+01, 5.400e+01, 5.200e+01, 1.700e+01, 1.900e+01,\n",
       "        9.000e+00, 1.400e+01, 3.000e+00, 7.000e+00]),\n",
       " array([-56.05501556, -55.36997223, -54.68492889, -53.99988556,\n",
       "        -53.31484222, -52.62979889, -51.94475555, -51.25971222,\n",
       "        -50.57466888, -49.88962555, -49.20458221, -48.51953888,\n",
       "        -47.83449554, -47.14945221, -46.46440887, -45.77936554,\n",
       "        -45.0943222 , -44.40927887, -43.72423553, -43.0391922 ,\n",
       "        -42.35414886, -41.66910553, -40.98406219, -40.29901886,\n",
       "        -39.61397552, -38.92893219, -38.24388885, -37.55884552,\n",
       "        -36.87380219, -36.18876266, -35.50371933, -34.81867599,\n",
       "        -34.13363266, -33.44858932, -32.76354599, -32.07850266,\n",
       "        -31.39345741, -30.70841408, -30.02337074, -29.33832741,\n",
       "        -28.65328407, -27.96824074, -27.2831974 , -26.59815598,\n",
       "        -25.91311264, -25.22806931, -24.54302597, -23.85798264,\n",
       "        -23.1729393 , -22.48789597, -21.80285263, -21.1178093 ,\n",
       "        -20.43276596, -19.74772263, -19.06267929, -18.37763596,\n",
       "        -17.69259262, -17.00754929, -16.32250595, -15.63746262,\n",
       "        -14.95241928, -14.26737595, -13.58233261, -12.89728928,\n",
       "        -12.21224594, -11.52720356, -10.84216022, -10.15711689,\n",
       "         -9.47207355,  -8.78703022,  -8.10198689,  -7.41694355,\n",
       "         -6.73190022,  -6.04685688,  -5.36181355,  -4.67677021,\n",
       "         -3.99172711,  -3.30668402,  -2.62164068,  -1.93659735,\n",
       "         -1.25155413,  -0.56651086,   0.11853243,   0.80357569,\n",
       "          1.48861897,   2.17366219,   2.85870552,   3.54374886,\n",
       "          4.22879219,   4.91383553,   5.59887838,   6.28392172,\n",
       "          6.96896505,   7.65400839,   8.33905125,   9.02409458,\n",
       "          9.70913792,  10.39418125,  11.07922459,  11.76426792,\n",
       "         12.44931126]),\n",
       " <BarContainer object of 100 artists>)"
      ]
     },
     "execution_count": 11,
     "metadata": {},
     "output_type": "execute_result"
    },
    {
     "data": {
      "image/png": "[encoded data removed]",
      "text/plain": [
       "<Figure size 640x480 with 1 Axes>"
      ]
     },
     "metadata": {},
     "output_type": "display_data"
    }
   ],
   "source": [
    "# val_grad_fn = jax.value_and_grad(A_star_cond_log_post, argnums=0, has_aux=True) \n",
    "val_grad_fn = jax.value_and_grad(A_star_cond_log_post_with_Y, argnums=0, has_aux=True) \n",
    "\n",
    "# (sum_logprob, log_prob), gradient = val_grad_fn(triu_star, triu_obs, df_edges, theta, gamma)\n",
    "(sum_logprob, log_prob), gradient = val_grad_fn(triu_star, triu_obs, df_edges, theta, gamma, Y, x, Z, eta)\n",
    "print(log_prob.shape, gradient.shape)\n",
    "print(sum_logprob, \"\\n\", gradient[1:10])\n",
    "\n",
    "# create histogram of gradient\n",
    "\n",
    "plt.hist(gradient, bins=100)"
   ]
  },
  {
   "cell_type": "code",
   "execution_count": 51,
   "metadata": {},
   "outputs": [],
   "source": [
    "# create a function that `flip` triu_star value (0->1, 1->0), each at a time\n",
    "#  and for each flip compute difference in log prob (sum)\n",
    "\n",
    "@jax.jit\n",
    "def edge_flip_loglik(triu_star, triu_obs, df_edges, theta, gamma, idx):\n",
    "    new_triu_star = triu_star.at[idx].set(1 - triu_star[idx])\n",
    "    _ ,log_prob = A_star_cond_log_post(new_triu_star[idx], triu_obs[idx], df_edges[idx,:], theta, gamma)\n",
    "    return log_prob\n",
    "    # return log_prob[idx]\n",
    "\n",
    "# now wrap for all idx\n",
    "\n",
    "@jax.jit\n",
    "def flip_triu_star_all(triu_star, triu_obs, df_edges, theta, gamma, idx_set):\n",
    "    return jnp.array([edge_flip_loglik(triu_star, triu_obs, df_edges, theta, gamma, idx) for idx in tqdm(idx_set)])"
   ]
  },
  {
   "cell_type": "code",
   "execution_count": 55,
   "metadata": {},
   "outputs": [
    {
     "name": "stdout",
     "output_type": "stream",
     "text": [
      "(124750,) (124750,)\n",
      "flip check True\n",
      "flip check 2 False\n",
      "manual flip time 0.22102999687194824\n",
      "(100,)\n"
     ]
    },
    {
     "name": "stderr",
     "output_type": "stream",
     "text": [
      "100%|██████████| 100/100 [00:00<00:00, 1946.06it/s]\n"
     ]
    },
    {
     "name": "stdout",
     "output_type": "stream",
     "text": [
      "func flip time 7.153838157653809\n",
      "(100,)\n",
      "True\n"
     ]
    },
    {
     "data": {
      "text/plain": [
       "<matplotlib.collections.PathCollection at 0x2a48f071c90>"
      ]
     },
     "execution_count": 55,
     "metadata": {},
     "output_type": "execute_result"
    },
    {
     "data": {
      "image/png": "[encoded data removed]",
      "text/plain": [
       "<Figure size 640x480 with 1 Axes>"
      ]
     },
     "metadata": {},
     "output_type": "display_data"
    }
   ],
   "source": [
    "# samples idx_set as 100 values from triu_star\n",
    "\n",
    "idx_set = random.choice(key, triu_dim, shape=(100,), replace=False)\n",
    "# print(idx_set)\n",
    "\n",
    "new_triu_star = triu_star.at[idx_set].set(1 - triu_star[idx_set])\n",
    "print(triu_star.shape, new_triu_star.shape)\n",
    "\n",
    "print(\"flip check\", jnp.allclose(new_triu_star[idx_set], 1 - triu_star[idx_set]))\n",
    "print(\"flip check 2\", jnp.allclose(new_triu_star[idx_set],triu_star[idx_set]))\n",
    "\n",
    "\n",
    "start = time.time()\n",
    "_, manual_flip_loglik = A_star_cond_log_post(new_triu_star[idx_set], \n",
    "                                             triu_obs[idx_set],\n",
    "                                               df_edges[idx_set,:],\n",
    "                                                theta, gamma)\n",
    "print(\"manual flip time\", time.time() - start)\n",
    "\n",
    "# manual_flip_loglik_min = manual_flip_loglik[idx_set]\n",
    "print(manual_flip_loglik.shape)\n",
    "# print(manual_flip_loglik_min.shape)\n",
    "\n",
    "start = time.time()\n",
    "func_flip_loglik = flip_triu_star_all(triu_star, triu_obs, df_edges, theta, gamma, idx_set)\n",
    "print(\"func flip time\", time.time() - start)\n",
    "\n",
    "print(func_flip_loglik.shape)\n",
    "\n",
    "print(jnp.allclose(manual_flip_loglik, func_flip_loglik))\n",
    "\n",
    "plt.scatter(manual_flip_loglik, func_flip_loglik)"
   ]
  },
  {
   "cell_type": "code",
   "execution_count": 12,
   "metadata": {},
   "outputs": [
    {
     "data": {
      "text/plain": [
       "[<matplotlib.lines.Line2D at 0x2996d352d10>]"
      ]
     },
     "execution_count": 12,
     "metadata": {},
     "output_type": "execute_result"
    },
    {
     "data": {
      "image/png": "[encoded data removed]",
      "text/plain": [
       "<Figure size 640x480 with 1 Axes>"
      ]
     },
     "metadata": {},
     "output_type": "display_data"
    }
   ],
   "source": [
    "#  manual diff\n",
    "\n",
    "# _, f_a = A_star_cond_log_post(triu_star, triu_obs, df_edges, theta, gamma)\n",
    "# _, f_a_tag = A_star_cond_log_post(1-triu_star, triu_obs, df_edges, theta, gamma)\n",
    "_, f_a = A_star_cond_log_post_with_Y(triu_star, triu_obs, df_edges, theta, gamma, Y, x, Z, eta)\n",
    "_, f_a_tag = A_star_cond_log_post_with_Y(1-triu_star, triu_obs, df_edges, theta, gamma, Y, x, Z, eta)\n",
    "\n",
    "grad_manual = f_a_tag - f_a\n",
    "\n",
    "# score_grad = jnp.sum(-(2*triu_star-1)*gradient)\n",
    "score_grad = -(2*triu_star-1)*gradient\n",
    "\n",
    "# plt.hist(score_grad, bins=100)\n",
    "plt.scatter(grad_manual, score_grad)\n",
    "#  add y~x line\n",
    "plt.plot([min(grad_manual), max(grad_manual)], [min(grad_manual), max(grad_manual)], color='red')\n",
    "# plt.hist(grad_manual - score_grad, bins=100)"
   ]
  },
  {
   "cell_type": "code",
   "execution_count": 15,
   "metadata": {},
   "outputs": [
    {
     "data": {
      "text/plain": [
       "(array([1.000e+00, 0.000e+00, 0.000e+00, 0.000e+00, 0.000e+00, 1.000e+00,\n",
       "        3.000e+00, 3.000e+00, 6.000e+00, 8.000e+00, 2.000e+00, 1.000e+01,\n",
       "        6.000e+00, 8.000e+00, 5.000e+00, 8.000e+00, 1.700e+01, 1.500e+01,\n",
       "        2.800e+01, 4.300e+01, 2.900e+01, 5.600e+01, 6.400e+01, 7.600e+01,\n",
       "        1.000e+02, 1.090e+02, 1.130e+02, 1.640e+02, 1.640e+02, 2.170e+02,\n",
       "        2.690e+02, 2.760e+02, 3.420e+02, 3.960e+02, 4.430e+02, 5.670e+02,\n",
       "        5.810e+02, 7.250e+02, 8.250e+02, 8.710e+02, 1.030e+03, 1.184e+03,\n",
       "        1.218e+03, 1.391e+03, 1.506e+03, 1.718e+03, 1.839e+03, 1.957e+03,\n",
       "        2.253e+03, 2.415e+03, 2.605e+03, 2.690e+03, 2.929e+03, 3.147e+03,\n",
       "        3.297e+03, 3.584e+03, 3.784e+03, 3.967e+03, 4.037e+03, 4.204e+03,\n",
       "        4.475e+03, 4.633e+03, 4.518e+03, 4.681e+03, 4.788e+03, 4.788e+03,\n",
       "        4.704e+03, 4.831e+03, 4.650e+03, 4.588e+03, 4.384e+03, 3.750e+03,\n",
       "        3.464e+03, 2.417e+03, 1.961e+03, 1.514e+03, 9.890e+02, 7.130e+02,\n",
       "        4.890e+02, 3.240e+02, 2.220e+02, 1.660e+02, 1.440e+02, 9.600e+01,\n",
       "        4.500e+01, 3.500e+01, 2.600e+01, 2.200e+01, 1.000e+01, 7.000e+00,\n",
       "        3.000e+00, 1.000e+00, 1.000e+00, 3.000e+00, 1.000e+00, 0.000e+00,\n",
       "        0.000e+00, 0.000e+00, 0.000e+00, 1.000e+00]),\n",
       " array([-56.05501556, -55.28134155, -54.50766373, -53.73398972,\n",
       "        -52.96031189, -52.18663788, -51.41296387, -50.63928604,\n",
       "        -49.86561203, -49.09193802, -48.31826019, -47.54458618,\n",
       "        -46.77091217, -45.99723434, -45.22356033, -44.44988251,\n",
       "        -43.6762085 , -42.90253448, -42.12885666, -41.35518265,\n",
       "        -40.58150482, -39.80783081, -39.0341568 , -38.26047897,\n",
       "        -37.48680496, -36.71313095, -35.93945312, -35.16577911,\n",
       "        -34.3921051 , -33.61842728, -32.84475327, -32.07107544,\n",
       "        -31.29740143, -30.52372551, -29.75004959, -28.97637558,\n",
       "        -28.20269966, -27.42902374, -26.65534973, -25.88167381,\n",
       "        -25.10799789, -24.33432198, -23.56064606, -22.78697205,\n",
       "        -22.01329613, -21.23962021, -20.4659462 , -19.69227028,\n",
       "        -18.91859436, -18.14491844, -17.37124252, -16.59756851,\n",
       "        -15.82389259, -15.05021667, -14.27654171, -13.50286674,\n",
       "        -12.72919083, -11.95551491, -11.18183994, -10.40816498,\n",
       "         -9.63448906,  -8.86081314,  -8.08713818,  -7.31346273,\n",
       "         -6.53978729,  -5.76611185,  -4.99243641,  -4.21876097,\n",
       "         -3.44508553,  -2.67141008,  -1.89773464,  -1.1240592 ,\n",
       "         -0.35038376,   0.42329168,   1.19696712,   1.97064257,\n",
       "          2.74431801,   3.51799345,   4.29166889,   5.06534433,\n",
       "          5.83901978,   6.61269522,   7.38637066,   8.16004562,\n",
       "          8.93372154,   9.70739746,  10.48107243,  11.25474739,\n",
       "         12.02842331,  12.80209923,  13.57577419,  14.34944916,\n",
       "         15.12312508,  15.89680099,  16.67047501,  17.44415092,\n",
       "         18.21782684,  18.99150276,  19.76517868,  20.53885269,\n",
       "         21.31252861]),\n",
       " <BarContainer object of 100 artists>)"
      ]
     },
     "execution_count": 15,
     "metadata": {},
     "output_type": "execute_result"
    },
    {
     "data": {
      "image/png": "[encoded data removed]",
      "text/plain": [
       "<Figure size 640x480 with 1 Axes>"
      ]
     },
     "metadata": {},
     "output_type": "display_data"
    }
   ],
   "source": [
    "plt.hist(score_grad, bins=100)"
   ]
  },
  {
   "cell_type": "code",
   "execution_count": 16,
   "metadata": {},
   "outputs": [
    {
     "name": "stderr",
     "output_type": "stream",
     "text": [
      "jax grad: 100%|██████████| 2000/2000 [00:21<00:00, 94.33it/s] \n"
     ]
    },
    {
     "name": "stdout",
     "output_type": "stream",
     "text": [
      "jax time:  21.23240041732788\n"
     ]
    },
    {
     "name": "stderr",
     "output_type": "stream",
     "text": [
      "manual grad: 100%|██████████| 2000/2000 [00:18<00:00, 109.44it/s]"
     ]
    },
    {
     "name": "stdout",
     "output_type": "stream",
     "text": [
      "manual time:  18.275511741638184\n"
     ]
    },
    {
     "name": "stderr",
     "output_type": "stream",
     "text": [
      "\n"
     ]
    }
   ],
   "source": [
    "# compare jax grad with manual grad running time by changing theta[0] values \n",
    "\n",
    "\n",
    "start = time.time()\n",
    "for theta_0 in tqdm(jnp.arange(-3, -1, 0.001), desc = \"jax grad\"):\n",
    "    c_theta = jnp.array([theta_0, 1.5])\n",
    "    # (_, _), gradient = val_grad_fn(triu_star, triu_obs, df_edges, c_theta, gamma)\n",
    "    (_, _), gradient = val_grad_fn(triu_star, triu_obs, df_edges, c_theta, gamma, Y, x, Z, eta)\n",
    "\n",
    "print(\"jax time: \", time.time() - start)\n",
    "\n",
    "start = time.time()\n",
    "for theta_0 in tqdm(jnp.arange(-3, -1, 0.001), desc = \"manual grad\"):\n",
    "    c_theta = np.array([theta_0, 1.5])\n",
    "    _, f_a = A_star_cond_log_post_with_Y(triu_star, triu_obs, df_edges, c_theta, gamma, Y, x, Z, eta)\n",
    "    _, f_a_tag = A_star_cond_log_post_with_Y(1-triu_star, triu_obs, df_edges, c_theta, gamma, Y, x, Z, eta)\n",
    "    # _, f_a = A_star_cond_log_post(triu_star, triu_obs, df_edges, c_theta, gamma)\n",
    "    # _, f_a_tag = A_star_cond_log_post(1-triu_star, triu_obs, df_edges, c_theta, gamma)\n",
    "    grad_manual = f_a_tag - f_a\n",
    "\n",
    "print(\"manual time: \", time.time() - start)\n",
    "\n"
   ]
  },
  {
   "cell_type": "code",
   "execution_count": 10,
   "metadata": {},
   "outputs": [
    {
     "name": "stdout",
     "output_type": "stream",
     "text": [
      "(124750,) (124750,)\n"
     ]
    }
   ],
   "source": [
    "print(grad_manual.shape, gradient.shape)"
   ]
  },
  {
   "cell_type": "code",
   "execution_count": 18,
   "metadata": {},
   "outputs": [
    {
     "name": "stdout",
     "output_type": "stream",
     "text": [
      "min:  6.7267925e-13 max:  0.99997646 \n",
      " mean:  0.12435323 median:  0.012383345 \n",
      " q025:  5.64035e-07 q975:  0.8065115\n",
      "min:  9.103724e-14 max:  0.999826 \n",
      " mean:  0.038734272 median:  0.0016940422 \n",
      " q025:  7.6333954e-08 q975:  0.36066028\n"
     ]
    },
    {
     "data": {
      "text/plain": [
       "(array([59818.,  8377.,  4950.,  3594.,  2919.,  2388.,  2036.,  1784.,\n",
       "         1522.,  1431.,  1328.,  1223.,  1082.,  1093.,  1016.,   938.,\n",
       "          918.,   835.,   733.,   783.,   729.,   746.,   726.,   611.,\n",
       "          628.,   607.,   610.,   593.,   568.,   531.,   526.,   546.,\n",
       "          516.,   500.,   501.,   523.,   419.,   449.,   454.,   386.,\n",
       "          417.,   402.,   409.,   381.,   315.,   385.,   367.,   377.,\n",
       "          373.,   357.,   370.,   356.,   372.,   327.,   351.,   259.,\n",
       "          253.,   257.,   235.,   262.,   277.,   251.,   273.,   267.,\n",
       "          267.,   274.,   242.,   230.,   231.,   233.,   247.,   207.,\n",
       "          222.,   194.,   227.,   234.,   213.,   236.,   203.,   215.,\n",
       "          198.,   175.,   177.,   153.,   180.,   161.,   161.,   192.,\n",
       "          157.,   176.,   165.,   143.,   141.,   146.,   152.,   149.,\n",
       "          140.,   159.,   178.,   142.]),\n",
       " array([6.72679252e-13, 9.99976415e-03, 1.99995283e-02, 2.99992934e-02,\n",
       "        3.99990566e-02, 4.99988236e-02, 5.99985868e-02, 6.99983537e-02,\n",
       "        7.99981132e-02, 8.99978802e-02, 9.99976471e-02, 1.09997407e-01,\n",
       "        1.19997174e-01, 1.29996940e-01, 1.39996707e-01, 1.49996474e-01,\n",
       "        1.59996226e-01, 1.69995993e-01, 1.79995760e-01, 1.89995527e-01,\n",
       "        1.99995294e-01, 2.09995061e-01, 2.19994813e-01, 2.29994580e-01,\n",
       "        2.39994347e-01, 2.49994114e-01, 2.59993881e-01, 2.69993633e-01,\n",
       "        2.79993415e-01, 2.89993167e-01, 2.99992949e-01, 3.09992701e-01,\n",
       "        3.19992453e-01, 3.29992235e-01, 3.39991987e-01, 3.49991769e-01,\n",
       "        3.59991521e-01, 3.69991302e-01, 3.79991055e-01, 3.89990807e-01,\n",
       "        3.99990588e-01, 4.09990340e-01, 4.19990122e-01, 4.29989874e-01,\n",
       "        4.39989626e-01, 4.49989408e-01, 4.59989160e-01, 4.69988942e-01,\n",
       "        4.79988694e-01, 4.89988476e-01, 4.99988228e-01, 5.09988010e-01,\n",
       "        5.19987762e-01, 5.29987514e-01, 5.39987266e-01, 5.49987078e-01,\n",
       "        5.59986830e-01, 5.69986582e-01, 5.79986334e-01, 5.89986086e-01,\n",
       "        5.99985898e-01, 6.09985650e-01, 6.19985402e-01, 6.29985154e-01,\n",
       "        6.39984906e-01, 6.49984717e-01, 6.59984469e-01, 6.69984221e-01,\n",
       "        6.79983974e-01, 6.89983726e-01, 6.99983537e-01, 7.09983289e-01,\n",
       "        7.19983041e-01, 7.29982793e-01, 7.39982605e-01, 7.49982357e-01,\n",
       "        7.59982109e-01, 7.69981861e-01, 7.79981613e-01, 7.89981425e-01,\n",
       "        7.99981177e-01, 8.09980929e-01, 8.19980681e-01, 8.29980433e-01,\n",
       "        8.39980245e-01, 8.49979997e-01, 8.59979749e-01, 8.69979501e-01,\n",
       "        8.79979253e-01, 8.89979064e-01, 8.99978817e-01, 9.09978569e-01,\n",
       "        9.19978321e-01, 9.29978132e-01, 9.39977884e-01, 9.49977636e-01,\n",
       "        9.59977388e-01, 9.69977140e-01, 9.79976952e-01, 9.89976704e-01,\n",
       "        9.99976456e-01]),\n",
       " <BarContainer object of 100 artists>)"
      ]
     },
     "execution_count": 18,
     "metadata": {},
     "output_type": "execute_result"
    },
    {
     "data": {
      "image/png": "[encoded data removed]",
      "text/plain": [
       "<Figure size 640x480 with 1 Axes>"
      ]
     },
     "metadata": {},
     "output_type": "display_data"
    }
   ],
   "source": [
    "# grad_on_idx = (f_a_tag - f_a)/2\n",
    "grad_on_idx = score_grad / 2\n",
    "\n",
    "flip_probs = jnp.exp(grad_on_idx) / (jnp.exp(grad_on_idx) + 1)\n",
    "\n",
    "# print summary of probs\n",
    "print(\"min: \", jnp.min(flip_probs), \"max: \", jnp.max(flip_probs), \"\\n\",\n",
    "      \"mean: \", jnp.mean(flip_probs),\n",
    "      \"median: \", jnp.median(flip_probs), \"\\n\",\n",
    "      \"q025: \", jnp.quantile(flip_probs, 0.025),\n",
    "        \"q975: \", jnp.quantile(flip_probs, 0.975))\n",
    "\n",
    "flip_probs_rate = jnp.exp(grad_on_idx - 2) / (jnp.exp(grad_on_idx - 2) + 1)\n",
    "\n",
    "# print summary of probs\n",
    "print(\"min: \", jnp.min(flip_probs_rate), \"max: \", jnp.max(flip_probs_rate), \"\\n\",\n",
    "      \"mean: \", jnp.mean(flip_probs_rate),\n",
    "      \"median: \", jnp.median(flip_probs_rate), \"\\n\",\n",
    "      \"q025: \", jnp.quantile(flip_probs_rate, 0.025),\n",
    "        \"q975: \", jnp.quantile(flip_probs_rate, 0.975))\n",
    "\n",
    "plt.hist(flip_probs, bins=100)"
   ]
  },
  {
   "cell_type": "code",
   "execution_count": 19,
   "metadata": {},
   "outputs": [
    {
     "name": "stdout",
     "output_type": "stream",
     "text": [
      "0.03851703 4805\n"
     ]
    }
   ],
   "source": [
    "# sample uniform[0,1] with dim as flip_probs_rate\n",
    "# and compare with flip_probs_rate\n",
    "flip_edges = random.uniform(key, shape=(triu_dim,)) < flip_probs_rate\n",
    "print(flip_edges.mean(), flip_edges.sum())\n"
   ]
  },
  {
   "cell_type": "code",
   "execution_count": 52,
   "metadata": {},
   "outputs": [
    {
     "name": "stdout",
     "output_type": "stream",
     "text": [
      "0.21046884 210.46883\n",
      "0.03380498\n",
      "9.357623e-14\n"
     ]
    },
    {
     "data": {
      "image/png": "[encoded data removed]",
      "text/plain": [
       "<Figure size 640x480 with 1 Axes>"
      ]
     },
     "metadata": {},
     "output_type": "display_data"
    }
   ],
   "source": [
    "idxs = random.choice(key, triu_dim, shape=(1000,), replace=False)\n",
    "prop_triu = triu_star.at[idxs].set(1 - triu_star[idxs])\n",
    "\n",
    "_, tst_grad = val_grad_fn(triu_star, triu_obs, df_edges,\n",
    "                                            theta, gamma, Y, x, Z, eta)\n",
    "tst_grad = tst_grad[idxs]\n",
    "\n",
    "temp_ratio = jnp.exp((-(2*triu_star[idxs]-1)*tst_grad)/2. - 2)\n",
    "print(temp_ratio.mean(), temp_ratio.sum())\n",
    "temp_ratio = jnp.clip(temp_ratio, -30, 30)\n",
    "temp_prob = temp_ratio / (temp_ratio + 1)\n",
    "print(temp_prob.mean())\n",
    "\n",
    "plt.hist(temp_prob)\n",
    "\n",
    "print(jnp.exp(-30) / (jnp.exp(-30) + 1))"
   ]
  },
  {
   "cell_type": "code",
   "execution_count": 53,
   "metadata": {},
   "outputs": [],
   "source": [
    "TRIU_LEN = triu_star.shape[0]\n",
    "BATCH_PROP = .1\n",
    "BATCH_LEN = int(TRIU_LEN * BATCH_PROP)\n",
    "# BATCH_LEN = 100\n",
    "\n",
    "\n",
    "@jax.jit\n",
    "def triu_star_update(triu_star, triu_obs, df_edges, theta, gamma,\n",
    "                      Y, X, Z, eta, key, alpha = 0, eps = 1e-10):\n",
    "    \n",
    "    key1, key2, key3 = random.split(key, 3)\n",
    "    # batch_size = (triu_star.shape[0]*batch_prop).astype(int)\n",
    "    # sample mini-batch for potential edge flip\n",
    "    idx_set = random.choice(key1, TRIU_LEN, \n",
    "                            shape=(BATCH_LEN,),\n",
    "                              replace=False)\n",
    "    # proposed raw new triu_star with edged flipped\n",
    "    # proposed_triu_star = triu_star.at[idx_set].set(1 - triu_star[idx_set])\n",
    "\n",
    "    # compute \\tilde{f}(A*_t)\n",
    "    # _, baseline_edge_loglik = A_star_cond_log_post(triu_star[idx_set],\n",
    "    #                                                 triu_obs[idx_set],\n",
    "    #                                                 df_edges[idx_set,:],\n",
    "    #                                                 theta, gamma)\n",
    "    # # compute \\tilde{f}(\\tilde{A}*_t)\n",
    "    # _, proposed_edge_loglik = A_star_cond_log_post(proposed_triu_star[idx_set],\n",
    "    #                                                 triu_obs[idx_set],\n",
    "    #                                                 df_edges[idx_set,:],\n",
    "    #                                                 theta, gamma)\n",
    "    # Approximate with gradient\n",
    "    (_,_), baseline_edge_loglik = val_grad_fn(triu_star, triu_obs, df_edges,\n",
    "                                            theta, gamma, Y, x, Z, eta)\n",
    "    baseline_edge_loglik = baseline_edge_loglik[idx_set]\n",
    "    print(baseline_edge_loglik.shape)\n",
    "    # compute \\tilde{f}(\\tilde{A}*_t)\n",
    "    # (_,_), proposed_edge_loglik = val_grad_fn(proposed_triu_star, triu_obs, df_edges,\n",
    "    #                                         theta, gamma, Y, x, Z, eta)[idx_set]\n",
    "   \n",
    "    # compute g(exp(d(\\tilde{A}*_t, A*_t))) for g(a) = \\sqrt{a} \n",
    "    # TODO: add step size by subtracting within the exp some rate $\\alpha$ (can be adaptive)\n",
    "    # temp_lik_ratio = jnp.exp((proposed_edge_loglik - baseline_edge_loglik)/2. - alpha)\n",
    "    temp_lik_ratio = jnp.exp((-(2*triu_star[idx_set]-1)*baseline_edge_loglik)/2. - alpha)\n",
    "    temp_lik_ratio = jnp.clip(temp_lik_ratio, -30, 30)\n",
    "\n",
    "    # compute proposal probabilities q(\\tilde{A}*_t|A*_t) \\propto Softmax(exp(d(\\tilde{A}*_t, A*_t)/2))\n",
    "    forward_flip_probs = temp_lik_ratio / (temp_lik_ratio + 1)\n",
    "    # sample flip indicator I\n",
    "    flip_indicator = random.uniform(key2, shape=(BATCH_LEN,)) < forward_flip_probs\n",
    "    # compute combined forward proposal q(\\tilde{A}*_t|A*_t)\n",
    "    forward_probs = forward_flip_probs * flip_indicator + (1 - forward_flip_probs) * (1 - flip_indicator)\n",
    "    forward_proposal = jnp.sum(jnp.log(forward_probs + eps)) \n",
    "\n",
    "    # new proposed triu_star (after deciding which edges to flip)\n",
    "    # it is proposed_triu_star with flipped edges only where flip_indicator is True\n",
    "    new_triu_star = triu_star.at[idx_set].set(flip_indicator * (1 - triu_star[idx_set]) +\n",
    "                                              (1 - flip_indicator) * triu_star[idx_set])\n",
    "\n",
    "    \n",
    "    # Backward proposal\n",
    "    # _, new_edge_loglik = A_star_cond_log_post(new_triu_star[idx_set],\n",
    "    #                                           triu_obs[idx_set],\n",
    "    #                                           df_edges[idx_set,:],\n",
    "    #                                           theta, gamma) \n",
    "    (_,_), new_edge_loglik = val_grad_fn(new_triu_star, triu_obs, df_edges,\n",
    "                                            theta, gamma, Y, x, Z, eta)\n",
    "    new_edge_loglik = new_edge_loglik[idx_set]\n",
    "    # TODO: save here for step size $\\alpha$\n",
    "    # backward_temp_lik_ratio = jnp.exp((baseline_edge_loglik - proposed_edge_loglik)/2.)\n",
    "    # backward_temp_lik_ratio = jnp.exp((baseline_edge_loglik - new_edge_loglik)/2. - alpha)\n",
    "    backward_temp_lik_ratio = jnp.exp((-(2*triu_star[idx_set]-1)*new_edge_loglik)/2. - alpha)\n",
    "    backward_temp_lik_ratio = jnp.clip(backward_temp_lik_ratio, -30, 30)\n",
    "\n",
    "    # backward_temp_lik_ratio = jnp.exp((baseline_edge_loglik - proposed_edge_loglik)/2. - alpha)\n",
    "    backward_flip_probs = backward_temp_lik_ratio / (backward_temp_lik_ratio + 1)\n",
    "    backward_probs = backward_flip_probs * flip_indicator + (1 - backward_flip_probs) * (1 - flip_indicator)\n",
    "    backward_proposal = jnp.sum(jnp.log(backward_probs + eps))\n",
    "\n",
    "    # compute full (f) log-posterior diff $f(A*_new) - f(A*_baseline)$\n",
    "    # f_baseline, _ = A_star_cond_log_post(triu_star, triu_obs, df_edges,\n",
    "    #                                              theta, gamma)\n",
    "    # f_proposed, _ = A_star_cond_log_post(new_triu_star, triu_obs, df_edges,\n",
    "    #                                               theta, gamma)\n",
    "    f_baseline, _ = A_star_cond_log_post_with_Y(triu_star, triu_obs, df_edges,\n",
    "                                                 theta, gamma,\n",
    "                                                 Y, X, Z, eta)\n",
    "    f_proposed, _ = A_star_cond_log_post_with_Y(new_triu_star, triu_obs, df_edges,\n",
    "                                                  theta, gamma,\n",
    "                                                  Y, X, Z, eta)\n",
    "    \n",
    "#     print(\"forward proposal: \", forward_proposal, \"\\n\",\n",
    "#            \"backward proposal: \", backward_proposal)\n",
    "    # compute acceptance ratio\n",
    "    acceptance_ratio = jnp.clip(jnp.exp(f_proposed - f_baseline + backward_proposal - forward_proposal),\n",
    "                                a_max=1)\n",
    "    # TODO: save acceptance ratio for diagnostics and adaptive step size\n",
    "    # accept or reject\n",
    "    accept = random.uniform(key3) <= acceptance_ratio\n",
    "\n",
    "    # if i % 100 == 0:\n",
    "    #     print(\"prop flipped from possible: \", flip_indicator.mean(), \"; total:\" , flip_indicator.sum())\n",
    "    #     print(\"Update triu_star: \", accept, \"; Acceptance prob:\", acceptance_ratio)\n",
    "    #     print(\"full posterior diff: \", f_proposed - f_baseline)\n",
    "    #     print(\"reverse proposal diff\", backward_proposal - forward_proposal)\n",
    "#     print(\"Update triu_star: \", accept, \"; Acceptance prob:\", acceptance_ratio)\n",
    "    # update triu_star\n",
    "    new_triu_star = jax.lax.select(accept, new_triu_star, triu_star)\n",
    "    return new_triu_star,idx_set,forward_flip_probs.mean(), acceptance_ratio, flip_indicator.mean(), f_proposed - f_baseline, backward_proposal - forward_proposal, temp_lik_ratio.mean()\n",
    "    \n",
    "     "
   ]
  },
  {
   "cell_type": "code",
   "execution_count": 54,
   "metadata": {},
   "outputs": [
    {
     "name": "stderr",
     "output_type": "stream",
     "text": [
      "  0%|          | 0/1000 [00:00<?, ?it/s]"
     ]
    },
    {
     "name": "stdout",
     "output_type": "stream",
     "text": [
      "(12475,)\n"
     ]
    },
    {
     "name": "stderr",
     "output_type": "stream",
     "text": [
      "  0%|          | 2/1000 [00:03<22:00,  1.32s/it]"
     ]
    },
    {
     "name": "stdout",
     "output_type": "stream",
     "text": [
      "key:  [3983299879 1741180289]\n",
      "idx_set:  [ 63662  72723  24030 ... 110564 124194 102044]\n",
      "flip prob mean:  0.14579067\n",
      "Acceptance rate:  1.0\n",
      "prop flipped from possible:  0.14541082\n",
      "full posterior diff:  342290.12\n",
      "reverse proposal diff -58.498657\n",
      "temp lik ratio mean:  3.7810504\n"
     ]
    },
    {
     "name": "stderr",
     "output_type": "stream",
     "text": [
      " 10%|█         | 102/1000 [00:14<01:37,  9.18it/s]"
     ]
    },
    {
     "name": "stdout",
     "output_type": "stream",
     "text": [
      "key:  [ 516323639 1895465887]\n",
      "idx_set:  [ 25572  68371  16849 ...  83807  40074 120490]\n",
      "flip prob mean:  0.1294082\n",
      "Acceptance rate:  0.0\n",
      "prop flipped from possible:  0.13058117\n",
      "full posterior diff:  -13850.359\n",
      "reverse proposal diff -17381.281\n",
      "temp lik ratio mean:  2.7156081\n"
     ]
    },
    {
     "name": "stderr",
     "output_type": "stream",
     "text": [
      " 20%|██        | 203/1000 [00:26<01:25,  9.35it/s]"
     ]
    },
    {
     "name": "stdout",
     "output_type": "stream",
     "text": [
      "key:  [ 996144402 3412982269]\n",
      "idx_set:  [119596  25752 120622 ...  59611  16124  98751]\n",
      "flip prob mean:  0.12722906\n",
      "Acceptance rate:  0.0\n",
      "prop flipped from possible:  0.12881763\n",
      "full posterior diff:  -6886.7188\n",
      "reverse proposal diff -16809.83\n",
      "temp lik ratio mean:  2.630062\n"
     ]
    },
    {
     "name": "stderr",
     "output_type": "stream",
     "text": [
      " 30%|███       | 302/1000 [00:38<01:21,  8.61it/s]"
     ]
    },
    {
     "name": "stdout",
     "output_type": "stream",
     "text": [
      "key:  [1094682674 4110697194]\n",
      "idx_set:  [112969  48109  47503 ...  82470  41412  82916]\n",
      "flip prob mean:  0.13180557\n",
      "Acceptance rate:  0.0\n",
      "prop flipped from possible:  0.1323447\n",
      "full posterior diff:  -9262.734\n",
      "reverse proposal diff -17174.695\n",
      "temp lik ratio mean:  2.801608\n"
     ]
    },
    {
     "name": "stderr",
     "output_type": "stream",
     "text": [
      " 40%|████      | 402/1000 [00:50<01:09,  8.62it/s]"
     ]
    },
    {
     "name": "stdout",
     "output_type": "stream",
     "text": [
      "key:  [2866972656 1765091880]\n",
      "idx_set:  [111433  13234 101902 ...  34114  52138  67010]\n",
      "flip prob mean:  0.126207\n",
      "Acceptance rate:  0.0\n",
      "prop flipped from possible:  0.12633267\n",
      "full posterior diff:  -2587.2812\n",
      "reverse proposal diff -15861.877\n",
      "temp lik ratio mean:  2.668129\n"
     ]
    },
    {
     "name": "stderr",
     "output_type": "stream",
     "text": [
      " 50%|█████     | 501/1000 [01:01<00:55,  8.96it/s]"
     ]
    },
    {
     "name": "stdout",
     "output_type": "stream",
     "text": [
      "key:  [ 212356436 1493059994]\n",
      "idx_set:  [ 11847 104951  39272 ... 112626   3865  33692]\n",
      "flip prob mean:  0.13119178\n",
      "Acceptance rate:  0.0\n",
      "prop flipped from possible:  0.13058117\n",
      "full posterior diff:  -11734.094\n",
      "reverse proposal diff -16006.497\n",
      "temp lik ratio mean:  2.695559\n"
     ]
    },
    {
     "name": "stderr",
     "output_type": "stream",
     "text": [
      " 60%|██████    | 602/1000 [01:13<00:40,  9.94it/s]"
     ]
    },
    {
     "name": "stdout",
     "output_type": "stream",
     "text": [
      "key:  [3552903402 1629556858]\n",
      "idx_set:  [109235 102662  14929 ...  45546  38973  58941]\n",
      "flip prob mean:  0.12962984\n",
      "Acceptance rate:  0.0\n",
      "prop flipped from possible:  0.12825651\n",
      "full posterior diff:  -15464.8125\n",
      "reverse proposal diff -16788.268\n",
      "temp lik ratio mean:  2.6595771\n"
     ]
    },
    {
     "name": "stderr",
     "output_type": "stream",
     "text": [
      " 70%|███████   | 703/1000 [01:24<00:30,  9.77it/s]"
     ]
    },
    {
     "name": "stdout",
     "output_type": "stream",
     "text": [
      "key:  [2206977081 2498148289]\n",
      "idx_set:  [ 61250  50632  61601 ... 102822  43218  22061]\n",
      "flip prob mean:  0.13209929\n",
      "Acceptance rate:  0.0\n",
      "prop flipped from possible:  0.13130261\n",
      "full posterior diff:  -7531.9062\n",
      "reverse proposal diff -16734.46\n",
      "temp lik ratio mean:  2.755251\n"
     ]
    },
    {
     "name": "stderr",
     "output_type": "stream",
     "text": [
      " 80%|████████  | 802/1000 [01:34<00:19, 10.17it/s]"
     ]
    },
    {
     "name": "stdout",
     "output_type": "stream",
     "text": [
      "key:  [3108064220 2234575401]\n",
      "idx_set:  [86681 94939 25330 ... 67077 29568 16991]\n",
      "flip prob mean:  0.12958942\n",
      "Acceptance rate:  0.0\n",
      "prop flipped from possible:  0.12985973\n",
      "full posterior diff:  -17969.906\n",
      "reverse proposal diff -17236.174\n",
      "temp lik ratio mean:  2.7565012\n"
     ]
    },
    {
     "name": "stderr",
     "output_type": "stream",
     "text": [
      " 90%|█████████ | 902/1000 [01:44<00:11,  8.84it/s]"
     ]
    },
    {
     "name": "stdout",
     "output_type": "stream",
     "text": [
      "key:  [2642616066 2469148740]\n",
      "idx_set:  [  6676  65009 108139 ...   5818  43160  92345]\n",
      "flip prob mean:  0.12888388\n",
      "Acceptance rate:  0.0\n",
      "prop flipped from possible:  0.1288978\n",
      "full posterior diff:  -10024.453\n",
      "reverse proposal diff -16699.873\n",
      "temp lik ratio mean:  2.724593\n"
     ]
    },
    {
     "name": "stderr",
     "output_type": "stream",
     "text": [
      "100%|██████████| 1000/1000 [01:55<00:00,  8.63it/s]\n"
     ]
    }
   ],
   "source": [
    "# make noisy triu_star\n",
    "\n",
    "triu_star_noisy = (triu_star * random.binomial(key, n=1, p=0.9, shape=(triu_dim,)) +\n",
    "                   (1-triu_star) * random.binomial(key, n=1, p=0.1, shape=(triu_dim,)))\n",
    "\n",
    "# test A_star update\n",
    "# triu_len = triu_star_noisy.shape[0]\n",
    "# batch_prop = 0.5\n",
    "# batch_len = int(triu_len * batch_prop)\n",
    "# new_triu_star = triu_star_update(triu_star_noisy, triu_obs, df_edges,\n",
    "#                                   theta, gamma, Y, x, Z, eta, key,\n",
    "#                                    triu_len, batch_len)\n",
    "\n",
    "n_iter = 1000\n",
    "new_triu_star = triu_star_noisy\n",
    "exposures_lst = [compute_exposures(new_triu_star, Z)]\n",
    "for i in tqdm(range(int(n_iter))):\n",
    "    key, _ = random.split(key)\n",
    "    new_triu_star, idx_set, fprob, acc, ind, f_p, ftild_p, b = triu_star_update(new_triu_star, triu_obs, df_edges,\n",
    "                                      theta, gamma, Y, x, Z, eta, key)\n",
    "    exposures_lst.append(compute_exposures(new_triu_star, Z))\n",
    "    if i % 100 == 0:\n",
    "        print(\"key: \", key)\n",
    "        print(\"idx_set: \", idx_set)\n",
    "        print(\"flip prob mean: \", fprob)\n",
    "        print(\"Acceptance rate: \", acc.mean())\n",
    "        print(\"prop flipped from possible: \", ind)\n",
    "        print(\"full posterior diff: \", f_p)\n",
    "        print(\"reverse proposal diff\", ftild_p)\n",
    "        print(\"temp lik ratio mean: \", b)\n"
   ]
  },
  {
   "cell_type": "code",
   "execution_count": null,
   "metadata": {},
   "outputs": [],
   "source": [
    "# TODO: add adaptive step size for alpha to obtain acceptance rate (of edges flip) around 0.574 (optimal)\n",
    "# TODO: see tradeoff between number BATCH_LEN and acceptance rate\n",
    "# TODO: check if some terms are canceled in the final acceptance ratio due to the lack of use of the outcome model in edge propsal"
   ]
  },
  {
   "cell_type": "code",
   "execution_count": 55,
   "metadata": {},
   "outputs": [
    {
     "name": "stdout",
     "output_type": "stream",
     "text": [
      "(1001, 500)\n",
      "12.596001\n"
     ]
    },
    {
     "data": {
      "text/plain": [
       "[<matplotlib.lines.Line2D at 0x299716e0210>]"
      ]
     },
     "execution_count": 55,
     "metadata": {},
     "output_type": "execute_result"
    },
    {
     "data": {
      "image/png": "[encoded data removed]",
      "text/plain": [
       "<Figure size 640x480 with 1 Axes>"
      ]
     },
     "metadata": {},
     "output_type": "display_data"
    }
   ],
   "source": [
    "expos_arr = jnp.array(exposures_lst)\n",
    "print(expos_arr.shape)\n",
    "print(exposures.mean())\n",
    "# plt.scatter(expos_arr.mean(axis=1), jnp.ones(expos_arr.shape[0])*exposures.mean())\n",
    "# print(expos_arr.mean(axis=1))\n",
    "# create line plot of expos_arr.mean(axis=1) (y axis) vs the index (x axis)\n",
    "plt.plot(expos_arr.mean(axis=1))\n",
    "plt.plot(jnp.ones(expos_arr.shape[0])*exposures.mean(), color='red')"
   ]
  },
  {
   "cell_type": "code",
   "execution_count": 194,
   "metadata": {},
   "outputs": [
    {
     "data": {
      "text/plain": [
       "1247.5"
      ]
     },
     "execution_count": 194,
     "metadata": {},
     "output_type": "execute_result"
    }
   ],
   "source": [
    "TRIU_LEN*0.01"
   ]
  }
 ],
 "metadata": {
  "kernelspec": {
   "display_name": "Python 3",
   "language": "python",
   "name": "python3"
  },
  "language_info": {
   "codemirror_mode": {
    "name": "ipython",
    "version": 3
   },
   "file_extension": ".py",
   "mimetype": "text/x-python",
   "name": "python",
   "nbconvert_exporter": "python",
   "pygments_lexer": "ipython3",
   "version": "3.11.8"
  }
 },
 "nbformat": 4,
 "nbformat_minor": 2
}
